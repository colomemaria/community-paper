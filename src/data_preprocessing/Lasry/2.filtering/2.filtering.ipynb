{
 "cells": [
  {
   "cell_type": "markdown",
   "id": "52f852f5",
   "metadata": {},
   "source": [
    "# PART 2\n",
    "## Filter cells\n",
    "\n",
    "Cells with low library size and low number of genes will be filtered out.\n",
    "\n",
    "- **INPUT:**\n",
    "    - ```$counts.RData``` \n",
    "    - ```anno_cells.RData```\n",
    "    - ```anno_samples.RData```\n",
    "    - ```anno_genes.RData```\n",
    "    \n",
    "- **NOTES:**\n",
    "\n",
    "    The '_ctf' ending in the file names stands for cell type filter.\n",
    "    \n",
    "- **OUTPUT:**\n",
    "\n",
    "    -  ```counts_cf.RData``` \n",
    "    -  ```anno_cells_cf.RData``` \n",
    "    -  ```anno_samples_cf.RData``` \n",
    "    -  ```anno_genes_cf.RData``` "
   ]
  },
  {
   "cell_type": "code",
   "execution_count": 1,
   "id": "0c6dbd5c",
   "metadata": {
    "ExecuteTime": {
     "end_time": "2023-01-27T13:34:07.224385Z",
     "start_time": "2023-01-27T13:34:06.310Z"
    }
   },
   "outputs": [],
   "source": [
    "path_to_additional_files=\"../additional_input_files/\""
   ]
  },
  {
   "cell_type": "code",
   "execution_count": 2,
   "id": "a3944c8f",
   "metadata": {
    "ExecuteTime": {
     "end_time": "2023-01-27T13:34:07.389898Z",
     "start_time": "2023-01-27T13:34:06.341Z"
    }
   },
   "outputs": [],
   "source": [
    "library(\"ggplot2\")"
   ]
  },
  {
   "cell_type": "code",
   "execution_count": null,
   "id": "babaf2a0",
   "metadata": {
    "ExecuteTime": {
     "end_time": "2023-01-27T13:34:19.626205Z",
     "start_time": "2023-01-27T13:34:06.351Z"
    }
   },
   "outputs": [],
   "source": [
    "# load raw counts\n",
    "load(\"../1.preprocess_data/outs/counts.RData\")\n",
    "print(dim(counts))"
   ]
  },
  {
   "cell_type": "code",
   "execution_count": null,
   "id": "3270df4c",
   "metadata": {
    "ExecuteTime": {
     "end_time": "2023-01-27T13:34:19.877810Z",
     "start_time": "2023-01-27T13:34:06.356Z"
    }
   },
   "outputs": [],
   "source": [
    "# load cell annotation\n",
    "load(\"../1.preprocess_data/outs/anno_cells.RData\")\n",
    "rownames(anno_cells) <- anno_cells$cell_ID\n",
    "print(str(anno_cells))"
   ]
  },
  {
   "cell_type": "code",
   "execution_count": null,
   "id": "f8a5cd90",
   "metadata": {
    "ExecuteTime": {
     "end_time": "2023-01-27T13:34:19.954891Z",
     "start_time": "2023-01-27T13:34:06.363Z"
    }
   },
   "outputs": [],
   "source": [
    "# load sample annotation\n",
    "load(\"../1.preprocess_data/outs/anno_samples.RData\")\n",
    "print(str(anno_samples))"
   ]
  },
  {
   "cell_type": "code",
   "execution_count": null,
   "id": "5b691ff8",
   "metadata": {
    "ExecuteTime": {
     "end_time": "2023-01-27T13:34:20.059037Z",
     "start_time": "2023-01-27T13:34:06.368Z"
    }
   },
   "outputs": [],
   "source": [
    "# load gene annotation\n",
    "load(\"../1.preprocess_data/outs/anno_genes.RData\")\n",
    "print(str(anno_genes))"
   ]
  },
  {
   "cell_type": "markdown",
   "id": "27a31555",
   "metadata": {},
   "source": [
    "### Process data"
   ]
  },
  {
   "cell_type": "code",
   "execution_count": null,
   "id": "96b7f634",
   "metadata": {
    "ExecuteTime": {
     "end_time": "2023-01-27T13:34:20.102185Z",
     "start_time": "2023-01-27T13:34:06.373Z"
    }
   },
   "outputs": [],
   "source": [
    "# check whether the cell IDs are the same in the counts and cell annotation files\n",
    "cell_ID_overlap <- intersect(colnames(counts)\n",
    "                             ,anno_cells$cell_ID)\n",
    "print(\"str(cell_ID_overlap)\")\n",
    "print(str(cell_ID_overlap))"
   ]
  },
  {
   "cell_type": "code",
   "execution_count": null,
   "id": "7c49adc9",
   "metadata": {
    "ExecuteTime": {
     "end_time": "2023-01-27T13:34:20.146487Z",
     "start_time": "2023-01-27T13:34:06.381Z"
    }
   },
   "outputs": [],
   "source": [
    "# print out cells that are present in the raw counts, but not in the intersection\n",
    "print(str(colnames(counts)[!(colnames(counts) %in% cell_ID_overlap)]))"
   ]
  },
  {
   "cell_type": "code",
   "execution_count": null,
   "id": "ef179e70",
   "metadata": {
    "ExecuteTime": {
     "end_time": "2023-01-27T13:34:20.192302Z",
     "start_time": "2023-01-27T13:34:06.386Z"
    }
   },
   "outputs": [],
   "source": [
    "# print out cells that present in the cell annotation, but not in the intersection\n",
    "print(str(anno_cells$cell_ID[!(anno_cells$cell_ID %in% cell_ID_overlap)]))"
   ]
  },
  {
   "cell_type": "markdown",
   "id": "e4e57127",
   "metadata": {},
   "source": [
    "### filter"
   ]
  },
  {
   "cell_type": "code",
   "execution_count": null,
   "id": "3335721f",
   "metadata": {
    "ExecuteTime": {
     "end_time": "2023-01-27T13:34:20.250047Z",
     "start_time": "2023-01-27T13:34:06.391Z"
    }
   },
   "outputs": [],
   "source": [
    "# filter cells by their presence in the cell annotation file\n",
    "counts_cf <- counts[,anno_cells$cell_ID]\n",
    "print(\"nr cell before filtering\")\n",
    "print(ncol(counts))\n",
    "print(\"nr cell after filtering\")\n",
    "print(ncol(counts_cf))"
   ]
  },
  {
   "cell_type": "code",
   "execution_count": null,
   "id": "d10e2edd",
   "metadata": {
    "ExecuteTime": {
     "end_time": "2023-01-27T13:34:22.588423Z",
     "start_time": "2023-01-27T13:34:06.396Z"
    }
   },
   "outputs": [],
   "source": [
    "# calculate total counts\n",
    "anno_cells$total_counts_raw <- colSums(counts_cf)\n",
    "# calculate percent mito counts\n",
    "print(\"calculate fraction of mito counts\")\n",
    "idx_mito_gene <- grepl(\"MT-\", rownames(counts_cf))\n",
    "anno_cells$mito_counts <- colSums(counts_cf[idx_mito_gene,])\n",
    "anno_cells$frac_mito  <-  anno_cells$mito_counts / anno_cells$total_counts_raw"
   ]
  },
  {
   "cell_type": "code",
   "execution_count": null,
   "id": "61abc162",
   "metadata": {
    "ExecuteTime": {
     "end_time": "2023-01-27T13:34:24.606343Z",
     "start_time": "2023-01-27T13:34:06.401Z"
    }
   },
   "outputs": [],
   "source": [
    "# calculate nr genes\n",
    "anno_cells$nr_genes <- colSums(counts_cf != 0)"
   ]
  },
  {
   "cell_type": "markdown",
   "id": "f1fa94dd",
   "metadata": {},
   "source": [
    "### visualization"
   ]
  },
  {
   "cell_type": "code",
   "execution_count": null,
   "id": "6bd43654",
   "metadata": {
    "ExecuteTime": {
     "end_time": "2023-01-27T13:34:24.637629Z",
     "start_time": "2023-01-27T13:34:06.406Z"
    }
   },
   "outputs": [],
   "source": [
    "#cell filter thresholds\n",
    "anno_cells$counts_upper_threshold <- 30000\n",
    "anno_cells$counts_lower_threshold <- 1100\n",
    "anno_cells$genes_lower_threshold <- 500"
   ]
  },
  {
   "cell_type": "code",
   "execution_count": null,
   "id": "814dfb96",
   "metadata": {
    "ExecuteTime": {
     "end_time": "2023-01-27T13:34:24.728739Z",
     "start_time": "2023-01-27T13:34:06.411Z"
    }
   },
   "outputs": [],
   "source": [
    "print(paste(\"counts_upper_threshold: <\", anno_cells$counts_upper_threshold[1]))\n",
    "print(paste(\"counts_lower_threshold: >\",anno_cells$counts_lower_threshold[1]))\n",
    "print(paste(\"genes_lower_threshold: >\", anno_cells$genes_lower_threshold[1]))"
   ]
  },
  {
   "cell_type": "code",
   "execution_count": null,
   "id": "2870be42",
   "metadata": {
    "ExecuteTime": {
     "end_time": "2023-01-27T13:34:24.782262Z",
     "start_time": "2023-01-27T13:34:06.416Z"
    }
   },
   "outputs": [],
   "source": [
    "anno_cells$counts_upper_filter <- anno_cells$total_counts_raw < anno_cells$counts_upper_threshold\n",
    "anno_cells$counts_lower_filter <- anno_cells$total_counts_raw > anno_cells$counts_lower_threshold\n",
    "anno_cells$genes_lower_filter <- anno_cells$nr_genes > anno_cells$genes_lower_threshold\n",
    "anno_cells$cell_filter <- anno_cells$counts_upper_filter & anno_cells$counts_lower_filter & \n",
    "        anno_cells$genes_lower_filter"
   ]
  },
  {
   "cell_type": "code",
   "execution_count": null,
   "id": "cae21482",
   "metadata": {
    "ExecuteTime": {
     "end_time": "2023-01-27T13:34:25.864933Z",
     "start_time": "2023-01-27T13:34:06.421Z"
    }
   },
   "outputs": [],
   "source": [
    "# visualize expression before any filtering\n",
    "df <- data.frame(log10_lib_size = log10(anno_cells$total_counts_raw +1)\n",
    "                 ,sample_ID = anno_cells$sample_ID\n",
    ")\n",
    "print(str(df))\n",
    "\n",
    "print(ggplot(data = df\n",
    "             ,aes(x = sample_ID\n",
    "                  ,y = log10_lib_size\n",
    "             )\n",
    ") +\n",
    "        geom_jitter(height = NULL) +\n",
    "        geom_violin() + \n",
    "        ggtitle(\"log10 expression before cell filtering\") +\n",
    "        coord_flip() +\n",
    "        ylim(c(0,6))+\n",
    "        theme_bw()\n",
    ")\n",
    "rm(df)"
   ]
  },
  {
   "cell_type": "code",
   "execution_count": null,
   "id": "2d05396c",
   "metadata": {
    "ExecuteTime": {
     "end_time": "2023-01-27T13:34:26.834671Z",
     "start_time": "2023-01-27T13:34:06.428Z"
    }
   },
   "outputs": [],
   "source": [
    "# plot log10 total counts vs nr genes\n",
    "options(repr.plot.width = 5\n",
    "       ,repr.plot.height = 5.5)\n",
    "\n",
    "print(ggplot(data = anno_cells\n",
    "             ,aes(x = log10(total_counts_raw +1)\n",
    "                  ,y = nr_genes\n",
    "             )\n",
    ") +\n",
    "      geom_point(size = 0.05) +\n",
    "      stat_density_2d(aes(fill = ..level..), geom = \"polygon\", colour=\"white\"\n",
    "                     ,show.legend = FALSE) +\n",
    "      geom_vline(xintercept = log10(c(1100,30000)+1)\n",
    "                   ,col = \"red\") +\n",
    "      geom_hline(yintercept = 500\n",
    "                   ,col = \"red\") +\n",
    "      theme_bw()+\n",
    "      xlab(\"log10 library size\")+\n",
    "      ylab(\"number of genes\")+\n",
    "      theme(text = element_text(size = 18))  \n",
    ")"
   ]
  },
  {
   "cell_type": "code",
   "execution_count": null,
   "id": "60d1761d",
   "metadata": {
    "ExecuteTime": {
     "end_time": "2023-01-27T13:34:26.891769Z",
     "start_time": "2023-01-27T13:34:06.433Z"
    }
   },
   "outputs": [],
   "source": [
    "#apply cell filters\n",
    "anno_cells_cf <- anno_cells[anno_cells$cell_filter,]\n",
    "print(\"before cell filtering:\")\n",
    "cat(\"dim(anno_cells)\", dim(anno_cells),\"\\n\")\n",
    "print(\"after cell filtering:\")\n",
    "cat(\"dim(anno_cells_cf)\", dim(anno_cells_cf),\"\\n\")"
   ]
  },
  {
   "cell_type": "code",
   "execution_count": null,
   "id": "07680aaf",
   "metadata": {
    "ExecuteTime": {
     "end_time": "2023-01-27T13:34:28.145582Z",
     "start_time": "2023-01-27T13:34:06.438Z"
    }
   },
   "outputs": [],
   "source": [
    "# plot log10 total counts vs fraction mito counts\n",
    "print(ggplot(data = anno_cells_cf\n",
    "             ,aes(x = log10(total_counts_raw +1)\n",
    "                  ,y = frac_mito\n",
    "             )\n",
    ") +\n",
    "        geom_point(size = 0.05) +\n",
    "        stat_density_2d(aes(fill = ..level..), geom = \"polygon\", colour=\"white\") +\n",
    "        ggtitle(\"raw data\")+\n",
    "        theme_bw()\n",
    ")"
   ]
  },
  {
   "cell_type": "code",
   "execution_count": null,
   "id": "dc19925d",
   "metadata": {
    "ExecuteTime": {
     "end_time": "2023-01-27T13:34:28.232805Z",
     "start_time": "2023-01-27T13:34:06.447Z"
    }
   },
   "outputs": [],
   "source": [
    "# save cell number in anno_samples\n",
    "for(sample in unique(anno_cells$sample_ID)){\n",
    "        \n",
    "        my_anno <- anno_cells[anno_cells$sample_ID == sample,]\n",
    "        my_anno_cf <- anno_cells_cf[anno_cells_cf$sample_ID == sample,]\n",
    "        \n",
    "        anno_samples$nr_cells_raw[anno_samples$sample_ID == sample] <- nrow(my_anno)\n",
    "        anno_samples$nr_cells_cf[anno_samples$sample_ID == sample] <- nrow(my_anno_cf)\n",
    "}\n",
    "cat(\"anno_samples\\n\\n\")\n",
    "print(anno_samples)"
   ]
  },
  {
   "cell_type": "code",
   "execution_count": null,
   "id": "6259c60c",
   "metadata": {
    "ExecuteTime": {
     "end_time": "2023-01-27T13:34:28.332585Z",
     "start_time": "2023-01-27T13:34:06.453Z"
    }
   },
   "outputs": [],
   "source": [
    "# subset counts\n",
    "print(\"counts dim:\")\n",
    "print(\"before cell filtering:\")\n",
    "print(dim(counts_cf))\n",
    "print(\"subset counts\")\n",
    "counts_cf <- counts_cf[,anno_cells_cf$cell_ID]\n",
    "print(\"after cell filtering:\")\n",
    "print(dim(counts_cf))"
   ]
  },
  {
   "cell_type": "code",
   "execution_count": null,
   "id": "a2a2cfa2",
   "metadata": {
    "ExecuteTime": {
     "end_time": "2023-01-27T13:34:28.367716Z",
     "start_time": "2023-01-27T13:34:06.457Z"
    }
   },
   "outputs": [],
   "source": [
    "# visualize expression after cell filtering and before population size filtering\n",
    "df <- data.frame(log10_lib_size = log10(anno_cells_cf$total_counts_raw +1)\n",
    "                 ,sample_ID = anno_cells_cf$sample_ID\n",
    ")\n",
    "print(str(df))"
   ]
  },
  {
   "cell_type": "code",
   "execution_count": null,
   "id": "f8e3c252",
   "metadata": {
    "ExecuteTime": {
     "end_time": "2023-01-27T13:34:29.104995Z",
     "start_time": "2023-01-27T13:34:06.461Z"
    }
   },
   "outputs": [],
   "source": [
    "print(ggplot(data = df\n",
    "             ,aes(x = sample_ID\n",
    "                  ,y = log10_lib_size\n",
    "             )\n",
    ") +\n",
    "        geom_jitter(height = NULL) +\n",
    "        geom_violin() + \n",
    "        ggtitle(\"log10 expression after cell filtering\") +\n",
    "        coord_flip() +\n",
    "        ylim(c(0,6))+\n",
    "        theme_bw()\n",
    ")\n",
    "rm(df)"
   ]
  },
  {
   "cell_type": "code",
   "execution_count": null,
   "id": "50c56280",
   "metadata": {
    "ExecuteTime": {
     "end_time": "2023-01-27T13:34:29.131325Z",
     "start_time": "2023-01-27T13:34:06.465Z"
    }
   },
   "outputs": [],
   "source": [
    "anno_samples_cf <- anno_samples\n",
    "\n",
    "anno_genes_cf <- anno_genes"
   ]
  },
  {
   "cell_type": "markdown",
   "id": "4c5d3ac9",
   "metadata": {},
   "source": [
    "### export"
   ]
  },
  {
   "cell_type": "code",
   "execution_count": null,
   "id": "2e73ab9a",
   "metadata": {
    "ExecuteTime": {
     "end_time": "2023-01-27T13:34:29.152267Z",
     "start_time": "2023-01-27T13:34:06.470Z"
    }
   },
   "outputs": [],
   "source": [
    "# # save counts_cf\n",
    "# save(counts_cf, file = \"counts_cf.RData\")\n",
    "\n",
    "# # save anno_cells_cf\n",
    "# save(anno_cells_cf, file = \"anno_cells_cf.RData\")\n",
    "\n",
    "# # save anno_samples_cf\n",
    "# save(anno_samples_cf, file = \"anno_samples_cf.RData\")\n",
    "\n",
    "# # save anno_genes_cf\n",
    "# save(anno_genes_cf, file = \"anno_genes_cf.RData\")"
   ]
  },
  {
   "cell_type": "code",
   "execution_count": null,
   "id": "6865328f",
   "metadata": {},
   "outputs": [],
   "source": [
    "unique(anno_cells_cf$sample_ID)"
   ]
  },
  {
   "cell_type": "code",
   "execution_count": null,
   "id": "f3385d4f",
   "metadata": {},
   "outputs": [],
   "source": [
    "unique(anno_cells_cf$cell_type)"
   ]
  },
  {
   "cell_type": "code",
   "execution_count": null,
   "id": "d83bee4b",
   "metadata": {},
   "outputs": [],
   "source": [
    "unique(anno_samples$sample_ID)"
   ]
  },
  {
   "cell_type": "markdown",
   "id": "aaba6d18",
   "metadata": {},
   "source": [
    "## Filter cell types\n",
    "\n",
    "Cell types which have too few cells (less than 5 cells) per sample or are present in too few samples (less than in 30 samples) will be filtered out.\n",
    "\n",
    "- **INPUT:**\n",
    "    - ```counts_cf.RData``` \n",
    "    - ```anno_cells_cf.RData```\n",
    "    - ```anno_samples_cf.RData```\n",
    "    - ```anno_genes_cf.RData```\n",
    "    - ```cell_relabelling.csv``` file containing unified cell type annotations. Stored in additional_input_files sub-directory.\n",
    "    \n",
    "- **NOTES:**\n",
    "\n",
    "    The '_ctf' ending in the file names stands for cell type filter.\n",
    "    \n",
    "- **OUTPUT:**\n",
    "\n",
    "    -  ```counts_cf_ctf.RData``` \n",
    "    -  ```anno_cells_cf_ctf.RData``` \n",
    "    -  ```anno_samples_cf_ctf.RData``` \n",
    "    -  ```anno_genes_cf_ctf.RData``` "
   ]
  },
  {
   "cell_type": "code",
   "execution_count": null,
   "id": "1c54d163",
   "metadata": {
    "ExecuteTime": {
     "end_time": "2023-01-27T13:34:29.266338Z",
     "start_time": "2023-01-27T13:34:06.486Z"
    }
   },
   "outputs": [],
   "source": [
    "# load cell relabelling file\n",
    "print(\"load cell_relabelling\")\n",
    "\n",
    "file=\"../../cell_relabelling.csv\"\n",
    "cell_relabelling <- read.csv(file = paste(path_to_additional_files,file,sep=\"/\")\n",
    "                             ,sep = \";\"\n",
    ")\n",
    "\n",
    "cell_relabelling <- cell_relabelling[cell_relabelling$source==\"Lasry et al., 2022\",]\n",
    "\n",
    "# cell_relabelling <- cell_relabelling[!duplicated(cell_relabelling$cell_type_original),]\n",
    "rownames(cell_relabelling) <- cell_relabelling$cell_type_original\n",
    "print(cell_relabelling)"
   ]
  },
  {
   "cell_type": "code",
   "execution_count": null,
   "id": "14c06d6d",
   "metadata": {
    "ExecuteTime": {
     "end_time": "2023-01-27T13:34:29.304146Z",
     "start_time": "2023-01-27T13:34:06.495Z"
    }
   },
   "outputs": [],
   "source": [
    "# thresholds ####\n",
    "threshold_celltype_size <- 5 # cells per celltype\n",
    "print(paste(\"Celltype size filter: each cell type in each sample should have at least\", threshold_celltype_size, \"cells.\"))"
   ]
  },
  {
   "cell_type": "code",
   "execution_count": null,
   "id": "2a466986",
   "metadata": {
    "ExecuteTime": {
     "end_time": "2023-01-27T13:34:29.336946Z",
     "start_time": "2023-01-27T13:34:06.501Z"
    }
   },
   "outputs": [],
   "source": [
    "threshold_nr_samples <-12 # nr of samples in which a cell type should be present\n",
    "print(paste(\"Number of samples filter: each cell type should be present in at least\", threshold_nr_samples, \"samples.\"))"
   ]
  },
  {
   "cell_type": "code",
   "execution_count": null,
   "id": "faeea220",
   "metadata": {
    "ExecuteTime": {
     "end_time": "2023-01-27T13:34:29.370115Z",
     "start_time": "2023-01-27T13:34:06.505Z"
    }
   },
   "outputs": [],
   "source": [
    "# color scheme for celltypes\n",
    "color_celltype <- cell_relabelling$cell_type_color_hex[!duplicated(cell_relabelling$cell_type)]\n",
    "names(color_celltype) <- cell_relabelling$cell_type[!duplicated(cell_relabelling$cell_type)]\n",
    "print(color_celltype)"
   ]
  },
  {
   "cell_type": "code",
   "execution_count": null,
   "id": "05a1c7e2",
   "metadata": {
    "ExecuteTime": {
     "end_time": "2023-01-27T13:34:29.395574Z",
     "start_time": "2023-01-27T13:34:06.510Z"
    }
   },
   "outputs": [],
   "source": [
    "# shape scheme for celltypes\n",
    "shape_celltype <- cell_relabelling$cell_type_shape[!duplicated(cell_relabelling$cell_type)]\n",
    "names(shape_celltype) <- cell_relabelling$cell_type[!duplicated(cell_relabelling$cell_type)]\n",
    "print(shape_celltype)"
   ]
  },
  {
   "cell_type": "code",
   "execution_count": null,
   "id": "d96dfa3d",
   "metadata": {
    "ExecuteTime": {
     "end_time": "2023-01-27T13:34:29.432553Z",
     "start_time": "2023-01-27T13:34:06.514Z"
    }
   },
   "outputs": [],
   "source": [
    "# shape scheme for sample IDs\n",
    "shape_sample <- c(1:length(unique(anno_cells_cf$sample_ID)))\n",
    "names(shape_sample) <- unique(anno_cells_cf$sample_ID)\n",
    "print(shape_sample)"
   ]
  },
  {
   "cell_type": "code",
   "execution_count": null,
   "id": "edc361fa",
   "metadata": {
    "ExecuteTime": {
     "end_time": "2023-01-27T13:34:29.509708Z",
     "start_time": "2023-01-27T13:34:06.517Z"
    }
   },
   "outputs": [],
   "source": [
    "# size scheme for sample IDs\n",
    "size_sample <- c(rep(3,8),rep(1,6))\n",
    "names(size_sample) <- unique(anno_cells_cf$sample_ID)\n",
    "print(size_sample)"
   ]
  },
  {
   "cell_type": "markdown",
   "id": "fb1f7af0",
   "metadata": {},
   "source": [
    "### filter\n"
   ]
  },
  {
   "cell_type": "code",
   "execution_count": null,
   "id": "6216abbc",
   "metadata": {
    "ExecuteTime": {
     "end_time": "2023-01-27T13:34:29.533179Z",
     "start_time": "2023-01-27T13:34:06.523Z"
    }
   },
   "outputs": [],
   "source": [
    "# store threshold values in the cell annotation file\n",
    "anno_cells_cf$threshold_celltype_size <- threshold_celltype_size"
   ]
  },
  {
   "cell_type": "code",
   "execution_count": null,
   "id": "0cefbe29",
   "metadata": {
    "ExecuteTime": {
     "end_time": "2023-01-27T13:34:29.625262Z",
     "start_time": "2023-01-27T13:34:06.528Z"
    }
   },
   "outputs": [],
   "source": [
    "# calculate celltype size\n",
    "for(sample in unique(anno_cells_cf$sample_ID)){\n",
    "        idx_sample <- anno_cells_cf$sample_ID == sample\n",
    "        \n",
    "        for(celltype in unique(anno_cells_cf$cell_type)){\n",
    "                idx_celltype <- anno_cells_cf$cell_type == celltype\n",
    "                \n",
    "                idx_sample_celltype <- idx_sample & idx_celltype\n",
    "                \n",
    "                anno_cells_cf$celltype_size_cf[idx_sample_celltype] <- nrow(anno_cells_cf[idx_sample_celltype,])\n",
    "        }\n",
    "}"
   ]
  },
  {
   "cell_type": "code",
   "execution_count": null,
   "id": "29badbeb",
   "metadata": {
    "ExecuteTime": {
     "end_time": "2023-01-27T13:34:29.647022Z",
     "start_time": "2023-01-27T13:34:06.532Z"
    }
   },
   "outputs": [],
   "source": [
    "# calculate celltype size filter\n",
    "anno_cells_cf$celltype_size_filter <- anno_cells_cf$celltype_size_cf >= anno_cells_cf$threshold_celltype_size"
   ]
  },
  {
   "cell_type": "code",
   "execution_count": null,
   "id": "0a76e4be",
   "metadata": {},
   "outputs": [],
   "source": [
    "unique(anno_cells_cf$cell_type)"
   ]
  },
  {
   "cell_type": "code",
   "execution_count": null,
   "id": "fcf89bce",
   "metadata": {
    "ExecuteTime": {
     "end_time": "2023-01-27T13:34:30.726973Z",
     "start_time": "2023-01-27T13:34:06.536Z"
    }
   },
   "outputs": [],
   "source": [
    "# visualize nr_samples vs log10_nr_cells before filtering\n",
    "df <-unique(data.frame(sample_ID = anno_cells_cf$sample_ID\n",
    "                       ,cell_type = anno_cells_cf$cell_type\n",
    "                )\n",
    "            )\n",
    "print(df)\n",
    "df$nr_cells <- sapply(1: nrow(df)\n",
    "                      ,function(i){\n",
    "                              my_sample <- df$sample_ID[i]\n",
    "                              my_celltype <- df$cell_type[i]\n",
    "                              nr_cells <- sum((anno_cells_cf$sample_ID == my_sample) & (anno_cells_cf$cell_type == my_celltype))\n",
    "                              nr_cells\n",
    "                      })\n",
    "df$nr_samples <- sapply(1: nrow(df)\n",
    "                        ,function(i){\n",
    "                                my_celltype <- df$cell_type[i]\n",
    "                                idx_celltype <- anno_cells_cf$cell_type == my_celltype\n",
    "                                nr_samples <- length(unique(anno_cells_cf$sample_ID[idx_celltype]))\n",
    "                                nr_samples\n",
    "                        })\n",
    "\n",
    "print(df)"
   ]
  },
  {
   "cell_type": "code",
   "execution_count": null,
   "id": "e6a109e6",
   "metadata": {},
   "outputs": [],
   "source": [
    "options(repr.plot.width = 8\n",
    "       ,repr.plot.height = 8)\n",
    "\n",
    "ggplot(data = df\n",
    "       ,aes(x=nr_samples\n",
    "            ,y=log10(nr_cells)\n",
    "            ,color=cell_type\n",
    "            ,shape=sample_ID\n",
    "            ,size = sample_ID\n",
    "            )\n",
    "       )+\n",
    "geom_point(size = 3)+\n",
    "scale_color_manual(values=color_celltype)+\n",
    "scale_shape_manual(values=shape_sample)+\n",
    "scale_size_manual(values=size_sample)+\n",
    "geom_hline(yintercept = log10(threshold_celltype_size)-0.1\n",
    "           ,color = \"red\")+\n",
    "theme_bw()+\n",
    "xlab(\"number of samples\")+\n",
    "ylab(\"log10 number of cells\")+\n",
    "theme(text = element_text(size = 18))"
   ]
  },
  {
   "cell_type": "code",
   "execution_count": null,
   "id": "a4307d5e",
   "metadata": {
    "ExecuteTime": {
     "end_time": "2023-01-27T13:34:30.781999Z",
     "start_time": "2023-01-27T13:34:06.539Z"
    }
   },
   "outputs": [],
   "source": [
    "# apply celltype size filter\n",
    "# filter cell annotation file\n",
    "anno_cells_cf_ctf <- anno_cells_cf[anno_cells_cf$celltype_size_filter,]\n",
    "print(\"number of cells before celltype size filtering:\")\n",
    "print(nrow(anno_cells_cf))\n",
    "print(\"number of cells after celltype size filtering:\")\n",
    "print(nrow(anno_cells_cf_ctf))"
   ]
  },
  {
   "cell_type": "code",
   "execution_count": null,
   "id": "f7716b39-cc63-45e8-aaf8-c1ce3e2bf193",
   "metadata": {},
   "outputs": [],
   "source": [
    "dim(anno_cells_cf)"
   ]
  },
  {
   "cell_type": "code",
   "execution_count": null,
   "id": "d2a77725-1d21-401d-9e5d-3b9e69183a5b",
   "metadata": {},
   "outputs": [],
   "source": [
    "dim(counts_cf)"
   ]
  },
  {
   "cell_type": "code",
   "execution_count": null,
   "id": "82c4b2a4",
   "metadata": {
    "ExecuteTime": {
     "end_time": "2023-01-27T13:34:30.827578Z",
     "start_time": "2023-01-27T13:34:06.543Z"
    }
   },
   "outputs": [],
   "source": [
    "# filer count matrix\n",
    "counts_cf_ctf <- counts_cf[,anno_cells_cf$celltype_size_filter]\n",
    "rm(counts_cf)"
   ]
  },
  {
   "cell_type": "code",
   "execution_count": null,
   "id": "88b8089e-7f83-44e5-8348-880ec3aa58d5",
   "metadata": {},
   "outputs": [],
   "source": [
    "dim(counts_cf_ctf)"
   ]
  },
  {
   "cell_type": "code",
   "execution_count": null,
   "id": "02f9b9de",
   "metadata": {
    "ExecuteTime": {
     "end_time": "2023-01-27T13:34:30.986684Z",
     "start_time": "2023-01-27T13:34:06.547Z"
    }
   },
   "outputs": [],
   "source": [
    "print(\"following cell types didn't pass the celltype size filter:\")\n",
    "for(sample in unique(anno_cells_cf_ctf$sample_ID)){\n",
    "        print(sample)\n",
    "        my_anno_cf <- anno_cells_cf[anno_cells_cf$sample_ID == sample,]\n",
    "        print(table(my_anno_cf[!my_anno_cf$celltype_size_filter,\"cell_type\"]))\n",
    "}"
   ]
  },
  {
   "cell_type": "markdown",
   "id": "fd6f1f79",
   "metadata": {},
   "source": [
    "### filter for being present in the minimun number of samples"
   ]
  },
  {
   "cell_type": "code",
   "execution_count": null,
   "id": "b5f04aa0",
   "metadata": {
    "ExecuteTime": {
     "end_time": "2023-01-27T13:34:31.791306Z",
     "start_time": "2023-01-27T13:34:06.561Z"
    }
   },
   "outputs": [],
   "source": [
    "# visualize nr_samples vs log10_nr_cells_all_samples before filtering\n",
    "df <-unique(data.frame(cell_type = anno_cells_cf_ctf$cell_type))\n",
    "\n",
    "df$nr_cells_in_all_samples <- sapply(1: nrow(df)\n",
    "                      ,function(i){\n",
    "                              my_celltype <- df$cell_type[i]\n",
    "                              nr_cells <- sum(anno_cells_cf_ctf$cell_type == my_celltype)\n",
    "                              nr_cells\n",
    "                      })\n",
    "\n",
    "df$nr_samples <- sapply(1: nrow(df)\n",
    "                        ,function(i){\n",
    "                                my_celltype <- df$cell_type[i]\n",
    "                                idx_celltype <- anno_cells_cf_ctf$cell_type == my_celltype\n",
    "                                nr_samples <- length(unique(anno_cells_cf_ctf$sample_ID[idx_celltype]))\n",
    "                                nr_samples\n",
    "                        })\n",
    "\n",
    "rownames(df) <- df$cell_type\n",
    "\n"
   ]
  },
  {
   "cell_type": "code",
   "execution_count": null,
   "id": "69030730",
   "metadata": {},
   "outputs": [],
   "source": [
    "options(repr.plot.width = 6.5\n",
    "       ,repr.plot.height = 6.5)\n",
    "\n",
    "ggplot(data = df\n",
    "       ,aes(x = nr_samples\n",
    "            ,y = log10(nr_cells_in_all_samples)\n",
    "            ,color = cell_type\n",
    "       )\n",
    ") +\n",
    "geom_point(size = 3) +\n",
    "scale_color_manual(values = color_celltype) +\n",
    "geom_vline(xintercept = threshold_nr_samples-0.25\n",
    "           ,color = \"red\")+\n",
    "theme_bw()+\n",
    "ylab(\"log10 number of cells\")+\n",
    "xlab(\"number of samples\")+\n",
    "theme(text = element_text(size = 18))"
   ]
  },
  {
   "cell_type": "markdown",
   "id": "f0d9cab4",
   "metadata": {},
   "source": [
    "### filter out underrepresented cell types"
   ]
  },
  {
   "cell_type": "code",
   "execution_count": null,
   "id": "ff0e3100",
   "metadata": {
    "ExecuteTime": {
     "end_time": "2023-01-27T13:34:31.830486Z",
     "start_time": "2023-01-27T13:34:06.567Z"
    }
   },
   "outputs": [],
   "source": [
    "print(paste(\"filter out celltypes present in less than\"\n",
    "             ,threshold_nr_samples\n",
    "             ,\"samples\"))\n",
    "print(\"following celltypes didn' pass the filter\")\n",
    "bad_celltypes <- rownames(df)[df$nr_samples < threshold_nr_samples]\n",
    "print(bad_celltypes)"
   ]
  },
  {
   "cell_type": "code",
   "execution_count": null,
   "id": "3f3572cd",
   "metadata": {
    "ExecuteTime": {
     "end_time": "2023-01-27T13:34:31.964109Z",
     "start_time": "2023-01-27T13:34:06.572Z"
    }
   },
   "outputs": [],
   "source": [
    "print(\"dim(counts_cf_ctf) before filtering\")\n",
    "print(dim(counts_cf_ctf))\n",
    "counts_cf_ctf <- counts_cf_ctf[,!(anno_cells_cf_ctf$cell_type %in% bad_celltypes)]\n",
    "print(\"dim(counts_cf_ctf) after filtering\")\n",
    "print(dim(counts_cf_ctf))\n",
    "print(\"dim(anno_cells_cf_ctf) before filtering\")\n",
    "print(dim(anno_cells_cf_ctf))\n",
    "anno_cells_cf_ctf <- anno_cells_cf_ctf[!(anno_cells_cf_ctf$cell_type %in% bad_celltypes),]\n",
    "print(\"dim(anno_cells_cf_ctf) after filtering\")\n",
    "print(dim(anno_cells_cf_ctf))"
   ]
  },
  {
   "cell_type": "code",
   "execution_count": null,
   "id": "af90bc0e",
   "metadata": {
    "ExecuteTime": {
     "end_time": "2023-01-27T13:34:31.999555Z",
     "start_time": "2023-01-27T13:34:06.577Z"
    }
   },
   "outputs": [],
   "source": [
    "# visualize expression after cell filtering and celltype size filtering\n",
    "print(\"visualize expression after cell filtering and celltype size filtering\")\n",
    "df <- data.frame(log10_lib_size = log10(anno_cells_cf_ctf$total_counts_raw +1)\n",
    "                 ,sample_ID = anno_cells_cf_ctf$sample_ID\n",
    ")\n",
    "print(str(df))"
   ]
  },
  {
   "cell_type": "code",
   "execution_count": null,
   "id": "c932494e",
   "metadata": {
    "ExecuteTime": {
     "end_time": "2023-01-27T13:34:32.695643Z",
     "start_time": "2023-01-27T13:34:06.581Z"
    }
   },
   "outputs": [],
   "source": [
    "ggplot(data = df\n",
    "             ,aes(x = sample_ID\n",
    "                  ,y = log10_lib_size\n",
    "             )\n",
    ") +\n",
    "        geom_jitter(height = NULL) +\n",
    "        geom_violin() + \n",
    "        ggtitle(\"log10 expression after cell type filering\") +\n",
    "        coord_flip() +\n",
    "        ylim(c(0,6))+\n",
    "        theme_bw()\n",
    "\n",
    "rm(df)"
   ]
  },
  {
   "cell_type": "code",
   "execution_count": null,
   "id": "345e6763",
   "metadata": {
    "ExecuteTime": {
     "end_time": "2023-01-27T13:34:32.719894Z",
     "start_time": "2023-01-27T13:34:06.586Z"
    }
   },
   "outputs": [],
   "source": [
    "# create anno_samples_cf_ctf\n",
    "anno_samples_cf_ctf <- anno_samples_cf"
   ]
  },
  {
   "cell_type": "code",
   "execution_count": null,
   "id": "4668f6b9",
   "metadata": {
    "ExecuteTime": {
     "end_time": "2023-01-27T13:34:32.792705Z",
     "start_time": "2023-01-27T13:34:06.591Z"
    }
   },
   "outputs": [],
   "source": [
    "# save cell number in anno_samples\n",
    "for(sample in unique(anno_cells_cf_ctf$sample_ID)){\n",
    "        \n",
    "        my_anno_cf <- anno_cells_cf_ctf[anno_cells_cf_ctf$sample_ID == sample,]\n",
    "        \n",
    "        anno_samples_cf_ctf$nr_cells_cf_ctf[anno_samples_cf_ctf$sample_ID == sample] <- nrow(my_anno_cf)\n",
    "}\n",
    "print(\"anno_samples_cf_ctf\")\n",
    "print(anno_samples_cf_ctf)"
   ]
  },
  {
   "cell_type": "code",
   "execution_count": null,
   "id": "6aa4dc0a",
   "metadata": {
    "ExecuteTime": {
     "end_time": "2023-01-27T13:34:32.827826Z",
     "start_time": "2023-01-27T13:34:06.595Z"
    }
   },
   "outputs": [],
   "source": [
    "# create anno_gene_cf_ctf\n",
    "anno_genes_cf_ctf <- anno_genes_cf"
   ]
  },
  {
   "cell_type": "markdown",
   "id": "8341c6d6",
   "metadata": {},
   "source": [
    "### export"
   ]
  },
  {
   "cell_type": "code",
   "execution_count": null,
   "id": "d580d80a",
   "metadata": {
    "ExecuteTime": {
     "end_time": "2023-01-27T13:34:32.871929Z",
     "start_time": "2023-01-27T13:34:06.599Z"
    }
   },
   "outputs": [],
   "source": [
    "# #save counts_cf_ctf.RData\n",
    "# save(counts_cf_ctf, file = \"counts_cf_ctf.RData\")\n",
    "\n",
    "# #save anno_cells_cf_ctf.RData\n",
    "# save(anno_cells_cf_ctf, file = \"anno_cells_cf_ctf.RData\")\n",
    "\n",
    "# #save anno_samples_cf_ctf.RData\n",
    "# save(anno_samples_cf_ctf, file = \"anno_samples_cf_ctf.RData\")\n",
    "\n",
    "# #save anno_genes_cf_ctf.RData\n",
    "# save(anno_genes_cf_ctf, file = \"anno_genes_cf_ctf.RData\")"
   ]
  },
  {
   "cell_type": "markdown",
   "id": "62a0cbe0",
   "metadata": {},
   "source": [
    "## Filter genes\n",
    "\n",
    "Individual genes might be specific to certain cell types in certain health conditions. Here we will construct pseudo-bulk cell types (per sample) and filter out genes that have too low cumulative expression in these pseudo-bulks.\n",
    "\n",
    "- **INPUT:**\n",
    "    - ```counts_cf_ctf.RData``` \n",
    "    - ```anno_cells_cf_ctf.RData```\n",
    "    - ```anno_samples_cf_ctf.RData```\n",
    "    - ```anno_genes_cf_ctf.RData```\n",
    "    - ```cell_relabelling.csv``` file containing unified cell type annotations. Stored in additional_input_files sub-directory.\n",
    "    \n",
    "    \n",
    "- **NOTES:**\n",
    "\n",
    "    The '_gf' ending in the file names stands for gene filter.\n",
    "    \n",
    "    \n",
    "- **OUTPUT:**\n",
    "\n",
    "    -  ```counts_cf_ctf_gf.RData```\n",
    "    -  ```anno_cells_cf_ctf_gf.RData```\n",
    "    -  ```anno_samples_cf_ctf_gf.RData```\n",
    "    -  ```anno_genes_cf_ctf_gf.RData```"
   ]
  },
  {
   "cell_type": "code",
   "execution_count": null,
   "id": "bcc6d497",
   "metadata": {
    "ExecuteTime": {
     "end_time": "2023-01-27T13:34:32.902261Z",
     "start_time": "2023-01-27T13:34:06.604Z"
    }
   },
   "outputs": [],
   "source": [
    "rownames(cell_relabelling) <- cell_relabelling$cell_type_original\n",
    "print(str(cell_relabelling))"
   ]
  },
  {
   "cell_type": "code",
   "execution_count": null,
   "id": "54fedb4d",
   "metadata": {
    "ExecuteTime": {
     "end_time": "2023-01-27T13:34:32.929763Z",
     "start_time": "2023-01-27T13:34:06.612Z"
    }
   },
   "outputs": [],
   "source": [
    "# thresholds\n",
    "threshold_sum_pseudobulkCellType_expr <- 0.25\n",
    "print(paste(\"threshold_sum_pseudobulkCellType_expr: >\", threshold_sum_pseudobulkCellType_expr))"
   ]
  },
  {
   "cell_type": "code",
   "execution_count": null,
   "id": "d9258f56",
   "metadata": {
    "ExecuteTime": {
     "end_time": "2023-01-27T13:34:32.954359Z",
     "start_time": "2023-01-27T13:34:06.616Z"
    }
   },
   "outputs": [],
   "source": [
    "# color scheme for celltypes\n",
    "color_celltype <- cell_relabelling$cell_type_color_hex[!duplicated(cell_relabelling$cell_type)]\n",
    "names(color_celltype) <- cell_relabelling$cell_type[!duplicated(cell_relabelling$cell_type)]"
   ]
  },
  {
   "cell_type": "markdown",
   "id": "de22c09e",
   "metadata": {},
   "source": [
    "### process data"
   ]
  },
  {
   "cell_type": "code",
   "execution_count": null,
   "id": "0f420b97",
   "metadata": {
    "ExecuteTime": {
     "end_time": "2023-01-27T13:34:32.978234Z",
     "start_time": "2023-01-27T13:34:06.621Z"
    }
   },
   "outputs": [],
   "source": [
    "# construct pseudo sorted bulk\n",
    "\n",
    "anno_cells_cf_ctf$cell_type_ID <- paste(anno_cells_cf_ctf$cell_type\n",
    "                                        ,anno_cells_cf_ctf$sample_ID\n",
    "                                        ,sep = \"_\"\n",
    ")"
   ]
  },
  {
   "cell_type": "code",
   "execution_count": null,
   "id": "f2ea4ec2",
   "metadata": {
    "ExecuteTime": {
     "end_time": "2023-01-27T13:34:34.176994Z",
     "start_time": "2023-01-27T13:34:06.624Z"
    }
   },
   "outputs": [],
   "source": [
    "cell_type_IDs <- unique(anno_cells_cf_ctf$cell_type_ID)\n",
    "counts_raw_pseudobulkCellType <- as.data.frame(matrix(,nrow = nrow(counts_cf_ctf)\n",
    "                                                    ,ncol = length(cell_type_IDs)\n",
    "))\n",
    "\n",
    "i <- 1\n",
    "for(cell_type_ID in cell_type_IDs){\n",
    "        #print(cell_type_ID)\n",
    "        \n",
    "        idx_cell_type_ID <- anno_cells_cf_ctf$cell_type_ID == cell_type_ID\n",
    "        \n",
    "        if(sum(idx_cell_type_ID) == 0){\n",
    "                counts_raw_pseudobulkCellType[,i] <- 0\n",
    "        } else if( sum(idx_cell_type_ID) == 1){\n",
    "                counts_raw_pseudobulkCellType[,i] <- counts_cf_ctf[,idx_cell_type_ID]\n",
    "        } else {\n",
    "                counts_raw_pseudobulkCellType[,i] <- rowMeans(counts_cf_ctf[,idx_cell_type_ID])\n",
    "        }\n",
    "        \n",
    "        i <- i+1\n",
    "}\n",
    "\n",
    "colnames(counts_raw_pseudobulkCellType) <- cell_type_IDs\n",
    "rownames(counts_raw_pseudobulkCellType) <- rownames(counts_cf_ctf)\n",
    "cat(\"str(counts_raw_pseudobulkCellType\\n\\n)\")\n",
    "print(str(counts_raw_pseudobulkCellType))"
   ]
  },
  {
   "cell_type": "markdown",
   "id": "ed456984",
   "metadata": {},
   "source": [
    "### visualize possible filtering parameters"
   ]
  },
  {
   "cell_type": "code",
   "execution_count": null,
   "id": "338d2298",
   "metadata": {
    "ExecuteTime": {
     "end_time": "2023-01-27T13:34:35.094834Z",
     "start_time": "2023-01-27T13:34:06.633Z"
    }
   },
   "outputs": [],
   "source": [
    "nr_expressing_cell_types <- rowSums(counts_raw_pseudobulkCellType != 0)\n",
    "\n",
    "anno_genes_cf_ctf$sum_pseudobulkCellType_expr = rowSums(as.matrix(counts_raw_pseudobulkCellType))\n",
    "anno_genes_cf_ctf$sum_pseudobulkCellType_expr_threshold <- rep(threshold_sum_pseudobulkCellType_expr, nrow(anno_genes_cf_ctf))\n",
    "anno_genes_cf_ctf$sum_pseudobulkCellType_expr_filter <- anno_genes_cf_ctf$sum_pseudobulkCellType_expr > threshold_sum_pseudobulkCellType_expr\n",
    "print(str(anno_genes_cf_ctf))"
   ]
  },
  {
   "cell_type": "code",
   "execution_count": null,
   "id": "6430223b",
   "metadata": {
    "ExecuteTime": {
     "end_time": "2023-01-27T13:34:35.132837Z",
     "start_time": "2023-01-27T13:34:06.637Z"
    }
   },
   "outputs": [],
   "source": [
    "print(paste(\"we have\"\n",
    "            ,nrow(counts_cf_ctf)\n",
    "            ,\"genes before filtering\"\n",
    ")\n",
    ")\n",
    "print(paste(\"we have\"\n",
    "            ,sum(anno_genes_cf_ctf$sum_pseudobulkCellType_expr_filter)\n",
    "            ,\"genes after filtering\"\n",
    ")\n",
    ")"
   ]
  },
  {
   "cell_type": "code",
   "execution_count": null,
   "id": "3f2646cb",
   "metadata": {
    "ExecuteTime": {
     "end_time": "2023-01-27T13:34:37.269030Z",
     "start_time": "2023-01-27T13:34:06.641Z"
    }
   },
   "outputs": [],
   "source": [
    "# plot sum expression vs nr expressing pseudobulk cell types\n",
    "df <- data.frame(log10_sum_expr = log10(rowSums(as.matrix(counts_raw_pseudobulkCellType)) +1)\n",
    "                 ,nr_expressing_pseudobulkCellTypes = nr_expressing_cell_types\n",
    "                 ,passed_gene_filter = anno_genes_cf_ctf$sum_pseudobulkCellType_expr_filter\n",
    ")\n"
   ]
  },
  {
   "cell_type": "code",
   "execution_count": null,
   "id": "3f6a22f6",
   "metadata": {},
   "outputs": [],
   "source": [
    "options(repr.plot.width = 4\n",
    "       ,repr.plot.height = 5)\n",
    "ggplot(data = df\n",
    "             ,aes(x = log10_sum_expr\n",
    "                  ,y = nr_expressing_pseudobulkCellTypes\n",
    "             )\n",
    ") +\n",
    "geom_point(size = 0.05)+\n",
    "ylim(c(-10,110))+\n",
    "xlim(c(-0.25,3))+\n",
    "ylab(\"number of cell type pseudobulks\\nexpressing the gene\")+\n",
    "xlab(\"log10 cumulative expression\")+\n",
    "stat_density_2d(aes(fill = ..level..), geom = \"polygon\", colour=\"white\"\n",
    "               ,show.legend = FALSE) +\n",
    "geom_vline(xintercept = log10(threshold_sum_pseudobulkCellType_expr+1), color = \"red\")+\n",
    "theme_bw()+\n",
    "theme(text = element_text(size = 14))"
   ]
  },
  {
   "cell_type": "markdown",
   "id": "19fb477b",
   "metadata": {},
   "source": [
    "### filter genes"
   ]
  },
  {
   "cell_type": "code",
   "execution_count": null,
   "id": "01b10d75",
   "metadata": {
    "ExecuteTime": {
     "end_time": "2023-01-27T13:34:38.563983Z",
     "start_time": "2023-01-27T13:34:06.645Z"
    }
   },
   "outputs": [],
   "source": [
    "# filter genes by gene filter from the gene annotation file\n",
    "counts_cf_ctf_gf <- counts_cf_ctf[anno_genes_cf_ctf$sum_pseudobulkCellType_expr_filter,]\n",
    "print(dim(counts_cf_ctf_gf))"
   ]
  },
  {
   "cell_type": "code",
   "execution_count": null,
   "id": "42c514fb",
   "metadata": {
    "ExecuteTime": {
     "end_time": "2023-01-27T13:34:38.591034Z",
     "start_time": "2023-01-27T13:34:06.650Z"
    }
   },
   "outputs": [],
   "source": [
    "# filter gene annotation by gene filter from the gene annotation file\n",
    "anno_genes_cf_ctf_gf <- anno_genes_cf_ctf[anno_genes_cf_ctf$sum_pseudobulkCellType_expr_filter,]"
   ]
  },
  {
   "cell_type": "code",
   "execution_count": null,
   "id": "37b6be29",
   "metadata": {
    "ExecuteTime": {
     "end_time": "2023-01-27T13:34:39.191184Z",
     "start_time": "2023-01-27T13:34:06.653Z"
    }
   },
   "outputs": [],
   "source": [
    "# store total counts per cell after gene filtering in the cell annotation file\n",
    "anno_cells_cf_ctf_gf <- anno_cells_cf_ctf\n",
    "anno_cells_cf_ctf_gf$total_counts_raw_cf_ctf_gf <- colSums(counts_cf_ctf_gf)"
   ]
  },
  {
   "cell_type": "code",
   "execution_count": null,
   "id": "92f6e902",
   "metadata": {},
   "outputs": [],
   "source": [
    "anno_samples_cf_ctf_gf <- anno_samples_cf_ctf"
   ]
  },
  {
   "cell_type": "code",
   "execution_count": null,
   "id": "c0ea281f",
   "metadata": {
    "ExecuteTime": {
     "end_time": "2023-01-27T13:34:40.287846Z",
     "start_time": "2023-01-27T13:34:06.670Z"
    }
   },
   "outputs": [],
   "source": [
    "# visualize the expression after gene filter\n",
    "df <- data.frame(log10_lib_size = log10(anno_cells_cf_ctf_gf$total_counts_raw_cf_ctf_gf +1)\n",
    "                 ,sample_ID = anno_cells_cf_ctf_gf$sample_ID\n",
    ")\n",
    "\n",
    "ggplot(data = df\n",
    "             ,aes(x = sample_ID\n",
    "                  ,y = log10_lib_size\n",
    "             )\n",
    ") +\n",
    "        geom_jitter(height = NULL) +\n",
    "        geom_violin() + \n",
    "        ggtitle(\"log10 expression after gene filtering\") +\n",
    "        coord_flip() +\n",
    "        ylim(c(0,6))+\n",
    "        theme_bw()\n",
    "\n",
    "rm(df)"
   ]
  },
  {
   "cell_type": "markdown",
   "id": "4edb04c8",
   "metadata": {},
   "source": [
    "### export"
   ]
  },
  {
   "cell_type": "code",
   "execution_count": null,
   "id": "d01dec95",
   "metadata": {
    "ExecuteTime": {
     "end_time": "2023-01-27T13:34:40.314768Z",
     "start_time": "2023-01-27T13:34:06.678Z"
    }
   },
   "outputs": [],
   "source": [
    "# #save counts_cf_ctf_gf.RData\n",
    "# save(counts_cf_ctf_gf, file = \"counts_cf_ctf_gf.RData\")\n",
    "\n",
    "# #save anno_cells_cf_ctf_gf.RData\n",
    "# save(anno_cells_cf_ctf_gf, file = \"anno_cells_cf_ctf_gf.RData\")\n",
    "\n",
    "# #save anno_samples_cf_ctf_gf.RData\n",
    "# save(anno_samples_cf_ctf_gf, file = \"anno_samples_cf_ctf_gf.RData\")\n",
    "# 3\n",
    "# #save anno_genes_cf_ctf_gf.RData\n",
    "# save(anno_genes_cf_ctf_gf, file = \"anno_genes_cf_ctf_gf.RData\")"
   ]
  },
  {
   "cell_type": "markdown",
   "id": "2c3454eb",
   "metadata": {},
   "source": [
    "## Filter samples\n",
    "\n",
    "Samples with less than 5 cell types will be filtered out.\n",
    "\n",
    "- **INPUT:**\n",
    "    - ```counts_cf_ctf_gf.RData``` \n",
    "    - ```anno_cells_cf_ctf_gf.RData```\n",
    "    - ```anno_samples_cf_ctf_gf.RData```\n",
    "    - ```anno_genes_cf_ctf_gf.RData```\n",
    "    \n",
    "- **NOTES:**\n",
    "\n",
    "    The '_sf' ending in the file names stands for sample filter.\n",
    "    \n",
    "- **OUTPUT:**\n",
    "\n",
    "    -  ```counts_cf_ctf_gf_sf.RData``` \n",
    "    -  ```anno_cells_cf_ctf_gf_sf.RData``` \n",
    "    -  ```anno_samples_cf_ctf_gf_sf.RData```\n",
    "    -  ```anno_genes_cf_ctf_gf_sf.RData```"
   ]
  },
  {
   "cell_type": "code",
   "execution_count": null,
   "id": "99ced037",
   "metadata": {
    "ExecuteTime": {
     "end_time": "2023-01-27T13:34:40.338521Z",
     "start_time": "2023-01-27T13:34:06.683Z"
    }
   },
   "outputs": [],
   "source": [
    "# print(\"load counts\")\n",
    "# load(\"./AML_healthy/counts_cf_ctf_gf.RData\")\n",
    "# print(\"dim(counts_cf_ctf_gf)\")\n",
    "# print(dim(counts_cf_ctf_gf))\n",
    "\n",
    "# # load cell annotation\n",
    "# print(\"load cell annotation\")\n",
    "# load(\"./AML_healthy/anno_cells_cf_ctf_gf.RData\")\n",
    "# print(\"str(anno_cells_cf_ctf_gf)\")\n",
    "# print(str(anno_cells_cf_ctf_gf))\n",
    "\n",
    "# # load sample annotation\n",
    "# print(\"load sample annotation\")\n",
    "# load(\"./AML_healthy/anno_samples_cf_ctf_gf.RData\")\n",
    "# print(\"str(anno_samples_cf_ctf_gf)\")\n",
    "# print(str(anno_samples_cf_ctf_gf))\n",
    "\n",
    "# # load gene annotation\n",
    "# print(\"load gene annotation\")\n",
    "# load(\"./AML_healthy/anno_genes_cf_ctf_gf.RData\")\n",
    "# print(\"str(anno_genes_cf_ctf_gf)\")\n",
    "# print(str(anno_genes_cf_ctf_gf))"
   ]
  },
  {
   "cell_type": "code",
   "execution_count": null,
   "id": "5119780b",
   "metadata": {
    "ExecuteTime": {
     "end_time": "2023-01-27T13:34:40.461601Z",
     "start_time": "2023-01-27T13:34:06.706Z"
    }
   },
   "outputs": [],
   "source": [
    "# thresholds ####\n",
    "threshold_nr_celltypes <- 7\n",
    "print(paste(\"A sample should contain at least\"\n",
    "            ,threshold_nr_celltypes\n",
    "            ,\"cell types\"))"
   ]
  },
  {
   "cell_type": "markdown",
   "id": "9f26ebc0",
   "metadata": {},
   "source": [
    "### filter"
   ]
  },
  {
   "cell_type": "code",
   "execution_count": null,
   "id": "6782bbfe",
   "metadata": {},
   "outputs": [],
   "source": [
    "# filter out samples that are not present in the cell annotation\n",
    "print(dim(anno_samples_cf_ctf_gf))\n",
    "anno_samples_cf_ctf_gf <- anno_samples_cf_ctf_gf[anno_samples_cf_ctf_gf$sample_ID %in% unique(anno_cells_cf_ctf_gf$sample_ID),]\n",
    "print(dim(anno_samples_cf_ctf_gf))"
   ]
  },
  {
   "cell_type": "code",
   "execution_count": null,
   "id": "4234431b",
   "metadata": {},
   "outputs": [],
   "source": [
    "rownames(anno_samples_cf_ctf_gf) <- anno_samples_cf_ctf_gf$sample_ID\n",
    "anno_samples_cf_ctf_gf <- anno_samples_cf_ctf_gf[unique(anno_cells_cf_ctf_gf$sample_ID),]\n",
    "print(dim(anno_samples_cf_ctf_gf))"
   ]
  },
  {
   "cell_type": "code",
   "execution_count": null,
   "id": "751a8844",
   "metadata": {},
   "outputs": [],
   "source": [
    "# store total counts per sample after gene filtering in the sample annotation file\n",
    "anno_samples_cf_ctf_gf$total_counts_raw_cf_ctf_gf <- sapply(unique(anno_cells_cf_ctf_gf$sample_ID)\n",
    "                                                         ,function(sample){\n",
    "                                                             #print(sample)\n",
    "                                                                 idx_sample <- anno_cells_cf_ctf_gf$sample_ID == sample\n",
    "                                                             #print(sum(idx_sample))\n",
    "                                                                 sum(anno_cells_cf_ctf_gf$total_counts_raw_cf_ctf_gf[idx_sample])\n",
    "                                                         })"
   ]
  },
  {
   "cell_type": "code",
   "execution_count": null,
   "id": "8b25e48f",
   "metadata": {},
   "outputs": [],
   "source": [
    "# store number of cell types per sample after gene filtering in the sample annotation file\n",
    "anno_samples_cf_ctf_gf$nr_celltypes_cf_ctf_gf <- sapply(anno_samples_cf_ctf_gf$sample_ID\n",
    "                                                         ,function(sample){\n",
    "                                                                 idx_sample <- anno_cells_cf_ctf_gf$sample_ID == sample\n",
    "                                                                 length(unique(anno_cells_cf_ctf_gf$cell_type[idx_sample]))\n",
    "                                                         })"
   ]
  },
  {
   "cell_type": "code",
   "execution_count": null,
   "id": "cfdc168e",
   "metadata": {
    "ExecuteTime": {
     "end_time": "2023-01-27T13:34:40.506079Z",
     "start_time": "2023-01-27T13:34:06.714Z"
    }
   },
   "outputs": [],
   "source": [
    "anno_samples_cf_ctf_gf$threshold_nr_celltypes <- paste(\"greater or equal\"\n",
    "                                              ,threshold_nr_celltypes)\n",
    "anno_samples_cf_ctf_gf$passed_threshold_nr_celltypes <- anno_samples_cf_ctf_gf$nr_celltypes_cf_ctf_gf >= threshold_nr_celltypes\n"
   ]
  },
  {
   "cell_type": "code",
   "execution_count": null,
   "id": "1558a6e7",
   "metadata": {
    "ExecuteTime": {
     "end_time": "2023-01-27T13:34:40.539695Z",
     "start_time": "2023-01-27T13:34:06.721Z"
    }
   },
   "outputs": [],
   "source": [
    "print(paste(\"we have\"\n",
    "            ,sum(anno_samples_cf_ctf_gf$passed_threshold_nr_celltypes)\n",
    "            ,\"samples that passed the threshold\"))\n",
    "print(paste(\"we have\"\n",
    "            ,sum(!anno_samples_cf_ctf_gf$passed_threshold_nr_celltypes)\n",
    "            ,\"samples that didn't pass the threshold:\"))"
   ]
  },
  {
   "cell_type": "code",
   "execution_count": null,
   "id": "ece69728",
   "metadata": {
    "ExecuteTime": {
     "end_time": "2023-01-27T13:34:40.570293Z",
     "start_time": "2023-01-27T13:34:06.725Z"
    }
   },
   "outputs": [],
   "source": [
    "bad_samples <- anno_samples_cf_ctf_gf$sample_ID[!anno_samples_cf_ctf_gf$passed_threshold_nr_celltypes]\n",
    "print(bad_samples)"
   ]
  },
  {
   "cell_type": "markdown",
   "id": "7c2ef59b",
   "metadata": {},
   "source": [
    "### visualization"
   ]
  },
  {
   "cell_type": "code",
   "execution_count": null,
   "id": "a5daefb6",
   "metadata": {
    "ExecuteTime": {
     "end_time": "2023-01-27T13:34:42.177339Z",
     "start_time": "2023-01-27T13:34:06.729Z"
    }
   },
   "outputs": [],
   "source": [
    "options(repr.plot.width = 6\n",
    "       ,repr.plot.height = 5)\n",
    "\n",
    "ggplot(data = anno_samples_cf_ctf_gf\n",
    "       ,aes(x = nr_celltypes_cf_ctf_gf\n",
    "            ,y = nr_cells_cf_ctf\n",
    "            ,color = sample_ID\n",
    "            ,shape = sample_ID\n",
    "            ,size = sample_ID\n",
    "       )\n",
    ") +\n",
    "geom_point(size = 3)+\n",
    "geom_vline(xintercept = threshold_nr_celltypes- 0.1\n",
    "           ,color = \"red\")+\n",
    "scale_color_manual(values = c(rep(\"#7C001F\"\n",
    "                                 ,8)\n",
    "                             ,rep(\"#7ac5cd\"\n",
    "                                 ,6)))+\n",
    "scale_shape_manual(values=shape_sample)+\n",
    "scale_size_manual(values=size_sample)+\n",
    "xlab(\"number of cell types\")+\n",
    "ylab(\"number of cells\")+\n",
    "theme_bw()+\n",
    "theme(text = element_text(size = 16))"
   ]
  },
  {
   "cell_type": "code",
   "execution_count": null,
   "id": "4058e8e3",
   "metadata": {
    "ExecuteTime": {
     "end_time": "2023-01-27T13:34:42.224941Z",
     "start_time": "2023-01-27T13:34:06.742Z"
    }
   },
   "outputs": [],
   "source": [
    "#subset anno_anno_samples_cf_ctf_gf\n",
    "\n",
    "print(\"dim(anno_samples_cf_ctf_gf) before filtering\")\n",
    "print(dim(anno_samples_cf_ctf_gf))\n",
    "anno_samples_cf_ctf_gf_sf <- anno_samples_cf_ctf_gf[anno_samples_cf_ctf_gf$passed_threshold_nr_celltypes,]\n",
    "print(\"dim(anno_samples_cf_ctf_gf_sf) after filtering\")\n",
    "print(dim(anno_samples_cf_ctf_gf_sf))"
   ]
  },
  {
   "cell_type": "code",
   "execution_count": null,
   "id": "e8cbfa28",
   "metadata": {
    "ExecuteTime": {
     "end_time": "2023-01-27T13:34:42.336940Z",
     "start_time": "2023-01-27T13:34:06.746Z"
    }
   },
   "outputs": [],
   "source": [
    "#subset anno_cells\n",
    "\n",
    "print(\"dim(anno_cells_cf_ctf_gf) before filtering\")\n",
    "print(dim(anno_cells_cf_ctf_gf))\n",
    "idx_bad <- anno_cells_cf_ctf_gf$sample_ID %in% bad_samples\n",
    "anno_cells_cf_ctf_gf_sf <- anno_cells_cf_ctf_gf[!idx_bad,]\n",
    "print(\"dim(anno_cells_cf_ctf_gf_sf) after filtering\")\n",
    "print(dim(anno_cells_cf_ctf_gf_sf))"
   ]
  },
  {
   "cell_type": "code",
   "execution_count": null,
   "id": "9ea6a211",
   "metadata": {
    "ExecuteTime": {
     "end_time": "2023-01-27T13:34:42.434156Z",
     "start_time": "2023-01-27T13:34:06.749Z"
    }
   },
   "outputs": [],
   "source": [
    "#subset counts_cf_ctf_gf\n",
    "\n",
    "print(\"dim(counts_cf_ctf_gf) before filtering\")\n",
    "print(dim(counts_cf_ctf_gf))\n",
    "counts_cf_ctf_gf_sf <- counts_cf_ctf_gf[,!idx_bad]\n",
    "print(\"dim(counts_cf_ctf_gf_sf) after filtering\")\n",
    "print(dim(counts_cf_ctf_gf_sf))"
   ]
  },
  {
   "cell_type": "code",
   "execution_count": null,
   "id": "d0d6ab8a",
   "metadata": {
    "ExecuteTime": {
     "end_time": "2023-01-27T13:34:43.100194Z",
     "start_time": "2023-01-27T13:34:06.752Z"
    }
   },
   "outputs": [],
   "source": [
    "anno_cells_cf_ctf_gf_sf$total_counts_raw_cf_ctf_gf_sf <- colSums(counts_cf_ctf_gf_sf)\n",
    "\n",
    "anno_genes_cf_ctf_gf_sf <- anno_genes_cf_ctf_gf"
   ]
  },
  {
   "cell_type": "code",
   "execution_count": null,
   "id": "5a46504a",
   "metadata": {
    "ExecuteTime": {
     "end_time": "2023-01-27T13:34:43.130227Z",
     "start_time": "2023-01-27T13:34:06.757Z"
    }
   },
   "outputs": [],
   "source": [
    "# visualize expression after sample filter\n",
    "\n",
    "df <- data.frame(log10_lib_size = log10(anno_cells_cf_ctf_gf_sf$total_counts_raw_cf_ctf_gf_sf +1)\n",
    "                 ,sample_ID = anno_cells_cf_ctf_gf_sf$sample_ID\n",
    ")\n",
    "print(str(df))"
   ]
  },
  {
   "cell_type": "code",
   "execution_count": null,
   "id": "b1dd8e79",
   "metadata": {
    "ExecuteTime": {
     "end_time": "2023-01-27T13:34:43.974469Z",
     "start_time": "2023-01-27T13:34:06.760Z"
    }
   },
   "outputs": [],
   "source": [
    "ggplot(data = df\n",
    "             ,aes(x = sample_ID\n",
    "                  ,y = log10_lib_size\n",
    "             )\n",
    ") +\n",
    "        geom_jitter(height = NULL\n",
    "                    ,size = 0.5) +\n",
    "        geom_violin() + \n",
    "        ggtitle(\"log10 expression after sample filtering\") +\n",
    "        coord_flip() +\n",
    "        ylim(c(0,6))+\n",
    "        theme_bw()\n",
    "\n",
    "rm(df)"
   ]
  },
  {
   "cell_type": "markdown",
   "id": "3e7ff789",
   "metadata": {},
   "source": [
    "### heatmap"
   ]
  },
  {
   "cell_type": "code",
   "execution_count": null,
   "id": "77ae9f57",
   "metadata": {
    "ExecuteTime": {
     "end_time": "2023-01-27T13:34:44.001921Z",
     "start_time": "2023-01-27T13:34:06.764Z"
    }
   },
   "outputs": [],
   "source": [
    "#visualize cell number per cell type per sample\n",
    "\n",
    "df <- table(data.frame(sample_ID = anno_cells_cf_ctf_gf_sf$sample_ID\n",
    "                       ,cell_type = anno_cells_cf_ctf_gf_sf$cell_type)\n",
    "            )\n",
    "df <- t(matrix(df\n",
    "               ,ncol = ncol(df)\n",
    "               ,dimnames=dimnames(df)\n",
    "               )\n",
    "        )"
   ]
  },
  {
   "cell_type": "code",
   "execution_count": null,
   "id": "80483e3f",
   "metadata": {
    "ExecuteTime": {
     "end_time": "2023-01-27T13:34:44.024251Z",
     "start_time": "2023-01-27T13:34:06.767Z"
    }
   },
   "outputs": [],
   "source": [
    "library(\"circlize\")"
   ]
  },
  {
   "cell_type": "code",
   "execution_count": null,
   "id": "464e644a",
   "metadata": {
    "ExecuteTime": {
     "end_time": "2023-01-27T13:34:44.063895Z",
     "start_time": "2023-01-27T13:34:06.772Z"
    }
   },
   "outputs": [],
   "source": [
    "library(\"ComplexHeatmap\")"
   ]
  },
  {
   "cell_type": "code",
   "execution_count": null,
   "id": "2dfa05a4-9c1f-4c25-8e95-ee824626b307",
   "metadata": {},
   "outputs": [],
   "source": [
    "col_fun = colorRamp2(c(0\n",
    "                       ,10\n",
    "                       #,50\n",
    "                       ,100\n",
    "                       ,1000\n",
    "                       , max(df1)), c(\"white\"\n",
    "                                     #,\"lightgoldenrod1\"\n",
    "                                     #,\"gold\"\n",
    "                                     ,\"#CFCFCF\"\n",
    "                                     ,\"#BFBFBF\"\n",
    "                                     #,\"#A1A1A1\"\n",
    "                                     ,\"salmon\"\n",
    "                                     , \"darkred\"))"
   ]
  },
  {
   "cell_type": "code",
   "execution_count": null,
   "id": "6ca2e501",
   "metadata": {
    "ExecuteTime": {
     "end_time": "2023-01-27T13:34:46.804655Z",
     "start_time": "2023-01-27T13:34:06.779Z"
    }
   },
   "outputs": [],
   "source": [
    "options(repr.plot.width = 6\n",
    "      ,repr.plot.height = 5.5)\n",
    "Heatmap(df\n",
    "        ,cluster_columns = FALSE\n",
    "        ,col = col_fun\n",
    "        ,name=\"nr cells\"\n",
    "        ,show_heatmap_legend = FALSE\n",
    "        ,cell_fun = function(j, i, x, y, width, height, fill) {\n",
    "                grid.text(as.character(df[i, j])\n",
    "                          , x\n",
    "                          , y\n",
    "                          , gp = gpar(fontsize = 12\n",
    "                                      )\n",
    "                          ,rot=90\n",
    "                          )\n",
    "                }\n",
    "        )"
   ]
  },
  {
   "cell_type": "markdown",
   "id": "6945406c",
   "metadata": {},
   "source": [
    "### library size by cell type"
   ]
  },
  {
   "cell_type": "code",
   "execution_count": null,
   "id": "a021cea8",
   "metadata": {},
   "outputs": [],
   "source": [
    "cell_type_IDs <- unique(anno_cells_cf_ctf_gf_sf$cell_type_ID)\n",
    "counts_filtered_pseudobulkCellType <- as.data.frame(matrix(,nrow = nrow(counts_cf_ctf_gf_sf)\n",
    "                                                    ,ncol = length(cell_type_IDs)\n",
    "))\n",
    "\n",
    "i <- 1\n",
    "for(cell_type_ID in cell_type_IDs){\n",
    "        \n",
    "        idx_cell_type_ID <- anno_cells_cf_ctf_gf_sf$cell_type_ID == cell_type_ID\n",
    "        \n",
    "        if(sum(idx_cell_type_ID) == 0){\n",
    "                counts_filtered_pseudobulkCellType[,i] <- 0\n",
    "        } else if( sum(idx_cell_type_ID) == 1){\n",
    "                counts_filtered_pseudobulkCellType[,i] <- counts_cf_ctf_gf_sf[,idx_cell_type_ID]\n",
    "        } else {\n",
    "                counts_filtered_pseudobulkCellType[,i] <- rowMeans(counts_cf_ctf_gf_sf[,idx_cell_type_ID])\n",
    "        }\n",
    "        \n",
    "        i <- i+1\n",
    "}\n",
    "\n",
    "colnames(counts_filtered_pseudobulkCellType) <- cell_type_IDs\n",
    "rownames(counts_filtered_pseudobulkCellType) <- rownames(counts_cf_ctf_gf_sf)\n",
    "cat(\"str(counts_filtered_pseudobulkCellType\\n\\n)\")\n",
    "print(str(counts_filtered_pseudobulkCellType))"
   ]
  },
  {
   "cell_type": "code",
   "execution_count": null,
   "id": "2e9ea7c9",
   "metadata": {},
   "outputs": [],
   "source": [
    "# visualize expression in pseudo sorted bulk\n",
    "\n",
    "my_sampes <- sub(\"_.*\", \"\", colnames(counts_filtered_pseudobulkCellType))\n",
    "df <- data.frame(log10_lib_size = log10(colSums(counts_filtered_pseudobulkCellType) +1)\n",
    "                 ,sample_ID = sub(\".*_\"\n",
    "                                  ,\"\"\n",
    "                                  ,colnames(counts_filtered_pseudobulkCellType)\n",
    "                 )\n",
    "                 ,cell_type = sub(\"_.*\"\n",
    "                                   ,\"\"\n",
    "                                   ,colnames(counts_filtered_pseudobulkCellType)\n",
    "                 )\n",
    ")"
   ]
  },
  {
   "cell_type": "code",
   "execution_count": null,
   "id": "2249e5b4",
   "metadata": {},
   "outputs": [],
   "source": [
    "options(repr.plot.width=5\n",
    "        , repr.plot.height=6) \n",
    "ggplot(data = df\n",
    "             ,aes(y = sample_ID\n",
    "                  ,x = log10_lib_size\n",
    "                  ,color = cell_type\n",
    "             )\n",
    ") +\n",
    "geom_jitter(height = 0.1\n",
    "            ,width = 0\n",
    "            ,alpha = 0.6\n",
    "           ,size =2) +\n",
    "xlim(c(1.5,4))+\n",
    "ylab(\"\")+\n",
    "scale_color_manual(values = color_celltype\n",
    "                  ,name = \"\")+\n",
    "theme_bw()+\n",
    "xlab(\"log10 library size\")+\n",
    "theme(text = element_text(size = 14)\n",
    "     ,legend.position = \"bottom\")"
   ]
  },
  {
   "cell_type": "code",
   "execution_count": null,
   "id": "2d4e0a76",
   "metadata": {},
   "outputs": [],
   "source": [
    "str(anno_genes_cf_ctf_gf_sf)"
   ]
  },
  {
   "cell_type": "code",
   "execution_count": null,
   "id": "ce2f1741",
   "metadata": {},
   "outputs": [],
   "source": [
    "cell_type_IDs <- unique(anno_cells_cf_ctf_gf_sf$cell_type_ID)\n",
    "idx_ligrec <- anno_genes_cf_ctf_gf_sf$isLigand | anno_genes_cf_ctf_gf_sf$isReceptor\n",
    "counts_ligrec_pseudobulkCellType <- as.data.frame(matrix(,nrow = sum(idx_ligrec)\n",
    "                                                    ,ncol = length(cell_type_IDs)\n",
    "))\n",
    "\n",
    "i <- 1\n",
    "for(cell_type_ID in cell_type_IDs){\n",
    "        \n",
    "        idx_cell_type_ID <- anno_cells_cf_ctf_gf_sf$cell_type_ID == cell_type_ID\n",
    "        \n",
    "        if(sum(idx_cell_type_ID) == 0){\n",
    "                counts_ligrec_pseudobulkCellType[,i] <- 0\n",
    "        } else if( sum(idx_cell_type_ID) == 1){\n",
    "                counts_ligrec_pseudobulkCellType[,i] <- counts_cf_ctf_gf_sf[idx_ligrec,idx_cell_type_ID]\n",
    "        } else {\n",
    "                counts_ligrec_pseudobulkCellType[,i] <- rowMeans(counts_cf_ctf_gf_sf[idx_ligrec,idx_cell_type_ID])\n",
    "        }\n",
    "        \n",
    "        i <- i+1\n",
    "}\n",
    "\n",
    "colnames(counts_ligrec_pseudobulkCellType) <- cell_type_IDs\n",
    "rownames(counts_ligrec_pseudobulkCellType) <- rownames(counts_cf_ctf_gf_sf)[idx_ligrec]\n",
    "cat(\"str(counts_ligrec_pseudobulkCellType\\n\\n)\")\n",
    "print(str(counts_ligrec_pseudobulkCellType))"
   ]
  },
  {
   "cell_type": "code",
   "execution_count": null,
   "id": "f5876b53",
   "metadata": {},
   "outputs": [],
   "source": [
    "# visualize expression in pseudo sorted bulk\n",
    "\n",
    "my_sampes <- sub(\"_.*\", \"\", colnames(counts_ligrec_pseudobulkCellType))\n",
    "df <- data.frame(log10_lib_size = log10(colSums(counts_ligrec_pseudobulkCellType) +1)\n",
    "                 ,sample_ID = sub(\".*_\"\n",
    "                                  ,\"\"\n",
    "                                  ,colnames(counts_ligrec_pseudobulkCellType)\n",
    "                 )\n",
    "                 ,cell_type = sub(\"_.*\"\n",
    "                                   ,\"\"\n",
    "                                   ,colnames(counts_ligrec_pseudobulkCellType)\n",
    "                 )\n",
    ")"
   ]
  },
  {
   "cell_type": "code",
   "execution_count": null,
   "id": "ab6f68ec",
   "metadata": {},
   "outputs": [],
   "source": [
    "options(repr.plot.width=5\n",
    "        , repr.plot.height=6) \n",
    "ggplot(data = df\n",
    "             ,aes(y = sample_ID\n",
    "                  ,x = log10_lib_size\n",
    "                  ,color = cell_type\n",
    "             )\n",
    ") +\n",
    "geom_jitter(height = 0.1\n",
    "            ,width = 0\n",
    "            ,alpha = 0.6\n",
    "           ,size =2) +\n",
    "xlim(c(1.5,4))+\n",
    "ylab(\"\")+\n",
    "scale_color_manual(values = color_celltype\n",
    "                  ,name = \"\")+\n",
    "theme_bw()+\n",
    "xlab(\"log10 library size\")+\n",
    "theme(text = element_text(size = 14)\n",
    "     ,legend.position = \"bottom\")"
   ]
  },
  {
   "cell_type": "markdown",
   "id": "4823b0a7",
   "metadata": {},
   "source": [
    "### export"
   ]
  },
  {
   "cell_type": "markdown",
   "id": "bd9859c4",
   "metadata": {},
   "source": [
    "Since the data is already normalized, we will export it with the tag \"norm\""
   ]
  },
  {
   "cell_type": "code",
   "execution_count": null,
   "id": "36a3b6c3",
   "metadata": {
    "ExecuteTime": {
     "end_time": "2023-01-27T13:35:38.909629Z",
     "start_time": "2023-01-27T13:34:06.791Z"
    }
   },
   "outputs": [],
   "source": [
    "# save counts\n",
    "library(Matrix)\n",
    "writeMM(obj = Matrix(as.matrix(counts_cf_ctf_gf_sf)\n",
    "                     , sparse=TRUE)\n",
    "        , file = \"outs/counts_norm.mtx\"\n",
    "        )\n",
    "\n",
    "# export anno_cells\n",
    "write.table(anno_cells_cf_ctf_gf_sf\n",
    "            ,file = \"outs/anno_cells_norm.txt\"\n",
    "             ,sep = \"\\t\"\n",
    "            ,row.names = FALSE )\n",
    "\n",
    "\n",
    "# export anno_genes\n",
    "write.table(anno_genes_cf_ctf_gf_sf\n",
    "            ,file = \"outs/anno_genes_norm.txt\"\n",
    "            ,sep = \"\\t\"\n",
    "            ,row.names = FALSE\n",
    ")\n",
    "\n",
    "# export anno_samples\n",
    "write.table(anno_samples_cf_ctf_gf_sf\n",
    "            ,file = \"outs/anno_samples_norm.txt\"\n",
    "            ,sep = \"\\t\"\n",
    "            ,row.names = FALSE\n",
    ")"
   ]
  },
  {
   "cell_type": "code",
   "execution_count": null,
   "id": "c1194565",
   "metadata": {},
   "outputs": [],
   "source": [
    "getwd()"
   ]
  },
  {
   "cell_type": "code",
   "execution_count": null,
   "id": "08d13291",
   "metadata": {},
   "outputs": [],
   "source": []
  }
 ],
 "metadata": {
  "kernelspec": {
   "display_name": "R",
   "language": "R",
   "name": "ir"
  },
  "language_info": {
   "codemirror_mode": "r",
   "file_extension": ".r",
   "mimetype": "text/x-r-source",
   "name": "R",
   "pygments_lexer": "r",
   "version": "4.1.2"
  },
  "toc": {
   "base_numbering": 1,
   "nav_menu": {},
   "number_sections": true,
   "sideBar": true,
   "skip_h1_title": false,
   "title_cell": "Table of Contents",
   "title_sidebar": "Contents",
   "toc_cell": false,
   "toc_position": {},
   "toc_section_display": true,
   "toc_window_display": false
  }
 },
 "nbformat": 4,
 "nbformat_minor": 5
}
