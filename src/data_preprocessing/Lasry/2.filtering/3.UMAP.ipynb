{
 "cells": [
  {
   "cell_type": "markdown",
   "id": "1ce03385",
   "metadata": {},
   "source": [
    "# Part 4"
   ]
  },
  {
   "cell_type": "markdown",
   "id": "16e8a4ff",
   "metadata": {},
   "source": [
    "- **INPUT:**\n",
    "    -  ```counts_norm.mtx``` \n",
    "    -  ```anno_cells_norm.txt``` \n",
    "    -  ```anno_samples_norm.txt``` \n",
    "    -  ```anno_genes_norm.txt``` \n",
    "    -  ```cell_relabelling.csv``` file containing unified cell type annotations. Stored in additional_input_files sub-directory.\n",
    "    \n",
    "    \n",
    "- **OUTPUT:**\n",
    "\n",
    "    -  ```counts_corr.csv.gz``` \n",
    "    -  ```anno_cells_corr.txt``` \n",
    "    -  ```anno_samples_corr.txt``` \n",
    "    -  ```anno_genes_corr.txt``` \n",
    "    -  ```adata_afterCorrection.h5ad```"
   ]
  },
  {
   "cell_type": "markdown",
   "id": "8745b72b",
   "metadata": {},
   "source": [
    "### load data"
   ]
  },
  {
   "cell_type": "code",
   "execution_count": 18,
   "id": "a1ac9b50",
   "metadata": {
    "ExecuteTime": {
     "end_time": "2023-01-27T13:36:04.097790Z",
     "start_time": "2023-01-27T13:36:03.979851Z"
    }
   },
   "outputs": [],
   "source": [
    "import numpy as np\n",
    "import scanpy as sc\n",
    "import pandas as pd\n",
    "import os\n",
    "import shutil"
   ]
  },
  {
   "cell_type": "code",
   "execution_count": 19,
   "id": "179534af-8066-4d70-b698-f9571045cbd9",
   "metadata": {},
   "outputs": [
    {
     "name": "stdout",
     "output_type": "stream",
     "text": [
      "here\n"
     ]
    }
   ],
   "source": [
    "print(\"here\")"
   ]
  },
  {
   "cell_type": "code",
   "execution_count": 20,
   "id": "a6bb32a6",
   "metadata": {},
   "outputs": [],
   "source": [
    "adata=sc.read_mtx(\"../2.filtering/outs/counts_norm.mtx\")"
   ]
  },
  {
   "cell_type": "code",
   "execution_count": 21,
   "id": "6d3c8ea2",
   "metadata": {},
   "outputs": [],
   "source": [
    "adata = adata.T"
   ]
  },
  {
   "cell_type": "code",
   "execution_count": 22,
   "id": "5b207830",
   "metadata": {
    "ExecuteTime": {
     "end_time": "2023-01-27T13:36:21.879072Z",
     "start_time": "2023-01-27T13:36:21.504532Z"
    }
   },
   "outputs": [
    {
     "name": "stderr",
     "output_type": "stream",
     "text": [
      "/tmp/ipykernel_27794/847540488.py:2: DtypeWarning: Columns (21,25,26,27,28,29,31,32,33,34,35,36,37,40,41,42,43,46,47,49,54,56,57,60,64,66,67,69) have mixed types. Specify dtype option on import or set low_memory=False.\n",
      "  anno_cells = pd.read_csv(\"../2.filtering/outs/anno_cells_norm.txt\", sep = \"\\t\")\n"
     ]
    }
   ],
   "source": [
    "# read in cell annotation file\n",
    "anno_cells = pd.read_csv(\"../2.filtering/outs/anno_cells_norm.txt\", sep = \"\\t\") "
   ]
  },
  {
   "cell_type": "code",
   "execution_count": 23,
   "id": "11087113",
   "metadata": {
    "ExecuteTime": {
     "end_time": "2023-01-27T13:36:21.957890Z",
     "start_time": "2023-01-27T13:36:21.883201Z"
    }
   },
   "outputs": [],
   "source": [
    "# read in sample annotation file\n",
    "anno_samples = pd.read_csv(\"../2.filtering/outs/anno_samples_norm.txt\", sep = \"\\t\") "
   ]
  },
  {
   "cell_type": "code",
   "execution_count": 24,
   "id": "eac157bd",
   "metadata": {
    "ExecuteTime": {
     "end_time": "2023-01-27T13:36:22.025588Z",
     "start_time": "2023-01-27T13:36:21.961173Z"
    }
   },
   "outputs": [],
   "source": [
    "# read in gene annotation file\n",
    "anno_genes = pd.read_csv(\"../2.filtering/outs/anno_genes_norm.txt\", sep = \"\\t\") "
   ]
  },
  {
   "cell_type": "code",
   "execution_count": null,
   "id": "b67ca126",
   "metadata": {},
   "outputs": [],
   "source": []
  },
  {
   "cell_type": "code",
   "execution_count": 25,
   "id": "32bf2ee6",
   "metadata": {
    "ExecuteTime": {
     "end_time": "2023-01-27T13:36:22.087860Z",
     "start_time": "2023-01-27T13:36:22.032236Z"
    }
   },
   "outputs": [],
   "source": [
    "# load cell subtype and color keys\n",
    "cell_relabel=pd.read_csv(\"../../cell_relabelling.csv\"\n",
    "                        ,sep=';')"
   ]
  },
  {
   "cell_type": "code",
   "execution_count": 26,
   "id": "4b610096-15b7-4786-9cf6-822f22b8e022",
   "metadata": {},
   "outputs": [],
   "source": [
    "cell_relabel = cell_relabel[cell_relabel.source==\"Lasry et al., 2022\"]"
   ]
  },
  {
   "cell_type": "code",
   "execution_count": 27,
   "id": "6c3dfebb",
   "metadata": {
    "ExecuteTime": {
     "end_time": "2023-01-27T13:36:22.171922Z",
     "start_time": "2023-01-27T13:36:22.091353Z"
    }
   },
   "outputs": [
    {
     "name": "stdout",
     "output_type": "stream",
     "text": [
      "adata.var_names[1:10]\n",
      "Index(['LINC01409', 'LINC01128', 'LINC00115', 'FAM41C', 'AL645608.2', 'NOC2L',\n",
      "       'KLHL17', 'PLEKHN1', 'HES4'],\n",
      "      dtype='object', name='gene_symbol')\n"
     ]
    }
   ],
   "source": [
    "adata.var_names=anno_genes['gene_symbol']\n",
    "print(\"adata.var_names[1:10]\")\n",
    "print(adata.var_names[1:10])\n",
    "adata.var = anno_genes\n",
    "adata.var.index = adata.var.index.astype(str)"
   ]
  },
  {
   "cell_type": "code",
   "execution_count": 28,
   "id": "8c723bc4",
   "metadata": {
    "ExecuteTime": {
     "end_time": "2023-01-27T13:36:22.211396Z",
     "start_time": "2023-01-27T13:36:22.184837Z"
    }
   },
   "outputs": [
    {
     "name": "stdout",
     "output_type": "stream",
     "text": [
      "adata.obs_names[1:10]\n",
      "Index(['2020.09.15.AML0024.CATCAAGTCCGAGAAG',\n",
      "       '2020.09.15.AML0024.CATCCACAGGGACCAT',\n",
      "       '2020.09.15.AML0024.CCTCAACAGAGCAAGA',\n",
      "       '2020.09.15.AML0024.CCTCAACAGTTCCATG',\n",
      "       '2020.09.15.AML0024.CCTCAACGTAGAATAC',\n",
      "       '2020.09.15.AML0024.CCTCAACGTTCTCCCA',\n",
      "       '2020.09.15.AML0024.CCTCAACTCCGAACGC',\n",
      "       '2020.09.15.AML0024.CCTCAACTCTAGTCAG',\n",
      "       '2020.09.15.AML0024.CCTCACAAGACAGTCG'],\n",
      "      dtype='object', name='cell_ID')\n"
     ]
    }
   ],
   "source": [
    "adata.obs_names=anno_cells['cell_ID']\n",
    "print(\"adata.obs_names[1:10]\")\n",
    "print(adata.obs_names[1:10])\n",
    "adata.obs = anno_cells\n",
    "adata.obs.index = adata.obs.index.astype(str)"
   ]
  },
  {
   "cell_type": "code",
   "execution_count": 29,
   "id": "55c54867",
   "metadata": {
    "ExecuteTime": {
     "end_time": "2023-01-27T13:36:22.245948Z",
     "start_time": "2023-01-27T13:36:22.220364Z"
    }
   },
   "outputs": [
    {
     "name": "stdout",
     "output_type": "stream",
     "text": [
      "{'T': '#4F92EE', 'Mono': '#F09040', 'DC': '#854701', 'B': '#4FC384', 'NK': '#4F64EE', 'HSPC': '#D040F0', 'Gran': '#CD6600', 'PeriVasc': '#BEBEBE', 'LymP': '#556B2F', 'Ery': '#F72E3A', 'Megakaryocytes': '#C89B7A'}\n"
     ]
    }
   ],
   "source": [
    "# define colors\n",
    "colors_cell_type=dict(zip(cell_relabel[\"cell_type\"],cell_relabel[\"cell_type_color_hex\"]))\n",
    "print(colors_cell_type)"
   ]
  },
  {
   "cell_type": "code",
   "execution_count": 30,
   "id": "892e935b",
   "metadata": {
    "ExecuteTime": {
     "end_time": "2023-01-27T13:36:22.526258Z",
     "start_time": "2023-01-27T13:36:22.256184Z"
    }
   },
   "outputs": [
    {
     "data": {
      "text/plain": [
       "Mono      18004\n",
       "CD8_T      6272\n",
       "CD4_T      4989\n",
       "B          4413\n",
       "HSPC       3169\n",
       "NK         3078\n",
       "Gran       2332\n",
       "Ery        1674\n",
       "cDC        1092\n",
       "pDC         542\n",
       "gd_T        487\n",
       "Plasma      352\n",
       "MAIT        298\n",
       "Name: cell_subtype, dtype: int64"
      ]
     },
     "execution_count": 30,
     "metadata": {},
     "output_type": "execute_result"
    }
   ],
   "source": [
    "#there is an error at line 9, cell_subtype is only 2 values?\n",
    "adata.obs[\"cell_subtype\"].value_counts()"
   ]
  },
  {
   "cell_type": "code",
   "execution_count": 31,
   "id": "e8331cc6",
   "metadata": {
    "ExecuteTime": {
     "end_time": "2023-01-27T13:36:55.135314Z",
     "start_time": "2023-01-27T13:36:55.126021Z"
    }
   },
   "outputs": [],
   "source": [
    "# rename \"malignangt\" columns into \"bares_mutatoin\"\n",
    "adata.obs[\"bares_mutation\"] = adata.obs[\"malignant\"].astype('str')"
   ]
  },
  {
   "cell_type": "code",
   "execution_count": 32,
   "id": "b9911564",
   "metadata": {
    "ExecuteTime": {
     "end_time": "2023-01-27T13:36:55.715658Z",
     "start_time": "2023-01-27T13:36:55.704348Z"
    }
   },
   "outputs": [
    {
     "name": "stdout",
     "output_type": "stream",
     "text": [
      "{'CD4_T': '#4FCCEE', 'CD8_T': '#4F92EE', 'Mono': '#F09040', 'cDC': '#B95D10', 'B': '#4FC384', 'NK': '#4F64EE', 'HSPC': '#D040F0', 'MAIT': '#00688B', 'pDC': '#854701', 'Gran': '#CD6600', 'gd_T': '#00BFFF', 'Plasma': '#317E54', 'PeriVasc': '#BEBEBE', 'LymP': '#556B2F', 'Ery': '#C72D37', 'Megakaryocytes': '#C89B7A'}\n",
      "{'T': '#4F92EE', 'Mono': '#F09040', 'DC': '#854701', 'B': '#4FC384', 'NK': '#4F64EE', 'HSPC': '#D040F0', 'Gran': '#CD6600', 'PeriVasc': '#BEBEBE', 'LymP': '#556B2F', 'Ery': '#F72E3A', 'Megakaryocytes': '#C89B7A'}\n"
     ]
    }
   ],
   "source": [
    "# define color schemes\n",
    "colors_cell_subtype=dict(zip(cell_relabel[\"cell_subtype\"],cell_relabel[\"cell_subtype_color_hex\"]))\n",
    "print(colors_cell_subtype)\n",
    "\n",
    "colors_cell_type=dict(zip(cell_relabel[\"cell_type\"],cell_relabel[\"cell_type_color_hex\"]))\n",
    "print(colors_cell_type)"
   ]
  },
  {
   "cell_type": "code",
   "execution_count": 33,
   "id": "57264b5c",
   "metadata": {
    "ExecuteTime": {
     "end_time": "2023-01-27T13:36:56.667782Z",
     "start_time": "2023-01-27T13:36:56.662017Z"
    }
   },
   "outputs": [],
   "source": [
    "adata.uns[\"health_status_colors\"] = [\"#7C001F\" # bordeau for AML\n",
    "                                                     , \"#7ac5cd\" # CadetBlue3 for healthy\n",
    "                                                     ]\n",
    "\n",
    "adata.uns[\"bares_mutation_colors\"] = [\"#A6ACAF\" # grey for FALSE\n",
    "                                                  , \"#C0392B\" # red for TRUE\n",
    "                                                 ]"
   ]
  },
  {
   "cell_type": "markdown",
   "id": "7a8f839d",
   "metadata": {},
   "source": [
    "### visualize before batch correction"
   ]
  },
  {
   "cell_type": "markdown",
   "id": "5f341399",
   "metadata": {},
   "source": [
    "# Export"
   ]
  },
  {
   "cell_type": "code",
   "execution_count": 34,
   "id": "9b26455a",
   "metadata": {},
   "outputs": [],
   "source": [
    "output_path = \"outs/\""
   ]
  },
  {
   "cell_type": "code",
   "execution_count": 35,
   "id": "4f1999a8",
   "metadata": {},
   "outputs": [
    {
     "name": "stdout",
     "output_type": "stream",
     "text": [
      "save counts_corr.csv.gz\n"
     ]
    }
   ],
   "source": [
    "# export counts as csv.gz\n",
    "print(\"save counts_corr.csv.gz\")\n",
    "\n",
    "counts_corr=adata.to_df().transpose()\n",
    "counts_corr.index = adata.var.gene_symbol\n",
    "counts_corr.columns = adata.obs.cell\n",
    "counts_corr.to_csv(output_path + \"counts_norm.csv.gz\"\n",
    "                   ,index=True\n",
    "                   ,compression=\"gzip\"\n",
    "                   )"
   ]
  },
  {
   "cell_type": "code",
   "execution_count": null,
   "id": "f1766f7f-de2d-473a-82ba-b7bb1357a8d1",
   "metadata": {},
   "outputs": [],
   "source": []
  },
  {
   "cell_type": "code",
   "execution_count": null,
   "id": "2c567b4e-3984-4867-bc4b-6fd16de5571b",
   "metadata": {},
   "outputs": [],
   "source": []
  },
  {
   "cell_type": "code",
   "execution_count": null,
   "id": "55f131da",
   "metadata": {},
   "outputs": [],
   "source": [
    "# export anno_cells_corr\n",
    "print(\"save anno_cells_corr.txt\")\n",
    "adata.obs.to_csv(output_path + \"anno_cells_norm.txt\"\n",
    "                    ,sep = \"\\t\"\n",
    "                    ,index = True)\n"
   ]
  },
  {
   "cell_type": "code",
   "execution_count": null,
   "id": "c449eda4",
   "metadata": {},
   "outputs": [],
   "source": [
    "# export anno_samples_corr\n",
    "print(\"save anno_samples_corr.txt\")\n",
    "anno_samples.to_csv(output_path + \"anno_samples_norm.txt\"\n",
    "                    ,sep = \"\\t\"\n",
    "                    ,index = True)"
   ]
  },
  {
   "cell_type": "code",
   "execution_count": null,
   "id": "8c46160f",
   "metadata": {},
   "outputs": [],
   "source": [
    "# export anno_genes_corr\n",
    "print(\"save anno_genes_corr.txt\")\n",
    "adata.var.to_csv(output_path + \"anno_genes_norm.txt\"\n",
    "                    ,sep = \"\\t\"\n",
    "                    ,index = True)"
   ]
  },
  {
   "cell_type": "code",
   "execution_count": null,
   "id": "a24a0e2c",
   "metadata": {},
   "outputs": [],
   "source": [
    "output_path"
   ]
  },
  {
   "cell_type": "code",
   "execution_count": null,
   "id": "d405100a-fa70-4aed-839b-6612ddbeded0",
   "metadata": {},
   "outputs": [],
   "source": []
  }
 ],
 "metadata": {
  "kernelspec": {
   "display_name": "Python 3 (ipykernel)",
   "language": "python",
   "name": "python3"
  },
  "language_info": {
   "codemirror_mode": {
    "name": "ipython",
    "version": 3
   },
   "file_extension": ".py",
   "mimetype": "text/x-python",
   "name": "python",
   "nbconvert_exporter": "python",
   "pygments_lexer": "ipython3",
   "version": "3.11.7"
  },
  "toc": {
   "base_numbering": 1,
   "nav_menu": {},
   "number_sections": true,
   "sideBar": true,
   "skip_h1_title": false,
   "title_cell": "Table of Contents",
   "title_sidebar": "Contents",
   "toc_cell": false,
   "toc_position": {},
   "toc_section_display": true,
   "toc_window_display": false
  }
 },
 "nbformat": 4,
 "nbformat_minor": 5
}
