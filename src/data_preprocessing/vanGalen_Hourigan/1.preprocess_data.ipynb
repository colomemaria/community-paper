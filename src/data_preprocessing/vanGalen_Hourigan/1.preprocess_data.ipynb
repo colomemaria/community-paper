{
 "cells": [
  {
   "cell_type": "markdown",
   "id": "2f2f119d",
   "metadata": {},
   "source": [
    "# PART 1\n",
    "## READ IN AND CLEAN UP DATA"
   ]
  },
  {
   "cell_type": "markdown",
   "id": "8a93a00f",
   "metadata": {},
   "source": [
    "- **INPUT:**\n",
    "    - ```$path_in``` argument: raw_data directory containing two sub-directories: GSE116256_RAW and GSE120221_RAW\n",
    "    - raw count matrices from the GSE116256_RAW dataset\n",
    "\t- raw count matrices from the GSE120221_RAW dataset\n",
    "    \n",
    "- **NOTES:**\n",
    "\n",
    "    -  samples BM5, MUTZ3, and OCI-AML3 are excluded from the GSE116256_RAW dataset\n",
    "    -  all non-D0 samples are excluded from the GSE116256_RAW dataset\n",
    "    -  samples Ck, C2, S1, Sk1, and S2 are excluded from the GSE120221_RAW dataset, as those are replicating samples C1 and Sk2.\n",
    "    -  all-zero genes are excluded\n",
    "    \n",
    "- **OUTPUT:**\n",
    "\n",
    "    -  ```counts.RData``` raw merged counts\n",
    "    -  ```samples.RData``` variable containing IDs of selected samples"
   ]
  },
  {
   "cell_type": "markdown",
   "id": "8d6752ad",
   "metadata": {},
   "source": [
    "### prepare list of samples"
   ]
  },
  {
   "cell_type": "code",
   "execution_count": 1,
   "id": "09c41853",
   "metadata": {},
   "outputs": [],
   "source": [
    "library(Matrix)"
   ]
  },
  {
   "cell_type": "code",
   "execution_count": 2,
   "id": "61a483e2",
   "metadata": {},
   "outputs": [
    {
     "name": "stdout",
     "output_type": "stream",
     "text": [
      "[1] \"input path is:\"\n",
      "[1] \"../../../data/data_preprocessing/vanGalen_Hourigan/raw_data\"\n",
      "[1] \"output path is:\"\n",
      "[1] \"../../../results/data_preprocessing/vanGalen_Hourigan/preprocessed/\"\n"
     ]
    }
   ],
   "source": [
    "# raw_data directory contains two sub-directories: GSE116256_RAW and GSE120221_RAW\n",
    "\n",
    "path_in <- \"../../../data/data_preprocessing/vanGalen_Hourigan/raw_data\"\n",
    "print(\"input path is:\")\n",
    "print(path_in)\n",
    "\n",
    "path_out <- \"../../../results/data_preprocessing/vanGalen_Hourigan/preprocessed/\"\n",
    "print(\"output path is:\")\n",
    "print(path_out)"
   ]
  },
  {
   "cell_type": "code",
   "execution_count": 3,
   "id": "036bfcce",
   "metadata": {},
   "outputs": [
    {
     "name": "stdout",
     "output_type": "stream",
     "text": [
      "[1] \"variables\"\n",
      "[1] \"datasets:\"\n",
      "[1] \"GSE116256_RAW\" \"GSE120221_RAW\"\n"
     ]
    }
   ],
   "source": [
    "# variables####\n",
    "print(\"variables\")\n",
    "datasets <- list.files(path_in)\n",
    "print(\"datasets:\")\n",
    "print(datasets)"
   ]
  },
  {
   "cell_type": "code",
   "execution_count": 4,
   "id": "934dc38d",
   "metadata": {},
   "outputs": [
    {
     "name": "stdout",
     "output_type": "stream",
     "text": [
      "[1] \"files:\"\n",
      "$GSE116256_RAW\n",
      " [1] \"GSM3587923_AML1012-D0.dem.txt\"    \"GSM3587924_AML1012-D0.anno.txt\"  \n",
      " [3] \"GSM3587925_AML210A-D0.dem.txt\"    \"GSM3587926_AML210A-D0.anno.txt\"  \n",
      " [5] \"GSM3587927_AML314-D0.dem.txt\"     \"GSM3587928_AML314-D0.anno.txt\"   \n",
      " [7] \"GSM3587929_AML314-D31.dem.txt\"    \"GSM3587930_AML314-D31.anno.txt\"  \n",
      " [9] \"GSM3587931_AML328-D0.dem.txt\"     \"GSM3587932_AML328-D0.anno.txt\"   \n",
      "[11] \"GSM3587933_AML328-D113.dem.txt\"   \"GSM3587934_AML328-D113.anno.txt\" \n",
      "[13] \"GSM3587935_AML328-D171.dem.txt\"   \"GSM3587936_AML328-D171.anno.txt\" \n",
      "[15] \"GSM3587937_AML328-D29.dem.txt\"    \"GSM3587938_AML328-D29.anno.txt\"  \n",
      "[17] \"GSM3587939_AML328.nanopore.txt\"   \"GSM3587940_AML329-D0.dem.txt\"    \n",
      "[19] \"GSM3587941_AML329-D0.anno.txt\"    \"GSM3587942_AML329-D20.dem.txt\"   \n",
      "[21] \"GSM3587943_AML329-D20.anno.txt\"   \"GSM3587944_AML329-D37.dem.txt\"   \n",
      "[23] \"GSM3587945_AML329-D37.anno.txt\"   \"GSM3587946_AML371-D0.dem.txt\"    \n",
      "[25] \"GSM3587947_AML371-D0.anno.txt\"    \"GSM3587948_AML371-D34.dem.txt\"   \n",
      "[27] \"GSM3587949_AML371-D34.anno.txt\"   \"GSM3587950_AML419A-D0.dem.txt\"   \n",
      "[29] \"GSM3587951_AML419A-D0.anno.txt\"   \"GSM3587952_AML419A.nanopore.txt\" \n",
      "[31] \"GSM3587953_AML420B-D0.dem.txt\"    \"GSM3587954_AML420B-D0.anno.txt\"  \n",
      "[33] \"GSM3587955_AML420B-D14.dem.txt\"   \"GSM3587956_AML420B-D14.anno.txt\" \n",
      "[35] \"GSM3587957_AML420B-D35.dem.txt\"   \"GSM3587958_AML420B-D35.anno.txt\" \n",
      "[37] \"GSM3587959_AML475-D0.dem.txt\"     \"GSM3587960_AML475-D0.anno.txt\"   \n",
      "[39] \"GSM3587961_AML475-D29.dem.txt\"    \"GSM3587962_AML475-D29.anno.txt\"  \n",
      "[41] \"GSM3587963_AML556-D0.dem.txt\"     \"GSM3587964_AML556-D0.anno.txt\"   \n",
      "[43] \"GSM3587965_AML556-D15.dem.txt\"    \"GSM3587966_AML556-D15.anno.txt\"  \n",
      "[45] \"GSM3587967_AML556-D31.dem.txt\"    \"GSM3587968_AML556-D31.anno.txt\"  \n",
      "[47] \"GSM3587969_AML707B-D0.dem.txt\"    \"GSM3587970_AML707B-D0.anno.txt\"  \n",
      "[49] \"GSM3587971_AML707B-D113.dem.txt\"  \"GSM3587972_AML707B-D113.anno.txt\"\n",
      "[51] \"GSM3587973_AML707B-D18.dem.txt\"   \"GSM3587974_AML707B-D18.anno.txt\" \n",
      "[53] \"GSM3587975_AML707B-D41.dem.txt\"   \"GSM3587976_AML707B-D41.anno.txt\" \n",
      "[55] \"GSM3587977_AML707B-D97.dem.txt\"   \"GSM3587978_AML707B-D97.anno.txt\" \n",
      "[57] \"GSM3587979_AML707B.nanopore.txt\"  \"GSM3587980_AML722B-D0.dem.txt\"   \n",
      "[59] \"GSM3587981_AML722B-D0.anno.txt\"   \"GSM3587982_AML722B-D49.dem.txt\"  \n",
      "[61] \"GSM3587983_AML722B-D49.anno.txt\"  \"GSM3587984_AML870-D0.dem.txt\"    \n",
      "[63] \"GSM3587985_AML870-D0.anno.txt\"    \"GSM3587986_AML870-D14.dem.txt\"   \n",
      "[65] \"GSM3587987_AML870-D14.anno.txt\"   \"GSM3587988_AML916-D0.dem.txt\"    \n",
      "[67] \"GSM3587989_AML916-D0.anno.txt\"    \"GSM3587990_AML921A-D0.dem.txt\"   \n",
      "[69] \"GSM3587991_AML921A-D0.anno.txt\"   \"GSM3587992_AML997-D0.dem.txt\"    \n",
      "[71] \"GSM3587993_AML997-D0.anno.txt\"    \"GSM3587994_AML997-D35.dem.txt\"   \n",
      "[73] \"GSM3587995_AML997-D35.anno.txt\"   \"GSM3587996_BM1.anno.txt\"         \n",
      "[75] \"GSM3587996_BM1.dem.txt\"           \"GSM3587997_BM2.anno.txt\"         \n",
      "[77] \"GSM3587997_BM2.dem.txt\"           \"GSM3587998_BM3.dem.txt\"          \n",
      "[79] \"GSM3587999_BM3.anno.txt\"          \"GSM3588000_BM4.dem.txt\"          \n",
      "[81] \"GSM3588001_BM4.anno.txt\"          \"GSM3588002_BM5-34p.anno.txt\"     \n",
      "[83] \"GSM3588002_BM5-34p.dem.txt\"       \"GSM3588003_BM5-34p38n.anno.txt\"  \n",
      "[85] \"GSM3588003_BM5-34p38n.dem.txt\"    \"GSM3588004_MUTZ3.anno.txt\"       \n",
      "[87] \"GSM3588004_MUTZ3.dem.txt\"         \"GSM3588005_OCI-AML3.anno.txt\"    \n",
      "[89] \"GSM3588005_OCI-AML3.dem.txt\"     \n",
      "\n",
      "$GSE120221_RAW\n",
      " [1] \"GSM3396161_barcodes_A.tsv\"   \"GSM3396161_genes_A.tsv\"     \n",
      " [3] \"GSM3396161_matrix_A.mtx\"     \"GSM3396162_barcodes_B.tsv\"  \n",
      " [5] \"GSM3396162_genes_B.tsv\"      \"GSM3396162_matrix_B.mtx\"    \n",
      " [7] \"GSM3396163_barcodes_C1.tsv\"  \"GSM3396163_genes_C1.tsv\"    \n",
      " [9] \"GSM3396163_matrix_C1.mtx\"    \"GSM3396164_barcodes_Ck.tsv\" \n",
      "[11] \"GSM3396164_genes_Ck.tsv\"     \"GSM3396164_matrix_Ck.mtx\"   \n",
      "[13] \"GSM3396165_barcodes_C2.tsv\"  \"GSM3396165_genes_C2.tsv\"    \n",
      "[15] \"GSM3396165_matrix_C2.mtx\"    \"GSM3396166_barcodes_E.tsv\"  \n",
      "[17] \"GSM3396166_genes_E.tsv\"      \"GSM3396166_matrix_E.mtx\"    \n",
      "[19] \"GSM3396167_barcodes_F.tsv\"   \"GSM3396167_genes_F.tsv\"     \n",
      "[21] \"GSM3396167_matrix_F.mtx\"     \"GSM3396168_barcodes_G.tsv\"  \n",
      "[23] \"GSM3396168_genes_G.tsv\"      \"GSM3396168_matrix_G.mtx\"    \n",
      "[25] \"GSM3396169_barcodes_H.tsv\"   \"GSM3396169_genes_H.tsv\"     \n",
      "[27] \"GSM3396169_matrix_H.mtx\"     \"GSM3396170_barcodes_J.tsv\"  \n",
      "[29] \"GSM3396170_genes_J.tsv\"      \"GSM3396170_matrix_J.mtx\"    \n",
      "[31] \"GSM3396171_barcodes_K.tsv\"   \"GSM3396171_genes_K.tsv\"     \n",
      "[33] \"GSM3396171_matrix_K.mtx\"     \"GSM3396172_barcodes_L.tsv\"  \n",
      "[35] \"GSM3396172_genes_L.tsv\"      \"GSM3396172_matrix_L.mtx\"    \n",
      "[37] \"GSM3396173_barcodes_M.tsv\"   \"GSM3396173_genes_M.tsv\"     \n",
      "[39] \"GSM3396173_matrix_M.mtx\"     \"GSM3396174_barcodes_N.tsv\"  \n",
      "[41] \"GSM3396174_genes_N.tsv\"      \"GSM3396174_matrix_N.mtx\"    \n",
      "[43] \"GSM3396175_barcodes_O.tsv\"   \"GSM3396175_genes_O.tsv\"     \n",
      "[45] \"GSM3396175_matrix_O.mtx\"     \"GSM3396176_barcodes_P.tsv\"  \n",
      "[47] \"GSM3396176_genes_P.tsv\"      \"GSM3396176_matrix_P.mtx\"    \n",
      "[49] \"GSM3396177_barcodes_Q.tsv\"   \"GSM3396177_genes_Q.tsv\"     \n",
      "[51] \"GSM3396177_matrix_Q.mtx\"     \"GSM3396178_barcodes_R.tsv\"  \n",
      "[53] \"GSM3396178_genes_R.tsv\"      \"GSM3396178_matrix_R.mtx\"    \n",
      "[55] \"GSM3396179_barcodes_S1.tsv\"  \"GSM3396179_genes_S1.tsv\"    \n",
      "[57] \"GSM3396179_matrix_S1.mtx\"    \"GSM3396180_barcodes_Sk1.tsv\"\n",
      "[59] \"GSM3396180_genes_Sk1.tsv\"    \"GSM3396180_matrix_Sk1.mtx\"  \n",
      "[61] \"GSM3396181_barcodes_S2.tsv\"  \"GSM3396181_genes_S2.tsv\"    \n",
      "[63] \"GSM3396181_matrix_S2.mtx\"    \"GSM3396182_barcodes_Sk2.tsv\"\n",
      "[65] \"GSM3396182_genes_Sk2.tsv\"    \"GSM3396182_matrix_Sk2.mtx\"  \n",
      "[67] \"GSM3396183_barcodes_T.tsv\"   \"GSM3396183_genes_T.tsv\"     \n",
      "[69] \"GSM3396183_matrix_T.mtx\"     \"GSM3396184_barcodes_U.tsv\"  \n",
      "[71] \"GSM3396184_genes_U.tsv\"      \"GSM3396184_matrix_U.mtx\"    \n",
      "[73] \"GSM3396185_barcodes_W.tsv\"   \"GSM3396185_genes_W.tsv\"     \n",
      "[75] \"GSM3396185_matrix_W.mtx\"    \n",
      "\n"
     ]
    }
   ],
   "source": [
    "files <- lapply(datasets\n",
    "               ,function(dataset){\n",
    "                   list.files(paste0(path_in\n",
    "                                   ,\"/\"\n",
    "                                   ,dataset))\n",
    "               })\n",
    "names(files) <- datasets\n",
    "print(\"files:\")\n",
    "print(files)"
   ]
  },
  {
   "cell_type": "markdown",
   "id": "73e7c64e",
   "metadata": {},
   "source": [
    "The function below takes datasets which are the files in the path and excludes BM5-34p, MUTZ3, OCI-AML3 from the GSE116256_RAW dataset, as well as excludes samples S1, Sk1, S2, Ck, C2 from the GSE120221_RAW dataset."
   ]
  },
  {
   "cell_type": "code",
   "execution_count": 5,
   "id": "fcafa830",
   "metadata": {},
   "outputs": [],
   "source": [
    "# Define patient IDs\n",
    "samples <- lapply(datasets\n",
    "                        ,function(dataset){\n",
    "                            my_files <- files[[dataset]]\n",
    "                            if(any(grepl(\".txt\"\n",
    "                                        ,my_files))){\n",
    "                                samples <- sub(\".*_\", \"\", my_files)\n",
    "                                samples <- sub(\"[.]dem.*\",\"\", samples)\n",
    "                                samples <- samples[!grepl(\"anno\",samples) & !grepl(\"nano\", samples)]\n",
    "                                # exclude BM5-34p, MUTZ3, OCI-AML3\n",
    "                                samples <- samples[!grepl(\"BM5\",samples) & !grepl(\"MUTZ3\", samples) \n",
    "                                                   & \n",
    "                                                   !grepl(\"OCI-AML3\", samples)]\n",
    "                                samples\n",
    "                            } else {\n",
    "                                samples <- sub(\".*barcodes_\", \"\", my_files)\n",
    "                                samples <- sub(\"[.]tsv.*\",\"\", samples)\n",
    "                                samples <- samples[!grepl(\"matrix\",samples) & !grepl(\"genes\", samples)]\n",
    "                                # exclude duplicating samples\n",
    "                                samples <- samples[!grepl(\"S1\",samples) & !grepl(\"Sk1\", samples) \n",
    "                                                   & \n",
    "                                                   !grepl(\"S2\", samples) ]\n",
    "                                samples <- samples[!grepl(\"Ck\",samples) & !grepl(\"C2\", samples) ]\n",
    "                                samples\n",
    "                            }\n",
    "                        }\n",
    "                        )\n",
    "names(samples) <- datasets"
   ]
  },
  {
   "cell_type": "code",
   "execution_count": null,
   "id": "ad6e52ba",
   "metadata": {},
   "outputs": [],
   "source": []
  },
  {
   "cell_type": "markdown",
   "id": "edd83c29",
   "metadata": {},
   "source": [
    "In the GSE116256_RAW dataset, only healthy bone marrow samples, as well as bone marrow samples at day 0 of diagnosis are kept."
   ]
  },
  {
   "cell_type": "code",
   "execution_count": 6,
   "id": "f4ac76d3",
   "metadata": {},
   "outputs": [
    {
     "name": "stdout",
     "output_type": "stream",
     "text": [
      "[1] \"remove non-diagnosis AML samlpes\"\n"
     ]
    }
   ],
   "source": [
    "print(\"remove non-diagnosis AML samlpes\")\n",
    "idx_D0_or_healthy <- grepl(\"-D0\", samples$GSE116256_RAW ) | grepl(\"BM\", samples$GSE116256_RAW )\n",
    "samples$GSE116256_RAW <- samples$GSE116256_RAW[idx_D0_or_healthy]"
   ]
  },
  {
   "cell_type": "markdown",
   "id": "58c043a4",
   "metadata": {
    "ExecuteTime": {
     "end_time": "2023-01-10T12:04:47.749171Z",
     "start_time": "2023-01-10T12:04:47.610Z"
    }
   },
   "source": [
    "In the GSE116256_RAW dataset, the AML samples with less than 50% blasts are removed."
   ]
  },
  {
   "cell_type": "code",
   "execution_count": 7,
   "id": "102e996f",
   "metadata": {},
   "outputs": [
    {
     "name": "stdout",
     "output_type": "stream",
     "text": [
      "remove samples with less than 50% blasts at diagnosis:\n",
      "\n",
      "AML314-D0, AML371-D0, AML475-D0, AML997-D0, AML329-D0, AML420-D0\n",
      "\n",
      "all samples:\n",
      "\n",
      "$GSE116256_RAW\n",
      " [1] \"AML1012-D0\" \"AML210A-D0\" \"AML328-D0\"  \"AML419A-D0\" \"AML420B-D0\"\n",
      " [6] \"AML556-D0\"  \"AML707B-D0\" \"AML722B-D0\" \"AML870-D0\"  \"AML916-D0\" \n",
      "[11] \"AML921A-D0\" \"BM1\"        \"BM2\"        \"BM3\"        \"BM4\"       \n",
      "\n",
      "$GSE120221_RAW\n",
      " [1] \"A\"   \"B\"   \"C1\"  \"E\"   \"F\"   \"G\"   \"H\"   \"J\"   \"K\"   \"L\"   \"M\"   \"N\"  \n",
      "[13] \"O\"   \"P\"   \"Q\"   \"R\"   \"Sk2\" \"T\"   \"U\"   \"W\"  \n",
      "\n"
     ]
    }
   ],
   "source": [
    "cat(\"remove samples with less than 50% blasts at diagnosis:\\n\\n\")\n",
    "cat(\"AML314-D0, AML371-D0, AML475-D0, AML997-D0, AML329-D0, AML420-D0\\n\\n\")\n",
    "idx_less_50percent_blasts <- samples$GSE116256_RAW %in% c(\"AML314-D0\"\n",
    "                                                          , \"AML371-D0\"\n",
    "                                                          , \"AML475-D0\"\n",
    "                                                          , \"AML997-D0\"\n",
    "                                                          , \"AML329-D0\"\n",
    "                                                          , \"AML420-D0\"\n",
    "                                                          )\n",
    "samples$GSE116256_RAW <- samples$GSE116256_RAW[!idx_less_50percent_blasts]\n",
    "\n",
    "cat(\"all samples:\\n\\n\")\n",
    "print(samples)"
   ]
  },
  {
   "cell_type": "markdown",
   "id": "9916b1ba",
   "metadata": {},
   "source": [
    "### load data"
   ]
  },
  {
   "cell_type": "code",
   "execution_count": 8,
   "id": "fbca88ad",
   "metadata": {},
   "outputs": [
    {
     "name": "stdout",
     "output_type": "stream",
     "text": [
      "[1] \"read in raw counts\"\n",
      "[1] \"loading file GSM3587923_AML1012-D0.dem.txt\"\n",
      "[1] \"loading file GSM3587925_AML210A-D0.dem.txt\"\n",
      "[1] \"loading file GSM3587931_AML328-D0.dem.txt\"\n",
      "[1] \"loading file GSM3587950_AML419A-D0.dem.txt\"\n",
      "[1] \"loading file GSM3587953_AML420B-D0.dem.txt\"\n",
      "[1] \"loading file GSM3587963_AML556-D0.dem.txt\"\n",
      "[1] \"loading file GSM3587969_AML707B-D0.dem.txt\"\n",
      "[1] \"loading file GSM3587980_AML722B-D0.dem.txt\"\n",
      "[1] \"loading file GSM3587984_AML870-D0.dem.txt\"\n",
      "[1] \"loading file GSM3587988_AML916-D0.dem.txt\"\n",
      "[1] \"loading file GSM3587990_AML921A-D0.dem.txt\"\n",
      "[1] \"loading file GSM3587996_BM1.dem.txt\"\n",
      "[1] \"loading file GSM3587997_BM2.dem.txt\"\n",
      "[1] \"loading file GSM3587998_BM3.dem.txt\"\n",
      "[1] \"loading file GSM3588000_BM4.dem.txt\"\n",
      "[1] \"loading file GSM3396161_matrix_A.mtx\"\n",
      "[1] \"loading file GSM3396162_matrix_B.mtx\"\n",
      "[1] \"loading file GSM3396163_matrix_C1.mtx\"\n",
      "[1] \"loading file GSM3396166_matrix_E.mtx\"\n",
      "[1] \"loading file GSM3396167_matrix_F.mtx\"\n",
      "[1] \"loading file GSM3396168_matrix_G.mtx\"\n"
     ]
    },
    {
     "name": "stderr",
     "output_type": "stream",
     "text": [
      "Warning message in asMethod(object):\n",
      "“sparse->dense coercion: allocating vector of size 1.1 GiB”\n"
     ]
    },
    {
     "name": "stdout",
     "output_type": "stream",
     "text": [
      "[1] \"loading file GSM3396169_matrix_H.mtx\"\n"
     ]
    },
    {
     "name": "stderr",
     "output_type": "stream",
     "text": [
      "Warning message in asMethod(object):\n",
      "“sparse->dense coercion: allocating vector of size 1.1 GiB”\n"
     ]
    },
    {
     "name": "stdout",
     "output_type": "stream",
     "text": [
      "[1] \"loading file GSM3396170_matrix_J.mtx\"\n",
      "[1] \"loading file GSM3396171_matrix_K.mtx\"\n"
     ]
    },
    {
     "name": "stderr",
     "output_type": "stream",
     "text": [
      "Warning message in asMethod(object):\n",
      "“sparse->dense coercion: allocating vector of size 1.8 GiB”\n"
     ]
    },
    {
     "name": "stdout",
     "output_type": "stream",
     "text": [
      "[1] \"loading file GSM3396172_matrix_L.mtx\"\n"
     ]
    },
    {
     "name": "stderr",
     "output_type": "stream",
     "text": [
      "Warning message in asMethod(object):\n",
      "“sparse->dense coercion: allocating vector of size 1.1 GiB”\n"
     ]
    },
    {
     "name": "stdout",
     "output_type": "stream",
     "text": [
      "[1] \"loading file GSM3396173_matrix_M.mtx\"\n",
      "[1] \"loading file GSM3396174_matrix_N.mtx\"\n"
     ]
    },
    {
     "name": "stderr",
     "output_type": "stream",
     "text": [
      "Warning message in asMethod(object):\n",
      "“sparse->dense coercion: allocating vector of size 1.1 GiB”\n"
     ]
    },
    {
     "name": "stdout",
     "output_type": "stream",
     "text": [
      "[1] \"loading file GSM3396175_matrix_O.mtx\"\n"
     ]
    },
    {
     "name": "stderr",
     "output_type": "stream",
     "text": [
      "Warning message in asMethod(object):\n",
      "“sparse->dense coercion: allocating vector of size 1.3 GiB”\n"
     ]
    },
    {
     "name": "stdout",
     "output_type": "stream",
     "text": [
      "[1] \"loading file GSM3396176_matrix_P.mtx\"\n",
      "[1] \"loading file GSM3396177_matrix_Q.mtx\"\n",
      "[1] \"loading file GSM3396178_matrix_R.mtx\"\n",
      "[1] \"loading file GSM3396182_matrix_Sk2.mtx\"\n"
     ]
    },
    {
     "name": "stderr",
     "output_type": "stream",
     "text": [
      "Warning message in asMethod(object):\n",
      "“sparse->dense coercion: allocating vector of size 1.2 GiB”\n"
     ]
    },
    {
     "name": "stdout",
     "output_type": "stream",
     "text": [
      "[1] \"loading file GSM3396183_matrix_T.mtx\"\n"
     ]
    },
    {
     "name": "stderr",
     "output_type": "stream",
     "text": [
      "Warning message in asMethod(object):\n",
      "“sparse->dense coercion: allocating vector of size 1.1 GiB”\n"
     ]
    },
    {
     "name": "stdout",
     "output_type": "stream",
     "text": [
      "[1] \"loading file GSM3396184_matrix_U.mtx\"\n"
     ]
    },
    {
     "name": "stderr",
     "output_type": "stream",
     "text": [
      "Warning message in asMethod(object):\n",
      "“sparse->dense coercion: allocating vector of size 1.0 GiB”\n"
     ]
    },
    {
     "name": "stdout",
     "output_type": "stream",
     "text": [
      "[1] \"loading file GSM3396185_matrix_W.mtx\"\n"
     ]
    }
   ],
   "source": [
    "# read in raw counts\n",
    "print(\"read in raw counts\")\n",
    "counts_raw <- unlist(lapply(datasets\n",
    "                ,function(dataset){\n",
    "                    my_path_in <- paste0(path_in\n",
    "                                           ,\"/\"\n",
    "                                           ,dataset)\n",
    "                    \n",
    "                    my_samples <- samples[[dataset]]\n",
    "                    \n",
    "                    my_files <- files[[dataset]]\n",
    "                    my_files <- unlist(sapply(my_samples\n",
    "                                      ,function(sample){\n",
    "                                          my_files[grepl(paste0(\"_\",sample)\n",
    "                                                        ,my_files)]\n",
    "                                      }))\n",
    "                    \n",
    "                    idx_dem <- grepl(\"dem\", my_files)\n",
    "                    \n",
    "                    idx_mtx <- grepl(\"mtx\", my_files)\n",
    "                    names(idx_mtx) <- my_samples\n",
    "                    \n",
    "                    if(sum(idx_dem) != 0){\n",
    "                        lapply(my_files[idx_dem]\n",
    "                              ,function(file){\n",
    "                                  print(paste(\"loading file\"\n",
    "                                             ,file))\n",
    "                                  counts <- read.csv(paste0(my_path_in\n",
    "                                                            ,\"/\"\n",
    "                                                            ,file\n",
    "                                                            )\n",
    "                                                     ,sep = \"\\t\"\n",
    "                                                     ,check.names = F\n",
    "                                                     ,row.names = 1\n",
    "                                                    )\n",
    "                                  counts\n",
    "                              })\n",
    "                    } else if(sum(idx_mtx) != 0) {\n",
    "                        lapply(my_samples\n",
    "                              ,function(my_sample){\n",
    "                                  \n",
    "                                  print(paste(\"loading file\"\n",
    "                                             ,my_files[3,my_sample]))\n",
    "                                  \n",
    "                                  colnames <- read.csv(paste0(my_path_in\n",
    "                                                            ,\"/\"\n",
    "                                                            ,my_files[1,my_sample]\n",
    "                                                            )\n",
    "                                                     ,sep = \"\\t\"\n",
    "                                                     ,check.names = F\n",
    "                                                     ,header=FALSE\n",
    "                                                    )[,1]\n",
    "                                  # remove \"-1\" at the end of each cell_ID\n",
    "                                  colnames <- gsub(\"-1.*\", \"\", colnames)\n",
    "                                  \n",
    "                                  # add sample name \n",
    "                                  colnames <- paste0(\"BM-\"\n",
    "                                                    ,my_sample\n",
    "                                                    ,\"_\"\n",
    "                                                    ,colnames)\n",
    "                                  \n",
    "                                  genes <- read.csv(paste0(my_path_in\n",
    "                                                            ,\"/\"\n",
    "                                                            ,my_files[2,my_sample]\n",
    "                                                            )\n",
    "                                                     ,sep = \"\\t\"\n",
    "                                                     ,check.names = F\n",
    "                                                     ,header=FALSE\n",
    "                                                    )\n",
    "                                  colnames(genes) <- c(\"EnsID\", \"Symbol\")\n",
    "                                  \n",
    "                                  counts <- as.data.frame(as.matrix(Matrix::readMM(paste0(my_path_in\n",
    "                                                            ,\"/\"\n",
    "                                                            ,my_files[3,my_sample]\n",
    "                                                            )\n",
    "                                                                         )\n",
    "                                                                   )\n",
    "                                                         )\n",
    "                                  \n",
    "                                  rownames(counts) <- genes$EnsID\n",
    "                                  colnames(counts) <- colnames\n",
    "                                  \n",
    "                                  # remove gene duplicates\n",
    "                                  counts <- counts[!duplicated(genes$Symbol),]\n",
    "                                  genes <- genes[!duplicated(genes$Symbol),]\n",
    "                                  rownames(counts) <- genes$Symbol\n",
    "                                  \n",
    "                                  counts\n",
    "                              })\n",
    "                    }\n",
    "                }\n",
    "                    )\n",
    "                     ,recursive=FALSE\n",
    "                     )"
   ]
  },
  {
   "cell_type": "code",
   "execution_count": 9,
   "id": "618d1f6c",
   "metadata": {},
   "outputs": [],
   "source": [
    "names(counts_raw) <- unlist(samples)"
   ]
  },
  {
   "cell_type": "markdown",
   "id": "3eea8471",
   "metadata": {},
   "source": [
    "### process data"
   ]
  },
  {
   "cell_type": "markdown",
   "id": "1dcc94e1",
   "metadata": {},
   "source": [
    "We will keep only the genes that are present in both datasets."
   ]
  },
  {
   "cell_type": "code",
   "execution_count": 10,
   "id": "48ecd9d9",
   "metadata": {},
   "outputs": [
    {
     "name": "stdout",
     "output_type": "stream",
     "text": [
      "[1] \"check genes in overlap\"\n",
      "[1] \"we have 21112 overlapping genes\"\n",
      " chr [1:21112] \"A1BG\" \"A1BG-AS1\" \"A1CF\" \"A2M\" \"A2M-AS1\" \"A2ML1\" \"A3GALT2\" ...\n",
      "NULL\n"
     ]
    }
   ],
   "source": [
    "# check genes in overlap\n",
    "print(\"check genes in overlap\")\n",
    "overlap_genes <- Reduce(intersect\n",
    "                        ,lapply(counts_raw\n",
    "                                , function(set){\n",
    "                                    rownames(set)\n",
    "                                }\n",
    "                               )\n",
    "                       )\n",
    "\n",
    "print(paste(\"we have\"\n",
    "           ,length(overlap_genes\n",
    "                  )\n",
    "            , \"overlapping genes\"\n",
    "           )\n",
    "     )\n",
    "\n",
    "print(str(overlap_genes))\n"
   ]
  },
  {
   "cell_type": "code",
   "execution_count": 11,
   "id": "36940c54",
   "metadata": {},
   "outputs": [
    {
     "name": "stdout",
     "output_type": "stream",
     "text": [
      "[1] \"subset all counts for overlapping genes\"\n"
     ]
    }
   ],
   "source": [
    "# subset all counts for overlapping genes\n",
    "print(\"subset all counts for overlapping genes\")\n",
    "\n",
    "counts_raw_geneOverlap <- lapply(unlist(samples)\n",
    "                             ,function(sample){\n",
    "                                 my_counts <- counts_raw[[sample]]\n",
    "                                 \n",
    "                                 my_counts <- my_counts[overlap_genes,]\n",
    "                                 my_counts\n",
    "                             })\n",
    "\n",
    "names(counts_raw_geneOverlap) <- unlist(samples)\n",
    "\n",
    "rm(counts_raw)"
   ]
  },
  {
   "cell_type": "code",
   "execution_count": 12,
   "id": "39e57f28",
   "metadata": {},
   "outputs": [],
   "source": [
    "# concatenate: counts\n",
    "counts_raw_merged <- do.call(cbind.data.frame, counts_raw_geneOverlap)"
   ]
  },
  {
   "cell_type": "code",
   "execution_count": 13,
   "id": "ac9650bf",
   "metadata": {},
   "outputs": [
    {
     "name": "stdout",
     "output_type": "stream",
     "text": [
      "[1] \"AML1012-D0\"\n",
      "[1] 21112  1136\n",
      "[1] \"AML210A-D0\"\n",
      "[1] 21112   748\n",
      "[1] \"AML328-D0\"\n",
      "[1] 21112  1094\n",
      "[1] \"AML419A-D0\"\n",
      "[1] 21112  1189\n",
      "[1] \"AML420B-D0\"\n",
      "[1] 21112   485\n",
      "[1] \"AML556-D0\"\n",
      "[1] 21112  2328\n",
      "[1] \"AML707B-D0\"\n",
      "[1] 21112  1586\n",
      "[1] \"AML722B-D0\"\n",
      "[1] 21112    79\n",
      "[1] \"AML870-D0\"\n",
      "[1] 21112   345\n",
      "[1] \"AML916-D0\"\n",
      "[1] 21112   933\n",
      "[1] \"AML921A-D0\"\n",
      "[1] 21112  3813\n",
      "[1] \"BM1\"\n",
      "[1] 21112   108\n",
      "[1] \"BM2\"\n",
      "[1] 21112   188\n",
      "[1] \"BM3\"\n",
      "[1] 21112   643\n",
      "[1] \"BM4\"\n",
      "[1] 21112  3738\n",
      "[1] \"A\"\n",
      "[1] 21112  2994\n",
      "[1] \"B\"\n",
      "[1] 21112  3293\n",
      "[1] \"C1\"\n",
      "[1] 21112  3556\n",
      "[1] \"E\"\n",
      "[1] 21112  3939\n",
      "[1] \"F\"\n",
      "[1] 21112  3746\n",
      "[1] \"G\"\n",
      "[1] 21112  4283\n",
      "[1] \"H\"\n",
      "[1] 21112  4516\n",
      "[1] \"J\"\n",
      "[1] 21112  3446\n",
      "[1] \"K\"\n",
      "[1] 21112  7247\n",
      "[1] \"L\"\n",
      "[1] 21112  4548\n",
      "[1] \"M\"\n",
      "[1] 21112  3964\n",
      "[1] \"N\"\n",
      "[1] 21112  4522\n",
      "[1] \"O\"\n",
      "[1] 21112  5013\n",
      "[1] \"P\"\n",
      "[1] 21112  3383\n",
      "[1] \"Q\"\n",
      "[1] 21112  1700\n",
      "[1] \"R\"\n",
      "[1] 21112  3593\n",
      "[1] \"Sk2\"\n",
      "[1] 21112  4726\n",
      "[1] \"T\"\n",
      "[1] 21112  4293\n",
      "[1] \"U\"\n",
      "[1] 21112  4118\n",
      "[1] \"W\"\n",
      "[1] 21112  3643\n",
      "[1] \"dimensions of the merged dataset (genes x cells):\"\n",
      "[1] 21112 98936\n"
     ]
    }
   ],
   "source": [
    "# remove additional samples name in front of the cell_ID\n",
    "colnames(counts_raw_merged) <- gsub(\".*[.]\", \"\", colnames(counts_raw_merged))\n",
    "for(i in names(counts_raw_geneOverlap)){\n",
    "    print(i)\n",
    "    print(dim(counts_raw_geneOverlap[[i]]))\n",
    "}\n",
    "\n",
    "print(\"dimensions of the merged dataset (genes x cells):\")\n",
    "print(dim(counts_raw_merged))\n"
   ]
  },
  {
   "cell_type": "code",
   "execution_count": 14,
   "id": "fe516e3f",
   "metadata": {},
   "outputs": [],
   "source": [
    "rm(counts_raw_geneOverlap)"
   ]
  },
  {
   "cell_type": "markdown",
   "id": "274262e2",
   "metadata": {},
   "source": [
    "We will filter out the genes that have zero expression in all cells."
   ]
  },
  {
   "cell_type": "code",
   "execution_count": 15,
   "id": "3e9c7bad",
   "metadata": {},
   "outputs": [
    {
     "name": "stdout",
     "output_type": "stream",
     "text": [
      "[1] \"we have 1809 all-zero genes. These genes will be removed.\"\n"
     ]
    }
   ],
   "source": [
    "#filter zero genes\n",
    "idx_nonZero <- counts_raw_merged != 0\n",
    "\n",
    "idx_nonZero_sum <- rowSums(idx_nonZero)\n",
    "print(paste(\"we have\"\n",
    "            ,sum(idx_nonZero_sum == 0)\n",
    "            ,\"all-zero genes. These genes will be removed.\"))"
   ]
  },
  {
   "cell_type": "code",
   "execution_count": 16,
   "id": "3e5efb17",
   "metadata": {},
   "outputs": [
    {
     "name": "stdout",
     "output_type": "stream",
     "text": [
      "[1] \"dim(counts_raw_merged)\"\n",
      "[1] 21112 98936\n",
      "[1] \"dim(counts)\"\n",
      "[1] 19303 98936\n"
     ]
    }
   ],
   "source": [
    "counts <- counts_raw_merged[idx_nonZero_sum != 0,]\n",
    "print(\"dim(counts_raw_merged)\")\n",
    "print(dim(counts_raw_merged))\n",
    "print(\"dim(counts)\")\n",
    "print(dim(counts))"
   ]
  },
  {
   "cell_type": "markdown",
   "id": "1860eb92",
   "metadata": {},
   "source": [
    "### export\n",
    "\n",
    "Save the intermediate results"
   ]
  },
  {
   "cell_type": "code",
   "execution_count": 17,
   "id": "ba0e02c4",
   "metadata": {},
   "outputs": [],
   "source": [
    "# save intermediate results: counts\n",
    "save(counts, file = paste0(path_out,\"counts.RData\"))"
   ]
  },
  {
   "cell_type": "code",
   "execution_count": 18,
   "id": "6b69c31e",
   "metadata": {},
   "outputs": [],
   "source": [
    "# save samples variable\n",
    "save(samples, file = paste0(path_out,\"samples.RData\"))"
   ]
  },
  {
   "cell_type": "markdown",
   "id": "befeca21",
   "metadata": {},
   "source": []
  },
  {
   "cell_type": "markdown",
   "id": "9c60cd26",
   "metadata": {},
   "source": [
    "# Preprocessing sample annotation files\n"
   ]
  },
  {
   "cell_type": "markdown",
   "id": "1f92f596",
   "metadata": {},
   "source": [
    "- **INPUT:**\n",
    "    - sample annotation file vanGalen_TableS1_Patient_Info.tsv stored in additional_input_files sub-directory\n",
    "    - sample annotation file Oetjen_Table1_patientInfo.tsv stored in additional_input_files sub-directory\n",
    "<!-- \t- ```samples.RData``` variable containing IDs of selected samples -->\n",
    "\n",
    "    \n",
    "- **OUTPUT:**\n",
    "\n",
    "    -  ```anno_samples.RData``` cleaned and merged sample annotation file"
   ]
  },
  {
   "cell_type": "code",
   "execution_count": null,
   "id": "1532888d",
   "metadata": {},
   "outputs": [],
   "source": []
  },
  {
   "cell_type": "code",
   "execution_count": 19,
   "id": "a8a7fc5b",
   "metadata": {},
   "outputs": [],
   "source": [
    "path_to_additional_files <- sub(\"raw_data\", \"additional_input_files/\", path_in)"
   ]
  },
  {
   "cell_type": "code",
   "execution_count": 20,
   "id": "f518af2f",
   "metadata": {},
   "outputs": [
    {
     "name": "stdout",
     "output_type": "stream",
     "text": [
      "'data.frame':\t43 obs. of  17 variables:\n",
      " $ Sample              : chr  \"BM1\" \"BM2\" \"BM3\" \"BM4\" ...\n",
      " $ Days.from.diagnosis : chr  NA NA NA NA ...\n",
      " $ Tissue              : chr  \"Bone marrow\" \"Bone marrow\" \"Bone marrow\" \"Bone marrow\" ...\n",
      " $ Gender              : chr  \"M\" \"M\" \"M\" \"M\" ...\n",
      " $ Age                 : int  52 21 56 23 45 45 32 67 54 57 ...\n",
      " $ Blast.count         : chr  NA NA NA NA ...\n",
      " $ RHP.Mutations       : chr  NA NA NA NA ...\n",
      " $ Cytogenetics        : chr  \"Unknown\" \"Unknown\" \"Unknown\" \"Unknown\" ...\n",
      " $ Common.translocation: chr  NA NA NA NA ...\n",
      " $ Remarks             : chr  \"\" \"\" \"\" \"\" ...\n",
      " $ Cell.number         : int  108 188 643 3738 1431 1590 1136 748 1189 933 ...\n",
      " $ UMIs.min            : int  1069 1180 1007 1000 1000 1005 1002 1001 1001 1000 ...\n",
      " $ UMIs.mean           : int  3018 3908 3093 4059 2822 2558 2308 2684 2965 2179 ...\n",
      " $ UMIs.max            : int  13186 19653 26834 39196 16225 11932 14065 20440 28543 9348 ...\n",
      " $ Genes.min           : int  503 503 500 500 500 501 501 500 501 518 ...\n",
      " $ Genes.mean          : int  1005 1129 1087 1346 1048 967 939 997 1181 1022 ...\n",
      " $ Genes.max           : int  3306 3430 5023 6744 3497 2737 3370 4097 5709 3072 ...\n",
      "NULL\n"
     ]
    }
   ],
   "source": [
    "# read in sample annotation for GSE116256_RAW\n",
    "tsv_file=\"vanGalen_TableS1_Patient_Info.tsv\"\n",
    "anno_GSE116256_samples <- read.csv(paste(path_to_additional_files,tsv_file,sep=\"\")\n",
    "                                  ,sep = \"\\t\"\n",
    "                                  ,header = TRUE)\n",
    "print(str(anno_GSE116256_samples))"
   ]
  },
  {
   "cell_type": "code",
   "execution_count": 21,
   "id": "ae40d635",
   "metadata": {},
   "outputs": [
    {
     "name": "stdout",
     "output_type": "stream",
     "text": [
      "'data.frame':\t25 obs. of  8 variables:\n",
      " $ Sample              : chr  \"T\" \"W\" \"E\" \"R\" ...\n",
      " $ Patient_ID          : chr  \"T\" \"W\" \"E\" \"R\" ...\n",
      " $ Sex                 : chr  \"F\" \"F\" \"M\" \"M\" ...\n",
      " $ Age                 : int  24 28 30 31 41 43 46 47 50 50 ...\n",
      " $ Technical_replicate : logi  FALSE FALSE FALSE FALSE FALSE FALSE ...\n",
      " $ TecReplicate_sample : chr  NA NA NA NA ...\n",
      " $ Biological_replicate: logi  FALSE FALSE FALSE FALSE FALSE FALSE ...\n",
      " $ BioReplicate_sample : chr  NA NA NA NA ...\n",
      "NULL\n"
     ]
    }
   ],
   "source": [
    "# read in sanple annotation for GSE120221_RAW\n",
    "tsv_file=\"Oetjen_Table1_patientInfo.tsv\"\n",
    "anno_GSE120221_samples <- read.csv(paste(path_to_additional_files,tsv_file,sep=\"\")\n",
    "                                   ,sep = \"\\t\"\n",
    "                                  ,header = TRUE)\n",
    "\n",
    "print(str(anno_GSE120221_samples))"
   ]
  },
  {
   "cell_type": "markdown",
   "id": "8e08e2c8",
   "metadata": {},
   "source": [
    "### process data"
   ]
  },
  {
   "cell_type": "markdown",
   "id": "d3d4b991",
   "metadata": {},
   "source": [
    "Clean and process sample annotation for the GSE116256_RAW dataset."
   ]
  },
  {
   "cell_type": "code",
   "execution_count": 22,
   "id": "210d0d77",
   "metadata": {},
   "outputs": [],
   "source": [
    "# add day to anno_GSE116256_samples\n",
    "anno_GSE116256_samples$day <- as.integer(gsub(\"D\",\"\",anno_GSE116256_samples$Days.from.diagnosis))"
   ]
  },
  {
   "cell_type": "code",
   "execution_count": 23,
   "id": "d2f9e6db",
   "metadata": {},
   "outputs": [],
   "source": [
    "# add sample_ID to anno_GSE116256_samples\n",
    "anno_GSE116256_samples$sample_ID <- sapply(1:nrow(anno_GSE116256_samples)\n",
    "                                          ,function(i){\n",
    "                                              ifelse(is.na(anno_GSE116256_samples$Days.from.diagnosis[i]\n",
    "                                                          )\n",
    "                                                    ,anno_GSE116256_samples$Sample[i]\n",
    "                                                    ,paste0(anno_GSE116256_samples$Sample[i]\n",
    "                                                            ,\"-\"\n",
    "                                                            ,anno_GSE116256_samples$Days.from.diagnosis[i]))\n",
    "                                          })"
   ]
  },
  {
   "cell_type": "code",
   "execution_count": 24,
   "id": "37e9941f",
   "metadata": {},
   "outputs": [
    {
     "name": "stdout",
     "output_type": "stream",
     "text": [
      "[1] \"str(anno_GSE116256_samples)\"\n",
      "'data.frame':\t15 obs. of  19 variables:\n",
      " $ Sample              : chr  \"AML1012\" \"AML210A\" \"AML328\" \"AML419A\" ...\n",
      " $ Days.from.diagnosis : chr  \"D0\" \"D0\" \"D0\" \"D0\" ...\n",
      " $ Tissue              : chr  \"Bone marrow\" \"Bone marrow\" \"Bone marrow\" \"Bone marrow\" ...\n",
      " $ Gender              : chr  \"F\" \"M\" \"F\" \"F\" ...\n",
      " $ Age                 : int  32 67 74 54 58 70 26 52 32 57 ...\n",
      " $ Blast.count         : chr  \"65 %\" \"83 %\" \"55 %\" \"60 %\" ...\n",
      " $ RHP.Mutations       : chr  \"KRAS NM_004985 c.38G>A p.G13D (4.6%) /// NRAS NM_002524 c.38G>A p.G13D (39.0%) /// NOTCH2 NM_024408 c.4238T>A p\"| __truncated__ \"DNMT3A NM_175629 c.2644C>T p.R882C (43.4%) /// NPM1 NM_002520 c.859_860insTCTG p.W288fs*>9 (42.7%) /// TET2 NM_\"| __truncated__ \"DNMT3A NM_175629 c.1910T>A p.L637Q (43.9%) /// TP53 NM_000546 c.431A>C p.Q144P (38.7%, VUS) /// TP53 NM_000546 \"| __truncated__ \"CEBPA NM_004364 c.118_118insC p.P39fs* (42.9%) /// DNMT3A NM_175629 c.2644C>T p.R882C (41.9%) /// NPM1 NM_00252\"| __truncated__ ...\n",
      " $ Cytogenetics        : chr  \"46,XX,inv(16)(p13q22)[4]/48,idem,+8,+21[16]\" \"46,XY[20]\" \"45,XX,ider(3)(q10)inv(3)(q21q26.2),add(5)(q13),-7,add(9)?dup(q13q22)[19]/46,XX[1].ish ider(3)(RP11-669C7/RP11-6\"| __truncated__ \"46,XX[20]\" ...\n",
      " $ Common.translocation: chr  \"CBFB-MYH11\" NA NA NA ...\n",
      " $ Remarks             : chr  \"Newly diagnosed AML, pre-treatment.\" \"Newly diagnosed AML with myelomonocytic differentiation, pre-treatment.\" \"Newly diagnosed AML, pre-treatment.\" \"Newly diagnosed AML with monocytic differentiation, pre-treatment.\" ...\n",
      " $ Cell.number         : int  1136 748 1094 1189 485 2328 1586 79 345 933 ...\n",
      " $ UMIs.min            : int  1002 1001 1005 1001 1000 1002 1000 1069 1004 1000 ...\n",
      " $ UMIs.mean           : int  2308 2684 2702 2965 2565 2956 3137 2377 2586 2179 ...\n",
      " $ UMIs.max            : int  14065 20440 12755 28543 30241 35998 21135 6818 22163 9348 ...\n",
      " $ Genes.min           : int  501 500 501 501 501 503 500 500 501 518 ...\n",
      " $ Genes.mean          : int  939 997 1136 1181 973 1145 1192 811 970 1022 ...\n",
      " $ Genes.max           : int  3370 4097 3784 5709 5294 5475 4583 1964 2883 3072 ...\n",
      " $ day                 : int  0 0 0 0 0 0 0 0 0 0 ...\n",
      " $ sample_ID           : chr  \"AML1012-D0\" \"AML210A-D0\" \"AML328-D0\" \"AML419A-D0\" ...\n",
      "NULL\n"
     ]
    }
   ],
   "source": [
    "# order anno_GSE116256_samples\n",
    "rownames(anno_GSE116256_samples) <- anno_GSE116256_samples$sample_ID\n",
    "anno_GSE116256_samples <- anno_GSE116256_samples[samples[[\"GSE116256_RAW\"]],]\n",
    "print(\"str(anno_GSE116256_samples)\")\n",
    "print(str(anno_GSE116256_samples))"
   ]
  },
  {
   "cell_type": "markdown",
   "id": "4b241792",
   "metadata": {},
   "source": [
    "Clean and process sample annotation for the GSE120221_RAW dataset."
   ]
  },
  {
   "cell_type": "code",
   "execution_count": 25,
   "id": "187cf788",
   "metadata": {},
   "outputs": [
    {
     "name": "stdout",
     "output_type": "stream",
     "text": [
      "[1] \"str(anno_GSE120221_samples)\"\n",
      "'data.frame':\t20 obs. of  8 variables:\n",
      " $ Sample              : chr  \"A\" \"B\" \"C1\" \"E\" ...\n",
      " $ Patient_ID          : chr  \"A\" \"B\" \"C\" \"E\" ...\n",
      " $ Sex                 : chr  \"F\" \"M\" \"F\" \"M\" ...\n",
      " $ Age                 : int  59 47 60 30 41 58 50 43 84 57 ...\n",
      " $ Technical_replicate : logi  FALSE FALSE TRUE FALSE FALSE FALSE ...\n",
      " $ TecReplicate_sample : chr  NA NA \"C2\" NA ...\n",
      " $ Biological_replicate: logi  FALSE FALSE TRUE FALSE FALSE FALSE ...\n",
      " $ BioReplicate_sample : chr  NA NA \"Ck\" NA ...\n",
      "NULL\n"
     ]
    }
   ],
   "source": [
    "# order anno_GSE120221_samples\n",
    "rownames(anno_GSE120221_samples) <- anno_GSE120221_samples$Sample\n",
    "anno_GSE120221_samples <- anno_GSE120221_samples[samples[[\"GSE120221_RAW\"]],]\n",
    "print(\"str(anno_GSE120221_samples)\")\n",
    "print(str(anno_GSE120221_samples))"
   ]
  },
  {
   "cell_type": "code",
   "execution_count": 26,
   "id": "3cb85896",
   "metadata": {},
   "outputs": [],
   "source": [
    "# add sample_ID to anno_GSE120221_samples\n",
    "anno_GSE120221_samples$sample_ID <- paste0(\"BM-\"\n",
    "                                           ,anno_GSE120221_samples$Sample)"
   ]
  },
  {
   "cell_type": "markdown",
   "id": "6db9e357",
   "metadata": {},
   "source": [
    "Merge the two annotation files."
   ]
  },
  {
   "cell_type": "code",
   "execution_count": 27,
   "id": "b71777e8",
   "metadata": {},
   "outputs": [],
   "source": [
    "# unify columns\n",
    "anno_samples <- data.frame(sample_ID = c(anno_GSE116256_samples$sample_ID\n",
    "                                       ,anno_GSE120221_samples$sample_ID\n",
    "                                       )\n",
    "                          ,patient_ID = c(anno_GSE116256_samples$Sample\n",
    "                                         ,anno_GSE120221_samples$Patient_ID)\n",
    "                          ,dataset = c(rep(gsub(\"\\\\_.*\",\"\",names(samples)[1])\n",
    "                                          ,nrow(anno_GSE116256_samples))\n",
    "                                      ,rep(gsub(\"\\\\_.*\",\"\",names(samples)[2])\n",
    "                                          ,nrow(anno_GSE120221_samples)))\n",
    "                          ,gender = c(anno_GSE116256_samples$Gender\n",
    "                                      ,anno_GSE120221_samples$Sex\n",
    "                                     )\n",
    "                          ,age = c(anno_GSE116256_samples$Age\n",
    "                                       ,anno_GSE120221_samples$Age\n",
    "                                       )\n",
    "                         )"
   ]
  },
  {
   "cell_type": "code",
   "execution_count": null,
   "id": "66ade9f3",
   "metadata": {},
   "outputs": [],
   "source": []
  },
  {
   "cell_type": "code",
   "execution_count": 28,
   "id": "c4e1f26b",
   "metadata": {},
   "outputs": [
    {
     "data": {
      "text/html": [
       "<style>\n",
       ".list-inline {list-style: none; margin:0; padding: 0}\n",
       ".list-inline>li {display: inline-block}\n",
       ".list-inline>li:not(:last-child)::after {content: \"\\00b7\"; padding: 0 .5ex}\n",
       "</style>\n",
       "<ol class=list-inline><li>'GSE116256_RAW'</li><li>'GSE120221_RAW'</li></ol>\n"
      ],
      "text/latex": [
       "\\begin{enumerate*}\n",
       "\\item 'GSE116256\\_RAW'\n",
       "\\item 'GSE120221\\_RAW'\n",
       "\\end{enumerate*}\n"
      ],
      "text/markdown": [
       "1. 'GSE116256_RAW'\n",
       "2. 'GSE120221_RAW'\n",
       "\n",
       "\n"
      ],
      "text/plain": [
       "[1] \"GSE116256_RAW\" \"GSE120221_RAW\""
      ]
     },
     "metadata": {},
     "output_type": "display_data"
    }
   ],
   "source": [
    "names(samples)"
   ]
  },
  {
   "cell_type": "code",
   "execution_count": 29,
   "id": "cd3e261d",
   "metadata": {},
   "outputs": [],
   "source": [
    "# gsub(\"\\\\_.*\",\"\",names(samples))[1]"
   ]
  },
  {
   "cell_type": "code",
   "execution_count": 30,
   "id": "f235e9e7",
   "metadata": {},
   "outputs": [
    {
     "data": {
      "text/plain": [
       "\n",
       "GSE116256 GSE120221 \n",
       "       15        20 "
      ]
     },
     "metadata": {},
     "output_type": "display_data"
    }
   ],
   "source": [
    "table(anno_samples$dataset)"
   ]
  },
  {
   "cell_type": "code",
   "execution_count": 31,
   "id": "3cb80f46",
   "metadata": {},
   "outputs": [],
   "source": [
    "anno_samples$health_status <- sapply(anno_samples$sample_ID\n",
    "                                    ,function(sample_ID){\n",
    "                                        ifelse(grepl(\"BM\", sample_ID)\n",
    "                                              ,\"healthy\"\n",
    "                                              ,\"AML\")\n",
    "                                    }\n",
    "                                   )"
   ]
  },
  {
   "cell_type": "code",
   "execution_count": 32,
   "id": "c102b41e",
   "metadata": {},
   "outputs": [],
   "source": [
    "anno_samples$case_or_control <- sapply(anno_samples$health_status\n",
    "                                      ,function(health_status){\n",
    "                                              ifelse(grepl(\"healthy\", health_status)\n",
    "                                                     ,\"control\"\n",
    "                                                     ,\"case\")\n",
    "                                      }\n",
    "                                      )"
   ]
  },
  {
   "cell_type": "code",
   "execution_count": 33,
   "id": "f0be06fe",
   "metadata": {},
   "outputs": [],
   "source": [
    "anno_samples$day <- c(anno_GSE116256_samples$day\n",
    "                    ,rep(NA, nrow(anno_GSE120221_samples)))"
   ]
  },
  {
   "cell_type": "code",
   "execution_count": 34,
   "id": "e9d281b6",
   "metadata": {},
   "outputs": [
    {
     "name": "stdout",
     "output_type": "stream",
     "text": [
      "anno_samples:\n",
      "\n",
      "**************\n",
      "\n",
      "    sample_ID patient_ID   dataset gender age health_status case_or_control day\n",
      "1  AML1012-D0    AML1012 GSE116256      F  32           AML            case   0\n",
      "2  AML210A-D0    AML210A GSE116256      M  67           AML            case   0\n",
      "3   AML328-D0     AML328 GSE116256      F  74           AML            case   0\n",
      "4  AML419A-D0    AML419A GSE116256      F  54           AML            case   0\n",
      "5  AML420B-D0    AML420B GSE116256      M  58           AML            case   0\n",
      "6   AML556-D0     AML556 GSE116256      M  70           AML            case   0\n",
      "7  AML707B-D0    AML707B GSE116256      M  26           AML            case   0\n",
      "8  AML722B-D0    AML722B GSE116256      F  52           AML            case   0\n",
      "9   AML870-D0     AML870 GSE116256      M  32           AML            case   0\n",
      "10  AML916-D0     AML916 GSE116256      F  57           AML            case   0\n",
      "11 AML921A-D0    AML921A GSE116256      M  42           AML            case   0\n",
      "12        BM1        BM1 GSE116256      M  52       healthy         control  NA\n",
      "13        BM2        BM2 GSE116256      M  21       healthy         control  NA\n",
      "14        BM3        BM3 GSE116256      M  56       healthy         control  NA\n",
      "15        BM4        BM4 GSE116256      M  23       healthy         control  NA\n",
      "16       BM-A          A GSE120221      F  59       healthy         control  NA\n",
      "17       BM-B          B GSE120221      M  47       healthy         control  NA\n",
      "18      BM-C1          C GSE120221      F  60       healthy         control  NA\n",
      "19       BM-E          E GSE120221      M  30       healthy         control  NA\n",
      "20       BM-F          F GSE120221      F  41       healthy         control  NA\n",
      "21       BM-G          G GSE120221      M  58       healthy         control  NA\n",
      "22       BM-H          H GSE120221      F  50       healthy         control  NA\n",
      "23       BM-J          J GSE120221      F  43       healthy         control  NA\n",
      "24       BM-K          K GSE120221      M  84       healthy         control  NA\n",
      "25       BM-L          L GSE120221      M  57       healthy         control  NA\n",
      "26       BM-M          M GSE120221      M  60       healthy         control  NA\n",
      "27       BM-N          N GSE120221      M  67       healthy         control  NA\n",
      "28       BM-O          O GSE120221      M  50       healthy         control  NA\n",
      "29       BM-P          P GSE120221      F  58       healthy         control  NA\n",
      "30       BM-Q          Q GSE120221      M  66       healthy         control  NA\n",
      "31       BM-R          R GSE120221      M  31       healthy         control  NA\n",
      "32     BM-Sk2          S GSE120221      F  55       healthy         control  NA\n",
      "33       BM-T          T GSE120221      F  24       healthy         control  NA\n",
      "34       BM-U          U GSE120221      F  46       healthy         control  NA\n",
      "35       BM-W          W GSE120221      F  28       healthy         control  NA\n"
     ]
    }
   ],
   "source": [
    "cat(\"anno_samples:\\n\\n**************\\n\\n\")\n",
    "print(anno_samples)"
   ]
  },
  {
   "cell_type": "markdown",
   "id": "f0119969",
   "metadata": {},
   "source": [
    "### export anno_samples"
   ]
  },
  {
   "cell_type": "code",
   "execution_count": 35,
   "id": "bdf07409",
   "metadata": {},
   "outputs": [],
   "source": [
    "save(anno_samples, file = paste0(path_out,\"anno_samples.RData\"))"
   ]
  },
  {
   "cell_type": "markdown",
   "id": "b195ea4b",
   "metadata": {},
   "source": [
    "# Preprocessing cell annotation files"
   ]
  },
  {
   "cell_type": "markdown",
   "id": "06779337",
   "metadata": {},
   "source": [
    "- **INPUT:**\n",
    "    - ```cell_relabelling.csv``` file containing unified cell type annotations. Stored in additional_input_files sub-directory\n",
    "\t- cell annotation matrices from the GSE116256_RAW dataset\n",
    "    - ```Oetjen_celltype.csv``` cell annotation file stored in additional_input_files sub-directory\n",
    "    \n",
    "- **NOTES:**\n",
    "\n",
    "    -  ```anno_cells``` file should contain columns \"cell_ID\", \"cell_type\" and \"sample_ID\" for communication analysis\n",
    "    \n",
    "- **OUTPUT:**\n",
    "\n",
    "    -  ```anno_cells.RData``` cleaned and merged cell annotation file"
   ]
  },
  {
   "cell_type": "code",
   "execution_count": 36,
   "id": "29cfdca6",
   "metadata": {},
   "outputs": [
    {
     "name": "stdout",
     "output_type": "stream",
     "text": [
      "load cell_relabelling\n",
      "\n",
      "**************\n",
      "\n",
      "                                       cell_type_original      cell_type\n",
      "B                                                       B              B\n",
      "CD10+ B cells                               CD10+ B cells              B\n",
      "CD20+ B cells                               CD20+ B cells              B\n",
      "ProB                                                 ProB              B\n",
      "Mono                                                 Mono           Mono\n",
      "CD14+ monocytes                           CD14+ monocytes           Mono\n",
      "CD16+ monocytes                           CD16+ monocytes           Mono\n",
      "Mono-like                                       Mono-like           Mono\n",
      "ProMono                                           ProMono           Mono\n",
      "Monocyte progenitors                 Monocyte progenitors           Mono\n",
      "ProMono-like                                 ProMono-like           Mono\n",
      "T                                                       T              T\n",
      "CD4+ memory T cells                   CD4+ memory T cells              T\n",
      "CD4+ naive T cells                     CD4+ naive T cells              T\n",
      "CD8+ effector T cells               CD8+ effector T cells              T\n",
      "CD8+ naive T cells                     CD8+ naive T cells              T\n",
      "CTL                                                   CTL              T\n",
      "pDC                                                   pDC             DC\n",
      "Plasmacytoid dendritic cells Plasmacytoid dendritic cells             DC\n",
      "cDC                                                   cDC             DC\n",
      "Dendritic cells                           Dendritic cells             DC\n",
      "cDC-like                                         cDC-like             DC\n",
      "earlyEry                                         earlyEry            Ery\n",
      "Early erythrocytes                     Early erythrocytes            Ery\n",
      "Early erythroid progenitors   Early erythroid progenitors            Ery\n",
      "lateEry                                           lateEry            Ery\n",
      "Late erythrocytes                       Late erythrocytes            Ery\n",
      "Late erythroid progenitors     Late erythroid progenitors            Ery\n",
      "Megakaryocytes                             Megakaryocytes Megakaryocytes\n",
      "NK                                                     NK             NK\n",
      "Natural killer cells                 Natural killer cells             NK\n",
      "Plasma                                             Plasma              B\n",
      "Plasma cells                                 Plasma cells              B\n",
      "HSC                                                   HSC           HSPC\n",
      "HSPCs                                               HSPCs           HSPC\n",
      "Prog                                                 Prog           HSPC\n",
      "GMP                                                   GMP           HSPC\n",
      "HSC-like                                         HSC-like           HSPC\n",
      "Prog-like                                       Prog-like           HSPC\n",
      "GMP-like                                         GMP-like           HSPC\n",
      "                                             source cell_type_color\n",
      "B                            van Galen et al., 2019           green\n",
      "CD10+ B cells                   Oetjen et al., 2018           green\n",
      "CD20+ B cells                   Oetjen et al., 2018           green\n",
      "ProB                         van Galen et al., 2019           green\n",
      "Mono                         van Galen et al., 2019      darkorange\n",
      "CD14+ monocytes                 Oetjen et al., 2018      darkorange\n",
      "CD16+ monocytes                 Oetjen et al., 2018      darkorange\n",
      "Mono-like                    van Galen et al., 2019      darkorange\n",
      "ProMono                      van Galen et al., 2019      darkorange\n",
      "Monocyte progenitors            Oetjen et al., 2018      darkorange\n",
      "ProMono-like                 van Galen et al., 2019      darkorange\n",
      "T                            van Galen et al., 2019            blue\n",
      "CD4+ memory T cells             Oetjen et al., 2018            blue\n",
      "CD4+ naive T cells              Oetjen et al., 2018            blue\n",
      "CD8+ effector T cells           Oetjen et al., 2018            blue\n",
      "CD8+ naive T cells              Oetjen et al., 2018            blue\n",
      "CTL                          van Galen et al., 2019            blue\n",
      "pDC                          van Galen et al., 2019           brown\n",
      "Plasmacytoid dendritic cells    Oetjen et al., 2018           brown\n",
      "cDC                          van Galen et al., 2019           brown\n",
      "Dendritic cells                 Oetjen et al., 2018           brown\n",
      "cDC-like                     van Galen et al., 2019           brown\n",
      "earlyEry                     van Galen et al., 2019             red\n",
      "Early erythrocytes              Oetjen et al., 2018             red\n",
      "Early erythroid progenitors     Oetjen et al., 2018             red\n",
      "lateEry                      van Galen et al., 2019             red\n",
      "Late erythrocytes               Oetjen et al., 2018             red\n",
      "Late erythroid progenitors      Oetjen et al., 2018             red\n",
      "Megakaryocytes                  Oetjen et al., 2018           beige\n",
      "NK                           van Galen et al., 2019        darkblue\n",
      "Natural killer cells            Oetjen et al., 2018        darkblue\n",
      "Plasma                       van Galen et al., 2019           green\n",
      "Plasma cells                    Oetjen et al., 2018           green\n",
      "HSC                          van Galen et al., 2019         magenta\n",
      "HSPCs                           Oetjen et al., 2018         magenta\n",
      "Prog                         van Galen et al., 2019         magenta\n",
      "GMP                          van Galen et al., 2019         magenta\n",
      "HSC-like                     van Galen et al., 2019         magenta\n",
      "Prog-like                    van Galen et al., 2019         magenta\n",
      "GMP-like                     van Galen et al., 2019         magenta\n",
      "                             cell_type_color_hex cell_type_shape   cell_subtype\n",
      "B                                        #4FC384              12              B\n",
      "CD10+ B cells                            #4FC384              12              B\n",
      "CD20+ B cells                            #4FC384              12              B\n",
      "ProB                                     #4FC384              12              B\n",
      "Mono                                     #F09040              13           Mono\n",
      "CD14+ monocytes                          #F09040              13           Mono\n",
      "CD16+ monocytes                          #F09040              13           Mono\n",
      "Mono-like                                #F09040              13           Mono\n",
      "ProMono                                  #F09040              13       pro_Mono\n",
      "Monocyte progenitors                     #F09040              13       pro_Mono\n",
      "ProMono-like                             #F09040              13       pro_Mono\n",
      "T                                        #4F92EE              12          CD4_T\n",
      "CD4+ memory T cells                      #4F92EE              12          CD4_T\n",
      "CD4+ naive T cells                       #4F92EE              12          CD4_T\n",
      "CD8+ effector T cells                    #4F92EE              12          CD8_T\n",
      "CD8+ naive T cells                       #4F92EE              12          CD8_T\n",
      "CTL                                      #4F92EE              12          CD8_T\n",
      "pDC                                      #854701              15            pDC\n",
      "Plasmacytoid dendritic cells             #854701              15            pDC\n",
      "cDC                                      #854701              15            cDC\n",
      "Dendritic cells                          #854701              15            cDC\n",
      "cDC-like                                 #854701              15            cDC\n",
      "earlyEry                                 #F72E3A              19      early_Ery\n",
      "Early erythrocytes                       #F72E3A              19      early_Ery\n",
      "Early erythroid progenitors              #F72E3A              19      early_Ery\n",
      "lateEry                                  #F72E3A              19       late_Ery\n",
      "Late erythrocytes                        #F72E3A              19       late_Ery\n",
      "Late erythroid progenitors               #F72E3A              19      early_Ery\n",
      "Megakaryocytes                           #C89B7A              13 Megakaryocytes\n",
      "NK                                       #4F64EE              17             NK\n",
      "Natural killer cells                     #4F64EE              17             NK\n",
      "Plasma                                   #4FC384               9         Plasma\n",
      "Plasma cells                             #4FC384               9         Plasma\n",
      "HSC                                      #D040F0              12           HSPC\n",
      "HSPCs                                    #D040F0              12           HSPC\n",
      "Prog                                     #D040F0              12           HSPC\n",
      "GMP                                      #D040F0              12           HSPC\n",
      "HSC-like                                 #D040F0              12           HSPC\n",
      "Prog-like                                #D040F0              12           HSPC\n",
      "GMP-like                                 #D040F0              12           HSPC\n",
      "                             cell_subtype_color cell_subtype_color_hex\n",
      "B                                         green                #4FC384\n",
      "CD10+ B cells                             green                #4FC384\n",
      "CD20+ B cells                             green                #4FC384\n",
      "ProB                                      green                #4FC384\n",
      "Mono                                 darkorange                #F09040\n",
      "CD14+ monocytes                      darkorange                #F09040\n",
      "CD16+ monocytes                      darkorange                #F09040\n",
      "Mono-like                            darkorange                #F09040\n",
      "ProMono                                  orange                #F0AD40\n",
      "Monocyte progenitors                     orange                #F0AD40\n",
      "ProMono-like                             orange                #F0AD40\n",
      "T                                     lightblue                #4FCCEE\n",
      "CD4+ memory T cells                   lightblue                #4FCCEE\n",
      "CD4+ naive T cells                    lightblue                #4FCCEE\n",
      "CD8+ effector T cells                      blue                #4F92EE\n",
      "CD8+ naive T cells                         blue                #4F92EE\n",
      "CTL                                        blue                #4F92EE\n",
      "pDC                                   darkbrown                #854701\n",
      "Plasmacytoid dendritic cells          darkbrown                #854701\n",
      "cDC                                       brown                #B95D10\n",
      "Dendritic cells                           brown                #B95D10\n",
      "cDC-like                                  brown                #B95D10\n",
      "earlyEry                                    red                #F72E3A\n",
      "Early erythrocytes                          red                #F72E3A\n",
      "Early erythroid progenitors                 red                #F72E3A\n",
      "lateEry                                 darkred                #C72D37\n",
      "Late erythrocytes                       darkred                #C72D37\n",
      "Late erythroid progenitors                  red                #F72E3A\n",
      "Megakaryocytes                            beige                #C89B7A\n",
      "NK                                     darkblue                #4F64EE\n",
      "Natural killer cells                   darkblue                #4F64EE\n",
      "Plasma                                darkgreen                #317E54\n",
      "Plasma cells                          darkgreen                #317E54\n",
      "HSC                                     magenta                #D040F0\n",
      "HSPCs                                   magenta                #D040F0\n",
      "Prog                                    magenta                #D040F0\n",
      "GMP                                     magenta                #D040F0\n",
      "HSC-like                                magenta                #D040F0\n",
      "Prog-like                               magenta                #D040F0\n",
      "GMP-like                                magenta                #D040F0\n"
     ]
    }
   ],
   "source": [
    "cat(\"load cell_relabelling\\n\\n**************\\n\\n\")\n",
    "tsv_file=\"cell_relabelling.csv\"\n",
    "cell_relabelling <- read.csv(file = paste(path_to_additional_files,tsv_file,sep=\"\")\n",
    "                             ,sep = \";\"\n",
    "                             )\n",
    "rownames(cell_relabelling) <- cell_relabelling$cell_type_original\n",
    "print(cell_relabelling)"
   ]
  },
  {
   "cell_type": "code",
   "execution_count": 37,
   "id": "5e7a923a",
   "metadata": {},
   "outputs": [
    {
     "name": "stdout",
     "output_type": "stream",
     "text": [
      "[1] \"GSM3587924_AML1012-D0.anno.txt\"\n",
      "[1] \"GSM3587926_AML210A-D0.anno.txt\"\n",
      "[1] \"GSM3587932_AML328-D0.anno.txt\"\n",
      "[1] \"GSM3587951_AML419A-D0.anno.txt\"\n",
      "[1] \"GSM3587954_AML420B-D0.anno.txt\"\n",
      "[1] \"GSM3587964_AML556-D0.anno.txt\"\n",
      "[1] \"GSM3587970_AML707B-D0.anno.txt\"\n",
      "[1] \"GSM3587981_AML722B-D0.anno.txt\"\n",
      "[1] \"GSM3587985_AML870-D0.anno.txt\"\n",
      "[1] \"GSM3587989_AML916-D0.anno.txt\"\n",
      "[1] \"GSM3587991_AML921A-D0.anno.txt\"\n",
      "[1] \"GSM3587996_BM1.anno.txt\"\n",
      "[1] \"GSM3587997_BM2.anno.txt\"\n",
      "[1] \"GSM3587999_BM3.anno.txt\"\n",
      "[1] \"GSM3588001_BM4.anno.txt\"\n"
     ]
    }
   ],
   "source": [
    "# read in raw annotation for GSE116256_RAW\n",
    "anno_GSE116256_RAW <- lapply(samples[[\"GSE116256_RAW\"]]\n",
    "                            ,function(sample){\n",
    "                                my_input_path <- paste0(path_in\n",
    "                                                               ,\"/GSE116256_RAW\"\n",
    "                                                              )\n",
    "                                file <- list.files(path=my_input_path\n",
    "                                                   ,pattern=paste0(\"*\"\n",
    "                                                                  ,sample \n",
    "                                                                  ,\".anno.txt\"\n",
    "                                                                  )\n",
    "                                                   )\n",
    "                                print(file) \n",
    "                                \n",
    "                                read.csv(paste0(my_input_path\n",
    "                                                ,\"/\"\n",
    "                                                ,file )\n",
    "                                         ,sep = \"\\t\"\n",
    "                                         ,check.names = FALSE \n",
    "                                        )\n",
    "                            })"
   ]
  },
  {
   "cell_type": "code",
   "execution_count": 38,
   "id": "c6f6d442",
   "metadata": {},
   "outputs": [
    {
     "name": "stdout",
     "output_type": "stream",
     "text": [
      "str(anno_GSE116256_RAW[[1]])\n",
      "\n",
      "'data.frame':\t1136 obs. of  28 variables:\n",
      " $ Cell                  : chr  \"AML1012-D0_AAAAAGTTACGT\" \"AML1012-D0_AAAACACCAATC\" \"AML1012-D0_AAAATAGCCTTT\" \"AML1012-D0_AAACATTAAACG\" ...\n",
      " $ NumberOfReads         : int  25292 85496 35481 39408 22632 67767 19245 59107 64919 19221 ...\n",
      " $ AlignedToGenome       : int  18329 63659 28600 29874 17136 51466 14938 45082 51291 14587 ...\n",
      " $ AlignedToTranscriptome: int  14531 43073 17200 23273 12459 37700 10455 36843 39665 11502 ...\n",
      " $ TranscriptomeUMIs     : int  1464 4810 2305 2266 1561 3572 1297 3886 2719 1572 ...\n",
      " $ NumberOfGenes         : int  670 1713 853 976 744 1416 638 1433 1203 667 ...\n",
      " $ CyclingScore          : num  -0.49 -0.484 -0.557 -0.581 -0.222 0.527 -0.386 -0.722 0.204 -0.233 ...\n",
      " $ CyclingBinary         : chr  \"no\" \"no\" \"no\" \"no\" ...\n",
      " $ MutTranscripts        : chr  \"\" \"\" \"\" \"\" ...\n",
      " $ WtTranscripts         : chr  \"\" \"\" \"\" \"\" ...\n",
      " $ PredictionRF2         : chr  \"normal\" \"malignant\" \"malignant\" \"normal\" ...\n",
      " $ PredictionRefined     : chr  \"normal\" \"malignant\" \"malignant\" \"malignant\" ...\n",
      " $ CellType              : chr  \"GMP\" \"GMP-like\" \"Prog-like\" \"ProMono-like\" ...\n",
      " $ Score_HSC             : num  0.091 0.058 0.111 0.013 0.088 0.036 0.098 0.129 0.06 0.06 ...\n",
      " $ Score_Prog            : num  0.125 0.091 0.118 0.017 0.105 0.067 0.145 0.117 0.108 0.092 ...\n",
      " $ Score_GMP             : num  0.13 0.27 0.078 0.159 0.065 0.246 0.168 0.057 0.178 0.253 ...\n",
      " $ Score_ProMono         : num  0.029 0.116 0.039 0.411 0.062 0.211 0.067 0.038 0.061 0.174 ...\n",
      " $ Score_Mono            : num  0.027 0.029 0.045 0.171 0.05 0.053 0.022 0.023 0.021 0.086 ...\n",
      " $ Score_cDC             : num  0.05 0.039 0.082 0.104 0.083 0.11 0.036 0.106 0.061 0.065 ...\n",
      " $ Score_pDC             : num  0.055 0.044 0.041 0.007 0.062 0.019 0.026 0.097 0.042 0.025 ...\n",
      " $ Score_earlyEry        : num  0.119 0.066 0.164 0.025 0.118 0.064 0.115 0.043 0.207 0.086 ...\n",
      " $ Score_lateEry         : num  0.028 0.011 0.055 0.005 0.019 0.02 0.034 0.006 0.041 0.02 ...\n",
      " $ Score_ProB            : num  0.068 0.035 0.071 0.003 0.075 0.039 0.046 0.057 0.071 0.024 ...\n",
      " $ Score_B               : num  0.034 0.03 0.037 0.016 0.04 0.016 0.054 0.193 0.026 0.03 ...\n",
      " $ Score_Plasma          : num  0.019 0.014 0.033 0.013 0.024 0.009 0.016 0.028 0.015 0.01 ...\n",
      " $ Score_T               : num  0.106 0.059 0.051 0.017 0.089 0.028 0.089 0.043 0.032 0.039 ...\n",
      " $ Score_CTL             : num  0.086 0.086 0.049 0.02 0.064 0.056 0.058 0.038 0.037 0.028 ...\n",
      " $ Score_NK              : num  0.033 0.052 0.026 0.019 0.056 0.026 0.026 0.025 0.04 0.008 ...\n",
      "NULL\n"
     ]
    }
   ],
   "source": [
    "names(anno_GSE116256_RAW) <- samples[[\"GSE116256_RAW\"]]\n",
    "cat(\"str(anno_GSE116256_RAW[[1]])\\n\\n\")\n",
    "print(str(anno_GSE116256_RAW[[1]]))"
   ]
  },
  {
   "cell_type": "code",
   "execution_count": 39,
   "id": "77400a1b",
   "metadata": {},
   "outputs": [
    {
     "name": "stdout",
     "output_type": "stream",
     "text": [
      "str(anno_GSE120221_RAW_unsplit)\n",
      "\n",
      "'data.frame':\t76645 obs. of  2 variables:\n",
      " $ cell_ID  : chr  \"S1_AAACCTGAGTTCCACA\" \"S1_AAACGGGGTCTAGTCA\" \"S1_AAAGATGCAATCGAAA\" \"S1_AAAGATGGTGTGCCTG\" ...\n",
      " $ cell_type: chr  \"Plasmacytoid dendritic cells\" \"CD20+ B cells\" \"CD4+ memory T cells\" \"CD14+ monocytes\" ...\n",
      "NULL\n"
     ]
    }
   ],
   "source": [
    "# read in raw annotation for GSE120221_RAW\n",
    "tsv_file=\"Oetjen_celltype.csv\"\n",
    "\n",
    "anno_GSE120221_RAW_unsplit <- read.csv(paste(path_to_additional_files,tsv_file,sep=\"\")\n",
    "                                       ,sep = \",\")\n",
    "colnames(anno_GSE120221_RAW_unsplit) <- c(\"cell_ID\"\n",
    "                                          ,\"cell_type\")\n",
    "cat(\"str(anno_GSE120221_RAW_unsplit)\\n\\n\")\n",
    "print(str(anno_GSE120221_RAW_unsplit))"
   ]
  },
  {
   "cell_type": "markdown",
   "id": "0e5e4870",
   "metadata": {},
   "source": [
    "### process data"
   ]
  },
  {
   "cell_type": "code",
   "execution_count": 40,
   "id": "6f5eff72",
   "metadata": {},
   "outputs": [],
   "source": [
    "# add \"BM-\" to sample names in GSE120221_RAW\n",
    "samples[[\"GSE120221_RAW\"]] <- paste0(\"BM-\"\n",
    "                                     ,samples[[\"GSE120221_RAW\"]])\n",
    "\n",
    "# add columns cell_ID and cell_type\n",
    "anno_GSE116256_RAW <- lapply(samples[[\"GSE116256_RAW\"]]\n",
    "                             ,function(sample){\n",
    "                                 my_anno <- anno_GSE116256_RAW[[sample]]\n",
    "                                 my_anno$cell_ID <- my_anno$Cell\n",
    "                                 my_anno$cell_type <- my_anno$CellType\n",
    "                                 anno_GSE116256_RAW[[sample]] <- my_anno\n",
    "                             }\n",
    "                            )\n",
    "names(anno_GSE116256_RAW) <- samples[[\"GSE116256_RAW\"]]"
   ]
  },
  {
   "cell_type": "code",
   "execution_count": 41,
   "id": "fdd1f133",
   "metadata": {},
   "outputs": [],
   "source": [
    "# add \"BM-\" to cell IDs\n",
    "anno_GSE120221_RAW_unsplit$cell_ID <- paste0(\"BM-\"\n",
    "                                            ,anno_GSE120221_RAW_unsplit$cell_ID)\n",
    "\n",
    "# add column sample_ID\n",
    "anno_GSE120221_RAW_unsplit$sample_ID <- sapply(anno_GSE120221_RAW_unsplit$cell_ID\n",
    "                                              ,function(cell_ID){\n",
    "                                                  sub(\"\\\\_.*\",\"\",cell_ID)\n",
    "                                              })"
   ]
  },
  {
   "cell_type": "code",
   "execution_count": 42,
   "id": "6e2b3b08",
   "metadata": {},
   "outputs": [],
   "source": [
    "# split anno_GSE120221_RAW_unsplit\n",
    "anno_GSE120221_RAW <- lapply(samples[[\"GSE120221_RAW\"]]\n",
    "                            ,function(sample){\n",
    "                                idx_sample <- anno_GSE120221_RAW_unsplit$sample_ID == sample\n",
    "                                anno_GSE120221_RAW_unsplit[idx_sample,]\n",
    "                            })\n",
    "names(anno_GSE120221_RAW) <- samples[[\"GSE120221_RAW\"]]"
   ]
  },
  {
   "cell_type": "code",
   "execution_count": 43,
   "id": "e02b90a1",
   "metadata": {},
   "outputs": [],
   "source": [
    "# merge anno_GSE116256_RAW and anno_GSE120221_RAW into one list\n",
    "anno_GSE116256_RAW_GSE120221_RAW <- c(anno_GSE116256_RAW\n",
    "                                     ,anno_GSE120221_RAW)"
   ]
  },
  {
   "cell_type": "markdown",
   "id": "f3c37174",
   "metadata": {},
   "source": [
    "### unify columns"
   ]
  },
  {
   "cell_type": "code",
   "execution_count": 44,
   "id": "50376da7",
   "metadata": {},
   "outputs": [],
   "source": [
    "# make anno with all columns needed\n",
    "anno <- lapply(unlist(samples)\n",
    "              ,function(sample){\n",
    "                  my_anno <- anno_GSE116256_RAW_GSE120221_RAW[[sample]]\n",
    "                  my_df <- data.frame(cell_ID = my_anno$cell_ID\n",
    "                                      ,cell_type_original = my_anno$cell_type\n",
    "                                      ,sample_ID = rep(sample, nrow(my_anno))\n",
    "                                      ,malignant = grepl(\"-like\", my_anno$cell_type) # in the GSE116256_RAW dataset, the cells marked as \"-like\" bare a mutation, we thus mark them as malignant\n",
    "                                     )\n",
    "                  my_df\n",
    "              })\n",
    "names(anno) <- unlist(samples)"
   ]
  },
  {
   "cell_type": "code",
   "execution_count": 45,
   "id": "ab48cd9f",
   "metadata": {},
   "outputs": [
    {
     "name": "stderr",
     "output_type": "stream",
     "text": [
      "Warning message in data.frame(..., check.names = FALSE):\n",
      "“row names were found from a short variable and have been discarded”\n",
      "Warning message in data.frame(..., check.names = FALSE):\n",
      "“row names were found from a short variable and have been discarded”\n",
      "Warning message in data.frame(..., check.names = FALSE):\n",
      "“row names were found from a short variable and have been discarded”\n",
      "Warning message in data.frame(..., check.names = FALSE):\n",
      "“row names were found from a short variable and have been discarded”\n",
      "Warning message in data.frame(..., check.names = FALSE):\n",
      "“row names were found from a short variable and have been discarded”\n",
      "Warning message in data.frame(..., check.names = FALSE):\n",
      "“row names were found from a short variable and have been discarded”\n",
      "Warning message in data.frame(..., check.names = FALSE):\n",
      "“row names were found from a short variable and have been discarded”\n",
      "Warning message in data.frame(..., check.names = FALSE):\n",
      "“row names were found from a short variable and have been discarded”\n",
      "Warning message in data.frame(..., check.names = FALSE):\n",
      "“row names were found from a short variable and have been discarded”\n",
      "Warning message in data.frame(..., check.names = FALSE):\n",
      "“row names were found from a short variable and have been discarded”\n",
      "Warning message in data.frame(..., check.names = FALSE):\n",
      "“row names were found from a short variable and have been discarded”\n",
      "Warning message in data.frame(..., check.names = FALSE):\n",
      "“row names were found from a short variable and have been discarded”\n",
      "Warning message in data.frame(..., check.names = FALSE):\n",
      "“row names were found from a short variable and have been discarded”\n",
      "Warning message in data.frame(..., check.names = FALSE):\n",
      "“row names were found from a short variable and have been discarded”\n",
      "Warning message in data.frame(..., check.names = FALSE):\n",
      "“row names were found from a short variable and have been discarded”\n",
      "Warning message in data.frame(..., check.names = FALSE):\n",
      "“row names were found from a short variable and have been discarded”\n",
      "Warning message in data.frame(..., check.names = FALSE):\n",
      "“row names were found from a short variable and have been discarded”\n",
      "Warning message in data.frame(..., check.names = FALSE):\n",
      "“row names were found from a short variable and have been discarded”\n",
      "Warning message in data.frame(..., check.names = FALSE):\n",
      "“row names were found from a short variable and have been discarded”\n",
      "Warning message in data.frame(..., check.names = FALSE):\n",
      "“row names were found from a short variable and have been discarded”\n",
      "Warning message in data.frame(..., check.names = FALSE):\n",
      "“row names were found from a short variable and have been discarded”\n",
      "Warning message in data.frame(..., check.names = FALSE):\n",
      "“row names were found from a short variable and have been discarded”\n",
      "Warning message in data.frame(..., check.names = FALSE):\n",
      "“row names were found from a short variable and have been discarded”\n",
      "Warning message in data.frame(..., check.names = FALSE):\n",
      "“row names were found from a short variable and have been discarded”\n",
      "Warning message in data.frame(..., check.names = FALSE):\n",
      "“row names were found from a short variable and have been discarded”\n",
      "Warning message in data.frame(..., check.names = FALSE):\n",
      "“row names were found from a short variable and have been discarded”\n",
      "Warning message in data.frame(..., check.names = FALSE):\n",
      "“row names were found from a short variable and have been discarded”\n",
      "Warning message in data.frame(..., check.names = FALSE):\n",
      "“row names were found from a short variable and have been discarded”\n",
      "Warning message in data.frame(..., check.names = FALSE):\n",
      "“row names were found from a short variable and have been discarded”\n",
      "Warning message in data.frame(..., check.names = FALSE):\n",
      "“row names were found from a short variable and have been discarded”\n",
      "Warning message in data.frame(..., check.names = FALSE):\n",
      "“row names were found from a short variable and have been discarded”\n",
      "Warning message in data.frame(..., check.names = FALSE):\n",
      "“row names were found from a short variable and have been discarded”\n",
      "Warning message in data.frame(..., check.names = FALSE):\n",
      "“row names were found from a short variable and have been discarded”\n",
      "Warning message in data.frame(..., check.names = FALSE):\n",
      "“row names were found from a short variable and have been discarded”\n",
      "Warning message in data.frame(..., check.names = FALSE):\n",
      "“row names were found from a short variable and have been discarded”\n"
     ]
    }
   ],
   "source": [
    "# add anno_samples info\n",
    "anno <- lapply(unlist(samples)\n",
    "              ,function(sample){\n",
    "                  my_anno <- anno[[sample]]\n",
    "                  my_anno_sample <- anno_samples[anno_samples$sample_ID == sample,]\n",
    "                  my_anno <- cbind(my_anno\n",
    "                                  ,my_anno_sample[-1])\n",
    "              })\n",
    "names(anno) <- unlist(samples)"
   ]
  },
  {
   "cell_type": "code",
   "execution_count": 46,
   "id": "2c0a00e9",
   "metadata": {},
   "outputs": [],
   "source": [
    "# concatenate\n",
    "anno_cells <- do.call(rbind.data.frame, anno)"
   ]
  },
  {
   "cell_type": "markdown",
   "id": "dbd582fd",
   "metadata": {},
   "source": [
    "### unify cell annotation\n",
    "For communication analysis, the `anno_cells` file should contain a column `cell_type`. To make the communication analysis more robust, we merge the very fine-grained original cell type annotations into bigger cell type categories (\"cell_type\" column). We preserve the original cell type annotation information in the \"original_cell_type\" column. For later visualization purposes, we also add cell subtypes (\"cell_subtype\" column), which has a higher cell type resolution than the \"cell_type\", but is still not as detailed as the original cell type annotations."
   ]
  },
  {
   "cell_type": "code",
   "execution_count": 47,
   "id": "17b5d4b5",
   "metadata": {},
   "outputs": [],
   "source": [
    "anno_cells$cell_type <- cell_relabelling[anno_cells$cell_type_original,\"cell_type\"]\n",
    "# add cell_subtype column\n",
    "anno_cells$cell_subtype <- cell_relabelling[anno_cells$cell_type_original,\"cell_subtype\"]"
   ]
  },
  {
   "cell_type": "code",
   "execution_count": 48,
   "id": "617d96a2",
   "metadata": {},
   "outputs": [],
   "source": [
    "# add cell_type_original_datasetName column\n",
    "datasetName <- rep(NA,nrow(anno_cells))\n",
    "idx_vanGalen <- anno_cells$dataset == \"GSE116256\"\n",
    "datasetName[idx_vanGalen] <- \"vanGalen\"\n",
    "datasetName[!idx_vanGalen] <- \"Oetjen\"\n",
    "anno_cells$cell_type_original_datasetName <- paste(anno_cells$cell_type_original\n",
    "                                                   ,datasetName\n",
    "                                                   ,sep = \"_\")"
   ]
  },
  {
   "cell_type": "code",
   "execution_count": 49,
   "id": "c2eac6aa",
   "metadata": {},
   "outputs": [
    {
     "name": "stdout",
     "output_type": "stream",
     "text": [
      "'data.frame':\t87333 obs. of  14 variables:\n",
      " $ cell_ID                       : chr  \"AML1012-D0_AAAAAGTTACGT\" \"AML1012-D0_AAAACACCAATC\" \"AML1012-D0_AAAATAGCCTTT\" \"AML1012-D0_AAACATTAAACG\" ...\n",
      " $ cell_type_original            : chr  \"GMP\" \"GMP-like\" \"Prog-like\" \"ProMono-like\" ...\n",
      " $ sample_ID                     : chr  \"AML1012-D0\" \"AML1012-D0\" \"AML1012-D0\" \"AML1012-D0\" ...\n",
      " $ malignant                     : logi  FALSE TRUE TRUE TRUE TRUE TRUE ...\n",
      " $ patient_ID                    : chr  \"AML1012\" \"AML1012\" \"AML1012\" \"AML1012\" ...\n",
      " $ dataset                       : chr  \"GSE116256\" \"GSE116256\" \"GSE116256\" \"GSE116256\" ...\n",
      " $ gender                        : chr  \"F\" \"F\" \"F\" \"F\" ...\n",
      " $ age                           : int  32 32 32 32 32 32 32 32 32 32 ...\n",
      " $ health_status                 : chr  \"AML\" \"AML\" \"AML\" \"AML\" ...\n",
      " $ case_or_control               : chr  \"case\" \"case\" \"case\" \"case\" ...\n",
      " $ day                           : int  0 0 0 0 0 0 0 0 0 0 ...\n",
      " $ cell_type                     : chr  \"HSPC\" \"HSPC\" \"HSPC\" \"Mono\" ...\n",
      " $ cell_subtype                  : chr  \"HSPC\" \"HSPC\" \"HSPC\" \"pro_Mono\" ...\n",
      " $ cell_type_original_datasetName: chr  \"GMP_vanGalen\" \"GMP-like_vanGalen\" \"Prog-like_vanGalen\" \"ProMono-like_vanGalen\" ...\n",
      "NULL\n"
     ]
    }
   ],
   "source": [
    "print(str(anno_cells))"
   ]
  },
  {
   "cell_type": "markdown",
   "id": "f26e1eeb",
   "metadata": {},
   "source": [
    "### export anno_cells"
   ]
  },
  {
   "cell_type": "code",
   "execution_count": 50,
   "id": "df4c39c6",
   "metadata": {},
   "outputs": [],
   "source": [
    "save(anno_cells, file = paste0(path_out, \"anno_cells.RData\"))"
   ]
  },
  {
   "cell_type": "markdown",
   "id": "5dcea688",
   "metadata": {},
   "source": [
    "# preprocessing gene annotation files"
   ]
  },
  {
   "cell_type": "markdown",
   "id": "1793396b",
   "metadata": {},
   "source": [
    "- **INPUT:**\n",
    "    - ```LR_database.rda```  stored in additional_input_files sub-directory\n",
    "<!--     - ```- counts.RData```  -->\n",
    "   \n",
    "    \n",
    "- **OUTPUT:**\n",
    "\n",
    "    -  ```anno_genes.RData``` contains information about what genes are ligands and receptors"
   ]
  },
  {
   "cell_type": "markdown",
   "id": "94d45a7a",
   "metadata": {},
   "source": [
    "### load LR_database.rda data base\n"
   ]
  },
  {
   "cell_type": "code",
   "execution_count": null,
   "id": "4d9fee11",
   "metadata": {},
   "outputs": [],
   "source": []
  },
  {
   "cell_type": "code",
   "execution_count": 51,
   "id": "95958a8a",
   "metadata": {},
   "outputs": [
    {
     "name": "stdout",
     "output_type": "stream",
     "text": [
      "str(LR_database)\n",
      "\n",
      "'data.frame':\t7244 obs. of  26 variables:\n",
      " $ Pair.Name            : chr  \"A2M_LRP1\" \"ACTR2_ADRB2\" \"ACTR2_LDLR\" \"ACTR2_LRP2\" ...\n",
      " $ Ligand               : chr  \"A2M\" \"ACTR2\" \"ACTR2\" \"ACTR2\" ...\n",
      " $ Ligand.Name          : chr  \"alpha-2-macroglobulin\" \"actin related protein 2\" \"actin related protein 2\" \"actin related protein 2\" ...\n",
      " $ Receptor             : chr  \"LRP1\" \"ADRB2\" \"LDLR\" \"LRP2\" ...\n",
      " $ Receptor.Name        : chr  \"LDL receptor related protein 1\" \"adrenoceptor beta 2\" \"low density lipoprotein receptor\" \"LDL receptor related protein 2\" ...\n",
      " $ complex_pair         : chr  NA NA NA NA ...\n",
      " $ partner_a            : chr  \"P01023\" \"P61160\" \"P61160\" \"P61160\" ...\n",
      " $ partner_b            : chr  \"Q07954\" \"P07550\" \"P01130\" \"P98164\" ...\n",
      " $ source               : chr  \"P01023\" \"P61160\" \"P61160\" \"P61160\" ...\n",
      " $ target               : chr  \"Q07954\" \"P07550\" \"P01130\" \"P98164\" ...\n",
      " $ source_genesymbol    : chr  \"A2M\" \"ACTR2\" \"ACTR2\" \"ACTR2\" ...\n",
      " $ target_genesymbol    : chr  \"LRP1\" \"ADRB2\" \"LDLR\" \"LRP2\" ...\n",
      " $ is_directed          : num  1 1 1 1 1 1 1 1 1 1 ...\n",
      " $ is_stimulation       : num  1 0 0 0 1 0 1 0 0 0 ...\n",
      " $ is_inhibition        : num  0 0 0 0 0 0 0 0 0 0 ...\n",
      " $ consensus_direction  : num  1 0 0 0 1 0 1 0 0 0 ...\n",
      " $ consensus_stimulation: num  1 0 0 0 1 0 1 0 0 0 ...\n",
      " $ consensus_inhibition : num  0 0 0 0 0 0 0 0 0 0 ...\n",
      " $ sources              : chr  \"AlzPathway;Baccin2019;CellTalkDB;EMBRACE;Fantom5_LRdb;HPMR_LRdb;HPMR_talklr;HPRD;HPRD_LRdb;HPRD_talklr;LRdb;Ram\"| __truncated__ \"CellTalkDB;LRdb;Reactome_LRdb\" \"CellTalkDB;LRdb;Reactome_LRdb\" \"CellTalkDB;LRdb;Reactome_LRdb\" ...\n",
      " $ references           : chr  \"AlzPathway:19026743;Baccin2019:10652313;Baccin2019:12194978;Baccin2019:1702392;CellTalkDB:10652313;HPRD:1065231\"| __truncated__ \"CellTalkDB:32196115\" \"CellTalkDB:32196115\" \"CellTalkDB:32196115\" ...\n",
      " $ curation_effort      : num  11 1 1 1 0 1 39 1 1 1 ...\n",
      " $ n_references         : num  4 1 1 1 0 1 9 1 1 1 ...\n",
      " $ n_resources          : int  11 2 2 2 1 1 19 2 2 3 ...\n",
      " $ annotation_strategy  : chr  \"LR\" \"LR\" \"LR\" \"LR\" ...\n",
      " $ db                   : chr  \"both\" \"both\" \"both\" \"both\" ...\n",
      " $ True_LR              : logi  TRUE TRUE TRUE TRUE TRUE TRUE ...\n",
      "NULL\n"
     ]
    }
   ],
   "source": [
    "file=\"LR_database.rda\"\n",
    "load(paste(path_to_additional_files,file,sep=\"\"))\n",
    "cat(\"str(LR_database)\\n\\n\")\n",
    "print(str(LR_database))"
   ]
  },
  {
   "cell_type": "code",
   "execution_count": 52,
   "id": "2848197c",
   "metadata": {},
   "outputs": [],
   "source": [
    "# load(\"./AML_healthy/counts.RData\")"
   ]
  },
  {
   "cell_type": "markdown",
   "id": "ed6ad49b",
   "metadata": {},
   "source": [
    "### create anno_genes"
   ]
  },
  {
   "cell_type": "markdown",
   "id": "faa48034",
   "metadata": {},
   "source": [
    "The initial `anno_genes` file will contain the column \"gene_symbol\", \"is_in _LR_database\", \"isLigand\", and \"isReceptor."
   ]
  },
  {
   "cell_type": "code",
   "execution_count": 53,
   "id": "78fc8915",
   "metadata": {},
   "outputs": [],
   "source": [
    "anno_genes <- data.frame(gene_symbol = rownames(counts))"
   ]
  },
  {
   "cell_type": "code",
   "execution_count": 54,
   "id": "e4173221",
   "metadata": {},
   "outputs": [],
   "source": [
    "# mark if genes are in LR_database \n",
    "anno_genes$is_in_LR_database <- (anno_genes$gene_symbol %in% LR_database$Ligand.ApprovedSymbol) | (\n",
    "        anno_genes$gene_symbol %in% LR_database$Receptor.ApprovedSymbol\n",
    ")\n"
   ]
  },
  {
   "cell_type": "code",
   "execution_count": 55,
   "id": "b5975537",
   "metadata": {},
   "outputs": [
    {
     "name": "stdout",
     "output_type": "stream",
     "text": [
      "str(anno_genes)\n",
      "\n",
      "'data.frame':\t19303 obs. of  4 variables:\n",
      " $ gene_symbol      : chr  \"A1BG\" \"A1BG-AS1\" \"A1CF\" \"A2M\" ...\n",
      " $ is_in_LR_database: logi  FALSE FALSE FALSE FALSE FALSE FALSE ...\n",
      " $ isLigand         : logi  FALSE FALSE FALSE TRUE FALSE FALSE ...\n",
      " $ isReceptor       : logi  TRUE FALSE FALSE FALSE FALSE FALSE ...\n",
      "NULL\n"
     ]
    }
   ],
   "source": [
    "# mark if gene are ligands or receptors\n",
    "anno_genes$isLigand <- anno_genes$gene_symbol %in% LR_database$Ligand\n",
    "anno_genes$isReceptor <- anno_genes$gene_symbol %in% LR_database$Receptor\n",
    "\n",
    "cat(\"str(anno_genes)\\n\\n\")\n",
    "print(str(anno_genes))"
   ]
  },
  {
   "cell_type": "code",
   "execution_count": 56,
   "id": "b416f2bd",
   "metadata": {},
   "outputs": [
    {
     "name": "stdout",
     "output_type": "stream",
     "text": [
      "total nr genes are 19303 \n",
      "nr ligands in LR_database are 1585 \n",
      "nr ligands in our data are 1445 \n",
      "nr receptors in LR_database are 1408 \n",
      "nr receptors in our data are 1314 \n"
     ]
    }
   ],
   "source": [
    "cat(\"total nr genes are\", nrow(anno_genes),\"\\n\")\n",
    "cat(\"nr ligands in LR_database are\", length(unique(LR_database$Ligand)),\"\\n\")\n",
    "cat(\"nr ligands in our data are\",sum(anno_genes$isLigand),\"\\n\")\n",
    "cat(\"nr receptors in LR_database are\",length(unique(LR_database$Receptor.)),\"\\n\")\n",
    "cat(\"nr receptors in our data are\",sum(anno_genes$isReceptor),'\\n')"
   ]
  },
  {
   "cell_type": "markdown",
   "id": "e3bd5097",
   "metadata": {},
   "source": [
    "### export\n"
   ]
  },
  {
   "cell_type": "code",
   "execution_count": 57,
   "id": "4beb770b",
   "metadata": {},
   "outputs": [],
   "source": [
    "save(anno_genes, file = paste0(path_out, \"anno_genes.RData\"))"
   ]
  },
  {
   "cell_type": "code",
   "execution_count": null,
   "id": "0612e8e7",
   "metadata": {},
   "outputs": [],
   "source": []
  },
  {
   "cell_type": "code",
   "execution_count": null,
   "id": "b5a64e7f",
   "metadata": {},
   "outputs": [],
   "source": []
  },
  {
   "cell_type": "code",
   "execution_count": null,
   "id": "eee1b00b",
   "metadata": {},
   "outputs": [],
   "source": []
  }
 ],
 "metadata": {
  "kernelspec": {
   "display_name": "R",
   "language": "R",
   "name": "ir"
  },
  "language_info": {
   "codemirror_mode": "r",
   "file_extension": ".r",
   "mimetype": "text/x-r-source",
   "name": "R",
   "pygments_lexer": "r",
   "version": "4.1.2"
  },
  "toc": {
   "base_numbering": 1,
   "nav_menu": {},
   "number_sections": true,
   "sideBar": true,
   "skip_h1_title": false,
   "title_cell": "Table of Contents",
   "title_sidebar": "Contents",
   "toc_cell": false,
   "toc_position": {},
   "toc_section_display": true,
   "toc_window_display": false
  }
 },
 "nbformat": 4,
 "nbformat_minor": 5
}
