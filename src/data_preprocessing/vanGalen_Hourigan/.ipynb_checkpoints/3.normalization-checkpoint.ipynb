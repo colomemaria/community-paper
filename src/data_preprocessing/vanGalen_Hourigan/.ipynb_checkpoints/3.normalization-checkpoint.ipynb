{
 "cells": [
  {
   "cell_type": "markdown",
   "id": "74b28f68",
   "metadata": {},
   "source": [
    "# PART 3\n",
    "## Normalize data\n",
    "\n",
    "Scran normalization: since the cell types show intrinsic differences in library sizes, we will running the normalzation on each cell type separately.\n",
    "\n",
    "- **INPUT:**\n",
    "    - ```counts_cf_ctf_gf_sf.RData``` \n",
    "    - ```anno_cells_cf_ctf_gf_sf.RData```\n",
    "    - ```anno_samples_cf_ctf_gf_sf.RData```\n",
    "    - ```anno_genes_cf_ctf_gf_sf.RData```\n",
    "    - ```cell_relabelling.csv``` file containing unified cell type annotations. Stored in additional_input_files sub-directory.\n",
    "    \n",
    "    \n",
    "- **OUTPUT:**\n",
    "\n",
    "    -  ```counts_norm.mtx``` \n",
    "    -  ```anno_cells_norm.txt``` \n",
    "    -  ```anno_samples_norm.txt``` \n",
    "    -  ```anno_genes_norm.txt``` "
   ]
  },
  {
   "cell_type": "markdown",
   "id": "89a575bd",
   "metadata": {},
   "source": [
    "### load data"
   ]
  },
  {
   "cell_type": "code",
   "execution_count": 1,
   "id": "cf13eb0e",
   "metadata": {
    "ExecuteTime": {
     "end_time": "2023-01-10T15:08:46.762243Z",
     "start_time": "2023-01-10T15:08:45.603Z"
    }
   },
   "outputs": [
    {
     "name": "stderr",
     "output_type": "stream",
     "text": [
      "Loading required package: SummarizedExperiment\n",
      "\n",
      "Loading required package: MatrixGenerics\n",
      "\n",
      "Loading required package: matrixStats\n",
      "\n",
      "\n",
      "Attaching package: ‘MatrixGenerics’\n",
      "\n",
      "\n",
      "The following objects are masked from ‘package:matrixStats’:\n",
      "\n",
      "    colAlls, colAnyNAs, colAnys, colAvgsPerRowSet, colCollapse,\n",
      "    colCounts, colCummaxs, colCummins, colCumprods, colCumsums,\n",
      "    colDiffs, colIQRDiffs, colIQRs, colLogSumExps, colMadDiffs,\n",
      "    colMads, colMaxs, colMeans2, colMedians, colMins, colOrderStats,\n",
      "    colProds, colQuantiles, colRanges, colRanks, colSdDiffs, colSds,\n",
      "    colSums2, colTabulates, colVarDiffs, colVars, colWeightedMads,\n",
      "    colWeightedMeans, colWeightedMedians, colWeightedSds,\n",
      "    colWeightedVars, rowAlls, rowAnyNAs, rowAnys, rowAvgsPerColSet,\n",
      "    rowCollapse, rowCounts, rowCummaxs, rowCummins, rowCumprods,\n",
      "    rowCumsums, rowDiffs, rowIQRDiffs, rowIQRs, rowLogSumExps,\n",
      "    rowMadDiffs, rowMads, rowMaxs, rowMeans2, rowMedians, rowMins,\n",
      "    rowOrderStats, rowProds, rowQuantiles, rowRanges, rowRanks,\n",
      "    rowSdDiffs, rowSds, rowSums2, rowTabulates, rowVarDiffs, rowVars,\n",
      "    rowWeightedMads, rowWeightedMeans, rowWeightedMedians,\n",
      "    rowWeightedSds, rowWeightedVars\n",
      "\n",
      "\n",
      "Loading required package: GenomicRanges\n",
      "\n",
      "Loading required package: stats4\n",
      "\n",
      "Loading required package: BiocGenerics\n",
      "\n",
      "\n",
      "Attaching package: ‘BiocGenerics’\n",
      "\n",
      "\n",
      "The following objects are masked from ‘package:stats’:\n",
      "\n",
      "    IQR, mad, sd, var, xtabs\n",
      "\n",
      "\n",
      "The following objects are masked from ‘package:base’:\n",
      "\n",
      "    anyDuplicated, aperm, append, as.data.frame, basename, cbind,\n",
      "    colnames, dirname, do.call, duplicated, eval, evalq, Filter, Find,\n",
      "    get, grep, grepl, intersect, is.unsorted, lapply, Map, mapply,\n",
      "    match, mget, order, paste, pmax, pmax.int, pmin, pmin.int,\n",
      "    Position, rank, rbind, Reduce, rownames, sapply, setdiff, sort,\n",
      "    table, tapply, union, unique, unsplit, which.max, which.min\n",
      "\n",
      "\n",
      "Loading required package: S4Vectors\n",
      "\n",
      "\n",
      "Attaching package: ‘S4Vectors’\n",
      "\n",
      "\n",
      "The following object is masked from ‘package:utils’:\n",
      "\n",
      "    findMatches\n",
      "\n",
      "\n",
      "The following objects are masked from ‘package:base’:\n",
      "\n",
      "    expand.grid, I, unname\n",
      "\n",
      "\n",
      "Loading required package: IRanges\n",
      "\n",
      "Loading required package: GenomeInfoDb\n",
      "\n",
      "Loading required package: Biobase\n",
      "\n",
      "Welcome to Bioconductor\n",
      "\n",
      "    Vignettes contain introductory material; view with\n",
      "    'browseVignettes()'. To cite Bioconductor, see\n",
      "    'citation(\"Biobase\")', and for packages 'citation(\"pkgname\")'.\n",
      "\n",
      "\n",
      "\n",
      "Attaching package: ‘Biobase’\n",
      "\n",
      "\n",
      "The following object is masked from ‘package:MatrixGenerics’:\n",
      "\n",
      "    rowMedians\n",
      "\n",
      "\n",
      "The following objects are masked from ‘package:matrixStats’:\n",
      "\n",
      "    anyMissing, rowMedians\n",
      "\n",
      "\n",
      "Loading required package: scuttle\n",
      "\n",
      "\n",
      "Attaching package: ‘Matrix’\n",
      "\n",
      "\n",
      "The following object is masked from ‘package:S4Vectors’:\n",
      "\n",
      "    expand\n",
      "\n",
      "\n"
     ]
    }
   ],
   "source": [
    "library(ggplot2)\n",
    "library(SingleCellExperiment)\n",
    "library(scran)\n",
    "library(scater)\n",
    "library(Matrix)"
   ]
  },
  {
   "cell_type": "code",
   "execution_count": 2,
   "id": "8fd72611",
   "metadata": {},
   "outputs": [],
   "source": [
    "# if (!require(\"BiocManager\", quietly = TRUE))\n",
    "#     install.packages(\"BiocManager\")\n",
    "\n",
    "# BiocManager::install(c(\"SingleCellExperiment\",\"scran\",\"scater\"))"
   ]
  },
  {
   "cell_type": "code",
   "execution_count": 3,
   "id": "1b40a063",
   "metadata": {},
   "outputs": [],
   "source": [
    "path_to_additional_files=\"../../../data/data_preprocessing/vanGalen_Hourigan/additional_input_files/\"\n",
    "path_in <- \"../../../results/data_preprocessing/vanGalen_Hourigan/filtered/\"\n",
    "path_out <- \"../../../results/data_preprocessing/vanGalen_Hourigan/normalized/\""
   ]
  },
  {
   "cell_type": "code",
   "execution_count": 4,
   "id": "911232b2",
   "metadata": {},
   "outputs": [
    {
     "name": "stdout",
     "output_type": "stream",
     "text": [
      "[1] \"load cell_relabelling\"\n",
      "'data.frame':\t40 obs. of  9 variables:\n",
      " $ cell_type_original    : chr  \"B\" \"CD10+ B cells\" \"CD20+ B cells\" \"ProB\" ...\n",
      " $ cell_type             : chr  \"B\" \"B\" \"B\" \"B\" ...\n",
      " $ source                : chr  \"van Galen et al., 2019\" \"Oetjen et al., 2018\" \"Oetjen et al., 2018\" \"van Galen et al., 2019\" ...\n",
      " $ cell_type_color       : chr  \"green\" \"green\" \"green\" \"green\" ...\n",
      " $ cell_type_color_hex   : chr  \"#4FC384\" \"#4FC384\" \"#4FC384\" \"#4FC384\" ...\n",
      " $ cell_type_shape       : int  12 12 12 12 13 13 13 13 13 13 ...\n",
      " $ cell_subtype          : chr  \"B\" \"B\" \"B\" \"B\" ...\n",
      " $ cell_subtype_color    : chr  \"green\" \"green\" \"green\" \"green\" ...\n",
      " $ cell_subtype_color_hex: chr  \"#4FC384\" \"#4FC384\" \"#4FC384\" \"#4FC384\" ...\n",
      "NULL\n"
     ]
    }
   ],
   "source": [
    "# load cell relabelling file\n",
    "print(\"load cell_relabelling\")\n",
    "file=\"cell_relabelling.csv\"\n",
    "cell_relabelling <- read.csv(file = paste(path_to_additional_files, file, sep=\"\")\n",
    "                             ,sep = \";\"\n",
    ")\n",
    "rownames(cell_relabelling) <- cell_relabelling$cell_type_original\n",
    "print(str(cell_relabelling))"
   ]
  },
  {
   "cell_type": "code",
   "execution_count": 5,
   "id": "74de01af",
   "metadata": {},
   "outputs": [
    {
     "name": "stdout",
     "output_type": "stream",
     "text": [
      "[1] \"load counts\"\n"
     ]
    }
   ],
   "source": [
    "# load counts\n",
    "print(\"load counts\")\n",
    "load(paste0(path_in, \"counts_cf_ctf_gf_sf.RData\"))\n",
    "print(\"dim(counts_cf_ctf_gf_sf)\")\n",
    "print(dim(counts_cf_ctf_gf_sf))"
   ]
  },
  {
   "cell_type": "code",
   "execution_count": null,
   "id": "2296bac5",
   "metadata": {},
   "outputs": [],
   "source": [
    "# load cell annotation\n",
    "print(\"load cell annotation\")\n",
    "load(paste0(path_in, \"anno_cells_cf_ctf_gf_sf.RData\"))\n",
    "print(\"str(anno_cells_cf_ctf_gf_sf)\")\n",
    "print(str(anno_cells_cf_ctf_gf_sf))"
   ]
  },
  {
   "cell_type": "code",
   "execution_count": null,
   "id": "ee995da7",
   "metadata": {},
   "outputs": [],
   "source": [
    "# load sample annotation\n",
    "print(\"load sample annotation\")\n",
    "load(paste0(path_in, \"anno_samples_cf_ctf_gf_sf.RData\"))\n",
    "print(\"str(anno_samples_cf_ctf_gf_sf)\")\n",
    "print(str(anno_samples_cf_ctf_gf_sf))"
   ]
  },
  {
   "cell_type": "code",
   "execution_count": null,
   "id": "ff87d849",
   "metadata": {},
   "outputs": [],
   "source": [
    "# load gene annotation\n",
    "print(\"load gene annotation\")\n",
    "load(paste0(path_in, \"anno_genes_cf_ctf_gf_sf.RData\"))\n",
    "print(\"str(anno_genes_cf_ctf_gf_sf)\")\n",
    "print(str(anno_genes_cf_ctf_gf_sf))"
   ]
  },
  {
   "cell_type": "code",
   "execution_count": null,
   "id": "c581e42f",
   "metadata": {},
   "outputs": [],
   "source": [
    "# color scheme for celltypes\n",
    "color_celltype <- cell_relabelling$cell_type_color_hex[!duplicated(cell_relabelling$cell_type)]\n",
    "names(color_celltype) <- cell_relabelling$cell_type[!duplicated(cell_relabelling$cell_type)]"
   ]
  },
  {
   "cell_type": "markdown",
   "id": "f332881f",
   "metadata": {},
   "source": [
    "### process data "
   ]
  },
  {
   "cell_type": "code",
   "execution_count": null,
   "id": "1e39d4b8",
   "metadata": {},
   "outputs": [],
   "source": [
    "counts_norm <- counts_cf_ctf_gf_sf"
   ]
  },
  {
   "cell_type": "code",
   "execution_count": null,
   "id": "e1209153",
   "metadata": {},
   "outputs": [],
   "source": [
    "# normalize each cell type separately with scran\n",
    "for(cluster in unique(anno_cells_cf_ctf_gf_sf$cell_type)){\n",
    "    print(cluster)\n",
    "  \n",
    "    idx_cluster <- anno_cells_cf_ctf_gf_sf$cell_type == cluster\n",
    "\n",
    "    # subset anno_cells_cf_ctf_gf_sf\n",
    "    anno_cells_sub <- anno_cells_cf_ctf_gf_sf[idx_cluster,]\n",
    "\n",
    "    # create SingleCellExperiment object\n",
    "    print(\"create SingleCellExperiment object\")\n",
    "    original_sce <- SingleCellExperiment(\n",
    "    assays = list(counts = as.matrix(counts_cf_ctf_gf_sf[,idx_cluster]))\n",
    "    ,colData = anno_cells_sub\n",
    "    )\n",
    "\n",
    "    # comupte size factors\n",
    "    print(\"comupte size factors\")\n",
    "    original_sce <- computeSumFactors(original_sce\n",
    "                                    #,cluster=cluster \n",
    "    )\n",
    "\n",
    "    anno_cells_cf_ctf_gf_sf$sizeFactor[idx_cluster] <- sizeFactors(original_sce)\n",
    "\n",
    "    # normalize\n",
    "    print(\"scran normalization\")\n",
    "    original_sce <- logNormCounts(original_sce\n",
    "                                ,log = FALSE\n",
    "                                )\n",
    "    counts_norm[,idx_cluster] <- original_sce@assays@data@listData$normcounts\n",
    "}\n"
   ]
  },
  {
   "cell_type": "markdown",
   "id": "fbcfbf4a",
   "metadata": {},
   "source": [
    "### visualize "
   ]
  },
  {
   "cell_type": "code",
   "execution_count": null,
   "id": "623ee60a",
   "metadata": {},
   "outputs": [],
   "source": [
    "print(\"construct pseudo bulks for cell types\")\n",
    "for(counts_type in c(\"counts\"\n",
    "                ,\"normcounts\")\n",
    "){\n",
    "  \n",
    "  ifelse(counts_type == \"counts\"\n",
    "         ,counts <- counts_cf_ctf_gf_sf\n",
    "         ,counts <- counts_norm)\n",
    "  \n",
    "  cell_type_IDs <- unique(anno_cells_cf_ctf_gf_sf$cell_type_ID)\n",
    "  counts_pseudobulkCellType <- as.data.frame(matrix(,nrow = nrow(counts)\n",
    "                                                    ,ncol = length(cell_type_IDs)\n",
    "  )\n",
    "  )\n",
    "  i <- 1\n",
    "  for(cell_type_ID in cell_type_IDs){\n",
    "    #print(cell_type_ID)\n",
    "    \n",
    "    idx_cell_type_ID <- anno_cells_cf_ctf_gf_sf$cell_type_ID == cell_type_ID\n",
    "    \n",
    "    if(sum(idx_cell_type_ID) == 0){\n",
    "      counts_pseudobulkCellType[,i] <- 0\n",
    "    } else if( sum(idx_cell_type_ID) == 1){\n",
    "      counts_pseudobulkCellType[,i] <- counts[,idx_cell_type_ID]\n",
    "    } else {\n",
    "      counts_pseudobulkCellType[,i] <- rowMeans(counts[,idx_cell_type_ID])\n",
    "    }\n",
    "    \n",
    "    i <- i+1\n",
    "  }\n",
    "  colnames(counts_pseudobulkCellType) <- cell_type_IDs\n",
    "  rownames(counts_pseudobulkCellType) <- rownames(counts)\n",
    "  print(\"str(counts_pseudobulkCellType)\")\n",
    "  print(str(counts_pseudobulkCellType))\n",
    "  \n",
    "  # visualize expression in pseudo sorted bulk\n",
    "  print(\"visualize expression in pseudo-bulk cell type\")\n",
    "  for(genes_type in c(\"all genes\"\n",
    "                      ,\"ligands and receptors\")){\n",
    "    ifelse(genes_type == \"all genes\"\n",
    "           ,idx_genes <- rep(T,nrow(anno_genes_cf_ctf_gf_sf))\n",
    "           ,idx_genes <- anno_genes_cf_ctf_gf_sf$isLigand | anno_genes_cf_ctf_gf_sf$isReceptor\n",
    "    )\n",
    "    \n",
    "    my_sampes <- sub(\"_.*\", \"\", colnames(counts_pseudobulkCellType))\n",
    "    df <- data.frame(log10_lib_size = log10(colSums(counts_pseudobulkCellType[idx_genes,]) +1)\n",
    "                     ,sample_ID = sub(\".*_\"\n",
    "                                      ,\"\"\n",
    "                                      ,colnames(counts_pseudobulkCellType)\n",
    "                     )\n",
    "                     ,cell_type = sub(\"_.*\"\n",
    "                                      ,\"\"\n",
    "                                      ,colnames(counts_pseudobulkCellType)\n",
    "                     )\n",
    "    )\n",
    "    \n",
    "    print(ggplot(data = df\n",
    "                 ,aes(x = sample_ID\n",
    "                      ,y = log10_lib_size\n",
    "                      ,color = cell_type\n",
    "                 )\n",
    "    ) +\n",
    "      geom_jitter(height = NULL\n",
    "                  ,width = 0\n",
    "                  ,alpha = 0.75) +\n",
    "      ggtitle(paste(genes_type, \":\"\n",
    "                    ,counts_type)) +\n",
    "      coord_flip() +\n",
    "      ylim(c(0,4.5)) +\n",
    "      scale_color_manual(values = color_celltype)+\n",
    "      theme_bw()\n",
    "    )\n",
    "    \n",
    "    \n",
    "    # visualize expression after gene filter\n",
    "    print(\"visualize expression after gene filter\")\n",
    "    df <- data.frame(log10_lib_size = log10(colSums(counts[idx_genes,]) +1)\n",
    "                     ,sample_ID = anno_cells_cf_ctf_gf_sf$sample_ID\n",
    "    )\n",
    "    print(str(df))\n",
    "    \n",
    "    print(ggplot(data = df\n",
    "                 ,aes(x = sample_ID\n",
    "                      ,y = log10_lib_size\n",
    "                 )\n",
    "    ) +\n",
    "      geom_jitter(height = NULL\n",
    "                  ,size = 0.1\n",
    "                  ,alpha = 0.2) +\n",
    "      geom_violin() + \n",
    "      ggtitle(paste(\"log10 expression\"\n",
    "                    ,counts_type\n",
    "                    ,genes_type)) +\n",
    "      coord_flip() +\n",
    "      ylim(c(0,6))+\n",
    "      theme_bw()\n",
    "    )\n",
    "    rm(df)\n",
    "    \n",
    "  }\n",
    "  \n",
    "}\n"
   ]
  },
  {
   "cell_type": "code",
   "execution_count": null,
   "id": "48fd0234",
   "metadata": {},
   "outputs": [],
   "source": [
    "anno_cells_norm <- anno_cells_cf_ctf_gf_sf\n",
    "anno_genes_norm <- anno_genes_cf_ctf_gf_sf\n",
    "anno_samples_norm <- anno_samples_cf_ctf_gf_sf"
   ]
  },
  {
   "cell_type": "markdown",
   "id": "c8394cde",
   "metadata": {},
   "source": [
    "### export"
   ]
  },
  {
   "cell_type": "code",
   "execution_count": 14,
   "id": "8260192b",
   "metadata": {},
   "outputs": [
    {
     "name": "stdout",
     "output_type": "stream",
     "text": [
      "[1] \"export\"\n",
      "[1] \"export counts_norm.mtx\"\n"
     ]
    },
    {
     "data": {
      "text/plain": [
       "NULL"
      ]
     },
     "metadata": {},
     "output_type": "display_data"
    }
   ],
   "source": [
    "# export ####\n",
    "print(\"export\")\n",
    "print(\"export counts_norm.mtx\")\n",
    "writeMM(obj = Matrix(as.matrix(counts_norm)\n",
    "                     , sparse=TRUE)\n",
    "        , file = paste0(path_out, \"counts_norm.mtx\")\n",
    "        )"
   ]
  },
  {
   "cell_type": "code",
   "execution_count": 15,
   "id": "4c45abe3",
   "metadata": {},
   "outputs": [
    {
     "name": "stdout",
     "output_type": "stream",
     "text": [
      "[1] \"export anno_cells_norm.txt\"\n"
     ]
    }
   ],
   "source": [
    "# export anno_cells_norm\n",
    "print(\"export anno_cells_norm.txt\")\n",
    "write.table(anno_cells_norm\n",
    "            ,file = paste0(path_out, \"anno_cells_norm.txt\")\n",
    "             ,sep = \"\\t\"\n",
    "            ,row.names = FALSE )"
   ]
  },
  {
   "cell_type": "code",
   "execution_count": 16,
   "id": "ee23e48e",
   "metadata": {},
   "outputs": [
    {
     "name": "stdout",
     "output_type": "stream",
     "text": [
      "[1] \"export anno_genes_norm.txt\"\n"
     ]
    }
   ],
   "source": [
    "# export anno_genes\n",
    "print(\"export anno_genes_norm.txt\")\n",
    "write.table(anno_genes_norm\n",
    "            ,file = paste0(path_out, \"anno_genes_norm.txt\")\n",
    "            ,sep = \"\\t\"\n",
    "            ,row.names = FALSE\n",
    ")"
   ]
  },
  {
   "cell_type": "code",
   "execution_count": 17,
   "id": "821295fa",
   "metadata": {},
   "outputs": [
    {
     "name": "stdout",
     "output_type": "stream",
     "text": [
      "[1] \"export anno_samples_norm.txt\"\n"
     ]
    }
   ],
   "source": [
    "# export anno_samples\n",
    "print(\"export anno_samples_norm.txt\")\n",
    "write.table(anno_samples_norm\n",
    "            ,file = paste0(path_out, \"anno_samples_norm.txt\")\n",
    "            ,sep = \"\\t\"\n",
    "            ,row.names = FALSE\n",
    ")"
   ]
  },
  {
   "cell_type": "code",
   "execution_count": null,
   "id": "8e251d2f",
   "metadata": {},
   "outputs": [],
   "source": []
  },
  {
   "cell_type": "code",
   "execution_count": null,
   "id": "acd71d23",
   "metadata": {},
   "outputs": [],
   "source": []
  }
 ],
 "metadata": {
  "kernelspec": {
   "display_name": "R",
   "language": "R",
   "name": "ir"
  },
  "language_info": {
   "codemirror_mode": "r",
   "file_extension": ".r",
   "mimetype": "text/x-r-source",
   "name": "R",
   "pygments_lexer": "r",
   "version": "4.3.1"
  },
  "toc": {
   "base_numbering": 1,
   "nav_menu": {},
   "number_sections": true,
   "sideBar": true,
   "skip_h1_title": false,
   "title_cell": "Table of Contents",
   "title_sidebar": "Contents",
   "toc_cell": false,
   "toc_position": {},
   "toc_section_display": true,
   "toc_window_display": false
  }
 },
 "nbformat": 4,
 "nbformat_minor": 5
}
