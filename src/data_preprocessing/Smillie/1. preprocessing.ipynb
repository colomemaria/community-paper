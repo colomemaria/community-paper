{
 "cells": [
  {
   "cell_type": "markdown",
   "id": "3d005916",
   "metadata": {},
   "source": [
    "# PART 1\n",
    "## 1.1 READ IN AND CLEAN UP DATA"
   ]
  },
  {
   "cell_type": "markdown",
   "id": "f0ba07a4",
   "metadata": {},
   "source": [
    "- **INPUT:**\n",
    "    - ```$path_in``` argument: rdata directory containing the files\n",
    "    - raw count matrices from the SCP259 dataset\n",
    "    \n",
    "    \n",
    "- **NOTES:**\n",
    "\n",
    "    -  all-zero genes are excluded\n",
    "    \n",
    "    \n",
    "- **OUTPUT:**\n",
    "\n",
    "    -  ```counts.RData``` raw merged counts"
   ]
  },
  {
   "cell_type": "code",
   "execution_count": 1,
   "id": "df0463d7",
   "metadata": {},
   "outputs": [
    {
     "name": "stderr",
     "output_type": "stream",
     "text": [
      "\n",
      "Attache Paket: ‘dplyr’\n",
      "\n",
      "\n",
      "Die folgenden Objekte sind maskiert von ‘package:stats’:\n",
      "\n",
      "    filter, lag\n",
      "\n",
      "\n",
      "Die folgenden Objekte sind maskiert von ‘package:base’:\n",
      "\n",
      "    intersect, setdiff, setequal, union\n",
      "\n",
      "\n"
     ]
    }
   ],
   "source": [
    "library(dplyr)\n",
    "library(Matrix)"
   ]
  },
  {
   "cell_type": "markdown",
   "id": "4c80ec5a",
   "metadata": {},
   "source": [
    "### set input and output path"
   ]
  },
  {
   "cell_type": "code",
   "execution_count": 2,
   "id": "ecb7069d",
   "metadata": {},
   "outputs": [
    {
     "name": "stdout",
     "output_type": "stream",
     "text": [
      "[1] \"input path is:\"\n",
      "[1] \"/work/project/ladcol_013/algo_ulc/rdata\"\n",
      "[1] \"output path is:\"\n",
      "[1] \"/work/project/ladcol_013/algo_ulc/pdata\"\n"
     ]
    }
   ],
   "source": [
    "path_in <- paste0(getwd(),\"/rdata\")\n",
    "print(\"input path is:\")\n",
    "print(path_in)\n",
    "\n",
    "path_out <- paste0(getwd(), \"/pdata\")\n",
    "print(\"output path is:\")\n",
    "print(path_out)"
   ]
  },
  {
   "cell_type": "markdown",
   "id": "884fd4b6",
   "metadata": {},
   "source": [
    "### read gene/barcode data & assign to variables"
   ]
  },
  {
   "cell_type": "code",
   "execution_count": 3,
   "id": "98f24b98",
   "metadata": {},
   "outputs": [],
   "source": [
    "file_names <- c(\"Epi\", \"Fib\", \"Imm\")\n",
    "\n",
    "gene_data <- lapply(file_names, function(file_name) {\n",
    "  read.csv(paste0(path_in, \"/\", file_name, \".genes.tsv\"), sep = \"\\t\", header = FALSE)})\n",
    "for (i in 1:length(gene_data)) {\n",
    "  assign(paste0(file_names[i], \"_genes\"), gene_data[[i]])}\n",
    "\n",
    "bar_data <- lapply(file_names, function(file_name) {\n",
    "  t(read.csv(paste0(path_in, \"/\", file_name, \".barcodes2.tsv\"), sep = \"\\t\", header = FALSE))})\n",
    "for (i in 1:length(bar_data)) {\n",
    "  assign(paste0(file_names[i], \"_bar\"), bar_data[[i]])}"
   ]
  },
  {
   "cell_type": "code",
   "execution_count": 4,
   "id": "5376f048",
   "metadata": {},
   "outputs": [],
   "source": [
    "Epi_all_genes <- union(union(Epi_genes, Fib_genes), Imm_genes)\n",
    "Fib_all_genes <- union(union(Fib_genes, Imm_genes), Epi_genes)\n",
    "Imm_all_genes <- union(union(Imm_genes, Epi_genes), Fib_genes)"
   ]
  },
  {
   "cell_type": "markdown",
   "id": "1df9a773",
   "metadata": {},
   "source": [
    "### import matrices & attach row/col names"
   ]
  },
  {
   "cell_type": "code",
   "execution_count": 5,
   "id": "9ff5501d",
   "metadata": {
    "scrolled": true
   },
   "outputs": [
    {
     "name": "stdout",
     "output_type": "stream",
     "text": [
      "[1] \"importing sorted matrices and creating counts submatrices\"\n"
     ]
    }
   ],
   "source": [
    "print(\"importing sorted matrices and creating counts submatrices\")\n",
    "all_genes <- lapply(file_names, function(file_name) {\n",
    "  tmp_mat <- readMM(paste0(path_in, \"/gene_sorted-\", file_name, \".matrix.mtx\")) %>%\n",
    "    rbind(matrix(0, nrow = nrow(get(paste0(file_name,\"_all_genes\"))) - nrow(get(paste0(file_name,\"_genes\"))), ncol = ncol(get(paste0(file_name,\"_bar\"))))) %>%\n",
    "    `colnames<-`(get(paste0(file_name,\"_bar\"))) %>%\n",
    "    `rownames<-`(t(get(paste0(file_name,\"_all_genes\"))))\n",
    "  assign(paste0(file_name, \"_m\"), tmp_mat, envir = .GlobalEnv)})"
   ]
  },
  {
   "cell_type": "markdown",
   "id": "eba5a83d",
   "metadata": {},
   "source": [
    "###  combine submatrices to count matrix"
   ]
  },
  {
   "cell_type": "code",
   "execution_count": 6,
   "id": "ffb64095",
   "metadata": {},
   "outputs": [
    {
     "name": "stdout",
     "output_type": "stream",
     "text": [
      "[1] \"combining submatrices to counts matrix\"\n"
     ]
    }
   ],
   "source": [
    "print(\"combining submatrices to counts matrix\")\n",
    "counts <- cbind(Epi_m[order(rownames(Epi_m)),], Fib_m[order(rownames(Fib_m)),], Imm_m[order(rownames(Imm_m)),])"
   ]
  },
  {
   "cell_type": "markdown",
   "id": "4072fc92",
   "metadata": {},
   "source": [
    "### export counts matrix"
   ]
  },
  {
   "cell_type": "code",
   "execution_count": 7,
   "id": "f47d0149",
   "metadata": {},
   "outputs": [
    {
     "name": "stdout",
     "output_type": "stream",
     "text": [
      "[1] \"saving counts matrix\"\n",
      "[1] \"DONE\"\n"
     ]
    }
   ],
   "source": [
    "# saving counts matrix as counts.RData\n",
    "# paste0(path_in, \"/\", file_name, \".genes.tsv\"\n",
    "print(\"saving counts matrix\")\n",
    "save(counts, file = paste0(path_out,\"/counts.RData\"))\n",
    "print(\"DONE\")"
   ]
  },
  {
   "cell_type": "markdown",
   "id": "85d39dd7",
   "metadata": {},
   "source": [
    "##  1.2 Preprocessing sample annotation files"
   ]
  },
  {
   "cell_type": "markdown",
   "id": "5942aabb",
   "metadata": {},
   "source": [
    "- **INPUT:**\n",
    "    - sample annotation file ```all.meta2.tx```\n",
    "\n",
    "    \n",
    "- **OUTPUT:**\n",
    "\n",
    "    -  ```anno_samples.RData``` cleaned and merged sample annotation file"
   ]
  },
  {
   "cell_type": "markdown",
   "id": "75b472cf",
   "metadata": {},
   "source": [
    "### load data"
   ]
  },
  {
   "cell_type": "code",
   "execution_count": 8,
   "id": "b3fb320a",
   "metadata": {},
   "outputs": [
    {
     "name": "stdout",
     "output_type": "stream",
     "text": [
      "'data.frame':\t365493 obs. of  8 variables:\n",
      " $ NAME    : chr  \"TYPE\" \"N7.EpiA.AAACATACACACTG\" \"N7.EpiA.AAACCGTGCATCAG\" \"N7.EpiA.AAACGCACAATCGC\" ...\n",
      " $ Cluster : chr  \"group\" \"TA 1\" \"TA 1\" \"TA 2\" ...\n",
      " $ nGene   : chr  \"numeric\" \"328\" \"257\" \"300\" ...\n",
      " $ nUMI    : chr  \"numeric\" \"891\" \"663\" \"639\" ...\n",
      " $ Subject : chr  \"group\" \"N7\" \"N7\" \"N7\" ...\n",
      " $ Health  : chr  \"group\" \"Non-inflamed\" \"Non-inflamed\" \"Non-inflamed\" ...\n",
      " $ Location: chr  \"group\" \"Epi\" \"Epi\" \"Epi\" ...\n",
      " $ Sample  : chr  \"group\" \"N7.EpiA\" \"N7.EpiA\" \"N7.EpiA\" ...\n",
      "NULL\n"
     ]
    }
   ],
   "source": [
    "# read in sample annotation for all.meta2\n",
    "anno_samples <- read.csv(paste(file = paste0(path_in,\"/all.meta2.txt\")),sep = \"\\t\",header = TRUE)\n",
    "print(str(anno_samples))"
   ]
  },
  {
   "cell_type": "markdown",
   "id": "982c348d",
   "metadata": {},
   "source": [
    "### process data\n",
    "Clean and process sample annotation"
   ]
  },
  {
   "cell_type": "code",
   "execution_count": 9,
   "id": "ed264205",
   "metadata": {},
   "outputs": [
    {
     "name": "stdout",
     "output_type": "stream",
     "text": [
      "'data.frame':\t365493 obs. of  8 variables:\n",
      " $ NAME    : chr  \"TYPE\" \"N7.EpiA.AAACATACACACTG\" \"N7.EpiA.AAACCGTGCATCAG\" \"N7.EpiA.AAACGCACAATCGC\" ...\n",
      " $ Cluster : chr  \"group\" \"TA 1\" \"TA 1\" \"TA 2\" ...\n",
      " $ nGene   : chr  \"numeric\" \"328\" \"257\" \"300\" ...\n",
      " $ nUMI    : chr  \"numeric\" \"891\" \"663\" \"639\" ...\n",
      " $ Subject : chr  \"group\" \"N7\" \"N7\" \"N7\" ...\n",
      " $ Health  : chr  \"group\" \"Non-inflamed\" \"Non-inflamed\" \"Non-inflamed\" ...\n",
      " $ Location: chr  \"group\" \"Epi\" \"Epi\" \"Epi\" ...\n",
      " $ Sample  : chr  \"group\" \"N7.EpiA\" \"N7.EpiA\" \"N7.EpiA\" ...\n"
     ]
    }
   ],
   "source": [
    "str(anno_samples)"
   ]
  },
  {
   "cell_type": "code",
   "execution_count": 10,
   "id": "007ae820",
   "metadata": {},
   "outputs": [
    {
     "name": "stdout",
     "output_type": "stream",
     "text": [
      "'data.frame':\t365492 obs. of  8 variables:\n",
      " $ cell_ID           : chr  \"N10.EpiA.AAACATACAACCAC\" \"N10.EpiA.AAACATACAGGCGA\" \"N10.EpiA.AAACATACCACTAG\" \"N10.EpiA.AAACATACCCTTTA\" ...\n",
      " $ cell_type_original: chr  \"Enterocyte Progenitors\" \"Cycling TA\" \"Immature Goblet\" \"Secretory TA\" ...\n",
      " $ nGene             : chr  \"425\" \"1695\" \"391\" \"1327\" ...\n",
      " $ nUMI              : chr  \"968\" \"7273\" \"1190\" \"5620\" ...\n",
      " $ patient_ID        : chr  \"N10\" \"N10\" \"N10\" \"N10\" ...\n",
      " $ region            : chr  \"Healthy\" \"Healthy\" \"Healthy\" \"Healthy\" ...\n",
      " $ Location          : chr  \"Epi\" \"Epi\" \"Epi\" \"Epi\" ...\n",
      " $ sample_ID         : chr  \"N10.EpiA_Healthy\" \"N10.EpiA_Healthy\" \"N10.EpiA_Healthy\" \"N10.EpiA_Healthy\" ...\n"
     ]
    }
   ],
   "source": [
    "# rename columns and adapt sample_ID to include Sample and Health info\n",
    "anno_samples <- anno_samples[-1,] %>%\n",
    "  rename(sample_ID = Sample,\n",
    "         cell_ID = NAME,\n",
    "         patient_ID = Subject,\n",
    "         region = Health,\n",
    "         cell_type_original = Cluster) %>%\n",
    "  mutate(sample_ID = paste(sample_ID, region, sep = \"_\"))\n",
    "anno_samples <- anno_samples %>% \n",
    "  arrange(region)\n",
    "\n",
    "str(anno_samples)"
   ]
  },
  {
   "cell_type": "code",
   "execution_count": 11,
   "id": "1ca40ee7",
   "metadata": {},
   "outputs": [
    {
     "name": "stdout",
     "output_type": "stream",
     "text": [
      "'data.frame':\t365492 obs. of  3 variables:\n",
      " $ patient_ID: chr  \"N10\" \"N10\" \"N10\" \"N10\" ...\n",
      " $ region    : chr  \"Healthy\" \"Healthy\" \"Healthy\" \"Healthy\" ...\n",
      " $ sample_ID : chr  \"N10.EpiA_Healthy\" \"N10.EpiA_Healthy\" \"N10.EpiA_Healthy\" \"N10.EpiA_Healthy\" ...\n"
     ]
    }
   ],
   "source": [
    "# remove unnecessary columns and introduce anno_samplex for later usage in anno_cells\n",
    "anno_samplex = anno_samples[,-c(3,4,5,7)]\n",
    "anno_samples <- anno_samples[,-c(1,2,3,4,7)]\n",
    "str(anno_samples)"
   ]
  },
  {
   "cell_type": "code",
   "execution_count": 12,
   "id": "59692e30",
   "metadata": {},
   "outputs": [
    {
     "data": {
      "text/html": [
       "<table class=\"dataframe\">\n",
       "<caption>A data.frame: 133 × 5</caption>\n",
       "<thead>\n",
       "\t<tr><th scope=col>sample_ID</th><th scope=col>patient_ID</th><th scope=col>region</th><th scope=col>case_or_control</th><th scope=col>health_status</th></tr>\n",
       "\t<tr><th scope=col>&lt;chr&gt;</th><th scope=col>&lt;chr&gt;</th><th scope=col>&lt;chr&gt;</th><th scope=col>&lt;chr&gt;</th><th scope=col>&lt;chr&gt;</th></tr>\n",
       "</thead>\n",
       "<tbody>\n",
       "\t<tr><td>N10.EpiA_Healthy</td><td>N10</td><td>Healthy</td><td>control</td><td>Healthy</td></tr>\n",
       "\t<tr><td>N10.EpiB_Healthy</td><td>N10</td><td>Healthy</td><td>control</td><td>Healthy</td></tr>\n",
       "\t<tr><td>N10.LPA_Healthy </td><td>N10</td><td>Healthy</td><td>control</td><td>Healthy</td></tr>\n",
       "\t<tr><td>N10.LPB_Healthy </td><td>N10</td><td>Healthy</td><td>control</td><td>Healthy</td></tr>\n",
       "\t<tr><td>N8.EpiA_Healthy </td><td>N8 </td><td>Healthy</td><td>control</td><td>Healthy</td></tr>\n",
       "\t<tr><td>N8.EpiB_Healthy </td><td>N8 </td><td>Healthy</td><td>control</td><td>Healthy</td></tr>\n",
       "\t<tr><td>N8.LPA_Healthy  </td><td>N8 </td><td>Healthy</td><td>control</td><td>Healthy</td></tr>\n",
       "\t<tr><td>N8.LPB_Healthy  </td><td>N8 </td><td>Healthy</td><td>control</td><td>Healthy</td></tr>\n",
       "\t<tr><td>N11.EpiA_Healthy</td><td>N11</td><td>Healthy</td><td>control</td><td>Healthy</td></tr>\n",
       "\t<tr><td>N11.EpiB_Healthy</td><td>N11</td><td>Healthy</td><td>control</td><td>Healthy</td></tr>\n",
       "\t<tr><td>N11.LPA_Healthy </td><td>N11</td><td>Healthy</td><td>control</td><td>Healthy</td></tr>\n",
       "\t<tr><td>N11.LPB_Healthy </td><td>N11</td><td>Healthy</td><td>control</td><td>Healthy</td></tr>\n",
       "\t<tr><td>N13.LPA_Healthy </td><td>N13</td><td>Healthy</td><td>control</td><td>Healthy</td></tr>\n",
       "\t<tr><td>N13.LPB_Healthy </td><td>N13</td><td>Healthy</td><td>control</td><td>Healthy</td></tr>\n",
       "\t<tr><td>N13.EpiA_Healthy</td><td>N13</td><td>Healthy</td><td>control</td><td>Healthy</td></tr>\n",
       "\t<tr><td>N13.EpiB_Healthy</td><td>N13</td><td>Healthy</td><td>control</td><td>Healthy</td></tr>\n",
       "\t<tr><td>N15.EpiA_Healthy</td><td>N15</td><td>Healthy</td><td>control</td><td>Healthy</td></tr>\n",
       "\t<tr><td>N15.EpiB_Healthy</td><td>N15</td><td>Healthy</td><td>control</td><td>Healthy</td></tr>\n",
       "\t<tr><td>N15.LPA_Healthy </td><td>N15</td><td>Healthy</td><td>control</td><td>Healthy</td></tr>\n",
       "\t<tr><td>N15.LPB_Healthy </td><td>N15</td><td>Healthy</td><td>control</td><td>Healthy</td></tr>\n",
       "\t<tr><td>N16.EpiA_Healthy</td><td>N16</td><td>Healthy</td><td>control</td><td>Healthy</td></tr>\n",
       "\t<tr><td>N16.EpiB_Healthy</td><td>N16</td><td>Healthy</td><td>control</td><td>Healthy</td></tr>\n",
       "\t<tr><td>N16.LPA_Healthy </td><td>N16</td><td>Healthy</td><td>control</td><td>Healthy</td></tr>\n",
       "\t<tr><td>N16.LPB_Healthy </td><td>N16</td><td>Healthy</td><td>control</td><td>Healthy</td></tr>\n",
       "\t<tr><td>N17.EpiA_Healthy</td><td>N17</td><td>Healthy</td><td>control</td><td>Healthy</td></tr>\n",
       "\t<tr><td>N17.EpiB_Healthy</td><td>N17</td><td>Healthy</td><td>control</td><td>Healthy</td></tr>\n",
       "\t<tr><td>N17.LPA_Healthy </td><td>N17</td><td>Healthy</td><td>control</td><td>Healthy</td></tr>\n",
       "\t<tr><td>N17.LPB_Healthy </td><td>N17</td><td>Healthy</td><td>control</td><td>Healthy</td></tr>\n",
       "\t<tr><td>N18.EpiA_Healthy</td><td>N18</td><td>Healthy</td><td>control</td><td>Healthy</td></tr>\n",
       "\t<tr><td>N18.EpiB_Healthy</td><td>N18</td><td>Healthy</td><td>control</td><td>Healthy</td></tr>\n",
       "\t<tr><td>⋮</td><td>⋮</td><td>⋮</td><td>⋮</td><td>⋮</td></tr>\n",
       "\t<tr><td>N26.LPA_Non-inflamed   </td><td>N26 </td><td>Non-inflamed</td><td>control</td><td>Colitis</td></tr>\n",
       "\t<tr><td>N52.LPA1a_Non-inflamed </td><td>N52 </td><td>Non-inflamed</td><td>control</td><td>Colitis</td></tr>\n",
       "\t<tr><td>N52.LPA2a_Non-inflamed </td><td>N52 </td><td>Non-inflamed</td><td>control</td><td>Colitis</td></tr>\n",
       "\t<tr><td>N52.EpiA1a_Non-inflamed</td><td>N52 </td><td>Non-inflamed</td><td>control</td><td>Colitis</td></tr>\n",
       "\t<tr><td>N52.EpiA2a_Non-inflamed</td><td>N52 </td><td>Non-inflamed</td><td>control</td><td>Colitis</td></tr>\n",
       "\t<tr><td>N52.LPA1b_Non-inflamed </td><td>N52 </td><td>Non-inflamed</td><td>control</td><td>Colitis</td></tr>\n",
       "\t<tr><td>N52.LPA2b_Non-inflamed </td><td>N52 </td><td>Non-inflamed</td><td>control</td><td>Colitis</td></tr>\n",
       "\t<tr><td>N52.EpiA1b_Non-inflamed</td><td>N52 </td><td>Non-inflamed</td><td>control</td><td>Colitis</td></tr>\n",
       "\t<tr><td>N52.EpiA2b_Non-inflamed</td><td>N52 </td><td>Non-inflamed</td><td>control</td><td>Colitis</td></tr>\n",
       "\t<tr><td>N58.LPA1_Non-inflamed  </td><td>N58 </td><td>Non-inflamed</td><td>control</td><td>Colitis</td></tr>\n",
       "\t<tr><td>N58.LPA2_Non-inflamed  </td><td>N58 </td><td>Non-inflamed</td><td>control</td><td>Colitis</td></tr>\n",
       "\t<tr><td>N58.EpiA1_Non-inflamed </td><td>N58 </td><td>Non-inflamed</td><td>control</td><td>Colitis</td></tr>\n",
       "\t<tr><td>N58.EpiA2_Non-inflamed </td><td>N58 </td><td>Non-inflamed</td><td>control</td><td>Colitis</td></tr>\n",
       "\t<tr><td>N111.LPA1_Non-inflamed </td><td>N111</td><td>Non-inflamed</td><td>control</td><td>Colitis</td></tr>\n",
       "\t<tr><td>N111.LPA2_Non-inflamed </td><td>N111</td><td>Non-inflamed</td><td>control</td><td>Colitis</td></tr>\n",
       "\t<tr><td>N111.EpiA1_Non-inflamed</td><td>N111</td><td>Non-inflamed</td><td>control</td><td>Colitis</td></tr>\n",
       "\t<tr><td>N661.LPA1_Non-inflamed </td><td>N661</td><td>Non-inflamed</td><td>control</td><td>Colitis</td></tr>\n",
       "\t<tr><td>N661.LPA2_Non-inflamed </td><td>N661</td><td>Non-inflamed</td><td>control</td><td>Colitis</td></tr>\n",
       "\t<tr><td>N44.EpiA_Non-inflamed  </td><td>N44 </td><td>Non-inflamed</td><td>control</td><td>Colitis</td></tr>\n",
       "\t<tr><td>N44.LPA_Non-inflamed   </td><td>N44 </td><td>Non-inflamed</td><td>control</td><td>Colitis</td></tr>\n",
       "\t<tr><td>N49.EpiA_Non-inflamed  </td><td>N49 </td><td>Non-inflamed</td><td>control</td><td>Colitis</td></tr>\n",
       "\t<tr><td>N49.LPA_Non-inflamed   </td><td>N49 </td><td>Non-inflamed</td><td>control</td><td>Colitis</td></tr>\n",
       "\t<tr><td>N50.EpiA_Non-inflamed  </td><td>N50 </td><td>Non-inflamed</td><td>control</td><td>Colitis</td></tr>\n",
       "\t<tr><td>N50.LPA_Non-inflamed   </td><td>N50 </td><td>Non-inflamed</td><td>control</td><td>Colitis</td></tr>\n",
       "\t<tr><td>N106.EpiA_Non-inflamed </td><td>N106</td><td>Non-inflamed</td><td>control</td><td>Colitis</td></tr>\n",
       "\t<tr><td>N106.LPA_Non-inflamed  </td><td>N106</td><td>Non-inflamed</td><td>control</td><td>Colitis</td></tr>\n",
       "\t<tr><td>N539.EpiA_Non-inflamed </td><td>N539</td><td>Non-inflamed</td><td>control</td><td>Colitis</td></tr>\n",
       "\t<tr><td>N539.LPA_Non-inflamed  </td><td>N539</td><td>Non-inflamed</td><td>control</td><td>Colitis</td></tr>\n",
       "\t<tr><td>N110.EpiA_Non-inflamed </td><td>N110</td><td>Non-inflamed</td><td>control</td><td>Colitis</td></tr>\n",
       "\t<tr><td>N110.LPA_Non-inflamed  </td><td>N110</td><td>Non-inflamed</td><td>control</td><td>Colitis</td></tr>\n",
       "</tbody>\n",
       "</table>\n"
      ],
      "text/latex": [
       "A data.frame: 133 × 5\n",
       "\\begin{tabular}{lllll}\n",
       " sample\\_ID & patient\\_ID & region & case\\_or\\_control & health\\_status\\\\\n",
       " <chr> & <chr> & <chr> & <chr> & <chr>\\\\\n",
       "\\hline\n",
       "\t N10.EpiA\\_Healthy & N10 & Healthy & control & Healthy\\\\\n",
       "\t N10.EpiB\\_Healthy & N10 & Healthy & control & Healthy\\\\\n",
       "\t N10.LPA\\_Healthy  & N10 & Healthy & control & Healthy\\\\\n",
       "\t N10.LPB\\_Healthy  & N10 & Healthy & control & Healthy\\\\\n",
       "\t N8.EpiA\\_Healthy  & N8  & Healthy & control & Healthy\\\\\n",
       "\t N8.EpiB\\_Healthy  & N8  & Healthy & control & Healthy\\\\\n",
       "\t N8.LPA\\_Healthy   & N8  & Healthy & control & Healthy\\\\\n",
       "\t N8.LPB\\_Healthy   & N8  & Healthy & control & Healthy\\\\\n",
       "\t N11.EpiA\\_Healthy & N11 & Healthy & control & Healthy\\\\\n",
       "\t N11.EpiB\\_Healthy & N11 & Healthy & control & Healthy\\\\\n",
       "\t N11.LPA\\_Healthy  & N11 & Healthy & control & Healthy\\\\\n",
       "\t N11.LPB\\_Healthy  & N11 & Healthy & control & Healthy\\\\\n",
       "\t N13.LPA\\_Healthy  & N13 & Healthy & control & Healthy\\\\\n",
       "\t N13.LPB\\_Healthy  & N13 & Healthy & control & Healthy\\\\\n",
       "\t N13.EpiA\\_Healthy & N13 & Healthy & control & Healthy\\\\\n",
       "\t N13.EpiB\\_Healthy & N13 & Healthy & control & Healthy\\\\\n",
       "\t N15.EpiA\\_Healthy & N15 & Healthy & control & Healthy\\\\\n",
       "\t N15.EpiB\\_Healthy & N15 & Healthy & control & Healthy\\\\\n",
       "\t N15.LPA\\_Healthy  & N15 & Healthy & control & Healthy\\\\\n",
       "\t N15.LPB\\_Healthy  & N15 & Healthy & control & Healthy\\\\\n",
       "\t N16.EpiA\\_Healthy & N16 & Healthy & control & Healthy\\\\\n",
       "\t N16.EpiB\\_Healthy & N16 & Healthy & control & Healthy\\\\\n",
       "\t N16.LPA\\_Healthy  & N16 & Healthy & control & Healthy\\\\\n",
       "\t N16.LPB\\_Healthy  & N16 & Healthy & control & Healthy\\\\\n",
       "\t N17.EpiA\\_Healthy & N17 & Healthy & control & Healthy\\\\\n",
       "\t N17.EpiB\\_Healthy & N17 & Healthy & control & Healthy\\\\\n",
       "\t N17.LPA\\_Healthy  & N17 & Healthy & control & Healthy\\\\\n",
       "\t N17.LPB\\_Healthy  & N17 & Healthy & control & Healthy\\\\\n",
       "\t N18.EpiA\\_Healthy & N18 & Healthy & control & Healthy\\\\\n",
       "\t N18.EpiB\\_Healthy & N18 & Healthy & control & Healthy\\\\\n",
       "\t ⋮ & ⋮ & ⋮ & ⋮ & ⋮\\\\\n",
       "\t N26.LPA\\_Non-inflamed    & N26  & Non-inflamed & control & Colitis\\\\\n",
       "\t N52.LPA1a\\_Non-inflamed  & N52  & Non-inflamed & control & Colitis\\\\\n",
       "\t N52.LPA2a\\_Non-inflamed  & N52  & Non-inflamed & control & Colitis\\\\\n",
       "\t N52.EpiA1a\\_Non-inflamed & N52  & Non-inflamed & control & Colitis\\\\\n",
       "\t N52.EpiA2a\\_Non-inflamed & N52  & Non-inflamed & control & Colitis\\\\\n",
       "\t N52.LPA1b\\_Non-inflamed  & N52  & Non-inflamed & control & Colitis\\\\\n",
       "\t N52.LPA2b\\_Non-inflamed  & N52  & Non-inflamed & control & Colitis\\\\\n",
       "\t N52.EpiA1b\\_Non-inflamed & N52  & Non-inflamed & control & Colitis\\\\\n",
       "\t N52.EpiA2b\\_Non-inflamed & N52  & Non-inflamed & control & Colitis\\\\\n",
       "\t N58.LPA1\\_Non-inflamed   & N58  & Non-inflamed & control & Colitis\\\\\n",
       "\t N58.LPA2\\_Non-inflamed   & N58  & Non-inflamed & control & Colitis\\\\\n",
       "\t N58.EpiA1\\_Non-inflamed  & N58  & Non-inflamed & control & Colitis\\\\\n",
       "\t N58.EpiA2\\_Non-inflamed  & N58  & Non-inflamed & control & Colitis\\\\\n",
       "\t N111.LPA1\\_Non-inflamed  & N111 & Non-inflamed & control & Colitis\\\\\n",
       "\t N111.LPA2\\_Non-inflamed  & N111 & Non-inflamed & control & Colitis\\\\\n",
       "\t N111.EpiA1\\_Non-inflamed & N111 & Non-inflamed & control & Colitis\\\\\n",
       "\t N661.LPA1\\_Non-inflamed  & N661 & Non-inflamed & control & Colitis\\\\\n",
       "\t N661.LPA2\\_Non-inflamed  & N661 & Non-inflamed & control & Colitis\\\\\n",
       "\t N44.EpiA\\_Non-inflamed   & N44  & Non-inflamed & control & Colitis\\\\\n",
       "\t N44.LPA\\_Non-inflamed    & N44  & Non-inflamed & control & Colitis\\\\\n",
       "\t N49.EpiA\\_Non-inflamed   & N49  & Non-inflamed & control & Colitis\\\\\n",
       "\t N49.LPA\\_Non-inflamed    & N49  & Non-inflamed & control & Colitis\\\\\n",
       "\t N50.EpiA\\_Non-inflamed   & N50  & Non-inflamed & control & Colitis\\\\\n",
       "\t N50.LPA\\_Non-inflamed    & N50  & Non-inflamed & control & Colitis\\\\\n",
       "\t N106.EpiA\\_Non-inflamed  & N106 & Non-inflamed & control & Colitis\\\\\n",
       "\t N106.LPA\\_Non-inflamed   & N106 & Non-inflamed & control & Colitis\\\\\n",
       "\t N539.EpiA\\_Non-inflamed  & N539 & Non-inflamed & control & Colitis\\\\\n",
       "\t N539.LPA\\_Non-inflamed   & N539 & Non-inflamed & control & Colitis\\\\\n",
       "\t N110.EpiA\\_Non-inflamed  & N110 & Non-inflamed & control & Colitis\\\\\n",
       "\t N110.LPA\\_Non-inflamed   & N110 & Non-inflamed & control & Colitis\\\\\n",
       "\\end{tabular}\n"
      ],
      "text/markdown": [
       "\n",
       "A data.frame: 133 × 5\n",
       "\n",
       "| sample_ID &lt;chr&gt; | patient_ID &lt;chr&gt; | region &lt;chr&gt; | case_or_control &lt;chr&gt; | health_status &lt;chr&gt; |\n",
       "|---|---|---|---|---|\n",
       "| N10.EpiA_Healthy | N10 | Healthy | control | Healthy |\n",
       "| N10.EpiB_Healthy | N10 | Healthy | control | Healthy |\n",
       "| N10.LPA_Healthy  | N10 | Healthy | control | Healthy |\n",
       "| N10.LPB_Healthy  | N10 | Healthy | control | Healthy |\n",
       "| N8.EpiA_Healthy  | N8  | Healthy | control | Healthy |\n",
       "| N8.EpiB_Healthy  | N8  | Healthy | control | Healthy |\n",
       "| N8.LPA_Healthy   | N8  | Healthy | control | Healthy |\n",
       "| N8.LPB_Healthy   | N8  | Healthy | control | Healthy |\n",
       "| N11.EpiA_Healthy | N11 | Healthy | control | Healthy |\n",
       "| N11.EpiB_Healthy | N11 | Healthy | control | Healthy |\n",
       "| N11.LPA_Healthy  | N11 | Healthy | control | Healthy |\n",
       "| N11.LPB_Healthy  | N11 | Healthy | control | Healthy |\n",
       "| N13.LPA_Healthy  | N13 | Healthy | control | Healthy |\n",
       "| N13.LPB_Healthy  | N13 | Healthy | control | Healthy |\n",
       "| N13.EpiA_Healthy | N13 | Healthy | control | Healthy |\n",
       "| N13.EpiB_Healthy | N13 | Healthy | control | Healthy |\n",
       "| N15.EpiA_Healthy | N15 | Healthy | control | Healthy |\n",
       "| N15.EpiB_Healthy | N15 | Healthy | control | Healthy |\n",
       "| N15.LPA_Healthy  | N15 | Healthy | control | Healthy |\n",
       "| N15.LPB_Healthy  | N15 | Healthy | control | Healthy |\n",
       "| N16.EpiA_Healthy | N16 | Healthy | control | Healthy |\n",
       "| N16.EpiB_Healthy | N16 | Healthy | control | Healthy |\n",
       "| N16.LPA_Healthy  | N16 | Healthy | control | Healthy |\n",
       "| N16.LPB_Healthy  | N16 | Healthy | control | Healthy |\n",
       "| N17.EpiA_Healthy | N17 | Healthy | control | Healthy |\n",
       "| N17.EpiB_Healthy | N17 | Healthy | control | Healthy |\n",
       "| N17.LPA_Healthy  | N17 | Healthy | control | Healthy |\n",
       "| N17.LPB_Healthy  | N17 | Healthy | control | Healthy |\n",
       "| N18.EpiA_Healthy | N18 | Healthy | control | Healthy |\n",
       "| N18.EpiB_Healthy | N18 | Healthy | control | Healthy |\n",
       "| ⋮ | ⋮ | ⋮ | ⋮ | ⋮ |\n",
       "| N26.LPA_Non-inflamed    | N26  | Non-inflamed | control | Colitis |\n",
       "| N52.LPA1a_Non-inflamed  | N52  | Non-inflamed | control | Colitis |\n",
       "| N52.LPA2a_Non-inflamed  | N52  | Non-inflamed | control | Colitis |\n",
       "| N52.EpiA1a_Non-inflamed | N52  | Non-inflamed | control | Colitis |\n",
       "| N52.EpiA2a_Non-inflamed | N52  | Non-inflamed | control | Colitis |\n",
       "| N52.LPA1b_Non-inflamed  | N52  | Non-inflamed | control | Colitis |\n",
       "| N52.LPA2b_Non-inflamed  | N52  | Non-inflamed | control | Colitis |\n",
       "| N52.EpiA1b_Non-inflamed | N52  | Non-inflamed | control | Colitis |\n",
       "| N52.EpiA2b_Non-inflamed | N52  | Non-inflamed | control | Colitis |\n",
       "| N58.LPA1_Non-inflamed   | N58  | Non-inflamed | control | Colitis |\n",
       "| N58.LPA2_Non-inflamed   | N58  | Non-inflamed | control | Colitis |\n",
       "| N58.EpiA1_Non-inflamed  | N58  | Non-inflamed | control | Colitis |\n",
       "| N58.EpiA2_Non-inflamed  | N58  | Non-inflamed | control | Colitis |\n",
       "| N111.LPA1_Non-inflamed  | N111 | Non-inflamed | control | Colitis |\n",
       "| N111.LPA2_Non-inflamed  | N111 | Non-inflamed | control | Colitis |\n",
       "| N111.EpiA1_Non-inflamed | N111 | Non-inflamed | control | Colitis |\n",
       "| N661.LPA1_Non-inflamed  | N661 | Non-inflamed | control | Colitis |\n",
       "| N661.LPA2_Non-inflamed  | N661 | Non-inflamed | control | Colitis |\n",
       "| N44.EpiA_Non-inflamed   | N44  | Non-inflamed | control | Colitis |\n",
       "| N44.LPA_Non-inflamed    | N44  | Non-inflamed | control | Colitis |\n",
       "| N49.EpiA_Non-inflamed   | N49  | Non-inflamed | control | Colitis |\n",
       "| N49.LPA_Non-inflamed    | N49  | Non-inflamed | control | Colitis |\n",
       "| N50.EpiA_Non-inflamed   | N50  | Non-inflamed | control | Colitis |\n",
       "| N50.LPA_Non-inflamed    | N50  | Non-inflamed | control | Colitis |\n",
       "| N106.EpiA_Non-inflamed  | N106 | Non-inflamed | control | Colitis |\n",
       "| N106.LPA_Non-inflamed   | N106 | Non-inflamed | control | Colitis |\n",
       "| N539.EpiA_Non-inflamed  | N539 | Non-inflamed | control | Colitis |\n",
       "| N539.LPA_Non-inflamed   | N539 | Non-inflamed | control | Colitis |\n",
       "| N110.EpiA_Non-inflamed  | N110 | Non-inflamed | control | Colitis |\n",
       "| N110.LPA_Non-inflamed   | N110 | Non-inflamed | control | Colitis |\n",
       "\n"
      ],
      "text/plain": [
       "    sample_ID               patient_ID region       case_or_control\n",
       "1   N10.EpiA_Healthy        N10        Healthy      control        \n",
       "2   N10.EpiB_Healthy        N10        Healthy      control        \n",
       "3   N10.LPA_Healthy         N10        Healthy      control        \n",
       "4   N10.LPB_Healthy         N10        Healthy      control        \n",
       "5   N8.EpiA_Healthy         N8         Healthy      control        \n",
       "6   N8.EpiB_Healthy         N8         Healthy      control        \n",
       "7   N8.LPA_Healthy          N8         Healthy      control        \n",
       "8   N8.LPB_Healthy          N8         Healthy      control        \n",
       "9   N11.EpiA_Healthy        N11        Healthy      control        \n",
       "10  N11.EpiB_Healthy        N11        Healthy      control        \n",
       "11  N11.LPA_Healthy         N11        Healthy      control        \n",
       "12  N11.LPB_Healthy         N11        Healthy      control        \n",
       "13  N13.LPA_Healthy         N13        Healthy      control        \n",
       "14  N13.LPB_Healthy         N13        Healthy      control        \n",
       "15  N13.EpiA_Healthy        N13        Healthy      control        \n",
       "16  N13.EpiB_Healthy        N13        Healthy      control        \n",
       "17  N15.EpiA_Healthy        N15        Healthy      control        \n",
       "18  N15.EpiB_Healthy        N15        Healthy      control        \n",
       "19  N15.LPA_Healthy         N15        Healthy      control        \n",
       "20  N15.LPB_Healthy         N15        Healthy      control        \n",
       "21  N16.EpiA_Healthy        N16        Healthy      control        \n",
       "22  N16.EpiB_Healthy        N16        Healthy      control        \n",
       "23  N16.LPA_Healthy         N16        Healthy      control        \n",
       "24  N16.LPB_Healthy         N16        Healthy      control        \n",
       "25  N17.EpiA_Healthy        N17        Healthy      control        \n",
       "26  N17.EpiB_Healthy        N17        Healthy      control        \n",
       "27  N17.LPA_Healthy         N17        Healthy      control        \n",
       "28  N17.LPB_Healthy         N17        Healthy      control        \n",
       "29  N18.EpiA_Healthy        N18        Healthy      control        \n",
       "30  N18.EpiB_Healthy        N18        Healthy      control        \n",
       "⋮   ⋮                       ⋮          ⋮            ⋮              \n",
       "104 N26.LPA_Non-inflamed    N26        Non-inflamed control        \n",
       "105 N52.LPA1a_Non-inflamed  N52        Non-inflamed control        \n",
       "106 N52.LPA2a_Non-inflamed  N52        Non-inflamed control        \n",
       "107 N52.EpiA1a_Non-inflamed N52        Non-inflamed control        \n",
       "108 N52.EpiA2a_Non-inflamed N52        Non-inflamed control        \n",
       "109 N52.LPA1b_Non-inflamed  N52        Non-inflamed control        \n",
       "110 N52.LPA2b_Non-inflamed  N52        Non-inflamed control        \n",
       "111 N52.EpiA1b_Non-inflamed N52        Non-inflamed control        \n",
       "112 N52.EpiA2b_Non-inflamed N52        Non-inflamed control        \n",
       "113 N58.LPA1_Non-inflamed   N58        Non-inflamed control        \n",
       "114 N58.LPA2_Non-inflamed   N58        Non-inflamed control        \n",
       "115 N58.EpiA1_Non-inflamed  N58        Non-inflamed control        \n",
       "116 N58.EpiA2_Non-inflamed  N58        Non-inflamed control        \n",
       "117 N111.LPA1_Non-inflamed  N111       Non-inflamed control        \n",
       "118 N111.LPA2_Non-inflamed  N111       Non-inflamed control        \n",
       "119 N111.EpiA1_Non-inflamed N111       Non-inflamed control        \n",
       "120 N661.LPA1_Non-inflamed  N661       Non-inflamed control        \n",
       "121 N661.LPA2_Non-inflamed  N661       Non-inflamed control        \n",
       "122 N44.EpiA_Non-inflamed   N44        Non-inflamed control        \n",
       "123 N44.LPA_Non-inflamed    N44        Non-inflamed control        \n",
       "124 N49.EpiA_Non-inflamed   N49        Non-inflamed control        \n",
       "125 N49.LPA_Non-inflamed    N49        Non-inflamed control        \n",
       "126 N50.EpiA_Non-inflamed   N50        Non-inflamed control        \n",
       "127 N50.LPA_Non-inflamed    N50        Non-inflamed control        \n",
       "128 N106.EpiA_Non-inflamed  N106       Non-inflamed control        \n",
       "129 N106.LPA_Non-inflamed   N106       Non-inflamed control        \n",
       "130 N539.EpiA_Non-inflamed  N539       Non-inflamed control        \n",
       "131 N539.LPA_Non-inflamed   N539       Non-inflamed control        \n",
       "132 N110.EpiA_Non-inflamed  N110       Non-inflamed control        \n",
       "133 N110.LPA_Non-inflamed   N110       Non-inflamed control        \n",
       "    health_status\n",
       "1   Healthy      \n",
       "2   Healthy      \n",
       "3   Healthy      \n",
       "4   Healthy      \n",
       "5   Healthy      \n",
       "6   Healthy      \n",
       "7   Healthy      \n",
       "8   Healthy      \n",
       "9   Healthy      \n",
       "10  Healthy      \n",
       "11  Healthy      \n",
       "12  Healthy      \n",
       "13  Healthy      \n",
       "14  Healthy      \n",
       "15  Healthy      \n",
       "16  Healthy      \n",
       "17  Healthy      \n",
       "18  Healthy      \n",
       "19  Healthy      \n",
       "20  Healthy      \n",
       "21  Healthy      \n",
       "22  Healthy      \n",
       "23  Healthy      \n",
       "24  Healthy      \n",
       "25  Healthy      \n",
       "26  Healthy      \n",
       "27  Healthy      \n",
       "28  Healthy      \n",
       "29  Healthy      \n",
       "30  Healthy      \n",
       "⋮   ⋮            \n",
       "104 Colitis      \n",
       "105 Colitis      \n",
       "106 Colitis      \n",
       "107 Colitis      \n",
       "108 Colitis      \n",
       "109 Colitis      \n",
       "110 Colitis      \n",
       "111 Colitis      \n",
       "112 Colitis      \n",
       "113 Colitis      \n",
       "114 Colitis      \n",
       "115 Colitis      \n",
       "116 Colitis      \n",
       "117 Colitis      \n",
       "118 Colitis      \n",
       "119 Colitis      \n",
       "120 Colitis      \n",
       "121 Colitis      \n",
       "122 Colitis      \n",
       "123 Colitis      \n",
       "124 Colitis      \n",
       "125 Colitis      \n",
       "126 Colitis      \n",
       "127 Colitis      \n",
       "128 Colitis      \n",
       "129 Colitis      \n",
       "130 Colitis      \n",
       "131 Colitis      \n",
       "132 Colitis      \n",
       "133 Colitis      "
      ]
     },
     "metadata": {},
     "output_type": "display_data"
    }
   ],
   "source": [
    "# change position of sample_ID column and introduce health_status column\n",
    "anno_samples <- subset(anno_samples, !duplicated(anno_samples$sample_ID))\n",
    "rownames(anno_samples) <- NULL\n",
    "anno_samples <- anno_samples %>% relocate(sample_ID)\n",
    "anno_samples$case_or_control <- ifelse(anno_samples$region %in% 'Inflamed', 'case', 'control')\n",
    "anno_samples$health_status <- ifelse(anno_samples$region %in% 'Healthy', 'Healthy', 'Colitis')\n",
    "anno_samples"
   ]
  },
  {
   "cell_type": "markdown",
   "id": "c381c838",
   "metadata": {},
   "source": [
    "### export anno_samples"
   ]
  },
  {
   "cell_type": "code",
   "execution_count": 13,
   "id": "16560d0b",
   "metadata": {},
   "outputs": [],
   "source": [
    "save(anno_samples, file = paste0(path_out,\"/anno_samples.RData\"))"
   ]
  },
  {
   "cell_type": "markdown",
   "id": "efa14e5a",
   "metadata": {},
   "source": [
    "## 1.3 Preprocessing cell annotation files"
   ]
  },
  {
   "cell_type": "markdown",
   "id": "a7448ad7",
   "metadata": {},
   "source": [
    "- **INPUT:**\n",
    "    - ```cell_relabelling.csv``` file containing unified cell type annotations. Stored in /rdata.\n",
    "\t- metadata from ```all.meta2.tx``` accessed via ```anno_samplex``` variable\n",
    "    \n",
    "    \n",
    "- **NOTES:**\n",
    "\n",
    "    -  ```anno_cells``` file should contain columns \"cell_ID\", \"cell_type\" and \"sample_ID\" for communication analysis\n",
    "    \n",
    "    \n",
    "- **OUTPUT:**\n",
    "\n",
    "    -  ```anno_cells.RData``` cleaned and merged cell annotation file"
   ]
  },
  {
   "cell_type": "markdown",
   "id": "966f1d9e",
   "metadata": {},
   "source": [
    "### load data"
   ]
  },
  {
   "cell_type": "code",
   "execution_count": 14,
   "id": "e22e3a60",
   "metadata": {},
   "outputs": [
    {
     "name": "stdout",
     "output_type": "stream",
     "text": [
      "'data.frame':\t51 obs. of  6 variables:\n",
      " $ cell_type_original      : chr  \"Stem\" \"TA 1\" \"TA 2\" \"Cycling TA\" ...\n",
      " $ tissue_type             : chr  \"Epithelial\" \"Epithelial\" \"Epithelial\" \"Epithelial\" ...\n",
      " $ cell_type_original_color: chr  \"#CB4335\" \"#CB4335\" \"#CB4335\" \"#CB4335\" ...\n",
      " $ cell_type_color         : chr  \"#CB4335\" \"#CB4335\" \"#CB4335\" \"#CB4335\" ...\n",
      " $ population_shape        : int  19 19 19 19 19 19 19 19 19 19 ...\n",
      " $ cell_type               : chr  \"Epithelial\" \"Epithelial\" \"Epithelial\" \"Epithelial\" ...\n"
     ]
    }
   ],
   "source": [
    "anno_cells <- read.csv(paste(file = paste0(path_in,\"/cell_relabelling.csv\")),sep = \";\")\n",
    "str(anno_cells)"
   ]
  },
  {
   "cell_type": "markdown",
   "id": "e7b271c8",
   "metadata": {},
   "source": [
    "### process data"
   ]
  },
  {
   "cell_type": "code",
   "execution_count": 15,
   "id": "d030df2d",
   "metadata": {},
   "outputs": [
    {
     "name": "stdout",
     "output_type": "stream",
     "text": [
      "'data.frame':\t365492 obs. of  7 variables:\n",
      " $ cell_ID           : chr  \"N10.EpiA.AACATTGAAAGTAG\" \"N10.EpiA.AACCCAGACGTAAC\" \"N10.EpiA.AATCTCACCGCATA\" \"N10.EpiA.ACAATAACCGCTAA\" ...\n",
      " $ cell_type_original: chr  \"Stem\" \"Stem\" \"Stem\" \"Stem\" ...\n",
      " $ tissue_type       : chr  \"Epithelial\" \"Epithelial\" \"Epithelial\" \"Epithelial\" ...\n",
      " $ cell_type         : chr  \"Epithelial\" \"Epithelial\" \"Epithelial\" \"Epithelial\" ...\n",
      " $ region            : chr  \"Healthy\" \"Healthy\" \"Healthy\" \"Healthy\" ...\n",
      " $ sample_ID         : chr  \"N10.EpiA_Healthy\" \"N10.EpiA_Healthy\" \"N10.EpiA_Healthy\" \"N10.EpiA_Healthy\" ...\n",
      " $ health_status     : chr  \"Healthy\" \"Healthy\" \"Healthy\" \"Healthy\" ...\n"
     ]
    }
   ],
   "source": [
    "anno_cells <- anno_cells %>% \n",
    "  right_join(anno_samplex, by = c(\"cell_type_original\"), multiple = 'all') %>% \n",
    "  select(-c(3, 4, 5)) %>% \n",
    "  relocate(cell_ID)\n",
    "anno_cells <- anno_cells %>% \n",
    "  arrange(region)\n",
    "anno_cells$health_status <- ifelse(anno_cells$region %in% 'Healthy', 'Healthy', 'Colitis')\n",
    "str(anno_cells)"
   ]
  },
  {
   "cell_type": "markdown",
   "id": "7ca6ab13",
   "metadata": {},
   "source": [
    "### export anno_cells"
   ]
  },
  {
   "cell_type": "code",
   "execution_count": 16,
   "id": "11e3ed20",
   "metadata": {},
   "outputs": [],
   "source": [
    "save(anno_cells, file = paste0(path_out,\"/anno_cells.RData\"))"
   ]
  },
  {
   "cell_type": "markdown",
   "id": "b0cdf242",
   "metadata": {},
   "source": [
    "## 1.4 Preprocessing gene annotation files"
   ]
  },
  {
   "cell_type": "markdown",
   "id": "3fe3a092",
   "metadata": {},
   "source": [
    "- **INPUT:**\n",
    "    - ```LR_database.rda```  stored in additional_input_files sub-directory\n",
    "<!--     - ```- counts.RData```  -->\n",
    "   \n",
    "    \n",
    "- **OUTPUT:**\n",
    "\n",
    "    -  ```anno_genes.RData``` contains information about what genes are ligands and receptors"
   ]
  },
  {
   "cell_type": "markdown",
   "id": "80b1fc4d",
   "metadata": {},
   "source": [
    "### load LR_database.rda data base"
   ]
  },
  {
   "cell_type": "code",
   "execution_count": 17,
   "id": "5d8aab36",
   "metadata": {},
   "outputs": [
    {
     "name": "stdout",
     "output_type": "stream",
     "text": [
      "str(LR_database)\n",
      "\n"
     ]
    }
   ],
   "source": [
    "# test <- load(\"./counts.RData\")\n",
    "load(file = paste0(path_in,\"/LR_database.rda\"))\n",
    "cat(\"str(LR_database)\\n\\n\")"
   ]
  },
  {
   "cell_type": "markdown",
   "id": "705d2f18",
   "metadata": {},
   "source": [
    "### create anno_genes"
   ]
  },
  {
   "cell_type": "code",
   "execution_count": 18,
   "id": "117db7cf",
   "metadata": {},
   "outputs": [
    {
     "name": "stdout",
     "output_type": "stream",
     "text": [
      "'data.frame':\t21784 obs. of  1 variable:\n",
      " $ gene_symbol: chr  \"7SK\" \"A1BG\" \"A1BG-AS1\" \"A1CF\" ...\n",
      "NULL\n"
     ]
    }
   ],
   "source": [
    "anno_genes <- data.frame(gene_symbol = rownames(counts))\n",
    "print(str(anno_genes))"
   ]
  },
  {
   "cell_type": "code",
   "execution_count": 19,
   "id": "c271c1ee",
   "metadata": {},
   "outputs": [],
   "source": [
    "# match genes of counts matrix to LR_database\n",
    "anno_genes$inDB <- (anno_genes$gene_symbol %in% LR_database$Ligand)| (anno_genes$gene_symbol %in% LR_database$Receptor)\n",
    "anno_genes$isLigand <- anno_genes$gene_symbol %in% LR_database$Ligand\n",
    "anno_genes$isReceptor <- anno_genes$gene_symbol %in% LR_database$Receptor"
   ]
  },
  {
   "cell_type": "code",
   "execution_count": 20,
   "id": "ad8c6084",
   "metadata": {},
   "outputs": [
    {
     "name": "stdout",
     "output_type": "stream",
     "text": [
      "'data.frame':\t21784 obs. of  4 variables:\n",
      " $ gene_symbol: chr  \"7SK\" \"A1BG\" \"A1BG-AS1\" \"A1CF\" ...\n",
      " $ inDB       : logi  FALSE TRUE FALSE FALSE TRUE FALSE ...\n",
      " $ isLigand   : logi  FALSE FALSE FALSE FALSE TRUE FALSE ...\n",
      " $ isReceptor : logi  FALSE TRUE FALSE FALSE FALSE FALSE ...\n",
      "NULL\n"
     ]
    }
   ],
   "source": [
    "print(str(anno_genes))"
   ]
  },
  {
   "cell_type": "code",
   "execution_count": 21,
   "id": "58a04563",
   "metadata": {},
   "outputs": [
    {
     "name": "stdout",
     "output_type": "stream",
     "text": [
      "total nr genes are 21784 \n",
      "nr ligands in LR_database are 1515 \n",
      "nr ligands in our data are 1248 \n",
      "nr receptors in LR_database are 1311 \n",
      "nr receptors in our data are 1081 \n"
     ]
    }
   ],
   "source": [
    "cat(\"total nr genes are\", nrow(anno_genes),\"\\n\")\n",
    "cat(\"nr ligands in LR_database are\", length(unique(LR_database$Ligand)),\"\\n\")\n",
    "cat(\"nr ligands in our data are\",sum(anno_genes$isLigand),\"\\n\")\n",
    "cat(\"nr receptors in LR_database are\",length(unique(LR_database$Receptor)),\"\\n\")\n",
    "cat(\"nr receptors in our data are\",sum(anno_genes$isReceptor),'\\n')"
   ]
  },
  {
   "cell_type": "markdown",
   "id": "bbc1fbd2",
   "metadata": {},
   "source": [
    "### export anno_genes"
   ]
  },
  {
   "cell_type": "code",
   "execution_count": 22,
   "id": "8a4a01ec",
   "metadata": {},
   "outputs": [],
   "source": [
    "save(anno_genes, file = paste0(path_out,\"/anno_genes.RData\"))"
   ]
  }
 ],
 "metadata": {
  "kernelspec": {
   "display_name": "R",
   "language": "R",
   "name": "ir"
  },
  "language_info": {
   "codemirror_mode": "r",
   "file_extension": ".r",
   "mimetype": "text/x-r-source",
   "name": "R",
   "pygments_lexer": "r",
   "version": "4.2.2"
  }
 },
 "nbformat": 4,
 "nbformat_minor": 5
}
