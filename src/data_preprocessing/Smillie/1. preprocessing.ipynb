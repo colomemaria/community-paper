{
 "cells": [
  {
   "cell_type": "markdown",
   "id": "3d005916",
   "metadata": {},
   "source": [
    "# PART 1\n",
    "## 1.1 READ IN AND CLEAN UP DATA"
   ]
  },
  {
   "cell_type": "markdown",
   "id": "f0ba07a4",
   "metadata": {},
   "source": [
    "- **INPUT:**\n",
    "    - ```$path_in``` argument: rdata directory containing the files\n",
    "    - raw count matrices from the SCP259 dataset\n",
    "    \n",
    "    \n",
    "- **NOTES:**\n",
    "\n",
    "    -  all-zero genes are excluded\n",
    "    \n",
    "    \n",
    "- **OUTPUT:**\n",
    "\n",
    "    -  ```counts.RData``` raw merged counts"
   ]
  },
  {
   "cell_type": "code",
   "execution_count": 1,
   "id": "df0463d7",
   "metadata": {},
   "outputs": [
    {
     "name": "stderr",
     "output_type": "stream",
     "text": [
      "\n",
      "Attache Paket: ‘dplyr’\n",
      "\n",
      "\n",
      "Die folgenden Objekte sind maskiert von ‘package:stats’:\n",
      "\n",
      "    filter, lag\n",
      "\n",
      "\n",
      "Die folgenden Objekte sind maskiert von ‘package:base’:\n",
      "\n",
      "    intersect, setdiff, setequal, union\n",
      "\n",
      "\n"
     ]
    }
   ],
   "source": [
    "library(dplyr)\n",
    "library(Matrix)"
   ]
  },
  {
   "cell_type": "markdown",
   "id": "4c80ec5a",
   "metadata": {},
   "source": [
    "### set input and output path"
   ]
  },
  {
   "cell_type": "code",
   "execution_count": 2,
   "id": "ecb7069d",
   "metadata": {},
   "outputs": [
    {
     "name": "stdout",
     "output_type": "stream",
     "text": [
      "[1] \"input path is:\"\n",
      "[1] \"/work/project/ladcol_013/algo_ulc/rdata\"\n",
      "[1] \"output path is:\"\n",
      "[1] \"/work/project/ladcol_013/algo_ulc/pdata\"\n"
     ]
    }
   ],
   "source": [
    "path_in <- paste0(getwd(),\"/rdata\")\n",
    "print(\"input path is:\")\n",
    "print(path_in)\n",
    "\n",
    "path_out <- paste0(getwd(), \"/pdata\")\n",
    "print(\"output path is:\")\n",
    "print(path_out)"
   ]
  },
  {
   "cell_type": "markdown",
   "id": "884fd4b6",
   "metadata": {},
   "source": [
    "### read gene/barcode data & assign to variables"
   ]
  },
  {
   "cell_type": "code",
   "execution_count": 3,
   "id": "98f24b98",
   "metadata": {},
   "outputs": [],
   "source": [
    "file_names <- c(\"Epi\", \"Fib\", \"Imm\")\n",
    "\n",
    "gene_data <- lapply(file_names, function(file_name) {\n",
    "  read.csv(paste0(path_in, \"/\", file_name, \".genes.tsv\"), sep = \"\\t\", header = FALSE)})\n",
    "for (i in 1:length(gene_data)) {\n",
    "  assign(paste0(file_names[i], \"_genes\"), gene_data[[i]])}\n",
    "\n",
    "bar_data <- lapply(file_names, function(file_name) {\n",
    "  t(read.csv(paste0(path_in, \"/\", file_name, \".barcodes2.tsv\"), sep = \"\\t\", header = FALSE))})\n",
    "for (i in 1:length(bar_data)) {\n",
    "  assign(paste0(file_names[i], \"_bar\"), bar_data[[i]])}"
   ]
  },
  {
   "cell_type": "code",
   "execution_count": 4,
   "id": "5376f048",
   "metadata": {},
   "outputs": [],
   "source": [
    "Epi_all_genes <- union(union(Epi_genes, Fib_genes), Imm_genes)\n",
    "Fib_all_genes <- union(union(Fib_genes, Imm_genes), Epi_genes)\n",
    "Imm_all_genes <- union(union(Imm_genes, Epi_genes), Fib_genes)"
   ]
  },
  {
   "cell_type": "markdown",
   "id": "1df9a773",
   "metadata": {},
   "source": [
    "### import matrices & attach row/col names"
   ]
  },
  {
   "cell_type": "code",
   "execution_count": 5,
   "id": "9ff5501d",
   "metadata": {
    "scrolled": true
   },
   "outputs": [
    {
     "name": "stdout",
     "output_type": "stream",
     "text": [
      "[1] \"importing sorted matrices and creating counts submatrices\"\n"
     ]
    }
   ],
   "source": [
    "print(\"importing sorted matrices and creating counts submatrices\")\n",
    "all_genes <- lapply(file_names, function(file_name) {\n",
    "  tmp_mat <- readMM(paste0(path_in, \"/gene_sorted-\", file_name, \".matrix.mtx\")) %>%\n",
    "    rbind(matrix(0, nrow = nrow(get(paste0(file_name,\"_all_genes\"))) - nrow(get(paste0(file_name,\"_genes\"))), ncol = ncol(get(paste0(file_name,\"_bar\"))))) %>%\n",
    "    `colnames<-`(get(paste0(file_name,\"_bar\"))) %>%\n",
    "    `rownames<-`(t(get(paste0(file_name,\"_all_genes\"))))\n",
    "  assign(paste0(file_name, \"_m\"), tmp_mat, envir = .GlobalEnv)})"
   ]
  },
  {
   "cell_type": "markdown",
   "id": "eba5a83d",
   "metadata": {},
   "source": [
    "###  combine submatrices to count matrix"
   ]
  },
  {
   "cell_type": "code",
   "execution_count": 6,
   "id": "ffb64095",
   "metadata": {},
   "outputs": [
    {
     "name": "stdout",
     "output_type": "stream",
     "text": [
      "[1] \"combining submatrices to counts matrix\"\n"
     ]
    }
   ],
   "source": [
    "print(\"combining submatrices to counts matrix\")\n",
    "counts <- cbind(Epi_m[order(rownames(Epi_m)),], Fib_m[order(rownames(Fib_m)),], Imm_m[order(rownames(Imm_m)),])"
   ]
  },
  {
   "cell_type": "markdown",
   "id": "4072fc92",
   "metadata": {},
   "source": [
    "### export counts matrix"
   ]
  },
  {
   "cell_type": "code",
   "execution_count": null,
   "id": "f47d0149",
   "metadata": {},
   "outputs": [
    {
     "name": "stdout",
     "output_type": "stream",
     "text": [
      "[1] \"saving counts matrix\"\n"
     ]
    }
   ],
   "source": [
    "# saving counts matrix as counts.RData\n",
    "# paste0(path_in, \"/\", file_name, \".genes.tsv\"\n",
    "print(\"saving counts matrix\")\n",
    "save(counts, file = paste0(path_out,\"/counts.RData\"))\n",
    "print(\"DONE\")"
   ]
  },
  {
   "cell_type": "markdown",
   "id": "85d39dd7",
   "metadata": {},
   "source": [
    "##  1.2 Preprocessing sample annotation files"
   ]
  },
  {
   "cell_type": "markdown",
   "id": "5942aabb",
   "metadata": {},
   "source": [
    "- **INPUT:**\n",
    "    - sample annotation file ```all.meta2.tx```\n",
    "\n",
    "    \n",
    "- **OUTPUT:**\n",
    "\n",
    "    -  ```anno_samples.RData``` cleaned and merged sample annotation file"
   ]
  },
  {
   "cell_type": "markdown",
   "id": "75b472cf",
   "metadata": {},
   "source": [
    "### load data"
   ]
  },
  {
   "cell_type": "code",
   "execution_count": null,
   "id": "b3fb320a",
   "metadata": {},
   "outputs": [],
   "source": [
    "# read in sample annotation for all.meta2\n",
    "anno_samples <- read.csv(paste(file = paste0(path_in,\"/all.meta2.txt\")),sep = \"\\t\",header = TRUE)\n",
    "print(str(anno_samples))"
   ]
  },
  {
   "cell_type": "markdown",
   "id": "982c348d",
   "metadata": {},
   "source": [
    "### process data\n",
    "Clean and process sample annotation"
   ]
  },
  {
   "cell_type": "code",
   "execution_count": null,
   "id": "ed264205",
   "metadata": {},
   "outputs": [],
   "source": [
    "str(anno_samples)"
   ]
  },
  {
   "cell_type": "code",
   "execution_count": null,
   "id": "007ae820",
   "metadata": {},
   "outputs": [],
   "source": [
    "# rename columns and adapt sample_ID to include Sample and Health info\n",
    "anno_samples <- anno_samples[-1,] %>%\n",
    "  rename(sample_ID = Sample,\n",
    "         cell_ID = NAME,\n",
    "         patient_ID = Subject,\n",
    "         region = Health,\n",
    "         cell_type_original = Cluster) %>%\n",
    "  mutate(sample_ID = paste(sample_ID, region, sep = \"_\"))\n",
    "anno_samples <- anno_samples %>% \n",
    "  arrange(region)\n",
    "\n",
    "str(anno_samples)"
   ]
  },
  {
   "cell_type": "code",
   "execution_count": null,
   "id": "1ca40ee7",
   "metadata": {},
   "outputs": [],
   "source": [
    "# remove unnecessary columns and introduce anno_samplex for later usage in anno_cells\n",
    "anno_samplex = anno_samples[,-c(3,4,5,7)]\n",
    "anno_samples <- anno_samples[,-c(1,2,3,4,7)]\n",
    "str(anno_samples)"
   ]
  },
  {
   "cell_type": "code",
   "execution_count": null,
   "id": "59692e30",
   "metadata": {},
   "outputs": [],
   "source": [
    "# change position of sample_ID column and introduce health_status column\n",
    "anno_samples <- subset(anno_samples, !duplicated(anno_samples$sample_ID))\n",
    "rownames(anno_samples) <- NULL\n",
    "anno_samples <- anno_samples %>% relocate(sample_ID)\n",
    "anno_samples$case_or_control <- ifelse(anno_samples$region %in% 'Inflamed', 'case', 'control')\n",
    "anno_samples$health_status <- ifelse(anno_samples$region %in% 'Healthy', 'Healthy', 'Colitis')\n",
    "anno_samples"
   ]
  },
  {
   "cell_type": "markdown",
   "id": "c381c838",
   "metadata": {},
   "source": [
    "### export anno_samples"
   ]
  },
  {
   "cell_type": "code",
   "execution_count": null,
   "id": "16560d0b",
   "metadata": {},
   "outputs": [],
   "source": [
    "save(anno_samples, file = paste0(path_out,\"/anno_samples.RData\"))"
   ]
  },
  {
   "cell_type": "markdown",
   "id": "efa14e5a",
   "metadata": {},
   "source": [
    "## 1.3 Preprocessing cell annotation files"
   ]
  },
  {
   "cell_type": "markdown",
   "id": "a7448ad7",
   "metadata": {},
   "source": [
    "- **INPUT:**\n",
    "    - ```cell_relabelling.csv``` file containing unified cell type annotations. Stored in /rdata.\n",
    "\t- metadata from ```all.meta2.tx``` accessed via ```anno_samplex``` variable\n",
    "    \n",
    "    \n",
    "- **NOTES:**\n",
    "\n",
    "    -  ```anno_cells``` file should contain columns \"cell_ID\", \"cell_type\" and \"sample_ID\" for communication analysis\n",
    "    \n",
    "    \n",
    "- **OUTPUT:**\n",
    "\n",
    "    -  ```anno_cells.RData``` cleaned and merged cell annotation file"
   ]
  },
  {
   "cell_type": "markdown",
   "id": "966f1d9e",
   "metadata": {},
   "source": [
    "### load data"
   ]
  },
  {
   "cell_type": "code",
   "execution_count": null,
   "id": "e22e3a60",
   "metadata": {},
   "outputs": [],
   "source": [
    "anno_cells <- read.csv(paste(file = paste0(path_in,\"/cell_relabelling.csv\")),sep = \";\")\n",
    "str(anno_cells)"
   ]
  },
  {
   "cell_type": "markdown",
   "id": "e7b271c8",
   "metadata": {},
   "source": [
    "### process data"
   ]
  },
  {
   "cell_type": "code",
   "execution_count": null,
   "id": "d030df2d",
   "metadata": {},
   "outputs": [],
   "source": [
    "anno_cells <- anno_cells %>% \n",
    "  right_join(anno_samplex, by = c(\"cell_type_original\"), multiple = 'all') %>% \n",
    "  select(-c(3, 4, 5)) %>% \n",
    "  relocate(cell_ID)\n",
    "anno_cells <- anno_cells %>% \n",
    "  arrange(region)\n",
    "str(anno_cells)"
   ]
  },
  {
   "cell_type": "markdown",
   "id": "7ca6ab13",
   "metadata": {},
   "source": [
    "### export anno_cells"
   ]
  },
  {
   "cell_type": "code",
   "execution_count": null,
   "id": "11e3ed20",
   "metadata": {},
   "outputs": [],
   "source": [
    "save(anno_cells, file = paste0(path_out,\"/anno_cells.RData\"))"
   ]
  },
  {
   "cell_type": "markdown",
   "id": "b0cdf242",
   "metadata": {},
   "source": [
    "## 1.4 Preprocessing gene annotation files"
   ]
  },
  {
   "cell_type": "markdown",
   "id": "3fe3a092",
   "metadata": {},
   "source": [
    "- **INPUT:**\n",
    "    - ```LR_database.rda```  stored in additional_input_files sub-directory\n",
    "<!--     - ```- counts.RData```  -->\n",
    "   \n",
    "    \n",
    "- **OUTPUT:**\n",
    "\n",
    "    -  ```anno_genes.RData``` contains information about what genes are ligands and receptors"
   ]
  },
  {
   "cell_type": "markdown",
   "id": "80b1fc4d",
   "metadata": {},
   "source": [
    "### load LR_database.rda data base"
   ]
  },
  {
   "cell_type": "code",
   "execution_count": null,
   "id": "5d8aab36",
   "metadata": {},
   "outputs": [],
   "source": [
    "# test <- load(\"./counts.RData\")\n",
    "load(file = paste0(path_in,\"/LR_database.rda\"))\n",
    "cat(\"str(LR_database)\\n\\n\")"
   ]
  },
  {
   "cell_type": "markdown",
   "id": "705d2f18",
   "metadata": {},
   "source": [
    "### create anno_genes"
   ]
  },
  {
   "cell_type": "code",
   "execution_count": null,
   "id": "117db7cf",
   "metadata": {},
   "outputs": [],
   "source": [
    "anno_genes <- data.frame(gene_symbol = rownames(counts))\n",
    "print(str(anno_genes))"
   ]
  },
  {
   "cell_type": "code",
   "execution_count": null,
   "id": "c271c1ee",
   "metadata": {},
   "outputs": [],
   "source": [
    "# match genes of counts matrix to LR_database\n",
    "anno_genes$inDB <- (anno_genes$gene_symbol %in% LR_database$Ligand)| (anno_genes$gene_symbol %in% LR_database$Receptor)\n",
    "anno_genes$isLigand <- anno_genes$gene_symbol %in% LR_database$Ligand\n",
    "anno_genes$isReceptor <- anno_genes$gene_symbol %in% LR_database$Receptor"
   ]
  },
  {
   "cell_type": "code",
   "execution_count": null,
   "id": "ad8c6084",
   "metadata": {},
   "outputs": [],
   "source": [
    "print(str(anno_genes))"
   ]
  },
  {
   "cell_type": "code",
   "execution_count": null,
   "id": "58a04563",
   "metadata": {},
   "outputs": [],
   "source": [
    "cat(\"total nr genes are\", nrow(anno_genes),\"\\n\")\n",
    "cat(\"nr ligands in LR_database are\", length(unique(LR_database$Ligand)),\"\\n\")\n",
    "cat(\"nr ligands in our data are\",sum(anno_genes$isLigand),\"\\n\")\n",
    "cat(\"nr receptors in LR_database are\",length(unique(LR_database$Receptor)),\"\\n\")\n",
    "cat(\"nr receptors in our data are\",sum(anno_genes$isReceptor),'\\n')"
   ]
  },
  {
   "cell_type": "markdown",
   "id": "bbc1fbd2",
   "metadata": {},
   "source": [
    "### export anno_genes"
   ]
  },
  {
   "cell_type": "code",
   "execution_count": null,
   "id": "8a4a01ec",
   "metadata": {},
   "outputs": [],
   "source": [
    "save(anno_genes, file = paste0(path_out,\"/anno_genes.RData\"))"
   ]
  }
 ],
 "metadata": {
  "kernelspec": {
   "display_name": "R",
   "language": "R",
   "name": "ir"
  },
  "language_info": {
   "codemirror_mode": "r",
   "file_extension": ".r",
   "mimetype": "text/x-r-source",
   "name": "R",
   "pygments_lexer": "r",
   "version": "4.2.2"
  }
 },
 "nbformat": 4,
 "nbformat_minor": 5
}
