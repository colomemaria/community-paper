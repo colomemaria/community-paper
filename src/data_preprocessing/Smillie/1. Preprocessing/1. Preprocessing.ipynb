{
 "cells": [
  {
   "cell_type": "markdown",
   "id": "3d005916",
   "metadata": {},
   "source": [
    "# PART 1\n",
    "## 1.1 READ IN AND CLEAN UP DATA"
   ]
  },
  {
   "cell_type": "markdown",
   "id": "f0ba07a4",
   "metadata": {},
   "source": [
    "- **INPUT:**\n",
    "    - ```$path_in``` argument: rdata directory containing the files\n",
    "    - raw count matrices from the Smillie dataset\n",
    "    \n",
    "    \n",
    "- **NOTES:**\n",
    "\n",
    "    -  all-zero genes are excluded\n",
    "    \n",
    "    \n",
    "- **OUTPUT:**\n",
    "\n",
    "    -  ```counts.RData``` raw merged counts"
   ]
  },
  {
   "cell_type": "code",
   "execution_count": 1,
   "id": "df0463d7",
   "metadata": {},
   "outputs": [
    {
     "name": "stderr",
     "output_type": "stream",
     "text": [
      "\n",
      "Attaching package: ‘dplyr’\n",
      "\n",
      "\n",
      "The following objects are masked from ‘package:stats’:\n",
      "\n",
      "    filter, lag\n",
      "\n",
      "\n",
      "The following objects are masked from ‘package:base’:\n",
      "\n",
      "    intersect, setdiff, setequal, union\n",
      "\n",
      "\n"
     ]
    }
   ],
   "source": [
    "library(dplyr)\n",
    "library(Matrix)"
   ]
  },
  {
   "cell_type": "markdown",
   "id": "4c80ec5a",
   "metadata": {},
   "source": [
    "### set input and output path"
   ]
  },
  {
   "cell_type": "code",
   "execution_count": 2,
   "id": "ecb7069d",
   "metadata": {},
   "outputs": [],
   "source": [
    "path_in <- \"../../../../data/Smillie/raw_data/\"\n",
    "path_out <- \"outs/\""
   ]
  },
  {
   "cell_type": "markdown",
   "id": "884fd4b6",
   "metadata": {},
   "source": [
    "### read gene/barcode data & assign to variables"
   ]
  },
  {
   "cell_type": "code",
   "execution_count": 3,
   "id": "98f24b98",
   "metadata": {},
   "outputs": [],
   "source": [
    "file_names <- c(\"Epi\", \"Fib\", \"Imm\")\n",
    "\n",
    "gene_data <- lapply(file_names, function(file_name) {\n",
    "  read.csv(paste0(path_in, \"/\", file_name, \".genes.tsv\"), sep = \"\\t\", header = FALSE)})\n",
    "for (i in 1:length(gene_data)) {\n",
    "  assign(paste0(file_names[i], \"_genes\"), gene_data[[i]])}\n",
    "\n",
    "bar_data <- lapply(file_names, function(file_name) {\n",
    "  t(read.csv(paste0(path_in, \"/\", file_name, \".barcodes2.tsv\"), sep = \"\\t\", header = FALSE))})\n",
    "for (i in 1:length(bar_data)) {\n",
    "  assign(paste0(file_names[i], \"_bar\"), bar_data[[i]])}"
   ]
  },
  {
   "cell_type": "code",
   "execution_count": null,
   "id": "7c2f121f-5ede-4b51-91cc-030b6242ef10",
   "metadata": {},
   "outputs": [],
   "source": []
  },
  {
   "cell_type": "code",
   "execution_count": 4,
   "id": "5376f048",
   "metadata": {},
   "outputs": [],
   "source": [
    "Epi_all_genes <- union(union(Epi_genes, Fib_genes), Imm_genes)\n",
    "Fib_all_genes <- union(union(Fib_genes, Imm_genes), Epi_genes)\n",
    "Imm_all_genes <- union(union(Imm_genes, Epi_genes), Fib_genes)"
   ]
  },
  {
   "cell_type": "markdown",
   "id": "1df9a773",
   "metadata": {},
   "source": [
    "### import matrices & attach row/col names"
   ]
  },
  {
   "cell_type": "code",
   "execution_count": 5,
   "id": "9ff5501d",
   "metadata": {
    "scrolled": true
   },
   "outputs": [
    {
     "name": "stdout",
     "output_type": "stream",
     "text": [
      "[1] \"importing sorted matrices and creating counts submatrices\"\n"
     ]
    }
   ],
   "source": [
    "print(\"importing sorted matrices and creating counts submatrices\")\n",
    "all_genes <- lapply(file_names, function(file_name) {\n",
    "  tmp_mat <- readMM(paste0(path_in, \"/gene_sorted-\", file_name, \".matrix.mtx\")) %>%\n",
    "    rbind(matrix(0, nrow = nrow(get(paste0(file_name,\"_all_genes\"))) - nrow(get(paste0(file_name,\"_genes\"))), ncol = ncol(get(paste0(file_name,\"_bar\"))))) %>%\n",
    "    `colnames<-`(get(paste0(file_name,\"_bar\"))) %>%\n",
    "    `rownames<-`(t(get(paste0(file_name,\"_all_genes\"))))\n",
    "  assign(paste0(file_name, \"_m\"), tmp_mat, envir = .GlobalEnv)})"
   ]
  },
  {
   "cell_type": "markdown",
   "id": "eba5a83d",
   "metadata": {},
   "source": [
    "###  combine submatrices to count matrix"
   ]
  },
  {
   "cell_type": "code",
   "execution_count": 6,
   "id": "ffb64095",
   "metadata": {},
   "outputs": [
    {
     "name": "stdout",
     "output_type": "stream",
     "text": [
      "[1] \"combining submatrices to counts matrix\"\n"
     ]
    }
   ],
   "source": [
    "print(\"combining submatrices to counts matrix\")\n",
    "counts <- cbind(Epi_m[order(rownames(Epi_m)),], Fib_m[order(rownames(Fib_m)),], Imm_m[order(rownames(Imm_m)),])"
   ]
  },
  {
   "cell_type": "markdown",
   "id": "4072fc92",
   "metadata": {},
   "source": [
    "### export counts matrix"
   ]
  },
  {
   "cell_type": "code",
   "execution_count": 8,
   "id": "f47d0149",
   "metadata": {},
   "outputs": [
    {
     "name": "stdout",
     "output_type": "stream",
     "text": [
      "[1] \"saving counts matrix\"\n",
      "[1] \"DONE\"\n"
     ]
    }
   ],
   "source": [
    "# saving counts matrix as counts.RData\n",
    "print(\"saving counts matrix\")\n",
    "save(counts, file = paste0(path_out,\"counts.RData\"))\n",
    "print(\"DONE\")"
   ]
  },
  {
   "cell_type": "markdown",
   "id": "85d39dd7",
   "metadata": {},
   "source": [
    "##  1.2 Preprocessing sample annotation files"
   ]
  },
  {
   "cell_type": "markdown",
   "id": "5942aabb",
   "metadata": {},
   "source": [
    "- **INPUT:**\n",
    "    - sample annotation file ```all.meta2.tx```\n",
    "\n",
    "    \n",
    "- **OUTPUT:**\n",
    "\n",
    "    -  ```anno_samples.RData``` cleaned and merged sample annotation file"
   ]
  },
  {
   "cell_type": "markdown",
   "id": "75b472cf",
   "metadata": {},
   "source": [
    "### load data"
   ]
  },
  {
   "cell_type": "code",
   "execution_count": 9,
   "id": "b3fb320a",
   "metadata": {},
   "outputs": [
    {
     "name": "stdout",
     "output_type": "stream",
     "text": [
      "'data.frame':\t365493 obs. of  8 variables:\n",
      " $ NAME    : chr  \"TYPE\" \"N7.EpiA.AAACATACACACTG\" \"N7.EpiA.AAACCGTGCATCAG\" \"N7.EpiA.AAACGCACAATCGC\" ...\n",
      " $ Cluster : chr  \"group\" \"TA 1\" \"TA 1\" \"TA 2\" ...\n",
      " $ nGene   : chr  \"numeric\" \"328\" \"257\" \"300\" ...\n",
      " $ nUMI    : chr  \"numeric\" \"891\" \"663\" \"639\" ...\n",
      " $ Subject : chr  \"group\" \"N7\" \"N7\" \"N7\" ...\n",
      " $ Health  : chr  \"group\" \"Non-inflamed\" \"Non-inflamed\" \"Non-inflamed\" ...\n",
      " $ Location: chr  \"group\" \"Epi\" \"Epi\" \"Epi\" ...\n",
      " $ Sample  : chr  \"group\" \"N7.EpiA\" \"N7.EpiA\" \"N7.EpiA\" ...\n",
      "NULL\n"
     ]
    }
   ],
   "source": [
    "# read in sample annotation for all.meta2\n",
    "anno_samples <- read.csv(paste(file = paste0(path_in,\"all.meta2.txt\")),sep = \"\\t\",header = TRUE)\n",
    "print(str(anno_samples))"
   ]
  },
  {
   "cell_type": "markdown",
   "id": "982c348d",
   "metadata": {},
   "source": [
    "### process data\n",
    "Clean and process sample annotation"
   ]
  },
  {
   "cell_type": "code",
   "execution_count": 10,
   "id": "ed264205",
   "metadata": {},
   "outputs": [
    {
     "name": "stdout",
     "output_type": "stream",
     "text": [
      "'data.frame':\t365493 obs. of  8 variables:\n",
      " $ NAME    : chr  \"TYPE\" \"N7.EpiA.AAACATACACACTG\" \"N7.EpiA.AAACCGTGCATCAG\" \"N7.EpiA.AAACGCACAATCGC\" ...\n",
      " $ Cluster : chr  \"group\" \"TA 1\" \"TA 1\" \"TA 2\" ...\n",
      " $ nGene   : chr  \"numeric\" \"328\" \"257\" \"300\" ...\n",
      " $ nUMI    : chr  \"numeric\" \"891\" \"663\" \"639\" ...\n",
      " $ Subject : chr  \"group\" \"N7\" \"N7\" \"N7\" ...\n",
      " $ Health  : chr  \"group\" \"Non-inflamed\" \"Non-inflamed\" \"Non-inflamed\" ...\n",
      " $ Location: chr  \"group\" \"Epi\" \"Epi\" \"Epi\" ...\n",
      " $ Sample  : chr  \"group\" \"N7.EpiA\" \"N7.EpiA\" \"N7.EpiA\" ...\n"
     ]
    }
   ],
   "source": [
    "str(anno_samples)"
   ]
  },
  {
   "cell_type": "code",
   "execution_count": 11,
   "id": "007ae820",
   "metadata": {},
   "outputs": [
    {
     "name": "stdout",
     "output_type": "stream",
     "text": [
      "'data.frame':\t365492 obs. of  8 variables:\n",
      " $ cell_ID           : chr  \"N10.EpiA.AAACATACAACCAC\" \"N10.EpiA.AAACATACAGGCGA\" \"N10.EpiA.AAACATACCACTAG\" \"N10.EpiA.AAACATACCCTTTA\" ...\n",
      " $ cell_type_original: chr  \"Enterocyte Progenitors\" \"Cycling TA\" \"Immature Goblet\" \"Secretory TA\" ...\n",
      " $ nGene             : chr  \"425\" \"1695\" \"391\" \"1327\" ...\n",
      " $ nUMI              : chr  \"968\" \"7273\" \"1190\" \"5620\" ...\n",
      " $ patient_ID        : chr  \"N10\" \"N10\" \"N10\" \"N10\" ...\n",
      " $ region            : chr  \"Healthy\" \"Healthy\" \"Healthy\" \"Healthy\" ...\n",
      " $ Location          : chr  \"Epi\" \"Epi\" \"Epi\" \"Epi\" ...\n",
      " $ sample_ID         : chr  \"N10.EpiA_Healthy\" \"N10.EpiA_Healthy\" \"N10.EpiA_Healthy\" \"N10.EpiA_Healthy\" ...\n"
     ]
    }
   ],
   "source": [
    "# rename columns and adapt sample_ID to include Sample and Health info\n",
    "anno_samples <- anno_samples[-1,] %>%\n",
    "  rename(sample_ID = Sample,\n",
    "         cell_ID = NAME,\n",
    "         patient_ID = Subject,\n",
    "         region = Health,\n",
    "         cell_type_original = Cluster) %>%\n",
    "  mutate(sample_ID = paste(sample_ID, region, sep = \"_\"))\n",
    "anno_samples <- anno_samples %>% \n",
    "  arrange(region)\n",
    "\n",
    "str(anno_samples)"
   ]
  },
  {
   "cell_type": "code",
   "execution_count": 12,
   "id": "6ed8d566",
   "metadata": {},
   "outputs": [],
   "source": [
    "library(stringr)\n",
    "# Replace EpiA, EpiB, LPA, LPB in sample_ID with A and B\n",
    "anno_samples <- anno_samples %>%\n",
    "  mutate(new_sample_ID = str_replace_all(sample_ID, c(\"EpiA\" = \"A\", \"EpiB\" = \"B\", \"LPA\" = \"A\", \"LPB\" = \"B\")))\n",
    "\n",
    "# Rename new_sample_ID to sample_ID\n",
    "names(anno_samples)[names(anno_samples) == \"new_sample_ID\"] <- \"sample_ID\""
   ]
  },
  {
   "cell_type": "code",
   "execution_count": 13,
   "id": "1ca40ee7",
   "metadata": {},
   "outputs": [
    {
     "name": "stdout",
     "output_type": "stream",
     "text": [
      "'data.frame':\t365492 obs. of  3 variables:\n",
      " $ patient_ID: chr  \"N10\" \"N10\" \"N10\" \"N10\" ...\n",
      " $ region    : chr  \"Healthy\" \"Healthy\" \"Healthy\" \"Healthy\" ...\n",
      " $ sample_ID : chr  \"N10.A_Healthy\" \"N10.A_Healthy\" \"N10.A_Healthy\" \"N10.A_Healthy\" ...\n"
     ]
    }
   ],
   "source": [
    "# remove unnecessary columns and introduce anno_samplex for later usage in anno_cells\n",
    "anno_samplex = anno_samples[,-c(3,4,5,7,8)]\n",
    "anno_samples <- anno_samples[,-c(1,2,3,4,7,8)]\n",
    "str(anno_samples)"
   ]
  },
  {
   "cell_type": "code",
   "execution_count": 14,
   "id": "59692e30",
   "metadata": {},
   "outputs": [
    {
     "data": {
      "text/html": [
       "<table class=\"dataframe\">\n",
       "<caption>A data.frame: 72 × 5</caption>\n",
       "<thead>\n",
       "\t<tr><th scope=col>sample_ID</th><th scope=col>patient_ID</th><th scope=col>region</th><th scope=col>case_or_control</th><th scope=col>health_status</th></tr>\n",
       "\t<tr><th scope=col>&lt;chr&gt;</th><th scope=col>&lt;chr&gt;</th><th scope=col>&lt;chr&gt;</th><th scope=col>&lt;chr&gt;</th><th scope=col>&lt;chr&gt;</th></tr>\n",
       "</thead>\n",
       "<tbody>\n",
       "\t<tr><td>N10.A_Healthy </td><td>N10</td><td>Healthy </td><td>control</td><td>Healthy</td></tr>\n",
       "\t<tr><td>N10.B_Healthy </td><td>N10</td><td>Healthy </td><td>control</td><td>Healthy</td></tr>\n",
       "\t<tr><td>N8.A_Healthy  </td><td>N8 </td><td>Healthy </td><td>control</td><td>Healthy</td></tr>\n",
       "\t<tr><td>N8.B_Healthy  </td><td>N8 </td><td>Healthy </td><td>control</td><td>Healthy</td></tr>\n",
       "\t<tr><td>N11.A_Healthy </td><td>N11</td><td>Healthy </td><td>control</td><td>Healthy</td></tr>\n",
       "\t<tr><td>N11.B_Healthy </td><td>N11</td><td>Healthy </td><td>control</td><td>Healthy</td></tr>\n",
       "\t<tr><td>N13.A_Healthy </td><td>N13</td><td>Healthy </td><td>control</td><td>Healthy</td></tr>\n",
       "\t<tr><td>N13.B_Healthy </td><td>N13</td><td>Healthy </td><td>control</td><td>Healthy</td></tr>\n",
       "\t<tr><td>N15.A_Healthy </td><td>N15</td><td>Healthy </td><td>control</td><td>Healthy</td></tr>\n",
       "\t<tr><td>N15.B_Healthy </td><td>N15</td><td>Healthy </td><td>control</td><td>Healthy</td></tr>\n",
       "\t<tr><td>N16.A_Healthy </td><td>N16</td><td>Healthy </td><td>control</td><td>Healthy</td></tr>\n",
       "\t<tr><td>N16.B_Healthy </td><td>N16</td><td>Healthy </td><td>control</td><td>Healthy</td></tr>\n",
       "\t<tr><td>N17.A_Healthy </td><td>N17</td><td>Healthy </td><td>control</td><td>Healthy</td></tr>\n",
       "\t<tr><td>N17.B_Healthy </td><td>N17</td><td>Healthy </td><td>control</td><td>Healthy</td></tr>\n",
       "\t<tr><td>N18.A_Healthy </td><td>N18</td><td>Healthy </td><td>control</td><td>Healthy</td></tr>\n",
       "\t<tr><td>N18.B_Healthy </td><td>N18</td><td>Healthy </td><td>control</td><td>Healthy</td></tr>\n",
       "\t<tr><td>N20.A_Healthy </td><td>N20</td><td>Healthy </td><td>control</td><td>Healthy</td></tr>\n",
       "\t<tr><td>N20.B_Healthy </td><td>N20</td><td>Healthy </td><td>control</td><td>Healthy</td></tr>\n",
       "\t<tr><td>N21.A_Healthy </td><td>N21</td><td>Healthy </td><td>control</td><td>Healthy</td></tr>\n",
       "\t<tr><td>N21.B_Healthy </td><td>N21</td><td>Healthy </td><td>control</td><td>Healthy</td></tr>\n",
       "\t<tr><td>N51.A_Healthy </td><td>N51</td><td>Healthy </td><td>control</td><td>Healthy</td></tr>\n",
       "\t<tr><td>N51.B_Healthy </td><td>N51</td><td>Healthy </td><td>control</td><td>Healthy</td></tr>\n",
       "\t<tr><td>N46.A_Healthy </td><td>N46</td><td>Healthy </td><td>control</td><td>Healthy</td></tr>\n",
       "\t<tr><td>N46.B_Healthy </td><td>N46</td><td>Healthy </td><td>control</td><td>Healthy</td></tr>\n",
       "\t<tr><td>N7.B_Inflamed </td><td>N7 </td><td>Inflamed</td><td>case   </td><td>Colitis</td></tr>\n",
       "\t<tr><td>N9.B_Inflamed </td><td>N9 </td><td>Inflamed</td><td>case   </td><td>Colitis</td></tr>\n",
       "\t<tr><td>N12.B_Inflamed</td><td>N12</td><td>Inflamed</td><td>case   </td><td>Colitis</td></tr>\n",
       "\t<tr><td>N14.B_Inflamed</td><td>N14</td><td>Inflamed</td><td>case   </td><td>Colitis</td></tr>\n",
       "\t<tr><td>N19.B_Inflamed</td><td>N19</td><td>Inflamed</td><td>case   </td><td>Colitis</td></tr>\n",
       "\t<tr><td>N23.B_Inflamed</td><td>N23</td><td>Inflamed</td><td>case   </td><td>Colitis</td></tr>\n",
       "\t<tr><td>⋮</td><td>⋮</td><td>⋮</td><td>⋮</td><td>⋮</td></tr>\n",
       "\t<tr><td>N50.B_Inflamed      </td><td>N50 </td><td>Inflamed    </td><td>case   </td><td>Colitis</td></tr>\n",
       "\t<tr><td>N106.B_Inflamed     </td><td>N106</td><td>Inflamed    </td><td>case   </td><td>Colitis</td></tr>\n",
       "\t<tr><td>N539.B_Inflamed     </td><td>N539</td><td>Inflamed    </td><td>case   </td><td>Colitis</td></tr>\n",
       "\t<tr><td>N110.B_Inflamed     </td><td>N110</td><td>Inflamed    </td><td>case   </td><td>Colitis</td></tr>\n",
       "\t<tr><td>N661.B1_Inflamed    </td><td>N661</td><td>Inflamed    </td><td>case   </td><td>Colitis</td></tr>\n",
       "\t<tr><td>N661.B2_Inflamed    </td><td>N661</td><td>Inflamed    </td><td>case   </td><td>Colitis</td></tr>\n",
       "\t<tr><td>N7.A_Non-inflamed   </td><td>N7  </td><td>Non-inflamed</td><td>control</td><td>Colitis</td></tr>\n",
       "\t<tr><td>N9.A_Non-inflamed   </td><td>N9  </td><td>Non-inflamed</td><td>control</td><td>Colitis</td></tr>\n",
       "\t<tr><td>N12.A_Non-inflamed  </td><td>N12 </td><td>Non-inflamed</td><td>control</td><td>Colitis</td></tr>\n",
       "\t<tr><td>N14.A_Non-inflamed  </td><td>N14 </td><td>Non-inflamed</td><td>control</td><td>Colitis</td></tr>\n",
       "\t<tr><td>N19.A_Non-inflamed  </td><td>N19 </td><td>Non-inflamed</td><td>control</td><td>Colitis</td></tr>\n",
       "\t<tr><td>N23.A_Non-inflamed  </td><td>N23 </td><td>Non-inflamed</td><td>control</td><td>Colitis</td></tr>\n",
       "\t<tr><td>N24.A_Non-inflamed  </td><td>N24 </td><td>Non-inflamed</td><td>control</td><td>Colitis</td></tr>\n",
       "\t<tr><td>N26.A_Non-inflamed  </td><td>N26 </td><td>Non-inflamed</td><td>control</td><td>Colitis</td></tr>\n",
       "\t<tr><td>N52.A1a_Non-inflamed</td><td>N52 </td><td>Non-inflamed</td><td>control</td><td>Colitis</td></tr>\n",
       "\t<tr><td>N52.A2a_Non-inflamed</td><td>N52 </td><td>Non-inflamed</td><td>control</td><td>Colitis</td></tr>\n",
       "\t<tr><td>N52.A1b_Non-inflamed</td><td>N52 </td><td>Non-inflamed</td><td>control</td><td>Colitis</td></tr>\n",
       "\t<tr><td>N52.A2b_Non-inflamed</td><td>N52 </td><td>Non-inflamed</td><td>control</td><td>Colitis</td></tr>\n",
       "\t<tr><td>N58.A1_Non-inflamed </td><td>N58 </td><td>Non-inflamed</td><td>control</td><td>Colitis</td></tr>\n",
       "\t<tr><td>N58.A2_Non-inflamed </td><td>N58 </td><td>Non-inflamed</td><td>control</td><td>Colitis</td></tr>\n",
       "\t<tr><td>N111.A1_Non-inflamed</td><td>N111</td><td>Non-inflamed</td><td>control</td><td>Colitis</td></tr>\n",
       "\t<tr><td>N111.A2_Non-inflamed</td><td>N111</td><td>Non-inflamed</td><td>control</td><td>Colitis</td></tr>\n",
       "\t<tr><td>N661.A1_Non-inflamed</td><td>N661</td><td>Non-inflamed</td><td>control</td><td>Colitis</td></tr>\n",
       "\t<tr><td>N661.A2_Non-inflamed</td><td>N661</td><td>Non-inflamed</td><td>control</td><td>Colitis</td></tr>\n",
       "\t<tr><td>N44.A_Non-inflamed  </td><td>N44 </td><td>Non-inflamed</td><td>control</td><td>Colitis</td></tr>\n",
       "\t<tr><td>N49.A_Non-inflamed  </td><td>N49 </td><td>Non-inflamed</td><td>control</td><td>Colitis</td></tr>\n",
       "\t<tr><td>N50.A_Non-inflamed  </td><td>N50 </td><td>Non-inflamed</td><td>control</td><td>Colitis</td></tr>\n",
       "\t<tr><td>N106.A_Non-inflamed </td><td>N106</td><td>Non-inflamed</td><td>control</td><td>Colitis</td></tr>\n",
       "\t<tr><td>N539.A_Non-inflamed </td><td>N539</td><td>Non-inflamed</td><td>control</td><td>Colitis</td></tr>\n",
       "\t<tr><td>N110.A_Non-inflamed </td><td>N110</td><td>Non-inflamed</td><td>control</td><td>Colitis</td></tr>\n",
       "</tbody>\n",
       "</table>\n"
      ],
      "text/latex": [
       "A data.frame: 72 × 5\n",
       "\\begin{tabular}{lllll}\n",
       " sample\\_ID & patient\\_ID & region & case\\_or\\_control & health\\_status\\\\\n",
       " <chr> & <chr> & <chr> & <chr> & <chr>\\\\\n",
       "\\hline\n",
       "\t N10.A\\_Healthy  & N10 & Healthy  & control & Healthy\\\\\n",
       "\t N10.B\\_Healthy  & N10 & Healthy  & control & Healthy\\\\\n",
       "\t N8.A\\_Healthy   & N8  & Healthy  & control & Healthy\\\\\n",
       "\t N8.B\\_Healthy   & N8  & Healthy  & control & Healthy\\\\\n",
       "\t N11.A\\_Healthy  & N11 & Healthy  & control & Healthy\\\\\n",
       "\t N11.B\\_Healthy  & N11 & Healthy  & control & Healthy\\\\\n",
       "\t N13.A\\_Healthy  & N13 & Healthy  & control & Healthy\\\\\n",
       "\t N13.B\\_Healthy  & N13 & Healthy  & control & Healthy\\\\\n",
       "\t N15.A\\_Healthy  & N15 & Healthy  & control & Healthy\\\\\n",
       "\t N15.B\\_Healthy  & N15 & Healthy  & control & Healthy\\\\\n",
       "\t N16.A\\_Healthy  & N16 & Healthy  & control & Healthy\\\\\n",
       "\t N16.B\\_Healthy  & N16 & Healthy  & control & Healthy\\\\\n",
       "\t N17.A\\_Healthy  & N17 & Healthy  & control & Healthy\\\\\n",
       "\t N17.B\\_Healthy  & N17 & Healthy  & control & Healthy\\\\\n",
       "\t N18.A\\_Healthy  & N18 & Healthy  & control & Healthy\\\\\n",
       "\t N18.B\\_Healthy  & N18 & Healthy  & control & Healthy\\\\\n",
       "\t N20.A\\_Healthy  & N20 & Healthy  & control & Healthy\\\\\n",
       "\t N20.B\\_Healthy  & N20 & Healthy  & control & Healthy\\\\\n",
       "\t N21.A\\_Healthy  & N21 & Healthy  & control & Healthy\\\\\n",
       "\t N21.B\\_Healthy  & N21 & Healthy  & control & Healthy\\\\\n",
       "\t N51.A\\_Healthy  & N51 & Healthy  & control & Healthy\\\\\n",
       "\t N51.B\\_Healthy  & N51 & Healthy  & control & Healthy\\\\\n",
       "\t N46.A\\_Healthy  & N46 & Healthy  & control & Healthy\\\\\n",
       "\t N46.B\\_Healthy  & N46 & Healthy  & control & Healthy\\\\\n",
       "\t N7.B\\_Inflamed  & N7  & Inflamed & case    & Colitis\\\\\n",
       "\t N9.B\\_Inflamed  & N9  & Inflamed & case    & Colitis\\\\\n",
       "\t N12.B\\_Inflamed & N12 & Inflamed & case    & Colitis\\\\\n",
       "\t N14.B\\_Inflamed & N14 & Inflamed & case    & Colitis\\\\\n",
       "\t N19.B\\_Inflamed & N19 & Inflamed & case    & Colitis\\\\\n",
       "\t N23.B\\_Inflamed & N23 & Inflamed & case    & Colitis\\\\\n",
       "\t ⋮ & ⋮ & ⋮ & ⋮ & ⋮\\\\\n",
       "\t N50.B\\_Inflamed       & N50  & Inflamed     & case    & Colitis\\\\\n",
       "\t N106.B\\_Inflamed      & N106 & Inflamed     & case    & Colitis\\\\\n",
       "\t N539.B\\_Inflamed      & N539 & Inflamed     & case    & Colitis\\\\\n",
       "\t N110.B\\_Inflamed      & N110 & Inflamed     & case    & Colitis\\\\\n",
       "\t N661.B1\\_Inflamed     & N661 & Inflamed     & case    & Colitis\\\\\n",
       "\t N661.B2\\_Inflamed     & N661 & Inflamed     & case    & Colitis\\\\\n",
       "\t N7.A\\_Non-inflamed    & N7   & Non-inflamed & control & Colitis\\\\\n",
       "\t N9.A\\_Non-inflamed    & N9   & Non-inflamed & control & Colitis\\\\\n",
       "\t N12.A\\_Non-inflamed   & N12  & Non-inflamed & control & Colitis\\\\\n",
       "\t N14.A\\_Non-inflamed   & N14  & Non-inflamed & control & Colitis\\\\\n",
       "\t N19.A\\_Non-inflamed   & N19  & Non-inflamed & control & Colitis\\\\\n",
       "\t N23.A\\_Non-inflamed   & N23  & Non-inflamed & control & Colitis\\\\\n",
       "\t N24.A\\_Non-inflamed   & N24  & Non-inflamed & control & Colitis\\\\\n",
       "\t N26.A\\_Non-inflamed   & N26  & Non-inflamed & control & Colitis\\\\\n",
       "\t N52.A1a\\_Non-inflamed & N52  & Non-inflamed & control & Colitis\\\\\n",
       "\t N52.A2a\\_Non-inflamed & N52  & Non-inflamed & control & Colitis\\\\\n",
       "\t N52.A1b\\_Non-inflamed & N52  & Non-inflamed & control & Colitis\\\\\n",
       "\t N52.A2b\\_Non-inflamed & N52  & Non-inflamed & control & Colitis\\\\\n",
       "\t N58.A1\\_Non-inflamed  & N58  & Non-inflamed & control & Colitis\\\\\n",
       "\t N58.A2\\_Non-inflamed  & N58  & Non-inflamed & control & Colitis\\\\\n",
       "\t N111.A1\\_Non-inflamed & N111 & Non-inflamed & control & Colitis\\\\\n",
       "\t N111.A2\\_Non-inflamed & N111 & Non-inflamed & control & Colitis\\\\\n",
       "\t N661.A1\\_Non-inflamed & N661 & Non-inflamed & control & Colitis\\\\\n",
       "\t N661.A2\\_Non-inflamed & N661 & Non-inflamed & control & Colitis\\\\\n",
       "\t N44.A\\_Non-inflamed   & N44  & Non-inflamed & control & Colitis\\\\\n",
       "\t N49.A\\_Non-inflamed   & N49  & Non-inflamed & control & Colitis\\\\\n",
       "\t N50.A\\_Non-inflamed   & N50  & Non-inflamed & control & Colitis\\\\\n",
       "\t N106.A\\_Non-inflamed  & N106 & Non-inflamed & control & Colitis\\\\\n",
       "\t N539.A\\_Non-inflamed  & N539 & Non-inflamed & control & Colitis\\\\\n",
       "\t N110.A\\_Non-inflamed  & N110 & Non-inflamed & control & Colitis\\\\\n",
       "\\end{tabular}\n"
      ],
      "text/markdown": [
       "\n",
       "A data.frame: 72 × 5\n",
       "\n",
       "| sample_ID &lt;chr&gt; | patient_ID &lt;chr&gt; | region &lt;chr&gt; | case_or_control &lt;chr&gt; | health_status &lt;chr&gt; |\n",
       "|---|---|---|---|---|\n",
       "| N10.A_Healthy  | N10 | Healthy  | control | Healthy |\n",
       "| N10.B_Healthy  | N10 | Healthy  | control | Healthy |\n",
       "| N8.A_Healthy   | N8  | Healthy  | control | Healthy |\n",
       "| N8.B_Healthy   | N8  | Healthy  | control | Healthy |\n",
       "| N11.A_Healthy  | N11 | Healthy  | control | Healthy |\n",
       "| N11.B_Healthy  | N11 | Healthy  | control | Healthy |\n",
       "| N13.A_Healthy  | N13 | Healthy  | control | Healthy |\n",
       "| N13.B_Healthy  | N13 | Healthy  | control | Healthy |\n",
       "| N15.A_Healthy  | N15 | Healthy  | control | Healthy |\n",
       "| N15.B_Healthy  | N15 | Healthy  | control | Healthy |\n",
       "| N16.A_Healthy  | N16 | Healthy  | control | Healthy |\n",
       "| N16.B_Healthy  | N16 | Healthy  | control | Healthy |\n",
       "| N17.A_Healthy  | N17 | Healthy  | control | Healthy |\n",
       "| N17.B_Healthy  | N17 | Healthy  | control | Healthy |\n",
       "| N18.A_Healthy  | N18 | Healthy  | control | Healthy |\n",
       "| N18.B_Healthy  | N18 | Healthy  | control | Healthy |\n",
       "| N20.A_Healthy  | N20 | Healthy  | control | Healthy |\n",
       "| N20.B_Healthy  | N20 | Healthy  | control | Healthy |\n",
       "| N21.A_Healthy  | N21 | Healthy  | control | Healthy |\n",
       "| N21.B_Healthy  | N21 | Healthy  | control | Healthy |\n",
       "| N51.A_Healthy  | N51 | Healthy  | control | Healthy |\n",
       "| N51.B_Healthy  | N51 | Healthy  | control | Healthy |\n",
       "| N46.A_Healthy  | N46 | Healthy  | control | Healthy |\n",
       "| N46.B_Healthy  | N46 | Healthy  | control | Healthy |\n",
       "| N7.B_Inflamed  | N7  | Inflamed | case    | Colitis |\n",
       "| N9.B_Inflamed  | N9  | Inflamed | case    | Colitis |\n",
       "| N12.B_Inflamed | N12 | Inflamed | case    | Colitis |\n",
       "| N14.B_Inflamed | N14 | Inflamed | case    | Colitis |\n",
       "| N19.B_Inflamed | N19 | Inflamed | case    | Colitis |\n",
       "| N23.B_Inflamed | N23 | Inflamed | case    | Colitis |\n",
       "| ⋮ | ⋮ | ⋮ | ⋮ | ⋮ |\n",
       "| N50.B_Inflamed       | N50  | Inflamed     | case    | Colitis |\n",
       "| N106.B_Inflamed      | N106 | Inflamed     | case    | Colitis |\n",
       "| N539.B_Inflamed      | N539 | Inflamed     | case    | Colitis |\n",
       "| N110.B_Inflamed      | N110 | Inflamed     | case    | Colitis |\n",
       "| N661.B1_Inflamed     | N661 | Inflamed     | case    | Colitis |\n",
       "| N661.B2_Inflamed     | N661 | Inflamed     | case    | Colitis |\n",
       "| N7.A_Non-inflamed    | N7   | Non-inflamed | control | Colitis |\n",
       "| N9.A_Non-inflamed    | N9   | Non-inflamed | control | Colitis |\n",
       "| N12.A_Non-inflamed   | N12  | Non-inflamed | control | Colitis |\n",
       "| N14.A_Non-inflamed   | N14  | Non-inflamed | control | Colitis |\n",
       "| N19.A_Non-inflamed   | N19  | Non-inflamed | control | Colitis |\n",
       "| N23.A_Non-inflamed   | N23  | Non-inflamed | control | Colitis |\n",
       "| N24.A_Non-inflamed   | N24  | Non-inflamed | control | Colitis |\n",
       "| N26.A_Non-inflamed   | N26  | Non-inflamed | control | Colitis |\n",
       "| N52.A1a_Non-inflamed | N52  | Non-inflamed | control | Colitis |\n",
       "| N52.A2a_Non-inflamed | N52  | Non-inflamed | control | Colitis |\n",
       "| N52.A1b_Non-inflamed | N52  | Non-inflamed | control | Colitis |\n",
       "| N52.A2b_Non-inflamed | N52  | Non-inflamed | control | Colitis |\n",
       "| N58.A1_Non-inflamed  | N58  | Non-inflamed | control | Colitis |\n",
       "| N58.A2_Non-inflamed  | N58  | Non-inflamed | control | Colitis |\n",
       "| N111.A1_Non-inflamed | N111 | Non-inflamed | control | Colitis |\n",
       "| N111.A2_Non-inflamed | N111 | Non-inflamed | control | Colitis |\n",
       "| N661.A1_Non-inflamed | N661 | Non-inflamed | control | Colitis |\n",
       "| N661.A2_Non-inflamed | N661 | Non-inflamed | control | Colitis |\n",
       "| N44.A_Non-inflamed   | N44  | Non-inflamed | control | Colitis |\n",
       "| N49.A_Non-inflamed   | N49  | Non-inflamed | control | Colitis |\n",
       "| N50.A_Non-inflamed   | N50  | Non-inflamed | control | Colitis |\n",
       "| N106.A_Non-inflamed  | N106 | Non-inflamed | control | Colitis |\n",
       "| N539.A_Non-inflamed  | N539 | Non-inflamed | control | Colitis |\n",
       "| N110.A_Non-inflamed  | N110 | Non-inflamed | control | Colitis |\n",
       "\n"
      ],
      "text/plain": [
       "   sample_ID            patient_ID region       case_or_control health_status\n",
       "1  N10.A_Healthy        N10        Healthy      control         Healthy      \n",
       "2  N10.B_Healthy        N10        Healthy      control         Healthy      \n",
       "3  N8.A_Healthy         N8         Healthy      control         Healthy      \n",
       "4  N8.B_Healthy         N8         Healthy      control         Healthy      \n",
       "5  N11.A_Healthy        N11        Healthy      control         Healthy      \n",
       "6  N11.B_Healthy        N11        Healthy      control         Healthy      \n",
       "7  N13.A_Healthy        N13        Healthy      control         Healthy      \n",
       "8  N13.B_Healthy        N13        Healthy      control         Healthy      \n",
       "9  N15.A_Healthy        N15        Healthy      control         Healthy      \n",
       "10 N15.B_Healthy        N15        Healthy      control         Healthy      \n",
       "11 N16.A_Healthy        N16        Healthy      control         Healthy      \n",
       "12 N16.B_Healthy        N16        Healthy      control         Healthy      \n",
       "13 N17.A_Healthy        N17        Healthy      control         Healthy      \n",
       "14 N17.B_Healthy        N17        Healthy      control         Healthy      \n",
       "15 N18.A_Healthy        N18        Healthy      control         Healthy      \n",
       "16 N18.B_Healthy        N18        Healthy      control         Healthy      \n",
       "17 N20.A_Healthy        N20        Healthy      control         Healthy      \n",
       "18 N20.B_Healthy        N20        Healthy      control         Healthy      \n",
       "19 N21.A_Healthy        N21        Healthy      control         Healthy      \n",
       "20 N21.B_Healthy        N21        Healthy      control         Healthy      \n",
       "21 N51.A_Healthy        N51        Healthy      control         Healthy      \n",
       "22 N51.B_Healthy        N51        Healthy      control         Healthy      \n",
       "23 N46.A_Healthy        N46        Healthy      control         Healthy      \n",
       "24 N46.B_Healthy        N46        Healthy      control         Healthy      \n",
       "25 N7.B_Inflamed        N7         Inflamed     case            Colitis      \n",
       "26 N9.B_Inflamed        N9         Inflamed     case            Colitis      \n",
       "27 N12.B_Inflamed       N12        Inflamed     case            Colitis      \n",
       "28 N14.B_Inflamed       N14        Inflamed     case            Colitis      \n",
       "29 N19.B_Inflamed       N19        Inflamed     case            Colitis      \n",
       "30 N23.B_Inflamed       N23        Inflamed     case            Colitis      \n",
       "⋮  ⋮                    ⋮          ⋮            ⋮               ⋮            \n",
       "43 N50.B_Inflamed       N50        Inflamed     case            Colitis      \n",
       "44 N106.B_Inflamed      N106       Inflamed     case            Colitis      \n",
       "45 N539.B_Inflamed      N539       Inflamed     case            Colitis      \n",
       "46 N110.B_Inflamed      N110       Inflamed     case            Colitis      \n",
       "47 N661.B1_Inflamed     N661       Inflamed     case            Colitis      \n",
       "48 N661.B2_Inflamed     N661       Inflamed     case            Colitis      \n",
       "49 N7.A_Non-inflamed    N7         Non-inflamed control         Colitis      \n",
       "50 N9.A_Non-inflamed    N9         Non-inflamed control         Colitis      \n",
       "51 N12.A_Non-inflamed   N12        Non-inflamed control         Colitis      \n",
       "52 N14.A_Non-inflamed   N14        Non-inflamed control         Colitis      \n",
       "53 N19.A_Non-inflamed   N19        Non-inflamed control         Colitis      \n",
       "54 N23.A_Non-inflamed   N23        Non-inflamed control         Colitis      \n",
       "55 N24.A_Non-inflamed   N24        Non-inflamed control         Colitis      \n",
       "56 N26.A_Non-inflamed   N26        Non-inflamed control         Colitis      \n",
       "57 N52.A1a_Non-inflamed N52        Non-inflamed control         Colitis      \n",
       "58 N52.A2a_Non-inflamed N52        Non-inflamed control         Colitis      \n",
       "59 N52.A1b_Non-inflamed N52        Non-inflamed control         Colitis      \n",
       "60 N52.A2b_Non-inflamed N52        Non-inflamed control         Colitis      \n",
       "61 N58.A1_Non-inflamed  N58        Non-inflamed control         Colitis      \n",
       "62 N58.A2_Non-inflamed  N58        Non-inflamed control         Colitis      \n",
       "63 N111.A1_Non-inflamed N111       Non-inflamed control         Colitis      \n",
       "64 N111.A2_Non-inflamed N111       Non-inflamed control         Colitis      \n",
       "65 N661.A1_Non-inflamed N661       Non-inflamed control         Colitis      \n",
       "66 N661.A2_Non-inflamed N661       Non-inflamed control         Colitis      \n",
       "67 N44.A_Non-inflamed   N44        Non-inflamed control         Colitis      \n",
       "68 N49.A_Non-inflamed   N49        Non-inflamed control         Colitis      \n",
       "69 N50.A_Non-inflamed   N50        Non-inflamed control         Colitis      \n",
       "70 N106.A_Non-inflamed  N106       Non-inflamed control         Colitis      \n",
       "71 N539.A_Non-inflamed  N539       Non-inflamed control         Colitis      \n",
       "72 N110.A_Non-inflamed  N110       Non-inflamed control         Colitis      "
      ]
     },
     "metadata": {},
     "output_type": "display_data"
    }
   ],
   "source": [
    "# change position of sample_ID column and introduce health_status column\n",
    "anno_samples <- subset(anno_samples, !duplicated(anno_samples$sample_ID))\n",
    "rownames(anno_samples) <- NULL\n",
    "anno_samples <- anno_samples %>% relocate(sample_ID)\n",
    "anno_samples$case_or_control <- ifelse(anno_samples$region %in% 'Inflamed', 'case', 'control')\n",
    "anno_samples$health_status <- ifelse(anno_samples$region %in% 'Healthy', 'Healthy', 'Colitis')\n",
    "anno_samples"
   ]
  },
  {
   "cell_type": "markdown",
   "id": "efa14e5a",
   "metadata": {},
   "source": [
    "## 1.3 Preprocessing cell annotation files"
   ]
  },
  {
   "cell_type": "markdown",
   "id": "a7448ad7",
   "metadata": {},
   "source": [
    "- **INPUT:**\n",
    "    - ```cell_relabelling.csv``` file containing unified cell type annotations. Stored in /rdata.\n",
    "\t- metadata from ```all.meta2.tx``` accessed via ```anno_samplex``` variable\n",
    "    \n",
    "    \n",
    "- **NOTES:**\n",
    "\n",
    "    -  ```anno_cells``` file should contain columns \"cell_ID\", \"cell_type\" and \"sample_ID\" for communication analysis\n",
    "    \n",
    "    \n",
    "- **OUTPUT:**\n",
    "\n",
    "    -  ```anno_cells.RData``` cleaned and merged cell annotation file"
   ]
  },
  {
   "cell_type": "markdown",
   "id": "966f1d9e",
   "metadata": {},
   "source": [
    "### load data"
   ]
  },
  {
   "cell_type": "code",
   "execution_count": 15,
   "id": "e22e3a60",
   "metadata": {},
   "outputs": [
    {
     "name": "stderr",
     "output_type": "stream",
     "text": [
      "Warning message in file(file, \"rt\"):\n",
      "“cannot open file '../../../../data/Smillie/raw_data/cell_relabelling.csv': No such file or directory”\n"
     ]
    },
    {
     "ename": "ERROR",
     "evalue": "Error in file(file, \"rt\"): cannot open the connection\n",
     "output_type": "error",
     "traceback": [
      "Error in file(file, \"rt\"): cannot open the connection\nTraceback:\n",
      "1. read.csv(paste(file = paste0(path_in, \"cell_relabelling.csv\")), \n .     sep = \";\")",
      "2. read.table(file = file, header = header, sep = sep, quote = quote, \n .     dec = dec, fill = fill, comment.char = comment.char, ...)",
      "3. file(file, \"rt\")"
     ]
    }
   ],
   "source": [
    "anno_cells <- read.csv(paste(file = paste0(path_in,\"cell_relabelling.csv\")),sep = \";\")\n",
    "anno_cells <- anno_cells[anno_cells$source==\"Smillie et al., 2019\",]\n",
    "str(anno_cells)"
   ]
  },
  {
   "cell_type": "markdown",
   "id": "e7b271c8",
   "metadata": {},
   "source": [
    "### process data"
   ]
  },
  {
   "cell_type": "code",
   "execution_count": null,
   "id": "d030df2d",
   "metadata": {},
   "outputs": [],
   "source": [
    "anno_cells <- anno_cells %>% \n",
    "  right_join(anno_samplex, by = c(\"cell_type_original\"), multiple = 'all') %>% \n",
    "  select(-c(3, 4, 5)) %>% \n",
    "  relocate(cell_ID)\n",
    "anno_cells <- anno_cells %>% \n",
    "  arrange(region)\n",
    "anno_cells$health_status <- ifelse(anno_cells$region %in% 'Healthy', 'Healthy', 'Colitis')\n",
    "str(anno_cells)"
   ]
  },
  {
   "cell_type": "code",
   "execution_count": null,
   "id": "7afb4620",
   "metadata": {},
   "outputs": [],
   "source": [
    "#remove Non-inflamed\n",
    "anno_samples <- anno_samples[anno_samples$region != \"Non-inflamed\", ]\n",
    "anno_cells <- anno_cells[anno_cells$region != \"Non-inflamed\", ]"
   ]
  },
  {
   "cell_type": "markdown",
   "id": "5f4ce25a",
   "metadata": {},
   "source": [
    "### export anno_samples"
   ]
  },
  {
   "cell_type": "code",
   "execution_count": null,
   "id": "e3e054a0",
   "metadata": {},
   "outputs": [],
   "source": [
    "save(anno_samples, file = paste0(path_out,\"anno_samples.RData\"))"
   ]
  },
  {
   "cell_type": "markdown",
   "id": "7ca6ab13",
   "metadata": {},
   "source": [
    "### export anno_cells"
   ]
  },
  {
   "cell_type": "code",
   "execution_count": null,
   "id": "11e3ed20",
   "metadata": {},
   "outputs": [],
   "source": [
    "save(anno_cells, file = paste0(path_out,\"anno_cells.RData\"))"
   ]
  },
  {
   "cell_type": "markdown",
   "id": "b0cdf242",
   "metadata": {},
   "source": [
    "## 1.4 Preprocessing gene annotation files"
   ]
  },
  {
   "cell_type": "markdown",
   "id": "3fe3a092",
   "metadata": {},
   "source": [
    "- **INPUT:**\n",
    "    - ```LR_database.rda```  stored in additional_input_files sub-directory\n",
    "<!--     - ```- counts.RData```  -->\n",
    "   \n",
    "    \n",
    "- **OUTPUT:**\n",
    "\n",
    "    -  ```anno_genes.RData``` contains information about what genes are ligands and receptors"
   ]
  },
  {
   "cell_type": "markdown",
   "id": "80b1fc4d",
   "metadata": {},
   "source": [
    "### load LR_database.rda data base"
   ]
  },
  {
   "cell_type": "code",
   "execution_count": null,
   "id": "5d8aab36",
   "metadata": {},
   "outputs": [],
   "source": [
    "library(community)\n",
    "data(\"LR_database\")\n",
    "cat(\"str(LR_database)\\n\\n\")"
   ]
  },
  {
   "cell_type": "markdown",
   "id": "705d2f18",
   "metadata": {},
   "source": [
    "### create anno_genes"
   ]
  },
  {
   "cell_type": "code",
   "execution_count": null,
   "id": "117db7cf",
   "metadata": {},
   "outputs": [],
   "source": [
    "anno_genes <- data.frame(gene_symbol = rownames(counts))\n",
    "print(str(anno_genes))"
   ]
  },
  {
   "cell_type": "code",
   "execution_count": null,
   "id": "c271c1ee",
   "metadata": {},
   "outputs": [],
   "source": [
    "# match genes of counts matrix to LR_database\n",
    "anno_genes$inDB <- (anno_genes$gene_symbol %in% LR_database$Ligand)| (anno_genes$gene_symbol %in% LR_database$Receptor)\n",
    "anno_genes$isLigand <- anno_genes$gene_symbol %in% LR_database$Ligand\n",
    "anno_genes$isReceptor <- anno_genes$gene_symbol %in% LR_database$Receptor"
   ]
  },
  {
   "cell_type": "code",
   "execution_count": null,
   "id": "ad8c6084",
   "metadata": {},
   "outputs": [],
   "source": [
    "print(str(anno_genes))"
   ]
  },
  {
   "cell_type": "code",
   "execution_count": null,
   "id": "58a04563",
   "metadata": {},
   "outputs": [],
   "source": [
    "cat(\"total nr genes are\", nrow(anno_genes),\"\\n\")\n",
    "cat(\"nr ligands in LR_database are\", length(unique(LR_database$Ligand)),\"\\n\")\n",
    "cat(\"nr ligands in our data are\",sum(anno_genes$isLigand),\"\\n\")\n",
    "cat(\"nr receptors in LR_database are\",length(unique(LR_database$Receptor)),\"\\n\")\n",
    "cat(\"nr receptors in our data are\",sum(anno_genes$isReceptor),'\\n')"
   ]
  },
  {
   "cell_type": "markdown",
   "id": "bbc1fbd2",
   "metadata": {},
   "source": [
    "### export anno_genes"
   ]
  },
  {
   "cell_type": "code",
   "execution_count": null,
   "id": "8a4a01ec",
   "metadata": {},
   "outputs": [],
   "source": [
    "save(anno_genes, file = paste0(path_out,\"anno_genes.RData\"))"
   ]
  }
 ],
 "metadata": {
  "kernelspec": {
   "display_name": "R",
   "language": "R",
   "name": "ir"
  },
  "language_info": {
   "codemirror_mode": "r",
   "file_extension": ".r",
   "mimetype": "text/x-r-source",
   "name": "R",
   "pygments_lexer": "r",
   "version": "4.3.2"
  }
 },
 "nbformat": 4,
 "nbformat_minor": 5
}
