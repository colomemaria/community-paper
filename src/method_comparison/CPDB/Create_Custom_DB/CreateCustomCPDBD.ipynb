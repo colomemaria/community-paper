{
 "cells": [
  {
   "cell_type": "code",
   "execution_count": 1,
   "id": "aa3f38b3",
   "metadata": {},
   "outputs": [],
   "source": [
    "import pandas as pd\n",
    "import numpy as np\n",
    "# from unipressed import IdMappingClient"
   ]
  },
  {
   "cell_type": "code",
   "execution_count": 2,
   "id": "11a6e428",
   "metadata": {},
   "outputs": [],
   "source": [
    "#list of intersaction pairs\n",
    "\n",
    "combined = pd.read_csv ('../OmniPath/L_R_OmniPathFull.csv', index_col=False)"
   ]
  },
  {
   "cell_type": "code",
   "execution_count": 3,
   "id": "8e0f4acc",
   "metadata": {},
   "outputs": [],
   "source": [
    "#CellPhoneDB is using protein_name_a and protein_name_b column names for genesymbols\n",
    "#in our version its Ligand and Receptor column\n",
    "combined.rename({'Ligand': 'protein_name_a', 'Receptor': 'protein_name_b'}, axis=1, inplace=True)"
   ]
  },
  {
   "cell_type": "code",
   "execution_count": 4,
   "id": "0b888f2c",
   "metadata": {},
   "outputs": [],
   "source": [
    "#CellPhoneDB mandatory fields to build a customDB\n",
    "combined[\"source\"]=\"OmniPath\""
   ]
  },
  {
   "cell_type": "code",
   "execution_count": 5,
   "id": "59ec26ed",
   "metadata": {},
   "outputs": [],
   "source": [
    "#CellphoneDB requires ENSEMBL IDs so we retrive it through UniProtIDs"
   ]
  },
  {
   "cell_type": "code",
   "execution_count": 6,
   "id": "6ac7037d",
   "metadata": {},
   "outputs": [],
   "source": [
    "ligand_ids=list(set(combined[\"partner_a\"].values))"
   ]
  },
  {
   "cell_type": "code",
   "execution_count": 7,
   "id": "48a61205",
   "metadata": {},
   "outputs": [],
   "source": [
    "from unipressed import IdMappingClient\n",
    "import time\n",
    "request = IdMappingClient.submit(\n",
    "    source=\"UniProtKB_AC-ID\", dest=\"Ensembl\", ids=ligand_ids\n",
    ")\n",
    "time.sleep(2.0)"
   ]
  },
  {
   "cell_type": "code",
   "execution_count": 8,
   "id": "d28b9f95",
   "metadata": {},
   "outputs": [],
   "source": [
    "lig_list=list(request.each_result())"
   ]
  },
  {
   "cell_type": "code",
   "execution_count": 9,
   "id": "2665b848",
   "metadata": {},
   "outputs": [],
   "source": [
    "#put it in dictionary key: UniProtID, value: ENSEMBL\n",
    "lig_dict=dict()\n",
    "for x in lig_list:\n",
    "    lig_dict[x[\"from\"]]=x[\"to\"]"
   ]
  },
  {
   "cell_type": "code",
   "execution_count": 10,
   "id": "2ff24b6d",
   "metadata": {},
   "outputs": [],
   "source": [
    "# some uniprot IDs do not have ENSEMBL, so we mock for those\n",
    "count=1\n",
    "for x in ligand_ids:\n",
    "    if x not in lig_dict:\n",
    "        lig_dict[x]=\"ENSG000000000\"+str(count)\n",
    "        count+=1"
   ]
  },
  {
   "cell_type": "code",
   "execution_count": 11,
   "id": "9c5ef6ba",
   "metadata": {},
   "outputs": [],
   "source": [
    "#do the same for receptor\n",
    "receptor_ids=list(set(combined[\"partner_b\"].values))"
   ]
  },
  {
   "cell_type": "code",
   "execution_count": 12,
   "id": "b820fc76",
   "metadata": {},
   "outputs": [],
   "source": [
    "request = IdMappingClient.submit(\n",
    "    source=\"UniProtKB_AC-ID\", dest=\"Ensembl\", ids=receptor_ids\n",
    ")\n",
    "time.sleep(2.0)"
   ]
  },
  {
   "cell_type": "code",
   "execution_count": 13,
   "id": "93c302cb",
   "metadata": {},
   "outputs": [],
   "source": [
    "rec_list=list(request.each_result())"
   ]
  },
  {
   "cell_type": "code",
   "execution_count": 14,
   "id": "82e0d0cc",
   "metadata": {},
   "outputs": [],
   "source": [
    "rec_dict=dict()\n",
    "for x in rec_list:\n",
    "    rec_dict[x[\"from\"]]=x[\"to\"]\n",
    "    \n",
    "for x in receptor_ids:\n",
    "    if x not in rec_dict:\n",
    "        rec_dict[x]=\"ENSG000000000\"+str(count)\n",
    "        count+=1"
   ]
  },
  {
   "cell_type": "code",
   "execution_count": 15,
   "id": "1c87680e",
   "metadata": {},
   "outputs": [],
   "source": [
    "#merge two of them into one dictionary\n",
    "rec_dict.update(lig_dict)"
   ]
  },
  {
   "cell_type": "code",
   "execution_count": 16,
   "id": "8557cbfd",
   "metadata": {},
   "outputs": [],
   "source": [
    "# dictionary with genesymbols and uniprotIDs\n",
    "name2id=dict()\n",
    "for x in range(0,len(combined)):\n",
    "    if combined.iloc[x].protein_name_a in name2id and combined.iloc[x].protein_name_b in name2id:\n",
    "        continue\n",
    "    else:\n",
    "        name2id[combined.iloc[x].protein_name_a]=combined.iloc[x].partner_a\n",
    "        name2id[combined.iloc[x].protein_name_b]=combined.iloc[x].partner_b\n",
    "        "
   ]
  },
  {
   "cell_type": "code",
   "execution_count": 17,
   "id": "caa11618",
   "metadata": {},
   "outputs": [],
   "source": [
    "#CPDB requires a file csv to generate custom DB, with genesymbol, uniprot and ensembl IDS\n",
    "df={\"gene_name\":[],\n",
    "   \"uniprot\":[],\n",
    "   \"hgnc_symbol\":[],\n",
    "   \"ensembl\":[]}"
   ]
  },
  {
   "cell_type": "code",
   "execution_count": 18,
   "id": "8cc13ccb",
   "metadata": {},
   "outputs": [],
   "source": [
    "for symbol,uniprot in name2id.items():\n",
    "    df[\"gene_name\"].append(symbol)\n",
    "    df[\"uniprot\"].append(uniprot)\n",
    "    df[\"hgnc_symbol\"].append(symbol)\n",
    "    df[\"ensembl\"].append(rec_dict[uniprot])"
   ]
  },
  {
   "cell_type": "code",
   "execution_count": 19,
   "id": "b1ca00e8",
   "metadata": {},
   "outputs": [],
   "source": [
    "df=pd.DataFrame(df)"
   ]
  },
  {
   "cell_type": "code",
   "execution_count": 20,
   "id": "647ae4c8",
   "metadata": {},
   "outputs": [],
   "source": [
    "#no need versions\n",
    "df[\"ensembl\"] = df[\"ensembl\"].str.split(\".\").str[0]"
   ]
  },
  {
   "cell_type": "code",
   "execution_count": 21,
   "id": "528c5b51",
   "metadata": {},
   "outputs": [],
   "source": [
    "#CPDB requires another file with uniprot and genesymbols\n",
    "prot = df.loc[:, [\"uniprot\", \"hgnc_symbol\"]]"
   ]
  },
  {
   "cell_type": "code",
   "execution_count": 22,
   "id": "6a9e5485",
   "metadata": {},
   "outputs": [],
   "source": [
    "prot[\"hgnc_symbol\"] = df[\"hgnc_symbol\"] + \"_HUMAN\""
   ]
  },
  {
   "cell_type": "code",
   "execution_count": 23,
   "id": "9cfb3d50",
   "metadata": {},
   "outputs": [],
   "source": [
    "#the column name must be protein_name in this one\n",
    "prot = prot.rename(columns={\"hgnc_symbol\": \"protein_name\"})"
   ]
  },
  {
   "cell_type": "code",
   "execution_count": 24,
   "id": "205222ed",
   "metadata": {},
   "outputs": [],
   "source": [
    "#tag the ones that are receptors\n",
    "prot['receptor']=[1 if uniprot in combined['partner_b'].values else 0 for uniprot in prot['uniprot']]"
   ]
  },
  {
   "cell_type": "code",
   "execution_count": 25,
   "id": "f94d8aa6",
   "metadata": {},
   "outputs": [
    {
     "data": {
      "text/html": [
       "<div>\n",
       "<style scoped>\n",
       "    .dataframe tbody tr th:only-of-type {\n",
       "        vertical-align: middle;\n",
       "    }\n",
       "\n",
       "    .dataframe tbody tr th {\n",
       "        vertical-align: top;\n",
       "    }\n",
       "\n",
       "    .dataframe thead th {\n",
       "        text-align: right;\n",
       "    }\n",
       "</style>\n",
       "<table border=\"1\" class=\"dataframe\">\n",
       "  <thead>\n",
       "    <tr style=\"text-align: right;\">\n",
       "      <th></th>\n",
       "      <th>gene_name</th>\n",
       "      <th>uniprot</th>\n",
       "      <th>hgnc_symbol</th>\n",
       "      <th>ensembl</th>\n",
       "    </tr>\n",
       "  </thead>\n",
       "  <tbody>\n",
       "  </tbody>\n",
       "</table>\n",
       "</div>"
      ],
      "text/plain": [
       "Empty DataFrame\n",
       "Columns: [gene_name, uniprot, hgnc_symbol, ensembl]\n",
       "Index: []"
      ]
     },
     "execution_count": 25,
     "metadata": {},
     "output_type": "execute_result"
    }
   ],
   "source": [
    "df[df[\"gene_name\"]==\"PIK3CD\"]"
   ]
  },
  {
   "cell_type": "code",
   "execution_count": 26,
   "id": "1d5b51e6",
   "metadata": {},
   "outputs": [],
   "source": [
    "# prot['other']=1\n",
    "# prot['peripheral']=1\n",
    "# prot['secreted']=1\n",
    "# prot['integrin']=1\n",
    "# prot['transmembrane']=1\n",
    "# prot['tags']=\"To_comment\"\n",
    "# prot['tags_reason']=\"curation\"\n",
    "# prot['secreted_highlight']=1"
   ]
  },
  {
   "cell_type": "code",
   "execution_count": null,
   "id": "9dc90390",
   "metadata": {},
   "outputs": [],
   "source": []
  },
  {
   "cell_type": "code",
   "execution_count": 27,
   "id": "f7a840a5",
   "metadata": {},
   "outputs": [],
   "source": [
    "#write those to a file\n",
    "df.to_csv('gene_user2.csv', index=False)\n",
    "prot.to_csv('prot_user2.csv', index=False)\n",
    "combined.to_csv('newLR2.csv', index=False)"
   ]
  },
  {
   "cell_type": "markdown",
   "id": "c32e74e9",
   "metadata": {},
   "source": [
    "# generate custom DB with the below command\n",
    "\n",
    "```cellphonedb database generate --user-interactions newLR2.csv.csv --user-interactions-only --user-protein prot_user1.csv --user-gene gene_user1.csv --result-path combined12```"
   ]
  },
  {
   "cell_type": "markdown",
   "id": "2da05d4a",
   "metadata": {},
   "source": [
    "# Sanity check, lets see if the edges are as we submit it to CPDB\n",
    "\n",
    "Each table in CellPhoneDB's sql database are converted into csv files. This is explained in ```Breakdown CPDB.ipynb```"
   ]
  },
  {
   "cell_type": "code",
   "execution_count": 28,
   "id": "821afe15",
   "metadata": {},
   "outputs": [],
   "source": [
    "#includes IDs of interactions called multi_id. The IDs are assigned by cpdb.\n",
    "\n",
    "interaction = pd.read_csv ('./combined18/csv/interaction_table.csv', index_col=False)\n",
    "interaction = interaction.iloc[:, [2,3]]"
   ]
  },
  {
   "cell_type": "code",
   "execution_count": 29,
   "id": "ca8c08f7",
   "metadata": {},
   "outputs": [],
   "source": [
    "#tables for gene_symbols and uniprotIDs\n",
    "gene_table = pd.read_csv ('./combined18/csv/gene_table.csv', index_col=False)\n",
    "gene_table = gene_table.iloc[:, [3,4]].copy()\n",
    "protein_name = pd.read_csv ('./combined18/csv/protein_table.csv', index_col=False)\n",
    "protein_name = protein_name.iloc[:, [1,5]].copy()"
   ]
  },
  {
   "cell_type": "code",
   "execution_count": 30,
   "id": "7df41a72",
   "metadata": {},
   "outputs": [],
   "source": [
    "#includes multi_id, name, receptor, receptor_desc, secreted etc... \n",
    "#This is the table we check whether a protein is ligand or receptor\n",
    "multi = pd.read_csv ('./combined18/csv/multidata_table.csv', index_col=None)\n",
    "\n",
    "#we seperate ligands and receptors into different df\n",
    "receptor = multi[multi['receptor'] == 1]\n",
    "receptor = receptor.iloc[:, [0,1]]\n",
    "ligand = multi[multi['receptor'] == 0]\n",
    "ligand = ligand.iloc[:, [0,1]]"
   ]
  },
  {
   "cell_type": "code",
   "execution_count": 31,
   "id": "7e873301",
   "metadata": {},
   "outputs": [],
   "source": [
    "# assign gene symbols for ligand /// assign prot_names not gene symbols.\n",
    "df = pd.DataFrame()\n",
    "for x in range(len(interaction)):\n",
    "    p_id1 = interaction.loc[x].multidata_1_id\n",
    "    p_id2 = interaction.loc[x].multidata_2_id\n",
    "\n",
    "    symbol1 = gene_table.loc[gene_table['protein_id'] == p_id1]\n",
    "    symbol1 = symbol1[symbol1['hgnc_symbol'].notna()]\n",
    "    symbol1 = symbol1.hgnc_symbol.unique()\n",
    "    p_name1 = protein_name.loc[protein_name['protein_multidata_id'] == p_id1].protein_name\n",
    "    p_name1 = p_name1.str.replace('_HUMAN', '')\n",
    "    symbol1 = p_name1\n",
    "    \n",
    "    symbol2 = gene_table.loc[gene_table['protein_id'] == p_id2]\n",
    "    symbol2 = symbol2[symbol2['hgnc_symbol'].notna()]\n",
    "    symbol2 = symbol2.hgnc_symbol.unique()\n",
    "    p_name2 = protein_name.loc[protein_name['protein_multidata_id'] == p_id2].protein_name\n",
    "    p_name2 = p_name2.str.replace('_HUMAN', '')\n",
    "    symbol2 = p_name2\n",
    "\n",
    "#     if not list(symbol1)[0] or not list(symbol2)[0]:\n",
    "#         print(symbol1, symbol2)\n",
    "    \n",
    "    #cellphoneDB, does not follow our structure, where ligands in one column and receptors others. \n",
    "    #so to convert the structure into ours we aggregate ligands under multidata_1_id \n",
    "    #and receptors under multidata_2_id\n",
    "    \n",
    "    \n",
    "    # if ligand is in other column, swap the values.\n",
    "    if p_id1 in receptor.id_multidata.values and p_id2 in ligand.id_multidata.values:\n",
    "        interaction.at[x, 'reversed'] = 1\n",
    "        interaction.at[x, 'multidata_1_id'] = p_id2\n",
    "        interaction.at[x, 'multidata_2_id'] = p_id1\n",
    "        \n",
    "        interaction.at[x, 'ligand'] = list(symbol2)[0]\n",
    "        interaction.at[x, 'receptor'] = list(symbol1)[0]\n",
    "        \n",
    "    # if both of them are annotated as receptor, leave it that way.\n",
    "    elif p_id1 in receptor.id_multidata.values and p_id2 in receptor.id_multidata.values:\n",
    "        interaction.at[x, 'r_adhesion_mol'] = 1\n",
    "        interaction.at[x, 'ligand'] = list(symbol1)[0]\n",
    "        interaction.at[x, 'receptor'] = list(symbol2)[0]\n",
    "    else:\n",
    "        interaction.at[x, 'ligand'] = list(symbol1)[0]\n",
    "        interaction.at[x, 'receptor'] = list(symbol2)[0]\n",
    "        \n",
    "        \n",
    "        \n",
    "#     interaction.at[x, 'ligand'] = list(p_name1)[0]\n",
    "#     interaction.at[x, 'l_complex'] = 0\n",
    "    #get those ligands that have more than one symbol in a seperate df\n",
    "    #this part can be taken out as no need anymore?\n",
    "#     if len(symbol) > 1:\n",
    "#         print(\"hereeeee\", symbol, \"---\", p_id)\n",
    "#         entry=i.loc[x].to_frame().transpose()\n",
    "#         df = pd.concat([df,entry])\n",
    "#         df.at[x, 'ligand'] = symbol\n"
   ]
  },
  {
   "cell_type": "code",
   "execution_count": 32,
   "id": "d36e792d",
   "metadata": {},
   "outputs": [],
   "source": [
    "# create pairs\n",
    "interaction[\"pairs\"]=interaction[[\"ligand\", \"receptor\"]].apply(\"_\".join, axis=1)"
   ]
  },
  {
   "cell_type": "code",
   "execution_count": 33,
   "id": "da4e8dd6",
   "metadata": {},
   "outputs": [],
   "source": [
    "# mask = i['r_adhesion_mol'] == 1\n",
    "# rows_to_swap = i.loc[mask]\n",
    "# i.loc[mask, 'ligand'], i.loc[mask, 'receptor'] = i.loc[mask, 'receptor'], i.loc[mask, 'ligand']\n",
    "# i.loc[mask, 'multidata_1_id'], i.loc[mask, 'multidata_2_id'] = i.loc[mask, 'multidata_2_id'], i.loc[mask, 'multidata_1_id']"
   ]
  },
  {
   "cell_type": "code",
   "execution_count": 34,
   "id": "7aab1352",
   "metadata": {},
   "outputs": [],
   "source": [
    "#some pairs that we submited are missing.\n",
    "notincpdb=[x for x in combined[\"Pair.Name\"].values if x not in interaction.pairs.values]"
   ]
  },
  {
   "cell_type": "code",
   "execution_count": 35,
   "id": "383e5155",
   "metadata": {},
   "outputs": [
    {
     "data": {
      "text/plain": [
       "1484"
      ]
     },
     "execution_count": 35,
     "metadata": {},
     "output_type": "execute_result"
    }
   ],
   "source": [
    "len(notincpdb)"
   ]
  },
  {
   "cell_type": "code",
   "execution_count": 36,
   "id": "099f2b5e",
   "metadata": {},
   "outputs": [],
   "source": [
    "# there are pairs we did not submit when building tje DBs. \n",
    "notinours=[x for x in interaction.pairs.values if x not in combined[\"Pair.Name\"].values]"
   ]
  },
  {
   "cell_type": "code",
   "execution_count": 37,
   "id": "810c298a",
   "metadata": {},
   "outputs": [
    {
     "data": {
      "text/plain": [
       "1103"
      ]
     },
     "execution_count": 37,
     "metadata": {},
     "output_type": "execute_result"
    }
   ],
   "source": [
    "len(notinours)"
   ]
  },
  {
   "cell_type": "code",
   "execution_count": 38,
   "id": "a193c298",
   "metadata": {},
   "outputs": [
    {
     "data": {
      "text/plain": [
       "1.0    1103\n",
       "Name: r_adhesion_mol, dtype: int64"
      ]
     },
     "execution_count": 38,
     "metadata": {},
     "output_type": "execute_result"
    }
   ],
   "source": [
    "#seems like all the pairs that we did not submit but happens to be in CPDB, \n",
    "#are adhesion_mol which means both of them are receptors. \n",
    "interaction.loc[interaction['pairs'].isin(notinours)][\"r_adhesion_mol\"].value_counts()"
   ]
  },
  {
   "cell_type": "code",
   "execution_count": 39,
   "id": "37766fd9",
   "metadata": {},
   "outputs": [
    {
     "data": {
      "text/html": [
       "<div>\n",
       "<style scoped>\n",
       "    .dataframe tbody tr th:only-of-type {\n",
       "        vertical-align: middle;\n",
       "    }\n",
       "\n",
       "    .dataframe tbody tr th {\n",
       "        vertical-align: top;\n",
       "    }\n",
       "\n",
       "    .dataframe thead th {\n",
       "        text-align: right;\n",
       "    }\n",
       "</style>\n",
       "<table border=\"1\" class=\"dataframe\">\n",
       "  <thead>\n",
       "    <tr style=\"text-align: right;\">\n",
       "      <th></th>\n",
       "      <th>multidata_1_id</th>\n",
       "      <th>multidata_2_id</th>\n",
       "      <th>ligand</th>\n",
       "      <th>receptor</th>\n",
       "      <th>r_adhesion_mol</th>\n",
       "      <th>reversed</th>\n",
       "      <th>pairs</th>\n",
       "    </tr>\n",
       "  </thead>\n",
       "  <tbody>\n",
       "    <tr>\n",
       "      <th>4</th>\n",
       "      <td>419</td>\n",
       "      <td>799</td>\n",
       "      <td>GNAI2</td>\n",
       "      <td>LHCGR</td>\n",
       "      <td>1.0</td>\n",
       "      <td>NaN</td>\n",
       "      <td>GNAI2_LHCGR</td>\n",
       "    </tr>\n",
       "    <tr>\n",
       "      <th>10</th>\n",
       "      <td>277</td>\n",
       "      <td>477</td>\n",
       "      <td>EGFR</td>\n",
       "      <td>ADRB2</td>\n",
       "      <td>1.0</td>\n",
       "      <td>NaN</td>\n",
       "      <td>EGFR_ADRB2</td>\n",
       "    </tr>\n",
       "    <tr>\n",
       "      <th>11</th>\n",
       "      <td>15</td>\n",
       "      <td>477</td>\n",
       "      <td>PRNP</td>\n",
       "      <td>ADRB2</td>\n",
       "      <td>1.0</td>\n",
       "      <td>NaN</td>\n",
       "      <td>PRNP_ADRB2</td>\n",
       "    </tr>\n",
       "    <tr>\n",
       "      <th>12</th>\n",
       "      <td>90</td>\n",
       "      <td>477</td>\n",
       "      <td>GPR37</td>\n",
       "      <td>ADRB2</td>\n",
       "      <td>1.0</td>\n",
       "      <td>NaN</td>\n",
       "      <td>GPR37_ADRB2</td>\n",
       "    </tr>\n",
       "    <tr>\n",
       "      <th>14</th>\n",
       "      <td>301</td>\n",
       "      <td>477</td>\n",
       "      <td>EGF</td>\n",
       "      <td>ADRB2</td>\n",
       "      <td>1.0</td>\n",
       "      <td>NaN</td>\n",
       "      <td>EGF_ADRB2</td>\n",
       "    </tr>\n",
       "    <tr>\n",
       "      <th>...</th>\n",
       "      <td>...</td>\n",
       "      <td>...</td>\n",
       "      <td>...</td>\n",
       "      <td>...</td>\n",
       "      <td>...</td>\n",
       "      <td>...</td>\n",
       "      <td>...</td>\n",
       "    </tr>\n",
       "    <tr>\n",
       "      <th>6858</th>\n",
       "      <td>2029</td>\n",
       "      <td>2055</td>\n",
       "      <td>LRRC4</td>\n",
       "      <td>PARD6A</td>\n",
       "      <td>1.0</td>\n",
       "      <td>NaN</td>\n",
       "      <td>LRRC4_PARD6A</td>\n",
       "    </tr>\n",
       "    <tr>\n",
       "      <th>6859</th>\n",
       "      <td>2067</td>\n",
       "      <td>2084</td>\n",
       "      <td>RTN4</td>\n",
       "      <td>TNFRSF19</td>\n",
       "      <td>1.0</td>\n",
       "      <td>NaN</td>\n",
       "      <td>RTN4_TNFRSF19</td>\n",
       "    </tr>\n",
       "    <tr>\n",
       "      <th>6862</th>\n",
       "      <td>2133</td>\n",
       "      <td>2225</td>\n",
       "      <td>NTM</td>\n",
       "      <td>THSD7A</td>\n",
       "      <td>1.0</td>\n",
       "      <td>NaN</td>\n",
       "      <td>NTM_THSD7A</td>\n",
       "    </tr>\n",
       "    <tr>\n",
       "      <th>6863</th>\n",
       "      <td>2140</td>\n",
       "      <td>2182</td>\n",
       "      <td>PTGFRN</td>\n",
       "      <td>TMEM59L</td>\n",
       "      <td>1.0</td>\n",
       "      <td>NaN</td>\n",
       "      <td>PTGFRN_TMEM59L</td>\n",
       "    </tr>\n",
       "    <tr>\n",
       "      <th>6864</th>\n",
       "      <td>2217</td>\n",
       "      <td>2266</td>\n",
       "      <td>TNFSF18</td>\n",
       "      <td>TNFRSF18</td>\n",
       "      <td>1.0</td>\n",
       "      <td>NaN</td>\n",
       "      <td>TNFSF18_TNFRSF18</td>\n",
       "    </tr>\n",
       "  </tbody>\n",
       "</table>\n",
       "<p>3084 rows × 7 columns</p>\n",
       "</div>"
      ],
      "text/plain": [
       "      multidata_1_id  multidata_2_id   ligand  receptor  r_adhesion_mol  \\\n",
       "4                419             799    GNAI2     LHCGR             1.0   \n",
       "10               277             477     EGFR     ADRB2             1.0   \n",
       "11                15             477     PRNP     ADRB2             1.0   \n",
       "12                90             477    GPR37     ADRB2             1.0   \n",
       "14               301             477      EGF     ADRB2             1.0   \n",
       "...              ...             ...      ...       ...             ...   \n",
       "6858            2029            2055    LRRC4    PARD6A             1.0   \n",
       "6859            2067            2084     RTN4  TNFRSF19             1.0   \n",
       "6862            2133            2225      NTM    THSD7A             1.0   \n",
       "6863            2140            2182   PTGFRN   TMEM59L             1.0   \n",
       "6864            2217            2266  TNFSF18  TNFRSF18             1.0   \n",
       "\n",
       "      reversed             pairs  \n",
       "4          NaN       GNAI2_LHCGR  \n",
       "10         NaN        EGFR_ADRB2  \n",
       "11         NaN        PRNP_ADRB2  \n",
       "12         NaN       GPR37_ADRB2  \n",
       "14         NaN         EGF_ADRB2  \n",
       "...        ...               ...  \n",
       "6858       NaN      LRRC4_PARD6A  \n",
       "6859       NaN     RTN4_TNFRSF19  \n",
       "6862       NaN        NTM_THSD7A  \n",
       "6863       NaN    PTGFRN_TMEM59L  \n",
       "6864       NaN  TNFSF18_TNFRSF18  \n",
       "\n",
       "[3084 rows x 7 columns]"
      ]
     },
     "execution_count": 39,
     "metadata": {},
     "output_type": "execute_result"
    }
   ],
   "source": [
    "interaction[interaction[\"r_adhesion_mol\"]==1]"
   ]
  },
  {
   "cell_type": "code",
   "execution_count": 40,
   "id": "7c0baff2",
   "metadata": {},
   "outputs": [],
   "source": [
    "# ok so, CPDB assigns their own IDs to each gene, and these are assigned by sorting their uniprotIDs\n",
    "# alphabetically. \n",
    "\n",
    "#and the smaller ids gets to multidata_1_id and greater ids gets to multidata_2_id\n",
    "\n",
    "letsee=interaction.loc[interaction['pairs'].isin(notinours)]\n",
    "for x in range(len(letsee)):\n",
    "    p_id1 = letsee.iloc[x].multidata_1_id\n",
    "    p_id2 = letsee.iloc[x].multidata_2_id\n",
    "    \n",
    "    if p_id1 > p_id2:\n",
    "        print(p_id1)"
   ]
  },
  {
   "cell_type": "code",
   "execution_count": 41,
   "id": "cf2fc3d1",
   "metadata": {},
   "outputs": [],
   "source": [
    "# lets check if those ones in our submited as reversed pairs. \n",
    "for x in notinours:\n",
    "    component=x.split(\"_\")\n",
    "    part1=component[0]\n",
    "    part2=component[1]\n",
    "    repair=part2+\"_\"+part1\n",
    "    if repair not in combined[\"Pair.Name\"].values:\n",
    "        print(x,\"fuck\")\n",
    "    if interaction[interaction[\"pairs\"]==x].r_adhesion_mol.values==0 and interaction[interaction[\"pairs\"]==x].l_adhesion_mol.values==0:\n",
    "        print(x)\n",
    "        "
   ]
  },
  {
   "cell_type": "markdown",
   "id": "77359496",
   "metadata": {},
   "source": [
    "# we get the intersection of these two"
   ]
  },
  {
   "cell_type": "code",
   "execution_count": 42,
   "id": "52a17e6f",
   "metadata": {},
   "outputs": [],
   "source": [
    "intersection=[x for x in interaction.pairs.values if x in combined[\"Pair.Name\"].values]"
   ]
  },
  {
   "cell_type": "code",
   "execution_count": 43,
   "id": "7fd12514",
   "metadata": {},
   "outputs": [],
   "source": [
    "intersect_db=combined.loc[combined['Pair.Name'].isin(intersection)]"
   ]
  },
  {
   "cell_type": "code",
   "execution_count": 44,
   "id": "d25f6842",
   "metadata": {},
   "outputs": [],
   "source": [
    "intersect_db=intersect_db.reset_index()"
   ]
  },
  {
   "cell_type": "code",
   "execution_count": 45,
   "id": "29d61e6b",
   "metadata": {},
   "outputs": [
    {
     "data": {
      "text/html": [
       "<div>\n",
       "<style scoped>\n",
       "    .dataframe tbody tr th:only-of-type {\n",
       "        vertical-align: middle;\n",
       "    }\n",
       "\n",
       "    .dataframe tbody tr th {\n",
       "        vertical-align: top;\n",
       "    }\n",
       "\n",
       "    .dataframe thead th {\n",
       "        text-align: right;\n",
       "    }\n",
       "</style>\n",
       "<table border=\"1\" class=\"dataframe\">\n",
       "  <thead>\n",
       "    <tr style=\"text-align: right;\">\n",
       "      <th></th>\n",
       "      <th>index</th>\n",
       "      <th>Pair.Name</th>\n",
       "      <th>protein_name_a</th>\n",
       "      <th>Ligand.Name</th>\n",
       "      <th>protein_name_b</th>\n",
       "      <th>Receptor.Name</th>\n",
       "      <th>complex_pair</th>\n",
       "      <th>partner_a</th>\n",
       "      <th>partner_b</th>\n",
       "      <th>source</th>\n",
       "      <th>...</th>\n",
       "      <th>consensus_direction</th>\n",
       "      <th>consensus_stimulation</th>\n",
       "      <th>consensus_inhibition</th>\n",
       "      <th>sources</th>\n",
       "      <th>references</th>\n",
       "      <th>curation_effort</th>\n",
       "      <th>n_references</th>\n",
       "      <th>n_resources</th>\n",
       "      <th>annotation_strategy</th>\n",
       "      <th>db</th>\n",
       "    </tr>\n",
       "  </thead>\n",
       "  <tbody>\n",
       "    <tr>\n",
       "      <th>0</th>\n",
       "      <td>0</td>\n",
       "      <td>A2M_LRP1</td>\n",
       "      <td>A2M</td>\n",
       "      <td>alpha-2-macroglobulin</td>\n",
       "      <td>LRP1</td>\n",
       "      <td>LDL receptor related protein 1</td>\n",
       "      <td>NaN</td>\n",
       "      <td>P01023</td>\n",
       "      <td>Q07954</td>\n",
       "      <td>OmniPath</td>\n",
       "      <td>...</td>\n",
       "      <td>1</td>\n",
       "      <td>1</td>\n",
       "      <td>0</td>\n",
       "      <td>AlzPathway;Baccin2019;CellTalkDB;EMBRACE;Fanto...</td>\n",
       "      <td>AlzPathway:19026743;Baccin2019:10652313;Baccin...</td>\n",
       "      <td>11</td>\n",
       "      <td>4</td>\n",
       "      <td>11</td>\n",
       "      <td>LR</td>\n",
       "      <td>both</td>\n",
       "    </tr>\n",
       "    <tr>\n",
       "      <th>1</th>\n",
       "      <td>1</td>\n",
       "      <td>AANAT_MTNR1A</td>\n",
       "      <td>AANAT</td>\n",
       "      <td>aralkylamine N-acetyltransferase</td>\n",
       "      <td>MTNR1A</td>\n",
       "      <td>melatonin receptor 1A</td>\n",
       "      <td>NaN</td>\n",
       "      <td>Q16613</td>\n",
       "      <td>P48039</td>\n",
       "      <td>OmniPath</td>\n",
       "      <td>...</td>\n",
       "      <td>1</td>\n",
       "      <td>1</td>\n",
       "      <td>0</td>\n",
       "      <td>Baccin2019;CellTalkDB;Fantom5_LRdb;HPMR;HPMR_L...</td>\n",
       "      <td>Baccin2019:12943195;CellTalkDB:12943195;HPMR:1...</td>\n",
       "      <td>5</td>\n",
       "      <td>1</td>\n",
       "      <td>9</td>\n",
       "      <td>LR</td>\n",
       "      <td>both</td>\n",
       "    </tr>\n",
       "    <tr>\n",
       "      <th>2</th>\n",
       "      <td>2</td>\n",
       "      <td>AANAT_MTNR1B</td>\n",
       "      <td>AANAT</td>\n",
       "      <td>aralkylamine N-acetyltransferase</td>\n",
       "      <td>MTNR1B</td>\n",
       "      <td>melatonin receptor 1B</td>\n",
       "      <td>NaN</td>\n",
       "      <td>Q16613</td>\n",
       "      <td>P49286</td>\n",
       "      <td>OmniPath</td>\n",
       "      <td>...</td>\n",
       "      <td>1</td>\n",
       "      <td>1</td>\n",
       "      <td>0</td>\n",
       "      <td>Baccin2019;CellTalkDB;Fantom5_LRdb;HPMR_LRdb;H...</td>\n",
       "      <td>Baccin2019:12943195;CellTalkDB:12943195;LRdb:1...</td>\n",
       "      <td>4</td>\n",
       "      <td>1</td>\n",
       "      <td>8</td>\n",
       "      <td>LR</td>\n",
       "      <td>both</td>\n",
       "    </tr>\n",
       "    <tr>\n",
       "      <th>3</th>\n",
       "      <td>3</td>\n",
       "      <td>ABCA1_SHANK1</td>\n",
       "      <td>ABCA1</td>\n",
       "      <td>ATP binding cassette subfamily A member 1</td>\n",
       "      <td>SHANK1</td>\n",
       "      <td>SH3 and multiple ankyrin repeat domains 1</td>\n",
       "      <td>NaN</td>\n",
       "      <td>O95477</td>\n",
       "      <td>Q9Y566</td>\n",
       "      <td>OmniPath</td>\n",
       "      <td>...</td>\n",
       "      <td>0</td>\n",
       "      <td>0</td>\n",
       "      <td>0</td>\n",
       "      <td>Baccin2019;HPRD;Ramilowski2015_Baccin2019</td>\n",
       "      <td>HPRD:16192279</td>\n",
       "      <td>1</td>\n",
       "      <td>1</td>\n",
       "      <td>2</td>\n",
       "      <td>LR</td>\n",
       "      <td>LR</td>\n",
       "    </tr>\n",
       "    <tr>\n",
       "      <th>4</th>\n",
       "      <td>4</td>\n",
       "      <td>ACE_AGTR2</td>\n",
       "      <td>ACE</td>\n",
       "      <td>angiotensin I converting enzyme</td>\n",
       "      <td>AGTR2</td>\n",
       "      <td>angiotensin II receptor type 2</td>\n",
       "      <td>NaN</td>\n",
       "      <td>P12821</td>\n",
       "      <td>P50052</td>\n",
       "      <td>OmniPath</td>\n",
       "      <td>...</td>\n",
       "      <td>0</td>\n",
       "      <td>0</td>\n",
       "      <td>0</td>\n",
       "      <td>Baccin2019;CellTalkDB;Fantom5_LRdb;HPRD;HPRD_L...</td>\n",
       "      <td>Baccin2019:11459796;HPRD:11459796;LRdb:11459796</td>\n",
       "      <td>3</td>\n",
       "      <td>1</td>\n",
       "      <td>7</td>\n",
       "      <td>LR</td>\n",
       "      <td>LR</td>\n",
       "    </tr>\n",
       "    <tr>\n",
       "      <th>...</th>\n",
       "      <td>...</td>\n",
       "      <td>...</td>\n",
       "      <td>...</td>\n",
       "      <td>...</td>\n",
       "      <td>...</td>\n",
       "      <td>...</td>\n",
       "      <td>...</td>\n",
       "      <td>...</td>\n",
       "      <td>...</td>\n",
       "      <td>...</td>\n",
       "      <td>...</td>\n",
       "      <td>...</td>\n",
       "      <td>...</td>\n",
       "      <td>...</td>\n",
       "      <td>...</td>\n",
       "      <td>...</td>\n",
       "      <td>...</td>\n",
       "      <td>...</td>\n",
       "      <td>...</td>\n",
       "      <td>...</td>\n",
       "      <td>...</td>\n",
       "    </tr>\n",
       "    <tr>\n",
       "      <th>5757</th>\n",
       "      <td>7237</td>\n",
       "      <td>TNFRSF10B_TNFSF10</td>\n",
       "      <td>TNFRSF10B</td>\n",
       "      <td>TNF receptor superfamily member 10b</td>\n",
       "      <td>TNFSF10</td>\n",
       "      <td>TNF superfamily member 10</td>\n",
       "      <td>NaN</td>\n",
       "      <td>O14763</td>\n",
       "      <td>P50591</td>\n",
       "      <td>OmniPath</td>\n",
       "      <td>...</td>\n",
       "      <td>0</td>\n",
       "      <td>0</td>\n",
       "      <td>0</td>\n",
       "      <td>BioGRID;CellCall;HPMR;HPRD;InnateDB;IntAct;Lit...</td>\n",
       "      <td>BioGRID:11094155;BioGRID:9311998;HPMR:15766588...</td>\n",
       "      <td>30</td>\n",
       "      <td>20</td>\n",
       "      <td>9</td>\n",
       "      <td>curated</td>\n",
       "      <td>curated</td>\n",
       "    </tr>\n",
       "    <tr>\n",
       "      <th>5758</th>\n",
       "      <td>7238</td>\n",
       "      <td>TNFRSF10C_TNFSF10</td>\n",
       "      <td>TNFRSF10C</td>\n",
       "      <td>TNF receptor superfamily member 10c</td>\n",
       "      <td>TNFSF10</td>\n",
       "      <td>TNF superfamily member 10</td>\n",
       "      <td>NaN</td>\n",
       "      <td>O14798</td>\n",
       "      <td>P50591</td>\n",
       "      <td>OmniPath</td>\n",
       "      <td>...</td>\n",
       "      <td>0</td>\n",
       "      <td>0</td>\n",
       "      <td>0</td>\n",
       "      <td>HPMR;HPRD;Lit-BM-17;SIGNOR;SPIKE</td>\n",
       "      <td>HPMR:9325248;HPRD:9314565;HPRD:9325248;HPRD:96...</td>\n",
       "      <td>8</td>\n",
       "      <td>4</td>\n",
       "      <td>5</td>\n",
       "      <td>curated</td>\n",
       "      <td>curated</td>\n",
       "    </tr>\n",
       "    <tr>\n",
       "      <th>5759</th>\n",
       "      <td>7240</td>\n",
       "      <td>TNFRSF11B_TNFSF11</td>\n",
       "      <td>TNFRSF11B</td>\n",
       "      <td>TNF receptor superfamily member 11b</td>\n",
       "      <td>TNFSF11</td>\n",
       "      <td>TNF superfamily member 11</td>\n",
       "      <td>NaN</td>\n",
       "      <td>O00300</td>\n",
       "      <td>O14788</td>\n",
       "      <td>OmniPath</td>\n",
       "      <td>...</td>\n",
       "      <td>0</td>\n",
       "      <td>0</td>\n",
       "      <td>0</td>\n",
       "      <td>CellPhoneDB;HPMR;HPRD;IntAct;NetPath;Wang</td>\n",
       "      <td>HPMR:9568710;HPRD:12221720;HPRD:9520411;IntAct...</td>\n",
       "      <td>6</td>\n",
       "      <td>5</td>\n",
       "      <td>6</td>\n",
       "      <td>curated</td>\n",
       "      <td>curated</td>\n",
       "    </tr>\n",
       "    <tr>\n",
       "      <th>5760</th>\n",
       "      <td>7243</td>\n",
       "      <td>TNFRSF6B_FASLG</td>\n",
       "      <td>TNFRSF6B</td>\n",
       "      <td>TNF receptor superfamily member 6b</td>\n",
       "      <td>FASLG</td>\n",
       "      <td>Fas ligand</td>\n",
       "      <td>NaN</td>\n",
       "      <td>O95407</td>\n",
       "      <td>P48023</td>\n",
       "      <td>OmniPath</td>\n",
       "      <td>...</td>\n",
       "      <td>0</td>\n",
       "      <td>0</td>\n",
       "      <td>0</td>\n",
       "      <td>BioGRID;CellPhoneDB;HPMR;HPRD;SIGNOR;Wang</td>\n",
       "      <td>BioGRID:9872321;HPMR:14697332;HPRD:10318773;HP...</td>\n",
       "      <td>6</td>\n",
       "      <td>4</td>\n",
       "      <td>6</td>\n",
       "      <td>curated</td>\n",
       "      <td>curated</td>\n",
       "    </tr>\n",
       "    <tr>\n",
       "      <th>5761</th>\n",
       "      <td>7245</td>\n",
       "      <td>TYRO3_GAS6</td>\n",
       "      <td>TYRO3</td>\n",
       "      <td>TYRO3 protein tyrosine kinase</td>\n",
       "      <td>GAS6</td>\n",
       "      <td>growth arrest specific 6</td>\n",
       "      <td>NaN</td>\n",
       "      <td>Q06418</td>\n",
       "      <td>Q14393</td>\n",
       "      <td>OmniPath</td>\n",
       "      <td>...</td>\n",
       "      <td>0</td>\n",
       "      <td>0</td>\n",
       "      <td>0</td>\n",
       "      <td>BioGRID;HPMR;HPRD;InnateDB;PhosphoPoint</td>\n",
       "      <td>BioGRID:8621659;BioGRID:8939948;HPMR:7867073;H...</td>\n",
       "      <td>6</td>\n",
       "      <td>3</td>\n",
       "      <td>5</td>\n",
       "      <td>curated</td>\n",
       "      <td>curated</td>\n",
       "    </tr>\n",
       "  </tbody>\n",
       "</table>\n",
       "<p>5762 rows × 26 columns</p>\n",
       "</div>"
      ],
      "text/plain": [
       "      index          Pair.Name protein_name_a  \\\n",
       "0         0           A2M_LRP1            A2M   \n",
       "1         1       AANAT_MTNR1A          AANAT   \n",
       "2         2       AANAT_MTNR1B          AANAT   \n",
       "3         3       ABCA1_SHANK1          ABCA1   \n",
       "4         4          ACE_AGTR2            ACE   \n",
       "...     ...                ...            ...   \n",
       "5757   7237  TNFRSF10B_TNFSF10      TNFRSF10B   \n",
       "5758   7238  TNFRSF10C_TNFSF10      TNFRSF10C   \n",
       "5759   7240  TNFRSF11B_TNFSF11      TNFRSF11B   \n",
       "5760   7243     TNFRSF6B_FASLG       TNFRSF6B   \n",
       "5761   7245         TYRO3_GAS6          TYRO3   \n",
       "\n",
       "                                    Ligand.Name protein_name_b  \\\n",
       "0                         alpha-2-macroglobulin           LRP1   \n",
       "1              aralkylamine N-acetyltransferase         MTNR1A   \n",
       "2              aralkylamine N-acetyltransferase         MTNR1B   \n",
       "3     ATP binding cassette subfamily A member 1         SHANK1   \n",
       "4               angiotensin I converting enzyme          AGTR2   \n",
       "...                                         ...            ...   \n",
       "5757        TNF receptor superfamily member 10b        TNFSF10   \n",
       "5758        TNF receptor superfamily member 10c        TNFSF10   \n",
       "5759        TNF receptor superfamily member 11b        TNFSF11   \n",
       "5760         TNF receptor superfamily member 6b          FASLG   \n",
       "5761              TYRO3 protein tyrosine kinase           GAS6   \n",
       "\n",
       "                                  Receptor.Name complex_pair partner_a  \\\n",
       "0                LDL receptor related protein 1          NaN    P01023   \n",
       "1                         melatonin receptor 1A          NaN    Q16613   \n",
       "2                         melatonin receptor 1B          NaN    Q16613   \n",
       "3     SH3 and multiple ankyrin repeat domains 1          NaN    O95477   \n",
       "4                angiotensin II receptor type 2          NaN    P12821   \n",
       "...                                         ...          ...       ...   \n",
       "5757                  TNF superfamily member 10          NaN    O14763   \n",
       "5758                  TNF superfamily member 10          NaN    O14798   \n",
       "5759                  TNF superfamily member 11          NaN    O00300   \n",
       "5760                                 Fas ligand          NaN    O95407   \n",
       "5761                   growth arrest specific 6          NaN    Q06418   \n",
       "\n",
       "     partner_b    source  ... consensus_direction consensus_stimulation  \\\n",
       "0       Q07954  OmniPath  ...                   1                     1   \n",
       "1       P48039  OmniPath  ...                   1                     1   \n",
       "2       P49286  OmniPath  ...                   1                     1   \n",
       "3       Q9Y566  OmniPath  ...                   0                     0   \n",
       "4       P50052  OmniPath  ...                   0                     0   \n",
       "...        ...       ...  ...                 ...                   ...   \n",
       "5757    P50591  OmniPath  ...                   0                     0   \n",
       "5758    P50591  OmniPath  ...                   0                     0   \n",
       "5759    O14788  OmniPath  ...                   0                     0   \n",
       "5760    P48023  OmniPath  ...                   0                     0   \n",
       "5761    Q14393  OmniPath  ...                   0                     0   \n",
       "\n",
       "     consensus_inhibition                                            sources  \\\n",
       "0                       0  AlzPathway;Baccin2019;CellTalkDB;EMBRACE;Fanto...   \n",
       "1                       0  Baccin2019;CellTalkDB;Fantom5_LRdb;HPMR;HPMR_L...   \n",
       "2                       0  Baccin2019;CellTalkDB;Fantom5_LRdb;HPMR_LRdb;H...   \n",
       "3                       0          Baccin2019;HPRD;Ramilowski2015_Baccin2019   \n",
       "4                       0  Baccin2019;CellTalkDB;Fantom5_LRdb;HPRD;HPRD_L...   \n",
       "...                   ...                                                ...   \n",
       "5757                    0  BioGRID;CellCall;HPMR;HPRD;InnateDB;IntAct;Lit...   \n",
       "5758                    0                   HPMR;HPRD;Lit-BM-17;SIGNOR;SPIKE   \n",
       "5759                    0          CellPhoneDB;HPMR;HPRD;IntAct;NetPath;Wang   \n",
       "5760                    0          BioGRID;CellPhoneDB;HPMR;HPRD;SIGNOR;Wang   \n",
       "5761                    0            BioGRID;HPMR;HPRD;InnateDB;PhosphoPoint   \n",
       "\n",
       "                                             references  curation_effort  \\\n",
       "0     AlzPathway:19026743;Baccin2019:10652313;Baccin...               11   \n",
       "1     Baccin2019:12943195;CellTalkDB:12943195;HPMR:1...                5   \n",
       "2     Baccin2019:12943195;CellTalkDB:12943195;LRdb:1...                4   \n",
       "3                                         HPRD:16192279                1   \n",
       "4       Baccin2019:11459796;HPRD:11459796;LRdb:11459796                3   \n",
       "...                                                 ...              ...   \n",
       "5757  BioGRID:11094155;BioGRID:9311998;HPMR:15766588...               30   \n",
       "5758  HPMR:9325248;HPRD:9314565;HPRD:9325248;HPRD:96...                8   \n",
       "5759  HPMR:9568710;HPRD:12221720;HPRD:9520411;IntAct...                6   \n",
       "5760  BioGRID:9872321;HPMR:14697332;HPRD:10318773;HP...                6   \n",
       "5761  BioGRID:8621659;BioGRID:8939948;HPMR:7867073;H...                6   \n",
       "\n",
       "      n_references  n_resources  annotation_strategy       db  \n",
       "0                4           11                   LR     both  \n",
       "1                1            9                   LR     both  \n",
       "2                1            8                   LR     both  \n",
       "3                1            2                   LR       LR  \n",
       "4                1            7                   LR       LR  \n",
       "...            ...          ...                  ...      ...  \n",
       "5757            20            9              curated  curated  \n",
       "5758             4            5              curated  curated  \n",
       "5759             5            6              curated  curated  \n",
       "5760             4            6              curated  curated  \n",
       "5761             3            5              curated  curated  \n",
       "\n",
       "[5762 rows x 26 columns]"
      ]
     },
     "execution_count": 45,
     "metadata": {},
     "output_type": "execute_result"
    }
   ],
   "source": [
    "intersect_db"
   ]
  },
  {
   "cell_type": "markdown",
   "id": "ba281674",
   "metadata": {},
   "source": [
    "# put the intersection DB in to a structure so we can generate CPDB database"
   ]
  },
  {
   "cell_type": "code",
   "execution_count": 46,
   "id": "c8cf5a00",
   "metadata": {},
   "outputs": [],
   "source": [
    "name2id=dict()\n",
    "for x in range(0,len(intersect_db)):\n",
    "    if intersect_db.iloc[x].protein_name_a in name2id and intersect_db.iloc[x].protein_name_b in name2id:\n",
    "        continue\n",
    "    else:\n",
    "        name2id[intersect_db.iloc[x].protein_name_a]=intersect_db.iloc[x].partner_a\n",
    "        name2id[intersect_db.iloc[x].protein_name_b]=intersect_db.iloc[x].partner_b\n",
    "        "
   ]
  },
  {
   "cell_type": "code",
   "execution_count": null,
   "id": "7453cee3",
   "metadata": {},
   "outputs": [],
   "source": []
  },
  {
   "cell_type": "code",
   "execution_count": 47,
   "id": "f589fa9b",
   "metadata": {},
   "outputs": [],
   "source": [
    "df={\"gene_name\":[],\n",
    "   \"uniprot\":[],\n",
    "   \"hgnc_symbol\":[],\n",
    "   \"ensembl\":[]}\n",
    "\n",
    "\n",
    "for symbol,uniprot in name2id.items():\n",
    "    df[\"gene_name\"].append(symbol)\n",
    "    df[\"uniprot\"].append(uniprot)\n",
    "    df[\"hgnc_symbol\"].append(symbol)\n",
    "    df[\"ensembl\"].append(rec_dict[uniprot])\n",
    "\n",
    "df=pd.DataFrame(df)\n",
    "\n",
    "df[\"ensembl\"] = df[\"ensembl\"].str.split(\".\").str[0]\n",
    "prot = df.loc[:, [\"uniprot\", \"hgnc_symbol\"]]\n",
    "prot[\"hgnc_symbol\"] = df[\"hgnc_symbol\"] + \"_HUMAN\"\n",
    "prot = prot.rename(columns={\"hgnc_symbol\": \"protein_name\"})\n",
    "prot['receptor']=[1 if uniprot in combined['partner_b'].values else 0 for uniprot in prot['uniprot']]\n",
    "df.to_csv('gene_user1.csv', index=False)\n",
    "prot.to_csv('prot_user1.csv', index=False)\n",
    "intersect_db.to_csv('intersect_db.csv', index=False)"
   ]
  },
  {
   "cell_type": "code",
   "execution_count": null,
   "id": "f0af88e8",
   "metadata": {},
   "outputs": [],
   "source": []
  },
  {
   "cell_type": "markdown",
   "id": "a9465dc0",
   "metadata": {},
   "source": [
    "# generate custom DB with the below command again. \n",
    "\n",
    "```cellphonedb database generate --user-interactions intersect_db.csv --user-interactions-only --user-protein prot_user1.csv --user-gene gene_user1.csv --result-path combined17```"
   ]
  },
  {
   "cell_type": "code",
   "execution_count": 48,
   "id": "b2e4d3a7",
   "metadata": {},
   "outputs": [],
   "source": [
    "#includes IDs of interactions called multi_id. The IDs are assigned by cpdb.\n",
    "\n",
    "interaction = pd.read_csv ('./combined19/csv/interaction_table.csv', index_col=False)\n",
    "interaction = interaction.iloc[:, [2,3]]\n",
    "\n",
    "#tables for gene_symbols and uniprotIDs\n",
    "gene_table = pd.read_csv ('./combined19/csv/gene_table.csv', index_col=False)\n",
    "gene_table = gene_table.iloc[:, [3,4]].copy()\n",
    "protein_name = pd.read_csv ('./combined19/csv/protein_table.csv', index_col=False)\n",
    "protein_name = protein_name.iloc[:, [1,5]].copy()\n",
    "\n",
    "#includes multi_id, name, receptor, receptor_desc, secreted etc... \n",
    "#This is the table we check whether a protein is ligand or receptor\n",
    "multi = pd.read_csv ('./combined19/csv/multidata_table.csv', index_col=None)\n",
    "\n",
    "#we seperate ligands and receptors into different df\n",
    "receptor = multi[multi['receptor'] == 1]\n",
    "receptor = receptor.iloc[:, [0,1]]\n",
    "ligand = multi[multi['receptor'] == 0]\n",
    "ligand = ligand.iloc[:, [0,1]]\n",
    "\n",
    "\n",
    "# assign gene symbols for ligand /// assign prot_names not gene symbols.\n",
    "df = pd.DataFrame()\n",
    "for x in range(len(interaction)):\n",
    "    p_id1 = interaction.loc[x].multidata_1_id\n",
    "    p_id2 = interaction.loc[x].multidata_2_id\n",
    "\n",
    "    symbol1 = gene_table.loc[gene_table['protein_id'] == p_id1]\n",
    "    symbol1 = symbol1[symbol1['hgnc_symbol'].notna()]\n",
    "    symbol1 = symbol1.hgnc_symbol.unique()\n",
    "    p_name1 = protein_name.loc[protein_name['protein_multidata_id'] == p_id1].protein_name\n",
    "    p_name1 = p_name1.str.replace('_HUMAN', '')\n",
    "    symbol1 = p_name1\n",
    "    \n",
    "    symbol2 = gene_table.loc[gene_table['protein_id'] == p_id2]\n",
    "    symbol2 = symbol2[symbol2['hgnc_symbol'].notna()]\n",
    "    symbol2 = symbol2.hgnc_symbol.unique()\n",
    "    p_name2 = protein_name.loc[protein_name['protein_multidata_id'] == p_id2].protein_name\n",
    "    p_name2 = p_name2.str.replace('_HUMAN', '')\n",
    "    symbol2 = p_name2\n",
    "\n",
    "#     if not list(symbol1)[0] or not list(symbol2)[0]:\n",
    "#         print(symbol1, symbol2)\n",
    "    \n",
    "    #cellphoneDB, does not follow our structure, where ligands in one column and receptors others. \n",
    "    #so to convert the structure into ours we aggregate ligands under multidata_1_id \n",
    "    #and receptors under multidata_2_id\n",
    "    \n",
    "    \n",
    "    # if ligand is in other column, swap the values.\n",
    "    if p_id1 in receptor.id_multidata.values and p_id2 in ligand.id_multidata.values:\n",
    "        interaction.at[x, 'reversed'] = 1\n",
    "        interaction.at[x, 'multidata_1_id'] = p_id2\n",
    "        interaction.at[x, 'multidata_2_id'] = p_id1\n",
    "        \n",
    "        interaction.at[x, 'ligand'] = list(symbol2)[0]\n",
    "        interaction.at[x, 'receptor'] = list(symbol1)[0]\n",
    "        \n",
    "    # if both of them are annotated as receptor, leave it that way.\n",
    "    elif p_id1 in receptor.id_multidata.values and p_id2 in receptor.id_multidata.values:\n",
    "        interaction.at[x, 'r_adhesion_mol'] = 1\n",
    "        interaction.at[x, 'ligand'] = list(symbol1)[0]\n",
    "        interaction.at[x, 'receptor'] = list(symbol2)[0]\n",
    "    else:\n",
    "        interaction.at[x, 'ligand'] = list(symbol1)[0]\n",
    "        interaction.at[x, 'receptor'] = list(symbol2)[0]\n",
    "        \n",
    "        \n",
    "        \n",
    "#     interaction.at[x, 'ligand'] = list(p_name1)[0]\n",
    "#     interaction.at[x, 'l_complex'] = 0\n",
    "    #get those ligands that have more than one symbol in a seperate df\n",
    "    #this part can be taken out as no need anymore?\n",
    "#     if len(symbol) > 1:\n",
    "#         print(\"hereeeee\", symbol, \"---\", p_id)\n",
    "#         entry=i.loc[x].to_frame().transpose()\n",
    "#         df = pd.concat([df,entry])\n",
    "#         df.at[x, 'ligand'] = symbol\n",
    "\n",
    "\n",
    "# create pairs\n",
    "interaction[\"pairs\"]=interaction[[\"ligand\", \"receptor\"]].apply(\"_\".join, axis=1)"
   ]
  },
  {
   "cell_type": "code",
   "execution_count": 49,
   "id": "69f1e92e",
   "metadata": {},
   "outputs": [],
   "source": [
    "#list of intersaction pairs\n",
    "\n",
    "combined = pd.read_csv ('intersect_db.csv', index_col=False)"
   ]
  },
  {
   "cell_type": "code",
   "execution_count": 50,
   "id": "8de77179",
   "metadata": {},
   "outputs": [
    {
     "data": {
      "text/plain": [
       "0"
      ]
     },
     "execution_count": 50,
     "metadata": {},
     "output_type": "execute_result"
    }
   ],
   "source": [
    "len([x for x in combined[\"Pair.Name\"].values if x not in interaction.pairs.values])"
   ]
  },
  {
   "cell_type": "code",
   "execution_count": 51,
   "id": "80af0e3c",
   "metadata": {},
   "outputs": [
    {
     "data": {
      "text/plain": [
       "[]"
      ]
     },
     "execution_count": 51,
     "metadata": {},
     "output_type": "execute_result"
    }
   ],
   "source": [
    "[x for x in interaction.pairs.values if x not in combined[\"Pair.Name\"].values]"
   ]
  },
  {
   "cell_type": "code",
   "execution_count": null,
   "id": "99da70f4",
   "metadata": {},
   "outputs": [],
   "source": [
    "pwd"
   ]
  },
  {
   "cell_type": "code",
   "execution_count": null,
   "id": "2e581a4f",
   "metadata": {},
   "outputs": [],
   "source": []
  }
 ],
 "metadata": {
  "kernelspec": {
   "display_name": "Python 3 (ipykernel)",
   "language": "python",
   "name": "python3"
  },
  "language_info": {
   "codemirror_mode": {
    "name": "ipython",
    "version": 3
   },
   "file_extension": ".py",
   "mimetype": "text/x-python",
   "name": "python",
   "nbconvert_exporter": "python",
   "pygments_lexer": "ipython3",
   "version": "3.10.6"
  }
 },
 "nbformat": 4,
 "nbformat_minor": 5
}
