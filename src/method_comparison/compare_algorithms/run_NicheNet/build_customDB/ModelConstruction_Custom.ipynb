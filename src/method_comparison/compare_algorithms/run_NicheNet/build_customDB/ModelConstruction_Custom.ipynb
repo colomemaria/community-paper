{
 "cells": [
  {
   "cell_type": "code",
   "execution_count": 1,
   "id": "fc265749",
   "metadata": {},
   "outputs": [
    {
     "name": "stderr",
     "output_type": "stream",
     "text": [
      "── \u001b[1mAttaching packages\u001b[22m ────────────────────────────────────────────────────────────────────────────────────────────────────────────────────────────────────────────────────────────────── tidyverse 1.3.2 ──\n",
      "\u001b[32m✔\u001b[39m \u001b[34mggplot2\u001b[39m 3.4.2      \u001b[32m✔\u001b[39m \u001b[34mpurrr  \u001b[39m 0.3.5 \n",
      "\u001b[32m✔\u001b[39m \u001b[34mtibble \u001b[39m 3.2.1      \u001b[32m✔\u001b[39m \u001b[34mdplyr  \u001b[39m 1.0.10\n",
      "\u001b[32m✔\u001b[39m \u001b[34mtidyr  \u001b[39m 1.2.1      \u001b[32m✔\u001b[39m \u001b[34mstringr\u001b[39m 1.5.0 \n",
      "\u001b[32m✔\u001b[39m \u001b[34mreadr  \u001b[39m 2.1.3      \u001b[32m✔\u001b[39m \u001b[34mforcats\u001b[39m 0.5.2 \n",
      "── \u001b[1mConflicts\u001b[22m ───────────────────────────────────────────────────────────────────────────────────────────────────────────────────────────────────────────────────────────────────── tidyverse_conflicts() ──\n",
      "\u001b[31m✖\u001b[39m \u001b[34mdplyr\u001b[39m::\u001b[32mfilter()\u001b[39m masks \u001b[34mstats\u001b[39m::filter()\n",
      "\u001b[31m✖\u001b[39m \u001b[34mdplyr\u001b[39m::\u001b[32mlag()\u001b[39m    masks \u001b[34mstats\u001b[39m::lag()\n"
     ]
    }
   ],
   "source": [
    "library(nichenetr)\n",
    "library(tidyverse)"
   ]
  },
  {
   "cell_type": "code",
   "execution_count": 2,
   "id": "36e90a53",
   "metadata": {},
   "outputs": [],
   "source": [
    "## We load the networks generated in the ParameterOptimization script\n",
    "lr_network_Omnipath = readRDS(\"../../../../../results/method_comparison/build_customDB/NicheNet/lig_rec_sources.rds\")\n",
    "sig_network_Omnipath = readRDS(\"../../../../../results/method_comparison/build_customDB/NicheNet/sig_Network.rds\")\n",
    "gr_network_Omnipath = readRDS(\"../../../../../results/method_comparison/build_customDB/NicheNet/gr_Network.rds\")"
   ]
  },
  {
   "cell_type": "code",
   "execution_count": null,
   "id": "dec10499",
   "metadata": {},
   "outputs": [],
   "source": []
  },
  {
   "cell_type": "markdown",
   "id": "551510e8",
   "metadata": {},
   "source": [
    "# Construct NicheNet’s ligand-target model from unoptimized data source weights\n"
   ]
  },
  {
   "cell_type": "code",
   "execution_count": 7,
   "id": "0e197883",
   "metadata": {},
   "outputs": [],
   "source": [
    "## The interactions are weighted only based in the number of data sources that\n",
    "## report them\n",
    "All_sources <- unique(c(lr_network_Omnipath$source,\n",
    "    sig_network_Omnipath$source, gr_network_Omnipath$source))"
   ]
  },
  {
   "cell_type": "code",
   "execution_count": 8,
   "id": "c9948a5e",
   "metadata": {},
   "outputs": [],
   "source": [
    "my_source_weights_df <- \n",
    "     tibble(source = All_sources, weight = rep(1,length(All_sources)))"
   ]
  },
  {
   "cell_type": "code",
   "execution_count": 9,
   "id": "495678d2",
   "metadata": {},
   "outputs": [],
   "source": [
    "weighted_networks <- construct_weighted_networks(\n",
    "    lr_network = lr_network_Omnipath, \n",
    "    sig_network = sig_network_Omnipath, \n",
    "    gr_network = gr_network_Omnipath, \n",
    "    source_weights_df = my_source_weights_df)"
   ]
  },
  {
   "cell_type": "code",
   "execution_count": 10,
   "id": "3dc9e94b",
   "metadata": {},
   "outputs": [],
   "source": [
    "## We read the results of the optimization \n",
    "resultsOptimization <- readRDS(\"../../../../../results/method_comparison/build_customDB/NicheNet/Optimization_results.rds\")\n",
    "\n",
    "optimized_parameters = resultsOptimization %>% \n",
    "    process_mlrmbo_nichenet_optimization(\n",
    "        source_names = my_source_weights_df$source %>% unique())"
   ]
  },
  {
   "cell_type": "code",
   "execution_count": 11,
   "id": "54e067ff",
   "metadata": {},
   "outputs": [],
   "source": [
    "weighted_networks <- apply_hub_corrections(\n",
    "    weighted_networks = weighted_networks, \n",
    "    lr_sig_hub = optimized_parameters$lr_sig_hub, \n",
    "    gr_hub = optimized_parameters$gr_hub)\n",
    "saveRDS(weighted_networks,\"../../../../../results/method_comparison/build_customDB/NicheNet/weighted_networksNonSourceWeights.rds\")"
   ]
  },
  {
   "cell_type": "code",
   "execution_count": null,
   "id": "c92756a3",
   "metadata": {},
   "outputs": [],
   "source": []
  },
  {
   "cell_type": "code",
   "execution_count": 12,
   "id": "85f8e125",
   "metadata": {},
   "outputs": [
    {
     "name": "stderr",
     "output_type": "stream",
     "text": [
      "Warning message in construct_ligand_tf_matrix(weighted_networks, ligands, ltf_cutoff, :\n",
      "“One or more ligands of interest not present in the ligand-receptor network 'lr_network'. You can possibly ignore this warning if you provided your own ligand_receptor network to the weighted networks.”\n"
     ]
    }
   ],
   "source": [
    "#We now generate the matrix containing the ligand-target regulatory potential scores based on the \n",
    "#weighted integrated networks.\n",
    "\n",
    "\n",
    "ligands <- as.list(unique(lr_network_Omnipath$from))\n",
    "\n",
    "ligand_target_matrix <- construct_ligand_target_matrix(\n",
    "    weighted_networks = weighted_networks, \n",
    "    ligands = ligands, \n",
    "    algorithm = \"PPR\", \n",
    "    damping_factor = optimized_parameters$damping_factor, \n",
    "    ltf_cutoff = optimized_parameters$ltf_cutoff)\n",
    "saveRDS(ligand_target_matrix,\"../../../../../results/method_comparison/build_customDB/NicheNet/ligand_target_matrixNoweights.rds\")"
   ]
  },
  {
   "cell_type": "code",
   "execution_count": 13,
   "id": "f5f44216",
   "metadata": {},
   "outputs": [
    {
     "name": "stderr",
     "output_type": "stream",
     "text": [
      "Warning message in construct_ligand_tf_matrix(weighted_networks, ligands, ltf_cutoff, :\n",
      "“One or more ligands of interest not present in the ligand-receptor network 'lr_network'. You can possibly ignore this warning if you provided your own ligand_receptor network to the weighted networks.”\n"
     ]
    }
   ],
   "source": [
    "## Here we also take into account the optimized source weights\n",
    "weighted_networks <- construct_weighted_networks(\n",
    "    lr_network = lr_network_Omnipath, \n",
    "    sig_network = sig_network_Omnipath, \n",
    "    gr_network = gr_network_Omnipath,\n",
    "    source_weights_df = optimized_parameters$source_weight_df)\n",
    "\n",
    "weighted_networks <- apply_hub_corrections(\n",
    "    weighted_networks = weighted_networks, \n",
    "    lr_sig_hub = optimized_parameters$lr_sig_hub, \n",
    "    gr_hub = optimized_parameters$gr_hub)\n",
    "\n",
    "ligand_target_matrix = construct_ligand_target_matrix(\n",
    "    weighted_networks = weighted_networks, \n",
    "    ligands = ligands, \n",
    "    algorithm = \"PPR\", \n",
    "    damping_factor = optimized_parameters$damping_factor, \n",
    "    ltf_cutoff = optimized_parameters$ltf_cutoff)\n",
    "saveRDS(ligand_target_matrix,\"../../../../../results/method_comparison/build_customDB/NicheNet/ligand_target_matrixWithweights.rds\")\n",
    "saveRDS(weighted_networks,\"../../../../../results/method_comparison/build_customDB/NicheNet/weighted_networksWithSourceWeights.rds\")"
   ]
  },
  {
   "cell_type": "code",
   "execution_count": 12,
   "id": "c2b811e1",
   "metadata": {},
   "outputs": [],
   "source": [
    "lr_network_Omnipath$pair = paste(lr_network_Omnipath$from, lr_network_Omnipath$to, sep=\"_\")"
   ]
  },
  {
   "cell_type": "code",
   "execution_count": null,
   "id": "99830baf",
   "metadata": {},
   "outputs": [],
   "source": []
  },
  {
   "cell_type": "code",
   "execution_count": null,
   "id": "7a37b6bf",
   "metadata": {},
   "outputs": [],
   "source": []
  }
 ],
 "metadata": {
  "kernelspec": {
   "display_name": "R",
   "language": "R",
   "name": "ir"
  },
  "language_info": {
   "codemirror_mode": "r",
   "file_extension": ".r",
   "mimetype": "text/x-r-source",
   "name": "R",
   "pygments_lexer": "r",
   "version": "4.1.2"
  }
 },
 "nbformat": 4,
 "nbformat_minor": 5
}
