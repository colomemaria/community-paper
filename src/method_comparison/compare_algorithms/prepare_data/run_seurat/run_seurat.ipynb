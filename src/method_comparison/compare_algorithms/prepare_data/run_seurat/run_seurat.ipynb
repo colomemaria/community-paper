{
 "cells": [
  {
   "cell_type": "code",
   "execution_count": 1,
   "id": "a724311b",
   "metadata": {},
   "outputs": [
    {
     "name": "stderr",
     "output_type": "stream",
     "text": [
      "Attaching SeuratObject\n",
      "\n",
      "Warning message:\n",
      "“package ‘tidyverse’ was built under R version 4.1.3”\n",
      "── \u001b[1mAttaching packages\u001b[22m ─────────────────────────────────────────────────────────────────────────────────────────────────────────────────────────────────────────────────────────────────── tidyverse 1.3.2 ──\n",
      "\u001b[32m✔\u001b[39m \u001b[34mggplot2\u001b[39m 3.4.4     \u001b[32m✔\u001b[39m \u001b[34mpurrr  \u001b[39m 1.0.2\n",
      "\u001b[32m✔\u001b[39m \u001b[34mtibble \u001b[39m 3.2.1     \u001b[32m✔\u001b[39m \u001b[34mdplyr  \u001b[39m 1.1.4\n",
      "\u001b[32m✔\u001b[39m \u001b[34mtidyr  \u001b[39m 1.3.1     \u001b[32m✔\u001b[39m \u001b[34mstringr\u001b[39m 1.5.1\n",
      "\u001b[32m✔\u001b[39m \u001b[34mreadr  \u001b[39m 2.1.5     \u001b[32m✔\u001b[39m \u001b[34mforcats\u001b[39m 1.0.0\n",
      "Warning message:\n",
      "“package ‘tibble’ was built under R version 4.1.3”\n",
      "Warning message:\n",
      "“package ‘forcats’ was built under R version 4.1.3”\n",
      "── \u001b[1mConflicts\u001b[22m ────────────────────────────────────────────────────────────────────────────────────────────────────────────────────────────────────────────────────────────────────── tidyverse_conflicts() ──\n",
      "\u001b[31m✖\u001b[39m \u001b[34mdplyr\u001b[39m::\u001b[32mfilter()\u001b[39m masks \u001b[34mstats\u001b[39m::filter()\n",
      "\u001b[31m✖\u001b[39m \u001b[34mdplyr\u001b[39m::\u001b[32mlag()\u001b[39m    masks \u001b[34mstats\u001b[39m::lag()\n",
      "\n",
      "Attaching package: ‘igraph’\n",
      "\n",
      "\n",
      "The following objects are masked from ‘package:dplyr’:\n",
      "\n",
      "    as_data_frame, groups, union\n",
      "\n",
      "\n",
      "The following objects are masked from ‘package:purrr’:\n",
      "\n",
      "    compose, simplify\n",
      "\n",
      "\n",
      "The following object is masked from ‘package:tidyr’:\n",
      "\n",
      "    crossing\n",
      "\n",
      "\n",
      "The following object is masked from ‘package:tibble’:\n",
      "\n",
      "    as_data_frame\n",
      "\n",
      "\n",
      "The following objects are masked from ‘package:stats’:\n",
      "\n",
      "    decompose, spectrum\n",
      "\n",
      "\n",
      "The following object is masked from ‘package:base’:\n",
      "\n",
      "    union\n",
      "\n",
      "\n",
      "Loading required package: circlize\n",
      "\n",
      "Warning message:\n",
      "“package ‘circlize’ was built under R version 4.1.3”\n",
      "========================================\n",
      "circlize version 0.4.15\n",
      "CRAN page: https://cran.r-project.org/package=circlize\n",
      "Github page: https://github.com/jokergoo/circlize\n",
      "Documentation: https://jokergoo.github.io/circlize_book/book/\n",
      "\n",
      "If you use it in published research, please cite:\n",
      "Gu, Z. circlize implements and enhances circular visualization\n",
      "  in R. Bioinformatics 2014.\n",
      "\n",
      "This message can be suppressed by:\n",
      "  suppressPackageStartupMessages(library(circlize))\n",
      "========================================\n",
      "\n",
      "\n",
      "\n",
      "Attaching package: ‘circlize’\n",
      "\n",
      "\n",
      "The following object is masked from ‘package:igraph’:\n",
      "\n",
      "    degree\n",
      "\n",
      "\n",
      "Warning message:\n",
      "“package ‘R.utils’ was built under R version 4.1.3”\n",
      "Loading required package: R.oo\n",
      "\n",
      "Warning message:\n",
      "“package ‘R.oo’ was built under R version 4.1.3”\n",
      "Loading required package: R.methodsS3\n",
      "\n",
      "Warning message:\n",
      "“package ‘R.methodsS3’ was built under R version 4.1.3”\n",
      "R.methodsS3 v1.8.2 (2022-06-13 22:00:14 UTC) successfully loaded. See ?R.methodsS3 for help.\n",
      "\n",
      "R.oo v1.25.0 (2022-06-12 02:20:02 UTC) successfully loaded. See ?R.oo for help.\n",
      "\n",
      "\n",
      "Attaching package: ‘R.oo’\n",
      "\n",
      "\n",
      "The following object is masked from ‘package:R.methodsS3’:\n",
      "\n",
      "    throw\n",
      "\n",
      "\n",
      "The following object is masked from ‘package:igraph’:\n",
      "\n",
      "    hierarchy\n",
      "\n",
      "\n",
      "The following objects are masked from ‘package:methods’:\n",
      "\n",
      "    getClasses, getMethods\n",
      "\n",
      "\n",
      "The following objects are masked from ‘package:base’:\n",
      "\n",
      "    attach, detach, load, save\n",
      "\n",
      "\n",
      "R.utils v2.12.2 (2022-11-11 22:00:03 UTC) successfully loaded. See ?R.utils for help.\n",
      "\n",
      "\n",
      "Attaching package: ‘R.utils’\n",
      "\n",
      "\n",
      "The following object is masked from ‘package:tidyr’:\n",
      "\n",
      "    extract\n",
      "\n",
      "\n",
      "The following object is masked from ‘package:utils’:\n",
      "\n",
      "    timestamp\n",
      "\n",
      "\n",
      "The following objects are masked from ‘package:base’:\n",
      "\n",
      "    cat, commandArgs, getOption, isOpen, nullfile, parse, warnings\n",
      "\n",
      "\n",
      "\n",
      "Attaching package: ‘data.table’\n",
      "\n",
      "\n",
      "The following objects are masked from ‘package:dplyr’:\n",
      "\n",
      "    between, first, last\n",
      "\n",
      "\n",
      "The following object is masked from ‘package:purrr’:\n",
      "\n",
      "    transpose\n",
      "\n",
      "\n"
     ]
    }
   ],
   "source": [
    "# libraries\n",
    "library(Seurat)\n",
    "library(tidyverse)\n",
    "library(igraph)\n",
    "require(circlize)\n",
    "library(R.utils)\n",
    "library(data.table) #to read gz file"
   ]
  },
  {
   "cell_type": "code",
   "execution_count": 2,
   "id": "7b3227f5",
   "metadata": {},
   "outputs": [],
   "source": [
    "input_dir <- \"../../../../data_preprocessing/Lasry/2.filtering/outs/\""
   ]
  },
  {
   "cell_type": "code",
   "execution_count": 3,
   "id": "0dcce318",
   "metadata": {},
   "outputs": [],
   "source": [
    "# # load counts\n",
    "# print(\"load counts\")\n",
    "\n",
    "counts <- fread(paste0(input_dir,\"counts_lognorm.csv.gz\"), header = TRUE,check.names=FALSE)\n",
    "counts <- as.data.frame(counts)\n",
    "rownames(counts) <- counts$gene_symbol\n",
    "counts <- counts[,-1]"
   ]
  },
  {
   "cell_type": "code",
   "execution_count": 9,
   "id": "03648c75",
   "metadata": {},
   "outputs": [
    {
     "name": "stdout",
     "output_type": "stream",
     "text": [
      "[1] \"load cell annotation\"\n"
     ]
    }
   ],
   "source": [
    "# load cell annotation\n",
    "print(\"load cell annotation\")\n",
    "anno_cells <- read.table(paste0(input_dir,\"anno_cells_norm.txt\")\n",
    "                         ,sep = \"\\t\"\n",
    "                         # ,row.names = 2\n",
    "                         ,header = TRUE\n",
    "                         ,check.names=FALSE\n",
    "                         )\n",
    "# print(str(anno_cells))"
   ]
  },
  {
   "cell_type": "code",
   "execution_count": 10,
   "id": "e5b62999",
   "metadata": {},
   "outputs": [],
   "source": [
    "#set rownames of annotation to cell_ids\n",
    "rownames(anno_cells) <- anno_cells$cell\n",
    "\n",
    "#set colnames of counts to cell_ids\n",
    "colnames(counts) <- rownames(anno_cells)"
   ]
  },
  {
   "cell_type": "code",
   "execution_count": 11,
   "id": "808498d8",
   "metadata": {},
   "outputs": [],
   "source": [
    "avg_expression <- rowMeans(counts)"
   ]
  },
  {
   "cell_type": "code",
   "execution_count": 12,
   "id": "0590a3ac",
   "metadata": {},
   "outputs": [],
   "source": [
    "gene_names <- rownames(counts)"
   ]
  },
  {
   "cell_type": "code",
   "execution_count": 13,
   "id": "87c722fe",
   "metadata": {},
   "outputs": [],
   "source": [
    "avg_expr_table <- data.frame(Gene = gene_names, AverageExpression = avg_expression)"
   ]
  },
  {
   "cell_type": "code",
   "execution_count": 14,
   "id": "68535f06",
   "metadata": {},
   "outputs": [],
   "source": [
    "case <- anno_cells$health_status == \"AML\"\n",
    "case_idx <- rownames(anno_cells)[case]"
   ]
  },
  {
   "cell_type": "code",
   "execution_count": 15,
   "id": "fb35b12d",
   "metadata": {},
   "outputs": [],
   "source": [
    "avg_expression_case <- rowMeans(counts[,case_idx])\n",
    "# gene_names <- rownames(counts[,case_idx])\n",
    "# avg_expr_table_case <- data.frame(Gene = gene_names, AverageExpression = avg_expression)"
   ]
  },
  {
   "cell_type": "code",
   "execution_count": 16,
   "id": "b77561f4",
   "metadata": {},
   "outputs": [],
   "source": [
    "control <- anno_cells$health_status == \"healthy\"\n",
    "control_idx <- rownames(anno_cells)[control]"
   ]
  },
  {
   "cell_type": "code",
   "execution_count": 17,
   "id": "ab0e5ce0",
   "metadata": {},
   "outputs": [],
   "source": [
    "avg_expression_control <- rowMeans(counts[,control_idx])"
   ]
  },
  {
   "cell_type": "code",
   "execution_count": 18,
   "id": "21bc5b19",
   "metadata": {},
   "outputs": [],
   "source": [
    "avg_expr_table$control <- avg_expression_control"
   ]
  },
  {
   "cell_type": "code",
   "execution_count": 19,
   "id": "565bfc1b",
   "metadata": {},
   "outputs": [],
   "source": [
    "avg_expr_table$case <- avg_expression_case"
   ]
  },
  {
   "cell_type": "code",
   "execution_count": 20,
   "id": "cb833adb",
   "metadata": {},
   "outputs": [],
   "source": [
    "#create a Seurat object\n",
    "srt=CreateSeuratObject(counts=counts, meta.data=anno_cells)"
   ]
  },
  {
   "cell_type": "code",
   "execution_count": 21,
   "id": "c8fd180d",
   "metadata": {},
   "outputs": [
    {
     "data": {
      "text/plain": [
       ".\n",
       "    AML healthy \n",
       "  21311   25391 "
      ]
     },
     "metadata": {},
     "output_type": "display_data"
    }
   ],
   "source": [
    "#peek into the number of cells for case/control\n",
    "srt@meta.data$health_status %>% table()"
   ]
  },
  {
   "cell_type": "code",
   "execution_count": 22,
   "id": "c9fe6df8",
   "metadata": {},
   "outputs": [
    {
     "data": {
      "text/plain": [
       ".\n",
       "    B    DC   Ery  Gran  HSPC  Mono    NK     T \n",
       " 4765  1634  1674  2332  3169 18004  3078 12046 "
      ]
     },
     "metadata": {},
     "output_type": "display_data"
    }
   ],
   "source": [
    "#peek into the number of cell types\n",
    "srt@meta.data$cell_type %>% table()"
   ]
  },
  {
   "cell_type": "code",
   "execution_count": 23,
   "id": "a456cce8",
   "metadata": {},
   "outputs": [],
   "source": [
    "#set the indent to cell_type\n",
    "Idents(srt) <- \"cell_type\""
   ]
  },
  {
   "cell_type": "code",
   "execution_count": 24,
   "id": "abc49117",
   "metadata": {},
   "outputs": [
    {
     "name": "stdout",
     "output_type": "stream",
     "text": [
      "[1] \"Mono\"\n",
      "[1] \"number of genes in the cell type\"\n",
      "[1] 15770\n",
      "[1] \"number of genes output from DE\"\n",
      "[1] 386\n",
      "[1] \"Gran\"\n",
      "[1] \"number of genes in the cell type\"\n",
      "[1] 15770\n",
      "[1] \"number of genes output from DE\"\n",
      "[1] 337\n",
      "[1] \"T\"\n",
      "[1] \"number of genes in the cell type\"\n",
      "[1] 15770\n",
      "[1] \"number of genes output from DE\"\n",
      "[1] 216\n",
      "[1] \"NK\"\n",
      "[1] \"number of genes in the cell type\"\n",
      "[1] 15770\n",
      "[1] \"number of genes output from DE\"\n",
      "[1] 472\n",
      "[1] \"B\"\n",
      "[1] \"number of genes in the cell type\"\n",
      "[1] 15770\n",
      "[1] \"number of genes output from DE\"\n",
      "[1] 297\n",
      "[1] \"HSPC\"\n",
      "[1] \"number of genes in the cell type\"\n",
      "[1] 15770\n",
      "[1] \"number of genes output from DE\"\n",
      "[1] 452\n",
      "[1] \"Ery\"\n",
      "[1] \"number of genes in the cell type\"\n",
      "[1] 15770\n",
      "[1] \"number of genes output from DE\"\n",
      "[1] 1082\n",
      "[1] \"DC\"\n",
      "[1] \"number of genes in the cell type\"\n",
      "[1] 15770\n",
      "[1] \"number of genes output from DE\"\n",
      "[1] 239\n"
     ]
    }
   ],
   "source": [
    "# initialize empty vector for storing DEGs\n",
    "DEGs <- c()\n",
    "\n",
    "# iterate over each unique cell type \n",
    "for (cell_type in unique(srt@meta.data$cell_type)) {\n",
    "  \n",
    "  # subset Seurat object to only include cells of current cell type\n",
    "  seurat_obj_receiver <- subset(srt, idents = cell_type)\n",
    "  \n",
    "  # set cell identity using the \"health_status\" feature\n",
    "  seurat_obj_receiver <- SetIdent(seurat_obj_receiver, value = seurat_obj_receiver[[\"health_status\"]])\n",
    "  \n",
    "  # specify the two conditions to compare\n",
    "  condition_oi <- \"AML\"\n",
    "  condition_reference <- \"healthy\" \n",
    "  \n",
    "#   find differentially expressed genes between the two conditions\n",
    "  DE_table_receiver <- FindMarkers(object = seurat_obj_receiver, \n",
    "                                   slot = \"counts\",\n",
    "                                   ident.1 = condition_oi, \n",
    "                                   ident.2 = condition_reference, \n",
    "                                   min.pct = 0.10) %>%\n",
    "    # convert row names to a separate \"gene\" column\n",
    "    rownames_to_column(\"gene\")\n",
    "    \n",
    "#     DE_table_receiver <- FindMarkers(object = seurat_obj_receiver, \n",
    "#                                    slot = \"data\",\n",
    "#                                    ident.1 = condition_oi, \n",
    "#                                    ident.2 = condition_reference, \n",
    "#                                    min.pct = -Inf,\n",
    "#                                    thresh.use = 0,\n",
    "#                                    logfc.threshold = -Inf,\n",
    "#                                    min.cells.feature = 1, min.cells.group = 1) %>% rownames_to_column(\"gene\")\n",
    "    \n",
    "    \n",
    "    \n",
    "  \n",
    "  # add cell type information to the DEG table\n",
    "  DE_table_receiver <- data.frame(cluster = cell_type, DE_table_receiver)\n",
    "  \n",
    "  # filter DEGs based on statistical significance and fold change threshold\n",
    "  DE_table_receiver <- DE_table_receiver %>% \n",
    "    filter(p_val_adj <= 0.05 & abs(avg_log2FC) >= 0.25)\n",
    "  \n",
    "  # print cell type and number of DEGs found\n",
    "  print(cell_type)\n",
    "  print(\"number of genes in the cell type\")\n",
    "  print(length(row.names(seurat_obj_receiver@assays$RNA@data)))\n",
    "  print(\"number of genes output from DE\")\n",
    "  print(nrow(DE_table_receiver))\n",
    "  \n",
    "  # append DEGs to the vector of all DEGs\n",
    "  DEGs <- rbind(DEGs, DE_table_receiver)\n",
    "}"
   ]
  },
  {
   "cell_type": "code",
   "execution_count": 26,
   "id": "99b8bae9-a304-4122-af06-bf68dc2d4655",
   "metadata": {},
   "outputs": [
    {
     "data": {
      "text/plain": [
       "\n",
       "   B   DC  Ery Gran HSPC Mono   NK    T \n",
       " 297  239 1082  337  452  386  472  216 "
      ]
     },
     "metadata": {},
     "output_type": "display_data"
    }
   ],
   "source": [
    "table(DEGs$cluster)"
   ]
  },
  {
   "cell_type": "code",
   "execution_count": 27,
   "id": "57a05220",
   "metadata": {},
   "outputs": [],
   "source": [
    "write.csv(table(DEGs$cluster), \"DEGs_numbers.csv\")"
   ]
  },
  {
   "cell_type": "code",
   "execution_count": null,
   "id": "6b94bafc-363d-4818-af07-71d36b3ddd9b",
   "metadata": {},
   "outputs": [],
   "source": [
    "write.csv(DEGs, \"DEG_significant_table.csv\")"
   ]
  },
  {
   "cell_type": "code",
   "execution_count": 57,
   "id": "ad7ce639",
   "metadata": {},
   "outputs": [],
   "source": [
    "write.csv(DEGs, \"DEG_table.csv\")"
   ]
  },
  {
   "cell_type": "code",
   "execution_count": 59,
   "id": "50bde1b3",
   "metadata": {},
   "outputs": [],
   "source": []
  },
  {
   "cell_type": "code",
   "execution_count": null,
   "id": "a86c5c68",
   "metadata": {},
   "outputs": [],
   "source": []
  }
 ],
 "metadata": {
  "kernelspec": {
   "display_name": "R",
   "language": "R",
   "name": "ir"
  },
  "language_info": {
   "codemirror_mode": "r",
   "file_extension": ".r",
   "mimetype": "text/x-r-source",
   "name": "R",
   "pygments_lexer": "r",
   "version": "4.1.2"
  }
 },
 "nbformat": 4,
 "nbformat_minor": 5
}
