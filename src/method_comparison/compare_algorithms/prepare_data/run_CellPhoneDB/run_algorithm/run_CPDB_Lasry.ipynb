{
 "cells": [
  {
   "cell_type": "markdown",
   "id": "11c3ecf7",
   "metadata": {},
   "source": [
    "# Description"
   ]
  },
  {
   "cell_type": "code",
   "execution_count": 6,
   "id": "7b9e6890",
   "metadata": {},
   "outputs": [],
   "source": [
    "# libraries\n",
    "library(Seurat)\n",
    "library(tidyverse)\n",
    "library(igraph)\n",
    "require(circlize)\n",
    "library(R.utils)\n",
    "library(data.table) #to read gz file"
   ]
  },
  {
   "cell_type": "code",
   "execution_count": 7,
   "id": "8d74d910-268b-43ab-9eaf-22b18d87259f",
   "metadata": {},
   "outputs": [
    {
     "data": {
      "text/plain": [
       "R version 4.1.2 (2021-11-01)\n",
       "Platform: x86_64-conda-linux-gnu (64-bit)\n",
       "Running under: CentOS Linux 7 (Core)\n",
       "\n",
       "Matrix products: default\n",
       "BLAS/LAPACK: /work/project/ladcol_011/conda_path/miniconda3/envs/community_paper/lib/libopenblasp-r0.3.26.so\n",
       "\n",
       "locale:\n",
       " [1] LC_CTYPE=en_US.UTF-8       LC_NUMERIC=C              \n",
       " [3] LC_TIME=de_DE.UTF-8        LC_COLLATE=en_US.UTF-8    \n",
       " [5] LC_MONETARY=de_DE.UTF-8    LC_MESSAGES=en_US.UTF-8   \n",
       " [7] LC_PAPER=de_DE.UTF-8       LC_NAME=C                 \n",
       " [9] LC_ADDRESS=C               LC_TELEPHONE=C            \n",
       "[11] LC_MEASUREMENT=de_DE.UTF-8 LC_IDENTIFICATION=C       \n",
       "\n",
       "attached base packages:\n",
       "[1] stats     graphics  grDevices utils     datasets  methods   base     \n",
       "\n",
       "other attached packages:\n",
       " [1] data.table_1.14.10 R.utils_2.12.2     R.oo_1.25.0        R.methodsS3_1.8.2 \n",
       " [5] circlize_0.4.15    igraph_1.6.0       forcats_1.0.0      stringr_1.5.1     \n",
       " [9] dplyr_1.1.4        purrr_1.0.2        readr_2.1.5        tidyr_1.3.1       \n",
       "[13] tibble_3.2.1       ggplot2_3.4.4      tidyverse_1.3.2    SeuratObject_4.1.3\n",
       "[17] Seurat_4.3.0      \n",
       "\n",
       "loaded via a namespace (and not attached):\n",
       "  [1] readxl_1.4.3           uuid_1.1-0             backports_1.4.1       \n",
       "  [4] plyr_1.8.9             repr_1.1.6             lazyeval_0.2.2        \n",
       "  [7] sp_2.1-2               splines_4.1.2          listenv_0.9.0         \n",
       " [10] scattermore_1.2        digest_0.6.34          htmltools_0.5.7       \n",
       " [13] fansi_1.0.6            magrittr_2.0.3         tensor_1.5            \n",
       " [16] googlesheets4_1.1.0    cluster_2.1.4          ROCR_1.0-11           \n",
       " [19] tzdb_0.4.0             globals_0.16.2         modelr_0.1.11         \n",
       " [22] matrixStats_1.2.0      timechange_0.2.0       spatstat.sparse_3.0-3 \n",
       " [25] colorspace_2.1-0       rvest_1.0.3            ggrepel_0.9.5         \n",
       " [28] haven_2.5.2            crayon_1.5.2           jsonlite_1.8.8        \n",
       " [31] progressr_0.14.0       spatstat.data_3.0-4    survival_3.5-5        \n",
       " [34] zoo_1.8-12             glue_1.7.0             polyclip_1.10-4       \n",
       " [37] gtable_0.3.4           gargle_1.4.0           leiden_0.4.3.1        \n",
       " [40] future.apply_1.11.1    shape_1.4.6            abind_1.4-5           \n",
       " [43] scales_1.3.0           DBI_1.1.3              spatstat.random_3.2-2 \n",
       " [46] miniUI_0.1.1.1         Rcpp_1.0.12            viridisLite_0.4.2     \n",
       " [49] xtable_1.8-4           reticulate_1.34.0      htmlwidgets_1.6.4     \n",
       " [52] httr_1.4.7             RColorBrewer_1.1-3     ellipsis_0.3.2        \n",
       " [55] ica_1.0-3              pkgconfig_2.0.3        uwot_0.1.16           \n",
       " [58] dbplyr_2.3.2           deldir_2.0-2           utf8_1.2.4            \n",
       " [61] tidyselect_1.2.0       rlang_1.1.3            reshape2_1.4.4        \n",
       " [64] later_1.3.2            munsell_0.5.0          cellranger_1.1.0      \n",
       " [67] tools_4.1.2            cli_3.6.2              generics_0.1.3        \n",
       " [70] broom_1.0.5            ggridges_0.5.6         evaluate_0.23         \n",
       " [73] fastmap_1.1.1          goftest_1.2-3          fs_1.6.3              \n",
       " [76] fitdistrplus_1.1-11    RANN_2.6.1             pbapply_1.7-2         \n",
       " [79] future_1.33.1          nlme_3.1-162           mime_0.12             \n",
       " [82] xml2_1.3.6             compiler_4.1.2         plotly_4.10.4         \n",
       " [85] png_0.1-8              spatstat.utils_3.0-4   reprex_2.0.2          \n",
       " [88] stringi_1.8.3          lattice_0.21-8         IRdisplay_1.1         \n",
       " [91] Matrix_1.6-5           vctrs_0.6.5            pillar_1.9.0          \n",
       " [94] lifecycle_1.0.4        spatstat.geom_3.2-8    lmtest_0.9-40         \n",
       " [97] GlobalOptions_0.1.2    RcppAnnoy_0.0.22       cowplot_1.1.3         \n",
       "[100] irlba_2.3.5.1          httpuv_1.6.13          patchwork_1.2.0       \n",
       "[103] R6_2.5.1               promises_1.2.1         KernSmooth_2.23-21    \n",
       "[106] gridExtra_2.3          parallelly_1.36.0      codetools_0.2-19      \n",
       "[109] MASS_7.3-58.3          withr_3.0.0            sctransform_0.4.1     \n",
       "[112] parallel_4.1.2         hms_1.1.3              grid_4.1.2            \n",
       "[115] IRkernel_1.3.2         googledrive_2.1.0      Rtsne_0.17            \n",
       "[118] pbdZMQ_0.3-9           spatstat.explore_3.2-5 shiny_1.8.0           \n",
       "[121] lubridate_1.9.2        base64enc_0.1-3       "
      ]
     },
     "metadata": {},
     "output_type": "display_data"
    }
   ],
   "source": [
    "sessionInfo()"
   ]
  },
  {
   "cell_type": "markdown",
   "id": "982b08f5",
   "metadata": {},
   "source": [
    "### Read in the expression data of interacting cells:\n",
    "The dataset used here is publicly available single-cell data from [Lasry, et al. 2022.](https://www.nature.com/articles/s43018-022-00480-0) The data was processed, filtered and normalized."
   ]
  },
  {
   "cell_type": "code",
   "execution_count": 8,
   "id": "7092174a",
   "metadata": {},
   "outputs": [],
   "source": [
    "input_dir <- \"../../../../../data_preprocessing/Lasry/2.filtering/outs/\"\n",
    "output_dir <- \"outs/\""
   ]
  },
  {
   "cell_type": "code",
   "execution_count": null,
   "id": "3b4d07a4",
   "metadata": {},
   "outputs": [],
   "source": []
  },
  {
   "cell_type": "code",
   "execution_count": 9,
   "id": "3d3b55a6",
   "metadata": {},
   "outputs": [
    {
     "name": "stdout",
     "output_type": "stream",
     "text": [
      "'data.frame':\t15770 obs. of  46702 variables:\n",
      " $ X2020.09.15.AML0024.CATCAAGGTTAGCGGA           : num  0 0 0 0 0 0 0 0 0 0 ...\n",
      " $ X2020.09.15.AML0024.CATCAAGTCCGAGAAG           : num  0 0 0 0 0 0 0 0 0 0 ...\n",
      " $ X2020.09.15.AML0024.CATCCACAGGGACCAT           : num  0 0 0 0 0 ...\n",
      " $ X2020.09.15.AML0024.CCTCAACAGAGCAAGA           : num  0 0 0 0 0 0 0 0 0 0 ...\n",
      " $ X2020.09.15.AML0024.CCTCAACAGTTCCATG           : num  0 0.69 0 0 0 ...\n",
      " $ X2020.09.15.AML0024.CCTCAACGTAGAATAC           : num  0 0 0 0 0 0 0 0 0 0 ...\n",
      " $ X2020.09.15.AML0024.CCTCAACGTTCTCCCA           : num  0 0 0 0 0 0 0 0 0 0 ...\n",
      " $ X2020.09.15.AML0024.CCTCAACTCCGAACGC           : num  0 0 0 0 0 ...\n",
      " $ X2020.09.15.AML0024.CCTCAACTCTAGTCAG           : num  0 0 0 0 0 0 0 0 0 0 ...\n",
      " $ X2020.09.15.AML0024.CCTCACAAGACAGTCG           : num  0 0 0 0 0 0 0 0 0 0 ...\n",
      " $ X2020.09.15.AML0024.CCTCACACAATTGCCA           : num  0 0 0 0 0 0 0 0 0 0 ...\n",
      " $ X2020.09.15.AML0024.CCTCACACAGAACTAA           : num  0 0 0 0 0 0 0 0 0 0 ...\n",
      " $ X2020.09.15.AML0024.CCTCACACAGCTGAAG           : num  0 0 0 0 0 0 0 0 0 0 ...\n",
      " $ X2020.09.15.AML0024.CCTCACAGTAATCAGA           : num  0 0 0 0 0 ...\n",
      " $ X2020.09.15.AML0024.CCTCACAGTACTCCGG           : num  0 0 0 0 0 0 0 0 0 0 ...\n",
      " $ X2020.09.15.AML0024.CCTCAACAGAACGCGT           : num  0 0 0.732 0 0 ...\n",
      " $ X2020.09.15.AML0024.CATACTTAGGCGTTAG           : num  0 0 0 0 0 0 0 0 0 0 ...\n",
      " $ X2020.09.15.AML0024.CATACTTAGTTGCATC           : num  0 0 0 0 0 ...\n",
      " $ X2020.09.15.AML0024.CATACTTCAACTTGGT           : num  0 0 0 0 0 0 0 0 0 0 ...\n",
      " $ X2020.09.15.AML0024.CATACTTTCCTTGACC           : num  0 0 0 0 0 0 0 0 0 0 ...\n",
      " $ X2020.09.15.AML0024.CATAGACAGCACTAAA           : num  0 0 0 0 0 0 0 0 0 0 ...\n",
      " $ X2020.09.15.AML0024.CATAGACAGGATCACG           : num  0 0 0 0 0 0 0 0 0 0 ...\n",
      " $ X2020.09.15.AML0024.CATAGACAGGGAGTGG           : num  0 0 0 0 0 0 0 0 0 0 ...\n",
      " $ X2020.09.15.AML0024.CATAGACCACACAGCC           : num  0 0 0 0 0 ...\n",
      " $ X2020.09.15.AML0024.CATAGACTCCATTGGA           : num  0 0 0 0 0 0 0 0 0 0 ...\n",
      " $ X2020.09.15.AML0024.CATCAAGAGAGTTCGG           : num  0 0 0 0 0 0 0 0 0 0 ...\n",
      " $ X2020.09.15.AML0024.CATCAAGAGAGTTGCG           : num  0 0 0 0 0 0 0 0 0 0 ...\n",
      " $ X2020.09.15.AML0024.CCTAAGATCGAGAGCA           : num  0 0 0 0 0 0 0 0 0 0 ...\n",
      " $ X2020.09.15.AML0024.CCTACGTAGCCGTAAG           : num  0 0 0 0 0 0 0 0 0 0 ...\n",
      " $ X2020.09.15.AML0024.CCTACGTCATCCTTCG           : num  0 0 0 0 0.452 ...\n",
      " $ X2020.09.15.AML0024.CCTACGTGTATTTCTC           : num  0 0 0 0 0 0 0 0 0 0 ...\n",
      " $ X2020.09.15.AML0024.CCTACGTGTCTCAGAT           : num  0 0 0 0 0 ...\n",
      " $ X2020.09.15.AML0024.CCTACGTTCCACAAGT           : num  0 0 0 0 0 0 0 0 0 0 ...\n",
      " $ X2020.09.15.AML0024.CCTATCGAGAATCCCT           : num  0 0 0 0 0 0 0 0 0 0 ...\n",
      " $ X2020.09.15.AML0024.CCTATCGAGGAGACCT           : num  0 0 0 0 0 0 0 0 0 0 ...\n",
      " $ X2020.09.15.AML0024.CCTATCGAGTCGAGGT           : num  0 0 0 0 0 0 0 0 0 0 ...\n",
      " $ X2020.09.15.AML0024.CCTATCGCAGAACGCA           : num  0 0 0 0 0 ...\n",
      " $ X2020.09.15.AML0024.CCTATCGCAGCTCGGT           : num  0 0 0 0 0 0 0 0 0 0 ...\n",
      " $ X2020.09.15.AML0024.CCTATCGGTAAGTTGA           : num  0 0 0 0 0 0 0 0 0 0 ...\n",
      " $ X2020.09.15.AML0024.CCTATCGGTCAGTCCG           : num  0 0 0 0 0 0 0 0 0 0 ...\n",
      " $ X2020.09.15.AML0024.CCTATCGTCCGTGTAA           : num  0 0 0 0 0 0 0 0 0 0 ...\n",
      " $ X2020.09.15.AML0024.CCTATCGTCGTAGCCG           : num  0 0 0 0 0 0 0 0 0 0 ...\n",
      " $ X2020.09.15.AML0024.CCTATCGTCTACCACC           : num  0 0 0.491 0 0 ...\n",
      " $ X2020.09.15.AML0024.AAACCCACAACATACC           : num  0 0 0 0 0 0 0 0 0 0 ...\n",
      " $ X2020.09.15.AML0024.AAACCCAGTACAACGG           : num  0 0 0 0 0 0 0 0 0 0 ...\n",
      " $ X2020.09.15.AML0024.AAACCCAGTTGTAGCT           : num  0 0 0 0 0 0 0 0 0 0 ...\n",
      " $ X2020.09.15.AML0024.AAACCCATCATCTGTT           : num  0 0 0 0 0 ...\n",
      " $ X2020.09.15.AML0024.AAACCCATCTCAGAAC           : num  0 0 0 0 0 ...\n",
      " $ X2020.09.15.AML0024.AAACGAACAAGTTCGT           : num  0 0 0 0 0 0 0 0 0 0 ...\n",
      " $ X2020.09.15.AML0024.AAACGAACAGCAGTTT           : num  0 0 0 0 0 0 0 0 0 0 ...\n",
      " $ X2020.09.15.AML0024.AAACGAAGTAACAGTA           : num  0 0 0 0 0 0 0 0 0 0 ...\n",
      " $ X2020.09.15.AML0024.AAACGAATCTTTGGAG           : num  0 0 0 0 0 0 0 0 0 0 ...\n",
      " $ X2020.09.15.AML0024.AAACGCTAGATTAGTG           : num  0 0 0 0 0 0 0 0 0 0 ...\n",
      " $ X2020.09.15.AML0024.AAACGCTAGCGAATGC           : num  0 0 0 0 0 0 0 0 0 0 ...\n",
      " $ X2020.09.15.AML0024.AAACGCTAGTTCCTGA           : num  0 0 0 0 0 ...\n",
      " $ X2020.09.15.AML0024.AAACGCTGTCTACAAC           : num  0 0 0 0 0 0 0 0 0 0 ...\n",
      " $ X2020.09.15.AML0024.AAAGAACAGCACCCAC           : num  0 0 0 0 0 0 0 0 0 0 ...\n",
      " $ X2020.09.15.AML0024.AAAGAACAGCGGACAT           : num  0 0 0 0 0 0 0 0 0 0 ...\n",
      " $ X2020.09.15.AML0024.AAAGAACAGCTGACTT           : num  0 0 0 0.647 0 ...\n",
      " $ X2020.09.15.AML0024.AAAGAACAGGGCTTCC           : num  0 0 0 0 0 ...\n",
      " $ X2020.09.15.AML0024.AAAGAACAGTAAGCAT           : num  0 0 0 0 0 0 0 0 0 0 ...\n",
      " $ X2020.09.15.AML0024.AAAGAACCAACAAAGT           : num  0 0 0 0 0 0 0 0 0 0 ...\n",
      " $ X2020.09.15.AML0024.AAAGAACGTACTCGCG           : num  0 0 0 0 0 ...\n",
      " $ X2020.09.15.AML0024.AAAGAACGTCATCGCG           : num  0 0.798 0 0 0 ...\n",
      " $ X2020.09.15.AML0024.AAAGAACGTGCATACT           : num  0 0 0 0 0 ...\n",
      " $ X2020.09.15.AML0024.AAAGAACGTTTCCAAG           : num  0 0 0 0 0 ...\n",
      " $ X2020.09.15.AML0024.AAAGAACTCCAAATGC           : num  0 0 0 0 0 0 0 0 0 0 ...\n",
      " $ X2020.09.15.AML0024.AAAGAACTCTGGGTCG           : num  0 0 0 0 0 0 0 0 0 0 ...\n",
      " $ X2020.09.15.AML0024.AAAGGATAGCCAGACA           : num  0 0 0 0 0 ...\n",
      " $ X2020.09.15.AML0024.AAAGGATAGCTAGCCC           : num  0 0 0 0 0 ...\n",
      " $ X2020.09.15.AML0024.AAAGGATAGGCTGGAT           : num  0 0 0 0 0 ...\n",
      " $ X2020.09.15.AML0024.AAAGGATAGTTGGCTT           : num  0 0.535 0 0 0 ...\n",
      " $ X2020.09.15.AML0024.AAAGGATCAGACCCGT           : num  0 0 0 0 0 0 0 0 0 0 ...\n",
      " $ X2020.09.15.AML0024.AAAGGATCATCGCTGG           : num  0 0 0 0 0 0 0 0 0 0 ...\n",
      " $ X2020.09.15.AML0024.AAAGGATCATTGGGAG           : num  0 0 0 0 0 0 0 0 0 0 ...\n",
      " $ X2020.09.15.AML0024.AAAGGATTCCCATACC           : num  0 0 0 0 0 ...\n",
      " $ X2020.09.15.AML0024.AAAGGGCCAATTAGGA           : num  0 0 0 0 0 ...\n",
      " $ X2020.09.15.AML0024.AAAGGGCGTGGTCTCG           : num  0 0 0 0 0 0 0 0 0 0 ...\n",
      " $ X2020.09.15.AML0024.AAAGGGCGTTGGGCCT           : num  0 0 0 0 0 0 0 0 0 0 ...\n",
      " $ X2020.09.15.AML0024.AAAGGGCTCATGCCCT           : num  0 0 0 0 0 0 0 0 0 0 ...\n",
      " $ X2020.09.15.AML0024.AAAGGTAAGGACTGGT           : num  0 0 0 0 0 0 0 0 0 0 ...\n",
      " $ X2020.09.15.AML0024.AAAGGTAAGGGAGGTG           : num  0 0 0 0 0 0 0 0 0 0 ...\n",
      " $ X2020.09.15.AML0024.AAAGGTACATCTCAAG           : num  0 0 0 0 0 0 0 0 0 0 ...\n",
      " $ X2020.09.15.AML0024.AAAGGTATCCTAAGTG           : num  0 0 0 0 0 0 0 0 0 0 ...\n",
      " $ X2020.09.15.AML0024.AAAGGTATCTCAGAAC           : num  0 0 0 0 0 0 0 0 0 0 ...\n",
      " $ X2020.09.15.AML0024.AAAGGTATCTGATTCT           : num  0 0 0 0 0 ...\n",
      " $ X2020.09.15.AML0024.AAAGTCCCACCAGTTA           : num  0 0 0 0 0 0 0 0 0 0 ...\n",
      " $ X2020.09.15.AML0024.AAAGTCCCAGAACGCA           : num  0 0 0 0 0 0 0 0 0 0 ...\n",
      " $ X2020.09.15.AML0024.AAAGTGAAGATCCGAG           : num  0 0 0 0 0 0 0 0 0 0 ...\n",
      " $ X2020.09.15.AML0024.AAAGTGAAGCGTGTCC           : num  0 0 0 0 0 0 0 0 0 0 ...\n",
      " $ X2020.09.15.AML0024.AAAGTGAAGGTGGTTG           : num  0 0 0 0 0 0 0 0 0 0 ...\n",
      " $ X2020.09.15.AML0024.AAAGTGAAGTCAGGGT           : num  0 0 0 0 0 0 0 0 0 0 ...\n",
      " $ X2020.09.15.AML0024.AAAGTGAAGTGAATAC           : num  0 0 0.598 0 0 ...\n",
      " $ X2020.09.15.AML0024.AAAGTGACAACCGCCA           : num  0 0 0 0 0 0 0 0 0 0 ...\n",
      " $ X2020.09.15.AML0024.AAAGTGAGTCAACCTA           : num  0 0 0 0 0 ...\n",
      " $ X2020.09.15.AML0024.AAAGTGAGTCGTTGCG           : num  0 0 0 0 0 0 0 0 0 0 ...\n",
      " $ X2020.09.15.AML0024.AAAGTGAGTTACACAC           : num  0 0 0 0 0 0 0 0 0 0 ...\n",
      " $ X2020.09.15.AML0024.AAAGTGATCATTCGTT           : num  0 0 0 0 0 0 0 0 0 0 ...\n",
      " $ X2020.09.15.AML0024.AAATGGAAGCTGTGCC           : num  0 0 0 0 0 0 0 0 0 0 ...\n",
      "  [list output truncated]\n"
     ]
    },
    {
     "data": {
      "text/plain": [
       "NULL"
      ]
     },
     "metadata": {},
     "output_type": "display_data"
    },
    {
     "name": "stdout",
     "output_type": "stream",
     "text": [
      "'data.frame':\t15770 obs. of  46702 variables:\n",
      " $ X2020.09.15.AML0024.CATCAAGGTTAGCGGA           : num  0 0 0 0 0 0 0 0 0 0 ...\n",
      " $ X2020.09.15.AML0024.CATCAAGTCCGAGAAG           : num  0 0 0 0 0 0 0 0 0 0 ...\n",
      " $ X2020.09.15.AML0024.CATCCACAGGGACCAT           : num  0 0 0 0 0 ...\n",
      " $ X2020.09.15.AML0024.CCTCAACAGAGCAAGA           : num  0 0 0 0 0 0 0 0 0 0 ...\n",
      " $ X2020.09.15.AML0024.CCTCAACAGTTCCATG           : num  0 0.69 0 0 0 ...\n",
      " $ X2020.09.15.AML0024.CCTCAACGTAGAATAC           : num  0 0 0 0 0 0 0 0 0 0 ...\n",
      " $ X2020.09.15.AML0024.CCTCAACGTTCTCCCA           : num  0 0 0 0 0 0 0 0 0 0 ...\n",
      " $ X2020.09.15.AML0024.CCTCAACTCCGAACGC           : num  0 0 0 0 0 ...\n",
      " $ X2020.09.15.AML0024.CCTCAACTCTAGTCAG           : num  0 0 0 0 0 0 0 0 0 0 ...\n",
      " $ X2020.09.15.AML0024.CCTCACAAGACAGTCG           : num  0 0 0 0 0 0 0 0 0 0 ...\n",
      " $ X2020.09.15.AML0024.CCTCACACAATTGCCA           : num  0 0 0 0 0 0 0 0 0 0 ...\n",
      " $ X2020.09.15.AML0024.CCTCACACAGAACTAA           : num  0 0 0 0 0 0 0 0 0 0 ...\n",
      " $ X2020.09.15.AML0024.CCTCACACAGCTGAAG           : num  0 0 0 0 0 0 0 0 0 0 ...\n",
      " $ X2020.09.15.AML0024.CCTCACAGTAATCAGA           : num  0 0 0 0 0 ...\n",
      " $ X2020.09.15.AML0024.CCTCACAGTACTCCGG           : num  0 0 0 0 0 0 0 0 0 0 ...\n",
      " $ X2020.09.15.AML0024.CCTCAACAGAACGCGT           : num  0 0 0.732 0 0 ...\n",
      " $ X2020.09.15.AML0024.CATACTTAGGCGTTAG           : num  0 0 0 0 0 0 0 0 0 0 ...\n",
      " $ X2020.09.15.AML0024.CATACTTAGTTGCATC           : num  0 0 0 0 0 ...\n",
      " $ X2020.09.15.AML0024.CATACTTCAACTTGGT           : num  0 0 0 0 0 0 0 0 0 0 ...\n",
      " $ X2020.09.15.AML0024.CATACTTTCCTTGACC           : num  0 0 0 0 0 0 0 0 0 0 ...\n",
      " $ X2020.09.15.AML0024.CATAGACAGCACTAAA           : num  0 0 0 0 0 0 0 0 0 0 ...\n",
      " $ X2020.09.15.AML0024.CATAGACAGGATCACG           : num  0 0 0 0 0 0 0 0 0 0 ...\n",
      " $ X2020.09.15.AML0024.CATAGACAGGGAGTGG           : num  0 0 0 0 0 0 0 0 0 0 ...\n",
      " $ X2020.09.15.AML0024.CATAGACCACACAGCC           : num  0 0 0 0 0 ...\n",
      " $ X2020.09.15.AML0024.CATAGACTCCATTGGA           : num  0 0 0 0 0 0 0 0 0 0 ...\n",
      " $ X2020.09.15.AML0024.CATCAAGAGAGTTCGG           : num  0 0 0 0 0 0 0 0 0 0 ...\n",
      " $ X2020.09.15.AML0024.CATCAAGAGAGTTGCG           : num  0 0 0 0 0 0 0 0 0 0 ...\n",
      " $ X2020.09.15.AML0024.CCTAAGATCGAGAGCA           : num  0 0 0 0 0 0 0 0 0 0 ...\n",
      " $ X2020.09.15.AML0024.CCTACGTAGCCGTAAG           : num  0 0 0 0 0 0 0 0 0 0 ...\n",
      " $ X2020.09.15.AML0024.CCTACGTCATCCTTCG           : num  0 0 0 0 0.452 ...\n",
      " $ X2020.09.15.AML0024.CCTACGTGTATTTCTC           : num  0 0 0 0 0 0 0 0 0 0 ...\n",
      " $ X2020.09.15.AML0024.CCTACGTGTCTCAGAT           : num  0 0 0 0 0 ...\n",
      " $ X2020.09.15.AML0024.CCTACGTTCCACAAGT           : num  0 0 0 0 0 0 0 0 0 0 ...\n",
      " $ X2020.09.15.AML0024.CCTATCGAGAATCCCT           : num  0 0 0 0 0 0 0 0 0 0 ...\n",
      " $ X2020.09.15.AML0024.CCTATCGAGGAGACCT           : num  0 0 0 0 0 0 0 0 0 0 ...\n",
      " $ X2020.09.15.AML0024.CCTATCGAGTCGAGGT           : num  0 0 0 0 0 0 0 0 0 0 ...\n",
      " $ X2020.09.15.AML0024.CCTATCGCAGAACGCA           : num  0 0 0 0 0 ...\n",
      " $ X2020.09.15.AML0024.CCTATCGCAGCTCGGT           : num  0 0 0 0 0 0 0 0 0 0 ...\n",
      " $ X2020.09.15.AML0024.CCTATCGGTAAGTTGA           : num  0 0 0 0 0 0 0 0 0 0 ...\n",
      " $ X2020.09.15.AML0024.CCTATCGGTCAGTCCG           : num  0 0 0 0 0 0 0 0 0 0 ...\n",
      " $ X2020.09.15.AML0024.CCTATCGTCCGTGTAA           : num  0 0 0 0 0 0 0 0 0 0 ...\n",
      " $ X2020.09.15.AML0024.CCTATCGTCGTAGCCG           : num  0 0 0 0 0 0 0 0 0 0 ...\n",
      " $ X2020.09.15.AML0024.CCTATCGTCTACCACC           : num  0 0 0.491 0 0 ...\n",
      " $ X2020.09.15.AML0024.AAACCCACAACATACC           : num  0 0 0 0 0 0 0 0 0 0 ...\n",
      " $ X2020.09.15.AML0024.AAACCCAGTACAACGG           : num  0 0 0 0 0 0 0 0 0 0 ...\n",
      " $ X2020.09.15.AML0024.AAACCCAGTTGTAGCT           : num  0 0 0 0 0 0 0 0 0 0 ...\n",
      " $ X2020.09.15.AML0024.AAACCCATCATCTGTT           : num  0 0 0 0 0 ...\n",
      " $ X2020.09.15.AML0024.AAACCCATCTCAGAAC           : num  0 0 0 0 0 ...\n",
      " $ X2020.09.15.AML0024.AAACGAACAAGTTCGT           : num  0 0 0 0 0 0 0 0 0 0 ...\n",
      " $ X2020.09.15.AML0024.AAACGAACAGCAGTTT           : num  0 0 0 0 0 0 0 0 0 0 ...\n",
      " $ X2020.09.15.AML0024.AAACGAAGTAACAGTA           : num  0 0 0 0 0 0 0 0 0 0 ...\n",
      " $ X2020.09.15.AML0024.AAACGAATCTTTGGAG           : num  0 0 0 0 0 0 0 0 0 0 ...\n",
      " $ X2020.09.15.AML0024.AAACGCTAGATTAGTG           : num  0 0 0 0 0 0 0 0 0 0 ...\n",
      " $ X2020.09.15.AML0024.AAACGCTAGCGAATGC           : num  0 0 0 0 0 0 0 0 0 0 ...\n",
      " $ X2020.09.15.AML0024.AAACGCTAGTTCCTGA           : num  0 0 0 0 0 ...\n",
      " $ X2020.09.15.AML0024.AAACGCTGTCTACAAC           : num  0 0 0 0 0 0 0 0 0 0 ...\n",
      " $ X2020.09.15.AML0024.AAAGAACAGCACCCAC           : num  0 0 0 0 0 0 0 0 0 0 ...\n",
      " $ X2020.09.15.AML0024.AAAGAACAGCGGACAT           : num  0 0 0 0 0 0 0 0 0 0 ...\n",
      " $ X2020.09.15.AML0024.AAAGAACAGCTGACTT           : num  0 0 0 0.647 0 ...\n",
      " $ X2020.09.15.AML0024.AAAGAACAGGGCTTCC           : num  0 0 0 0 0 ...\n",
      " $ X2020.09.15.AML0024.AAAGAACAGTAAGCAT           : num  0 0 0 0 0 0 0 0 0 0 ...\n",
      " $ X2020.09.15.AML0024.AAAGAACCAACAAAGT           : num  0 0 0 0 0 0 0 0 0 0 ...\n",
      " $ X2020.09.15.AML0024.AAAGAACGTACTCGCG           : num  0 0 0 0 0 ...\n",
      " $ X2020.09.15.AML0024.AAAGAACGTCATCGCG           : num  0 0.798 0 0 0 ...\n",
      " $ X2020.09.15.AML0024.AAAGAACGTGCATACT           : num  0 0 0 0 0 ...\n",
      " $ X2020.09.15.AML0024.AAAGAACGTTTCCAAG           : num  0 0 0 0 0 ...\n",
      " $ X2020.09.15.AML0024.AAAGAACTCCAAATGC           : num  0 0 0 0 0 0 0 0 0 0 ...\n",
      " $ X2020.09.15.AML0024.AAAGAACTCTGGGTCG           : num  0 0 0 0 0 0 0 0 0 0 ...\n",
      " $ X2020.09.15.AML0024.AAAGGATAGCCAGACA           : num  0 0 0 0 0 ...\n",
      " $ X2020.09.15.AML0024.AAAGGATAGCTAGCCC           : num  0 0 0 0 0 ...\n",
      " $ X2020.09.15.AML0024.AAAGGATAGGCTGGAT           : num  0 0 0 0 0 ...\n",
      " $ X2020.09.15.AML0024.AAAGGATAGTTGGCTT           : num  0 0.535 0 0 0 ...\n",
      " $ X2020.09.15.AML0024.AAAGGATCAGACCCGT           : num  0 0 0 0 0 0 0 0 0 0 ...\n",
      " $ X2020.09.15.AML0024.AAAGGATCATCGCTGG           : num  0 0 0 0 0 0 0 0 0 0 ...\n",
      " $ X2020.09.15.AML0024.AAAGGATCATTGGGAG           : num  0 0 0 0 0 0 0 0 0 0 ...\n",
      " $ X2020.09.15.AML0024.AAAGGATTCCCATACC           : num  0 0 0 0 0 ...\n",
      " $ X2020.09.15.AML0024.AAAGGGCCAATTAGGA           : num  0 0 0 0 0 ...\n",
      " $ X2020.09.15.AML0024.AAAGGGCGTGGTCTCG           : num  0 0 0 0 0 0 0 0 0 0 ...\n",
      " $ X2020.09.15.AML0024.AAAGGGCGTTGGGCCT           : num  0 0 0 0 0 0 0 0 0 0 ...\n",
      " $ X2020.09.15.AML0024.AAAGGGCTCATGCCCT           : num  0 0 0 0 0 0 0 0 0 0 ...\n",
      " $ X2020.09.15.AML0024.AAAGGTAAGGACTGGT           : num  0 0 0 0 0 0 0 0 0 0 ...\n",
      " $ X2020.09.15.AML0024.AAAGGTAAGGGAGGTG           : num  0 0 0 0 0 0 0 0 0 0 ...\n",
      " $ X2020.09.15.AML0024.AAAGGTACATCTCAAG           : num  0 0 0 0 0 0 0 0 0 0 ...\n",
      " $ X2020.09.15.AML0024.AAAGGTATCCTAAGTG           : num  0 0 0 0 0 0 0 0 0 0 ...\n",
      " $ X2020.09.15.AML0024.AAAGGTATCTCAGAAC           : num  0 0 0 0 0 0 0 0 0 0 ...\n",
      " $ X2020.09.15.AML0024.AAAGGTATCTGATTCT           : num  0 0 0 0 0 ...\n",
      " $ X2020.09.15.AML0024.AAAGTCCCACCAGTTA           : num  0 0 0 0 0 0 0 0 0 0 ...\n",
      " $ X2020.09.15.AML0024.AAAGTCCCAGAACGCA           : num  0 0 0 0 0 0 0 0 0 0 ...\n",
      " $ X2020.09.15.AML0024.AAAGTGAAGATCCGAG           : num  0 0 0 0 0 0 0 0 0 0 ...\n",
      " $ X2020.09.15.AML0024.AAAGTGAAGCGTGTCC           : num  0 0 0 0 0 0 0 0 0 0 ...\n",
      " $ X2020.09.15.AML0024.AAAGTGAAGGTGGTTG           : num  0 0 0 0 0 0 0 0 0 0 ...\n",
      " $ X2020.09.15.AML0024.AAAGTGAAGTCAGGGT           : num  0 0 0 0 0 0 0 0 0 0 ...\n",
      " $ X2020.09.15.AML0024.AAAGTGAAGTGAATAC           : num  0 0 0.598 0 0 ...\n",
      " $ X2020.09.15.AML0024.AAAGTGACAACCGCCA           : num  0 0 0 0 0 0 0 0 0 0 ...\n",
      " $ X2020.09.15.AML0024.AAAGTGAGTCAACCTA           : num  0 0 0 0 0 ...\n",
      " $ X2020.09.15.AML0024.AAAGTGAGTCGTTGCG           : num  0 0 0 0 0 0 0 0 0 0 ...\n",
      " $ X2020.09.15.AML0024.AAAGTGAGTTACACAC           : num  0 0 0 0 0 0 0 0 0 0 ...\n",
      " $ X2020.09.15.AML0024.AAAGTGATCATTCGTT           : num  0 0 0 0 0 0 0 0 0 0 ...\n",
      " $ X2020.09.15.AML0024.AAATGGAAGCTGTGCC           : num  0 0 0 0 0 0 0 0 0 0 ...\n",
      "  [list output truncated]\n",
      "NULL\n"
     ]
    }
   ],
   "source": [
    "# # load counts\n",
    "# print(\"load counts\")\n",
    "# counts <- read.table(gzfile(paste0(path_in,\"/counts_corr.csv.gz\")\n",
    "#                             )\n",
    "#                      ,sep = \",\"\n",
    "#                      ,row.names = 1\n",
    "#                      ,header = TRUE\n",
    "#                      )\n",
    "# # load counts\n",
    "\n",
    "counts <- fread(paste0(input_dir,\"counts_norm_log_transformed.csv.gz\"), header = TRUE,check.names=FALSE)\n",
    "counts <- as.data.frame(counts)\n",
    "rownames(counts) <- counts$gene_symbol\n",
    "counts <- counts[,-1]\n",
    "head(str(counts))\n",
    "print(str(counts))"
   ]
  },
  {
   "cell_type": "code",
   "execution_count": null,
   "id": "4d1a361b-a2fa-4a9a-833c-a490d6c7b4c8",
   "metadata": {},
   "outputs": [],
   "source": []
  },
  {
   "cell_type": "code",
   "execution_count": 10,
   "id": "bea4cea4",
   "metadata": {},
   "outputs": [
    {
     "name": "stdout",
     "output_type": "stream",
     "text": [
      "[1] \"load cell annotation\"\n"
     ]
    }
   ],
   "source": [
    "# load cell annotation\n",
    "print(\"load cell annotation\")\n",
    "anno_cells <- read.table(paste0(input_dir,\"anno_cells_norm.txt\")\n",
    "                         ,sep = \"\\t\"\n",
    "                         # ,row.names = 2\n",
    "                         ,header = TRUE\n",
    "                         ,check.names=FALSE\n",
    "                         )\n",
    "# print(str(anno_cells))"
   ]
  },
  {
   "cell_type": "code",
   "execution_count": 11,
   "id": "8879060f",
   "metadata": {},
   "outputs": [],
   "source": [
    "#set rownames of annotation to cell_ids\n",
    "rownames(anno_cells) <- anno_cells$cell"
   ]
  },
  {
   "cell_type": "code",
   "execution_count": 12,
   "id": "892a4a02",
   "metadata": {},
   "outputs": [],
   "source": [
    "#set colnames of counts to cell_ids\n",
    "colnames(counts) <- rownames(anno_cells)"
   ]
  },
  {
   "cell_type": "code",
   "execution_count": 13,
   "id": "3f9cc2cf-59ac-4dc2-b1dc-efbc7d372dcd",
   "metadata": {},
   "outputs": [],
   "source": [
    "# 15770 obs. of  46702 variables:"
   ]
  },
  {
   "cell_type": "code",
   "execution_count": 14,
   "id": "98867f95-28fd-4156-810f-cd5a9faf677d",
   "metadata": {},
   "outputs": [
    {
     "data": {
      "text/html": [
       "<style>\n",
       ".list-inline {list-style: none; margin:0; padding: 0}\n",
       ".list-inline>li {display: inline-block}\n",
       ".list-inline>li:not(:last-child)::after {content: \"\\00b7\"; padding: 0 .5ex}\n",
       "</style>\n",
       "<ol class=list-inline><li>15770</li><li>46702</li></ol>\n"
      ],
      "text/latex": [
       "\\begin{enumerate*}\n",
       "\\item 15770\n",
       "\\item 46702\n",
       "\\end{enumerate*}\n"
      ],
      "text/markdown": [
       "1. 15770\n",
       "2. 46702\n",
       "\n",
       "\n"
      ],
      "text/plain": [
       "[1] 15770 46702"
      ]
     },
     "metadata": {},
     "output_type": "display_data"
    }
   ],
   "source": [
    "dim(counts)"
   ]
  },
  {
   "cell_type": "code",
   "execution_count": 15,
   "id": "d426ecf5-fbed-412b-9b87-2edf8029d10a",
   "metadata": {},
   "outputs": [
    {
     "data": {
      "text/html": [
       "<style>\n",
       ".list-inline {list-style: none; margin:0; padding: 0}\n",
       ".list-inline>li {display: inline-block}\n",
       ".list-inline>li:not(:last-child)::after {content: \"\\00b7\"; padding: 0 .5ex}\n",
       "</style>\n",
       "<ol class=list-inline><li>46702</li><li>92</li></ol>\n"
      ],
      "text/latex": [
       "\\begin{enumerate*}\n",
       "\\item 46702\n",
       "\\item 92\n",
       "\\end{enumerate*}\n"
      ],
      "text/markdown": [
       "1. 46702\n",
       "2. 92\n",
       "\n",
       "\n"
      ],
      "text/plain": [
       "[1] 46702    92"
      ]
     },
     "metadata": {},
     "output_type": "display_data"
    }
   ],
   "source": [
    "dim(anno_cells)"
   ]
  },
  {
   "cell_type": "code",
   "execution_count": 16,
   "id": "099268f8-a054-4668-888d-76cee5d5b8c5",
   "metadata": {},
   "outputs": [
    {
     "data": {
      "text/html": [
       "<style>\n",
       ".list-inline {list-style: none; margin:0; padding: 0}\n",
       ".list-inline>li {display: inline-block}\n",
       ".list-inline>li:not(:last-child)::after {content: \"\\00b7\"; padding: 0 .5ex}\n",
       "</style>\n",
       "<ol class=list-inline><li>'2020-09-15-AML0024:CATCAAGGTTAGCGGA'</li><li>'2020-09-15-AML0024:CATCAAGTCCGAGAAG'</li><li>'2020-09-15-AML0024:CATCCACAGGGACCAT'</li><li>'2020-09-15-AML0024:CCTCAACAGAGCAAGA'</li><li>'2020-09-15-AML0024:CCTCAACAGTTCCATG'</li><li>'2020-09-15-AML0024:CCTCAACGTAGAATAC'</li></ol>\n"
      ],
      "text/latex": [
       "\\begin{enumerate*}\n",
       "\\item '2020-09-15-AML0024:CATCAAGGTTAGCGGA'\n",
       "\\item '2020-09-15-AML0024:CATCAAGTCCGAGAAG'\n",
       "\\item '2020-09-15-AML0024:CATCCACAGGGACCAT'\n",
       "\\item '2020-09-15-AML0024:CCTCAACAGAGCAAGA'\n",
       "\\item '2020-09-15-AML0024:CCTCAACAGTTCCATG'\n",
       "\\item '2020-09-15-AML0024:CCTCAACGTAGAATAC'\n",
       "\\end{enumerate*}\n"
      ],
      "text/markdown": [
       "1. '2020-09-15-AML0024:CATCAAGGTTAGCGGA'\n",
       "2. '2020-09-15-AML0024:CATCAAGTCCGAGAAG'\n",
       "3. '2020-09-15-AML0024:CATCCACAGGGACCAT'\n",
       "4. '2020-09-15-AML0024:CCTCAACAGAGCAAGA'\n",
       "5. '2020-09-15-AML0024:CCTCAACAGTTCCATG'\n",
       "6. '2020-09-15-AML0024:CCTCAACGTAGAATAC'\n",
       "\n",
       "\n"
      ],
      "text/plain": [
       "[1] \"2020-09-15-AML0024:CATCAAGGTTAGCGGA\" \"2020-09-15-AML0024:CATCAAGTCCGAGAAG\"\n",
       "[3] \"2020-09-15-AML0024:CATCCACAGGGACCAT\" \"2020-09-15-AML0024:CCTCAACAGAGCAAGA\"\n",
       "[5] \"2020-09-15-AML0024:CCTCAACAGTTCCATG\" \"2020-09-15-AML0024:CCTCAACGTAGAATAC\""
      ]
     },
     "metadata": {},
     "output_type": "display_data"
    }
   ],
   "source": [
    "head(anno_cells$cell)"
   ]
  },
  {
   "cell_type": "code",
   "execution_count": 17,
   "id": "a0e8617f-2fd8-41e1-822e-bd1345148b3b",
   "metadata": {},
   "outputs": [
    {
     "data": {
      "text/html": [
       "<style>\n",
       ".list-inline {list-style: none; margin:0; padding: 0}\n",
       ".list-inline>li {display: inline-block}\n",
       ".list-inline>li:not(:last-child)::after {content: \"\\00b7\"; padding: 0 .5ex}\n",
       "</style>\n",
       "<ol class=list-inline><li>'2020-09-15-AML0024:CATCAAGGTTAGCGGA'</li><li>'2020-09-15-AML0024:CATCAAGTCCGAGAAG'</li><li>'2020-09-15-AML0024:CATCCACAGGGACCAT'</li><li>'2020-09-15-AML0024:CCTCAACAGAGCAAGA'</li><li>'2020-09-15-AML0024:CCTCAACAGTTCCATG'</li><li>'2020-09-15-AML0024:CCTCAACGTAGAATAC'</li></ol>\n"
      ],
      "text/latex": [
       "\\begin{enumerate*}\n",
       "\\item '2020-09-15-AML0024:CATCAAGGTTAGCGGA'\n",
       "\\item '2020-09-15-AML0024:CATCAAGTCCGAGAAG'\n",
       "\\item '2020-09-15-AML0024:CATCCACAGGGACCAT'\n",
       "\\item '2020-09-15-AML0024:CCTCAACAGAGCAAGA'\n",
       "\\item '2020-09-15-AML0024:CCTCAACAGTTCCATG'\n",
       "\\item '2020-09-15-AML0024:CCTCAACGTAGAATAC'\n",
       "\\end{enumerate*}\n"
      ],
      "text/markdown": [
       "1. '2020-09-15-AML0024:CATCAAGGTTAGCGGA'\n",
       "2. '2020-09-15-AML0024:CATCAAGTCCGAGAAG'\n",
       "3. '2020-09-15-AML0024:CATCCACAGGGACCAT'\n",
       "4. '2020-09-15-AML0024:CCTCAACAGAGCAAGA'\n",
       "5. '2020-09-15-AML0024:CCTCAACAGTTCCATG'\n",
       "6. '2020-09-15-AML0024:CCTCAACGTAGAATAC'\n",
       "\n",
       "\n"
      ],
      "text/plain": [
       "[1] \"2020-09-15-AML0024:CATCAAGGTTAGCGGA\" \"2020-09-15-AML0024:CATCAAGTCCGAGAAG\"\n",
       "[3] \"2020-09-15-AML0024:CATCCACAGGGACCAT\" \"2020-09-15-AML0024:CCTCAACAGAGCAAGA\"\n",
       "[5] \"2020-09-15-AML0024:CCTCAACAGTTCCATG\" \"2020-09-15-AML0024:CCTCAACGTAGAATAC\""
      ]
     },
     "metadata": {},
     "output_type": "display_data"
    }
   ],
   "source": [
    "head(colnames(counts))"
   ]
  },
  {
   "cell_type": "code",
   "execution_count": 18,
   "id": "debe23ba-2057-4233-80db-848178e8d64b",
   "metadata": {},
   "outputs": [
    {
     "data": {
      "text/html": [
       "<style>\n",
       ".list-inline {list-style: none; margin:0; padding: 0}\n",
       ".list-inline>li {display: inline-block}\n",
       ".list-inline>li:not(:last-child)::after {content: \"\\00b7\"; padding: 0 .5ex}\n",
       "</style>\n",
       "<ol class=list-inline><li>'2020-09-15-AML0024:CATCAAGGTTAGCGGA'</li><li>'2020-09-15-AML0024:CATCAAGTCCGAGAAG'</li><li>'2020-09-15-AML0024:CATCCACAGGGACCAT'</li><li>'2020-09-15-AML0024:CCTCAACAGAGCAAGA'</li><li>'2020-09-15-AML0024:CCTCAACAGTTCCATG'</li><li>'2020-09-15-AML0024:CCTCAACGTAGAATAC'</li></ol>\n"
      ],
      "text/latex": [
       "\\begin{enumerate*}\n",
       "\\item '2020-09-15-AML0024:CATCAAGGTTAGCGGA'\n",
       "\\item '2020-09-15-AML0024:CATCAAGTCCGAGAAG'\n",
       "\\item '2020-09-15-AML0024:CATCCACAGGGACCAT'\n",
       "\\item '2020-09-15-AML0024:CCTCAACAGAGCAAGA'\n",
       "\\item '2020-09-15-AML0024:CCTCAACAGTTCCATG'\n",
       "\\item '2020-09-15-AML0024:CCTCAACGTAGAATAC'\n",
       "\\end{enumerate*}\n"
      ],
      "text/markdown": [
       "1. '2020-09-15-AML0024:CATCAAGGTTAGCGGA'\n",
       "2. '2020-09-15-AML0024:CATCAAGTCCGAGAAG'\n",
       "3. '2020-09-15-AML0024:CATCCACAGGGACCAT'\n",
       "4. '2020-09-15-AML0024:CCTCAACAGAGCAAGA'\n",
       "5. '2020-09-15-AML0024:CCTCAACAGTTCCATG'\n",
       "6. '2020-09-15-AML0024:CCTCAACGTAGAATAC'\n",
       "\n",
       "\n"
      ],
      "text/plain": [
       "[1] \"2020-09-15-AML0024:CATCAAGGTTAGCGGA\" \"2020-09-15-AML0024:CATCAAGTCCGAGAAG\"\n",
       "[3] \"2020-09-15-AML0024:CATCCACAGGGACCAT\" \"2020-09-15-AML0024:CCTCAACAGAGCAAGA\"\n",
       "[5] \"2020-09-15-AML0024:CCTCAACAGTTCCATG\" \"2020-09-15-AML0024:CCTCAACGTAGAATAC\""
      ]
     },
     "metadata": {},
     "output_type": "display_data"
    }
   ],
   "source": [
    "head(rownames(anno_cells))"
   ]
  },
  {
   "cell_type": "code",
   "execution_count": 19,
   "id": "bcfa1443",
   "metadata": {},
   "outputs": [],
   "source": [
    "#create a Seurat object\n",
    "srt=CreateSeuratObject(counts=counts, meta.data=anno_cells)"
   ]
  },
  {
   "cell_type": "code",
   "execution_count": 20,
   "id": "1f2a9771",
   "metadata": {},
   "outputs": [
    {
     "data": {
      "text/plain": [
       ".\n",
       "    AML healthy \n",
       "  21311   25391 "
      ]
     },
     "metadata": {},
     "output_type": "display_data"
    }
   ],
   "source": [
    "#peek into the number of cells for case/control\n",
    "srt@meta.data$health_status %>% table()"
   ]
  },
  {
   "cell_type": "code",
   "execution_count": 21,
   "id": "af19b77d",
   "metadata": {},
   "outputs": [
    {
     "data": {
      "text/plain": [
       ".\n",
       "    B    DC   Ery  Gran  HSPC  Mono    NK     T \n",
       " 4765  1634  1674  2332  3169 18004  3078 12046 "
      ]
     },
     "metadata": {},
     "output_type": "display_data"
    }
   ],
   "source": [
    "#peek into the number of cell types\n",
    "srt@meta.data$cell_type %>% table()"
   ]
  },
  {
   "cell_type": "code",
   "execution_count": 22,
   "id": "7b012d22",
   "metadata": {},
   "outputs": [],
   "source": [
    "#set the indent to cell_type\n",
    "Idents(srt) <- \"cell_type\""
   ]
  },
  {
   "cell_type": "code",
   "execution_count": 23,
   "id": "c11a0521",
   "metadata": {},
   "outputs": [
    {
     "name": "stdout",
     "output_type": "stream",
     "text": [
      "[1] \"Mono\"\n",
      "[1] 178\n",
      "[1] \"Gran\"\n",
      "[1] 103\n",
      "[1] \"T\"\n",
      "[1] 48\n",
      "[1] \"NK\"\n",
      "[1] 164\n",
      "[1] \"B\"\n",
      "[1] 74\n",
      "[1] \"HSPC\"\n",
      "[1] 90\n",
      "[1] \"Ery\"\n",
      "[1] 645\n",
      "[1] \"DC\"\n",
      "[1] 56\n"
     ]
    }
   ],
   "source": [
    "# initialize empty vector for storing DEGs\n",
    "DEGs <- c()\n",
    "\n",
    "# iterate over each unique cell type \n",
    "for (cell in unique(srt@meta.data$cell_type)) {\n",
    "  \n",
    "  # subset Seurat object to only include cells of current cell type\n",
    "  seurat_obj_receiver <- subset(srt, idents = cell)\n",
    "  \n",
    "  # set cell identity using the \"health_status\" feature\n",
    "  seurat_obj_receiver <- SetIdent(seurat_obj_receiver, value = seurat_obj_receiver[[\"health_status\"]])\n",
    "  \n",
    "  # specify the two conditions to compare\n",
    "  condition_oi <- \"AML\"\n",
    "  condition_reference <- \"healthy\" \n",
    "  \n",
    "  # find differentially expressed genes between the two conditions\n",
    "  DE_table_receiver <- FindMarkers(object = seurat_obj_receiver, \n",
    "                                   ident.1 = condition_oi, \n",
    "                                   ident.2 = condition_reference, \n",
    "                                   min.pct = 0.10) %>%\n",
    "    # convert row names to a separate \"gene\" column\n",
    "    rownames_to_column(\"gene\")\n",
    "  \n",
    "  # add cell type information to the DEG table\n",
    "  DE_table_receiver <- data.frame(cluster = cell, DE_table_receiver)\n",
    "  \n",
    "  # filter DEGs based on statistical significance and fold change threshold\n",
    "  DE_table_receiver <- DE_table_receiver %>% \n",
    "    filter(p_val_adj <= 0.05 & abs(avg_log2FC) >= 0.25)\n",
    "  \n",
    "  # print cell type and number of DEGs found\n",
    "  print(cell)\n",
    "  print(nrow(DE_table_receiver))\n",
    "  \n",
    "  # append DEGs to the vector of all DEGs\n",
    "  DEGs <- rbind(DEGs, DE_table_receiver)\n",
    "}\n"
   ]
  },
  {
   "cell_type": "code",
   "execution_count": 24,
   "id": "4eed7d9c",
   "metadata": {},
   "outputs": [],
   "source": [
    "# write.table(DEGs, file =paste0(output_dir,\"samples_DEGs/DEGs.tsv\"), sep = '\\t', quote = F, row.names = F)"
   ]
  },
  {
   "cell_type": "code",
   "execution_count": 25,
   "id": "22b4bdfd",
   "metadata": {},
   "outputs": [],
   "source": [
    "meta <- anno_cells[\"cell_type\"] %>% rownames_to_column(\"Cell\")"
   ]
  },
  {
   "cell_type": "markdown",
   "id": "147321b7",
   "metadata": {},
   "source": [
    "Below code takes an expression counts matrix (counts) and an annotation data frame (anno_cells) and writes out a separate counts file and metadata file for each sample ID in the sample_ID column of anno_cells. Each metadata file contains a single column (cell_type) and a row for each cell in the sample (required by CellPhoneDB), while the counts file contains the expression counts for each gene in each cell."
   ]
  },
  {
   "cell_type": "code",
   "execution_count": 26,
   "id": "4424c74e",
   "metadata": {},
   "outputs": [
    {
     "name": "stderr",
     "output_type": "stream",
     "text": [
      "Warning message in dir.create(file.path(output_dir, \"samples_DEGs\")):\n",
      "“'outs//samples_DEGs' already exists”\n"
     ]
    }
   ],
   "source": [
    "# create a directory \"samples_DEGs\" to save the subsetted counts and annotation files. \n",
    "dir.create(file.path(output_dir, \"samples_DEGs\"))\n",
    "\n",
    "# loop over each unique sample ID in the \"sample_ID\" column of the \"anno_cells\" data frame\n",
    "for (sample in unique(anno_cells$sample_ID)) {\n",
    "  \n",
    "  # filter the annotation data frame to include only cells from the current sample\n",
    "  anno_filtered <- filter(anno_cells, sample_ID == sample)\n",
    "  \n",
    "  # subset the expression counts matrix to the current sample\n",
    "  subset_counts <- counts[, rownames(anno_filtered)]\n",
    "  \n",
    "  # subset the annotation data frame (required by CellPhoneDB)\n",
    "  subset_meta <- anno_filtered[\"cell_type\"] %>% rownames_to_column(\"Cell\")\n",
    "    \n",
    "  # subset DEGs\n",
    "  subset_DEGs <- DEGs %>% filter(cluster %in% unique(subset_meta$cell_type))\n",
    "  \n",
    "  # write the subsetted annotation data frame to a tab-separated value (TSV) file\n",
    "  write.table(subset_meta, paste0(output_dir,\"samples_DEGs/\", sample, \"_meta.tsv\"), sep = '\\t', quote = F, row.names = F)\n",
    "  \n",
    "  # write the subsetted counts matrix to a TSV file\n",
    "  write.table(subset_counts, paste0(output_dir,\"samples_DEGs/\", sample, \"_counts.tsv\"), sep = '\\t', quote = F)\n",
    "\n",
    "  write.table(subset_DEGs, paste0(output_dir,\"samples_DEGs/\", sample, \"_DEGs.tsv\"), sep = '\\t', quote = F)\n",
    "\n",
    "\n",
    "\n",
    "}\n"
   ]
  },
  {
   "cell_type": "markdown",
   "id": "cce82c40",
   "metadata": {},
   "source": [
    "Below is the content of shell script (`./runCPDB.sh`) that performs CellPhoneDB using DEG analysis method for each sample in the /samples_DEGs/ directory.\n",
    "\n",
    "For each sample, the script creates a new directory `(${sample}_results)` to store the results of the CellPhoneDB analysis. The cellphonedb method degs_analysis command runs the DEG analysis method on the metadata and counts files for the current sample, using the `../DEGs.tsv` file as input for the list of differentially expressed genes. The `--database` option specifies the path to the CellPhoneDB database to use for the analysis, while the `--counts-data` option specifies the type of gene identifier used in the counts file (in this case, `hgnc_symbol`). The `--output-path` option specifies the directory where the analysis results will be saved."
   ]
  },
  {
   "cell_type": "markdown",
   "id": "1fabfd75",
   "metadata": {},
   "source": [
    "`'./runCPDB.sh'`\n",
    "\n",
    "```bash\n",
    "# Set the directory path to the directory containing the DEG samples\n",
    "samples_dir=../../../../../results/method_comparison/compare_algorithms/CPDB/samples_DEGs/\n",
    "\n",
    "# Get a list of sample names\n",
    "my_vars=$(ls \"$samples_dir\" | cut -d_ -f1 | uniq)\n",
    "\n",
    "# Set the path to the custom database file\n",
    "custom_db=../../../../../results/method_comparison/build_customDB/CPDB/custom_cellphone.db\n",
    "\n",
    "# Loop over each sample variable name\n",
    "for sample in $my_vars;\n",
    "do\n",
    "  # Create a subdirectory for the sample results\n",
    "  mkdir ${samples_dir}${sample}_results;\n",
    "\n",
    "  # Run CellPhoneDB's DEG analysis method on the sample using the custom database, with input files in the sample directory and output files in the sample results subdirectory\n",
    "  cellphonedb method degs_analysis ${samples_dir}${sample}_meta.tsv ${samples_dir}${sample}_counts.tsv ${samples_dir}${sample}_DEGs.tsv --database $custom_db --counts-data hgnc_symbol --output-path ${samples_dir}${sample}_results/;\n",
    "done;\n",
    "```"
   ]
  },
  {
   "cell_type": "code",
   "execution_count": null,
   "id": "cf72c6bd-fc9e-43bf-9244-f50a732ee043",
   "metadata": {},
   "outputs": [],
   "source": []
  },
  {
   "cell_type": "code",
   "execution_count": null,
   "id": "12c0bc74-a19f-4629-8b24-6bc8c198a40d",
   "metadata": {},
   "outputs": [],
   "source": []
  },
  {
   "cell_type": "code",
   "execution_count": 27,
   "id": "f57391e7",
   "metadata": {},
   "outputs": [],
   "source": [
    "#make sure cpdb is installed in the env.\n",
    "# run_CPDB <- './runCPDB.sh'"
   ]
  },
  {
   "cell_type": "code",
   "execution_count": null,
   "id": "a5ad927b-6c35-4af5-a7fd-8574b51523f6",
   "metadata": {},
   "outputs": [],
   "source": []
  },
  {
   "cell_type": "code",
   "execution_count": 28,
   "id": "38e42b99",
   "metadata": {},
   "outputs": [],
   "source": [
    "system('conda run -n cellphonedb ./runCPDB_Lasry.sh')"
   ]
  },
  {
   "cell_type": "markdown",
   "id": "8ecd1177",
   "metadata": {},
   "source": [
    "### Restructure CellPhoneDB's outputs"
   ]
  },
  {
   "cell_type": "markdown",
   "id": "c3561356",
   "metadata": {},
   "source": [
    "####\n",
    "\n",
    "`community` tool designates interactions as up- or down-regulated when identified as differential. In contrast, CellPhoneDB doesn't provide this distinction. To maintain consistency, we utilized the means.txt file. This approach enabled us to calculate log2FC_weights, thereby assigning directionalities to the interactions"
   ]
  },
  {
   "cell_type": "code",
   "execution_count": 224,
   "id": "025d31de",
   "metadata": {},
   "outputs": [],
   "source": [
    "results_dir <- list.dirs(path = paste0(output_dir,\"samples_DEGs/\"), full.names = TRUE)"
   ]
  },
  {
   "cell_type": "code",
   "execution_count": 225,
   "id": "23925a83",
   "metadata": {},
   "outputs": [],
   "source": [
    "results_dir <- results_dir[grepl(\"_results\", results_dir, fixed = TRUE)]"
   ]
  },
  {
   "cell_type": "code",
   "execution_count": 226,
   "id": "488f48ff",
   "metadata": {},
   "outputs": [],
   "source": [
    "# Define a function called 'restructure_result' that takes one argument, 'cpdb_means'\n",
    "restructure_result <- function(cpdb_means) {\n",
    "  \n",
    "  # Subset the columns of 'cpdb_means' that contain 'interacting_pair' or '|'\n",
    "  cpdb_means <- cpdb_means[, grepl('interacting_pair|\\\\|', colnames(cpdb_means))]\n",
    "  \n",
    "  # Pivot the data to long format and split the 'interacting_pair' column into 'sending_protein' and 'receiving_protein' columns\n",
    "  # Split the 'cell_types' column into 'sending_celltype' and 'receiving_celltype' columns\n",
    "  # Unite the 'sending_celltype' and 'sending_protein' columns into a single column called 'sender'\n",
    "  # Unite the 'receiving_celltype' and 'receiving_protein' columns into a single column called 'receiver'\n",
    "  # Unite the 'sender' and 'receiver' columns into a single column called 'interacting_pairs'\n",
    "  # Select the 'interacting_pairs' and 'value' columns\n",
    "  conversion <- cpdb_means %>%\n",
    "    pivot_longer(cols = -interacting_pair, names_to = \"cell_types\", values_to = \"value\") %>%\n",
    "    separate(interacting_pair, c(\"sending_protein\", \"receiving_protein\"), sep = \"_\") %>%\n",
    "    separate(cell_types, c(\"sending_celltype\", \"receiving_celltype\"), sep = \"\\\\|\") %>%\n",
    "    unite(sender, c(\"sending_celltype\", \"sending_protein\"), sep = \":\", remove = FALSE) %>%\n",
    "    unite(receiver, c(\"receiving_celltype\", \"receiving_protein\"), sep = \":\", remove = FALSE) %>%\n",
    "    unite(interacting_pairs, c(\"sender\", \"receiver\"), sep = \"_\", remove = FALSE) %>%\n",
    "    select(interacting_pairs, value)\n",
    "  \n",
    "  # Return the processed data\n",
    "  return(conversion)\n",
    "}\n"
   ]
  },
  {
   "cell_type": "code",
   "execution_count": 227,
   "id": "61c347a8",
   "metadata": {},
   "outputs": [],
   "source": [
    "results=list()\n",
    "for (sample in results_dir){\n",
    "    \n",
    "    file <- paste0(sample,\"/relevant_interactions.txt\")\n",
    "    \n",
    "    sample_id <- basename(sample)\n",
    "    sample_id <- strsplit(sample_id, '_')[[1]][1]\n",
    "    \n",
    "    \n",
    "    if (file.exists(file)){\n",
    "        \n",
    "        cpdb_means <- read.csv(file, sep = \"\\t\",  check.names = FALSE)\n",
    "        \n",
    "        \n",
    "        sample_result <- restructure_result(cpdb_means)\n",
    "        colnames(sample_result) <- c(\"interaction_ID\",sample_id)\n",
    "        results[[sample_id]] <- sample_result\n",
    "        \n",
    "    }\n",
    "    \n",
    "}"
   ]
  },
  {
   "cell_type": "code",
   "execution_count": 228,
   "id": "1ec7acf9",
   "metadata": {},
   "outputs": [],
   "source": [
    "means=list()\n",
    "for (sample in results_dir){\n",
    "    \n",
    "    file <- paste0(sample,\"/means.txt\")\n",
    "    \n",
    "    sample_id <- basename(sample)\n",
    "    sample_id <- strsplit(sample_id, '_')[[1]][1]\n",
    "    \n",
    "    \n",
    "    if (file.exists(file)){\n",
    "        \n",
    "        cpdb_means <- read.csv(file, sep = \"\\t\",  check.names = FALSE)\n",
    "        \n",
    "        \n",
    "        sample_result <- restructure_result(cpdb_means)\n",
    "        colnames(sample_result) <- c(\"interaction_ID\",sample_id)\n",
    "        means[[sample_id]] <- sample_result\n",
    "        \n",
    "    }\n",
    "    \n",
    "}"
   ]
  },
  {
   "cell_type": "code",
   "execution_count": 229,
   "id": "bdf3e71e",
   "metadata": {},
   "outputs": [],
   "source": [
    "# Define a variable called `result` that will hold the output of the Reduce function\n",
    "means <- Reduce(\n",
    "  \n",
    "  # The `Reduce()` function takes two arguments: a function and a list.\n",
    "  # In this case, the function is an anonymous function defined using the `function()` keyword.\n",
    "  # This function takes two arguments `x` and `y` and performs a full join between them using the `full_join()` function from the `dplyr` package.\n",
    "  # The `by = \"interaction\"` argument specifies that the join should be performed on the \"interaction\" column.\n",
    "  function(x, y) full_join(x, y, by = \"interaction_ID\"), \n",
    "  \n",
    "  # The second argument to the `Reduce()` function is a list called `results`.\n",
    "  # This list contains data frames that need to be joined together.\n",
    "  means\n",
    ")"
   ]
  },
  {
   "cell_type": "code",
   "execution_count": 230,
   "id": "aee78e83",
   "metadata": {},
   "outputs": [],
   "source": [
    "# Define a variable called `result` that will hold the output of the Reduce function\n",
    "matrix_result <- Reduce(\n",
    "  \n",
    "  # The `Reduce()` function takes two arguments: a function and a list.\n",
    "  # In this case, the function is an anonymous function defined using the `function()` keyword.\n",
    "  # This function takes two arguments `x` and `y` and performs a full join between them using the `full_join()` function from the `dplyr` package.\n",
    "  # The `by = \"interaction\"` argument specifies that the join should be performed on the \"interaction\" column.\n",
    "  function(x, y) full_join(x, y, by = \"interaction_ID\"), \n",
    "  \n",
    "  # The second argument to the `Reduce()` function is a list called `results`.\n",
    "  # This list contains data frames that need to be joined together.\n",
    "  results\n",
    ")"
   ]
  },
  {
   "cell_type": "code",
   "execution_count": 231,
   "id": "b458d798",
   "metadata": {},
   "outputs": [],
   "source": [
    "matrix_result[is.na(matrix_result)] <- 0"
   ]
  },
  {
   "cell_type": "code",
   "execution_count": 232,
   "id": "18112747",
   "metadata": {},
   "outputs": [
    {
     "data": {
      "text/html": [
       "<table class=\"dataframe\">\n",
       "<caption>A tibble: 6 × 14</caption>\n",
       "<thead>\n",
       "\t<tr><th scope=col>interaction_ID</th><th scope=col>AML-0024</th><th scope=col>AML-0160</th><th scope=col>AML-0693</th><th scope=col>AML-1371</th><th scope=col>AML-2123</th><th scope=col>AML-3133</th><th scope=col>AML-4340</th><th scope=col>healthy-1</th><th scope=col>healthy-2</th><th scope=col>healthy-3</th><th scope=col>healthy-4</th><th scope=col>healthy-4003</th><th scope=col>healthy-5</th></tr>\n",
       "\t<tr><th scope=col>&lt;chr&gt;</th><th scope=col>&lt;int&gt;</th><th scope=col>&lt;int&gt;</th><th scope=col>&lt;int&gt;</th><th scope=col>&lt;int&gt;</th><th scope=col>&lt;int&gt;</th><th scope=col>&lt;int&gt;</th><th scope=col>&lt;int&gt;</th><th scope=col>&lt;int&gt;</th><th scope=col>&lt;int&gt;</th><th scope=col>&lt;int&gt;</th><th scope=col>&lt;int&gt;</th><th scope=col>&lt;int&gt;</th><th scope=col>&lt;int&gt;</th></tr>\n",
       "</thead>\n",
       "<tbody>\n",
       "\t<tr><td>B:ARPC5_B:ADRB2   </td><td>0</td><td>0</td><td>0</td><td>0</td><td>0</td><td>0</td><td>0</td><td>0</td><td>0</td><td>0</td><td>0</td><td>0</td><td>0</td></tr>\n",
       "\t<tr><td>B:ARPC5_DC:ADRB2  </td><td>0</td><td>0</td><td>0</td><td>1</td><td>0</td><td>0</td><td>0</td><td>0</td><td>0</td><td>0</td><td>1</td><td>0</td><td>0</td></tr>\n",
       "\t<tr><td>B:ARPC5_Ery:ADRB2 </td><td>0</td><td>0</td><td>0</td><td>0</td><td>0</td><td>0</td><td>0</td><td>0</td><td>0</td><td>0</td><td>0</td><td>0</td><td>0</td></tr>\n",
       "\t<tr><td>B:ARPC5_Gran:ADRB2</td><td>0</td><td>0</td><td>0</td><td>1</td><td>0</td><td>0</td><td>0</td><td>0</td><td>1</td><td>0</td><td>0</td><td>1</td><td>0</td></tr>\n",
       "\t<tr><td>B:ARPC5_HSPC:ADRB2</td><td>0</td><td>0</td><td>0</td><td>1</td><td>0</td><td>0</td><td>0</td><td>0</td><td>0</td><td>0</td><td>0</td><td>0</td><td>0</td></tr>\n",
       "\t<tr><td>B:ARPC5_Mono:ADRB2</td><td>0</td><td>0</td><td>0</td><td>1</td><td>0</td><td>0</td><td>0</td><td>0</td><td>0</td><td>0</td><td>0</td><td>0</td><td>0</td></tr>\n",
       "</tbody>\n",
       "</table>\n"
      ],
      "text/latex": [
       "A tibble: 6 × 14\n",
       "\\begin{tabular}{llllllllllllll}\n",
       " interaction\\_ID & AML-0024 & AML-0160 & AML-0693 & AML-1371 & AML-2123 & AML-3133 & AML-4340 & healthy-1 & healthy-2 & healthy-3 & healthy-4 & healthy-4003 & healthy-5\\\\\n",
       " <chr> & <int> & <int> & <int> & <int> & <int> & <int> & <int> & <int> & <int> & <int> & <int> & <int> & <int>\\\\\n",
       "\\hline\n",
       "\t B:ARPC5\\_B:ADRB2    & 0 & 0 & 0 & 0 & 0 & 0 & 0 & 0 & 0 & 0 & 0 & 0 & 0\\\\\n",
       "\t B:ARPC5\\_DC:ADRB2   & 0 & 0 & 0 & 1 & 0 & 0 & 0 & 0 & 0 & 0 & 1 & 0 & 0\\\\\n",
       "\t B:ARPC5\\_Ery:ADRB2  & 0 & 0 & 0 & 0 & 0 & 0 & 0 & 0 & 0 & 0 & 0 & 0 & 0\\\\\n",
       "\t B:ARPC5\\_Gran:ADRB2 & 0 & 0 & 0 & 1 & 0 & 0 & 0 & 0 & 1 & 0 & 0 & 1 & 0\\\\\n",
       "\t B:ARPC5\\_HSPC:ADRB2 & 0 & 0 & 0 & 1 & 0 & 0 & 0 & 0 & 0 & 0 & 0 & 0 & 0\\\\\n",
       "\t B:ARPC5\\_Mono:ADRB2 & 0 & 0 & 0 & 1 & 0 & 0 & 0 & 0 & 0 & 0 & 0 & 0 & 0\\\\\n",
       "\\end{tabular}\n"
      ],
      "text/markdown": [
       "\n",
       "A tibble: 6 × 14\n",
       "\n",
       "| interaction_ID &lt;chr&gt; | AML-0024 &lt;int&gt; | AML-0160 &lt;int&gt; | AML-0693 &lt;int&gt; | AML-1371 &lt;int&gt; | AML-2123 &lt;int&gt; | AML-3133 &lt;int&gt; | AML-4340 &lt;int&gt; | healthy-1 &lt;int&gt; | healthy-2 &lt;int&gt; | healthy-3 &lt;int&gt; | healthy-4 &lt;int&gt; | healthy-4003 &lt;int&gt; | healthy-5 &lt;int&gt; |\n",
       "|---|---|---|---|---|---|---|---|---|---|---|---|---|---|\n",
       "| B:ARPC5_B:ADRB2    | 0 | 0 | 0 | 0 | 0 | 0 | 0 | 0 | 0 | 0 | 0 | 0 | 0 |\n",
       "| B:ARPC5_DC:ADRB2   | 0 | 0 | 0 | 1 | 0 | 0 | 0 | 0 | 0 | 0 | 1 | 0 | 0 |\n",
       "| B:ARPC5_Ery:ADRB2  | 0 | 0 | 0 | 0 | 0 | 0 | 0 | 0 | 0 | 0 | 0 | 0 | 0 |\n",
       "| B:ARPC5_Gran:ADRB2 | 0 | 0 | 0 | 1 | 0 | 0 | 0 | 0 | 1 | 0 | 0 | 1 | 0 |\n",
       "| B:ARPC5_HSPC:ADRB2 | 0 | 0 | 0 | 1 | 0 | 0 | 0 | 0 | 0 | 0 | 0 | 0 | 0 |\n",
       "| B:ARPC5_Mono:ADRB2 | 0 | 0 | 0 | 1 | 0 | 0 | 0 | 0 | 0 | 0 | 0 | 0 | 0 |\n",
       "\n"
      ],
      "text/plain": [
       "  interaction_ID     AML-0024 AML-0160 AML-0693 AML-1371 AML-2123 AML-3133\n",
       "1 B:ARPC5_B:ADRB2    0        0        0        0        0        0       \n",
       "2 B:ARPC5_DC:ADRB2   0        0        0        1        0        0       \n",
       "3 B:ARPC5_Ery:ADRB2  0        0        0        0        0        0       \n",
       "4 B:ARPC5_Gran:ADRB2 0        0        0        1        0        0       \n",
       "5 B:ARPC5_HSPC:ADRB2 0        0        0        1        0        0       \n",
       "6 B:ARPC5_Mono:ADRB2 0        0        0        1        0        0       \n",
       "  AML-4340 healthy-1 healthy-2 healthy-3 healthy-4 healthy-4003 healthy-5\n",
       "1 0        0         0         0         0         0            0        \n",
       "2 0        0         0         0         1         0            0        \n",
       "3 0        0         0         0         0         0            0        \n",
       "4 0        0         1         0         0         1            0        \n",
       "5 0        0         0         0         0         0            0        \n",
       "6 0        0         0         0         0         0            0        "
      ]
     },
     "metadata": {},
     "output_type": "display_data"
    }
   ],
   "source": [
    "head(matrix_result)"
   ]
  },
  {
   "cell_type": "code",
   "execution_count": 233,
   "id": "7c7ce2dc",
   "metadata": {},
   "outputs": [
    {
     "name": "stdout",
     "output_type": "stream",
     "text": [
      "tibble [22,502 × 14] (S3: tbl_df/tbl/data.frame)\n",
      " $ interaction_ID: chr [1:22502] \"B:ARPC5_B:ADRB2\" \"B:ARPC5_DC:ADRB2\" \"B:ARPC5_Ery:ADRB2\" \"B:ARPC5_Gran:ADRB2\" ...\n",
      " $ AML-0024      : int [1:22502] 0 0 0 0 0 0 0 1 0 0 ...\n",
      " $ AML-0160      : int [1:22502] 0 0 0 0 0 0 0 0 0 0 ...\n",
      " $ AML-0693      : int [1:22502] 0 0 0 0 0 0 0 0 0 0 ...\n",
      " $ AML-1371      : int [1:22502] 0 1 0 1 1 1 1 1 0 0 ...\n",
      " $ AML-2123      : int [1:22502] 0 0 0 0 0 0 1 0 0 0 ...\n",
      " $ AML-3133      : int [1:22502] 0 0 0 0 0 0 0 0 0 0 ...\n",
      " $ AML-4340      : int [1:22502] 0 0 0 0 0 0 0 0 0 0 ...\n",
      " $ healthy-1     : int [1:22502] 0 0 0 0 0 0 0 0 0 0 ...\n",
      " $ healthy-2     : int [1:22502] 0 0 0 1 0 0 0 0 0 0 ...\n",
      " $ healthy-3     : int [1:22502] 0 0 0 0 0 0 0 0 0 0 ...\n",
      " $ healthy-4     : int [1:22502] 0 1 0 0 0 0 1 0 0 0 ...\n",
      " $ healthy-4003  : int [1:22502] 0 0 0 1 0 0 0 0 0 0 ...\n",
      " $ healthy-5     : int [1:22502] 0 0 0 0 0 0 0 0 0 0 ...\n"
     ]
    }
   ],
   "source": [
    "str(matrix_result)"
   ]
  },
  {
   "cell_type": "code",
   "execution_count": null,
   "id": "62619ac7",
   "metadata": {},
   "outputs": [],
   "source": []
  },
  {
   "cell_type": "code",
   "execution_count": 234,
   "id": "585a89c8",
   "metadata": {},
   "outputs": [],
   "source": [
    "# str(matrix_result[rowSums(matrix_result[, -1] != 0, na.rm = TRUE) > 0, ])"
   ]
  },
  {
   "cell_type": "code",
   "execution_count": 235,
   "id": "0f9082d8",
   "metadata": {},
   "outputs": [
    {
     "name": "stdout",
     "output_type": "stream",
     "text": [
      "tibble [2,421 × 14] (S3: tbl_df/tbl/data.frame)\n",
      " $ interaction_ID: chr [1:2421] \"B:ARPC5_DC:ADRB2\" \"B:ARPC5_Gran:ADRB2\" \"B:ARPC5_HSPC:ADRB2\" \"B:ARPC5_Mono:ADRB2\" ...\n",
      " $ AML-0024      : int [1:2421] 0 0 0 0 0 1 0 0 0 0 ...\n",
      " $ AML-0160      : int [1:2421] 0 0 0 0 0 0 0 0 0 0 ...\n",
      " $ AML-0693      : int [1:2421] 0 0 0 0 0 0 0 0 0 0 ...\n",
      " $ AML-1371      : int [1:2421] 1 1 1 1 1 1 1 1 1 1 ...\n",
      " $ AML-2123      : int [1:2421] 0 0 0 0 1 0 0 0 0 0 ...\n",
      " $ AML-3133      : int [1:2421] 0 0 0 0 0 0 0 0 0 0 ...\n",
      " $ AML-4340      : int [1:2421] 0 0 0 0 0 0 0 0 0 0 ...\n",
      " $ healthy-1     : int [1:2421] 0 0 0 0 0 0 0 0 0 0 ...\n",
      " $ healthy-2     : int [1:2421] 0 1 0 0 0 0 0 1 0 0 ...\n",
      " $ healthy-3     : int [1:2421] 0 0 0 0 0 0 0 0 0 0 ...\n",
      " $ healthy-4     : int [1:2421] 1 0 0 0 1 0 1 0 0 0 ...\n",
      " $ healthy-4003  : int [1:2421] 0 1 0 0 0 0 0 0 0 0 ...\n",
      " $ healthy-5     : int [1:2421] 0 0 0 0 0 0 0 0 0 0 ...\n"
     ]
    }
   ],
   "source": [
    "str(matrix_result %>%\n",
    "  filter(rowSums(. == 1) > 0))"
   ]
  },
  {
   "cell_type": "code",
   "execution_count": 236,
   "id": "3eb5bf25",
   "metadata": {},
   "outputs": [],
   "source": [
    "matrix_result <- matrix_result[rowSums(matrix_result[, -1] != 0, na.rm = TRUE) > 0, ]"
   ]
  },
  {
   "cell_type": "code",
   "execution_count": 237,
   "id": "c7937171",
   "metadata": {},
   "outputs": [],
   "source": [
    "# Example list of strings\n",
    "strings <- matrix_result$interaction_ID\n",
    "\n",
    "# Initialize empty vectors for each column\n",
    "sender_celltype <- c()\n",
    "sender_gene <- c()\n",
    "receiver_celltype <- c()\n",
    "receiver_gene <- c()\n",
    "\n",
    "# Loop through each string and split it\n",
    "for (string in strings) {\n",
    "  parts <- strsplit(string, \"_\")\n",
    "  \n",
    "  # Split the sender part\n",
    "  sender_parts <- strsplit(parts[[1]][1], \":\")\n",
    "  sender_celltype <- c(sender_celltype, sender_parts[[1]][1])\n",
    "  sender_gene <- c(sender_gene, sender_parts[[1]][2])\n",
    "  \n",
    "  # Split the receiver part\n",
    "  receiver_parts <- strsplit(parts[[1]][2], \":\")\n",
    "  receiver_celltype <- c(receiver_celltype, receiver_parts[[1]][1])\n",
    "  receiver_gene <- c(receiver_gene, receiver_parts[[1]][2])\n",
    "}\n",
    "\n",
    "# Create a dataframe with the splitted values\n",
    "df <- data.frame(\n",
    "  sender_celltype = sender_celltype,\n",
    "  sender_gene = sender_gene,\n",
    "  receiver_celltype = receiver_celltype,\n",
    "  receiver_gene = receiver_gene\n",
    ")\n",
    "\n"
   ]
  },
  {
   "cell_type": "code",
   "execution_count": 238,
   "id": "eee0799b",
   "metadata": {},
   "outputs": [],
   "source": [
    "# Create interaction annotation df with log2FC values\n",
    "for (row in 1:nrow(df)){\n",
    "    each_row <- df[row,]\n",
    "    sender_cell <- each_row$sender_celltype\n",
    "    sender_gene <- each_row$sender_gene\n",
    "    receiver_cell <- each_row$receiver_celltype\n",
    "    receiver_gene <- each_row$receiver_gene\n",
    "    \n",
    "    ligand_log2FC <- subset(DEGs, cluster == sender_cell & gene == sender_gene)$avg_log2FC\n",
    "    \n",
    "    ligand_p_val_adj <- subset(DEGs, cluster == sender_cell & gene == sender_gene)$p_val_adj\n",
    "    \n",
    "    receptor_log2FC <- subset(DEGs, cluster == receiver_cell & gene == receiver_gene)$avg_log2FC\n",
    "    \n",
    "    receptor_p_val_adj <- subset(DEGs, cluster == receiver_cell & gene == receiver_gene)$p_val_adj\n",
    "\n",
    "    if (length(ligand_log2FC) == 0) {\n",
    "        df[row,\"ligand_log2FC\"] <- NA\n",
    "        df[row,\"ligand_p_val_adj\"] <- NA\n",
    "    } else {\n",
    "        df[row,\"ligand_log2FC\"] <- ligand_log2FC\n",
    "        df[row,\"ligand_p_val_adj\"] <- ligand_p_val_adj\n",
    "    }\n",
    "    \n",
    "    if (length(receptor_log2FC) == 0) {\n",
    "        df[row,\"receptor_log2FC\"] <- NA\n",
    "        df[row,\"receptor_p_val_adj\"] <- NA\n",
    "    } else {\n",
    "        df[row,\"receptor_log2FC\"] <- receptor_log2FC\n",
    "        df[row,\"receptor_p_val_adj\"] <- receptor_p_val_adj\n",
    "    }\n",
    "}\n"
   ]
  },
  {
   "cell_type": "code",
   "execution_count": 239,
   "id": "05695ea6",
   "metadata": {},
   "outputs": [
    {
     "data": {
      "text/html": [
       "<table class=\"dataframe\">\n",
       "<caption>A data.frame: 62 × 8</caption>\n",
       "<thead>\n",
       "\t<tr><th></th><th scope=col>sender_celltype</th><th scope=col>sender_gene</th><th scope=col>receiver_celltype</th><th scope=col>receiver_gene</th><th scope=col>ligand_log2FC</th><th scope=col>ligand_p_val_adj</th><th scope=col>receptor_log2FC</th><th scope=col>receptor_p_val_adj</th></tr>\n",
       "\t<tr><th></th><th scope=col>&lt;chr&gt;</th><th scope=col>&lt;chr&gt;</th><th scope=col>&lt;chr&gt;</th><th scope=col>&lt;chr&gt;</th><th scope=col>&lt;dbl&gt;</th><th scope=col>&lt;dbl&gt;</th><th scope=col>&lt;dbl&gt;</th><th scope=col>&lt;dbl&gt;</th></tr>\n",
       "</thead>\n",
       "<tbody>\n",
       "\t<tr><th scope=row>104</th><td>Ery </td><td>MIF     </td><td>HSPC</td><td>CD44 </td><td>-0.4807752</td><td> 5.612281e-82</td><td> 0.3099310</td><td> 2.781776e-82</td></tr>\n",
       "\t<tr><th scope=row>107</th><td>Ery </td><td>MIF     </td><td>T   </td><td>CD44 </td><td>-0.4807752</td><td> 5.612281e-82</td><td> 0.2663509</td><td>7.130473e-170</td></tr>\n",
       "\t<tr><th scope=row>178</th><td>NK  </td><td>VIM     </td><td>HSPC</td><td>CD44 </td><td> 0.2885934</td><td> 8.814570e-40</td><td> 0.3099310</td><td> 2.781776e-82</td></tr>\n",
       "\t<tr><th scope=row>181</th><td>NK  </td><td>VIM     </td><td>T   </td><td>CD44 </td><td> 0.2885934</td><td> 8.814570e-40</td><td> 0.2663509</td><td>7.130473e-170</td></tr>\n",
       "\t<tr><th scope=row>202</th><td>T   </td><td>SRGN    </td><td>HSPC</td><td>CD44 </td><td> 0.3019970</td><td> 0.000000e+00</td><td> 0.3099310</td><td> 2.781776e-82</td></tr>\n",
       "\t<tr><th scope=row>205</th><td>T   </td><td>SRGN    </td><td>T   </td><td>CD44 </td><td> 0.3019970</td><td> 0.000000e+00</td><td> 0.2663509</td><td>7.130473e-170</td></tr>\n",
       "\t<tr><th scope=row>330</th><td>Ery </td><td>MIF     </td><td>Mono</td><td>ACKR3</td><td>-0.4807752</td><td> 5.612281e-82</td><td> 0.2595831</td><td> 0.000000e+00</td></tr>\n",
       "\t<tr><th scope=row>425</th><td>Ery </td><td>CALM1   </td><td>B   </td><td>SELL </td><td>-0.4362474</td><td> 1.540198e-89</td><td>-0.2740404</td><td> 1.736327e-53</td></tr>\n",
       "\t<tr><th scope=row>526</th><td>Gran</td><td>ITGA4   </td><td>B   </td><td>CD81 </td><td> 0.2693447</td><td> 9.548232e-49</td><td>-0.2748321</td><td> 2.954843e-56</td></tr>\n",
       "\t<tr><th scope=row>541</th><td>Gran</td><td>HLA-DRA </td><td>B   </td><td>CD81 </td><td>-0.4478250</td><td> 4.553691e-82</td><td>-0.2748321</td><td> 2.954843e-56</td></tr>\n",
       "\t<tr><th scope=row>550</th><td>Mono</td><td>HLA-DRA </td><td>B   </td><td>CD81 </td><td>-0.5144044</td><td> 0.000000e+00</td><td>-0.2748321</td><td> 2.954843e-56</td></tr>\n",
       "\t<tr><th scope=row>563</th><td>Gran</td><td>HLA-DRB1</td><td>B   </td><td>CD81 </td><td>-0.4781948</td><td>1.215767e-138</td><td>-0.2748321</td><td> 2.954843e-56</td></tr>\n",
       "\t<tr><th scope=row>572</th><td>Mono</td><td>HLA-DRB1</td><td>B   </td><td>CD81 </td><td>-0.5103871</td><td> 0.000000e+00</td><td>-0.2748321</td><td> 2.954843e-56</td></tr>\n",
       "\t<tr><th scope=row>623</th><td>Mono</td><td>CALR    </td><td>NK  </td><td>HLA-F</td><td> 0.3016204</td><td> 0.000000e+00</td><td> 0.2569437</td><td> 5.348861e-25</td></tr>\n",
       "\t<tr><th scope=row>631</th><td>NK  </td><td>CALR    </td><td>NK  </td><td>HLA-F</td><td> 0.2762648</td><td> 3.152164e-31</td><td> 0.2569437</td><td> 5.348861e-25</td></tr>\n",
       "\t<tr><th scope=row>641</th><td>NK  </td><td>CD8A    </td><td>NK  </td><td>HLA-F</td><td> 0.2864859</td><td> 1.736999e-70</td><td> 0.2569437</td><td> 5.348861e-25</td></tr>\n",
       "\t<tr><th scope=row>669</th><td>Gran</td><td>S100A9  </td><td>Mono</td><td>CD36 </td><td>-0.3904363</td><td> 7.080928e-46</td><td> 0.2825379</td><td> 0.000000e+00</td></tr>\n",
       "\t<tr><th scope=row>686</th><td>Gran</td><td>S100A8  </td><td>Mono</td><td>CD36 </td><td>-0.3863276</td><td> 1.671713e-71</td><td> 0.2825379</td><td> 0.000000e+00</td></tr>\n",
       "\t<tr><th scope=row>714</th><td>NK  </td><td>TGFB1   </td><td>Mono</td><td>CXCR4</td><td> 0.2954128</td><td> 7.685857e-43</td><td> 0.3312534</td><td> 0.000000e+00</td></tr>\n",
       "\t<tr><th scope=row>715</th><td>NK  </td><td>TGFB1   </td><td>NK  </td><td>CXCR4</td><td> 0.2954128</td><td> 7.685857e-43</td><td> 0.4778400</td><td>2.592108e-128</td></tr>\n",
       "\t<tr><th scope=row>716</th><td>NK  </td><td>TGFB1   </td><td>T   </td><td>CXCR4</td><td> 0.2954128</td><td> 7.685857e-43</td><td> 0.4122167</td><td> 0.000000e+00</td></tr>\n",
       "\t<tr><th scope=row>722</th><td>T   </td><td>TGFB1   </td><td>Mono</td><td>CXCR4</td><td> 0.2742008</td><td>4.921795e-175</td><td> 0.3312534</td><td> 0.000000e+00</td></tr>\n",
       "\t<tr><th scope=row>723</th><td>T   </td><td>TGFB1   </td><td>NK  </td><td>CXCR4</td><td> 0.2742008</td><td>4.921795e-175</td><td> 0.4778400</td><td>2.592108e-128</td></tr>\n",
       "\t<tr><th scope=row>724</th><td>T   </td><td>TGFB1   </td><td>T   </td><td>CXCR4</td><td> 0.2742008</td><td>4.921795e-175</td><td> 0.4122167</td><td> 0.000000e+00</td></tr>\n",
       "\t<tr><th scope=row>754</th><td>Ery </td><td>MIF     </td><td>Mono</td><td>CXCR4</td><td>-0.4807752</td><td> 5.612281e-82</td><td> 0.3312534</td><td> 0.000000e+00</td></tr>\n",
       "\t<tr><th scope=row>755</th><td>Ery </td><td>MIF     </td><td>NK  </td><td>CXCR4</td><td>-0.4807752</td><td> 5.612281e-82</td><td> 0.4778400</td><td>2.592108e-128</td></tr>\n",
       "\t<tr><th scope=row>756</th><td>Ery </td><td>MIF     </td><td>T   </td><td>CXCR4</td><td>-0.4807752</td><td> 5.612281e-82</td><td> 0.4122167</td><td> 0.000000e+00</td></tr>\n",
       "\t<tr><th scope=row>864</th><td>Mono</td><td>ACKR3   </td><td>Mono</td><td>CXCR4</td><td> 0.2595831</td><td> 0.000000e+00</td><td> 0.3312534</td><td> 0.000000e+00</td></tr>\n",
       "\t<tr><th scope=row>865</th><td>Mono</td><td>ACKR3   </td><td>NK  </td><td>CXCR4</td><td> 0.2595831</td><td> 0.000000e+00</td><td> 0.4778400</td><td>2.592108e-128</td></tr>\n",
       "\t<tr><th scope=row>866</th><td>Mono</td><td>ACKR3   </td><td>T   </td><td>CXCR4</td><td> 0.2595831</td><td> 0.000000e+00</td><td> 0.4122167</td><td> 0.000000e+00</td></tr>\n",
       "\t<tr><th scope=row>⋮</th><td>⋮</td><td>⋮</td><td>⋮</td><td>⋮</td><td>⋮</td><td>⋮</td><td>⋮</td><td>⋮</td></tr>\n",
       "\t<tr><th scope=row>1165</th><td>Mono</td><td>HLA-DPA1</td><td>Mono</td><td>TNFSF9 </td><td>-0.4408790</td><td> 0.000000e+00</td><td> 0.3002600</td><td> 0.000000e+00</td></tr>\n",
       "\t<tr><th scope=row>1240</th><td>Gran</td><td>S100A8  </td><td>B   </td><td>CD69   </td><td>-0.3863276</td><td> 1.671713e-71</td><td> 0.3425042</td><td> 5.253434e-85</td></tr>\n",
       "\t<tr><th scope=row>1247</th><td>Gran</td><td>S100A8  </td><td>T   </td><td>CD69   </td><td>-0.3863276</td><td> 1.671713e-71</td><td> 0.2939413</td><td>3.458099e-191</td></tr>\n",
       "\t<tr><th scope=row>1268</th><td>NK  </td><td>LGALS1  </td><td>B   </td><td>CD69   </td><td> 0.2769630</td><td> 4.095038e-36</td><td> 0.3425042</td><td> 5.253434e-85</td></tr>\n",
       "\t<tr><th scope=row>1275</th><td>NK  </td><td>LGALS1  </td><td>T   </td><td>CD69   </td><td> 0.2769630</td><td> 4.095038e-36</td><td> 0.2939413</td><td>3.458099e-191</td></tr>\n",
       "\t<tr><th scope=row>1320</th><td>NK  </td><td>ITGB2   </td><td>Gran</td><td>S100A8 </td><td> 0.2768199</td><td> 1.826032e-30</td><td>-0.3863276</td><td> 1.671713e-71</td></tr>\n",
       "\t<tr><th scope=row>1340</th><td>NK  </td><td>ITGB2   </td><td>Gran</td><td>S100A9 </td><td> 0.2768199</td><td> 1.826032e-30</td><td>-0.3904363</td><td> 7.080928e-46</td></tr>\n",
       "\t<tr><th scope=row>1387</th><td>Gran</td><td>HLA-DRA </td><td>B   </td><td>CD53   </td><td>-0.4478250</td><td> 4.553691e-82</td><td>-0.2622543</td><td> 2.159003e-49</td></tr>\n",
       "\t<tr><th scope=row>1396</th><td>Mono</td><td>HLA-DRA </td><td>B   </td><td>CD53   </td><td>-0.5144044</td><td> 0.000000e+00</td><td>-0.2622543</td><td> 2.159003e-49</td></tr>\n",
       "\t<tr><th scope=row>1409</th><td>Gran</td><td>HLA-DRB1</td><td>B   </td><td>CD53   </td><td>-0.4781948</td><td>1.215767e-138</td><td>-0.2622543</td><td> 2.159003e-49</td></tr>\n",
       "\t<tr><th scope=row>1418</th><td>Mono</td><td>HLA-DRB1</td><td>B   </td><td>CD53   </td><td>-0.5103871</td><td> 0.000000e+00</td><td>-0.2622543</td><td> 2.159003e-49</td></tr>\n",
       "\t<tr><th scope=row>1478</th><td>Gran</td><td>ITGA4   </td><td>Ery </td><td>CD82   </td><td> 0.2693447</td><td> 9.548232e-49</td><td>-0.2656010</td><td> 1.928710e-41</td></tr>\n",
       "\t<tr><th scope=row>1492</th><td>Gran</td><td>HLA-DRA </td><td>Ery </td><td>CD82   </td><td>-0.4478250</td><td> 4.553691e-82</td><td>-0.2656010</td><td> 1.928710e-41</td></tr>\n",
       "\t<tr><th scope=row>1500</th><td>Mono</td><td>HLA-DRA </td><td>Ery </td><td>CD82   </td><td>-0.5144044</td><td> 0.000000e+00</td><td>-0.2656010</td><td> 1.928710e-41</td></tr>\n",
       "\t<tr><th scope=row>1512</th><td>Gran</td><td>HLA-DRB1</td><td>Ery </td><td>CD82   </td><td>-0.4781948</td><td>1.215767e-138</td><td>-0.2656010</td><td> 1.928710e-41</td></tr>\n",
       "\t<tr><th scope=row>1520</th><td>Mono</td><td>HLA-DRB1</td><td>Ery </td><td>CD82   </td><td>-0.5103871</td><td> 0.000000e+00</td><td>-0.2656010</td><td> 1.928710e-41</td></tr>\n",
       "\t<tr><th scope=row>1564</th><td>Mono</td><td>CD36    </td><td>Gran</td><td>S100A12</td><td> 0.2825379</td><td> 0.000000e+00</td><td>-0.3258402</td><td> 1.744210e-45</td></tr>\n",
       "\t<tr><th scope=row>1581</th><td>Mono</td><td>CD36    </td><td>Mono</td><td>CD9    </td><td> 0.2825379</td><td> 0.000000e+00</td><td> 0.3529761</td><td> 0.000000e+00</td></tr>\n",
       "\t<tr><th scope=row>1590</th><td>Gran</td><td>ITGA4   </td><td>Mono</td><td>CD9    </td><td> 0.2693447</td><td> 9.548232e-49</td><td> 0.3529761</td><td> 0.000000e+00</td></tr>\n",
       "\t<tr><th scope=row>1603</th><td>Gran</td><td>HLA-DRA </td><td>Mono</td><td>CD9    </td><td>-0.4478250</td><td> 4.553691e-82</td><td> 0.3529761</td><td> 0.000000e+00</td></tr>\n",
       "\t<tr><th scope=row>1610</th><td>Mono</td><td>HLA-DRA </td><td>Mono</td><td>CD9    </td><td>-0.5144044</td><td> 0.000000e+00</td><td> 0.3529761</td><td> 0.000000e+00</td></tr>\n",
       "\t<tr><th scope=row>1719</th><td>HSPC</td><td>TYROBP  </td><td>Mono</td><td>TREM1  </td><td> 0.3045498</td><td> 1.371741e-42</td><td> 0.3776399</td><td> 0.000000e+00</td></tr>\n",
       "\t<tr><th scope=row>1729</th><td>Ery </td><td>CIRBP   </td><td>Mono</td><td>TREM1  </td><td>-0.3143408</td><td> 7.051041e-57</td><td> 0.3776399</td><td> 0.000000e+00</td></tr>\n",
       "\t<tr><th scope=row>1842</th><td>Gran</td><td>HLA-DRA </td><td>Ery </td><td>CD63   </td><td>-0.4478250</td><td> 4.553691e-82</td><td>-0.3775393</td><td> 2.435726e-92</td></tr>\n",
       "\t<tr><th scope=row>1845</th><td>Gran</td><td>HLA-DRA </td><td>Mono</td><td>CD63   </td><td>-0.4478250</td><td> 4.553691e-82</td><td> 0.2587554</td><td> 0.000000e+00</td></tr>\n",
       "\t<tr><th scope=row>1852</th><td>Mono</td><td>HLA-DRA </td><td>Ery </td><td>CD63   </td><td>-0.5144044</td><td> 0.000000e+00</td><td>-0.3775393</td><td> 2.435726e-92</td></tr>\n",
       "\t<tr><th scope=row>1855</th><td>Mono</td><td>HLA-DRA </td><td>Mono</td><td>CD63   </td><td>-0.5144044</td><td> 0.000000e+00</td><td> 0.2587554</td><td> 0.000000e+00</td></tr>\n",
       "\t<tr><th scope=row>2142</th><td>NK  </td><td>ITGB2   </td><td>HSPC</td><td>GP1BB  </td><td> 0.2768199</td><td> 1.826032e-30</td><td>-0.3014028</td><td> 2.218954e-82</td></tr>\n",
       "\t<tr><th scope=row>2199</th><td>HSPC</td><td>CD44    </td><td>Ery </td><td>EPCAM  </td><td> 0.3099310</td><td> 2.781776e-82</td><td>-0.5041896</td><td>3.594451e-138</td></tr>\n",
       "\t<tr><th scope=row>2203</th><td>T   </td><td>CD44    </td><td>Ery </td><td>EPCAM  </td><td> 0.2663509</td><td>7.130473e-170</td><td>-0.5041896</td><td>3.594451e-138</td></tr>\n",
       "</tbody>\n",
       "</table>\n"
      ],
      "text/latex": [
       "A data.frame: 62 × 8\n",
       "\\begin{tabular}{r|llllllll}\n",
       "  & sender\\_celltype & sender\\_gene & receiver\\_celltype & receiver\\_gene & ligand\\_log2FC & ligand\\_p\\_val\\_adj & receptor\\_log2FC & receptor\\_p\\_val\\_adj\\\\\n",
       "  & <chr> & <chr> & <chr> & <chr> & <dbl> & <dbl> & <dbl> & <dbl>\\\\\n",
       "\\hline\n",
       "\t104 & Ery  & MIF      & HSPC & CD44  & -0.4807752 &  5.612281e-82 &  0.3099310 &  2.781776e-82\\\\\n",
       "\t107 & Ery  & MIF      & T    & CD44  & -0.4807752 &  5.612281e-82 &  0.2663509 & 7.130473e-170\\\\\n",
       "\t178 & NK   & VIM      & HSPC & CD44  &  0.2885934 &  8.814570e-40 &  0.3099310 &  2.781776e-82\\\\\n",
       "\t181 & NK   & VIM      & T    & CD44  &  0.2885934 &  8.814570e-40 &  0.2663509 & 7.130473e-170\\\\\n",
       "\t202 & T    & SRGN     & HSPC & CD44  &  0.3019970 &  0.000000e+00 &  0.3099310 &  2.781776e-82\\\\\n",
       "\t205 & T    & SRGN     & T    & CD44  &  0.3019970 &  0.000000e+00 &  0.2663509 & 7.130473e-170\\\\\n",
       "\t330 & Ery  & MIF      & Mono & ACKR3 & -0.4807752 &  5.612281e-82 &  0.2595831 &  0.000000e+00\\\\\n",
       "\t425 & Ery  & CALM1    & B    & SELL  & -0.4362474 &  1.540198e-89 & -0.2740404 &  1.736327e-53\\\\\n",
       "\t526 & Gran & ITGA4    & B    & CD81  &  0.2693447 &  9.548232e-49 & -0.2748321 &  2.954843e-56\\\\\n",
       "\t541 & Gran & HLA-DRA  & B    & CD81  & -0.4478250 &  4.553691e-82 & -0.2748321 &  2.954843e-56\\\\\n",
       "\t550 & Mono & HLA-DRA  & B    & CD81  & -0.5144044 &  0.000000e+00 & -0.2748321 &  2.954843e-56\\\\\n",
       "\t563 & Gran & HLA-DRB1 & B    & CD81  & -0.4781948 & 1.215767e-138 & -0.2748321 &  2.954843e-56\\\\\n",
       "\t572 & Mono & HLA-DRB1 & B    & CD81  & -0.5103871 &  0.000000e+00 & -0.2748321 &  2.954843e-56\\\\\n",
       "\t623 & Mono & CALR     & NK   & HLA-F &  0.3016204 &  0.000000e+00 &  0.2569437 &  5.348861e-25\\\\\n",
       "\t631 & NK   & CALR     & NK   & HLA-F &  0.2762648 &  3.152164e-31 &  0.2569437 &  5.348861e-25\\\\\n",
       "\t641 & NK   & CD8A     & NK   & HLA-F &  0.2864859 &  1.736999e-70 &  0.2569437 &  5.348861e-25\\\\\n",
       "\t669 & Gran & S100A9   & Mono & CD36  & -0.3904363 &  7.080928e-46 &  0.2825379 &  0.000000e+00\\\\\n",
       "\t686 & Gran & S100A8   & Mono & CD36  & -0.3863276 &  1.671713e-71 &  0.2825379 &  0.000000e+00\\\\\n",
       "\t714 & NK   & TGFB1    & Mono & CXCR4 &  0.2954128 &  7.685857e-43 &  0.3312534 &  0.000000e+00\\\\\n",
       "\t715 & NK   & TGFB1    & NK   & CXCR4 &  0.2954128 &  7.685857e-43 &  0.4778400 & 2.592108e-128\\\\\n",
       "\t716 & NK   & TGFB1    & T    & CXCR4 &  0.2954128 &  7.685857e-43 &  0.4122167 &  0.000000e+00\\\\\n",
       "\t722 & T    & TGFB1    & Mono & CXCR4 &  0.2742008 & 4.921795e-175 &  0.3312534 &  0.000000e+00\\\\\n",
       "\t723 & T    & TGFB1    & NK   & CXCR4 &  0.2742008 & 4.921795e-175 &  0.4778400 & 2.592108e-128\\\\\n",
       "\t724 & T    & TGFB1    & T    & CXCR4 &  0.2742008 & 4.921795e-175 &  0.4122167 &  0.000000e+00\\\\\n",
       "\t754 & Ery  & MIF      & Mono & CXCR4 & -0.4807752 &  5.612281e-82 &  0.3312534 &  0.000000e+00\\\\\n",
       "\t755 & Ery  & MIF      & NK   & CXCR4 & -0.4807752 &  5.612281e-82 &  0.4778400 & 2.592108e-128\\\\\n",
       "\t756 & Ery  & MIF      & T    & CXCR4 & -0.4807752 &  5.612281e-82 &  0.4122167 &  0.000000e+00\\\\\n",
       "\t864 & Mono & ACKR3    & Mono & CXCR4 &  0.2595831 &  0.000000e+00 &  0.3312534 &  0.000000e+00\\\\\n",
       "\t865 & Mono & ACKR3    & NK   & CXCR4 &  0.2595831 &  0.000000e+00 &  0.4778400 & 2.592108e-128\\\\\n",
       "\t866 & Mono & ACKR3    & T    & CXCR4 &  0.2595831 &  0.000000e+00 &  0.4122167 &  0.000000e+00\\\\\n",
       "\t⋮ & ⋮ & ⋮ & ⋮ & ⋮ & ⋮ & ⋮ & ⋮ & ⋮\\\\\n",
       "\t1165 & Mono & HLA-DPA1 & Mono & TNFSF9  & -0.4408790 &  0.000000e+00 &  0.3002600 &  0.000000e+00\\\\\n",
       "\t1240 & Gran & S100A8   & B    & CD69    & -0.3863276 &  1.671713e-71 &  0.3425042 &  5.253434e-85\\\\\n",
       "\t1247 & Gran & S100A8   & T    & CD69    & -0.3863276 &  1.671713e-71 &  0.2939413 & 3.458099e-191\\\\\n",
       "\t1268 & NK   & LGALS1   & B    & CD69    &  0.2769630 &  4.095038e-36 &  0.3425042 &  5.253434e-85\\\\\n",
       "\t1275 & NK   & LGALS1   & T    & CD69    &  0.2769630 &  4.095038e-36 &  0.2939413 & 3.458099e-191\\\\\n",
       "\t1320 & NK   & ITGB2    & Gran & S100A8  &  0.2768199 &  1.826032e-30 & -0.3863276 &  1.671713e-71\\\\\n",
       "\t1340 & NK   & ITGB2    & Gran & S100A9  &  0.2768199 &  1.826032e-30 & -0.3904363 &  7.080928e-46\\\\\n",
       "\t1387 & Gran & HLA-DRA  & B    & CD53    & -0.4478250 &  4.553691e-82 & -0.2622543 &  2.159003e-49\\\\\n",
       "\t1396 & Mono & HLA-DRA  & B    & CD53    & -0.5144044 &  0.000000e+00 & -0.2622543 &  2.159003e-49\\\\\n",
       "\t1409 & Gran & HLA-DRB1 & B    & CD53    & -0.4781948 & 1.215767e-138 & -0.2622543 &  2.159003e-49\\\\\n",
       "\t1418 & Mono & HLA-DRB1 & B    & CD53    & -0.5103871 &  0.000000e+00 & -0.2622543 &  2.159003e-49\\\\\n",
       "\t1478 & Gran & ITGA4    & Ery  & CD82    &  0.2693447 &  9.548232e-49 & -0.2656010 &  1.928710e-41\\\\\n",
       "\t1492 & Gran & HLA-DRA  & Ery  & CD82    & -0.4478250 &  4.553691e-82 & -0.2656010 &  1.928710e-41\\\\\n",
       "\t1500 & Mono & HLA-DRA  & Ery  & CD82    & -0.5144044 &  0.000000e+00 & -0.2656010 &  1.928710e-41\\\\\n",
       "\t1512 & Gran & HLA-DRB1 & Ery  & CD82    & -0.4781948 & 1.215767e-138 & -0.2656010 &  1.928710e-41\\\\\n",
       "\t1520 & Mono & HLA-DRB1 & Ery  & CD82    & -0.5103871 &  0.000000e+00 & -0.2656010 &  1.928710e-41\\\\\n",
       "\t1564 & Mono & CD36     & Gran & S100A12 &  0.2825379 &  0.000000e+00 & -0.3258402 &  1.744210e-45\\\\\n",
       "\t1581 & Mono & CD36     & Mono & CD9     &  0.2825379 &  0.000000e+00 &  0.3529761 &  0.000000e+00\\\\\n",
       "\t1590 & Gran & ITGA4    & Mono & CD9     &  0.2693447 &  9.548232e-49 &  0.3529761 &  0.000000e+00\\\\\n",
       "\t1603 & Gran & HLA-DRA  & Mono & CD9     & -0.4478250 &  4.553691e-82 &  0.3529761 &  0.000000e+00\\\\\n",
       "\t1610 & Mono & HLA-DRA  & Mono & CD9     & -0.5144044 &  0.000000e+00 &  0.3529761 &  0.000000e+00\\\\\n",
       "\t1719 & HSPC & TYROBP   & Mono & TREM1   &  0.3045498 &  1.371741e-42 &  0.3776399 &  0.000000e+00\\\\\n",
       "\t1729 & Ery  & CIRBP    & Mono & TREM1   & -0.3143408 &  7.051041e-57 &  0.3776399 &  0.000000e+00\\\\\n",
       "\t1842 & Gran & HLA-DRA  & Ery  & CD63    & -0.4478250 &  4.553691e-82 & -0.3775393 &  2.435726e-92\\\\\n",
       "\t1845 & Gran & HLA-DRA  & Mono & CD63    & -0.4478250 &  4.553691e-82 &  0.2587554 &  0.000000e+00\\\\\n",
       "\t1852 & Mono & HLA-DRA  & Ery  & CD63    & -0.5144044 &  0.000000e+00 & -0.3775393 &  2.435726e-92\\\\\n",
       "\t1855 & Mono & HLA-DRA  & Mono & CD63    & -0.5144044 &  0.000000e+00 &  0.2587554 &  0.000000e+00\\\\\n",
       "\t2142 & NK   & ITGB2    & HSPC & GP1BB   &  0.2768199 &  1.826032e-30 & -0.3014028 &  2.218954e-82\\\\\n",
       "\t2199 & HSPC & CD44     & Ery  & EPCAM   &  0.3099310 &  2.781776e-82 & -0.5041896 & 3.594451e-138\\\\\n",
       "\t2203 & T    & CD44     & Ery  & EPCAM   &  0.2663509 & 7.130473e-170 & -0.5041896 & 3.594451e-138\\\\\n",
       "\\end{tabular}\n"
      ],
      "text/markdown": [
       "\n",
       "A data.frame: 62 × 8\n",
       "\n",
       "| <!--/--> | sender_celltype &lt;chr&gt; | sender_gene &lt;chr&gt; | receiver_celltype &lt;chr&gt; | receiver_gene &lt;chr&gt; | ligand_log2FC &lt;dbl&gt; | ligand_p_val_adj &lt;dbl&gt; | receptor_log2FC &lt;dbl&gt; | receptor_p_val_adj &lt;dbl&gt; |\n",
       "|---|---|---|---|---|---|---|---|---|\n",
       "| 104 | Ery  | MIF      | HSPC | CD44  | -0.4807752 |  5.612281e-82 |  0.3099310 |  2.781776e-82 |\n",
       "| 107 | Ery  | MIF      | T    | CD44  | -0.4807752 |  5.612281e-82 |  0.2663509 | 7.130473e-170 |\n",
       "| 178 | NK   | VIM      | HSPC | CD44  |  0.2885934 |  8.814570e-40 |  0.3099310 |  2.781776e-82 |\n",
       "| 181 | NK   | VIM      | T    | CD44  |  0.2885934 |  8.814570e-40 |  0.2663509 | 7.130473e-170 |\n",
       "| 202 | T    | SRGN     | HSPC | CD44  |  0.3019970 |  0.000000e+00 |  0.3099310 |  2.781776e-82 |\n",
       "| 205 | T    | SRGN     | T    | CD44  |  0.3019970 |  0.000000e+00 |  0.2663509 | 7.130473e-170 |\n",
       "| 330 | Ery  | MIF      | Mono | ACKR3 | -0.4807752 |  5.612281e-82 |  0.2595831 |  0.000000e+00 |\n",
       "| 425 | Ery  | CALM1    | B    | SELL  | -0.4362474 |  1.540198e-89 | -0.2740404 |  1.736327e-53 |\n",
       "| 526 | Gran | ITGA4    | B    | CD81  |  0.2693447 |  9.548232e-49 | -0.2748321 |  2.954843e-56 |\n",
       "| 541 | Gran | HLA-DRA  | B    | CD81  | -0.4478250 |  4.553691e-82 | -0.2748321 |  2.954843e-56 |\n",
       "| 550 | Mono | HLA-DRA  | B    | CD81  | -0.5144044 |  0.000000e+00 | -0.2748321 |  2.954843e-56 |\n",
       "| 563 | Gran | HLA-DRB1 | B    | CD81  | -0.4781948 | 1.215767e-138 | -0.2748321 |  2.954843e-56 |\n",
       "| 572 | Mono | HLA-DRB1 | B    | CD81  | -0.5103871 |  0.000000e+00 | -0.2748321 |  2.954843e-56 |\n",
       "| 623 | Mono | CALR     | NK   | HLA-F |  0.3016204 |  0.000000e+00 |  0.2569437 |  5.348861e-25 |\n",
       "| 631 | NK   | CALR     | NK   | HLA-F |  0.2762648 |  3.152164e-31 |  0.2569437 |  5.348861e-25 |\n",
       "| 641 | NK   | CD8A     | NK   | HLA-F |  0.2864859 |  1.736999e-70 |  0.2569437 |  5.348861e-25 |\n",
       "| 669 | Gran | S100A9   | Mono | CD36  | -0.3904363 |  7.080928e-46 |  0.2825379 |  0.000000e+00 |\n",
       "| 686 | Gran | S100A8   | Mono | CD36  | -0.3863276 |  1.671713e-71 |  0.2825379 |  0.000000e+00 |\n",
       "| 714 | NK   | TGFB1    | Mono | CXCR4 |  0.2954128 |  7.685857e-43 |  0.3312534 |  0.000000e+00 |\n",
       "| 715 | NK   | TGFB1    | NK   | CXCR4 |  0.2954128 |  7.685857e-43 |  0.4778400 | 2.592108e-128 |\n",
       "| 716 | NK   | TGFB1    | T    | CXCR4 |  0.2954128 |  7.685857e-43 |  0.4122167 |  0.000000e+00 |\n",
       "| 722 | T    | TGFB1    | Mono | CXCR4 |  0.2742008 | 4.921795e-175 |  0.3312534 |  0.000000e+00 |\n",
       "| 723 | T    | TGFB1    | NK   | CXCR4 |  0.2742008 | 4.921795e-175 |  0.4778400 | 2.592108e-128 |\n",
       "| 724 | T    | TGFB1    | T    | CXCR4 |  0.2742008 | 4.921795e-175 |  0.4122167 |  0.000000e+00 |\n",
       "| 754 | Ery  | MIF      | Mono | CXCR4 | -0.4807752 |  5.612281e-82 |  0.3312534 |  0.000000e+00 |\n",
       "| 755 | Ery  | MIF      | NK   | CXCR4 | -0.4807752 |  5.612281e-82 |  0.4778400 | 2.592108e-128 |\n",
       "| 756 | Ery  | MIF      | T    | CXCR4 | -0.4807752 |  5.612281e-82 |  0.4122167 |  0.000000e+00 |\n",
       "| 864 | Mono | ACKR3    | Mono | CXCR4 |  0.2595831 |  0.000000e+00 |  0.3312534 |  0.000000e+00 |\n",
       "| 865 | Mono | ACKR3    | NK   | CXCR4 |  0.2595831 |  0.000000e+00 |  0.4778400 | 2.592108e-128 |\n",
       "| 866 | Mono | ACKR3    | T    | CXCR4 |  0.2595831 |  0.000000e+00 |  0.4122167 |  0.000000e+00 |\n",
       "| ⋮ | ⋮ | ⋮ | ⋮ | ⋮ | ⋮ | ⋮ | ⋮ | ⋮ |\n",
       "| 1165 | Mono | HLA-DPA1 | Mono | TNFSF9  | -0.4408790 |  0.000000e+00 |  0.3002600 |  0.000000e+00 |\n",
       "| 1240 | Gran | S100A8   | B    | CD69    | -0.3863276 |  1.671713e-71 |  0.3425042 |  5.253434e-85 |\n",
       "| 1247 | Gran | S100A8   | T    | CD69    | -0.3863276 |  1.671713e-71 |  0.2939413 | 3.458099e-191 |\n",
       "| 1268 | NK   | LGALS1   | B    | CD69    |  0.2769630 |  4.095038e-36 |  0.3425042 |  5.253434e-85 |\n",
       "| 1275 | NK   | LGALS1   | T    | CD69    |  0.2769630 |  4.095038e-36 |  0.2939413 | 3.458099e-191 |\n",
       "| 1320 | NK   | ITGB2    | Gran | S100A8  |  0.2768199 |  1.826032e-30 | -0.3863276 |  1.671713e-71 |\n",
       "| 1340 | NK   | ITGB2    | Gran | S100A9  |  0.2768199 |  1.826032e-30 | -0.3904363 |  7.080928e-46 |\n",
       "| 1387 | Gran | HLA-DRA  | B    | CD53    | -0.4478250 |  4.553691e-82 | -0.2622543 |  2.159003e-49 |\n",
       "| 1396 | Mono | HLA-DRA  | B    | CD53    | -0.5144044 |  0.000000e+00 | -0.2622543 |  2.159003e-49 |\n",
       "| 1409 | Gran | HLA-DRB1 | B    | CD53    | -0.4781948 | 1.215767e-138 | -0.2622543 |  2.159003e-49 |\n",
       "| 1418 | Mono | HLA-DRB1 | B    | CD53    | -0.5103871 |  0.000000e+00 | -0.2622543 |  2.159003e-49 |\n",
       "| 1478 | Gran | ITGA4    | Ery  | CD82    |  0.2693447 |  9.548232e-49 | -0.2656010 |  1.928710e-41 |\n",
       "| 1492 | Gran | HLA-DRA  | Ery  | CD82    | -0.4478250 |  4.553691e-82 | -0.2656010 |  1.928710e-41 |\n",
       "| 1500 | Mono | HLA-DRA  | Ery  | CD82    | -0.5144044 |  0.000000e+00 | -0.2656010 |  1.928710e-41 |\n",
       "| 1512 | Gran | HLA-DRB1 | Ery  | CD82    | -0.4781948 | 1.215767e-138 | -0.2656010 |  1.928710e-41 |\n",
       "| 1520 | Mono | HLA-DRB1 | Ery  | CD82    | -0.5103871 |  0.000000e+00 | -0.2656010 |  1.928710e-41 |\n",
       "| 1564 | Mono | CD36     | Gran | S100A12 |  0.2825379 |  0.000000e+00 | -0.3258402 |  1.744210e-45 |\n",
       "| 1581 | Mono | CD36     | Mono | CD9     |  0.2825379 |  0.000000e+00 |  0.3529761 |  0.000000e+00 |\n",
       "| 1590 | Gran | ITGA4    | Mono | CD9     |  0.2693447 |  9.548232e-49 |  0.3529761 |  0.000000e+00 |\n",
       "| 1603 | Gran | HLA-DRA  | Mono | CD9     | -0.4478250 |  4.553691e-82 |  0.3529761 |  0.000000e+00 |\n",
       "| 1610 | Mono | HLA-DRA  | Mono | CD9     | -0.5144044 |  0.000000e+00 |  0.3529761 |  0.000000e+00 |\n",
       "| 1719 | HSPC | TYROBP   | Mono | TREM1   |  0.3045498 |  1.371741e-42 |  0.3776399 |  0.000000e+00 |\n",
       "| 1729 | Ery  | CIRBP    | Mono | TREM1   | -0.3143408 |  7.051041e-57 |  0.3776399 |  0.000000e+00 |\n",
       "| 1842 | Gran | HLA-DRA  | Ery  | CD63    | -0.4478250 |  4.553691e-82 | -0.3775393 |  2.435726e-92 |\n",
       "| 1845 | Gran | HLA-DRA  | Mono | CD63    | -0.4478250 |  4.553691e-82 |  0.2587554 |  0.000000e+00 |\n",
       "| 1852 | Mono | HLA-DRA  | Ery  | CD63    | -0.5144044 |  0.000000e+00 | -0.3775393 |  2.435726e-92 |\n",
       "| 1855 | Mono | HLA-DRA  | Mono | CD63    | -0.5144044 |  0.000000e+00 |  0.2587554 |  0.000000e+00 |\n",
       "| 2142 | NK   | ITGB2    | HSPC | GP1BB   |  0.2768199 |  1.826032e-30 | -0.3014028 |  2.218954e-82 |\n",
       "| 2199 | HSPC | CD44     | Ery  | EPCAM   |  0.3099310 |  2.781776e-82 | -0.5041896 | 3.594451e-138 |\n",
       "| 2203 | T    | CD44     | Ery  | EPCAM   |  0.2663509 | 7.130473e-170 | -0.5041896 | 3.594451e-138 |\n",
       "\n"
      ],
      "text/plain": [
       "     sender_celltype sender_gene receiver_celltype receiver_gene ligand_log2FC\n",
       "104  Ery             MIF         HSPC              CD44          -0.4807752   \n",
       "107  Ery             MIF         T                 CD44          -0.4807752   \n",
       "178  NK              VIM         HSPC              CD44           0.2885934   \n",
       "181  NK              VIM         T                 CD44           0.2885934   \n",
       "202  T               SRGN        HSPC              CD44           0.3019970   \n",
       "205  T               SRGN        T                 CD44           0.3019970   \n",
       "330  Ery             MIF         Mono              ACKR3         -0.4807752   \n",
       "425  Ery             CALM1       B                 SELL          -0.4362474   \n",
       "526  Gran            ITGA4       B                 CD81           0.2693447   \n",
       "541  Gran            HLA-DRA     B                 CD81          -0.4478250   \n",
       "550  Mono            HLA-DRA     B                 CD81          -0.5144044   \n",
       "563  Gran            HLA-DRB1    B                 CD81          -0.4781948   \n",
       "572  Mono            HLA-DRB1    B                 CD81          -0.5103871   \n",
       "623  Mono            CALR        NK                HLA-F          0.3016204   \n",
       "631  NK              CALR        NK                HLA-F          0.2762648   \n",
       "641  NK              CD8A        NK                HLA-F          0.2864859   \n",
       "669  Gran            S100A9      Mono              CD36          -0.3904363   \n",
       "686  Gran            S100A8      Mono              CD36          -0.3863276   \n",
       "714  NK              TGFB1       Mono              CXCR4          0.2954128   \n",
       "715  NK              TGFB1       NK                CXCR4          0.2954128   \n",
       "716  NK              TGFB1       T                 CXCR4          0.2954128   \n",
       "722  T               TGFB1       Mono              CXCR4          0.2742008   \n",
       "723  T               TGFB1       NK                CXCR4          0.2742008   \n",
       "724  T               TGFB1       T                 CXCR4          0.2742008   \n",
       "754  Ery             MIF         Mono              CXCR4         -0.4807752   \n",
       "755  Ery             MIF         NK                CXCR4         -0.4807752   \n",
       "756  Ery             MIF         T                 CXCR4         -0.4807752   \n",
       "864  Mono            ACKR3       Mono              CXCR4          0.2595831   \n",
       "865  Mono            ACKR3       NK                CXCR4          0.2595831   \n",
       "866  Mono            ACKR3       T                 CXCR4          0.2595831   \n",
       "⋮    ⋮               ⋮           ⋮                 ⋮             ⋮            \n",
       "1165 Mono            HLA-DPA1    Mono              TNFSF9        -0.4408790   \n",
       "1240 Gran            S100A8      B                 CD69          -0.3863276   \n",
       "1247 Gran            S100A8      T                 CD69          -0.3863276   \n",
       "1268 NK              LGALS1      B                 CD69           0.2769630   \n",
       "1275 NK              LGALS1      T                 CD69           0.2769630   \n",
       "1320 NK              ITGB2       Gran              S100A8         0.2768199   \n",
       "1340 NK              ITGB2       Gran              S100A9         0.2768199   \n",
       "1387 Gran            HLA-DRA     B                 CD53          -0.4478250   \n",
       "1396 Mono            HLA-DRA     B                 CD53          -0.5144044   \n",
       "1409 Gran            HLA-DRB1    B                 CD53          -0.4781948   \n",
       "1418 Mono            HLA-DRB1    B                 CD53          -0.5103871   \n",
       "1478 Gran            ITGA4       Ery               CD82           0.2693447   \n",
       "1492 Gran            HLA-DRA     Ery               CD82          -0.4478250   \n",
       "1500 Mono            HLA-DRA     Ery               CD82          -0.5144044   \n",
       "1512 Gran            HLA-DRB1    Ery               CD82          -0.4781948   \n",
       "1520 Mono            HLA-DRB1    Ery               CD82          -0.5103871   \n",
       "1564 Mono            CD36        Gran              S100A12        0.2825379   \n",
       "1581 Mono            CD36        Mono              CD9            0.2825379   \n",
       "1590 Gran            ITGA4       Mono              CD9            0.2693447   \n",
       "1603 Gran            HLA-DRA     Mono              CD9           -0.4478250   \n",
       "1610 Mono            HLA-DRA     Mono              CD9           -0.5144044   \n",
       "1719 HSPC            TYROBP      Mono              TREM1          0.3045498   \n",
       "1729 Ery             CIRBP       Mono              TREM1         -0.3143408   \n",
       "1842 Gran            HLA-DRA     Ery               CD63          -0.4478250   \n",
       "1845 Gran            HLA-DRA     Mono              CD63          -0.4478250   \n",
       "1852 Mono            HLA-DRA     Ery               CD63          -0.5144044   \n",
       "1855 Mono            HLA-DRA     Mono              CD63          -0.5144044   \n",
       "2142 NK              ITGB2       HSPC              GP1BB          0.2768199   \n",
       "2199 HSPC            CD44        Ery               EPCAM          0.3099310   \n",
       "2203 T               CD44        Ery               EPCAM          0.2663509   \n",
       "     ligand_p_val_adj receptor_log2FC receptor_p_val_adj\n",
       "104   5.612281e-82     0.3099310       2.781776e-82     \n",
       "107   5.612281e-82     0.2663509      7.130473e-170     \n",
       "178   8.814570e-40     0.3099310       2.781776e-82     \n",
       "181   8.814570e-40     0.2663509      7.130473e-170     \n",
       "202   0.000000e+00     0.3099310       2.781776e-82     \n",
       "205   0.000000e+00     0.2663509      7.130473e-170     \n",
       "330   5.612281e-82     0.2595831       0.000000e+00     \n",
       "425   1.540198e-89    -0.2740404       1.736327e-53     \n",
       "526   9.548232e-49    -0.2748321       2.954843e-56     \n",
       "541   4.553691e-82    -0.2748321       2.954843e-56     \n",
       "550   0.000000e+00    -0.2748321       2.954843e-56     \n",
       "563  1.215767e-138    -0.2748321       2.954843e-56     \n",
       "572   0.000000e+00    -0.2748321       2.954843e-56     \n",
       "623   0.000000e+00     0.2569437       5.348861e-25     \n",
       "631   3.152164e-31     0.2569437       5.348861e-25     \n",
       "641   1.736999e-70     0.2569437       5.348861e-25     \n",
       "669   7.080928e-46     0.2825379       0.000000e+00     \n",
       "686   1.671713e-71     0.2825379       0.000000e+00     \n",
       "714   7.685857e-43     0.3312534       0.000000e+00     \n",
       "715   7.685857e-43     0.4778400      2.592108e-128     \n",
       "716   7.685857e-43     0.4122167       0.000000e+00     \n",
       "722  4.921795e-175     0.3312534       0.000000e+00     \n",
       "723  4.921795e-175     0.4778400      2.592108e-128     \n",
       "724  4.921795e-175     0.4122167       0.000000e+00     \n",
       "754   5.612281e-82     0.3312534       0.000000e+00     \n",
       "755   5.612281e-82     0.4778400      2.592108e-128     \n",
       "756   5.612281e-82     0.4122167       0.000000e+00     \n",
       "864   0.000000e+00     0.3312534       0.000000e+00     \n",
       "865   0.000000e+00     0.4778400      2.592108e-128     \n",
       "866   0.000000e+00     0.4122167       0.000000e+00     \n",
       "⋮    ⋮                ⋮               ⋮                 \n",
       "1165  0.000000e+00     0.3002600       0.000000e+00     \n",
       "1240  1.671713e-71     0.3425042       5.253434e-85     \n",
       "1247  1.671713e-71     0.2939413      3.458099e-191     \n",
       "1268  4.095038e-36     0.3425042       5.253434e-85     \n",
       "1275  4.095038e-36     0.2939413      3.458099e-191     \n",
       "1320  1.826032e-30    -0.3863276       1.671713e-71     \n",
       "1340  1.826032e-30    -0.3904363       7.080928e-46     \n",
       "1387  4.553691e-82    -0.2622543       2.159003e-49     \n",
       "1396  0.000000e+00    -0.2622543       2.159003e-49     \n",
       "1409 1.215767e-138    -0.2622543       2.159003e-49     \n",
       "1418  0.000000e+00    -0.2622543       2.159003e-49     \n",
       "1478  9.548232e-49    -0.2656010       1.928710e-41     \n",
       "1492  4.553691e-82    -0.2656010       1.928710e-41     \n",
       "1500  0.000000e+00    -0.2656010       1.928710e-41     \n",
       "1512 1.215767e-138    -0.2656010       1.928710e-41     \n",
       "1520  0.000000e+00    -0.2656010       1.928710e-41     \n",
       "1564  0.000000e+00    -0.3258402       1.744210e-45     \n",
       "1581  0.000000e+00     0.3529761       0.000000e+00     \n",
       "1590  9.548232e-49     0.3529761       0.000000e+00     \n",
       "1603  4.553691e-82     0.3529761       0.000000e+00     \n",
       "1610  0.000000e+00     0.3529761       0.000000e+00     \n",
       "1719  1.371741e-42     0.3776399       0.000000e+00     \n",
       "1729  7.051041e-57     0.3776399       0.000000e+00     \n",
       "1842  4.553691e-82    -0.3775393       2.435726e-92     \n",
       "1845  4.553691e-82     0.2587554       0.000000e+00     \n",
       "1852  0.000000e+00    -0.3775393       2.435726e-92     \n",
       "1855  0.000000e+00     0.2587554       0.000000e+00     \n",
       "2142  1.826032e-30    -0.3014028       2.218954e-82     \n",
       "2199  2.781776e-82    -0.5041896      3.594451e-138     \n",
       "2203 7.130473e-170    -0.5041896      3.594451e-138     "
      ]
     },
     "metadata": {},
     "output_type": "display_data"
    }
   ],
   "source": [
    "#see where both components (sender/receiever) have log2FC value\n",
    "df[complete.cases(df$ligand_log2FC, df$receptor_log2FC), ]"
   ]
  },
  {
   "cell_type": "code",
   "execution_count": 240,
   "id": "78eb337a",
   "metadata": {},
   "outputs": [],
   "source": [
    "df[\"interaction_ID\"] <- paste0(df$sender_celltype, \":\",df$sender_gene , \"_\", df$receiver_celltype, \":\", df$receiver_gene)"
   ]
  },
  {
   "cell_type": "code",
   "execution_count": 241,
   "id": "1dd5dc2a",
   "metadata": {},
   "outputs": [
    {
     "data": {
      "text/html": [
       "<table class=\"dataframe\">\n",
       "<caption>A data.frame: 0 × 9</caption>\n",
       "<thead>\n",
       "\t<tr><th scope=col>sender_celltype</th><th scope=col>sender_gene</th><th scope=col>receiver_celltype</th><th scope=col>receiver_gene</th><th scope=col>ligand_log2FC</th><th scope=col>ligand_p_val_adj</th><th scope=col>receptor_log2FC</th><th scope=col>receptor_p_val_adj</th><th scope=col>interaction_ID</th></tr>\n",
       "\t<tr><th scope=col>&lt;chr&gt;</th><th scope=col>&lt;chr&gt;</th><th scope=col>&lt;chr&gt;</th><th scope=col>&lt;chr&gt;</th><th scope=col>&lt;dbl&gt;</th><th scope=col>&lt;dbl&gt;</th><th scope=col>&lt;dbl&gt;</th><th scope=col>&lt;dbl&gt;</th><th scope=col>&lt;chr&gt;</th></tr>\n",
       "</thead>\n",
       "<tbody>\n",
       "</tbody>\n",
       "</table>\n"
      ],
      "text/latex": [
       "A data.frame: 0 × 9\n",
       "\\begin{tabular}{lllllllll}\n",
       " sender\\_celltype & sender\\_gene & receiver\\_celltype & receiver\\_gene & ligand\\_log2FC & ligand\\_p\\_val\\_adj & receptor\\_log2FC & receptor\\_p\\_val\\_adj & interaction\\_ID\\\\\n",
       " <chr> & <chr> & <chr> & <chr> & <dbl> & <dbl> & <dbl> & <dbl> & <chr>\\\\\n",
       "\\hline\n",
       "\\end{tabular}\n"
      ],
      "text/markdown": [
       "\n",
       "A data.frame: 0 × 9\n",
       "\n",
       "| sender_celltype &lt;chr&gt; | sender_gene &lt;chr&gt; | receiver_celltype &lt;chr&gt; | receiver_gene &lt;chr&gt; | ligand_log2FC &lt;dbl&gt; | ligand_p_val_adj &lt;dbl&gt; | receptor_log2FC &lt;dbl&gt; | receptor_p_val_adj &lt;dbl&gt; | interaction_ID &lt;chr&gt; |\n",
       "|---|---|---|---|---|---|---|---|---|\n",
       "\n"
      ],
      "text/plain": [
       "     sender_celltype sender_gene receiver_celltype receiver_gene ligand_log2FC\n",
       "     ligand_p_val_adj receptor_log2FC receptor_p_val_adj interaction_ID"
      ]
     },
     "metadata": {},
     "output_type": "display_data"
    }
   ],
   "source": [
    "df[is.na(df$ligand_log2FC) & is.na(df$receptor_log2FC),]"
   ]
  },
  {
   "cell_type": "markdown",
   "id": "40780fc2",
   "metadata": {},
   "source": [
    "### get log2FC_weights"
   ]
  },
  {
   "cell_type": "code",
   "execution_count": 242,
   "id": "5fc3323d",
   "metadata": {},
   "outputs": [],
   "source": [
    "#subset means\n",
    "means <- filter(means, interaction_ID %in% df$interaction_ID)"
   ]
  },
  {
   "cell_type": "code",
   "execution_count": 243,
   "id": "e81541fe",
   "metadata": {},
   "outputs": [],
   "source": [
    "cols <- c(\"interaction_ID\", grep(\"healthy\", names(means), value = TRUE))\n",
    "control_means <- means[, cols, drop = FALSE]"
   ]
  },
  {
   "cell_type": "code",
   "execution_count": 244,
   "id": "7ff5518c",
   "metadata": {},
   "outputs": [],
   "source": [
    "cols <- c(\"interaction_ID\", grep(\"AML\", names(means), value = TRUE))\n",
    "case_means <- means[, cols, drop = FALSE]"
   ]
  },
  {
   "cell_type": "code",
   "execution_count": 245,
   "id": "ce698468",
   "metadata": {},
   "outputs": [],
   "source": [
    "numeric_cols <- control_means[, !names(control_means) %in% c(\"interaction_ID\")]\n",
    "control_means$row_means <- rowMeans(numeric_cols, na.rm = TRUE)"
   ]
  },
  {
   "cell_type": "code",
   "execution_count": 246,
   "id": "8bf4043d",
   "metadata": {},
   "outputs": [],
   "source": [
    "numeric_cols <- case_means[, !names(case_means) %in% c(\"interaction_ID\")]\n",
    "case_means$row_means <- rowMeans(numeric_cols, na.rm = TRUE)"
   ]
  },
  {
   "cell_type": "code",
   "execution_count": 247,
   "id": "07e2d6d2",
   "metadata": {},
   "outputs": [],
   "source": [
    "df[\"mean_weigth_case\"]=NA\n",
    "df[\"mean_weight_control\"]=NA"
   ]
  },
  {
   "cell_type": "code",
   "execution_count": null,
   "id": "66263dca",
   "metadata": {},
   "outputs": [],
   "source": []
  },
  {
   "cell_type": "code",
   "execution_count": 248,
   "id": "36703939",
   "metadata": {},
   "outputs": [],
   "source": [
    "for (row in 1:nrow(df)){\n",
    "    int_ID <- df[row,]$interaction_ID\n",
    "    case_mean <- filter(case_means, interaction_ID==int_ID)$row_means\n",
    "    control_mean <- filter(control_means, interaction_ID==int_ID)$row_means\n",
    "    \n",
    "    df[row,\"mean_weigth_case\"] <- case_mean\n",
    "    df[row,\"mean_weight_control\"] <- control_mean\n",
    "}"
   ]
  },
  {
   "cell_type": "code",
   "execution_count": 249,
   "id": "b151c9e2",
   "metadata": {},
   "outputs": [],
   "source": [
    "df[\"log2FC_weights\"] = log2(df$mean_weigth_case/df$mean_weight_control)"
   ]
  },
  {
   "cell_type": "code",
   "execution_count": 250,
   "id": "387b94b4",
   "metadata": {},
   "outputs": [
    {
     "data": {
      "text/html": [
       "<style>\n",
       ".list-inline {list-style: none; margin:0; padding: 0}\n",
       ".list-inline>li {display: inline-block}\n",
       ".list-inline>li:not(:last-child)::after {content: \"\\00b7\"; padding: 0 .5ex}\n",
       "</style>\n",
       "<ol class=list-inline><li>'sender_celltype'</li><li>'sender_gene'</li><li>'receiver_celltype'</li><li>'receiver_gene'</li><li>'ligand_log2FC'</li><li>'ligand_p_val_adj'</li><li>'receptor_log2FC'</li><li>'receptor_p_val_adj'</li><li>'interaction_ID'</li><li>'mean_weigth_case'</li><li>'mean_weight_control'</li><li>'log2FC_weights'</li></ol>\n"
      ],
      "text/latex": [
       "\\begin{enumerate*}\n",
       "\\item 'sender\\_celltype'\n",
       "\\item 'sender\\_gene'\n",
       "\\item 'receiver\\_celltype'\n",
       "\\item 'receiver\\_gene'\n",
       "\\item 'ligand\\_log2FC'\n",
       "\\item 'ligand\\_p\\_val\\_adj'\n",
       "\\item 'receptor\\_log2FC'\n",
       "\\item 'receptor\\_p\\_val\\_adj'\n",
       "\\item 'interaction\\_ID'\n",
       "\\item 'mean\\_weigth\\_case'\n",
       "\\item 'mean\\_weight\\_control'\n",
       "\\item 'log2FC\\_weights'\n",
       "\\end{enumerate*}\n"
      ],
      "text/markdown": [
       "1. 'sender_celltype'\n",
       "2. 'sender_gene'\n",
       "3. 'receiver_celltype'\n",
       "4. 'receiver_gene'\n",
       "5. 'ligand_log2FC'\n",
       "6. 'ligand_p_val_adj'\n",
       "7. 'receptor_log2FC'\n",
       "8. 'receptor_p_val_adj'\n",
       "9. 'interaction_ID'\n",
       "10. 'mean_weigth_case'\n",
       "11. 'mean_weight_control'\n",
       "12. 'log2FC_weights'\n",
       "\n",
       "\n"
      ],
      "text/plain": [
       " [1] \"sender_celltype\"     \"sender_gene\"         \"receiver_celltype\"  \n",
       " [4] \"receiver_gene\"       \"ligand_log2FC\"       \"ligand_p_val_adj\"   \n",
       " [7] \"receptor_log2FC\"     \"receptor_p_val_adj\"  \"interaction_ID\"     \n",
       "[10] \"mean_weigth_case\"    \"mean_weight_control\" \"log2FC_weights\"     "
      ]
     },
     "metadata": {},
     "output_type": "display_data"
    }
   ],
   "source": [
    "names(df)"
   ]
  },
  {
   "cell_type": "code",
   "execution_count": 251,
   "id": "8fdd3a3c",
   "metadata": {},
   "outputs": [],
   "source": [
    "df <- df %>% select(interaction_ID, sender_celltype, sender_gene, receiver_celltype,receiver_gene,\n",
    "             ligand_log2FC,ligand_p_val_adj,receptor_log2FC,receptor_p_val_adj,mean_weigth_case,\n",
    "                   mean_weight_control,log2FC_weights)"
   ]
  },
  {
   "cell_type": "code",
   "execution_count": 252,
   "id": "0c86d1dc",
   "metadata": {},
   "outputs": [],
   "source": [
    "threshold_log2FC <- 1"
   ]
  },
  {
   "cell_type": "code",
   "execution_count": 253,
   "id": "9487fdec",
   "metadata": {},
   "outputs": [],
   "source": [
    "# Creating a new column named 'direction' based on the conditions\n",
    "\n",
    "df$direction <- ifelse(df$log2FC_weights > threshold_log2FC, \"up\",\n",
    "                             ifelse(df$log2FC_weights < threshold_log2FC, \"down\",\n",
    "                                    ifelse(df$log2FC_weights == threshold_log2FC, \"unchanged\", NA)))\n"
   ]
  },
  {
   "cell_type": "markdown",
   "id": "82faf99c",
   "metadata": {},
   "source": [
    "### Significant weights\n",
    "We possess a set of weights (referred to as \"means\" by CPDB) and a binary matrix containing values of 0 and 1 to indicate significance of DEGs (relevant_interactions.txt). In order to extract the significant weights, we perform a multiplication operation between the weight matrix and the significance matrix. By multiplying the two matrices element-wise, we retain only the significant weights while setting the non-significant weights to 0. Consequently, we obtain a matrix solely consisting of the significant weights."
   ]
  },
  {
   "cell_type": "code",
   "execution_count": 254,
   "id": "4ddc205e",
   "metadata": {},
   "outputs": [],
   "source": [
    "# The purpose of using a for loop in this code snippet is to handle the mismatched order of rows between \n",
    "# the means dataframe and the binary matrix dataframe."
   ]
  },
  {
   "cell_type": "code",
   "execution_count": 255,
   "id": "3eafdb39",
   "metadata": {},
   "outputs": [],
   "source": [
    "# Create an empty list to store the multiplied rows\n",
    "multiplied_rows <- list()\n",
    "\n",
    "# Iterate over the rows\n",
    "for (i in 1:nrow(means)) {\n",
    "  interaction_ID <- means$interaction_ID[i]\n",
    "  \n",
    "  # Find the matching row in the 'significant' dataframe based on 'interaction_ID'\n",
    "  matching_row <- matrix_result[matrix_result$interaction_ID == interaction_ID, ]\n",
    "  \n",
    "  # Perform element-wise multiplication\n",
    "  multiplied_values <- means[i, -1] * matching_row[, -1]\n",
    "  \n",
    "  # Create a row with interaction_ID and multiplied values\n",
    "  row <- c(interaction_ID, multiplied_values)\n",
    "  \n",
    "  # Add the row to the list\n",
    "  multiplied_rows[[i]] <- row\n",
    "}\n",
    "\n",
    "# Convert the list of rows into a dataframe\n",
    "multiplied_df <- do.call(rbind, multiplied_rows)\n",
    "\n",
    "colnames(multiplied_df) <- c(\"interaction_ID\", colnames(means)[-1])\n",
    "\n",
    "multiplied_df <- as.data.frame(multiplied_df)"
   ]
  },
  {
   "cell_type": "code",
   "execution_count": 256,
   "id": "5a3dbbea",
   "metadata": {},
   "outputs": [],
   "source": [
    "# Convert columns to double data type\n",
    "multiplied_df <- as.data.frame(multiplied_df) %>%\n",
    "  mutate(across(-interaction_ID, as.double))"
   ]
  },
  {
   "cell_type": "code",
   "execution_count": 257,
   "id": "3d3865e8",
   "metadata": {},
   "outputs": [],
   "source": [
    "multiplied_df$interaction_ID <- as.character(multiplied_df$interaction_ID)"
   ]
  },
  {
   "cell_type": "code",
   "execution_count": 258,
   "id": "dc40f381",
   "metadata": {},
   "outputs": [],
   "source": [
    "multiplied_df[is.na(multiplied_df)] <- 0"
   ]
  },
  {
   "cell_type": "markdown",
   "id": "431c8a0e",
   "metadata": {},
   "source": [
    "# fixing direction\n",
    "\n",
    "Due to the lack of directions for pairs in CellPhoneDB, some of the pairs are swapped order (i.e: L1_R1 appears as R1_L1). To address this issue, we determine the interactions that contain swapped pairs and reorganize them in the correct order. This enables us to compare the interactions accurately."
   ]
  },
  {
   "cell_type": "code",
   "execution_count": 259,
   "id": "beb3efbf",
   "metadata": {},
   "outputs": [],
   "source": [
    "library(community)"
   ]
  },
  {
   "cell_type": "code",
   "execution_count": 260,
   "id": "bcba24bd",
   "metadata": {},
   "outputs": [],
   "source": [
    "data(LR_database)"
   ]
  },
  {
   "cell_type": "code",
   "execution_count": 261,
   "id": "86d5f450-0951-4d95-81f4-1441a7818262",
   "metadata": {},
   "outputs": [],
   "source": [
    "# LR_database <- LR_database %>%\n",
    "#   mutate(Pair.Name = str_replace(Pair.Name, \"CCL4L1\", \"CCL4L2\"),\n",
    "#          Ligand = ifelse(Ligand == \"CCL4L1\", \"CCL4L2\", Ligand))"
   ]
  },
  {
   "cell_type": "code",
   "execution_count": 262,
   "id": "b83025e5",
   "metadata": {},
   "outputs": [],
   "source": [
    "LR_DB <- LR_database"
   ]
  },
  {
   "cell_type": "code",
   "execution_count": 263,
   "id": "df36fc1b-9583-4297-94ed-2bcb552985fd",
   "metadata": {},
   "outputs": [
    {
     "data": {
      "text/html": [
       "<table class=\"dataframe\">\n",
       "<caption>A data.frame: 11 × 21</caption>\n",
       "<thead>\n",
       "\t<tr><th></th><th scope=col>True_LR</th><th scope=col>Pair.Name</th><th scope=col>Ligand</th><th scope=col>Ligand.Name</th><th scope=col>Receptor</th><th scope=col>Receptor.Name</th><th scope=col>complex_pair</th><th scope=col>source</th><th scope=col>target</th><th scope=col>is_directed</th><th scope=col>⋯</th><th scope=col>is_inhibition</th><th scope=col>consensus_direction</th><th scope=col>consensus_stimulation</th><th scope=col>consensus_inhibition</th><th scope=col>sources</th><th scope=col>references</th><th scope=col>curation_effort</th><th scope=col>n_references</th><th scope=col>n_resources</th><th scope=col>annotation_strategy</th></tr>\n",
       "\t<tr><th></th><th scope=col>&lt;lgl&gt;</th><th scope=col>&lt;chr&gt;</th><th scope=col>&lt;chr&gt;</th><th scope=col>&lt;chr&gt;</th><th scope=col>&lt;chr&gt;</th><th scope=col>&lt;chr&gt;</th><th scope=col>&lt;chr&gt;</th><th scope=col>&lt;chr&gt;</th><th scope=col>&lt;chr&gt;</th><th scope=col>&lt;dbl&gt;</th><th scope=col>⋯</th><th scope=col>&lt;dbl&gt;</th><th scope=col>&lt;dbl&gt;</th><th scope=col>&lt;dbl&gt;</th><th scope=col>&lt;dbl&gt;</th><th scope=col>&lt;chr&gt;</th><th scope=col>&lt;chr&gt;</th><th scope=col>&lt;dbl&gt;</th><th scope=col>&lt;dbl&gt;</th><th scope=col>&lt;int&gt;</th><th scope=col>&lt;chr&gt;</th></tr>\n",
       "</thead>\n",
       "<tbody>\n",
       "\t<tr><th scope=row>643</th><td>TRUE</td><td>CCL4L1_ACKR2 </td><td>CCL4L1</td><td>C-C motif chemokine ligand 4 like 1</td><td>ACKR2 </td><td>atypical chemokine receptor 2             </td><td>NA</td><td>Q8NHW4</td><td>O00590</td><td>1</td><td>⋯</td><td>0</td><td>0</td><td>0</td><td>0</td><td>Cellinker;ICELLNET                                  </td><td>Cellinker:29637711;ICELLNET:22633458</td><td>2</td><td>2</td><td>2</td><td>both</td></tr>\n",
       "\t<tr><th scope=row>2462</th><td>TRUE</td><td>CCL4L1_CCR1  </td><td>CCL4L1</td><td>C-C motif chemokine ligand 4 like 1</td><td>CCR1  </td><td>C-C motif chemokine receptor 1            </td><td>NA</td><td>Q8NHW4</td><td>P32246</td><td>1</td><td>⋯</td><td>0</td><td>1</td><td>1</td><td>0</td><td>CellCall;Wang;connectomeDB2020                      </td><td>connectomeDB2020:15240137           </td><td>1</td><td>1</td><td>3</td><td>both</td></tr>\n",
       "\t<tr><th scope=row>2463</th><td>TRUE</td><td>CCL4L1_CCR3  </td><td>CCL4L1</td><td>C-C motif chemokine ligand 4 like 1</td><td>CCR3  </td><td>C-C motif chemokine receptor 3            </td><td>NA</td><td>Q8NHW4</td><td>P51677</td><td>1</td><td>⋯</td><td>0</td><td>1</td><td>1</td><td>0</td><td>CellCall;Wang;connectomeDB2020                      </td><td>connectomeDB2020:15240137           </td><td>1</td><td>1</td><td>3</td><td>both</td></tr>\n",
       "\t<tr><th scope=row>2464</th><td>TRUE</td><td>CCL4L1_CCR5  </td><td>CCL4L1</td><td>C-C motif chemokine ligand 4 like 1</td><td>CCR5  </td><td>C-C motif chemokine receptor 5            </td><td>NA</td><td>Q8NHW4</td><td>P51681</td><td>1</td><td>⋯</td><td>0</td><td>1</td><td>1</td><td>0</td><td>CellCall;Wang;connectomeDB2020                      </td><td>connectomeDB2020:15240137           </td><td>1</td><td>1</td><td>3</td><td>both</td></tr>\n",
       "\t<tr><th scope=row>2957</th><td>TRUE</td><td>CCL4L1_FFAR2 </td><td>CCL4L1</td><td>C-C motif chemokine ligand 4 like 1</td><td>FFAR2 </td><td>free fatty acid receptor 2                </td><td>NA</td><td>Q8NHW4</td><td>O15552</td><td>1</td><td>⋯</td><td>0</td><td>0</td><td>0</td><td>0</td><td>CellPhoneDB;IMEx_CellPhoneDB;IntAct_CellPhoneDB     </td><td>NA                                  </td><td>0</td><td>0</td><td>1</td><td>LR  </td></tr>\n",
       "\t<tr><th scope=row>2961</th><td>TRUE</td><td>CCL4L1_GPR42 </td><td>CCL4L1</td><td>C-C motif chemokine ligand 4 like 1</td><td>GPR42 </td><td>G protein-coupled receptor 42             </td><td>NA</td><td>Q8NHW4</td><td>O15529</td><td>1</td><td>⋯</td><td>0</td><td>0</td><td>0</td><td>0</td><td>CellPhoneDB;HuRI;IMEx_CellPhoneDB;IntAct_CellPhoneDB</td><td>NA                                  </td><td>0</td><td>0</td><td>2</td><td>LR  </td></tr>\n",
       "\t<tr><th scope=row>2994</th><td>TRUE</td><td>CCL4L1_GPR151</td><td>CCL4L1</td><td>C-C motif chemokine ligand 4 like 1</td><td>GPR151</td><td>G protein-coupled receptor 151            </td><td>NA</td><td>Q8NHW4</td><td>Q8TDV0</td><td>1</td><td>⋯</td><td>0</td><td>0</td><td>0</td><td>0</td><td>CellPhoneDB;IMEx_CellPhoneDB;IntAct_CellPhoneDB     </td><td>NA                                  </td><td>0</td><td>0</td><td>1</td><td>LR  </td></tr>\n",
       "\t<tr><th scope=row>3006</th><td>TRUE</td><td>CCL4L1_VSIR  </td><td>CCL4L1</td><td>C-C motif chemokine ligand 4 like 1</td><td>VSIR  </td><td>V-set immunoregulatory receptor           </td><td>NA</td><td>Q8NHW4</td><td>Q9H7M9</td><td>1</td><td>⋯</td><td>0</td><td>0</td><td>0</td><td>0</td><td>CellPhoneDB;HuRI;IMEx_CellPhoneDB;IntAct_CellPhoneDB</td><td>NA                                  </td><td>0</td><td>0</td><td>2</td><td>LR  </td></tr>\n",
       "\t<tr><th scope=row>3008</th><td>TRUE</td><td>CCL4L1_GPR152</td><td>CCL4L1</td><td>C-C motif chemokine ligand 4 like 1</td><td>GPR152</td><td>G protein-coupled receptor 152            </td><td>NA</td><td>Q8NHW4</td><td>Q8TDT2</td><td>1</td><td>⋯</td><td>0</td><td>0</td><td>0</td><td>0</td><td>CellPhoneDB;HuRI;IMEx_CellPhoneDB;IntAct_CellPhoneDB</td><td>NA                                  </td><td>0</td><td>0</td><td>2</td><td>LR  </td></tr>\n",
       "\t<tr><th scope=row>3017</th><td>TRUE</td><td>CCL4L1_GPR101</td><td>CCL4L1</td><td>C-C motif chemokine ligand 4 like 1</td><td>GPR101</td><td>G protein-coupled receptor 101            </td><td>NA</td><td>Q8NHW4</td><td>Q96P66</td><td>1</td><td>⋯</td><td>0</td><td>0</td><td>0</td><td>0</td><td>CellPhoneDB;IMEx_CellPhoneDB;IntAct_CellPhoneDB     </td><td>NA                                  </td><td>0</td><td>0</td><td>1</td><td>LR  </td></tr>\n",
       "\t<tr><th scope=row>3024</th><td>TRUE</td><td>CCL4L1_PGRMC2</td><td>CCL4L1</td><td>C-C motif chemokine ligand 4 like 1</td><td>PGRMC2</td><td>progesterone receptor membrane component 2</td><td>NA</td><td>Q8NHW4</td><td>O15173</td><td>1</td><td>⋯</td><td>0</td><td>0</td><td>0</td><td>0</td><td>CellPhoneDB;IMEx_CellPhoneDB;IntAct_CellPhoneDB     </td><td>NA                                  </td><td>0</td><td>0</td><td>1</td><td>LR  </td></tr>\n",
       "</tbody>\n",
       "</table>\n"
      ],
      "text/latex": [
       "A data.frame: 11 × 21\n",
       "\\begin{tabular}{r|lllllllllllllllllllll}\n",
       "  & True\\_LR & Pair.Name & Ligand & Ligand.Name & Receptor & Receptor.Name & complex\\_pair & source & target & is\\_directed & ⋯ & is\\_inhibition & consensus\\_direction & consensus\\_stimulation & consensus\\_inhibition & sources & references & curation\\_effort & n\\_references & n\\_resources & annotation\\_strategy\\\\\n",
       "  & <lgl> & <chr> & <chr> & <chr> & <chr> & <chr> & <chr> & <chr> & <chr> & <dbl> & ⋯ & <dbl> & <dbl> & <dbl> & <dbl> & <chr> & <chr> & <dbl> & <dbl> & <int> & <chr>\\\\\n",
       "\\hline\n",
       "\t643 & TRUE & CCL4L1\\_ACKR2  & CCL4L1 & C-C motif chemokine ligand 4 like 1 & ACKR2  & atypical chemokine receptor 2              & NA & Q8NHW4 & O00590 & 1 & ⋯ & 0 & 0 & 0 & 0 & Cellinker;ICELLNET                                   & Cellinker:29637711;ICELLNET:22633458 & 2 & 2 & 2 & both\\\\\n",
       "\t2462 & TRUE & CCL4L1\\_CCR1   & CCL4L1 & C-C motif chemokine ligand 4 like 1 & CCR1   & C-C motif chemokine receptor 1             & NA & Q8NHW4 & P32246 & 1 & ⋯ & 0 & 1 & 1 & 0 & CellCall;Wang;connectomeDB2020                       & connectomeDB2020:15240137            & 1 & 1 & 3 & both\\\\\n",
       "\t2463 & TRUE & CCL4L1\\_CCR3   & CCL4L1 & C-C motif chemokine ligand 4 like 1 & CCR3   & C-C motif chemokine receptor 3             & NA & Q8NHW4 & P51677 & 1 & ⋯ & 0 & 1 & 1 & 0 & CellCall;Wang;connectomeDB2020                       & connectomeDB2020:15240137            & 1 & 1 & 3 & both\\\\\n",
       "\t2464 & TRUE & CCL4L1\\_CCR5   & CCL4L1 & C-C motif chemokine ligand 4 like 1 & CCR5   & C-C motif chemokine receptor 5             & NA & Q8NHW4 & P51681 & 1 & ⋯ & 0 & 1 & 1 & 0 & CellCall;Wang;connectomeDB2020                       & connectomeDB2020:15240137            & 1 & 1 & 3 & both\\\\\n",
       "\t2957 & TRUE & CCL4L1\\_FFAR2  & CCL4L1 & C-C motif chemokine ligand 4 like 1 & FFAR2  & free fatty acid receptor 2                 & NA & Q8NHW4 & O15552 & 1 & ⋯ & 0 & 0 & 0 & 0 & CellPhoneDB;IMEx\\_CellPhoneDB;IntAct\\_CellPhoneDB      & NA                                   & 0 & 0 & 1 & LR  \\\\\n",
       "\t2961 & TRUE & CCL4L1\\_GPR42  & CCL4L1 & C-C motif chemokine ligand 4 like 1 & GPR42  & G protein-coupled receptor 42              & NA & Q8NHW4 & O15529 & 1 & ⋯ & 0 & 0 & 0 & 0 & CellPhoneDB;HuRI;IMEx\\_CellPhoneDB;IntAct\\_CellPhoneDB & NA                                   & 0 & 0 & 2 & LR  \\\\\n",
       "\t2994 & TRUE & CCL4L1\\_GPR151 & CCL4L1 & C-C motif chemokine ligand 4 like 1 & GPR151 & G protein-coupled receptor 151             & NA & Q8NHW4 & Q8TDV0 & 1 & ⋯ & 0 & 0 & 0 & 0 & CellPhoneDB;IMEx\\_CellPhoneDB;IntAct\\_CellPhoneDB      & NA                                   & 0 & 0 & 1 & LR  \\\\\n",
       "\t3006 & TRUE & CCL4L1\\_VSIR   & CCL4L1 & C-C motif chemokine ligand 4 like 1 & VSIR   & V-set immunoregulatory receptor            & NA & Q8NHW4 & Q9H7M9 & 1 & ⋯ & 0 & 0 & 0 & 0 & CellPhoneDB;HuRI;IMEx\\_CellPhoneDB;IntAct\\_CellPhoneDB & NA                                   & 0 & 0 & 2 & LR  \\\\\n",
       "\t3008 & TRUE & CCL4L1\\_GPR152 & CCL4L1 & C-C motif chemokine ligand 4 like 1 & GPR152 & G protein-coupled receptor 152             & NA & Q8NHW4 & Q8TDT2 & 1 & ⋯ & 0 & 0 & 0 & 0 & CellPhoneDB;HuRI;IMEx\\_CellPhoneDB;IntAct\\_CellPhoneDB & NA                                   & 0 & 0 & 2 & LR  \\\\\n",
       "\t3017 & TRUE & CCL4L1\\_GPR101 & CCL4L1 & C-C motif chemokine ligand 4 like 1 & GPR101 & G protein-coupled receptor 101             & NA & Q8NHW4 & Q96P66 & 1 & ⋯ & 0 & 0 & 0 & 0 & CellPhoneDB;IMEx\\_CellPhoneDB;IntAct\\_CellPhoneDB      & NA                                   & 0 & 0 & 1 & LR  \\\\\n",
       "\t3024 & TRUE & CCL4L1\\_PGRMC2 & CCL4L1 & C-C motif chemokine ligand 4 like 1 & PGRMC2 & progesterone receptor membrane component 2 & NA & Q8NHW4 & O15173 & 1 & ⋯ & 0 & 0 & 0 & 0 & CellPhoneDB;IMEx\\_CellPhoneDB;IntAct\\_CellPhoneDB      & NA                                   & 0 & 0 & 1 & LR  \\\\\n",
       "\\end{tabular}\n"
      ],
      "text/markdown": [
       "\n",
       "A data.frame: 11 × 21\n",
       "\n",
       "| <!--/--> | True_LR &lt;lgl&gt; | Pair.Name &lt;chr&gt; | Ligand &lt;chr&gt; | Ligand.Name &lt;chr&gt; | Receptor &lt;chr&gt; | Receptor.Name &lt;chr&gt; | complex_pair &lt;chr&gt; | source &lt;chr&gt; | target &lt;chr&gt; | is_directed &lt;dbl&gt; | ⋯ ⋯ | is_inhibition &lt;dbl&gt; | consensus_direction &lt;dbl&gt; | consensus_stimulation &lt;dbl&gt; | consensus_inhibition &lt;dbl&gt; | sources &lt;chr&gt; | references &lt;chr&gt; | curation_effort &lt;dbl&gt; | n_references &lt;dbl&gt; | n_resources &lt;int&gt; | annotation_strategy &lt;chr&gt; |\n",
       "|---|---|---|---|---|---|---|---|---|---|---|---|---|---|---|---|---|---|---|---|---|---|\n",
       "| 643 | TRUE | CCL4L1_ACKR2  | CCL4L1 | C-C motif chemokine ligand 4 like 1 | ACKR2  | atypical chemokine receptor 2              | NA | Q8NHW4 | O00590 | 1 | ⋯ | 0 | 0 | 0 | 0 | Cellinker;ICELLNET                                   | Cellinker:29637711;ICELLNET:22633458 | 2 | 2 | 2 | both |\n",
       "| 2462 | TRUE | CCL4L1_CCR1   | CCL4L1 | C-C motif chemokine ligand 4 like 1 | CCR1   | C-C motif chemokine receptor 1             | NA | Q8NHW4 | P32246 | 1 | ⋯ | 0 | 1 | 1 | 0 | CellCall;Wang;connectomeDB2020                       | connectomeDB2020:15240137            | 1 | 1 | 3 | both |\n",
       "| 2463 | TRUE | CCL4L1_CCR3   | CCL4L1 | C-C motif chemokine ligand 4 like 1 | CCR3   | C-C motif chemokine receptor 3             | NA | Q8NHW4 | P51677 | 1 | ⋯ | 0 | 1 | 1 | 0 | CellCall;Wang;connectomeDB2020                       | connectomeDB2020:15240137            | 1 | 1 | 3 | both |\n",
       "| 2464 | TRUE | CCL4L1_CCR5   | CCL4L1 | C-C motif chemokine ligand 4 like 1 | CCR5   | C-C motif chemokine receptor 5             | NA | Q8NHW4 | P51681 | 1 | ⋯ | 0 | 1 | 1 | 0 | CellCall;Wang;connectomeDB2020                       | connectomeDB2020:15240137            | 1 | 1 | 3 | both |\n",
       "| 2957 | TRUE | CCL4L1_FFAR2  | CCL4L1 | C-C motif chemokine ligand 4 like 1 | FFAR2  | free fatty acid receptor 2                 | NA | Q8NHW4 | O15552 | 1 | ⋯ | 0 | 0 | 0 | 0 | CellPhoneDB;IMEx_CellPhoneDB;IntAct_CellPhoneDB      | NA                                   | 0 | 0 | 1 | LR   |\n",
       "| 2961 | TRUE | CCL4L1_GPR42  | CCL4L1 | C-C motif chemokine ligand 4 like 1 | GPR42  | G protein-coupled receptor 42              | NA | Q8NHW4 | O15529 | 1 | ⋯ | 0 | 0 | 0 | 0 | CellPhoneDB;HuRI;IMEx_CellPhoneDB;IntAct_CellPhoneDB | NA                                   | 0 | 0 | 2 | LR   |\n",
       "| 2994 | TRUE | CCL4L1_GPR151 | CCL4L1 | C-C motif chemokine ligand 4 like 1 | GPR151 | G protein-coupled receptor 151             | NA | Q8NHW4 | Q8TDV0 | 1 | ⋯ | 0 | 0 | 0 | 0 | CellPhoneDB;IMEx_CellPhoneDB;IntAct_CellPhoneDB      | NA                                   | 0 | 0 | 1 | LR   |\n",
       "| 3006 | TRUE | CCL4L1_VSIR   | CCL4L1 | C-C motif chemokine ligand 4 like 1 | VSIR   | V-set immunoregulatory receptor            | NA | Q8NHW4 | Q9H7M9 | 1 | ⋯ | 0 | 0 | 0 | 0 | CellPhoneDB;HuRI;IMEx_CellPhoneDB;IntAct_CellPhoneDB | NA                                   | 0 | 0 | 2 | LR   |\n",
       "| 3008 | TRUE | CCL4L1_GPR152 | CCL4L1 | C-C motif chemokine ligand 4 like 1 | GPR152 | G protein-coupled receptor 152             | NA | Q8NHW4 | Q8TDT2 | 1 | ⋯ | 0 | 0 | 0 | 0 | CellPhoneDB;HuRI;IMEx_CellPhoneDB;IntAct_CellPhoneDB | NA                                   | 0 | 0 | 2 | LR   |\n",
       "| 3017 | TRUE | CCL4L1_GPR101 | CCL4L1 | C-C motif chemokine ligand 4 like 1 | GPR101 | G protein-coupled receptor 101             | NA | Q8NHW4 | Q96P66 | 1 | ⋯ | 0 | 0 | 0 | 0 | CellPhoneDB;IMEx_CellPhoneDB;IntAct_CellPhoneDB      | NA                                   | 0 | 0 | 1 | LR   |\n",
       "| 3024 | TRUE | CCL4L1_PGRMC2 | CCL4L1 | C-C motif chemokine ligand 4 like 1 | PGRMC2 | progesterone receptor membrane component 2 | NA | Q8NHW4 | O15173 | 1 | ⋯ | 0 | 0 | 0 | 0 | CellPhoneDB;IMEx_CellPhoneDB;IntAct_CellPhoneDB      | NA                                   | 0 | 0 | 1 | LR   |\n",
       "\n"
      ],
      "text/plain": [
       "     True_LR Pair.Name     Ligand Ligand.Name                         Receptor\n",
       "643  TRUE    CCL4L1_ACKR2  CCL4L1 C-C motif chemokine ligand 4 like 1 ACKR2   \n",
       "2462 TRUE    CCL4L1_CCR1   CCL4L1 C-C motif chemokine ligand 4 like 1 CCR1    \n",
       "2463 TRUE    CCL4L1_CCR3   CCL4L1 C-C motif chemokine ligand 4 like 1 CCR3    \n",
       "2464 TRUE    CCL4L1_CCR5   CCL4L1 C-C motif chemokine ligand 4 like 1 CCR5    \n",
       "2957 TRUE    CCL4L1_FFAR2  CCL4L1 C-C motif chemokine ligand 4 like 1 FFAR2   \n",
       "2961 TRUE    CCL4L1_GPR42  CCL4L1 C-C motif chemokine ligand 4 like 1 GPR42   \n",
       "2994 TRUE    CCL4L1_GPR151 CCL4L1 C-C motif chemokine ligand 4 like 1 GPR151  \n",
       "3006 TRUE    CCL4L1_VSIR   CCL4L1 C-C motif chemokine ligand 4 like 1 VSIR    \n",
       "3008 TRUE    CCL4L1_GPR152 CCL4L1 C-C motif chemokine ligand 4 like 1 GPR152  \n",
       "3017 TRUE    CCL4L1_GPR101 CCL4L1 C-C motif chemokine ligand 4 like 1 GPR101  \n",
       "3024 TRUE    CCL4L1_PGRMC2 CCL4L1 C-C motif chemokine ligand 4 like 1 PGRMC2  \n",
       "     Receptor.Name                              complex_pair source target\n",
       "643  atypical chemokine receptor 2              NA           Q8NHW4 O00590\n",
       "2462 C-C motif chemokine receptor 1             NA           Q8NHW4 P32246\n",
       "2463 C-C motif chemokine receptor 3             NA           Q8NHW4 P51677\n",
       "2464 C-C motif chemokine receptor 5             NA           Q8NHW4 P51681\n",
       "2957 free fatty acid receptor 2                 NA           Q8NHW4 O15552\n",
       "2961 G protein-coupled receptor 42              NA           Q8NHW4 O15529\n",
       "2994 G protein-coupled receptor 151             NA           Q8NHW4 Q8TDV0\n",
       "3006 V-set immunoregulatory receptor            NA           Q8NHW4 Q9H7M9\n",
       "3008 G protein-coupled receptor 152             NA           Q8NHW4 Q8TDT2\n",
       "3017 G protein-coupled receptor 101             NA           Q8NHW4 Q96P66\n",
       "3024 progesterone receptor membrane component 2 NA           Q8NHW4 O15173\n",
       "     is_directed ⋯ is_inhibition consensus_direction consensus_stimulation\n",
       "643  1           ⋯ 0             0                   0                    \n",
       "2462 1           ⋯ 0             1                   1                    \n",
       "2463 1           ⋯ 0             1                   1                    \n",
       "2464 1           ⋯ 0             1                   1                    \n",
       "2957 1           ⋯ 0             0                   0                    \n",
       "2961 1           ⋯ 0             0                   0                    \n",
       "2994 1           ⋯ 0             0                   0                    \n",
       "3006 1           ⋯ 0             0                   0                    \n",
       "3008 1           ⋯ 0             0                   0                    \n",
       "3017 1           ⋯ 0             0                   0                    \n",
       "3024 1           ⋯ 0             0                   0                    \n",
       "     consensus_inhibition sources                                             \n",
       "643  0                    Cellinker;ICELLNET                                  \n",
       "2462 0                    CellCall;Wang;connectomeDB2020                      \n",
       "2463 0                    CellCall;Wang;connectomeDB2020                      \n",
       "2464 0                    CellCall;Wang;connectomeDB2020                      \n",
       "2957 0                    CellPhoneDB;IMEx_CellPhoneDB;IntAct_CellPhoneDB     \n",
       "2961 0                    CellPhoneDB;HuRI;IMEx_CellPhoneDB;IntAct_CellPhoneDB\n",
       "2994 0                    CellPhoneDB;IMEx_CellPhoneDB;IntAct_CellPhoneDB     \n",
       "3006 0                    CellPhoneDB;HuRI;IMEx_CellPhoneDB;IntAct_CellPhoneDB\n",
       "3008 0                    CellPhoneDB;HuRI;IMEx_CellPhoneDB;IntAct_CellPhoneDB\n",
       "3017 0                    CellPhoneDB;IMEx_CellPhoneDB;IntAct_CellPhoneDB     \n",
       "3024 0                    CellPhoneDB;IMEx_CellPhoneDB;IntAct_CellPhoneDB     \n",
       "     references                           curation_effort n_references\n",
       "643  Cellinker:29637711;ICELLNET:22633458 2               2           \n",
       "2462 connectomeDB2020:15240137            1               1           \n",
       "2463 connectomeDB2020:15240137            1               1           \n",
       "2464 connectomeDB2020:15240137            1               1           \n",
       "2957 NA                                   0               0           \n",
       "2961 NA                                   0               0           \n",
       "2994 NA                                   0               0           \n",
       "3006 NA                                   0               0           \n",
       "3008 NA                                   0               0           \n",
       "3017 NA                                   0               0           \n",
       "3024 NA                                   0               0           \n",
       "     n_resources annotation_strategy\n",
       "643  2           both               \n",
       "2462 3           both               \n",
       "2463 3           both               \n",
       "2464 3           both               \n",
       "2957 1           LR                 \n",
       "2961 2           LR                 \n",
       "2994 1           LR                 \n",
       "3006 2           LR                 \n",
       "3008 2           LR                 \n",
       "3017 1           LR                 \n",
       "3024 1           LR                 "
      ]
     },
     "metadata": {},
     "output_type": "display_data"
    }
   ],
   "source": [
    "LR_database[LR_database$Ligand==\"CCL4L1\",]"
   ]
  },
  {
   "cell_type": "code",
   "execution_count": 264,
   "id": "8be3c834-ea74-432d-ad8b-c88d925bfb31",
   "metadata": {},
   "outputs": [
    {
     "name": "stderr",
     "output_type": "stream",
     "text": [
      "Warning message in cbind(parts$left, chars$ellip_h, parts$right, deparse.level = 0L):\n",
      "“number of rows of result is not a multiple of vector length (arg 2)”\n",
      "Warning message in cbind(parts$left, chars$ellip_h, parts$right, deparse.level = 0L):\n",
      "“number of rows of result is not a multiple of vector length (arg 2)”\n",
      "Warning message in cbind(parts$left, chars$ellip_h, parts$right, deparse.level = 0L):\n",
      "“number of rows of result is not a multiple of vector length (arg 2)”\n",
      "Warning message in cbind(parts$left, chars$ellip_h, parts$right, deparse.level = 0L):\n",
      "“number of rows of result is not a multiple of vector length (arg 2)”\n"
     ]
    },
    {
     "data": {
      "text/html": [
       "<table class=\"dataframe\">\n",
       "<caption>A data.frame: 0 × 21</caption>\n",
       "<thead>\n",
       "\t<tr><th scope=col>True_LR</th><th scope=col>Pair.Name</th><th scope=col>Ligand</th><th scope=col>Ligand.Name</th><th scope=col>Receptor</th><th scope=col>Receptor.Name</th><th scope=col>complex_pair</th><th scope=col>source</th><th scope=col>target</th><th scope=col>is_directed</th><th scope=col>⋯</th><th scope=col>is_inhibition</th><th scope=col>consensus_direction</th><th scope=col>consensus_stimulation</th><th scope=col>consensus_inhibition</th><th scope=col>sources</th><th scope=col>references</th><th scope=col>curation_effort</th><th scope=col>n_references</th><th scope=col>n_resources</th><th scope=col>annotation_strategy</th></tr>\n",
       "\t<tr><th scope=col>&lt;lgl&gt;</th><th scope=col>&lt;chr&gt;</th><th scope=col>&lt;chr&gt;</th><th scope=col>&lt;chr&gt;</th><th scope=col>&lt;chr&gt;</th><th scope=col>&lt;chr&gt;</th><th scope=col>&lt;chr&gt;</th><th scope=col>&lt;chr&gt;</th><th scope=col>&lt;chr&gt;</th><th scope=col>&lt;dbl&gt;</th><th scope=col>⋯</th><th scope=col>&lt;dbl&gt;</th><th scope=col>&lt;dbl&gt;</th><th scope=col>&lt;dbl&gt;</th><th scope=col>&lt;dbl&gt;</th><th scope=col>&lt;chr&gt;</th><th scope=col>&lt;chr&gt;</th><th scope=col>&lt;dbl&gt;</th><th scope=col>&lt;dbl&gt;</th><th scope=col>&lt;int&gt;</th><th scope=col>&lt;chr&gt;</th></tr>\n",
       "</thead>\n",
       "<tbody>\n",
       "</tbody>\n",
       "</table>\n"
      ],
      "text/latex": [
       "A data.frame: 0 × 21\n",
       "\\begin{tabular}{lllllllllllllllllllll}\n",
       " True\\_LR & Pair.Name & Ligand & Ligand.Name & Receptor & Receptor.Name & complex\\_pair & source & target & is\\_directed & ⋯ & is\\_inhibition & consensus\\_direction & consensus\\_stimulation & consensus\\_inhibition & sources & references & curation\\_effort & n\\_references & n\\_resources & annotation\\_strategy\\\\\n",
       " <lgl> & <chr> & <chr> & <chr> & <chr> & <chr> & <chr> & <chr> & <chr> & <dbl> & ⋯ & <dbl> & <dbl> & <dbl> & <dbl> & <chr> & <chr> & <dbl> & <dbl> & <int> & <chr>\\\\\n",
       "\\hline\n",
       "\\end{tabular}\n"
      ],
      "text/markdown": [
       "\n",
       "A data.frame: 0 × 21\n",
       "\n",
       "| True_LR &lt;lgl&gt; | Pair.Name &lt;chr&gt; | Ligand &lt;chr&gt; | Ligand.Name &lt;chr&gt; | Receptor &lt;chr&gt; | Receptor.Name &lt;chr&gt; | complex_pair &lt;chr&gt; | source &lt;chr&gt; | target &lt;chr&gt; | is_directed &lt;dbl&gt; | ⋯ ⋯ | is_inhibition &lt;dbl&gt; | consensus_direction &lt;dbl&gt; | consensus_stimulation &lt;dbl&gt; | consensus_inhibition &lt;dbl&gt; | sources &lt;chr&gt; | references &lt;chr&gt; | curation_effort &lt;dbl&gt; | n_references &lt;dbl&gt; | n_resources &lt;int&gt; | annotation_strategy &lt;chr&gt; |\n",
       "|---|---|---|---|---|---|---|---|---|---|---|---|---|---|---|---|---|---|---|---|---|\n",
       "\n"
      ],
      "text/plain": [
       "     True_LR Pair.Name Ligand Ligand.Name Receptor Receptor.Name complex_pair\n",
       "     source target is_directed ⋯ is_inhibition consensus_direction\n",
       "     consensus_stimulation consensus_inhibition sources references\n",
       "     curation_effort n_references n_resources annotation_strategy"
      ]
     },
     "metadata": {},
     "output_type": "display_data"
    }
   ],
   "source": [
    "LR_database[LR_database$Ligand==\"CCL4L2\",]"
   ]
  },
  {
   "cell_type": "code",
   "execution_count": 265,
   "id": "cc45d193-a40e-495d-ba6a-4541090efc5e",
   "metadata": {},
   "outputs": [],
   "source": [
    "# df <- df %>%\n",
    "#   mutate(interaction_ID = str_replace(interaction_ID, \"CCL4L2\", \"CCL4L1\"),\n",
    "#          sender_gene = ifelse(sender_gene == \"CCL4L2\", \"CCL4L1\", sender_gene),\n",
    "#          receiver_gene = ifelse(receiver_gene == \"CCL4L2\", \"CCL4L1\", receiver_gene))"
   ]
  },
  {
   "cell_type": "code",
   "execution_count": 266,
   "id": "140429f2",
   "metadata": {},
   "outputs": [
    {
     "data": {
      "text/html": [
       "<table class=\"dataframe\">\n",
       "<caption>A data.frame: 0 × 13</caption>\n",
       "<thead>\n",
       "\t<tr><th scope=col>interaction_ID</th><th scope=col>sender_celltype</th><th scope=col>sender_gene</th><th scope=col>receiver_celltype</th><th scope=col>receiver_gene</th><th scope=col>ligand_log2FC</th><th scope=col>ligand_p_val_adj</th><th scope=col>receptor_log2FC</th><th scope=col>receptor_p_val_adj</th><th scope=col>mean_weigth_case</th><th scope=col>mean_weight_control</th><th scope=col>log2FC_weights</th><th scope=col>direction</th></tr>\n",
       "\t<tr><th scope=col>&lt;chr&gt;</th><th scope=col>&lt;chr&gt;</th><th scope=col>&lt;chr&gt;</th><th scope=col>&lt;chr&gt;</th><th scope=col>&lt;chr&gt;</th><th scope=col>&lt;dbl&gt;</th><th scope=col>&lt;dbl&gt;</th><th scope=col>&lt;dbl&gt;</th><th scope=col>&lt;dbl&gt;</th><th scope=col>&lt;dbl&gt;</th><th scope=col>&lt;dbl&gt;</th><th scope=col>&lt;dbl&gt;</th><th scope=col>&lt;chr&gt;</th></tr>\n",
       "</thead>\n",
       "<tbody>\n",
       "</tbody>\n",
       "</table>\n"
      ],
      "text/latex": [
       "A data.frame: 0 × 13\n",
       "\\begin{tabular}{lllllllllllll}\n",
       " interaction\\_ID & sender\\_celltype & sender\\_gene & receiver\\_celltype & receiver\\_gene & ligand\\_log2FC & ligand\\_p\\_val\\_adj & receptor\\_log2FC & receptor\\_p\\_val\\_adj & mean\\_weigth\\_case & mean\\_weight\\_control & log2FC\\_weights & direction\\\\\n",
       " <chr> & <chr> & <chr> & <chr> & <chr> & <dbl> & <dbl> & <dbl> & <dbl> & <dbl> & <dbl> & <dbl> & <chr>\\\\\n",
       "\\hline\n",
       "\\end{tabular}\n"
      ],
      "text/markdown": [
       "\n",
       "A data.frame: 0 × 13\n",
       "\n",
       "| interaction_ID &lt;chr&gt; | sender_celltype &lt;chr&gt; | sender_gene &lt;chr&gt; | receiver_celltype &lt;chr&gt; | receiver_gene &lt;chr&gt; | ligand_log2FC &lt;dbl&gt; | ligand_p_val_adj &lt;dbl&gt; | receptor_log2FC &lt;dbl&gt; | receptor_p_val_adj &lt;dbl&gt; | mean_weigth_case &lt;dbl&gt; | mean_weight_control &lt;dbl&gt; | log2FC_weights &lt;dbl&gt; | direction &lt;chr&gt; |\n",
       "|---|---|---|---|---|---|---|---|---|---|---|---|---|\n",
       "\n"
      ],
      "text/plain": [
       "     interaction_ID sender_celltype sender_gene receiver_celltype receiver_gene\n",
       "     ligand_log2FC ligand_p_val_adj receptor_log2FC receptor_p_val_adj\n",
       "     mean_weigth_case mean_weight_control log2FC_weights direction"
      ]
     },
     "metadata": {},
     "output_type": "display_data"
    }
   ],
   "source": [
    "df[df$sender_gene==\"CCL4L1\",]"
   ]
  },
  {
   "cell_type": "code",
   "execution_count": 267,
   "id": "474353d5",
   "metadata": {},
   "outputs": [],
   "source": [
    "# LR_DB <- LR_DB %>% \n",
    "#         rename(\"Ligand\" = \"protein_name_a\",\n",
    "#                \"Receptor\" = \"protein_name_b\")\n",
    "\n",
    "# LR_DB <- LR_DB[,-1]"
   ]
  },
  {
   "cell_type": "code",
   "execution_count": 268,
   "id": "9bd973aa",
   "metadata": {},
   "outputs": [],
   "source": [
    "df[\"pair\"] <- paste0(df$sender_gene, \"_\", df$receiver_gene)\n",
    "df[\"dup\"] <- paste0(df$receiver_gene, \"_\", df$sender_gene)"
   ]
  },
  {
   "cell_type": "code",
   "execution_count": 269,
   "id": "12a0240d",
   "metadata": {},
   "outputs": [
    {
     "data": {
      "text/html": [
       "<table class=\"dataframe\">\n",
       "<caption>A data.frame: 0 × 15</caption>\n",
       "<thead>\n",
       "\t<tr><th scope=col>interaction_ID</th><th scope=col>sender_celltype</th><th scope=col>sender_gene</th><th scope=col>receiver_celltype</th><th scope=col>receiver_gene</th><th scope=col>ligand_log2FC</th><th scope=col>ligand_p_val_adj</th><th scope=col>receptor_log2FC</th><th scope=col>receptor_p_val_adj</th><th scope=col>mean_weigth_case</th><th scope=col>mean_weight_control</th><th scope=col>log2FC_weights</th><th scope=col>direction</th><th scope=col>pair</th><th scope=col>dup</th></tr>\n",
       "\t<tr><th scope=col>&lt;chr&gt;</th><th scope=col>&lt;chr&gt;</th><th scope=col>&lt;chr&gt;</th><th scope=col>&lt;chr&gt;</th><th scope=col>&lt;chr&gt;</th><th scope=col>&lt;dbl&gt;</th><th scope=col>&lt;dbl&gt;</th><th scope=col>&lt;dbl&gt;</th><th scope=col>&lt;dbl&gt;</th><th scope=col>&lt;dbl&gt;</th><th scope=col>&lt;dbl&gt;</th><th scope=col>&lt;dbl&gt;</th><th scope=col>&lt;chr&gt;</th><th scope=col>&lt;chr&gt;</th><th scope=col>&lt;chr&gt;</th></tr>\n",
       "</thead>\n",
       "<tbody>\n",
       "</tbody>\n",
       "</table>\n"
      ],
      "text/latex": [
       "A data.frame: 0 × 15\n",
       "\\begin{tabular}{lllllllllllllll}\n",
       " interaction\\_ID & sender\\_celltype & sender\\_gene & receiver\\_celltype & receiver\\_gene & ligand\\_log2FC & ligand\\_p\\_val\\_adj & receptor\\_log2FC & receptor\\_p\\_val\\_adj & mean\\_weigth\\_case & mean\\_weight\\_control & log2FC\\_weights & direction & pair & dup\\\\\n",
       " <chr> & <chr> & <chr> & <chr> & <chr> & <dbl> & <dbl> & <dbl> & <dbl> & <dbl> & <dbl> & <dbl> & <chr> & <chr> & <chr>\\\\\n",
       "\\hline\n",
       "\\end{tabular}\n"
      ],
      "text/markdown": [
       "\n",
       "A data.frame: 0 × 15\n",
       "\n",
       "| interaction_ID &lt;chr&gt; | sender_celltype &lt;chr&gt; | sender_gene &lt;chr&gt; | receiver_celltype &lt;chr&gt; | receiver_gene &lt;chr&gt; | ligand_log2FC &lt;dbl&gt; | ligand_p_val_adj &lt;dbl&gt; | receptor_log2FC &lt;dbl&gt; | receptor_p_val_adj &lt;dbl&gt; | mean_weigth_case &lt;dbl&gt; | mean_weight_control &lt;dbl&gt; | log2FC_weights &lt;dbl&gt; | direction &lt;chr&gt; | pair &lt;chr&gt; | dup &lt;chr&gt; |\n",
       "|---|---|---|---|---|---|---|---|---|---|---|---|---|---|---|\n",
       "\n"
      ],
      "text/plain": [
       "     interaction_ID sender_celltype sender_gene receiver_celltype receiver_gene\n",
       "     ligand_log2FC ligand_p_val_adj receptor_log2FC receptor_p_val_adj\n",
       "     mean_weigth_case mean_weight_control log2FC_weights direction pair dup"
      ]
     },
     "metadata": {},
     "output_type": "display_data"
    }
   ],
   "source": [
    "# check if we have any duplicated swaps\n",
    "df[df$pair %in% df$dup,]"
   ]
  },
  {
   "cell_type": "code",
   "execution_count": 270,
   "id": "eaf71923-f8c0-4206-944e-cbc522ea1522",
   "metadata": {},
   "outputs": [
    {
     "data": {
      "text/html": [
       "TRUE"
      ],
      "text/latex": [
       "TRUE"
      ],
      "text/markdown": [
       "TRUE"
      ],
      "text/plain": [
       "[1] TRUE"
      ]
     },
     "metadata": {},
     "output_type": "display_data"
    }
   ],
   "source": [
    "# check if all the items that are not present in the original database exist as swapped pairs in \n",
    "#the original database.\n",
    "identical(df[!df$pair %in% LR_DB$Pair.Name,]$interaction_ID,df[df$dup %in% LR_DB$Pair.Name,]$interaction_ID)"
   ]
  },
  {
   "cell_type": "code",
   "execution_count": 271,
   "id": "638b0ede-fa86-43b5-974f-54a6c92b3afa",
   "metadata": {},
   "outputs": [],
   "source": [
    "# not_in_LR <- df[!df$pair %in% LR_DB$Pair.Name,]"
   ]
  },
  {
   "cell_type": "code",
   "execution_count": 272,
   "id": "84028e3f-e6db-4809-af97-ccdc25f40e04",
   "metadata": {},
   "outputs": [],
   "source": [
    "# pairs_not_in <- unique(not_in_LR$dup)"
   ]
  },
  {
   "cell_type": "code",
   "execution_count": 273,
   "id": "b42b8ea9-25d9-489b-9ed6-8bdb66343fa7",
   "metadata": {},
   "outputs": [],
   "source": [
    "# length(pairs_not_in)"
   ]
  },
  {
   "cell_type": "code",
   "execution_count": 274,
   "id": "705972de-6a42-43b0-b70a-799c715cab82",
   "metadata": {},
   "outputs": [],
   "source": [
    "# nrow(not_in_LR)"
   ]
  },
  {
   "cell_type": "code",
   "execution_count": 275,
   "id": "25492aad-14ea-42f3-8c51-5107d1aa3da3",
   "metadata": {},
   "outputs": [],
   "source": [
    "# not_in_LR[!not_in_LR$dup %in% LR_database$Pair.Name,]"
   ]
  },
  {
   "cell_type": "code",
   "execution_count": null,
   "id": "6f151c62-e428-468b-b97e-dd905aa6a186",
   "metadata": {},
   "outputs": [],
   "source": []
  },
  {
   "cell_type": "code",
   "execution_count": 276,
   "id": "b3c9d624-34e2-42e8-8d84-c8f228ac1a4c",
   "metadata": {},
   "outputs": [
    {
     "data": {
      "text/html": [
       "TRUE"
      ],
      "text/latex": [
       "TRUE"
      ],
      "text/markdown": [
       "TRUE"
      ],
      "text/plain": [
       "[1] TRUE"
      ]
     },
     "metadata": {},
     "output_type": "display_data"
    }
   ],
   "source": [
    "all(df[!df$pair %in% LR_DB$Pair.Name,]$dup %in%  LR_database$Pair.Name)"
   ]
  },
  {
   "cell_type": "code",
   "execution_count": 277,
   "id": "ace28693",
   "metadata": {},
   "outputs": [
    {
     "data": {
      "text/html": [
       "TRUE"
      ],
      "text/latex": [
       "TRUE"
      ],
      "text/markdown": [
       "TRUE"
      ],
      "text/plain": [
       "[1] TRUE"
      ]
     },
     "metadata": {},
     "output_type": "display_data"
    }
   ],
   "source": [
    "# check if all the items that are not present in the original database exist as swapped pairs in \n",
    "#the original database.\n",
    "identical(df[!df$pair %in% LR_DB$Pair.Name,]$interaction_ID,df[df$dup %in% LR_DB$Pair.Name,]$interaction_ID)"
   ]
  },
  {
   "cell_type": "code",
   "execution_count": 278,
   "id": "43c1cc2a",
   "metadata": {},
   "outputs": [
    {
     "data": {
      "text/html": [
       "2421"
      ],
      "text/latex": [
       "2421"
      ],
      "text/markdown": [
       "2421"
      ],
      "text/plain": [
       "[1] 2421"
      ]
     },
     "metadata": {},
     "output_type": "display_data"
    }
   ],
   "source": [
    "nrow(df)"
   ]
  },
  {
   "cell_type": "code",
   "execution_count": 279,
   "id": "b159266c",
   "metadata": {},
   "outputs": [],
   "source": [
    "fix_df = df[!df$pair %in% LR_DB$Pair.Name,]"
   ]
  },
  {
   "cell_type": "code",
   "execution_count": 280,
   "id": "71584efd",
   "metadata": {},
   "outputs": [],
   "source": [
    "df = df[df$pair %in% LR_DB$Pair.Name,]"
   ]
  },
  {
   "cell_type": "code",
   "execution_count": 281,
   "id": "7b4288fb",
   "metadata": {},
   "outputs": [
    {
     "data": {
      "text/html": [
       "2421"
      ],
      "text/latex": [
       "2421"
      ],
      "text/markdown": [
       "2421"
      ],
      "text/plain": [
       "[1] 2421"
      ]
     },
     "metadata": {},
     "output_type": "display_data"
    }
   ],
   "source": [
    "nrow(df) + nrow(fix_df)"
   ]
  },
  {
   "cell_type": "code",
   "execution_count": 282,
   "id": "a2a278bd",
   "metadata": {},
   "outputs": [
    {
     "data": {
      "text/html": [
       "TRUE"
      ],
      "text/latex": [
       "TRUE"
      ],
      "text/markdown": [
       "TRUE"
      ],
      "text/plain": [
       "[1] TRUE"
      ]
     },
     "metadata": {},
     "output_type": "display_data"
    }
   ],
   "source": [
    "all(fix_df$dup %in% LR_DB$Pair.Name)"
   ]
  },
  {
   "cell_type": "code",
   "execution_count": 283,
   "id": "22519f00",
   "metadata": {},
   "outputs": [],
   "source": [
    "# create a pair column, makes it easier to check\n",
    "multiplied_df$pair <- sapply(strsplit(multiplied_df$interaction_ID, \"_\"), function(x) {\n",
    "  genes <- gsub(\".*:\", \"\", x)\n",
    "  paste(genes, collapse = \"_\")\n",
    "})"
   ]
  },
  {
   "cell_type": "code",
   "execution_count": 284,
   "id": "1acfa79e",
   "metadata": {},
   "outputs": [],
   "source": [
    "fix_multiplied_df = multiplied_df[!multiplied_df$pair %in% LR_DB$Pair.Name,]"
   ]
  },
  {
   "cell_type": "code",
   "execution_count": 285,
   "id": "cc3dfea1",
   "metadata": {},
   "outputs": [],
   "source": [
    "multiplied_df = multiplied_df[multiplied_df$pair %in% LR_DB$Pair.Name,]"
   ]
  },
  {
   "cell_type": "code",
   "execution_count": 286,
   "id": "d2a45d20",
   "metadata": {},
   "outputs": [
    {
     "data": {
      "text/html": [
       "<table class=\"dataframe\">\n",
       "<caption>A data.frame: 6 × 15</caption>\n",
       "<thead>\n",
       "\t<tr><th></th><th scope=col>interaction_ID</th><th scope=col>AML-0024</th><th scope=col>AML-0160</th><th scope=col>AML-0693</th><th scope=col>AML-1371</th><th scope=col>AML-2123</th><th scope=col>AML-3133</th><th scope=col>AML-4340</th><th scope=col>healthy-1</th><th scope=col>healthy-2</th><th scope=col>healthy-3</th><th scope=col>healthy-4</th><th scope=col>healthy-4003</th><th scope=col>healthy-5</th><th scope=col>pair</th></tr>\n",
       "\t<tr><th></th><th scope=col>&lt;chr&gt;</th><th scope=col>&lt;dbl&gt;</th><th scope=col>&lt;dbl&gt;</th><th scope=col>&lt;dbl&gt;</th><th scope=col>&lt;dbl&gt;</th><th scope=col>&lt;dbl&gt;</th><th scope=col>&lt;dbl&gt;</th><th scope=col>&lt;dbl&gt;</th><th scope=col>&lt;dbl&gt;</th><th scope=col>&lt;dbl&gt;</th><th scope=col>&lt;dbl&gt;</th><th scope=col>&lt;dbl&gt;</th><th scope=col>&lt;dbl&gt;</th><th scope=col>&lt;dbl&gt;</th><th scope=col>&lt;chr&gt;</th></tr>\n",
       "</thead>\n",
       "<tbody>\n",
       "\t<tr><th scope=row>107</th><td>B:ITGB2_HSPC:GP1BB   </td><td>0</td><td>0</td><td>0.000</td><td>0</td><td>0</td><td>0.000</td><td>0</td><td>0.000</td><td>0.000</td><td>0.257</td><td>0.225</td><td>0.000</td><td>0.000</td><td>ITGB2_GP1BB</td></tr>\n",
       "\t<tr><th scope=row>108</th><td>DC:ITGB2_HSPC:GP1BB  </td><td>0</td><td>0</td><td>0.352</td><td>0</td><td>0</td><td>0.269</td><td>0</td><td>0.412</td><td>0.468</td><td>0.608</td><td>0.530</td><td>0.495</td><td>0.428</td><td>ITGB2_GP1BB</td></tr>\n",
       "\t<tr><th scope=row>109</th><td>Ery:ITGB2_HSPC:GP1BB </td><td>0</td><td>0</td><td>0.000</td><td>0</td><td>0</td><td>0.000</td><td>0</td><td>0.000</td><td>0.000</td><td>0.215</td><td>0.000</td><td>0.000</td><td>0.000</td><td>ITGB2_GP1BB</td></tr>\n",
       "\t<tr><th scope=row>110</th><td>Gran:ITGB2_HSPC:GP1BB</td><td>0</td><td>0</td><td>0.322</td><td>0</td><td>0</td><td>0.501</td><td>0</td><td>0.577</td><td>0.594</td><td>0.611</td><td>0.657</td><td>0.573</td><td>0.527</td><td>ITGB2_GP1BB</td></tr>\n",
       "\t<tr><th scope=row>111</th><td>HSPC:ITGB2_HSPC:GP1BB</td><td>0</td><td>0</td><td>0.153</td><td>0</td><td>0</td><td>0.160</td><td>0</td><td>0.187</td><td>0.250</td><td>0.277</td><td>0.215</td><td>0.253</td><td>0.258</td><td>ITGB2_GP1BB</td></tr>\n",
       "\t<tr><th scope=row>112</th><td>Mono:ITGB2_HSPC:GP1BB</td><td>0</td><td>0</td><td>0.382</td><td>0</td><td>0</td><td>0.491</td><td>0</td><td>0.604</td><td>0.582</td><td>0.632</td><td>0.695</td><td>0.560</td><td>0.505</td><td>ITGB2_GP1BB</td></tr>\n",
       "</tbody>\n",
       "</table>\n"
      ],
      "text/latex": [
       "A data.frame: 6 × 15\n",
       "\\begin{tabular}{r|lllllllllllllll}\n",
       "  & interaction\\_ID & AML-0024 & AML-0160 & AML-0693 & AML-1371 & AML-2123 & AML-3133 & AML-4340 & healthy-1 & healthy-2 & healthy-3 & healthy-4 & healthy-4003 & healthy-5 & pair\\\\\n",
       "  & <chr> & <dbl> & <dbl> & <dbl> & <dbl> & <dbl> & <dbl> & <dbl> & <dbl> & <dbl> & <dbl> & <dbl> & <dbl> & <dbl> & <chr>\\\\\n",
       "\\hline\n",
       "\t107 & B:ITGB2\\_HSPC:GP1BB    & 0 & 0 & 0.000 & 0 & 0 & 0.000 & 0 & 0.000 & 0.000 & 0.257 & 0.225 & 0.000 & 0.000 & ITGB2\\_GP1BB\\\\\n",
       "\t108 & DC:ITGB2\\_HSPC:GP1BB   & 0 & 0 & 0.352 & 0 & 0 & 0.269 & 0 & 0.412 & 0.468 & 0.608 & 0.530 & 0.495 & 0.428 & ITGB2\\_GP1BB\\\\\n",
       "\t109 & Ery:ITGB2\\_HSPC:GP1BB  & 0 & 0 & 0.000 & 0 & 0 & 0.000 & 0 & 0.000 & 0.000 & 0.215 & 0.000 & 0.000 & 0.000 & ITGB2\\_GP1BB\\\\\n",
       "\t110 & Gran:ITGB2\\_HSPC:GP1BB & 0 & 0 & 0.322 & 0 & 0 & 0.501 & 0 & 0.577 & 0.594 & 0.611 & 0.657 & 0.573 & 0.527 & ITGB2\\_GP1BB\\\\\n",
       "\t111 & HSPC:ITGB2\\_HSPC:GP1BB & 0 & 0 & 0.153 & 0 & 0 & 0.160 & 0 & 0.187 & 0.250 & 0.277 & 0.215 & 0.253 & 0.258 & ITGB2\\_GP1BB\\\\\n",
       "\t112 & Mono:ITGB2\\_HSPC:GP1BB & 0 & 0 & 0.382 & 0 & 0 & 0.491 & 0 & 0.604 & 0.582 & 0.632 & 0.695 & 0.560 & 0.505 & ITGB2\\_GP1BB\\\\\n",
       "\\end{tabular}\n"
      ],
      "text/markdown": [
       "\n",
       "A data.frame: 6 × 15\n",
       "\n",
       "| <!--/--> | interaction_ID &lt;chr&gt; | AML-0024 &lt;dbl&gt; | AML-0160 &lt;dbl&gt; | AML-0693 &lt;dbl&gt; | AML-1371 &lt;dbl&gt; | AML-2123 &lt;dbl&gt; | AML-3133 &lt;dbl&gt; | AML-4340 &lt;dbl&gt; | healthy-1 &lt;dbl&gt; | healthy-2 &lt;dbl&gt; | healthy-3 &lt;dbl&gt; | healthy-4 &lt;dbl&gt; | healthy-4003 &lt;dbl&gt; | healthy-5 &lt;dbl&gt; | pair &lt;chr&gt; |\n",
       "|---|---|---|---|---|---|---|---|---|---|---|---|---|---|---|---|\n",
       "| 107 | B:ITGB2_HSPC:GP1BB    | 0 | 0 | 0.000 | 0 | 0 | 0.000 | 0 | 0.000 | 0.000 | 0.257 | 0.225 | 0.000 | 0.000 | ITGB2_GP1BB |\n",
       "| 108 | DC:ITGB2_HSPC:GP1BB   | 0 | 0 | 0.352 | 0 | 0 | 0.269 | 0 | 0.412 | 0.468 | 0.608 | 0.530 | 0.495 | 0.428 | ITGB2_GP1BB |\n",
       "| 109 | Ery:ITGB2_HSPC:GP1BB  | 0 | 0 | 0.000 | 0 | 0 | 0.000 | 0 | 0.000 | 0.000 | 0.215 | 0.000 | 0.000 | 0.000 | ITGB2_GP1BB |\n",
       "| 110 | Gran:ITGB2_HSPC:GP1BB | 0 | 0 | 0.322 | 0 | 0 | 0.501 | 0 | 0.577 | 0.594 | 0.611 | 0.657 | 0.573 | 0.527 | ITGB2_GP1BB |\n",
       "| 111 | HSPC:ITGB2_HSPC:GP1BB | 0 | 0 | 0.153 | 0 | 0 | 0.160 | 0 | 0.187 | 0.250 | 0.277 | 0.215 | 0.253 | 0.258 | ITGB2_GP1BB |\n",
       "| 112 | Mono:ITGB2_HSPC:GP1BB | 0 | 0 | 0.382 | 0 | 0 | 0.491 | 0 | 0.604 | 0.582 | 0.632 | 0.695 | 0.560 | 0.505 | ITGB2_GP1BB |\n",
       "\n"
      ],
      "text/plain": [
       "    interaction_ID        AML-0024 AML-0160 AML-0693 AML-1371 AML-2123 AML-3133\n",
       "107 B:ITGB2_HSPC:GP1BB    0        0        0.000    0        0        0.000   \n",
       "108 DC:ITGB2_HSPC:GP1BB   0        0        0.352    0        0        0.269   \n",
       "109 Ery:ITGB2_HSPC:GP1BB  0        0        0.000    0        0        0.000   \n",
       "110 Gran:ITGB2_HSPC:GP1BB 0        0        0.322    0        0        0.501   \n",
       "111 HSPC:ITGB2_HSPC:GP1BB 0        0        0.153    0        0        0.160   \n",
       "112 Mono:ITGB2_HSPC:GP1BB 0        0        0.382    0        0        0.491   \n",
       "    AML-4340 healthy-1 healthy-2 healthy-3 healthy-4 healthy-4003 healthy-5\n",
       "107 0        0.000     0.000     0.257     0.225     0.000        0.000    \n",
       "108 0        0.412     0.468     0.608     0.530     0.495        0.428    \n",
       "109 0        0.000     0.000     0.215     0.000     0.000        0.000    \n",
       "110 0        0.577     0.594     0.611     0.657     0.573        0.527    \n",
       "111 0        0.187     0.250     0.277     0.215     0.253        0.258    \n",
       "112 0        0.604     0.582     0.632     0.695     0.560        0.505    \n",
       "    pair       \n",
       "107 ITGB2_GP1BB\n",
       "108 ITGB2_GP1BB\n",
       "109 ITGB2_GP1BB\n",
       "110 ITGB2_GP1BB\n",
       "111 ITGB2_GP1BB\n",
       "112 ITGB2_GP1BB"
      ]
     },
     "metadata": {},
     "output_type": "display_data"
    }
   ],
   "source": [
    "head(fix_multiplied_df)"
   ]
  },
  {
   "cell_type": "code",
   "execution_count": 287,
   "id": "7c263ce4",
   "metadata": {},
   "outputs": [],
   "source": [
    "# # Split values by underscore and swap\n",
    "fix_multiplied_df$interaction_ID <- sapply(strsplit(fix_multiplied_df$interaction_ID, \"_\"), function(x) paste(rev(x), collapse = \"_\"))"
   ]
  },
  {
   "cell_type": "code",
   "execution_count": null,
   "id": "2fab8b76",
   "metadata": {},
   "outputs": [],
   "source": []
  },
  {
   "cell_type": "code",
   "execution_count": 288,
   "id": "a3d38b40",
   "metadata": {},
   "outputs": [
    {
     "data": {
      "text/html": [
       "<style>\n",
       ".list-inline {list-style: none; margin:0; padding: 0}\n",
       ".list-inline>li {display: inline-block}\n",
       ".list-inline>li:not(:last-child)::after {content: \"\\00b7\"; padding: 0 .5ex}\n",
       "</style>\n",
       "<ol class=list-inline><li>'interaction_ID'</li><li>'sender_celltype'</li><li>'sender_gene'</li><li>'receiver_celltype'</li><li>'receiver_gene'</li><li>'ligand_log2FC'</li><li>'ligand_p_val_adj'</li><li>'receptor_log2FC'</li><li>'receptor_p_val_adj'</li><li>'mean_weigth_case'</li><li>'mean_weight_control'</li><li>'log2FC_weights'</li><li>'direction'</li><li>'pair'</li><li>'dup'</li></ol>\n"
      ],
      "text/latex": [
       "\\begin{enumerate*}\n",
       "\\item 'interaction\\_ID'\n",
       "\\item 'sender\\_celltype'\n",
       "\\item 'sender\\_gene'\n",
       "\\item 'receiver\\_celltype'\n",
       "\\item 'receiver\\_gene'\n",
       "\\item 'ligand\\_log2FC'\n",
       "\\item 'ligand\\_p\\_val\\_adj'\n",
       "\\item 'receptor\\_log2FC'\n",
       "\\item 'receptor\\_p\\_val\\_adj'\n",
       "\\item 'mean\\_weigth\\_case'\n",
       "\\item 'mean\\_weight\\_control'\n",
       "\\item 'log2FC\\_weights'\n",
       "\\item 'direction'\n",
       "\\item 'pair'\n",
       "\\item 'dup'\n",
       "\\end{enumerate*}\n"
      ],
      "text/markdown": [
       "1. 'interaction_ID'\n",
       "2. 'sender_celltype'\n",
       "3. 'sender_gene'\n",
       "4. 'receiver_celltype'\n",
       "5. 'receiver_gene'\n",
       "6. 'ligand_log2FC'\n",
       "7. 'ligand_p_val_adj'\n",
       "8. 'receptor_log2FC'\n",
       "9. 'receptor_p_val_adj'\n",
       "10. 'mean_weigth_case'\n",
       "11. 'mean_weight_control'\n",
       "12. 'log2FC_weights'\n",
       "13. 'direction'\n",
       "14. 'pair'\n",
       "15. 'dup'\n",
       "\n",
       "\n"
      ],
      "text/plain": [
       " [1] \"interaction_ID\"      \"sender_celltype\"     \"sender_gene\"        \n",
       " [4] \"receiver_celltype\"   \"receiver_gene\"       \"ligand_log2FC\"      \n",
       " [7] \"ligand_p_val_adj\"    \"receptor_log2FC\"     \"receptor_p_val_adj\" \n",
       "[10] \"mean_weigth_case\"    \"mean_weight_control\" \"log2FC_weights\"     \n",
       "[13] \"direction\"           \"pair\"                \"dup\"                "
      ]
     },
     "metadata": {},
     "output_type": "display_data"
    }
   ],
   "source": [
    "colnames(fix_df)"
   ]
  },
  {
   "cell_type": "code",
   "execution_count": 289,
   "id": "67d5f615",
   "metadata": {},
   "outputs": [],
   "source": [
    "new_df <- data.frame(\n",
    "  interaction_ID = fix_df$interaction_ID,\n",
    "  sender_celltype = fix_df$receiver_celltype,\n",
    "  sender_gene = fix_df$receiver_gene,\n",
    "  receiver_celltype = fix_df$sender_celltype,\n",
    "  receiver_gene = fix_df$sender_gene,\n",
    "  ligand_log2FC = fix_df$receptor_log2FC,\n",
    "  ligand_p_val_adj = fix_df$receptor_log2FC,\n",
    "  receptor_log2FC = fix_df$ligand_log2FC,\n",
    "  receptor_p_val_adj = fix_df$ligand_p_val_adj,\n",
    "  mean_weigth_case = fix_df$mean_weigth_case,\n",
    "  mean_weight_control = fix_df$mean_weight_control,\n",
    "  log2FC_weights = fix_df$log2FC_weights,\n",
    "  direction = fix_df$direction\n",
    "  )"
   ]
  },
  {
   "cell_type": "code",
   "execution_count": 290,
   "id": "e97b4c27",
   "metadata": {},
   "outputs": [],
   "source": [
    "new_df[\"interaction_ID\"] <- paste0(new_df$sender_celltype, \":\",new_df$sender_gene , \"_\", new_df$receiver_celltype, \":\", new_df$receiver_gene)"
   ]
  },
  {
   "cell_type": "code",
   "execution_count": 291,
   "id": "4f0c0717",
   "metadata": {},
   "outputs": [],
   "source": [
    "multiplied_df <- rbind(fix_multiplied_df,multiplied_df)"
   ]
  },
  {
   "cell_type": "code",
   "execution_count": 292,
   "id": "6ba48265",
   "metadata": {},
   "outputs": [],
   "source": [
    "df <- df[, !(names(df) %in% c(\"pair\",\"dup\"))]"
   ]
  },
  {
   "cell_type": "code",
   "execution_count": 293,
   "id": "ef3404fc",
   "metadata": {},
   "outputs": [],
   "source": [
    "df <- rbind(new_df,df)"
   ]
  },
  {
   "cell_type": "code",
   "execution_count": null,
   "id": "b94315ad-e306-4550-a2de-336d1d0c56a9",
   "metadata": {},
   "outputs": [],
   "source": []
  },
  {
   "cell_type": "code",
   "execution_count": 294,
   "id": "38f500ab",
   "metadata": {},
   "outputs": [],
   "source": [
    "multiplied_df <- multiplied_df[, !(names(multiplied_df) %in% c(\"pair\",\"dup\"))]"
   ]
  },
  {
   "cell_type": "code",
   "execution_count": 295,
   "id": "074e6bba",
   "metadata": {},
   "outputs": [
    {
     "data": {
      "text/html": [
       "<table class=\"dataframe\">\n",
       "<caption>A data.frame: 6 × 14</caption>\n",
       "<thead>\n",
       "\t<tr><th></th><th scope=col>interaction_ID</th><th scope=col>AML-0024</th><th scope=col>AML-0160</th><th scope=col>AML-0693</th><th scope=col>AML-1371</th><th scope=col>AML-2123</th><th scope=col>AML-3133</th><th scope=col>AML-4340</th><th scope=col>healthy-1</th><th scope=col>healthy-2</th><th scope=col>healthy-3</th><th scope=col>healthy-4</th><th scope=col>healthy-4003</th><th scope=col>healthy-5</th></tr>\n",
       "\t<tr><th></th><th scope=col>&lt;chr&gt;</th><th scope=col>&lt;dbl&gt;</th><th scope=col>&lt;dbl&gt;</th><th scope=col>&lt;dbl&gt;</th><th scope=col>&lt;dbl&gt;</th><th scope=col>&lt;dbl&gt;</th><th scope=col>&lt;dbl&gt;</th><th scope=col>&lt;dbl&gt;</th><th scope=col>&lt;dbl&gt;</th><th scope=col>&lt;dbl&gt;</th><th scope=col>&lt;dbl&gt;</th><th scope=col>&lt;dbl&gt;</th><th scope=col>&lt;dbl&gt;</th><th scope=col>&lt;dbl&gt;</th></tr>\n",
       "</thead>\n",
       "<tbody>\n",
       "\t<tr><th scope=row>107</th><td>HSPC:GP1BB_B:ITGB2   </td><td>0</td><td>0</td><td>0.000</td><td>0</td><td>0</td><td>0.000</td><td>0</td><td>0.000</td><td>0.000</td><td>0.257</td><td>0.225</td><td>0.000</td><td>0.000</td></tr>\n",
       "\t<tr><th scope=row>108</th><td>HSPC:GP1BB_DC:ITGB2  </td><td>0</td><td>0</td><td>0.352</td><td>0</td><td>0</td><td>0.269</td><td>0</td><td>0.412</td><td>0.468</td><td>0.608</td><td>0.530</td><td>0.495</td><td>0.428</td></tr>\n",
       "\t<tr><th scope=row>109</th><td>HSPC:GP1BB_Ery:ITGB2 </td><td>0</td><td>0</td><td>0.000</td><td>0</td><td>0</td><td>0.000</td><td>0</td><td>0.000</td><td>0.000</td><td>0.215</td><td>0.000</td><td>0.000</td><td>0.000</td></tr>\n",
       "\t<tr><th scope=row>110</th><td>HSPC:GP1BB_Gran:ITGB2</td><td>0</td><td>0</td><td>0.322</td><td>0</td><td>0</td><td>0.501</td><td>0</td><td>0.577</td><td>0.594</td><td>0.611</td><td>0.657</td><td>0.573</td><td>0.527</td></tr>\n",
       "\t<tr><th scope=row>111</th><td>HSPC:GP1BB_HSPC:ITGB2</td><td>0</td><td>0</td><td>0.153</td><td>0</td><td>0</td><td>0.160</td><td>0</td><td>0.187</td><td>0.250</td><td>0.277</td><td>0.215</td><td>0.253</td><td>0.258</td></tr>\n",
       "\t<tr><th scope=row>112</th><td>HSPC:GP1BB_Mono:ITGB2</td><td>0</td><td>0</td><td>0.382</td><td>0</td><td>0</td><td>0.491</td><td>0</td><td>0.604</td><td>0.582</td><td>0.632</td><td>0.695</td><td>0.560</td><td>0.505</td></tr>\n",
       "</tbody>\n",
       "</table>\n"
      ],
      "text/latex": [
       "A data.frame: 6 × 14\n",
       "\\begin{tabular}{r|llllllllllllll}\n",
       "  & interaction\\_ID & AML-0024 & AML-0160 & AML-0693 & AML-1371 & AML-2123 & AML-3133 & AML-4340 & healthy-1 & healthy-2 & healthy-3 & healthy-4 & healthy-4003 & healthy-5\\\\\n",
       "  & <chr> & <dbl> & <dbl> & <dbl> & <dbl> & <dbl> & <dbl> & <dbl> & <dbl> & <dbl> & <dbl> & <dbl> & <dbl> & <dbl>\\\\\n",
       "\\hline\n",
       "\t107 & HSPC:GP1BB\\_B:ITGB2    & 0 & 0 & 0.000 & 0 & 0 & 0.000 & 0 & 0.000 & 0.000 & 0.257 & 0.225 & 0.000 & 0.000\\\\\n",
       "\t108 & HSPC:GP1BB\\_DC:ITGB2   & 0 & 0 & 0.352 & 0 & 0 & 0.269 & 0 & 0.412 & 0.468 & 0.608 & 0.530 & 0.495 & 0.428\\\\\n",
       "\t109 & HSPC:GP1BB\\_Ery:ITGB2  & 0 & 0 & 0.000 & 0 & 0 & 0.000 & 0 & 0.000 & 0.000 & 0.215 & 0.000 & 0.000 & 0.000\\\\\n",
       "\t110 & HSPC:GP1BB\\_Gran:ITGB2 & 0 & 0 & 0.322 & 0 & 0 & 0.501 & 0 & 0.577 & 0.594 & 0.611 & 0.657 & 0.573 & 0.527\\\\\n",
       "\t111 & HSPC:GP1BB\\_HSPC:ITGB2 & 0 & 0 & 0.153 & 0 & 0 & 0.160 & 0 & 0.187 & 0.250 & 0.277 & 0.215 & 0.253 & 0.258\\\\\n",
       "\t112 & HSPC:GP1BB\\_Mono:ITGB2 & 0 & 0 & 0.382 & 0 & 0 & 0.491 & 0 & 0.604 & 0.582 & 0.632 & 0.695 & 0.560 & 0.505\\\\\n",
       "\\end{tabular}\n"
      ],
      "text/markdown": [
       "\n",
       "A data.frame: 6 × 14\n",
       "\n",
       "| <!--/--> | interaction_ID &lt;chr&gt; | AML-0024 &lt;dbl&gt; | AML-0160 &lt;dbl&gt; | AML-0693 &lt;dbl&gt; | AML-1371 &lt;dbl&gt; | AML-2123 &lt;dbl&gt; | AML-3133 &lt;dbl&gt; | AML-4340 &lt;dbl&gt; | healthy-1 &lt;dbl&gt; | healthy-2 &lt;dbl&gt; | healthy-3 &lt;dbl&gt; | healthy-4 &lt;dbl&gt; | healthy-4003 &lt;dbl&gt; | healthy-5 &lt;dbl&gt; |\n",
       "|---|---|---|---|---|---|---|---|---|---|---|---|---|---|---|\n",
       "| 107 | HSPC:GP1BB_B:ITGB2    | 0 | 0 | 0.000 | 0 | 0 | 0.000 | 0 | 0.000 | 0.000 | 0.257 | 0.225 | 0.000 | 0.000 |\n",
       "| 108 | HSPC:GP1BB_DC:ITGB2   | 0 | 0 | 0.352 | 0 | 0 | 0.269 | 0 | 0.412 | 0.468 | 0.608 | 0.530 | 0.495 | 0.428 |\n",
       "| 109 | HSPC:GP1BB_Ery:ITGB2  | 0 | 0 | 0.000 | 0 | 0 | 0.000 | 0 | 0.000 | 0.000 | 0.215 | 0.000 | 0.000 | 0.000 |\n",
       "| 110 | HSPC:GP1BB_Gran:ITGB2 | 0 | 0 | 0.322 | 0 | 0 | 0.501 | 0 | 0.577 | 0.594 | 0.611 | 0.657 | 0.573 | 0.527 |\n",
       "| 111 | HSPC:GP1BB_HSPC:ITGB2 | 0 | 0 | 0.153 | 0 | 0 | 0.160 | 0 | 0.187 | 0.250 | 0.277 | 0.215 | 0.253 | 0.258 |\n",
       "| 112 | HSPC:GP1BB_Mono:ITGB2 | 0 | 0 | 0.382 | 0 | 0 | 0.491 | 0 | 0.604 | 0.582 | 0.632 | 0.695 | 0.560 | 0.505 |\n",
       "\n"
      ],
      "text/plain": [
       "    interaction_ID        AML-0024 AML-0160 AML-0693 AML-1371 AML-2123 AML-3133\n",
       "107 HSPC:GP1BB_B:ITGB2    0        0        0.000    0        0        0.000   \n",
       "108 HSPC:GP1BB_DC:ITGB2   0        0        0.352    0        0        0.269   \n",
       "109 HSPC:GP1BB_Ery:ITGB2  0        0        0.000    0        0        0.000   \n",
       "110 HSPC:GP1BB_Gran:ITGB2 0        0        0.322    0        0        0.501   \n",
       "111 HSPC:GP1BB_HSPC:ITGB2 0        0        0.153    0        0        0.160   \n",
       "112 HSPC:GP1BB_Mono:ITGB2 0        0        0.382    0        0        0.491   \n",
       "    AML-4340 healthy-1 healthy-2 healthy-3 healthy-4 healthy-4003 healthy-5\n",
       "107 0        0.000     0.000     0.257     0.225     0.000        0.000    \n",
       "108 0        0.412     0.468     0.608     0.530     0.495        0.428    \n",
       "109 0        0.000     0.000     0.215     0.000     0.000        0.000    \n",
       "110 0        0.577     0.594     0.611     0.657     0.573        0.527    \n",
       "111 0        0.187     0.250     0.277     0.215     0.253        0.258    \n",
       "112 0        0.604     0.582     0.632     0.695     0.560        0.505    "
      ]
     },
     "metadata": {},
     "output_type": "display_data"
    }
   ],
   "source": [
    "head(multiplied_df)"
   ]
  },
  {
   "cell_type": "code",
   "execution_count": 296,
   "id": "bcedd899",
   "metadata": {},
   "outputs": [],
   "source": [
    "# drop the columns we do not need anymore\n",
    "drop <- c(\"mean_weigth_case\",\"mean_weight_control\", \"log2FC_weights\")\n",
    "df = df[,!(names(df) %in% drop)]"
   ]
  },
  {
   "cell_type": "markdown",
   "id": "cd340619-cc73-450b-8380-b4fd9daa105e",
   "metadata": {},
   "source": [
    "### fix directions for weights"
   ]
  },
  {
   "cell_type": "code",
   "execution_count": 297,
   "id": "79f83036-5d4d-425c-8c1a-727003c981a9",
   "metadata": {},
   "outputs": [],
   "source": [
    "strings <- matrix_result$interaction_ID\n",
    "\n",
    "# Initialize empty vectors for each column\n",
    "sender_celltype <- c()\n",
    "sender_gene <- c()\n",
    "receiver_celltype <- c()\n",
    "receiver_gene <- c()\n",
    "\n",
    "# Loop through each string and split it\n",
    "for (string in strings) {\n",
    "  parts <- strsplit(string, \"_\")\n",
    "  \n",
    "  # Split the sender part\n",
    "  sender_parts <- strsplit(parts[[1]][1], \":\")\n",
    "  sender_celltype <- c(sender_celltype, sender_parts[[1]][1])\n",
    "  sender_gene <- c(sender_gene, sender_parts[[1]][2])\n",
    "  \n",
    "  # Split the receiver part\n",
    "  receiver_parts <- strsplit(parts[[1]][2], \":\")\n",
    "  receiver_celltype <- c(receiver_celltype, receiver_parts[[1]][1])\n",
    "  receiver_gene <- c(receiver_gene, receiver_parts[[1]][2])\n",
    "}\n",
    "\n",
    "matrix_result$sender_celltype <- sender_celltype\n",
    "matrix_result$sender_gene <- sender_gene\n",
    "matrix_result$receiver_celltype <- receiver_celltype\n",
    "matrix_result$receiver_gene <- receiver_gene\n",
    "\n",
    "\n",
    "matrix_result[\"pair\"] <- paste0(matrix_result$sender_gene, \"_\", matrix_result$receiver_gene)\n",
    "matrix_result[\"dup\"] <- paste0(matrix_result$receiver_gene, \"_\", matrix_result$sender_gene)"
   ]
  },
  {
   "cell_type": "code",
   "execution_count": 298,
   "id": "130fb6b1-2e02-466e-8732-0c3ccede7639",
   "metadata": {},
   "outputs": [
    {
     "data": {
      "text/html": [
       "<table class=\"dataframe\">\n",
       "<caption>A tibble: 0 × 20</caption>\n",
       "<thead>\n",
       "\t<tr><th scope=col>interaction_ID</th><th scope=col>AML-0024</th><th scope=col>AML-0160</th><th scope=col>AML-0693</th><th scope=col>AML-1371</th><th scope=col>AML-2123</th><th scope=col>AML-3133</th><th scope=col>AML-4340</th><th scope=col>healthy-1</th><th scope=col>healthy-2</th><th scope=col>healthy-3</th><th scope=col>healthy-4</th><th scope=col>healthy-4003</th><th scope=col>healthy-5</th><th scope=col>sender_celltype</th><th scope=col>sender_gene</th><th scope=col>receiver_celltype</th><th scope=col>receiver_gene</th><th scope=col>pair</th><th scope=col>dup</th></tr>\n",
       "\t<tr><th scope=col>&lt;chr&gt;</th><th scope=col>&lt;int&gt;</th><th scope=col>&lt;int&gt;</th><th scope=col>&lt;int&gt;</th><th scope=col>&lt;int&gt;</th><th scope=col>&lt;int&gt;</th><th scope=col>&lt;int&gt;</th><th scope=col>&lt;int&gt;</th><th scope=col>&lt;int&gt;</th><th scope=col>&lt;int&gt;</th><th scope=col>&lt;int&gt;</th><th scope=col>&lt;int&gt;</th><th scope=col>&lt;int&gt;</th><th scope=col>&lt;int&gt;</th><th scope=col>&lt;chr&gt;</th><th scope=col>&lt;chr&gt;</th><th scope=col>&lt;chr&gt;</th><th scope=col>&lt;chr&gt;</th><th scope=col>&lt;chr&gt;</th><th scope=col>&lt;chr&gt;</th></tr>\n",
       "</thead>\n",
       "<tbody>\n",
       "</tbody>\n",
       "</table>\n"
      ],
      "text/latex": [
       "A tibble: 0 × 20\n",
       "\\begin{tabular}{llllllllllllllllllll}\n",
       " interaction\\_ID & AML-0024 & AML-0160 & AML-0693 & AML-1371 & AML-2123 & AML-3133 & AML-4340 & healthy-1 & healthy-2 & healthy-3 & healthy-4 & healthy-4003 & healthy-5 & sender\\_celltype & sender\\_gene & receiver\\_celltype & receiver\\_gene & pair & dup\\\\\n",
       " <chr> & <int> & <int> & <int> & <int> & <int> & <int> & <int> & <int> & <int> & <int> & <int> & <int> & <int> & <chr> & <chr> & <chr> & <chr> & <chr> & <chr>\\\\\n",
       "\\hline\n",
       "\\end{tabular}\n"
      ],
      "text/markdown": [
       "\n",
       "A tibble: 0 × 20\n",
       "\n",
       "| interaction_ID &lt;chr&gt; | AML-0024 &lt;int&gt; | AML-0160 &lt;int&gt; | AML-0693 &lt;int&gt; | AML-1371 &lt;int&gt; | AML-2123 &lt;int&gt; | AML-3133 &lt;int&gt; | AML-4340 &lt;int&gt; | healthy-1 &lt;int&gt; | healthy-2 &lt;int&gt; | healthy-3 &lt;int&gt; | healthy-4 &lt;int&gt; | healthy-4003 &lt;int&gt; | healthy-5 &lt;int&gt; | sender_celltype &lt;chr&gt; | sender_gene &lt;chr&gt; | receiver_celltype &lt;chr&gt; | receiver_gene &lt;chr&gt; | pair &lt;chr&gt; | dup &lt;chr&gt; |\n",
       "|---|---|---|---|---|---|---|---|---|---|---|---|---|---|---|---|---|---|---|---|\n",
       "\n"
      ],
      "text/plain": [
       "     interaction_ID AML-0024 AML-0160 AML-0693 AML-1371 AML-2123 AML-3133\n",
       "     AML-4340 healthy-1 healthy-2 healthy-3 healthy-4 healthy-4003 healthy-5\n",
       "     sender_celltype sender_gene receiver_celltype receiver_gene pair dup"
      ]
     },
     "metadata": {},
     "output_type": "display_data"
    }
   ],
   "source": [
    "# check if we have any duplicated swaps\n",
    "matrix_result[matrix_result$pair %in% matrix_result$dup,]"
   ]
  },
  {
   "cell_type": "code",
   "execution_count": 299,
   "id": "a2f8e546-93e5-447e-8255-98ad38a20b49",
   "metadata": {},
   "outputs": [
    {
     "data": {
      "text/html": [
       "TRUE"
      ],
      "text/latex": [
       "TRUE"
      ],
      "text/markdown": [
       "TRUE"
      ],
      "text/plain": [
       "[1] TRUE"
      ]
     },
     "metadata": {},
     "output_type": "display_data"
    }
   ],
   "source": [
    "# check if all the items that are not present in the original database exist as swapped pairs in \n",
    "#the original database.\n",
    "identical(matrix_result[!matrix_result$pair %in% LR_DB$Pair.Name,]$interaction_ID,matrix_result[matrix_result$dup %in% LR_DB$Pair.Name,]$interaction_ID)"
   ]
  },
  {
   "cell_type": "code",
   "execution_count": 300,
   "id": "f0f6fa56-9913-4b41-a481-422fee23dc46",
   "metadata": {},
   "outputs": [
    {
     "data": {
      "text/html": [
       "TRUE"
      ],
      "text/latex": [
       "TRUE"
      ],
      "text/markdown": [
       "TRUE"
      ],
      "text/plain": [
       "[1] TRUE"
      ]
     },
     "metadata": {},
     "output_type": "display_data"
    }
   ],
   "source": [
    "all(matrix_result[!matrix_result$pair %in% LR_DB$Pair.Name,]$dup %in%  LR_database$Pair.Name)"
   ]
  },
  {
   "cell_type": "code",
   "execution_count": 301,
   "id": "d053b54a-4da0-4dd1-b071-ba065df9d6a2",
   "metadata": {},
   "outputs": [
    {
     "data": {
      "text/html": [
       "2421"
      ],
      "text/latex": [
       "2421"
      ],
      "text/markdown": [
       "2421"
      ],
      "text/plain": [
       "[1] 2421"
      ]
     },
     "metadata": {},
     "output_type": "display_data"
    }
   ],
   "source": [
    "nrow(matrix_result)"
   ]
  },
  {
   "cell_type": "code",
   "execution_count": 302,
   "id": "c7c7547b-30b9-4edc-9df4-9edddae24f28",
   "metadata": {},
   "outputs": [
    {
     "data": {
      "text/html": [
       "2421"
      ],
      "text/latex": [
       "2421"
      ],
      "text/markdown": [
       "2421"
      ],
      "text/plain": [
       "[1] 2421"
      ]
     },
     "metadata": {},
     "output_type": "display_data"
    }
   ],
   "source": [
    "matrix_fix = matrix_result[!matrix_result$pair %in% LR_DB$Pair.Name,]\n",
    "\n",
    "matrix = matrix_result[matrix_result$pair %in% LR_DB$Pair.Name,]\n",
    "\n",
    "nrow(matrix_fix) + nrow(matrix)"
   ]
  },
  {
   "cell_type": "code",
   "execution_count": 303,
   "id": "2f093096-9a10-42da-af32-f0131c60f51d",
   "metadata": {},
   "outputs": [
    {
     "data": {
      "text/html": [
       "TRUE"
      ],
      "text/latex": [
       "TRUE"
      ],
      "text/markdown": [
       "TRUE"
      ],
      "text/plain": [
       "[1] TRUE"
      ]
     },
     "metadata": {},
     "output_type": "display_data"
    }
   ],
   "source": [
    "all(matrix_fix$dup %in% LR_DB$Pair.Name)"
   ]
  },
  {
   "cell_type": "code",
   "execution_count": null,
   "id": "045a4635-f2f3-4e53-afbb-4f5dc5e3a051",
   "metadata": {},
   "outputs": [],
   "source": []
  },
  {
   "cell_type": "code",
   "execution_count": 304,
   "id": "50b818f5-fb8e-4f75-9458-3e9c91783838",
   "metadata": {},
   "outputs": [],
   "source": [
    "matrix_fix <- matrix_fix %>%\n",
    "  mutate(\n",
    "    temp_sender_celltype = sender_celltype,\n",
    "    temp_sender_gene = sender_gene,\n",
    "    temp_receiver_celltype = receiver_celltype,\n",
    "    temp_receiver_gene = receiver_gene,\n",
    "      \n",
    "    sender_celltype = temp_receiver_celltype,\n",
    "    sender_gene = temp_receiver_gene,\n",
    "    receiver_celltype = temp_sender_celltype,\n",
    "    receiver_gene = temp_sender_gene\n",
    "  )\n",
    "\n",
    "matrix_fix[\"interaction_ID\"] <- paste0(matrix_fix$sender_celltype, \":\",matrix_fix$sender_gene , \"_\", matrix_fix$receiver_celltype, \":\", matrix_fix$receiver_gene)\n",
    "\n",
    "\n",
    "matrix_fix <- select(matrix_fix, -temp_sender_celltype, -temp_sender_gene, -temp_receiver_celltype, -temp_receiver_gene)\n",
    "\n",
    "fixed_weights <- rbind(matrix_fix,matrix)\n",
    "fixed_weights <- select(fixed_weights, -sender_celltype, -sender_gene, -receiver_celltype, -receiver_gene, -pair, -dup)"
   ]
  },
  {
   "cell_type": "code",
   "execution_count": null,
   "id": "cec5083b-b9b9-4459-ac65-9c5abec87e8b",
   "metadata": {},
   "outputs": [],
   "source": []
  },
  {
   "cell_type": "code",
   "execution_count": null,
   "id": "7578fb37-a625-448f-99a2-360159dca103",
   "metadata": {},
   "outputs": [],
   "source": []
  },
  {
   "cell_type": "code",
   "execution_count": 305,
   "id": "f2b99598-3737-4e5c-95f0-b5f6caf347a2",
   "metadata": {},
   "outputs": [],
   "source": [
    "cpdb_interactions <- list()"
   ]
  },
  {
   "cell_type": "code",
   "execution_count": 306,
   "id": "5f19f25a-be52-4b96-80ee-87786bfbc623",
   "metadata": {},
   "outputs": [],
   "source": [
    "cpdb_interactions$weights <- fixed_weights\n",
    "cpdb_interactions$anno_interactions <- df"
   ]
  },
  {
   "cell_type": "code",
   "execution_count": 307,
   "id": "16f028b9-2399-4cca-af69-4b3914faf084",
   "metadata": {},
   "outputs": [],
   "source": [
    "cpdb_interactions$anno_interactions$direction_lig <- NA\n",
    "cpdb_interactions$anno_interactions$direction_rec <- NA\n",
    "\n",
    "cpdb_interactions$anno_interactions$direction_lig[!is.na(cpdb_interactions$anno_interactions$ligand_log2FC) & (cpdb_interactions$anno_interactions$ligand_log2FC < 0)] <- \"down\"\n",
    "cpdb_interactions$anno_interactions$direction_lig[!is.na(cpdb_interactions$anno_interactions$ligand_log2FC) & (cpdb_interactions$anno_interactions$ligand_log2FC > 0)] <- \"up\"\n",
    "\n",
    "cpdb_interactions$anno_interactions$direction_rec[!is.na(cpdb_interactions$anno_interactions$receptor_log2FC) & (cpdb_interactions$anno_interactions$receptor_log2FC < 0)] <- \"down\"\n",
    "cpdb_interactions$anno_interactions$direction_rec[!is.na(cpdb_interactions$anno_interactions$receptor_log2FC) & (cpdb_interactions$anno_interactions$receptor_log2FC > 0)] <- \"up\"\n",
    "\n",
    "cpdb_interactions$anno_interactions$direction_lig_rec <- paste(cpdb_interactions$anno_interactions$direction_lig\n",
    "                                            ,cpdb_interactions$anno_interactions$direction_rec\n",
    "                                            ,sep = \"_\")\n",
    "\n",
    "idx_down <- (cpdb_interactions$anno_interactions$direction_lig_rec == \"down_NA\") | (\n",
    "    cpdb_interactions$anno_interactions$direction_lig_rec == \"NA_down\") | (\n",
    "    cpdb_interactions$anno_interactions$direction_lig_rec == \"down_down\")\n",
    "idx_up <- (cpdb_interactions$anno_interactions$direction_lig_rec == \"up_NA\") | (\n",
    "    cpdb_interactions$anno_interactions$direction_lig_rec == \"NA_up\") | (\n",
    "    cpdb_interactions$anno_interactions$direction_lig_rec == \"up_up\")\n",
    "\n",
    "cpdb_interactions$anno_interactions$direction <- NA\n",
    "cpdb_interactions$anno_interactions$direction[idx_down] <- \"down\"\n",
    "cpdb_interactions$anno_interactions$direction[idx_up] <- \"up\"\n",
    "cpdb_interactions$anno_interactions$direction[!(idx_down | idx_up)] <- \"ambigous\""
   ]
  },
  {
   "cell_type": "code",
   "execution_count": 308,
   "id": "dbf4f023-1c18-4c1e-a086-aa5c0cbd40f8",
   "metadata": {},
   "outputs": [
    {
     "data": {
      "text/html": [
       "TRUE"
      ],
      "text/latex": [
       "TRUE"
      ],
      "text/markdown": [
       "TRUE"
      ],
      "text/plain": [
       "[1] TRUE"
      ]
     },
     "metadata": {},
     "output_type": "display_data"
    }
   ],
   "source": [
    "all(cpdb_interactions$anno_interactions$interaction_ID %in% cpdb_interactions$weights$interaction_ID)"
   ]
  },
  {
   "cell_type": "code",
   "execution_count": null,
   "id": "de1ae566-354f-4444-b47e-e58817d9a539",
   "metadata": {},
   "outputs": [],
   "source": []
  },
  {
   "cell_type": "code",
   "execution_count": 309,
   "id": "87e56efe-3ed8-4403-b15a-fe3fa6e42cbd",
   "metadata": {},
   "outputs": [],
   "source": [
    "save(cpdb_interactions, file=\"outs/cpdb_interactions.RData\")"
   ]
  },
  {
   "cell_type": "code",
   "execution_count": 310,
   "id": "365620bc",
   "metadata": {},
   "outputs": [],
   "source": [
    "write.csv(multiplied_df, paste0(output_dir,\"CPDB_significant_weights.csv\"))"
   ]
  },
  {
   "cell_type": "code",
   "execution_count": 311,
   "id": "535f7244",
   "metadata": {},
   "outputs": [],
   "source": [
    "write.csv(df, paste0(output_dir,\"CPDB_anno_interactions.csv\"))"
   ]
  },
  {
   "cell_type": "code",
   "execution_count": 312,
   "id": "7eb5a527",
   "metadata": {},
   "outputs": [],
   "source": [
    "# write.csv(matrix_result, paste0(final_out,\"CPDB_weights.csv\"))"
   ]
  },
  {
   "cell_type": "code",
   "execution_count": 313,
   "id": "7ff88f81-697d-4094-a7fe-2740c379df76",
   "metadata": {},
   "outputs": [],
   "source": [
    "# cpdb_interactions$anno_interactions[cpdb_interactions$anno_interactions$sender_gene==\"CCL4L1\",]"
   ]
  },
  {
   "cell_type": "code",
   "execution_count": null,
   "id": "8efdc105-c8cf-4246-87ac-3c040b02f249",
   "metadata": {},
   "outputs": [],
   "source": []
  },
  {
   "cell_type": "code",
   "execution_count": null,
   "id": "f497c623-6bf8-4ac9-8ad7-41f71152ba37",
   "metadata": {},
   "outputs": [],
   "source": []
  }
 ],
 "metadata": {
  "kernelspec": {
   "display_name": "R",
   "language": "R",
   "name": "ir"
  },
  "language_info": {
   "codemirror_mode": "r",
   "file_extension": ".r",
   "mimetype": "text/x-r-source",
   "name": "R",
   "pygments_lexer": "r",
   "version": "4.1.2"
  }
 },
 "nbformat": 4,
 "nbformat_minor": 5
}
