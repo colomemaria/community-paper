{
 "cells": [
  {
   "cell_type": "markdown",
   "id": "11c3ecf7",
   "metadata": {},
   "source": [
    "# Description"
   ]
  },
  {
   "cell_type": "code",
   "execution_count": 1,
   "id": "7b9e6890",
   "metadata": {},
   "outputs": [
    {
     "name": "stderr",
     "output_type": "stream",
     "text": [
      "Attaching SeuratObject\n",
      "\n",
      "── \u001b[1mAttaching core tidyverse packages\u001b[22m ──────────────────────────────────────────────────────────────────────────────────────────────────────────────────────────────────────────────────── tidyverse 2.0.0 ──\n",
      "\u001b[32m✔\u001b[39m \u001b[34mdplyr    \u001b[39m 1.1.4     \u001b[32m✔\u001b[39m \u001b[34mreadr    \u001b[39m 2.1.5\n",
      "\u001b[32m✔\u001b[39m \u001b[34mforcats  \u001b[39m 1.0.0     \u001b[32m✔\u001b[39m \u001b[34mstringr  \u001b[39m 1.5.1\n",
      "\u001b[32m✔\u001b[39m \u001b[34mggplot2  \u001b[39m 3.4.4     \u001b[32m✔\u001b[39m \u001b[34mtibble   \u001b[39m 3.2.1\n",
      "\u001b[32m✔\u001b[39m \u001b[34mlubridate\u001b[39m 1.9.3     \u001b[32m✔\u001b[39m \u001b[34mtidyr    \u001b[39m 1.3.0\n",
      "\u001b[32m✔\u001b[39m \u001b[34mpurrr    \u001b[39m 1.0.2     \n",
      "── \u001b[1mConflicts\u001b[22m ────────────────────────────────────────────────────────────────────────────────────────────────────────────────────────────────────────────────────────────────────── tidyverse_conflicts() ──\n",
      "\u001b[31m✖\u001b[39m \u001b[34mdplyr\u001b[39m::\u001b[32mfilter()\u001b[39m masks \u001b[34mstats\u001b[39m::filter()\n",
      "\u001b[31m✖\u001b[39m \u001b[34mdplyr\u001b[39m::\u001b[32mlag()\u001b[39m    masks \u001b[34mstats\u001b[39m::lag()\n",
      "\u001b[36mℹ\u001b[39m Use the conflicted package (\u001b[3m\u001b[34m<http://conflicted.r-lib.org/>\u001b[39m\u001b[23m) to force all conflicts to become errors\n",
      "\n",
      "Attaching package: ‘igraph’\n",
      "\n",
      "\n",
      "The following objects are masked from ‘package:lubridate’:\n",
      "\n",
      "    %--%, union\n",
      "\n",
      "\n",
      "The following objects are masked from ‘package:dplyr’:\n",
      "\n",
      "    as_data_frame, groups, union\n",
      "\n",
      "\n",
      "The following objects are masked from ‘package:purrr’:\n",
      "\n",
      "    compose, simplify\n",
      "\n",
      "\n",
      "The following object is masked from ‘package:tidyr’:\n",
      "\n",
      "    crossing\n",
      "\n",
      "\n",
      "The following object is masked from ‘package:tibble’:\n",
      "\n",
      "    as_data_frame\n",
      "\n",
      "\n",
      "The following objects are masked from ‘package:stats’:\n",
      "\n",
      "    decompose, spectrum\n",
      "\n",
      "\n",
      "The following object is masked from ‘package:base’:\n",
      "\n",
      "    union\n",
      "\n",
      "\n",
      "Loading required package: circlize\n",
      "\n",
      "========================================\n",
      "circlize version 0.4.15\n",
      "CRAN page: https://cran.r-project.org/package=circlize\n",
      "Github page: https://github.com/jokergoo/circlize\n",
      "Documentation: https://jokergoo.github.io/circlize_book/book/\n",
      "\n",
      "If you use it in published research, please cite:\n",
      "Gu, Z. circlize implements and enhances circular visualization\n",
      "  in R. Bioinformatics 2014.\n",
      "\n",
      "This message can be suppressed by:\n",
      "  suppressPackageStartupMessages(library(circlize))\n",
      "========================================\n",
      "\n",
      "\n",
      "\n",
      "Attaching package: ‘circlize’\n",
      "\n",
      "\n",
      "The following object is masked from ‘package:igraph’:\n",
      "\n",
      "    degree\n",
      "\n",
      "\n",
      "Loading required package: R.oo\n",
      "\n",
      "Loading required package: R.methodsS3\n",
      "\n",
      "R.methodsS3 v1.8.2 (2022-06-13 22:00:14 UTC) successfully loaded. See ?R.methodsS3 for help.\n",
      "\n",
      "R.oo v1.25.0 (2022-06-12 02:20:02 UTC) successfully loaded. See ?R.oo for help.\n",
      "\n",
      "\n",
      "Attaching package: ‘R.oo’\n",
      "\n",
      "\n",
      "The following object is masked from ‘package:R.methodsS3’:\n",
      "\n",
      "    throw\n",
      "\n",
      "\n",
      "The following object is masked from ‘package:igraph’:\n",
      "\n",
      "    hierarchy\n",
      "\n",
      "\n",
      "The following objects are masked from ‘package:methods’:\n",
      "\n",
      "    getClasses, getMethods\n",
      "\n",
      "\n",
      "The following objects are masked from ‘package:base’:\n",
      "\n",
      "    attach, detach, load, save\n",
      "\n",
      "\n",
      "R.utils v2.12.3 (2023-11-18 01:00:02 UTC) successfully loaded. See ?R.utils for help.\n",
      "\n",
      "\n",
      "Attaching package: ‘R.utils’\n",
      "\n",
      "\n",
      "The following object is masked from ‘package:tidyr’:\n",
      "\n",
      "    extract\n",
      "\n",
      "\n",
      "The following object is masked from ‘package:utils’:\n",
      "\n",
      "    timestamp\n",
      "\n",
      "\n",
      "The following objects are masked from ‘package:base’:\n",
      "\n",
      "    cat, commandArgs, getOption, isOpen, nullfile, parse, warnings\n",
      "\n",
      "\n",
      "\n",
      "Attaching package: ‘data.table’\n",
      "\n",
      "\n",
      "The following objects are masked from ‘package:lubridate’:\n",
      "\n",
      "    hour, isoweek, mday, minute, month, quarter, second, wday, week,\n",
      "    yday, year\n",
      "\n",
      "\n",
      "The following objects are masked from ‘package:dplyr’:\n",
      "\n",
      "    between, first, last\n",
      "\n",
      "\n",
      "The following object is masked from ‘package:purrr’:\n",
      "\n",
      "    transpose\n",
      "\n",
      "\n"
     ]
    }
   ],
   "source": [
    "# libraries\n",
    "library(Seurat)\n",
    "library(tidyverse)\n",
    "library(igraph)\n",
    "require(circlize)\n",
    "library(R.utils)\n",
    "library(data.table) #to read gz file"
   ]
  },
  {
   "cell_type": "code",
   "execution_count": 2,
   "id": "8d74d910-268b-43ab-9eaf-22b18d87259f",
   "metadata": {},
   "outputs": [
    {
     "data": {
      "text/plain": [
       "R version 4.3.2 (2023-10-31)\n",
       "Platform: x86_64-conda-linux-gnu (64-bit)\n",
       "Running under: CentOS Linux 7 (Core)\n",
       "\n",
       "Matrix products: default\n",
       "BLAS/LAPACK: /work/project/ladcol_011/conda_path/miniconda3/envs/community_paper/lib/libopenblasp-r0.3.25.so;  LAPACK version 3.11.0\n",
       "\n",
       "locale:\n",
       " [1] LC_CTYPE=en_US.UTF-8       LC_NUMERIC=C              \n",
       " [3] LC_TIME=de_DE.UTF-8        LC_COLLATE=en_US.UTF-8    \n",
       " [5] LC_MONETARY=de_DE.UTF-8    LC_MESSAGES=en_US.UTF-8   \n",
       " [7] LC_PAPER=de_DE.UTF-8       LC_NAME=C                 \n",
       " [9] LC_ADDRESS=C               LC_TELEPHONE=C            \n",
       "[11] LC_MEASUREMENT=de_DE.UTF-8 LC_IDENTIFICATION=C       \n",
       "\n",
       "time zone: Europe/Berlin\n",
       "tzcode source: system (glibc)\n",
       "\n",
       "attached base packages:\n",
       "[1] stats     graphics  grDevices utils     datasets  methods   base     \n",
       "\n",
       "other attached packages:\n",
       " [1] data.table_1.14.10 R.utils_2.12.3     R.oo_1.25.0        R.methodsS3_1.8.2 \n",
       " [5] circlize_0.4.15    igraph_1.6.0       lubridate_1.9.3    forcats_1.0.0     \n",
       " [9] stringr_1.5.1      dplyr_1.1.4        purrr_1.0.2        readr_2.1.5       \n",
       "[13] tidyr_1.3.0        tibble_3.2.1       ggplot2_3.4.4      tidyverse_2.0.0   \n",
       "[17] SeuratObject_4.1.3 Seurat_4.3.0      \n",
       "\n",
       "loaded via a namespace (and not attached):\n",
       "  [1] RColorBrewer_1.1-3     shape_1.4.6            jsonlite_1.8.8        \n",
       "  [4] magrittr_2.0.3         spatstat.utils_3.0-4   GlobalOptions_0.1.2   \n",
       "  [7] vctrs_0.6.5            ROCR_1.0-11            spatstat.explore_3.2-5\n",
       " [10] base64enc_0.1-3        htmltools_0.5.7        sctransform_0.4.1     \n",
       " [13] parallelly_1.36.0      KernSmooth_2.23-22     htmlwidgets_1.6.4     \n",
       " [16] ica_1.0-3              plyr_1.8.9             plotly_4.10.4         \n",
       " [19] zoo_1.8-12             uuid_1.2-0             mime_0.12             \n",
       " [22] lifecycle_1.0.4        pkgconfig_2.0.3        Matrix_1.6-5          \n",
       " [25] R6_2.5.1               fastmap_1.1.1          fitdistrplus_1.1-11   \n",
       " [28] future_1.33.1          shiny_1.8.0            digest_0.6.34         \n",
       " [31] colorspace_2.1-0       patchwork_1.2.0        tensor_1.5            \n",
       " [34] irlba_2.3.5.1          progressr_0.14.0       fansi_1.0.6           \n",
       " [37] spatstat.sparse_3.0-3  timechange_0.3.0       httr_1.4.7            \n",
       " [40] polyclip_1.10-6        abind_1.4-5            compiler_4.3.2        \n",
       " [43] withr_3.0.0            MASS_7.3-60            tools_4.3.2           \n",
       " [46] lmtest_0.9-40          httpuv_1.6.13          future.apply_1.11.1   \n",
       " [49] goftest_1.2-3          glue_1.7.0             nlme_3.1-164          \n",
       " [52] promises_1.2.1         grid_4.3.2             pbdZMQ_0.3-11         \n",
       " [55] Rtsne_0.17             cluster_2.1.6          reshape2_1.4.4        \n",
       " [58] generics_0.1.3         gtable_0.3.4           spatstat.data_3.0-4   \n",
       " [61] tzdb_0.4.0             hms_1.1.3              sp_2.1-2              \n",
       " [64] utf8_1.2.4             spatstat.geom_3.2-7    RcppAnnoy_0.0.21      \n",
       " [67] ggrepel_0.9.5          RANN_2.6.1             pillar_1.9.0          \n",
       " [70] spam_2.10-0            IRdisplay_1.1          later_1.3.2           \n",
       " [73] splines_4.3.2          lattice_0.22-5         survival_3.5-7        \n",
       " [76] deldir_2.0-2           tidyselect_1.2.0       miniUI_0.1.1.1        \n",
       " [79] pbapply_1.7-2          gridExtra_2.3          scattermore_1.2       \n",
       " [82] matrixStats_1.2.0      stringi_1.8.3          lazyeval_0.2.2        \n",
       " [85] evaluate_0.23          codetools_0.2-19       cli_3.6.2             \n",
       " [88] uwot_0.1.16            IRkernel_1.3.2         xtable_1.8-4          \n",
       " [91] reticulate_1.34.0      repr_1.1.6             munsell_0.5.0         \n",
       " [94] Rcpp_1.0.12            globals_0.16.2         spatstat.random_3.2-2 \n",
       " [97] png_0.1-8              parallel_4.3.2         ellipsis_0.3.2        \n",
       "[100] dotCall64_1.1-1        listenv_0.9.0          viridisLite_0.4.2     \n",
       "[103] scales_1.3.0           ggridges_0.5.5         leiden_0.4.3.1        \n",
       "[106] crayon_1.5.2           rlang_1.1.3            cowplot_1.1.2         "
      ]
     },
     "metadata": {},
     "output_type": "display_data"
    }
   ],
   "source": [
    "sessionInfo()"
   ]
  },
  {
   "cell_type": "markdown",
   "id": "982b08f5",
   "metadata": {},
   "source": [
    "### Read in the expression data of interacting cells:\n",
    "The dataset used here is publicly available single-cell data from [Lasry, et al. 2022.](https://www.nature.com/articles/s43018-022-00480-0) The data was processed, filtered and normalized."
   ]
  },
  {
   "cell_type": "code",
   "execution_count": 4,
   "id": "7092174a",
   "metadata": {},
   "outputs": [],
   "source": [
    "input_dir <- \"../../../../../data_preprocessing/Lasry/2.filtering/outs/\"\n",
    "output_dir <- \"outs/\""
   ]
  },
  {
   "cell_type": "code",
   "execution_count": null,
   "id": "3b4d07a4",
   "metadata": {},
   "outputs": [],
   "source": []
  },
  {
   "cell_type": "code",
   "execution_count": 4,
   "id": "3d3b55a6",
   "metadata": {},
   "outputs": [
    {
     "name": "stdout",
     "output_type": "stream",
     "text": [
      "'data.frame':\t15770 obs. of  46702 variables:\n",
      " $ X2020.09.15.AML0024.CATCAAGGTTAGCGGA           : num  0 0 0 0 0 0 0 0 0 0 ...\n",
      " $ X2020.09.15.AML0024.CATCAAGTCCGAGAAG           : num  0 0 0 0 0 0 0 0 0 0 ...\n",
      " $ X2020.09.15.AML0024.CATCCACAGGGACCAT           : num  0 0 0 0 0 ...\n",
      " $ X2020.09.15.AML0024.CCTCAACAGAGCAAGA           : num  0 0 0 0 0 0 0 0 0 0 ...\n",
      " $ X2020.09.15.AML0024.CCTCAACAGTTCCATG           : num  0 0.993 0 0 0 ...\n",
      " $ X2020.09.15.AML0024.CCTCAACGTAGAATAC           : num  0 0 0 0 0 0 0 0 0 0 ...\n",
      " $ X2020.09.15.AML0024.CCTCAACGTTCTCCCA           : num  0 0 0 0 0 0 0 0 0 0 ...\n",
      " $ X2020.09.15.AML0024.CCTCAACTCCGAACGC           : num  0 0 0 0 0 ...\n",
      " $ X2020.09.15.AML0024.CCTCAACTCTAGTCAG           : num  0 0 0 0 0 0 0 0 0 0 ...\n",
      " $ X2020.09.15.AML0024.CCTCACAAGACAGTCG           : num  0 0 0 0 0 0 0 0 0 0 ...\n",
      " $ X2020.09.15.AML0024.CCTCACACAATTGCCA           : num  0 0 0 0 0 0 0 0 0 0 ...\n",
      " $ X2020.09.15.AML0024.CCTCACACAGAACTAA           : num  0 0 0 0 0 0 0 0 0 0 ...\n",
      " $ X2020.09.15.AML0024.CCTCACACAGCTGAAG           : num  0 0 0 0 0 0 0 0 0 0 ...\n",
      " $ X2020.09.15.AML0024.CCTCACAGTAATCAGA           : num  0 0 0 0 0 ...\n",
      " $ X2020.09.15.AML0024.CCTCACAGTACTCCGG           : num  0 0 0 0 0 0 0 0 0 0 ...\n",
      " $ X2020.09.15.AML0024.CCTCAACAGAACGCGT           : num  0 0 1.08 0 0 ...\n",
      " $ X2020.09.15.AML0024.CATACTTAGGCGTTAG           : num  0 0 0 0 0 0 0 0 0 0 ...\n",
      " $ X2020.09.15.AML0024.CATACTTAGTTGCATC           : num  0 0 0 0 0 ...\n",
      " $ X2020.09.15.AML0024.CATACTTCAACTTGGT           : num  0 0 0 0 0 0 0 0 0 0 ...\n",
      " $ X2020.09.15.AML0024.CATACTTTCCTTGACC           : num  0 0 0 0 0 0 0 0 0 0 ...\n",
      " $ X2020.09.15.AML0024.CATAGACAGCACTAAA           : num  0 0 0 0 0 0 0 0 0 0 ...\n",
      " $ X2020.09.15.AML0024.CATAGACAGGATCACG           : num  0 0 0 0 0 0 0 0 0 0 ...\n",
      " $ X2020.09.15.AML0024.CATAGACAGGGAGTGG           : num  0 0 0 0 0 0 0 0 0 0 ...\n",
      " $ X2020.09.15.AML0024.CATAGACCACACAGCC           : num  0 0 0 0 0 ...\n",
      " $ X2020.09.15.AML0024.CATAGACTCCATTGGA           : num  0 0 0 0 0 0 0 0 0 0 ...\n",
      " $ X2020.09.15.AML0024.CATCAAGAGAGTTCGG           : num  0 0 0 0 0 0 0 0 0 0 ...\n",
      " $ X2020.09.15.AML0024.CATCAAGAGAGTTGCG           : num  0 0 0 0 0 0 0 0 0 0 ...\n",
      " $ X2020.09.15.AML0024.CCTAAGATCGAGAGCA           : num  0 0 0 0 0 0 0 0 0 0 ...\n",
      " $ X2020.09.15.AML0024.CCTACGTAGCCGTAAG           : num  0 0 0 0 0 0 0 0 0 0 ...\n",
      " $ X2020.09.15.AML0024.CCTACGTCATCCTTCG           : num  0 0 0 0 0.572 ...\n",
      " $ X2020.09.15.AML0024.CCTACGTGTATTTCTC           : num  0 0 0 0 0 0 0 0 0 0 ...\n",
      " $ X2020.09.15.AML0024.CCTACGTGTCTCAGAT           : num  0 0 0 0 0 ...\n",
      " $ X2020.09.15.AML0024.CCTACGTTCCACAAGT           : num  0 0 0 0 0 0 0 0 0 0 ...\n",
      " $ X2020.09.15.AML0024.CCTATCGAGAATCCCT           : num  0 0 0 0 0 0 0 0 0 0 ...\n",
      " $ X2020.09.15.AML0024.CCTATCGAGGAGACCT           : num  0 0 0 0 0 0 0 0 0 0 ...\n",
      " $ X2020.09.15.AML0024.CCTATCGAGTCGAGGT           : num  0 0 0 0 0 0 0 0 0 0 ...\n",
      " $ X2020.09.15.AML0024.CCTATCGCAGAACGCA           : num  0 0 0 0 0 ...\n",
      " $ X2020.09.15.AML0024.CCTATCGCAGCTCGGT           : num  0 0 0 0 0 0 0 0 0 0 ...\n",
      " $ X2020.09.15.AML0024.CCTATCGGTAAGTTGA           : num  0 0 0 0 0 0 0 0 0 0 ...\n",
      " $ X2020.09.15.AML0024.CCTATCGGTCAGTCCG           : num  0 0 0 0 0 0 0 0 0 0 ...\n",
      " $ X2020.09.15.AML0024.CCTATCGTCCGTGTAA           : num  0 0 0 0 0 0 0 0 0 0 ...\n",
      " $ X2020.09.15.AML0024.CCTATCGTCGTAGCCG           : num  0 0 0 0 0 0 0 0 0 0 ...\n",
      " $ X2020.09.15.AML0024.CCTATCGTCTACCACC           : num  0 0 0.634 0 0 ...\n",
      " $ X2020.09.15.AML0024.AAACCCACAACATACC           : num  0 0 0 0 0 0 0 0 0 0 ...\n",
      " $ X2020.09.15.AML0024.AAACCCAGTACAACGG           : num  0 0 0 0 0 0 0 0 0 0 ...\n",
      " $ X2020.09.15.AML0024.AAACCCAGTTGTAGCT           : num  0 0 0 0 0 0 0 0 0 0 ...\n",
      " $ X2020.09.15.AML0024.AAACCCATCATCTGTT           : num  0 0 0 0 0 ...\n",
      " $ X2020.09.15.AML0024.AAACCCATCTCAGAAC           : num  0 0 0 0 0 ...\n",
      " $ X2020.09.15.AML0024.AAACGAACAAGTTCGT           : num  0 0 0 0 0 0 0 0 0 0 ...\n",
      " $ X2020.09.15.AML0024.AAACGAACAGCAGTTT           : num  0 0 0 0 0 0 0 0 0 0 ...\n",
      " $ X2020.09.15.AML0024.AAACGAAGTAACAGTA           : num  0 0 0 0 0 0 0 0 0 0 ...\n",
      " $ X2020.09.15.AML0024.AAACGAATCTTTGGAG           : num  0 0 0 0 0 0 0 0 0 0 ...\n",
      " $ X2020.09.15.AML0024.AAACGCTAGATTAGTG           : num  0 0 0 0 0 0 0 0 0 0 ...\n",
      " $ X2020.09.15.AML0024.AAACGCTAGCGAATGC           : num  0 0 0 0 0 0 0 0 0 0 ...\n",
      " $ X2020.09.15.AML0024.AAACGCTAGTTCCTGA           : num  0 0 0 0 0 ...\n",
      " $ X2020.09.15.AML0024.AAACGCTGTCTACAAC           : num  0 0 0 0 0 0 0 0 0 0 ...\n",
      " $ X2020.09.15.AML0024.AAAGAACAGCACCCAC           : num  0 0 0 0 0 0 0 0 0 0 ...\n",
      " $ X2020.09.15.AML0024.AAAGAACAGCGGACAT           : num  0 0 0 0 0 0 0 0 0 0 ...\n",
      " $ X2020.09.15.AML0024.AAAGAACAGCTGACTT           : num  0 0 0 0.909 0 ...\n",
      " $ X2020.09.15.AML0024.AAAGAACAGGGCTTCC           : num  0 0 0 0 0 ...\n",
      " $ X2020.09.15.AML0024.AAAGAACAGTAAGCAT           : num  0 0 0 0 0 0 0 0 0 0 ...\n",
      " $ X2020.09.15.AML0024.AAAGAACCAACAAAGT           : num  0 0 0 0 0 0 0 0 0 0 ...\n",
      " $ X2020.09.15.AML0024.AAAGAACGTACTCGCG           : num  0 0 0 0 0 ...\n",
      " $ X2020.09.15.AML0024.AAAGAACGTCATCGCG           : num  0 1.22 0 0 0 ...\n",
      " $ X2020.09.15.AML0024.AAAGAACGTGCATACT           : num  0 0 0 0 0 ...\n",
      " $ X2020.09.15.AML0024.AAAGAACGTTTCCAAG           : num  0 0 0 0 0 ...\n",
      " $ X2020.09.15.AML0024.AAAGAACTCCAAATGC           : num  0 0 0 0 0 0 0 0 0 0 ...\n",
      " $ X2020.09.15.AML0024.AAAGAACTCTGGGTCG           : num  0 0 0 0 0 0 0 0 0 0 ...\n",
      " $ X2020.09.15.AML0024.AAAGGATAGCCAGACA           : num  0 0 0 0 0 ...\n",
      " $ X2020.09.15.AML0024.AAAGGATAGCTAGCCC           : num  0 0 0 0 0 ...\n",
      " $ X2020.09.15.AML0024.AAAGGATAGGCTGGAT           : num  0 0 0 0 0 ...\n",
      " $ X2020.09.15.AML0024.AAAGGATAGTTGGCTT           : num  0 0.708 0 0 0 ...\n",
      " $ X2020.09.15.AML0024.AAAGGATCAGACCCGT           : num  0 0 0 0 0 0 0 0 0 0 ...\n",
      " $ X2020.09.15.AML0024.AAAGGATCATCGCTGG           : num  0 0 0 0 0 0 0 0 0 0 ...\n",
      " $ X2020.09.15.AML0024.AAAGGATCATTGGGAG           : num  0 0 0 0 0 0 0 0 0 0 ...\n",
      " $ X2020.09.15.AML0024.AAAGGATTCCCATACC           : num  0 0 0 0 0 ...\n",
      " $ X2020.09.15.AML0024.AAAGGGCCAATTAGGA           : num  0 0 0 0 0 ...\n",
      " $ X2020.09.15.AML0024.AAAGGGCGTGGTCTCG           : num  0 0 0 0 0 0 0 0 0 0 ...\n",
      " $ X2020.09.15.AML0024.AAAGGGCGTTGGGCCT           : num  0 0 0 0 0 0 0 0 0 0 ...\n",
      " $ X2020.09.15.AML0024.AAAGGGCTCATGCCCT           : num  0 0 0 0 0 0 0 0 0 0 ...\n",
      " $ X2020.09.15.AML0024.AAAGGTAAGGACTGGT           : num  0 0 0 0 0 0 0 0 0 0 ...\n",
      " $ X2020.09.15.AML0024.AAAGGTAAGGGAGGTG           : num  0 0 0 0 0 0 0 0 0 0 ...\n",
      " $ X2020.09.15.AML0024.AAAGGTACATCTCAAG           : num  0 0 0 0 0 0 0 0 0 0 ...\n",
      " $ X2020.09.15.AML0024.AAAGGTATCCTAAGTG           : num  0 0 0 0 0 0 0 0 0 0 ...\n",
      " $ X2020.09.15.AML0024.AAAGGTATCTCAGAAC           : num  0 0 0 0 0 0 0 0 0 0 ...\n",
      " $ X2020.09.15.AML0024.AAAGGTATCTGATTCT           : num  0 0 0 0 0 ...\n",
      " $ X2020.09.15.AML0024.AAAGTCCCACCAGTTA           : num  0 0 0 0 0 0 0 0 0 0 ...\n",
      " $ X2020.09.15.AML0024.AAAGTCCCAGAACGCA           : num  0 0 0 0 0 0 0 0 0 0 ...\n",
      " $ X2020.09.15.AML0024.AAAGTGAAGATCCGAG           : num  0 0 0 0 0 0 0 0 0 0 ...\n",
      " $ X2020.09.15.AML0024.AAAGTGAAGCGTGTCC           : num  0 0 0 0 0 0 0 0 0 0 ...\n",
      " $ X2020.09.15.AML0024.AAAGTGAAGGTGGTTG           : num  0 0 0 0 0 0 0 0 0 0 ...\n",
      " $ X2020.09.15.AML0024.AAAGTGAAGTCAGGGT           : num  0 0 0 0 0 0 0 0 0 0 ...\n",
      " $ X2020.09.15.AML0024.AAAGTGAAGTGAATAC           : num  0 0 0.819 0 0 ...\n",
      " $ X2020.09.15.AML0024.AAAGTGACAACCGCCA           : num  0 0 0 0 0 0 0 0 0 0 ...\n",
      " $ X2020.09.15.AML0024.AAAGTGAGTCAACCTA           : num  0 0 0 0 0 ...\n",
      " $ X2020.09.15.AML0024.AAAGTGAGTCGTTGCG           : num  0 0 0 0 0 0 0 0 0 0 ...\n",
      " $ X2020.09.15.AML0024.AAAGTGAGTTACACAC           : num  0 0 0 0 0 0 0 0 0 0 ...\n",
      " $ X2020.09.15.AML0024.AAAGTGATCATTCGTT           : num  0 0 0 0 0 0 0 0 0 0 ...\n",
      " $ X2020.09.15.AML0024.AAATGGAAGCTGTGCC           : num  0 0 0 0 0 0 0 0 0 0 ...\n",
      "  [list output truncated]\n"
     ]
    },
    {
     "data": {
      "text/plain": [
       "NULL"
      ]
     },
     "metadata": {},
     "output_type": "display_data"
    },
    {
     "name": "stdout",
     "output_type": "stream",
     "text": [
      "'data.frame':\t15770 obs. of  46702 variables:\n",
      " $ X2020.09.15.AML0024.CATCAAGGTTAGCGGA           : num  0 0 0 0 0 0 0 0 0 0 ...\n",
      " $ X2020.09.15.AML0024.CATCAAGTCCGAGAAG           : num  0 0 0 0 0 0 0 0 0 0 ...\n",
      " $ X2020.09.15.AML0024.CATCCACAGGGACCAT           : num  0 0 0 0 0 ...\n",
      " $ X2020.09.15.AML0024.CCTCAACAGAGCAAGA           : num  0 0 0 0 0 0 0 0 0 0 ...\n",
      " $ X2020.09.15.AML0024.CCTCAACAGTTCCATG           : num  0 0.993 0 0 0 ...\n",
      " $ X2020.09.15.AML0024.CCTCAACGTAGAATAC           : num  0 0 0 0 0 0 0 0 0 0 ...\n",
      " $ X2020.09.15.AML0024.CCTCAACGTTCTCCCA           : num  0 0 0 0 0 0 0 0 0 0 ...\n",
      " $ X2020.09.15.AML0024.CCTCAACTCCGAACGC           : num  0 0 0 0 0 ...\n",
      " $ X2020.09.15.AML0024.CCTCAACTCTAGTCAG           : num  0 0 0 0 0 0 0 0 0 0 ...\n",
      " $ X2020.09.15.AML0024.CCTCACAAGACAGTCG           : num  0 0 0 0 0 0 0 0 0 0 ...\n",
      " $ X2020.09.15.AML0024.CCTCACACAATTGCCA           : num  0 0 0 0 0 0 0 0 0 0 ...\n",
      " $ X2020.09.15.AML0024.CCTCACACAGAACTAA           : num  0 0 0 0 0 0 0 0 0 0 ...\n",
      " $ X2020.09.15.AML0024.CCTCACACAGCTGAAG           : num  0 0 0 0 0 0 0 0 0 0 ...\n",
      " $ X2020.09.15.AML0024.CCTCACAGTAATCAGA           : num  0 0 0 0 0 ...\n",
      " $ X2020.09.15.AML0024.CCTCACAGTACTCCGG           : num  0 0 0 0 0 0 0 0 0 0 ...\n",
      " $ X2020.09.15.AML0024.CCTCAACAGAACGCGT           : num  0 0 1.08 0 0 ...\n",
      " $ X2020.09.15.AML0024.CATACTTAGGCGTTAG           : num  0 0 0 0 0 0 0 0 0 0 ...\n",
      " $ X2020.09.15.AML0024.CATACTTAGTTGCATC           : num  0 0 0 0 0 ...\n",
      " $ X2020.09.15.AML0024.CATACTTCAACTTGGT           : num  0 0 0 0 0 0 0 0 0 0 ...\n",
      " $ X2020.09.15.AML0024.CATACTTTCCTTGACC           : num  0 0 0 0 0 0 0 0 0 0 ...\n",
      " $ X2020.09.15.AML0024.CATAGACAGCACTAAA           : num  0 0 0 0 0 0 0 0 0 0 ...\n",
      " $ X2020.09.15.AML0024.CATAGACAGGATCACG           : num  0 0 0 0 0 0 0 0 0 0 ...\n",
      " $ X2020.09.15.AML0024.CATAGACAGGGAGTGG           : num  0 0 0 0 0 0 0 0 0 0 ...\n",
      " $ X2020.09.15.AML0024.CATAGACCACACAGCC           : num  0 0 0 0 0 ...\n",
      " $ X2020.09.15.AML0024.CATAGACTCCATTGGA           : num  0 0 0 0 0 0 0 0 0 0 ...\n",
      " $ X2020.09.15.AML0024.CATCAAGAGAGTTCGG           : num  0 0 0 0 0 0 0 0 0 0 ...\n",
      " $ X2020.09.15.AML0024.CATCAAGAGAGTTGCG           : num  0 0 0 0 0 0 0 0 0 0 ...\n",
      " $ X2020.09.15.AML0024.CCTAAGATCGAGAGCA           : num  0 0 0 0 0 0 0 0 0 0 ...\n",
      " $ X2020.09.15.AML0024.CCTACGTAGCCGTAAG           : num  0 0 0 0 0 0 0 0 0 0 ...\n",
      " $ X2020.09.15.AML0024.CCTACGTCATCCTTCG           : num  0 0 0 0 0.572 ...\n",
      " $ X2020.09.15.AML0024.CCTACGTGTATTTCTC           : num  0 0 0 0 0 0 0 0 0 0 ...\n",
      " $ X2020.09.15.AML0024.CCTACGTGTCTCAGAT           : num  0 0 0 0 0 ...\n",
      " $ X2020.09.15.AML0024.CCTACGTTCCACAAGT           : num  0 0 0 0 0 0 0 0 0 0 ...\n",
      " $ X2020.09.15.AML0024.CCTATCGAGAATCCCT           : num  0 0 0 0 0 0 0 0 0 0 ...\n",
      " $ X2020.09.15.AML0024.CCTATCGAGGAGACCT           : num  0 0 0 0 0 0 0 0 0 0 ...\n",
      " $ X2020.09.15.AML0024.CCTATCGAGTCGAGGT           : num  0 0 0 0 0 0 0 0 0 0 ...\n",
      " $ X2020.09.15.AML0024.CCTATCGCAGAACGCA           : num  0 0 0 0 0 ...\n",
      " $ X2020.09.15.AML0024.CCTATCGCAGCTCGGT           : num  0 0 0 0 0 0 0 0 0 0 ...\n",
      " $ X2020.09.15.AML0024.CCTATCGGTAAGTTGA           : num  0 0 0 0 0 0 0 0 0 0 ...\n",
      " $ X2020.09.15.AML0024.CCTATCGGTCAGTCCG           : num  0 0 0 0 0 0 0 0 0 0 ...\n",
      " $ X2020.09.15.AML0024.CCTATCGTCCGTGTAA           : num  0 0 0 0 0 0 0 0 0 0 ...\n",
      " $ X2020.09.15.AML0024.CCTATCGTCGTAGCCG           : num  0 0 0 0 0 0 0 0 0 0 ...\n",
      " $ X2020.09.15.AML0024.CCTATCGTCTACCACC           : num  0 0 0.634 0 0 ...\n",
      " $ X2020.09.15.AML0024.AAACCCACAACATACC           : num  0 0 0 0 0 0 0 0 0 0 ...\n",
      " $ X2020.09.15.AML0024.AAACCCAGTACAACGG           : num  0 0 0 0 0 0 0 0 0 0 ...\n",
      " $ X2020.09.15.AML0024.AAACCCAGTTGTAGCT           : num  0 0 0 0 0 0 0 0 0 0 ...\n",
      " $ X2020.09.15.AML0024.AAACCCATCATCTGTT           : num  0 0 0 0 0 ...\n",
      " $ X2020.09.15.AML0024.AAACCCATCTCAGAAC           : num  0 0 0 0 0 ...\n",
      " $ X2020.09.15.AML0024.AAACGAACAAGTTCGT           : num  0 0 0 0 0 0 0 0 0 0 ...\n",
      " $ X2020.09.15.AML0024.AAACGAACAGCAGTTT           : num  0 0 0 0 0 0 0 0 0 0 ...\n",
      " $ X2020.09.15.AML0024.AAACGAAGTAACAGTA           : num  0 0 0 0 0 0 0 0 0 0 ...\n",
      " $ X2020.09.15.AML0024.AAACGAATCTTTGGAG           : num  0 0 0 0 0 0 0 0 0 0 ...\n",
      " $ X2020.09.15.AML0024.AAACGCTAGATTAGTG           : num  0 0 0 0 0 0 0 0 0 0 ...\n",
      " $ X2020.09.15.AML0024.AAACGCTAGCGAATGC           : num  0 0 0 0 0 0 0 0 0 0 ...\n",
      " $ X2020.09.15.AML0024.AAACGCTAGTTCCTGA           : num  0 0 0 0 0 ...\n",
      " $ X2020.09.15.AML0024.AAACGCTGTCTACAAC           : num  0 0 0 0 0 0 0 0 0 0 ...\n",
      " $ X2020.09.15.AML0024.AAAGAACAGCACCCAC           : num  0 0 0 0 0 0 0 0 0 0 ...\n",
      " $ X2020.09.15.AML0024.AAAGAACAGCGGACAT           : num  0 0 0 0 0 0 0 0 0 0 ...\n",
      " $ X2020.09.15.AML0024.AAAGAACAGCTGACTT           : num  0 0 0 0.909 0 ...\n",
      " $ X2020.09.15.AML0024.AAAGAACAGGGCTTCC           : num  0 0 0 0 0 ...\n",
      " $ X2020.09.15.AML0024.AAAGAACAGTAAGCAT           : num  0 0 0 0 0 0 0 0 0 0 ...\n",
      " $ X2020.09.15.AML0024.AAAGAACCAACAAAGT           : num  0 0 0 0 0 0 0 0 0 0 ...\n",
      " $ X2020.09.15.AML0024.AAAGAACGTACTCGCG           : num  0 0 0 0 0 ...\n",
      " $ X2020.09.15.AML0024.AAAGAACGTCATCGCG           : num  0 1.22 0 0 0 ...\n",
      " $ X2020.09.15.AML0024.AAAGAACGTGCATACT           : num  0 0 0 0 0 ...\n",
      " $ X2020.09.15.AML0024.AAAGAACGTTTCCAAG           : num  0 0 0 0 0 ...\n",
      " $ X2020.09.15.AML0024.AAAGAACTCCAAATGC           : num  0 0 0 0 0 0 0 0 0 0 ...\n",
      " $ X2020.09.15.AML0024.AAAGAACTCTGGGTCG           : num  0 0 0 0 0 0 0 0 0 0 ...\n",
      " $ X2020.09.15.AML0024.AAAGGATAGCCAGACA           : num  0 0 0 0 0 ...\n",
      " $ X2020.09.15.AML0024.AAAGGATAGCTAGCCC           : num  0 0 0 0 0 ...\n",
      " $ X2020.09.15.AML0024.AAAGGATAGGCTGGAT           : num  0 0 0 0 0 ...\n",
      " $ X2020.09.15.AML0024.AAAGGATAGTTGGCTT           : num  0 0.708 0 0 0 ...\n",
      " $ X2020.09.15.AML0024.AAAGGATCAGACCCGT           : num  0 0 0 0 0 0 0 0 0 0 ...\n",
      " $ X2020.09.15.AML0024.AAAGGATCATCGCTGG           : num  0 0 0 0 0 0 0 0 0 0 ...\n",
      " $ X2020.09.15.AML0024.AAAGGATCATTGGGAG           : num  0 0 0 0 0 0 0 0 0 0 ...\n",
      " $ X2020.09.15.AML0024.AAAGGATTCCCATACC           : num  0 0 0 0 0 ...\n",
      " $ X2020.09.15.AML0024.AAAGGGCCAATTAGGA           : num  0 0 0 0 0 ...\n",
      " $ X2020.09.15.AML0024.AAAGGGCGTGGTCTCG           : num  0 0 0 0 0 0 0 0 0 0 ...\n",
      " $ X2020.09.15.AML0024.AAAGGGCGTTGGGCCT           : num  0 0 0 0 0 0 0 0 0 0 ...\n",
      " $ X2020.09.15.AML0024.AAAGGGCTCATGCCCT           : num  0 0 0 0 0 0 0 0 0 0 ...\n",
      " $ X2020.09.15.AML0024.AAAGGTAAGGACTGGT           : num  0 0 0 0 0 0 0 0 0 0 ...\n",
      " $ X2020.09.15.AML0024.AAAGGTAAGGGAGGTG           : num  0 0 0 0 0 0 0 0 0 0 ...\n",
      " $ X2020.09.15.AML0024.AAAGGTACATCTCAAG           : num  0 0 0 0 0 0 0 0 0 0 ...\n",
      " $ X2020.09.15.AML0024.AAAGGTATCCTAAGTG           : num  0 0 0 0 0 0 0 0 0 0 ...\n",
      " $ X2020.09.15.AML0024.AAAGGTATCTCAGAAC           : num  0 0 0 0 0 0 0 0 0 0 ...\n",
      " $ X2020.09.15.AML0024.AAAGGTATCTGATTCT           : num  0 0 0 0 0 ...\n",
      " $ X2020.09.15.AML0024.AAAGTCCCACCAGTTA           : num  0 0 0 0 0 0 0 0 0 0 ...\n",
      " $ X2020.09.15.AML0024.AAAGTCCCAGAACGCA           : num  0 0 0 0 0 0 0 0 0 0 ...\n",
      " $ X2020.09.15.AML0024.AAAGTGAAGATCCGAG           : num  0 0 0 0 0 0 0 0 0 0 ...\n",
      " $ X2020.09.15.AML0024.AAAGTGAAGCGTGTCC           : num  0 0 0 0 0 0 0 0 0 0 ...\n",
      " $ X2020.09.15.AML0024.AAAGTGAAGGTGGTTG           : num  0 0 0 0 0 0 0 0 0 0 ...\n",
      " $ X2020.09.15.AML0024.AAAGTGAAGTCAGGGT           : num  0 0 0 0 0 0 0 0 0 0 ...\n",
      " $ X2020.09.15.AML0024.AAAGTGAAGTGAATAC           : num  0 0 0.819 0 0 ...\n",
      " $ X2020.09.15.AML0024.AAAGTGACAACCGCCA           : num  0 0 0 0 0 0 0 0 0 0 ...\n",
      " $ X2020.09.15.AML0024.AAAGTGAGTCAACCTA           : num  0 0 0 0 0 ...\n",
      " $ X2020.09.15.AML0024.AAAGTGAGTCGTTGCG           : num  0 0 0 0 0 0 0 0 0 0 ...\n",
      " $ X2020.09.15.AML0024.AAAGTGAGTTACACAC           : num  0 0 0 0 0 0 0 0 0 0 ...\n",
      " $ X2020.09.15.AML0024.AAAGTGATCATTCGTT           : num  0 0 0 0 0 0 0 0 0 0 ...\n",
      " $ X2020.09.15.AML0024.AAATGGAAGCTGTGCC           : num  0 0 0 0 0 0 0 0 0 0 ...\n",
      "  [list output truncated]\n",
      "NULL\n"
     ]
    }
   ],
   "source": [
    "# # load counts\n",
    "# print(\"load counts\")\n",
    "# counts <- read.table(gzfile(paste0(path_in,\"/counts_corr.csv.gz\")\n",
    "#                             )\n",
    "#                      ,sep = \",\"\n",
    "#                      ,row.names = 1\n",
    "#                      ,header = TRUE\n",
    "#                      )\n",
    "# # load counts\n",
    "\n",
    "counts <- fread(paste0(input_dir,\"counts_norm.csv.gz\"), header = TRUE,check.names=FALSE)\n",
    "counts <- as.data.frame(counts)\n",
    "rownames(counts) <- counts$gene_symbol\n",
    "counts <- counts[,-1]\n",
    "head(str(counts))\n",
    "print(str(counts))"
   ]
  },
  {
   "cell_type": "code",
   "execution_count": null,
   "id": "4d1a361b-a2fa-4a9a-833c-a490d6c7b4c8",
   "metadata": {},
   "outputs": [],
   "source": []
  },
  {
   "cell_type": "code",
   "execution_count": 5,
   "id": "668520b6-1f22-4b54-843a-f1fe3e9c84a4",
   "metadata": {},
   "outputs": [],
   "source": [
    "# help(read.table)"
   ]
  },
  {
   "cell_type": "code",
   "execution_count": 6,
   "id": "bea4cea4",
   "metadata": {},
   "outputs": [
    {
     "name": "stdout",
     "output_type": "stream",
     "text": [
      "[1] \"load cell annotation\"\n"
     ]
    }
   ],
   "source": [
    "# load cell annotation\n",
    "print(\"load cell annotation\")\n",
    "anno_cells <- read.table(paste0(input_dir,\"anno_cells_norm.txt\")\n",
    "                         ,sep = \"\\t\"\n",
    "                         # ,row.names = 2\n",
    "                         ,header = TRUE\n",
    "                         ,check.names=FALSE\n",
    "                         )\n",
    "# print(str(anno_cells))"
   ]
  },
  {
   "cell_type": "code",
   "execution_count": 7,
   "id": "8879060f",
   "metadata": {},
   "outputs": [],
   "source": [
    "#set rownames of annotation to cell_ids\n",
    "rownames(anno_cells) <- anno_cells$cell"
   ]
  },
  {
   "cell_type": "code",
   "execution_count": 8,
   "id": "892a4a02",
   "metadata": {},
   "outputs": [],
   "source": [
    "#set colnames of counts to cell_ids\n",
    "colnames(counts) <- rownames(anno_cells)"
   ]
  },
  {
   "cell_type": "code",
   "execution_count": 9,
   "id": "3f9cc2cf-59ac-4dc2-b1dc-efbc7d372dcd",
   "metadata": {},
   "outputs": [],
   "source": [
    "# 15770 obs. of  46702 variables:"
   ]
  },
  {
   "cell_type": "code",
   "execution_count": 10,
   "id": "98867f95-28fd-4156-810f-cd5a9faf677d",
   "metadata": {},
   "outputs": [
    {
     "data": {
      "text/html": [
       "<style>\n",
       ".list-inline {list-style: none; margin:0; padding: 0}\n",
       ".list-inline>li {display: inline-block}\n",
       ".list-inline>li:not(:last-child)::after {content: \"\\00b7\"; padding: 0 .5ex}\n",
       "</style>\n",
       "<ol class=list-inline><li>15770</li><li>46702</li></ol>\n"
      ],
      "text/latex": [
       "\\begin{enumerate*}\n",
       "\\item 15770\n",
       "\\item 46702\n",
       "\\end{enumerate*}\n"
      ],
      "text/markdown": [
       "1. 15770\n",
       "2. 46702\n",
       "\n",
       "\n"
      ],
      "text/plain": [
       "[1] 15770 46702"
      ]
     },
     "metadata": {},
     "output_type": "display_data"
    }
   ],
   "source": [
    "dim(counts)"
   ]
  },
  {
   "cell_type": "code",
   "execution_count": 11,
   "id": "d426ecf5-fbed-412b-9b87-2edf8029d10a",
   "metadata": {},
   "outputs": [
    {
     "data": {
      "text/html": [
       "<style>\n",
       ".list-inline {list-style: none; margin:0; padding: 0}\n",
       ".list-inline>li {display: inline-block}\n",
       ".list-inline>li:not(:last-child)::after {content: \"\\00b7\"; padding: 0 .5ex}\n",
       "</style>\n",
       "<ol class=list-inline><li>46702</li><li>92</li></ol>\n"
      ],
      "text/latex": [
       "\\begin{enumerate*}\n",
       "\\item 46702\n",
       "\\item 92\n",
       "\\end{enumerate*}\n"
      ],
      "text/markdown": [
       "1. 46702\n",
       "2. 92\n",
       "\n",
       "\n"
      ],
      "text/plain": [
       "[1] 46702    92"
      ]
     },
     "metadata": {},
     "output_type": "display_data"
    }
   ],
   "source": [
    "dim(anno_cells)"
   ]
  },
  {
   "cell_type": "code",
   "execution_count": 12,
   "id": "099268f8-a054-4668-888d-76cee5d5b8c5",
   "metadata": {},
   "outputs": [
    {
     "data": {
      "text/html": [
       "<style>\n",
       ".list-inline {list-style: none; margin:0; padding: 0}\n",
       ".list-inline>li {display: inline-block}\n",
       ".list-inline>li:not(:last-child)::after {content: \"\\00b7\"; padding: 0 .5ex}\n",
       "</style>\n",
       "<ol class=list-inline><li>'2020-09-15-AML0024:CATCAAGGTTAGCGGA'</li><li>'2020-09-15-AML0024:CATCAAGTCCGAGAAG'</li><li>'2020-09-15-AML0024:CATCCACAGGGACCAT'</li><li>'2020-09-15-AML0024:CCTCAACAGAGCAAGA'</li><li>'2020-09-15-AML0024:CCTCAACAGTTCCATG'</li><li>'2020-09-15-AML0024:CCTCAACGTAGAATAC'</li></ol>\n"
      ],
      "text/latex": [
       "\\begin{enumerate*}\n",
       "\\item '2020-09-15-AML0024:CATCAAGGTTAGCGGA'\n",
       "\\item '2020-09-15-AML0024:CATCAAGTCCGAGAAG'\n",
       "\\item '2020-09-15-AML0024:CATCCACAGGGACCAT'\n",
       "\\item '2020-09-15-AML0024:CCTCAACAGAGCAAGA'\n",
       "\\item '2020-09-15-AML0024:CCTCAACAGTTCCATG'\n",
       "\\item '2020-09-15-AML0024:CCTCAACGTAGAATAC'\n",
       "\\end{enumerate*}\n"
      ],
      "text/markdown": [
       "1. '2020-09-15-AML0024:CATCAAGGTTAGCGGA'\n",
       "2. '2020-09-15-AML0024:CATCAAGTCCGAGAAG'\n",
       "3. '2020-09-15-AML0024:CATCCACAGGGACCAT'\n",
       "4. '2020-09-15-AML0024:CCTCAACAGAGCAAGA'\n",
       "5. '2020-09-15-AML0024:CCTCAACAGTTCCATG'\n",
       "6. '2020-09-15-AML0024:CCTCAACGTAGAATAC'\n",
       "\n",
       "\n"
      ],
      "text/plain": [
       "[1] \"2020-09-15-AML0024:CATCAAGGTTAGCGGA\" \"2020-09-15-AML0024:CATCAAGTCCGAGAAG\"\n",
       "[3] \"2020-09-15-AML0024:CATCCACAGGGACCAT\" \"2020-09-15-AML0024:CCTCAACAGAGCAAGA\"\n",
       "[5] \"2020-09-15-AML0024:CCTCAACAGTTCCATG\" \"2020-09-15-AML0024:CCTCAACGTAGAATAC\""
      ]
     },
     "metadata": {},
     "output_type": "display_data"
    }
   ],
   "source": [
    "head(anno_cells$cell)"
   ]
  },
  {
   "cell_type": "code",
   "execution_count": 13,
   "id": "a0e8617f-2fd8-41e1-822e-bd1345148b3b",
   "metadata": {},
   "outputs": [
    {
     "data": {
      "text/html": [
       "<style>\n",
       ".list-inline {list-style: none; margin:0; padding: 0}\n",
       ".list-inline>li {display: inline-block}\n",
       ".list-inline>li:not(:last-child)::after {content: \"\\00b7\"; padding: 0 .5ex}\n",
       "</style>\n",
       "<ol class=list-inline><li>'2020-09-15-AML0024:CATCAAGGTTAGCGGA'</li><li>'2020-09-15-AML0024:CATCAAGTCCGAGAAG'</li><li>'2020-09-15-AML0024:CATCCACAGGGACCAT'</li><li>'2020-09-15-AML0024:CCTCAACAGAGCAAGA'</li><li>'2020-09-15-AML0024:CCTCAACAGTTCCATG'</li><li>'2020-09-15-AML0024:CCTCAACGTAGAATAC'</li></ol>\n"
      ],
      "text/latex": [
       "\\begin{enumerate*}\n",
       "\\item '2020-09-15-AML0024:CATCAAGGTTAGCGGA'\n",
       "\\item '2020-09-15-AML0024:CATCAAGTCCGAGAAG'\n",
       "\\item '2020-09-15-AML0024:CATCCACAGGGACCAT'\n",
       "\\item '2020-09-15-AML0024:CCTCAACAGAGCAAGA'\n",
       "\\item '2020-09-15-AML0024:CCTCAACAGTTCCATG'\n",
       "\\item '2020-09-15-AML0024:CCTCAACGTAGAATAC'\n",
       "\\end{enumerate*}\n"
      ],
      "text/markdown": [
       "1. '2020-09-15-AML0024:CATCAAGGTTAGCGGA'\n",
       "2. '2020-09-15-AML0024:CATCAAGTCCGAGAAG'\n",
       "3. '2020-09-15-AML0024:CATCCACAGGGACCAT'\n",
       "4. '2020-09-15-AML0024:CCTCAACAGAGCAAGA'\n",
       "5. '2020-09-15-AML0024:CCTCAACAGTTCCATG'\n",
       "6. '2020-09-15-AML0024:CCTCAACGTAGAATAC'\n",
       "\n",
       "\n"
      ],
      "text/plain": [
       "[1] \"2020-09-15-AML0024:CATCAAGGTTAGCGGA\" \"2020-09-15-AML0024:CATCAAGTCCGAGAAG\"\n",
       "[3] \"2020-09-15-AML0024:CATCCACAGGGACCAT\" \"2020-09-15-AML0024:CCTCAACAGAGCAAGA\"\n",
       "[5] \"2020-09-15-AML0024:CCTCAACAGTTCCATG\" \"2020-09-15-AML0024:CCTCAACGTAGAATAC\""
      ]
     },
     "metadata": {},
     "output_type": "display_data"
    }
   ],
   "source": [
    "head(colnames(counts))"
   ]
  },
  {
   "cell_type": "code",
   "execution_count": null,
   "id": "debe23ba-2057-4233-80db-848178e8d64b",
   "metadata": {},
   "outputs": [],
   "source": [
    "head(rownames(anno_cells))"
   ]
  },
  {
   "cell_type": "code",
   "execution_count": 14,
   "id": "bcfa1443",
   "metadata": {},
   "outputs": [],
   "source": [
    "#create a Seurat object\n",
    "srt=CreateSeuratObject(counts=counts, meta.data=anno_cells)"
   ]
  },
  {
   "cell_type": "code",
   "execution_count": 15,
   "id": "1f2a9771",
   "metadata": {},
   "outputs": [
    {
     "data": {
      "text/plain": [
       ".\n",
       "    AML healthy \n",
       "  21311   25391 "
      ]
     },
     "metadata": {},
     "output_type": "display_data"
    }
   ],
   "source": [
    "#peek into the number of cells for case/control\n",
    "srt@meta.data$health_status %>% table()"
   ]
  },
  {
   "cell_type": "code",
   "execution_count": 16,
   "id": "af19b77d",
   "metadata": {},
   "outputs": [
    {
     "data": {
      "text/plain": [
       ".\n",
       "    B    DC   Ery  Gran  HSPC  Mono    NK     T \n",
       " 4765  1634  1674  2332  3169 18004  3078 12046 "
      ]
     },
     "metadata": {},
     "output_type": "display_data"
    }
   ],
   "source": [
    "#peek into the number of cell types\n",
    "srt@meta.data$cell_type %>% table()"
   ]
  },
  {
   "cell_type": "code",
   "execution_count": 17,
   "id": "7b012d22",
   "metadata": {},
   "outputs": [],
   "source": [
    "#set the indent to cell_type\n",
    "Idents(srt) <- \"cell_type\""
   ]
  },
  {
   "cell_type": "code",
   "execution_count": 18,
   "id": "c11a0521",
   "metadata": {},
   "outputs": [
    {
     "name": "stdout",
     "output_type": "stream",
     "text": [
      "[1] \"Mono\"\n",
      "[1] 386\n",
      "[1] \"Gran\"\n",
      "[1] 337\n",
      "[1] \"T\"\n",
      "[1] 216\n",
      "[1] \"NK\"\n",
      "[1] 472\n",
      "[1] \"B\"\n",
      "[1] 297\n",
      "[1] \"HSPC\"\n",
      "[1] 452\n",
      "[1] \"Ery\"\n",
      "[1] 1082\n",
      "[1] \"DC\"\n",
      "[1] 239\n"
     ]
    }
   ],
   "source": [
    "# initialize empty vector for storing DEGs\n",
    "DEGs <- c()\n",
    "\n",
    "# iterate over each unique cell type \n",
    "for (cell in unique(srt@meta.data$cell_type)) {\n",
    "  \n",
    "  # subset Seurat object to only include cells of current cell type\n",
    "  seurat_obj_receiver <- subset(srt, idents = cell)\n",
    "  \n",
    "  # set cell identity using the \"health_status\" feature\n",
    "  seurat_obj_receiver <- SetIdent(seurat_obj_receiver, value = seurat_obj_receiver[[\"health_status\"]])\n",
    "  \n",
    "  # specify the two conditions to compare\n",
    "  condition_oi <- \"AML\"\n",
    "  condition_reference <- \"healthy\" \n",
    "  \n",
    "  # find differentially expressed genes between the two conditions\n",
    "  DE_table_receiver <- FindMarkers(object = seurat_obj_receiver, \n",
    "                                   ident.1 = condition_oi, \n",
    "                                   ident.2 = condition_reference, \n",
    "                                   min.pct = 0.10) %>%\n",
    "    # convert row names to a separate \"gene\" column\n",
    "    rownames_to_column(\"gene\")\n",
    "  \n",
    "  # add cell type information to the DEG table\n",
    "  DE_table_receiver <- data.frame(cluster = cell, DE_table_receiver)\n",
    "  \n",
    "  # filter DEGs based on statistical significance and fold change threshold\n",
    "  DE_table_receiver <- DE_table_receiver %>% \n",
    "    filter(p_val_adj <= 0.05 & abs(avg_log2FC) >= 0.25)\n",
    "  \n",
    "  # print cell type and number of DEGs found\n",
    "  print(cell)\n",
    "  print(nrow(DE_table_receiver))\n",
    "  \n",
    "  # append DEGs to the vector of all DEGs\n",
    "  DEGs <- rbind(DEGs, DE_table_receiver)\n",
    "}\n"
   ]
  },
  {
   "cell_type": "code",
   "execution_count": 19,
   "id": "4eed7d9c",
   "metadata": {},
   "outputs": [],
   "source": [
    "# write.table(DEGs, file =paste0(output_dir,\"samples_DEGs/DEGs.tsv\"), sep = '\\t', quote = F, row.names = F)"
   ]
  },
  {
   "cell_type": "code",
   "execution_count": 20,
   "id": "22b4bdfd",
   "metadata": {},
   "outputs": [],
   "source": [
    "meta <- anno_cells[\"cell_type\"] %>% rownames_to_column(\"Cell\")"
   ]
  },
  {
   "cell_type": "markdown",
   "id": "147321b7",
   "metadata": {},
   "source": [
    "Below code takes an expression counts matrix (counts) and an annotation data frame (anno_cells) and writes out a separate counts file and metadata file for each sample ID in the sample_ID column of anno_cells. Each metadata file contains a single column (cell_type) and a row for each cell in the sample (required by CellPhoneDB), while the counts file contains the expression counts for each gene in each cell."
   ]
  },
  {
   "cell_type": "code",
   "execution_count": 21,
   "id": "4424c74e",
   "metadata": {},
   "outputs": [],
   "source": [
    "# create a directory \"samples_DEGs\" to save the subsetted counts and annotation files. \n",
    "dir.create(file.path(output_dir, \"samples_DEGs\"))\n",
    "\n",
    "# loop over each unique sample ID in the \"sample_ID\" column of the \"anno_cells\" data frame\n",
    "for (sample in unique(anno_cells$sample_ID)) {\n",
    "  \n",
    "  # filter the annotation data frame to include only cells from the current sample\n",
    "  anno_filtered <- filter(anno_cells, sample_ID == sample)\n",
    "  \n",
    "  # subset the expression counts matrix to the current sample\n",
    "  subset_counts <- counts[, rownames(anno_filtered)]\n",
    "  \n",
    "  # subset the annotation data frame (required by CellPhoneDB)\n",
    "  subset_meta <- anno_filtered[\"cell_type\"] %>% rownames_to_column(\"Cell\")\n",
    "    \n",
    "  # subset DEGs\n",
    "  subset_DEGs <- DEGs %>% filter(cluster %in% unique(subset_meta$cell_type))\n",
    "  \n",
    "  # write the subsetted annotation data frame to a tab-separated value (TSV) file\n",
    "  write.table(subset_meta, paste0(output_dir,\"samples_DEGs/\", sample, \"_meta.tsv\"), sep = '\\t', quote = F, row.names = F)\n",
    "  \n",
    "  # write the subsetted counts matrix to a TSV file\n",
    "  write.table(subset_counts, paste0(output_dir,\"samples_DEGs/\", sample, \"_counts.tsv\"), sep = '\\t', quote = F)\n",
    "\n",
    "  write.table(subset_DEGs, paste0(output_dir,\"samples_DEGs/\", sample, \"_DEGs.tsv\"), sep = '\\t', quote = F)\n",
    "\n",
    "\n",
    "\n",
    "}\n"
   ]
  },
  {
   "cell_type": "markdown",
   "id": "cce82c40",
   "metadata": {},
   "source": [
    "Below is the content of shell script (`./runCPDB.sh`) that performs CellPhoneDB using DEG analysis method for each sample in the /samples_DEGs/ directory.\n",
    "\n",
    "For each sample, the script creates a new directory `(${sample}_results)` to store the results of the CellPhoneDB analysis. The cellphonedb method degs_analysis command runs the DEG analysis method on the metadata and counts files for the current sample, using the `../DEGs.tsv` file as input for the list of differentially expressed genes. The `--database` option specifies the path to the CellPhoneDB database to use for the analysis, while the `--counts-data` option specifies the type of gene identifier used in the counts file (in this case, `hgnc_symbol`). The `--output-path` option specifies the directory where the analysis results will be saved."
   ]
  },
  {
   "cell_type": "markdown",
   "id": "1fabfd75",
   "metadata": {},
   "source": [
    "`'./runCPDB.sh'`\n",
    "\n",
    "```bash\n",
    "# Set the directory path to the directory containing the DEG samples\n",
    "samples_dir=../../../../../results/method_comparison/compare_algorithms/CPDB/samples_DEGs/\n",
    "\n",
    "# Get a list of sample names\n",
    "my_vars=$(ls \"$samples_dir\" | cut -d_ -f1 | uniq)\n",
    "\n",
    "# Set the path to the custom database file\n",
    "custom_db=../../../../../results/method_comparison/build_customDB/CPDB/custom_cellphone.db\n",
    "\n",
    "# Loop over each sample variable name\n",
    "for sample in $my_vars;\n",
    "do\n",
    "  # Create a subdirectory for the sample results\n",
    "  mkdir ${samples_dir}${sample}_results;\n",
    "\n",
    "  # Run CellPhoneDB's DEG analysis method on the sample using the custom database, with input files in the sample directory and output files in the sample results subdirectory\n",
    "  cellphonedb method degs_analysis ${samples_dir}${sample}_meta.tsv ${samples_dir}${sample}_counts.tsv ${samples_dir}${sample}_DEGs.tsv --database $custom_db --counts-data hgnc_symbol --output-path ${samples_dir}${sample}_results/;\n",
    "done;\n",
    "```"
   ]
  },
  {
   "cell_type": "code",
   "execution_count": null,
   "id": "cf72c6bd-fc9e-43bf-9244-f50a732ee043",
   "metadata": {},
   "outputs": [],
   "source": []
  },
  {
   "cell_type": "code",
   "execution_count": null,
   "id": "12c0bc74-a19f-4629-8b24-6bc8c198a40d",
   "metadata": {},
   "outputs": [],
   "source": []
  },
  {
   "cell_type": "code",
   "execution_count": 15,
   "id": "f57391e7",
   "metadata": {},
   "outputs": [],
   "source": [
    "#make sure cpdb is installed in the env.\n",
    "# run_CPDB <- './runCPDB.sh'"
   ]
  },
  {
   "cell_type": "code",
   "execution_count": null,
   "id": "a5ad927b-6c35-4af5-a7fd-8574b51523f6",
   "metadata": {},
   "outputs": [],
   "source": []
  },
  {
   "cell_type": "code",
   "execution_count": 2,
   "id": "38e42b99",
   "metadata": {},
   "outputs": [],
   "source": [
    "system('conda run -n cellphonedb ./runCPDB_Lasry.sh')"
   ]
  },
  {
   "cell_type": "markdown",
   "id": "8ecd1177",
   "metadata": {},
   "source": [
    "### Restructure CellPhoneDB's outputs"
   ]
  },
  {
   "cell_type": "markdown",
   "id": "c3561356",
   "metadata": {},
   "source": [
    "####\n",
    "\n",
    "`community` tool designates interactions as up- or down-regulated when identified as differential. In contrast, CellPhoneDB doesn't provide this distinction. To maintain consistency, we utilized the means.txt file. This approach enabled us to calculate log2FC_weights, thereby assigning directionalities to the interactions"
   ]
  },
  {
   "cell_type": "code",
   "execution_count": 5,
   "id": "025d31de",
   "metadata": {},
   "outputs": [],
   "source": [
    "results_dir <- list.dirs(path = paste0(output_dir,\"samples_DEGs/\"), full.names = TRUE)"
   ]
  },
  {
   "cell_type": "code",
   "execution_count": 6,
   "id": "23925a83",
   "metadata": {},
   "outputs": [],
   "source": [
    "results_dir <- results_dir[grepl(\"_results\", results_dir, fixed = TRUE)]"
   ]
  },
  {
   "cell_type": "code",
   "execution_count": 7,
   "id": "488f48ff",
   "metadata": {},
   "outputs": [],
   "source": [
    "# Define a function called 'restructure_result' that takes one argument, 'cpdb_means'\n",
    "restructure_result <- function(cpdb_means) {\n",
    "  \n",
    "  # Subset the columns of 'cpdb_means' that contain 'interacting_pair' or '|'\n",
    "  cpdb_means <- cpdb_means[, grepl('interacting_pair|\\\\|', colnames(cpdb_means))]\n",
    "  \n",
    "  # Pivot the data to long format and split the 'interacting_pair' column into 'sending_protein' and 'receiving_protein' columns\n",
    "  # Split the 'cell_types' column into 'sending_celltype' and 'receiving_celltype' columns\n",
    "  # Unite the 'sending_celltype' and 'sending_protein' columns into a single column called 'sender'\n",
    "  # Unite the 'receiving_celltype' and 'receiving_protein' columns into a single column called 'receiver'\n",
    "  # Unite the 'sender' and 'receiver' columns into a single column called 'interacting_pairs'\n",
    "  # Select the 'interacting_pairs' and 'value' columns\n",
    "  conversion <- cpdb_means %>%\n",
    "    pivot_longer(cols = -interacting_pair, names_to = \"cell_types\", values_to = \"value\") %>%\n",
    "    separate(interacting_pair, c(\"sending_protein\", \"receiving_protein\"), sep = \"_\") %>%\n",
    "    separate(cell_types, c(\"sending_celltype\", \"receiving_celltype\"), sep = \"\\\\|\") %>%\n",
    "    unite(sender, c(\"sending_celltype\", \"sending_protein\"), sep = \":\", remove = FALSE) %>%\n",
    "    unite(receiver, c(\"receiving_celltype\", \"receiving_protein\"), sep = \":\", remove = FALSE) %>%\n",
    "    unite(interacting_pairs, c(\"sender\", \"receiver\"), sep = \"_\", remove = FALSE) %>%\n",
    "    select(interacting_pairs, value)\n",
    "  \n",
    "  # Return the processed data\n",
    "  return(conversion)\n",
    "}\n"
   ]
  },
  {
   "cell_type": "code",
   "execution_count": 11,
   "id": "61c347a8",
   "metadata": {},
   "outputs": [],
   "source": [
    "results=list()\n",
    "for (sample in results_dir){\n",
    "    \n",
    "    file <- paste0(sample,\"/relevant_interactions.txt\")\n",
    "    \n",
    "    sample_id <- basename(sample)\n",
    "    sample_id <- strsplit(sample_id, '_')[[1]][1]\n",
    "    \n",
    "    \n",
    "    if (file.exists(file)){\n",
    "        \n",
    "        cpdb_means <- read.csv(file, sep = \"\\t\",  check.names = FALSE)\n",
    "        \n",
    "        \n",
    "        sample_result <- restructure_result(cpdb_means)\n",
    "        colnames(sample_result) <- c(\"interaction_ID\",sample_id)\n",
    "        results[[sample_id]] <- sample_result\n",
    "        \n",
    "    }\n",
    "    \n",
    "}"
   ]
  },
  {
   "cell_type": "code",
   "execution_count": 12,
   "id": "1ec7acf9",
   "metadata": {},
   "outputs": [],
   "source": [
    "means=list()\n",
    "for (sample in results_dir){\n",
    "    \n",
    "    file <- paste0(sample,\"/means.txt\")\n",
    "    \n",
    "    sample_id <- basename(sample)\n",
    "    sample_id <- strsplit(sample_id, '_')[[1]][1]\n",
    "    \n",
    "    \n",
    "    if (file.exists(file)){\n",
    "        \n",
    "        cpdb_means <- read.csv(file, sep = \"\\t\",  check.names = FALSE)\n",
    "        \n",
    "        \n",
    "        sample_result <- restructure_result(cpdb_means)\n",
    "        colnames(sample_result) <- c(\"interaction_ID\",sample_id)\n",
    "        means[[sample_id]] <- sample_result\n",
    "        \n",
    "    }\n",
    "    \n",
    "}"
   ]
  },
  {
   "cell_type": "code",
   "execution_count": 13,
   "id": "bdf3e71e",
   "metadata": {},
   "outputs": [],
   "source": [
    "# Define a variable called `result` that will hold the output of the Reduce function\n",
    "means <- Reduce(\n",
    "  \n",
    "  # The `Reduce()` function takes two arguments: a function and a list.\n",
    "  # In this case, the function is an anonymous function defined using the `function()` keyword.\n",
    "  # This function takes two arguments `x` and `y` and performs a full join between them using the `full_join()` function from the `dplyr` package.\n",
    "  # The `by = \"interaction\"` argument specifies that the join should be performed on the \"interaction\" column.\n",
    "  function(x, y) full_join(x, y, by = \"interaction_ID\"), \n",
    "  \n",
    "  # The second argument to the `Reduce()` function is a list called `results`.\n",
    "  # This list contains data frames that need to be joined together.\n",
    "  means\n",
    ")"
   ]
  },
  {
   "cell_type": "code",
   "execution_count": 14,
   "id": "aee78e83",
   "metadata": {},
   "outputs": [],
   "source": [
    "# Define a variable called `result` that will hold the output of the Reduce function\n",
    "matrix_result <- Reduce(\n",
    "  \n",
    "  # The `Reduce()` function takes two arguments: a function and a list.\n",
    "  # In this case, the function is an anonymous function defined using the `function()` keyword.\n",
    "  # This function takes two arguments `x` and `y` and performs a full join between them using the `full_join()` function from the `dplyr` package.\n",
    "  # The `by = \"interaction\"` argument specifies that the join should be performed on the \"interaction\" column.\n",
    "  function(x, y) full_join(x, y, by = \"interaction_ID\"), \n",
    "  \n",
    "  # The second argument to the `Reduce()` function is a list called `results`.\n",
    "  # This list contains data frames that need to be joined together.\n",
    "  results\n",
    ")"
   ]
  },
  {
   "cell_type": "code",
   "execution_count": 15,
   "id": "b458d798",
   "metadata": {},
   "outputs": [],
   "source": [
    "matrix_result[is.na(matrix_result)] <- 0"
   ]
  },
  {
   "cell_type": "code",
   "execution_count": 16,
   "id": "18112747",
   "metadata": {},
   "outputs": [
    {
     "data": {
      "text/html": [
       "<table class=\"dataframe\">\n",
       "<caption>A tibble: 6 × 14</caption>\n",
       "<thead>\n",
       "\t<tr><th scope=col>interaction_ID</th><th scope=col>AML-0024</th><th scope=col>AML-0160</th><th scope=col>AML-0693</th><th scope=col>AML-1371</th><th scope=col>AML-2123</th><th scope=col>AML-3133</th><th scope=col>AML-4340</th><th scope=col>healthy-1</th><th scope=col>healthy-2</th><th scope=col>healthy-3</th><th scope=col>healthy-4</th><th scope=col>healthy-4003</th><th scope=col>healthy-5</th></tr>\n",
       "\t<tr><th scope=col>&lt;chr&gt;</th><th scope=col>&lt;int&gt;</th><th scope=col>&lt;int&gt;</th><th scope=col>&lt;int&gt;</th><th scope=col>&lt;int&gt;</th><th scope=col>&lt;int&gt;</th><th scope=col>&lt;int&gt;</th><th scope=col>&lt;int&gt;</th><th scope=col>&lt;int&gt;</th><th scope=col>&lt;int&gt;</th><th scope=col>&lt;int&gt;</th><th scope=col>&lt;int&gt;</th><th scope=col>&lt;int&gt;</th><th scope=col>&lt;int&gt;</th></tr>\n",
       "</thead>\n",
       "<tbody>\n",
       "\t<tr><td>B:ARPC5_B:ADRB2   </td><td>0</td><td>0</td><td>0</td><td>0</td><td>0</td><td>0</td><td>0</td><td>0</td><td>0</td><td>0</td><td>0</td><td>0</td><td>0</td></tr>\n",
       "\t<tr><td>B:ARPC5_DC:ADRB2  </td><td>0</td><td>0</td><td>0</td><td>1</td><td>0</td><td>0</td><td>0</td><td>0</td><td>0</td><td>0</td><td>1</td><td>0</td><td>0</td></tr>\n",
       "\t<tr><td>B:ARPC5_Ery:ADRB2 </td><td>0</td><td>0</td><td>0</td><td>0</td><td>0</td><td>0</td><td>0</td><td>0</td><td>0</td><td>0</td><td>0</td><td>0</td><td>0</td></tr>\n",
       "\t<tr><td>B:ARPC5_Gran:ADRB2</td><td>0</td><td>0</td><td>0</td><td>1</td><td>0</td><td>0</td><td>0</td><td>0</td><td>1</td><td>0</td><td>0</td><td>1</td><td>0</td></tr>\n",
       "\t<tr><td>B:ARPC5_HSPC:ADRB2</td><td>0</td><td>0</td><td>0</td><td>1</td><td>0</td><td>0</td><td>0</td><td>0</td><td>0</td><td>0</td><td>0</td><td>0</td><td>0</td></tr>\n",
       "\t<tr><td>B:ARPC5_Mono:ADRB2</td><td>0</td><td>0</td><td>0</td><td>1</td><td>0</td><td>0</td><td>0</td><td>0</td><td>0</td><td>0</td><td>0</td><td>0</td><td>0</td></tr>\n",
       "</tbody>\n",
       "</table>\n"
      ],
      "text/latex": [
       "A tibble: 6 × 14\n",
       "\\begin{tabular}{llllllllllllll}\n",
       " interaction\\_ID & AML-0024 & AML-0160 & AML-0693 & AML-1371 & AML-2123 & AML-3133 & AML-4340 & healthy-1 & healthy-2 & healthy-3 & healthy-4 & healthy-4003 & healthy-5\\\\\n",
       " <chr> & <int> & <int> & <int> & <int> & <int> & <int> & <int> & <int> & <int> & <int> & <int> & <int> & <int>\\\\\n",
       "\\hline\n",
       "\t B:ARPC5\\_B:ADRB2    & 0 & 0 & 0 & 0 & 0 & 0 & 0 & 0 & 0 & 0 & 0 & 0 & 0\\\\\n",
       "\t B:ARPC5\\_DC:ADRB2   & 0 & 0 & 0 & 1 & 0 & 0 & 0 & 0 & 0 & 0 & 1 & 0 & 0\\\\\n",
       "\t B:ARPC5\\_Ery:ADRB2  & 0 & 0 & 0 & 0 & 0 & 0 & 0 & 0 & 0 & 0 & 0 & 0 & 0\\\\\n",
       "\t B:ARPC5\\_Gran:ADRB2 & 0 & 0 & 0 & 1 & 0 & 0 & 0 & 0 & 1 & 0 & 0 & 1 & 0\\\\\n",
       "\t B:ARPC5\\_HSPC:ADRB2 & 0 & 0 & 0 & 1 & 0 & 0 & 0 & 0 & 0 & 0 & 0 & 0 & 0\\\\\n",
       "\t B:ARPC5\\_Mono:ADRB2 & 0 & 0 & 0 & 1 & 0 & 0 & 0 & 0 & 0 & 0 & 0 & 0 & 0\\\\\n",
       "\\end{tabular}\n"
      ],
      "text/markdown": [
       "\n",
       "A tibble: 6 × 14\n",
       "\n",
       "| interaction_ID &lt;chr&gt; | AML-0024 &lt;int&gt; | AML-0160 &lt;int&gt; | AML-0693 &lt;int&gt; | AML-1371 &lt;int&gt; | AML-2123 &lt;int&gt; | AML-3133 &lt;int&gt; | AML-4340 &lt;int&gt; | healthy-1 &lt;int&gt; | healthy-2 &lt;int&gt; | healthy-3 &lt;int&gt; | healthy-4 &lt;int&gt; | healthy-4003 &lt;int&gt; | healthy-5 &lt;int&gt; |\n",
       "|---|---|---|---|---|---|---|---|---|---|---|---|---|---|\n",
       "| B:ARPC5_B:ADRB2    | 0 | 0 | 0 | 0 | 0 | 0 | 0 | 0 | 0 | 0 | 0 | 0 | 0 |\n",
       "| B:ARPC5_DC:ADRB2   | 0 | 0 | 0 | 1 | 0 | 0 | 0 | 0 | 0 | 0 | 1 | 0 | 0 |\n",
       "| B:ARPC5_Ery:ADRB2  | 0 | 0 | 0 | 0 | 0 | 0 | 0 | 0 | 0 | 0 | 0 | 0 | 0 |\n",
       "| B:ARPC5_Gran:ADRB2 | 0 | 0 | 0 | 1 | 0 | 0 | 0 | 0 | 1 | 0 | 0 | 1 | 0 |\n",
       "| B:ARPC5_HSPC:ADRB2 | 0 | 0 | 0 | 1 | 0 | 0 | 0 | 0 | 0 | 0 | 0 | 0 | 0 |\n",
       "| B:ARPC5_Mono:ADRB2 | 0 | 0 | 0 | 1 | 0 | 0 | 0 | 0 | 0 | 0 | 0 | 0 | 0 |\n",
       "\n"
      ],
      "text/plain": [
       "  interaction_ID     AML-0024 AML-0160 AML-0693 AML-1371 AML-2123 AML-3133\n",
       "1 B:ARPC5_B:ADRB2    0        0        0        0        0        0       \n",
       "2 B:ARPC5_DC:ADRB2   0        0        0        1        0        0       \n",
       "3 B:ARPC5_Ery:ADRB2  0        0        0        0        0        0       \n",
       "4 B:ARPC5_Gran:ADRB2 0        0        0        1        0        0       \n",
       "5 B:ARPC5_HSPC:ADRB2 0        0        0        1        0        0       \n",
       "6 B:ARPC5_Mono:ADRB2 0        0        0        1        0        0       \n",
       "  AML-4340 healthy-1 healthy-2 healthy-3 healthy-4 healthy-4003 healthy-5\n",
       "1 0        0         0         0         0         0            0        \n",
       "2 0        0         0         0         1         0            0        \n",
       "3 0        0         0         0         0         0            0        \n",
       "4 0        0         1         0         0         1            0        \n",
       "5 0        0         0         0         0         0            0        \n",
       "6 0        0         0         0         0         0            0        "
      ]
     },
     "metadata": {},
     "output_type": "display_data"
    }
   ],
   "source": [
    "head(matrix_result)"
   ]
  },
  {
   "cell_type": "code",
   "execution_count": 17,
   "id": "7c7ce2dc",
   "metadata": {},
   "outputs": [
    {
     "name": "stdout",
     "output_type": "stream",
     "text": [
      "tibble [39,694 × 14] (S3: tbl_df/tbl/data.frame)\n",
      " $ interaction_ID: chr [1:39694] \"B:ARPC5_B:ADRB2\" \"B:ARPC5_DC:ADRB2\" \"B:ARPC5_Ery:ADRB2\" \"B:ARPC5_Gran:ADRB2\" ...\n",
      " $ AML-0024      : int [1:39694] 0 0 0 0 0 0 0 1 0 0 ...\n",
      " $ AML-0160      : int [1:39694] 0 0 0 0 0 0 0 0 0 0 ...\n",
      " $ AML-0693      : int [1:39694] 0 0 0 0 0 0 0 0 0 0 ...\n",
      " $ AML-1371      : int [1:39694] 0 1 0 1 1 1 1 1 0 0 ...\n",
      " $ AML-2123      : int [1:39694] 0 0 0 0 0 0 1 0 0 0 ...\n",
      " $ AML-3133      : int [1:39694] 0 0 0 0 0 0 0 0 0 0 ...\n",
      " $ AML-4340      : int [1:39694] 0 0 0 0 0 0 0 0 0 0 ...\n",
      " $ healthy-1     : int [1:39694] 0 0 0 0 0 0 0 0 0 0 ...\n",
      " $ healthy-2     : int [1:39694] 0 0 0 1 0 0 0 0 0 0 ...\n",
      " $ healthy-3     : int [1:39694] 0 0 0 0 0 0 0 0 0 0 ...\n",
      " $ healthy-4     : int [1:39694] 0 1 0 0 0 0 1 0 0 0 ...\n",
      " $ healthy-4003  : int [1:39694] 0 0 0 1 0 0 0 0 0 0 ...\n",
      " $ healthy-5     : int [1:39694] 0 0 0 0 0 0 0 0 0 0 ...\n"
     ]
    }
   ],
   "source": [
    "str(matrix_result)"
   ]
  },
  {
   "cell_type": "code",
   "execution_count": null,
   "id": "62619ac7",
   "metadata": {},
   "outputs": [],
   "source": []
  },
  {
   "cell_type": "code",
   "execution_count": 18,
   "id": "585a89c8",
   "metadata": {},
   "outputs": [],
   "source": [
    "# str(matrix_result[rowSums(matrix_result[, -1] != 0, na.rm = TRUE) > 0, ])"
   ]
  },
  {
   "cell_type": "code",
   "execution_count": 19,
   "id": "0f9082d8",
   "metadata": {},
   "outputs": [
    {
     "name": "stdout",
     "output_type": "stream",
     "text": [
      "tibble [5,735 × 14] (S3: tbl_df/tbl/data.frame)\n",
      " $ interaction_ID: chr [1:5735] \"B:ARPC5_DC:ADRB2\" \"B:ARPC5_Gran:ADRB2\" \"B:ARPC5_HSPC:ADRB2\" \"B:ARPC5_Mono:ADRB2\" ...\n",
      " $ AML-0024      : int [1:5735] 0 0 0 0 0 1 0 0 0 0 ...\n",
      " $ AML-0160      : int [1:5735] 0 0 0 0 0 0 0 0 0 0 ...\n",
      " $ AML-0693      : int [1:5735] 0 0 0 0 0 0 0 0 0 0 ...\n",
      " $ AML-1371      : int [1:5735] 1 1 1 1 1 1 1 1 1 1 ...\n",
      " $ AML-2123      : int [1:5735] 0 0 0 0 1 0 0 0 0 0 ...\n",
      " $ AML-3133      : int [1:5735] 0 0 0 0 0 0 0 0 0 0 ...\n",
      " $ AML-4340      : int [1:5735] 0 0 0 0 0 0 0 0 0 0 ...\n",
      " $ healthy-1     : int [1:5735] 0 0 0 0 0 0 0 0 0 0 ...\n",
      " $ healthy-2     : int [1:5735] 0 1 0 0 0 0 0 1 0 0 ...\n",
      " $ healthy-3     : int [1:5735] 0 0 0 0 0 0 0 0 0 0 ...\n",
      " $ healthy-4     : int [1:5735] 1 0 0 0 1 0 1 0 0 0 ...\n",
      " $ healthy-4003  : int [1:5735] 0 1 0 0 0 0 0 1 0 0 ...\n",
      " $ healthy-5     : int [1:5735] 0 0 0 0 0 0 0 0 0 0 ...\n"
     ]
    }
   ],
   "source": [
    "str(matrix_result %>%\n",
    "  filter(rowSums(. == 1) > 0))"
   ]
  },
  {
   "cell_type": "code",
   "execution_count": 20,
   "id": "3eb5bf25",
   "metadata": {},
   "outputs": [],
   "source": [
    "matrix_result <- matrix_result[rowSums(matrix_result[, -1] != 0, na.rm = TRUE) > 0, ]"
   ]
  },
  {
   "cell_type": "code",
   "execution_count": 21,
   "id": "c7937171",
   "metadata": {},
   "outputs": [],
   "source": [
    "# Example list of strings\n",
    "strings <- matrix_result$interaction_ID\n",
    "\n",
    "# Initialize empty vectors for each column\n",
    "sender_celltype <- c()\n",
    "sender_gene <- c()\n",
    "receiver_celltype <- c()\n",
    "receiver_gene <- c()\n",
    "\n",
    "# Loop through each string and split it\n",
    "for (string in strings) {\n",
    "  parts <- strsplit(string, \"_\")\n",
    "  \n",
    "  # Split the sender part\n",
    "  sender_parts <- strsplit(parts[[1]][1], \":\")\n",
    "  sender_celltype <- c(sender_celltype, sender_parts[[1]][1])\n",
    "  sender_gene <- c(sender_gene, sender_parts[[1]][2])\n",
    "  \n",
    "  # Split the receiver part\n",
    "  receiver_parts <- strsplit(parts[[1]][2], \":\")\n",
    "  receiver_celltype <- c(receiver_celltype, receiver_parts[[1]][1])\n",
    "  receiver_gene <- c(receiver_gene, receiver_parts[[1]][2])\n",
    "}\n",
    "\n",
    "# Create a dataframe with the splitted values\n",
    "df <- data.frame(\n",
    "  sender_celltype = sender_celltype,\n",
    "  sender_gene = sender_gene,\n",
    "  receiver_celltype = receiver_celltype,\n",
    "  receiver_gene = receiver_gene\n",
    ")\n",
    "\n"
   ]
  },
  {
   "cell_type": "code",
   "execution_count": 22,
   "id": "eee0799b",
   "metadata": {},
   "outputs": [
    {
     "ename": "ERROR",
     "evalue": "Error in subset(DEGs, cluster == sender_cell & gene == sender_gene): object 'DEGs' not found\n",
     "output_type": "error",
     "traceback": [
      "Error in subset(DEGs, cluster == sender_cell & gene == sender_gene): object 'DEGs' not found\nTraceback:\n",
      "1. subset(DEGs, cluster == sender_cell & gene == sender_gene)"
     ]
    }
   ],
   "source": [
    "# Create interaction annotation df with log2FC values\n",
    "for (row in 1:nrow(df)){\n",
    "    each_row <- df[row,]\n",
    "    sender_cell <- each_row$sender_celltype\n",
    "    sender_gene <- each_row$sender_gene\n",
    "    receiver_cell <- each_row$receiver_celltype\n",
    "    receiver_gene <- each_row$receiver_gene\n",
    "    \n",
    "    ligand_log2FC <- subset(DEGs, cluster == sender_cell & gene == sender_gene)$avg_log2FC\n",
    "    \n",
    "    ligand_p_val_adj <- subset(DEGs, cluster == sender_cell & gene == sender_gene)$p_val_adj\n",
    "    \n",
    "    receptor_log2FC <- subset(DEGs, cluster == receiver_cell & gene == receiver_gene)$avg_log2FC\n",
    "    \n",
    "    receptor_p_val_adj <- subset(DEGs, cluster == receiver_cell & gene == receiver_gene)$p_val_adj\n",
    "\n",
    "    if (length(ligand_log2FC) == 0) {\n",
    "        df[row,\"ligand_log2FC\"] <- NA\n",
    "        df[row,\"ligand_p_val_adj\"] <- NA\n",
    "    } else {\n",
    "        df[row,\"ligand_log2FC\"] <- ligand_log2FC\n",
    "        df[row,\"ligand_p_val_adj\"] <- ligand_p_val_adj\n",
    "    }\n",
    "    \n",
    "    if (length(receptor_log2FC) == 0) {\n",
    "        df[row,\"receptor_log2FC\"] <- NA\n",
    "        df[row,\"receptor_p_val_adj\"] <- NA\n",
    "    } else {\n",
    "        df[row,\"receptor_log2FC\"] <- receptor_log2FC\n",
    "        df[row,\"receptor_p_val_adj\"] <- receptor_p_val_adj\n",
    "    }\n",
    "}\n"
   ]
  },
  {
   "cell_type": "code",
   "execution_count": 30,
   "id": "05695ea6",
   "metadata": {},
   "outputs": [
    {
     "data": {
      "text/html": [
       "<table class=\"dataframe\">\n",
       "<caption>A data.frame: 62 × 8</caption>\n",
       "<thead>\n",
       "\t<tr><th></th><th scope=col>sender_celltype</th><th scope=col>sender_gene</th><th scope=col>receiver_celltype</th><th scope=col>receiver_gene</th><th scope=col>ligand_log2FC</th><th scope=col>ligand_p_val_adj</th><th scope=col>receptor_log2FC</th><th scope=col>receptor_p_val_adj</th></tr>\n",
       "\t<tr><th></th><th scope=col>&lt;chr&gt;</th><th scope=col>&lt;chr&gt;</th><th scope=col>&lt;chr&gt;</th><th scope=col>&lt;chr&gt;</th><th scope=col>&lt;dbl&gt;</th><th scope=col>&lt;dbl&gt;</th><th scope=col>&lt;dbl&gt;</th><th scope=col>&lt;dbl&gt;</th></tr>\n",
       "</thead>\n",
       "<tbody>\n",
       "\t<tr><th scope=row>103</th><td>Ery </td><td>MIF     </td><td>Mono</td><td>ACKR3</td><td>-0.4807752</td><td> 5.612281e-82</td><td> 0.2595831</td><td> 0.000000e+00</td></tr>\n",
       "\t<tr><th scope=row>216</th><td>Ery </td><td>MIF     </td><td>HSPC</td><td>CD44 </td><td>-0.4807752</td><td> 5.612281e-82</td><td> 0.3099310</td><td> 2.781776e-82</td></tr>\n",
       "\t<tr><th scope=row>219</th><td>Ery </td><td>MIF     </td><td>T   </td><td>CD44 </td><td>-0.4807752</td><td> 5.612281e-82</td><td> 0.2663509</td><td>7.130473e-170</td></tr>\n",
       "\t<tr><th scope=row>290</th><td>NK  </td><td>VIM     </td><td>HSPC</td><td>CD44 </td><td> 0.2885934</td><td> 8.814570e-40</td><td> 0.3099310</td><td> 2.781776e-82</td></tr>\n",
       "\t<tr><th scope=row>293</th><td>NK  </td><td>VIM     </td><td>T   </td><td>CD44 </td><td> 0.2885934</td><td> 8.814570e-40</td><td> 0.2663509</td><td>7.130473e-170</td></tr>\n",
       "\t<tr><th scope=row>314</th><td>T   </td><td>SRGN    </td><td>HSPC</td><td>CD44 </td><td> 0.3019970</td><td> 0.000000e+00</td><td> 0.3099310</td><td> 2.781776e-82</td></tr>\n",
       "\t<tr><th scope=row>317</th><td>T   </td><td>SRGN    </td><td>T   </td><td>CD44 </td><td> 0.3019970</td><td> 0.000000e+00</td><td> 0.2663509</td><td>7.130473e-170</td></tr>\n",
       "\t<tr><th scope=row>427</th><td>Mono</td><td>ACKR3   </td><td>Mono</td><td>ADM  </td><td> 0.2595831</td><td> 0.000000e+00</td><td> 0.4564719</td><td> 0.000000e+00</td></tr>\n",
       "\t<tr><th scope=row>441</th><td>Ery </td><td>CALM1   </td><td>B   </td><td>SELL </td><td>-0.4362474</td><td> 1.540198e-89</td><td>-0.2740404</td><td> 1.736327e-53</td></tr>\n",
       "\t<tr><th scope=row>553</th><td>Gran</td><td>ITGA4   </td><td>B   </td><td>CD81 </td><td> 0.2693447</td><td> 9.548232e-49</td><td>-0.2748321</td><td> 2.954843e-56</td></tr>\n",
       "\t<tr><th scope=row>568</th><td>Gran</td><td>HLA-DRA </td><td>B   </td><td>CD81 </td><td>-0.4478250</td><td> 4.553691e-82</td><td>-0.2748321</td><td> 2.954843e-56</td></tr>\n",
       "\t<tr><th scope=row>577</th><td>Mono</td><td>HLA-DRA </td><td>B   </td><td>CD81 </td><td>-0.5144044</td><td> 0.000000e+00</td><td>-0.2748321</td><td> 2.954843e-56</td></tr>\n",
       "\t<tr><th scope=row>590</th><td>Gran</td><td>HLA-DRB1</td><td>B   </td><td>CD81 </td><td>-0.4781948</td><td>1.215767e-138</td><td>-0.2748321</td><td> 2.954843e-56</td></tr>\n",
       "\t<tr><th scope=row>599</th><td>Mono</td><td>HLA-DRB1</td><td>B   </td><td>CD81 </td><td>-0.5103871</td><td> 0.000000e+00</td><td>-0.2748321</td><td> 2.954843e-56</td></tr>\n",
       "\t<tr><th scope=row>650</th><td>Mono</td><td>CALR    </td><td>NK  </td><td>HLA-F</td><td> 0.3016204</td><td> 0.000000e+00</td><td> 0.2569437</td><td> 5.348861e-25</td></tr>\n",
       "\t<tr><th scope=row>658</th><td>NK  </td><td>CALR    </td><td>NK  </td><td>HLA-F</td><td> 0.2762648</td><td> 3.152164e-31</td><td> 0.2569437</td><td> 5.348861e-25</td></tr>\n",
       "\t<tr><th scope=row>668</th><td>NK  </td><td>CD8A    </td><td>NK  </td><td>HLA-F</td><td> 0.2864859</td><td> 1.736999e-70</td><td> 0.2569437</td><td> 5.348861e-25</td></tr>\n",
       "\t<tr><th scope=row>696</th><td>Gran</td><td>S100A9  </td><td>Mono</td><td>CD36 </td><td>-0.3904363</td><td> 7.080928e-46</td><td> 0.2825379</td><td> 0.000000e+00</td></tr>\n",
       "\t<tr><th scope=row>713</th><td>Gran</td><td>S100A8  </td><td>Mono</td><td>CD36 </td><td>-0.3863276</td><td> 1.671713e-71</td><td> 0.2825379</td><td> 0.000000e+00</td></tr>\n",
       "\t<tr><th scope=row>741</th><td>NK  </td><td>TGFB1   </td><td>Mono</td><td>CXCR4</td><td> 0.2954128</td><td> 7.685857e-43</td><td> 0.3312534</td><td> 0.000000e+00</td></tr>\n",
       "\t<tr><th scope=row>742</th><td>NK  </td><td>TGFB1   </td><td>NK  </td><td>CXCR4</td><td> 0.2954128</td><td> 7.685857e-43</td><td> 0.4778400</td><td>2.592108e-128</td></tr>\n",
       "\t<tr><th scope=row>743</th><td>NK  </td><td>TGFB1   </td><td>T   </td><td>CXCR4</td><td> 0.2954128</td><td> 7.685857e-43</td><td> 0.4122167</td><td> 0.000000e+00</td></tr>\n",
       "\t<tr><th scope=row>749</th><td>T   </td><td>TGFB1   </td><td>Mono</td><td>CXCR4</td><td> 0.2742008</td><td>4.921795e-175</td><td> 0.3312534</td><td> 0.000000e+00</td></tr>\n",
       "\t<tr><th scope=row>750</th><td>T   </td><td>TGFB1   </td><td>NK  </td><td>CXCR4</td><td> 0.2742008</td><td>4.921795e-175</td><td> 0.4778400</td><td>2.592108e-128</td></tr>\n",
       "\t<tr><th scope=row>751</th><td>T   </td><td>TGFB1   </td><td>T   </td><td>CXCR4</td><td> 0.2742008</td><td>4.921795e-175</td><td> 0.4122167</td><td> 0.000000e+00</td></tr>\n",
       "\t<tr><th scope=row>781</th><td>Ery </td><td>MIF     </td><td>Mono</td><td>CXCR4</td><td>-0.4807752</td><td> 5.612281e-82</td><td> 0.3312534</td><td> 0.000000e+00</td></tr>\n",
       "\t<tr><th scope=row>782</th><td>Ery </td><td>MIF     </td><td>NK  </td><td>CXCR4</td><td>-0.4807752</td><td> 5.612281e-82</td><td> 0.4778400</td><td>2.592108e-128</td></tr>\n",
       "\t<tr><th scope=row>783</th><td>Ery </td><td>MIF     </td><td>T   </td><td>CXCR4</td><td>-0.4807752</td><td> 5.612281e-82</td><td> 0.4122167</td><td> 0.000000e+00</td></tr>\n",
       "\t<tr><th scope=row>891</th><td>Mono</td><td>ACKR3   </td><td>Mono</td><td>CXCR4</td><td> 0.2595831</td><td> 0.000000e+00</td><td> 0.3312534</td><td> 0.000000e+00</td></tr>\n",
       "\t<tr><th scope=row>892</th><td>Mono</td><td>ACKR3   </td><td>NK  </td><td>CXCR4</td><td> 0.2595831</td><td> 0.000000e+00</td><td> 0.4778400</td><td>2.592108e-128</td></tr>\n",
       "\t<tr><th scope=row>⋮</th><td>⋮</td><td>⋮</td><td>⋮</td><td>⋮</td><td>⋮</td><td>⋮</td><td>⋮</td><td>⋮</td></tr>\n",
       "\t<tr><th scope=row>1163</th><td>Mono</td><td>HLA-DPA1</td><td>Mono</td><td>TNFSF9 </td><td>-0.4408790</td><td> 0.000000e+00</td><td> 0.3002600</td><td> 0.000000e+00</td></tr>\n",
       "\t<tr><th scope=row>1238</th><td>Gran</td><td>S100A8  </td><td>B   </td><td>CD69   </td><td>-0.3863276</td><td> 1.671713e-71</td><td> 0.3425042</td><td> 5.253434e-85</td></tr>\n",
       "\t<tr><th scope=row>1245</th><td>Gran</td><td>S100A8  </td><td>T   </td><td>CD69   </td><td>-0.3863276</td><td> 1.671713e-71</td><td> 0.2939413</td><td>3.458099e-191</td></tr>\n",
       "\t<tr><th scope=row>1266</th><td>NK  </td><td>LGALS1  </td><td>B   </td><td>CD69   </td><td> 0.2769630</td><td> 4.095038e-36</td><td> 0.3425042</td><td> 5.253434e-85</td></tr>\n",
       "\t<tr><th scope=row>1273</th><td>NK  </td><td>LGALS1  </td><td>T   </td><td>CD69   </td><td> 0.2769630</td><td> 4.095038e-36</td><td> 0.2939413</td><td>3.458099e-191</td></tr>\n",
       "\t<tr><th scope=row>1318</th><td>NK  </td><td>ITGB2   </td><td>Gran</td><td>S100A8 </td><td> 0.2768199</td><td> 1.826032e-30</td><td>-0.3863276</td><td> 1.671713e-71</td></tr>\n",
       "\t<tr><th scope=row>1338</th><td>NK  </td><td>ITGB2   </td><td>Gran</td><td>S100A9 </td><td> 0.2768199</td><td> 1.826032e-30</td><td>-0.3904363</td><td> 7.080928e-46</td></tr>\n",
       "\t<tr><th scope=row>1385</th><td>Gran</td><td>HLA-DRA </td><td>B   </td><td>CD53   </td><td>-0.4478250</td><td> 4.553691e-82</td><td>-0.2622543</td><td> 2.159003e-49</td></tr>\n",
       "\t<tr><th scope=row>1394</th><td>Mono</td><td>HLA-DRA </td><td>B   </td><td>CD53   </td><td>-0.5144044</td><td> 0.000000e+00</td><td>-0.2622543</td><td> 2.159003e-49</td></tr>\n",
       "\t<tr><th scope=row>1407</th><td>Gran</td><td>HLA-DRB1</td><td>B   </td><td>CD53   </td><td>-0.4781948</td><td>1.215767e-138</td><td>-0.2622543</td><td> 2.159003e-49</td></tr>\n",
       "\t<tr><th scope=row>1416</th><td>Mono</td><td>HLA-DRB1</td><td>B   </td><td>CD53   </td><td>-0.5103871</td><td> 0.000000e+00</td><td>-0.2622543</td><td> 2.159003e-49</td></tr>\n",
       "\t<tr><th scope=row>1476</th><td>Gran</td><td>ITGA4   </td><td>Ery </td><td>CD82   </td><td> 0.2693447</td><td> 9.548232e-49</td><td>-0.2656010</td><td> 1.928710e-41</td></tr>\n",
       "\t<tr><th scope=row>1490</th><td>Gran</td><td>HLA-DRA </td><td>Ery </td><td>CD82   </td><td>-0.4478250</td><td> 4.553691e-82</td><td>-0.2656010</td><td> 1.928710e-41</td></tr>\n",
       "\t<tr><th scope=row>1498</th><td>Mono</td><td>HLA-DRA </td><td>Ery </td><td>CD82   </td><td>-0.5144044</td><td> 0.000000e+00</td><td>-0.2656010</td><td> 1.928710e-41</td></tr>\n",
       "\t<tr><th scope=row>1510</th><td>Gran</td><td>HLA-DRB1</td><td>Ery </td><td>CD82   </td><td>-0.4781948</td><td>1.215767e-138</td><td>-0.2656010</td><td> 1.928710e-41</td></tr>\n",
       "\t<tr><th scope=row>1518</th><td>Mono</td><td>HLA-DRB1</td><td>Ery </td><td>CD82   </td><td>-0.5103871</td><td> 0.000000e+00</td><td>-0.2656010</td><td> 1.928710e-41</td></tr>\n",
       "\t<tr><th scope=row>1562</th><td>Mono</td><td>CD36    </td><td>Gran</td><td>S100A12</td><td> 0.2825379</td><td> 0.000000e+00</td><td>-0.3258402</td><td> 1.744210e-45</td></tr>\n",
       "\t<tr><th scope=row>1579</th><td>Mono</td><td>CD36    </td><td>Mono</td><td>CD9    </td><td> 0.2825379</td><td> 0.000000e+00</td><td> 0.3529761</td><td> 0.000000e+00</td></tr>\n",
       "\t<tr><th scope=row>1588</th><td>Gran</td><td>ITGA4   </td><td>Mono</td><td>CD9    </td><td> 0.2693447</td><td> 9.548232e-49</td><td> 0.3529761</td><td> 0.000000e+00</td></tr>\n",
       "\t<tr><th scope=row>1601</th><td>Gran</td><td>HLA-DRA </td><td>Mono</td><td>CD9    </td><td>-0.4478250</td><td> 4.553691e-82</td><td> 0.3529761</td><td> 0.000000e+00</td></tr>\n",
       "\t<tr><th scope=row>1608</th><td>Mono</td><td>HLA-DRA </td><td>Mono</td><td>CD9    </td><td>-0.5144044</td><td> 0.000000e+00</td><td> 0.3529761</td><td> 0.000000e+00</td></tr>\n",
       "\t<tr><th scope=row>1717</th><td>HSPC</td><td>TYROBP  </td><td>Mono</td><td>TREM1  </td><td> 0.3045498</td><td> 1.371741e-42</td><td> 0.3776399</td><td> 0.000000e+00</td></tr>\n",
       "\t<tr><th scope=row>1727</th><td>Ery </td><td>CIRBP   </td><td>Mono</td><td>TREM1  </td><td>-0.3143408</td><td> 7.051041e-57</td><td> 0.3776399</td><td> 0.000000e+00</td></tr>\n",
       "\t<tr><th scope=row>1840</th><td>Gran</td><td>HLA-DRA </td><td>Ery </td><td>CD63   </td><td>-0.4478250</td><td> 4.553691e-82</td><td>-0.3775393</td><td> 2.435726e-92</td></tr>\n",
       "\t<tr><th scope=row>1843</th><td>Gran</td><td>HLA-DRA </td><td>Mono</td><td>CD63   </td><td>-0.4478250</td><td> 4.553691e-82</td><td> 0.2587554</td><td> 0.000000e+00</td></tr>\n",
       "\t<tr><th scope=row>1850</th><td>Mono</td><td>HLA-DRA </td><td>Ery </td><td>CD63   </td><td>-0.5144044</td><td> 0.000000e+00</td><td>-0.3775393</td><td> 2.435726e-92</td></tr>\n",
       "\t<tr><th scope=row>1853</th><td>Mono</td><td>HLA-DRA </td><td>Mono</td><td>CD63   </td><td>-0.5144044</td><td> 0.000000e+00</td><td> 0.2587554</td><td> 0.000000e+00</td></tr>\n",
       "\t<tr><th scope=row>2165</th><td>NK  </td><td>ITGB2   </td><td>HSPC</td><td>GP1BB  </td><td> 0.2768199</td><td> 1.826032e-30</td><td>-0.3014028</td><td> 2.218954e-82</td></tr>\n",
       "\t<tr><th scope=row>2199</th><td>HSPC</td><td>CD44    </td><td>Ery </td><td>EPCAM  </td><td> 0.3099310</td><td> 2.781776e-82</td><td>-0.5041896</td><td>3.594451e-138</td></tr>\n",
       "\t<tr><th scope=row>2203</th><td>T   </td><td>CD44    </td><td>Ery </td><td>EPCAM  </td><td> 0.2663509</td><td>7.130473e-170</td><td>-0.5041896</td><td>3.594451e-138</td></tr>\n",
       "</tbody>\n",
       "</table>\n"
      ],
      "text/latex": [
       "A data.frame: 62 × 8\n",
       "\\begin{tabular}{r|llllllll}\n",
       "  & sender\\_celltype & sender\\_gene & receiver\\_celltype & receiver\\_gene & ligand\\_log2FC & ligand\\_p\\_val\\_adj & receptor\\_log2FC & receptor\\_p\\_val\\_adj\\\\\n",
       "  & <chr> & <chr> & <chr> & <chr> & <dbl> & <dbl> & <dbl> & <dbl>\\\\\n",
       "\\hline\n",
       "\t103 & Ery  & MIF      & Mono & ACKR3 & -0.4807752 &  5.612281e-82 &  0.2595831 &  0.000000e+00\\\\\n",
       "\t216 & Ery  & MIF      & HSPC & CD44  & -0.4807752 &  5.612281e-82 &  0.3099310 &  2.781776e-82\\\\\n",
       "\t219 & Ery  & MIF      & T    & CD44  & -0.4807752 &  5.612281e-82 &  0.2663509 & 7.130473e-170\\\\\n",
       "\t290 & NK   & VIM      & HSPC & CD44  &  0.2885934 &  8.814570e-40 &  0.3099310 &  2.781776e-82\\\\\n",
       "\t293 & NK   & VIM      & T    & CD44  &  0.2885934 &  8.814570e-40 &  0.2663509 & 7.130473e-170\\\\\n",
       "\t314 & T    & SRGN     & HSPC & CD44  &  0.3019970 &  0.000000e+00 &  0.3099310 &  2.781776e-82\\\\\n",
       "\t317 & T    & SRGN     & T    & CD44  &  0.3019970 &  0.000000e+00 &  0.2663509 & 7.130473e-170\\\\\n",
       "\t427 & Mono & ACKR3    & Mono & ADM   &  0.2595831 &  0.000000e+00 &  0.4564719 &  0.000000e+00\\\\\n",
       "\t441 & Ery  & CALM1    & B    & SELL  & -0.4362474 &  1.540198e-89 & -0.2740404 &  1.736327e-53\\\\\n",
       "\t553 & Gran & ITGA4    & B    & CD81  &  0.2693447 &  9.548232e-49 & -0.2748321 &  2.954843e-56\\\\\n",
       "\t568 & Gran & HLA-DRA  & B    & CD81  & -0.4478250 &  4.553691e-82 & -0.2748321 &  2.954843e-56\\\\\n",
       "\t577 & Mono & HLA-DRA  & B    & CD81  & -0.5144044 &  0.000000e+00 & -0.2748321 &  2.954843e-56\\\\\n",
       "\t590 & Gran & HLA-DRB1 & B    & CD81  & -0.4781948 & 1.215767e-138 & -0.2748321 &  2.954843e-56\\\\\n",
       "\t599 & Mono & HLA-DRB1 & B    & CD81  & -0.5103871 &  0.000000e+00 & -0.2748321 &  2.954843e-56\\\\\n",
       "\t650 & Mono & CALR     & NK   & HLA-F &  0.3016204 &  0.000000e+00 &  0.2569437 &  5.348861e-25\\\\\n",
       "\t658 & NK   & CALR     & NK   & HLA-F &  0.2762648 &  3.152164e-31 &  0.2569437 &  5.348861e-25\\\\\n",
       "\t668 & NK   & CD8A     & NK   & HLA-F &  0.2864859 &  1.736999e-70 &  0.2569437 &  5.348861e-25\\\\\n",
       "\t696 & Gran & S100A9   & Mono & CD36  & -0.3904363 &  7.080928e-46 &  0.2825379 &  0.000000e+00\\\\\n",
       "\t713 & Gran & S100A8   & Mono & CD36  & -0.3863276 &  1.671713e-71 &  0.2825379 &  0.000000e+00\\\\\n",
       "\t741 & NK   & TGFB1    & Mono & CXCR4 &  0.2954128 &  7.685857e-43 &  0.3312534 &  0.000000e+00\\\\\n",
       "\t742 & NK   & TGFB1    & NK   & CXCR4 &  0.2954128 &  7.685857e-43 &  0.4778400 & 2.592108e-128\\\\\n",
       "\t743 & NK   & TGFB1    & T    & CXCR4 &  0.2954128 &  7.685857e-43 &  0.4122167 &  0.000000e+00\\\\\n",
       "\t749 & T    & TGFB1    & Mono & CXCR4 &  0.2742008 & 4.921795e-175 &  0.3312534 &  0.000000e+00\\\\\n",
       "\t750 & T    & TGFB1    & NK   & CXCR4 &  0.2742008 & 4.921795e-175 &  0.4778400 & 2.592108e-128\\\\\n",
       "\t751 & T    & TGFB1    & T    & CXCR4 &  0.2742008 & 4.921795e-175 &  0.4122167 &  0.000000e+00\\\\\n",
       "\t781 & Ery  & MIF      & Mono & CXCR4 & -0.4807752 &  5.612281e-82 &  0.3312534 &  0.000000e+00\\\\\n",
       "\t782 & Ery  & MIF      & NK   & CXCR4 & -0.4807752 &  5.612281e-82 &  0.4778400 & 2.592108e-128\\\\\n",
       "\t783 & Ery  & MIF      & T    & CXCR4 & -0.4807752 &  5.612281e-82 &  0.4122167 &  0.000000e+00\\\\\n",
       "\t891 & Mono & ACKR3    & Mono & CXCR4 &  0.2595831 &  0.000000e+00 &  0.3312534 &  0.000000e+00\\\\\n",
       "\t892 & Mono & ACKR3    & NK   & CXCR4 &  0.2595831 &  0.000000e+00 &  0.4778400 & 2.592108e-128\\\\\n",
       "\t⋮ & ⋮ & ⋮ & ⋮ & ⋮ & ⋮ & ⋮ & ⋮ & ⋮\\\\\n",
       "\t1163 & Mono & HLA-DPA1 & Mono & TNFSF9  & -0.4408790 &  0.000000e+00 &  0.3002600 &  0.000000e+00\\\\\n",
       "\t1238 & Gran & S100A8   & B    & CD69    & -0.3863276 &  1.671713e-71 &  0.3425042 &  5.253434e-85\\\\\n",
       "\t1245 & Gran & S100A8   & T    & CD69    & -0.3863276 &  1.671713e-71 &  0.2939413 & 3.458099e-191\\\\\n",
       "\t1266 & NK   & LGALS1   & B    & CD69    &  0.2769630 &  4.095038e-36 &  0.3425042 &  5.253434e-85\\\\\n",
       "\t1273 & NK   & LGALS1   & T    & CD69    &  0.2769630 &  4.095038e-36 &  0.2939413 & 3.458099e-191\\\\\n",
       "\t1318 & NK   & ITGB2    & Gran & S100A8  &  0.2768199 &  1.826032e-30 & -0.3863276 &  1.671713e-71\\\\\n",
       "\t1338 & NK   & ITGB2    & Gran & S100A9  &  0.2768199 &  1.826032e-30 & -0.3904363 &  7.080928e-46\\\\\n",
       "\t1385 & Gran & HLA-DRA  & B    & CD53    & -0.4478250 &  4.553691e-82 & -0.2622543 &  2.159003e-49\\\\\n",
       "\t1394 & Mono & HLA-DRA  & B    & CD53    & -0.5144044 &  0.000000e+00 & -0.2622543 &  2.159003e-49\\\\\n",
       "\t1407 & Gran & HLA-DRB1 & B    & CD53    & -0.4781948 & 1.215767e-138 & -0.2622543 &  2.159003e-49\\\\\n",
       "\t1416 & Mono & HLA-DRB1 & B    & CD53    & -0.5103871 &  0.000000e+00 & -0.2622543 &  2.159003e-49\\\\\n",
       "\t1476 & Gran & ITGA4    & Ery  & CD82    &  0.2693447 &  9.548232e-49 & -0.2656010 &  1.928710e-41\\\\\n",
       "\t1490 & Gran & HLA-DRA  & Ery  & CD82    & -0.4478250 &  4.553691e-82 & -0.2656010 &  1.928710e-41\\\\\n",
       "\t1498 & Mono & HLA-DRA  & Ery  & CD82    & -0.5144044 &  0.000000e+00 & -0.2656010 &  1.928710e-41\\\\\n",
       "\t1510 & Gran & HLA-DRB1 & Ery  & CD82    & -0.4781948 & 1.215767e-138 & -0.2656010 &  1.928710e-41\\\\\n",
       "\t1518 & Mono & HLA-DRB1 & Ery  & CD82    & -0.5103871 &  0.000000e+00 & -0.2656010 &  1.928710e-41\\\\\n",
       "\t1562 & Mono & CD36     & Gran & S100A12 &  0.2825379 &  0.000000e+00 & -0.3258402 &  1.744210e-45\\\\\n",
       "\t1579 & Mono & CD36     & Mono & CD9     &  0.2825379 &  0.000000e+00 &  0.3529761 &  0.000000e+00\\\\\n",
       "\t1588 & Gran & ITGA4    & Mono & CD9     &  0.2693447 &  9.548232e-49 &  0.3529761 &  0.000000e+00\\\\\n",
       "\t1601 & Gran & HLA-DRA  & Mono & CD9     & -0.4478250 &  4.553691e-82 &  0.3529761 &  0.000000e+00\\\\\n",
       "\t1608 & Mono & HLA-DRA  & Mono & CD9     & -0.5144044 &  0.000000e+00 &  0.3529761 &  0.000000e+00\\\\\n",
       "\t1717 & HSPC & TYROBP   & Mono & TREM1   &  0.3045498 &  1.371741e-42 &  0.3776399 &  0.000000e+00\\\\\n",
       "\t1727 & Ery  & CIRBP    & Mono & TREM1   & -0.3143408 &  7.051041e-57 &  0.3776399 &  0.000000e+00\\\\\n",
       "\t1840 & Gran & HLA-DRA  & Ery  & CD63    & -0.4478250 &  4.553691e-82 & -0.3775393 &  2.435726e-92\\\\\n",
       "\t1843 & Gran & HLA-DRA  & Mono & CD63    & -0.4478250 &  4.553691e-82 &  0.2587554 &  0.000000e+00\\\\\n",
       "\t1850 & Mono & HLA-DRA  & Ery  & CD63    & -0.5144044 &  0.000000e+00 & -0.3775393 &  2.435726e-92\\\\\n",
       "\t1853 & Mono & HLA-DRA  & Mono & CD63    & -0.5144044 &  0.000000e+00 &  0.2587554 &  0.000000e+00\\\\\n",
       "\t2165 & NK   & ITGB2    & HSPC & GP1BB   &  0.2768199 &  1.826032e-30 & -0.3014028 &  2.218954e-82\\\\\n",
       "\t2199 & HSPC & CD44     & Ery  & EPCAM   &  0.3099310 &  2.781776e-82 & -0.5041896 & 3.594451e-138\\\\\n",
       "\t2203 & T    & CD44     & Ery  & EPCAM   &  0.2663509 & 7.130473e-170 & -0.5041896 & 3.594451e-138\\\\\n",
       "\\end{tabular}\n"
      ],
      "text/markdown": [
       "\n",
       "A data.frame: 62 × 8\n",
       "\n",
       "| <!--/--> | sender_celltype &lt;chr&gt; | sender_gene &lt;chr&gt; | receiver_celltype &lt;chr&gt; | receiver_gene &lt;chr&gt; | ligand_log2FC &lt;dbl&gt; | ligand_p_val_adj &lt;dbl&gt; | receptor_log2FC &lt;dbl&gt; | receptor_p_val_adj &lt;dbl&gt; |\n",
       "|---|---|---|---|---|---|---|---|---|\n",
       "| 103 | Ery  | MIF      | Mono | ACKR3 | -0.4807752 |  5.612281e-82 |  0.2595831 |  0.000000e+00 |\n",
       "| 216 | Ery  | MIF      | HSPC | CD44  | -0.4807752 |  5.612281e-82 |  0.3099310 |  2.781776e-82 |\n",
       "| 219 | Ery  | MIF      | T    | CD44  | -0.4807752 |  5.612281e-82 |  0.2663509 | 7.130473e-170 |\n",
       "| 290 | NK   | VIM      | HSPC | CD44  |  0.2885934 |  8.814570e-40 |  0.3099310 |  2.781776e-82 |\n",
       "| 293 | NK   | VIM      | T    | CD44  |  0.2885934 |  8.814570e-40 |  0.2663509 | 7.130473e-170 |\n",
       "| 314 | T    | SRGN     | HSPC | CD44  |  0.3019970 |  0.000000e+00 |  0.3099310 |  2.781776e-82 |\n",
       "| 317 | T    | SRGN     | T    | CD44  |  0.3019970 |  0.000000e+00 |  0.2663509 | 7.130473e-170 |\n",
       "| 427 | Mono | ACKR3    | Mono | ADM   |  0.2595831 |  0.000000e+00 |  0.4564719 |  0.000000e+00 |\n",
       "| 441 | Ery  | CALM1    | B    | SELL  | -0.4362474 |  1.540198e-89 | -0.2740404 |  1.736327e-53 |\n",
       "| 553 | Gran | ITGA4    | B    | CD81  |  0.2693447 |  9.548232e-49 | -0.2748321 |  2.954843e-56 |\n",
       "| 568 | Gran | HLA-DRA  | B    | CD81  | -0.4478250 |  4.553691e-82 | -0.2748321 |  2.954843e-56 |\n",
       "| 577 | Mono | HLA-DRA  | B    | CD81  | -0.5144044 |  0.000000e+00 | -0.2748321 |  2.954843e-56 |\n",
       "| 590 | Gran | HLA-DRB1 | B    | CD81  | -0.4781948 | 1.215767e-138 | -0.2748321 |  2.954843e-56 |\n",
       "| 599 | Mono | HLA-DRB1 | B    | CD81  | -0.5103871 |  0.000000e+00 | -0.2748321 |  2.954843e-56 |\n",
       "| 650 | Mono | CALR     | NK   | HLA-F |  0.3016204 |  0.000000e+00 |  0.2569437 |  5.348861e-25 |\n",
       "| 658 | NK   | CALR     | NK   | HLA-F |  0.2762648 |  3.152164e-31 |  0.2569437 |  5.348861e-25 |\n",
       "| 668 | NK   | CD8A     | NK   | HLA-F |  0.2864859 |  1.736999e-70 |  0.2569437 |  5.348861e-25 |\n",
       "| 696 | Gran | S100A9   | Mono | CD36  | -0.3904363 |  7.080928e-46 |  0.2825379 |  0.000000e+00 |\n",
       "| 713 | Gran | S100A8   | Mono | CD36  | -0.3863276 |  1.671713e-71 |  0.2825379 |  0.000000e+00 |\n",
       "| 741 | NK   | TGFB1    | Mono | CXCR4 |  0.2954128 |  7.685857e-43 |  0.3312534 |  0.000000e+00 |\n",
       "| 742 | NK   | TGFB1    | NK   | CXCR4 |  0.2954128 |  7.685857e-43 |  0.4778400 | 2.592108e-128 |\n",
       "| 743 | NK   | TGFB1    | T    | CXCR4 |  0.2954128 |  7.685857e-43 |  0.4122167 |  0.000000e+00 |\n",
       "| 749 | T    | TGFB1    | Mono | CXCR4 |  0.2742008 | 4.921795e-175 |  0.3312534 |  0.000000e+00 |\n",
       "| 750 | T    | TGFB1    | NK   | CXCR4 |  0.2742008 | 4.921795e-175 |  0.4778400 | 2.592108e-128 |\n",
       "| 751 | T    | TGFB1    | T    | CXCR4 |  0.2742008 | 4.921795e-175 |  0.4122167 |  0.000000e+00 |\n",
       "| 781 | Ery  | MIF      | Mono | CXCR4 | -0.4807752 |  5.612281e-82 |  0.3312534 |  0.000000e+00 |\n",
       "| 782 | Ery  | MIF      | NK   | CXCR4 | -0.4807752 |  5.612281e-82 |  0.4778400 | 2.592108e-128 |\n",
       "| 783 | Ery  | MIF      | T    | CXCR4 | -0.4807752 |  5.612281e-82 |  0.4122167 |  0.000000e+00 |\n",
       "| 891 | Mono | ACKR3    | Mono | CXCR4 |  0.2595831 |  0.000000e+00 |  0.3312534 |  0.000000e+00 |\n",
       "| 892 | Mono | ACKR3    | NK   | CXCR4 |  0.2595831 |  0.000000e+00 |  0.4778400 | 2.592108e-128 |\n",
       "| ⋮ | ⋮ | ⋮ | ⋮ | ⋮ | ⋮ | ⋮ | ⋮ | ⋮ |\n",
       "| 1163 | Mono | HLA-DPA1 | Mono | TNFSF9  | -0.4408790 |  0.000000e+00 |  0.3002600 |  0.000000e+00 |\n",
       "| 1238 | Gran | S100A8   | B    | CD69    | -0.3863276 |  1.671713e-71 |  0.3425042 |  5.253434e-85 |\n",
       "| 1245 | Gran | S100A8   | T    | CD69    | -0.3863276 |  1.671713e-71 |  0.2939413 | 3.458099e-191 |\n",
       "| 1266 | NK   | LGALS1   | B    | CD69    |  0.2769630 |  4.095038e-36 |  0.3425042 |  5.253434e-85 |\n",
       "| 1273 | NK   | LGALS1   | T    | CD69    |  0.2769630 |  4.095038e-36 |  0.2939413 | 3.458099e-191 |\n",
       "| 1318 | NK   | ITGB2    | Gran | S100A8  |  0.2768199 |  1.826032e-30 | -0.3863276 |  1.671713e-71 |\n",
       "| 1338 | NK   | ITGB2    | Gran | S100A9  |  0.2768199 |  1.826032e-30 | -0.3904363 |  7.080928e-46 |\n",
       "| 1385 | Gran | HLA-DRA  | B    | CD53    | -0.4478250 |  4.553691e-82 | -0.2622543 |  2.159003e-49 |\n",
       "| 1394 | Mono | HLA-DRA  | B    | CD53    | -0.5144044 |  0.000000e+00 | -0.2622543 |  2.159003e-49 |\n",
       "| 1407 | Gran | HLA-DRB1 | B    | CD53    | -0.4781948 | 1.215767e-138 | -0.2622543 |  2.159003e-49 |\n",
       "| 1416 | Mono | HLA-DRB1 | B    | CD53    | -0.5103871 |  0.000000e+00 | -0.2622543 |  2.159003e-49 |\n",
       "| 1476 | Gran | ITGA4    | Ery  | CD82    |  0.2693447 |  9.548232e-49 | -0.2656010 |  1.928710e-41 |\n",
       "| 1490 | Gran | HLA-DRA  | Ery  | CD82    | -0.4478250 |  4.553691e-82 | -0.2656010 |  1.928710e-41 |\n",
       "| 1498 | Mono | HLA-DRA  | Ery  | CD82    | -0.5144044 |  0.000000e+00 | -0.2656010 |  1.928710e-41 |\n",
       "| 1510 | Gran | HLA-DRB1 | Ery  | CD82    | -0.4781948 | 1.215767e-138 | -0.2656010 |  1.928710e-41 |\n",
       "| 1518 | Mono | HLA-DRB1 | Ery  | CD82    | -0.5103871 |  0.000000e+00 | -0.2656010 |  1.928710e-41 |\n",
       "| 1562 | Mono | CD36     | Gran | S100A12 |  0.2825379 |  0.000000e+00 | -0.3258402 |  1.744210e-45 |\n",
       "| 1579 | Mono | CD36     | Mono | CD9     |  0.2825379 |  0.000000e+00 |  0.3529761 |  0.000000e+00 |\n",
       "| 1588 | Gran | ITGA4    | Mono | CD9     |  0.2693447 |  9.548232e-49 |  0.3529761 |  0.000000e+00 |\n",
       "| 1601 | Gran | HLA-DRA  | Mono | CD9     | -0.4478250 |  4.553691e-82 |  0.3529761 |  0.000000e+00 |\n",
       "| 1608 | Mono | HLA-DRA  | Mono | CD9     | -0.5144044 |  0.000000e+00 |  0.3529761 |  0.000000e+00 |\n",
       "| 1717 | HSPC | TYROBP   | Mono | TREM1   |  0.3045498 |  1.371741e-42 |  0.3776399 |  0.000000e+00 |\n",
       "| 1727 | Ery  | CIRBP    | Mono | TREM1   | -0.3143408 |  7.051041e-57 |  0.3776399 |  0.000000e+00 |\n",
       "| 1840 | Gran | HLA-DRA  | Ery  | CD63    | -0.4478250 |  4.553691e-82 | -0.3775393 |  2.435726e-92 |\n",
       "| 1843 | Gran | HLA-DRA  | Mono | CD63    | -0.4478250 |  4.553691e-82 |  0.2587554 |  0.000000e+00 |\n",
       "| 1850 | Mono | HLA-DRA  | Ery  | CD63    | -0.5144044 |  0.000000e+00 | -0.3775393 |  2.435726e-92 |\n",
       "| 1853 | Mono | HLA-DRA  | Mono | CD63    | -0.5144044 |  0.000000e+00 |  0.2587554 |  0.000000e+00 |\n",
       "| 2165 | NK   | ITGB2    | HSPC | GP1BB   |  0.2768199 |  1.826032e-30 | -0.3014028 |  2.218954e-82 |\n",
       "| 2199 | HSPC | CD44     | Ery  | EPCAM   |  0.3099310 |  2.781776e-82 | -0.5041896 | 3.594451e-138 |\n",
       "| 2203 | T    | CD44     | Ery  | EPCAM   |  0.2663509 | 7.130473e-170 | -0.5041896 | 3.594451e-138 |\n",
       "\n"
      ],
      "text/plain": [
       "     sender_celltype sender_gene receiver_celltype receiver_gene ligand_log2FC\n",
       "103  Ery             MIF         Mono              ACKR3         -0.4807752   \n",
       "216  Ery             MIF         HSPC              CD44          -0.4807752   \n",
       "219  Ery             MIF         T                 CD44          -0.4807752   \n",
       "290  NK              VIM         HSPC              CD44           0.2885934   \n",
       "293  NK              VIM         T                 CD44           0.2885934   \n",
       "314  T               SRGN        HSPC              CD44           0.3019970   \n",
       "317  T               SRGN        T                 CD44           0.3019970   \n",
       "427  Mono            ACKR3       Mono              ADM            0.2595831   \n",
       "441  Ery             CALM1       B                 SELL          -0.4362474   \n",
       "553  Gran            ITGA4       B                 CD81           0.2693447   \n",
       "568  Gran            HLA-DRA     B                 CD81          -0.4478250   \n",
       "577  Mono            HLA-DRA     B                 CD81          -0.5144044   \n",
       "590  Gran            HLA-DRB1    B                 CD81          -0.4781948   \n",
       "599  Mono            HLA-DRB1    B                 CD81          -0.5103871   \n",
       "650  Mono            CALR        NK                HLA-F          0.3016204   \n",
       "658  NK              CALR        NK                HLA-F          0.2762648   \n",
       "668  NK              CD8A        NK                HLA-F          0.2864859   \n",
       "696  Gran            S100A9      Mono              CD36          -0.3904363   \n",
       "713  Gran            S100A8      Mono              CD36          -0.3863276   \n",
       "741  NK              TGFB1       Mono              CXCR4          0.2954128   \n",
       "742  NK              TGFB1       NK                CXCR4          0.2954128   \n",
       "743  NK              TGFB1       T                 CXCR4          0.2954128   \n",
       "749  T               TGFB1       Mono              CXCR4          0.2742008   \n",
       "750  T               TGFB1       NK                CXCR4          0.2742008   \n",
       "751  T               TGFB1       T                 CXCR4          0.2742008   \n",
       "781  Ery             MIF         Mono              CXCR4         -0.4807752   \n",
       "782  Ery             MIF         NK                CXCR4         -0.4807752   \n",
       "783  Ery             MIF         T                 CXCR4         -0.4807752   \n",
       "891  Mono            ACKR3       Mono              CXCR4          0.2595831   \n",
       "892  Mono            ACKR3       NK                CXCR4          0.2595831   \n",
       "⋮    ⋮               ⋮           ⋮                 ⋮             ⋮            \n",
       "1163 Mono            HLA-DPA1    Mono              TNFSF9        -0.4408790   \n",
       "1238 Gran            S100A8      B                 CD69          -0.3863276   \n",
       "1245 Gran            S100A8      T                 CD69          -0.3863276   \n",
       "1266 NK              LGALS1      B                 CD69           0.2769630   \n",
       "1273 NK              LGALS1      T                 CD69           0.2769630   \n",
       "1318 NK              ITGB2       Gran              S100A8         0.2768199   \n",
       "1338 NK              ITGB2       Gran              S100A9         0.2768199   \n",
       "1385 Gran            HLA-DRA     B                 CD53          -0.4478250   \n",
       "1394 Mono            HLA-DRA     B                 CD53          -0.5144044   \n",
       "1407 Gran            HLA-DRB1    B                 CD53          -0.4781948   \n",
       "1416 Mono            HLA-DRB1    B                 CD53          -0.5103871   \n",
       "1476 Gran            ITGA4       Ery               CD82           0.2693447   \n",
       "1490 Gran            HLA-DRA     Ery               CD82          -0.4478250   \n",
       "1498 Mono            HLA-DRA     Ery               CD82          -0.5144044   \n",
       "1510 Gran            HLA-DRB1    Ery               CD82          -0.4781948   \n",
       "1518 Mono            HLA-DRB1    Ery               CD82          -0.5103871   \n",
       "1562 Mono            CD36        Gran              S100A12        0.2825379   \n",
       "1579 Mono            CD36        Mono              CD9            0.2825379   \n",
       "1588 Gran            ITGA4       Mono              CD9            0.2693447   \n",
       "1601 Gran            HLA-DRA     Mono              CD9           -0.4478250   \n",
       "1608 Mono            HLA-DRA     Mono              CD9           -0.5144044   \n",
       "1717 HSPC            TYROBP      Mono              TREM1          0.3045498   \n",
       "1727 Ery             CIRBP       Mono              TREM1         -0.3143408   \n",
       "1840 Gran            HLA-DRA     Ery               CD63          -0.4478250   \n",
       "1843 Gran            HLA-DRA     Mono              CD63          -0.4478250   \n",
       "1850 Mono            HLA-DRA     Ery               CD63          -0.5144044   \n",
       "1853 Mono            HLA-DRA     Mono              CD63          -0.5144044   \n",
       "2165 NK              ITGB2       HSPC              GP1BB          0.2768199   \n",
       "2199 HSPC            CD44        Ery               EPCAM          0.3099310   \n",
       "2203 T               CD44        Ery               EPCAM          0.2663509   \n",
       "     ligand_p_val_adj receptor_log2FC receptor_p_val_adj\n",
       "103   5.612281e-82     0.2595831       0.000000e+00     \n",
       "216   5.612281e-82     0.3099310       2.781776e-82     \n",
       "219   5.612281e-82     0.2663509      7.130473e-170     \n",
       "290   8.814570e-40     0.3099310       2.781776e-82     \n",
       "293   8.814570e-40     0.2663509      7.130473e-170     \n",
       "314   0.000000e+00     0.3099310       2.781776e-82     \n",
       "317   0.000000e+00     0.2663509      7.130473e-170     \n",
       "427   0.000000e+00     0.4564719       0.000000e+00     \n",
       "441   1.540198e-89    -0.2740404       1.736327e-53     \n",
       "553   9.548232e-49    -0.2748321       2.954843e-56     \n",
       "568   4.553691e-82    -0.2748321       2.954843e-56     \n",
       "577   0.000000e+00    -0.2748321       2.954843e-56     \n",
       "590  1.215767e-138    -0.2748321       2.954843e-56     \n",
       "599   0.000000e+00    -0.2748321       2.954843e-56     \n",
       "650   0.000000e+00     0.2569437       5.348861e-25     \n",
       "658   3.152164e-31     0.2569437       5.348861e-25     \n",
       "668   1.736999e-70     0.2569437       5.348861e-25     \n",
       "696   7.080928e-46     0.2825379       0.000000e+00     \n",
       "713   1.671713e-71     0.2825379       0.000000e+00     \n",
       "741   7.685857e-43     0.3312534       0.000000e+00     \n",
       "742   7.685857e-43     0.4778400      2.592108e-128     \n",
       "743   7.685857e-43     0.4122167       0.000000e+00     \n",
       "749  4.921795e-175     0.3312534       0.000000e+00     \n",
       "750  4.921795e-175     0.4778400      2.592108e-128     \n",
       "751  4.921795e-175     0.4122167       0.000000e+00     \n",
       "781   5.612281e-82     0.3312534       0.000000e+00     \n",
       "782   5.612281e-82     0.4778400      2.592108e-128     \n",
       "783   5.612281e-82     0.4122167       0.000000e+00     \n",
       "891   0.000000e+00     0.3312534       0.000000e+00     \n",
       "892   0.000000e+00     0.4778400      2.592108e-128     \n",
       "⋮    ⋮                ⋮               ⋮                 \n",
       "1163  0.000000e+00     0.3002600       0.000000e+00     \n",
       "1238  1.671713e-71     0.3425042       5.253434e-85     \n",
       "1245  1.671713e-71     0.2939413      3.458099e-191     \n",
       "1266  4.095038e-36     0.3425042       5.253434e-85     \n",
       "1273  4.095038e-36     0.2939413      3.458099e-191     \n",
       "1318  1.826032e-30    -0.3863276       1.671713e-71     \n",
       "1338  1.826032e-30    -0.3904363       7.080928e-46     \n",
       "1385  4.553691e-82    -0.2622543       2.159003e-49     \n",
       "1394  0.000000e+00    -0.2622543       2.159003e-49     \n",
       "1407 1.215767e-138    -0.2622543       2.159003e-49     \n",
       "1416  0.000000e+00    -0.2622543       2.159003e-49     \n",
       "1476  9.548232e-49    -0.2656010       1.928710e-41     \n",
       "1490  4.553691e-82    -0.2656010       1.928710e-41     \n",
       "1498  0.000000e+00    -0.2656010       1.928710e-41     \n",
       "1510 1.215767e-138    -0.2656010       1.928710e-41     \n",
       "1518  0.000000e+00    -0.2656010       1.928710e-41     \n",
       "1562  0.000000e+00    -0.3258402       1.744210e-45     \n",
       "1579  0.000000e+00     0.3529761       0.000000e+00     \n",
       "1588  9.548232e-49     0.3529761       0.000000e+00     \n",
       "1601  4.553691e-82     0.3529761       0.000000e+00     \n",
       "1608  0.000000e+00     0.3529761       0.000000e+00     \n",
       "1717  1.371741e-42     0.3776399       0.000000e+00     \n",
       "1727  7.051041e-57     0.3776399       0.000000e+00     \n",
       "1840  4.553691e-82    -0.3775393       2.435726e-92     \n",
       "1843  4.553691e-82     0.2587554       0.000000e+00     \n",
       "1850  0.000000e+00    -0.3775393       2.435726e-92     \n",
       "1853  0.000000e+00     0.2587554       0.000000e+00     \n",
       "2165  1.826032e-30    -0.3014028       2.218954e-82     \n",
       "2199  2.781776e-82    -0.5041896      3.594451e-138     \n",
       "2203 7.130473e-170    -0.5041896      3.594451e-138     "
      ]
     },
     "metadata": {},
     "output_type": "display_data"
    }
   ],
   "source": [
    "#see where both components (sender/receiever) have log2FC value\n",
    "df[complete.cases(df$ligand_log2FC, df$receptor_log2FC), ]"
   ]
  },
  {
   "cell_type": "code",
   "execution_count": 31,
   "id": "78eb337a",
   "metadata": {},
   "outputs": [],
   "source": [
    "df[\"interaction_ID\"] <- paste0(df$sender_celltype, \":\",df$sender_gene , \"_\", df$receiver_celltype, \":\", df$receiver_gene)"
   ]
  },
  {
   "cell_type": "code",
   "execution_count": 32,
   "id": "1dd5dc2a",
   "metadata": {},
   "outputs": [
    {
     "data": {
      "text/html": [
       "<table class=\"dataframe\">\n",
       "<caption>A data.frame: 0 × 9</caption>\n",
       "<thead>\n",
       "\t<tr><th scope=col>sender_celltype</th><th scope=col>sender_gene</th><th scope=col>receiver_celltype</th><th scope=col>receiver_gene</th><th scope=col>ligand_log2FC</th><th scope=col>ligand_p_val_adj</th><th scope=col>receptor_log2FC</th><th scope=col>receptor_p_val_adj</th><th scope=col>interaction_ID</th></tr>\n",
       "\t<tr><th scope=col>&lt;chr&gt;</th><th scope=col>&lt;chr&gt;</th><th scope=col>&lt;chr&gt;</th><th scope=col>&lt;chr&gt;</th><th scope=col>&lt;dbl&gt;</th><th scope=col>&lt;dbl&gt;</th><th scope=col>&lt;dbl&gt;</th><th scope=col>&lt;dbl&gt;</th><th scope=col>&lt;chr&gt;</th></tr>\n",
       "</thead>\n",
       "<tbody>\n",
       "</tbody>\n",
       "</table>\n"
      ],
      "text/latex": [
       "A data.frame: 0 × 9\n",
       "\\begin{tabular}{lllllllll}\n",
       " sender\\_celltype & sender\\_gene & receiver\\_celltype & receiver\\_gene & ligand\\_log2FC & ligand\\_p\\_val\\_adj & receptor\\_log2FC & receptor\\_p\\_val\\_adj & interaction\\_ID\\\\\n",
       " <chr> & <chr> & <chr> & <chr> & <dbl> & <dbl> & <dbl> & <dbl> & <chr>\\\\\n",
       "\\hline\n",
       "\\end{tabular}\n"
      ],
      "text/markdown": [
       "\n",
       "A data.frame: 0 × 9\n",
       "\n",
       "| sender_celltype &lt;chr&gt; | sender_gene &lt;chr&gt; | receiver_celltype &lt;chr&gt; | receiver_gene &lt;chr&gt; | ligand_log2FC &lt;dbl&gt; | ligand_p_val_adj &lt;dbl&gt; | receptor_log2FC &lt;dbl&gt; | receptor_p_val_adj &lt;dbl&gt; | interaction_ID &lt;chr&gt; |\n",
       "|---|---|---|---|---|---|---|---|---|\n",
       "\n"
      ],
      "text/plain": [
       "     sender_celltype sender_gene receiver_celltype receiver_gene ligand_log2FC\n",
       "     ligand_p_val_adj receptor_log2FC receptor_p_val_adj interaction_ID"
      ]
     },
     "metadata": {},
     "output_type": "display_data"
    }
   ],
   "source": [
    "df[is.na(df$ligand_log2FC) & is.na(df$receptor_log2FC),]"
   ]
  },
  {
   "cell_type": "markdown",
   "id": "40780fc2",
   "metadata": {},
   "source": [
    "### get log2FC_weights"
   ]
  },
  {
   "cell_type": "code",
   "execution_count": 33,
   "id": "5fc3323d",
   "metadata": {},
   "outputs": [],
   "source": [
    "#subset means\n",
    "means <- filter(means, interaction_ID %in% df$interaction_ID)"
   ]
  },
  {
   "cell_type": "code",
   "execution_count": 34,
   "id": "e81541fe",
   "metadata": {},
   "outputs": [],
   "source": [
    "cols <- c(\"interaction_ID\", grep(\"healthy\", names(means), value = TRUE))\n",
    "control_means <- means[, cols, drop = FALSE]"
   ]
  },
  {
   "cell_type": "code",
   "execution_count": 35,
   "id": "7ff5518c",
   "metadata": {},
   "outputs": [],
   "source": [
    "cols <- c(\"interaction_ID\", grep(\"AML\", names(means), value = TRUE))\n",
    "case_means <- means[, cols, drop = FALSE]"
   ]
  },
  {
   "cell_type": "code",
   "execution_count": 36,
   "id": "ce698468",
   "metadata": {},
   "outputs": [],
   "source": [
    "numeric_cols <- control_means[, !names(control_means) %in% c(\"interaction_ID\")]\n",
    "control_means$row_means <- rowMeans(numeric_cols, na.rm = TRUE)"
   ]
  },
  {
   "cell_type": "code",
   "execution_count": 37,
   "id": "8bf4043d",
   "metadata": {},
   "outputs": [],
   "source": [
    "numeric_cols <- case_means[, !names(case_means) %in% c(\"interaction_ID\")]\n",
    "case_means$row_means <- rowMeans(numeric_cols, na.rm = TRUE)"
   ]
  },
  {
   "cell_type": "code",
   "execution_count": 38,
   "id": "07e2d6d2",
   "metadata": {},
   "outputs": [],
   "source": [
    "df[\"mean_weigth_case\"]=NA\n",
    "df[\"mean_weight_control\"]=NA"
   ]
  },
  {
   "cell_type": "code",
   "execution_count": null,
   "id": "66263dca",
   "metadata": {},
   "outputs": [],
   "source": []
  },
  {
   "cell_type": "code",
   "execution_count": 39,
   "id": "36703939",
   "metadata": {},
   "outputs": [],
   "source": [
    "for (row in 1:nrow(df)){\n",
    "    int_ID <- df[row,]$interaction_ID\n",
    "    case_mean <- filter(case_means, interaction_ID==int_ID)$row_means\n",
    "    control_mean <- filter(control_means, interaction_ID==int_ID)$row_means\n",
    "    \n",
    "    df[row,\"mean_weigth_case\"] <- case_mean\n",
    "    df[row,\"mean_weight_control\"] <- control_mean\n",
    "}"
   ]
  },
  {
   "cell_type": "code",
   "execution_count": 40,
   "id": "b151c9e2",
   "metadata": {},
   "outputs": [],
   "source": [
    "df[\"log2FC_weights\"] = log2(df$mean_weigth_case/df$mean_weight_control)"
   ]
  },
  {
   "cell_type": "code",
   "execution_count": 41,
   "id": "387b94b4",
   "metadata": {},
   "outputs": [
    {
     "data": {
      "text/html": [
       "<style>\n",
       ".list-inline {list-style: none; margin:0; padding: 0}\n",
       ".list-inline>li {display: inline-block}\n",
       ".list-inline>li:not(:last-child)::after {content: \"\\00b7\"; padding: 0 .5ex}\n",
       "</style>\n",
       "<ol class=list-inline><li>'sender_celltype'</li><li>'sender_gene'</li><li>'receiver_celltype'</li><li>'receiver_gene'</li><li>'ligand_log2FC'</li><li>'ligand_p_val_adj'</li><li>'receptor_log2FC'</li><li>'receptor_p_val_adj'</li><li>'interaction_ID'</li><li>'mean_weigth_case'</li><li>'mean_weight_control'</li><li>'log2FC_weights'</li></ol>\n"
      ],
      "text/latex": [
       "\\begin{enumerate*}\n",
       "\\item 'sender\\_celltype'\n",
       "\\item 'sender\\_gene'\n",
       "\\item 'receiver\\_celltype'\n",
       "\\item 'receiver\\_gene'\n",
       "\\item 'ligand\\_log2FC'\n",
       "\\item 'ligand\\_p\\_val\\_adj'\n",
       "\\item 'receptor\\_log2FC'\n",
       "\\item 'receptor\\_p\\_val\\_adj'\n",
       "\\item 'interaction\\_ID'\n",
       "\\item 'mean\\_weigth\\_case'\n",
       "\\item 'mean\\_weight\\_control'\n",
       "\\item 'log2FC\\_weights'\n",
       "\\end{enumerate*}\n"
      ],
      "text/markdown": [
       "1. 'sender_celltype'\n",
       "2. 'sender_gene'\n",
       "3. 'receiver_celltype'\n",
       "4. 'receiver_gene'\n",
       "5. 'ligand_log2FC'\n",
       "6. 'ligand_p_val_adj'\n",
       "7. 'receptor_log2FC'\n",
       "8. 'receptor_p_val_adj'\n",
       "9. 'interaction_ID'\n",
       "10. 'mean_weigth_case'\n",
       "11. 'mean_weight_control'\n",
       "12. 'log2FC_weights'\n",
       "\n",
       "\n"
      ],
      "text/plain": [
       " [1] \"sender_celltype\"     \"sender_gene\"         \"receiver_celltype\"  \n",
       " [4] \"receiver_gene\"       \"ligand_log2FC\"       \"ligand_p_val_adj\"   \n",
       " [7] \"receptor_log2FC\"     \"receptor_p_val_adj\"  \"interaction_ID\"     \n",
       "[10] \"mean_weigth_case\"    \"mean_weight_control\" \"log2FC_weights\"     "
      ]
     },
     "metadata": {},
     "output_type": "display_data"
    }
   ],
   "source": [
    "names(df)"
   ]
  },
  {
   "cell_type": "code",
   "execution_count": 42,
   "id": "8fdd3a3c",
   "metadata": {},
   "outputs": [],
   "source": [
    "df <- df %>% select(interaction_ID, sender_celltype, sender_gene, receiver_celltype,receiver_gene,\n",
    "             ligand_log2FC,ligand_p_val_adj,receptor_log2FC,receptor_p_val_adj,mean_weigth_case,\n",
    "                   mean_weight_control,log2FC_weights)"
   ]
  },
  {
   "cell_type": "code",
   "execution_count": 43,
   "id": "0c86d1dc",
   "metadata": {},
   "outputs": [],
   "source": [
    "threshold_log2FC <- 1"
   ]
  },
  {
   "cell_type": "code",
   "execution_count": 44,
   "id": "9487fdec",
   "metadata": {},
   "outputs": [],
   "source": [
    "# Creating a new column named 'direction' based on the conditions\n",
    "\n",
    "df$direction <- ifelse(df$log2FC_weights > threshold_log2FC, \"up\",\n",
    "                             ifelse(df$log2FC_weights < threshold_log2FC, \"down\",\n",
    "                                    ifelse(df$log2FC_weights == threshold_log2FC, \"unchanged\", NA)))\n"
   ]
  },
  {
   "cell_type": "markdown",
   "id": "82faf99c",
   "metadata": {},
   "source": [
    "### Significant weights\n",
    "We possess a set of weights (referred to as \"means\" by CPDB) and a binary matrix containing values of 0 and 1 to indicate significance of DEGs (relevant_interactions.txt). In order to extract the significant weights, we perform a multiplication operation between the weight matrix and the significance matrix. By multiplying the two matrices element-wise, we retain only the significant weights while setting the non-significant weights to 0. Consequently, we obtain a matrix solely consisting of the significant weights."
   ]
  },
  {
   "cell_type": "code",
   "execution_count": 45,
   "id": "4ddc205e",
   "metadata": {},
   "outputs": [],
   "source": [
    "# The purpose of using a for loop in this code snippet is to handle the mismatched order of rows between \n",
    "# the means dataframe and the binary matrix dataframe."
   ]
  },
  {
   "cell_type": "code",
   "execution_count": 46,
   "id": "3eafdb39",
   "metadata": {},
   "outputs": [],
   "source": [
    "# Create an empty list to store the multiplied rows\n",
    "multiplied_rows <- list()\n",
    "\n",
    "# Iterate over the rows\n",
    "for (i in 1:nrow(means)) {\n",
    "  interaction_ID <- means$interaction_ID[i]\n",
    "  \n",
    "  # Find the matching row in the 'significant' dataframe based on 'interaction_ID'\n",
    "  matching_row <- matrix_result[matrix_result$interaction_ID == interaction_ID, ]\n",
    "  \n",
    "  # Perform element-wise multiplication\n",
    "  multiplied_values <- means[i, -1] * matching_row[, -1]\n",
    "  \n",
    "  # Create a row with interaction_ID and multiplied values\n",
    "  row <- c(interaction_ID, multiplied_values)\n",
    "  \n",
    "  # Add the row to the list\n",
    "  multiplied_rows[[i]] <- row\n",
    "}\n",
    "\n",
    "# Convert the list of rows into a dataframe\n",
    "multiplied_df <- do.call(rbind, multiplied_rows)\n",
    "\n",
    "colnames(multiplied_df) <- c(\"interaction_ID\", colnames(means)[-1])\n",
    "\n",
    "multiplied_df <- as.data.frame(multiplied_df)"
   ]
  },
  {
   "cell_type": "code",
   "execution_count": 47,
   "id": "5a3dbbea",
   "metadata": {},
   "outputs": [],
   "source": [
    "# Convert columns to double data type\n",
    "multiplied_df <- as.data.frame(multiplied_df) %>%\n",
    "  mutate(across(-interaction_ID, as.double))"
   ]
  },
  {
   "cell_type": "code",
   "execution_count": 48,
   "id": "3d3865e8",
   "metadata": {},
   "outputs": [],
   "source": [
    "multiplied_df$interaction_ID <- as.character(multiplied_df$interaction_ID)"
   ]
  },
  {
   "cell_type": "code",
   "execution_count": 49,
   "id": "dc40f381",
   "metadata": {},
   "outputs": [],
   "source": [
    "multiplied_df[is.na(multiplied_df)] <- 0"
   ]
  },
  {
   "cell_type": "markdown",
   "id": "431c8a0e",
   "metadata": {},
   "source": [
    "# fixing direction\n",
    "\n",
    "Due to the lack of directions for pairs in CellPhoneDB, some of the pairs are swapped order (i.e: L1_R1 appears as R1_L1). To address this issue, we determine the interactions that contain swapped pairs and reorganize them in the correct order. This enables us to compare the interactions accurately."
   ]
  },
  {
   "cell_type": "code",
   "execution_count": 50,
   "id": "beb3efbf",
   "metadata": {},
   "outputs": [],
   "source": [
    "library(community)"
   ]
  },
  {
   "cell_type": "code",
   "execution_count": 51,
   "id": "bcba24bd",
   "metadata": {},
   "outputs": [],
   "source": [
    "data(LR_database)"
   ]
  },
  {
   "cell_type": "code",
   "execution_count": 52,
   "id": "b83025e5",
   "metadata": {},
   "outputs": [],
   "source": [
    "LR_DB <- LR_database"
   ]
  },
  {
   "cell_type": "code",
   "execution_count": null,
   "id": "140429f2",
   "metadata": {},
   "outputs": [],
   "source": []
  },
  {
   "cell_type": "code",
   "execution_count": 53,
   "id": "474353d5",
   "metadata": {},
   "outputs": [],
   "source": [
    "# LR_DB <- LR_DB %>% \n",
    "#         rename(\"Ligand\" = \"protein_name_a\",\n",
    "#                \"Receptor\" = \"protein_name_b\")\n",
    "\n",
    "# LR_DB <- LR_DB[,-1]"
   ]
  },
  {
   "cell_type": "code",
   "execution_count": 54,
   "id": "9bd973aa",
   "metadata": {},
   "outputs": [],
   "source": [
    "df[\"pair\"] <- paste0(df$sender_gene, \"_\", df$receiver_gene)\n",
    "df[\"dup\"] <- paste0(df$receiver_gene, \"_\", df$sender_gene)"
   ]
  },
  {
   "cell_type": "code",
   "execution_count": 55,
   "id": "12a0240d",
   "metadata": {},
   "outputs": [
    {
     "data": {
      "text/html": [
       "<table class=\"dataframe\">\n",
       "<caption>A data.frame: 0 × 15</caption>\n",
       "<thead>\n",
       "\t<tr><th scope=col>interaction_ID</th><th scope=col>sender_celltype</th><th scope=col>sender_gene</th><th scope=col>receiver_celltype</th><th scope=col>receiver_gene</th><th scope=col>ligand_log2FC</th><th scope=col>ligand_p_val_adj</th><th scope=col>receptor_log2FC</th><th scope=col>receptor_p_val_adj</th><th scope=col>mean_weigth_case</th><th scope=col>mean_weight_control</th><th scope=col>log2FC_weights</th><th scope=col>direction</th><th scope=col>pair</th><th scope=col>dup</th></tr>\n",
       "\t<tr><th scope=col>&lt;chr&gt;</th><th scope=col>&lt;chr&gt;</th><th scope=col>&lt;chr&gt;</th><th scope=col>&lt;chr&gt;</th><th scope=col>&lt;chr&gt;</th><th scope=col>&lt;dbl&gt;</th><th scope=col>&lt;dbl&gt;</th><th scope=col>&lt;dbl&gt;</th><th scope=col>&lt;dbl&gt;</th><th scope=col>&lt;dbl&gt;</th><th scope=col>&lt;dbl&gt;</th><th scope=col>&lt;dbl&gt;</th><th scope=col>&lt;chr&gt;</th><th scope=col>&lt;chr&gt;</th><th scope=col>&lt;chr&gt;</th></tr>\n",
       "</thead>\n",
       "<tbody>\n",
       "</tbody>\n",
       "</table>\n"
      ],
      "text/latex": [
       "A data.frame: 0 × 15\n",
       "\\begin{tabular}{lllllllllllllll}\n",
       " interaction\\_ID & sender\\_celltype & sender\\_gene & receiver\\_celltype & receiver\\_gene & ligand\\_log2FC & ligand\\_p\\_val\\_adj & receptor\\_log2FC & receptor\\_p\\_val\\_adj & mean\\_weigth\\_case & mean\\_weight\\_control & log2FC\\_weights & direction & pair & dup\\\\\n",
       " <chr> & <chr> & <chr> & <chr> & <chr> & <dbl> & <dbl> & <dbl> & <dbl> & <dbl> & <dbl> & <dbl> & <chr> & <chr> & <chr>\\\\\n",
       "\\hline\n",
       "\\end{tabular}\n"
      ],
      "text/markdown": [
       "\n",
       "A data.frame: 0 × 15\n",
       "\n",
       "| interaction_ID &lt;chr&gt; | sender_celltype &lt;chr&gt; | sender_gene &lt;chr&gt; | receiver_celltype &lt;chr&gt; | receiver_gene &lt;chr&gt; | ligand_log2FC &lt;dbl&gt; | ligand_p_val_adj &lt;dbl&gt; | receptor_log2FC &lt;dbl&gt; | receptor_p_val_adj &lt;dbl&gt; | mean_weigth_case &lt;dbl&gt; | mean_weight_control &lt;dbl&gt; | log2FC_weights &lt;dbl&gt; | direction &lt;chr&gt; | pair &lt;chr&gt; | dup &lt;chr&gt; |\n",
       "|---|---|---|---|---|---|---|---|---|---|---|---|---|---|---|\n",
       "\n"
      ],
      "text/plain": [
       "     interaction_ID sender_celltype sender_gene receiver_celltype receiver_gene\n",
       "     ligand_log2FC ligand_p_val_adj receptor_log2FC receptor_p_val_adj\n",
       "     mean_weigth_case mean_weight_control log2FC_weights direction pair dup"
      ]
     },
     "metadata": {},
     "output_type": "display_data"
    }
   ],
   "source": [
    "# check if we have any duplicated swaps\n",
    "df[df$pair %in% df$dup,]"
   ]
  },
  {
   "cell_type": "code",
   "execution_count": 56,
   "id": "ace28693",
   "metadata": {},
   "outputs": [
    {
     "data": {
      "text/html": [
       "TRUE"
      ],
      "text/latex": [
       "TRUE"
      ],
      "text/markdown": [
       "TRUE"
      ],
      "text/plain": [
       "[1] TRUE"
      ]
     },
     "metadata": {},
     "output_type": "display_data"
    }
   ],
   "source": [
    "# check if all the items that are not present in the original database exist as swapped pairs in \n",
    "#the original database.\n",
    "identical(df[!df$pair %in% LR_DB$Pair.Name,]$interaction_ID,df[df$dup %in% LR_DB$Pair.Name,]$interaction_ID)"
   ]
  },
  {
   "cell_type": "code",
   "execution_count": 57,
   "id": "43c1cc2a",
   "metadata": {},
   "outputs": [
    {
     "data": {
      "text/html": [
       "2421"
      ],
      "text/latex": [
       "2421"
      ],
      "text/markdown": [
       "2421"
      ],
      "text/plain": [
       "[1] 2421"
      ]
     },
     "metadata": {},
     "output_type": "display_data"
    }
   ],
   "source": [
    "nrow(df)"
   ]
  },
  {
   "cell_type": "code",
   "execution_count": 58,
   "id": "b159266c",
   "metadata": {},
   "outputs": [],
   "source": [
    "fix_df = df[!df$pair %in% LR_DB$Pair.Name,]"
   ]
  },
  {
   "cell_type": "code",
   "execution_count": 59,
   "id": "71584efd",
   "metadata": {},
   "outputs": [],
   "source": [
    "df = df[df$pair %in% LR_DB$Pair.Name,]"
   ]
  },
  {
   "cell_type": "code",
   "execution_count": 60,
   "id": "7b4288fb",
   "metadata": {},
   "outputs": [
    {
     "data": {
      "text/html": [
       "2421"
      ],
      "text/latex": [
       "2421"
      ],
      "text/markdown": [
       "2421"
      ],
      "text/plain": [
       "[1] 2421"
      ]
     },
     "metadata": {},
     "output_type": "display_data"
    }
   ],
   "source": [
    "nrow(df) + nrow(fix_df)"
   ]
  },
  {
   "cell_type": "code",
   "execution_count": 63,
   "id": "a2a278bd",
   "metadata": {},
   "outputs": [
    {
     "data": {
      "text/html": [
       "TRUE"
      ],
      "text/latex": [
       "TRUE"
      ],
      "text/markdown": [
       "TRUE"
      ],
      "text/plain": [
       "[1] TRUE"
      ]
     },
     "metadata": {},
     "output_type": "display_data"
    }
   ],
   "source": [
    "all(fix_df$dup %in% LR_DB$Pair.Name)"
   ]
  },
  {
   "cell_type": "code",
   "execution_count": 64,
   "id": "22519f00",
   "metadata": {},
   "outputs": [],
   "source": [
    "# create a pair column, makes it easier to check\n",
    "multiplied_df$pair <- sapply(strsplit(multiplied_df$interaction_ID, \"_\"), function(x) {\n",
    "  genes <- gsub(\".*:\", \"\", x)\n",
    "  paste(genes, collapse = \"_\")\n",
    "})"
   ]
  },
  {
   "cell_type": "code",
   "execution_count": 65,
   "id": "1acfa79e",
   "metadata": {},
   "outputs": [],
   "source": [
    "fix_multiplied_df = multiplied_df[!multiplied_df$pair %in% LR_DB$Pair.Name,]"
   ]
  },
  {
   "cell_type": "code",
   "execution_count": 66,
   "id": "cc3dfea1",
   "metadata": {},
   "outputs": [],
   "source": [
    "multiplied_df = multiplied_df[multiplied_df$pair %in% LR_DB$Pair.Name,]"
   ]
  },
  {
   "cell_type": "code",
   "execution_count": 67,
   "id": "d2a45d20",
   "metadata": {},
   "outputs": [
    {
     "data": {
      "text/html": [
       "<table class=\"dataframe\">\n",
       "<caption>A data.frame: 6 × 15</caption>\n",
       "<thead>\n",
       "\t<tr><th></th><th scope=col>interaction_ID</th><th scope=col>AML-0024</th><th scope=col>AML-0160</th><th scope=col>AML-0693</th><th scope=col>AML-1371</th><th scope=col>AML-2123</th><th scope=col>AML-3133</th><th scope=col>AML-4340</th><th scope=col>healthy-1</th><th scope=col>healthy-2</th><th scope=col>healthy-3</th><th scope=col>healthy-4</th><th scope=col>healthy-4003</th><th scope=col>healthy-5</th><th scope=col>pair</th></tr>\n",
       "\t<tr><th></th><th scope=col>&lt;chr&gt;</th><th scope=col>&lt;dbl&gt;</th><th scope=col>&lt;dbl&gt;</th><th scope=col>&lt;dbl&gt;</th><th scope=col>&lt;dbl&gt;</th><th scope=col>&lt;dbl&gt;</th><th scope=col>&lt;dbl&gt;</th><th scope=col>&lt;dbl&gt;</th><th scope=col>&lt;dbl&gt;</th><th scope=col>&lt;dbl&gt;</th><th scope=col>&lt;dbl&gt;</th><th scope=col>&lt;dbl&gt;</th><th scope=col>&lt;dbl&gt;</th><th scope=col>&lt;dbl&gt;</th><th scope=col>&lt;chr&gt;</th></tr>\n",
       "</thead>\n",
       "<tbody>\n",
       "\t<tr><th scope=row>43</th><td>NK:CD3D_B:HLA-C   </td><td>0</td><td>0</td><td>0</td><td>1.099</td><td>0.808</td><td>0</td><td>0</td><td>0</td><td>0</td><td>0</td><td>0</td><td>0</td><td>0</td><td>CD3D_HLA-C</td></tr>\n",
       "\t<tr><th scope=row>44</th><td>NK:CD3D_DC:HLA-C  </td><td>0</td><td>0</td><td>0</td><td>0.990</td><td>0.000</td><td>0</td><td>0</td><td>0</td><td>0</td><td>0</td><td>0</td><td>0</td><td>0</td><td>CD3D_HLA-C</td></tr>\n",
       "\t<tr><th scope=row>45</th><td>NK:CD3D_Ery:HLA-C </td><td>0</td><td>0</td><td>0</td><td>0.598</td><td>0.355</td><td>0</td><td>0</td><td>0</td><td>0</td><td>0</td><td>0</td><td>0</td><td>0</td><td>CD3D_HLA-C</td></tr>\n",
       "\t<tr><th scope=row>46</th><td>NK:CD3D_Gran:HLA-C</td><td>0</td><td>0</td><td>0</td><td>0.919</td><td>0.769</td><td>0</td><td>0</td><td>0</td><td>0</td><td>0</td><td>0</td><td>0</td><td>0</td><td>CD3D_HLA-C</td></tr>\n",
       "\t<tr><th scope=row>47</th><td>NK:CD3D_HSPC:HLA-C</td><td>0</td><td>0</td><td>0</td><td>0.758</td><td>0.598</td><td>0</td><td>0</td><td>0</td><td>0</td><td>0</td><td>0</td><td>0</td><td>0</td><td>CD3D_HLA-C</td></tr>\n",
       "\t<tr><th scope=row>48</th><td>NK:CD3D_Mono:HLA-C</td><td>0</td><td>0</td><td>0</td><td>1.041</td><td>0.757</td><td>0</td><td>0</td><td>0</td><td>0</td><td>0</td><td>0</td><td>0</td><td>0</td><td>CD3D_HLA-C</td></tr>\n",
       "</tbody>\n",
       "</table>\n"
      ],
      "text/latex": [
       "A data.frame: 6 × 15\n",
       "\\begin{tabular}{r|lllllllllllllll}\n",
       "  & interaction\\_ID & AML-0024 & AML-0160 & AML-0693 & AML-1371 & AML-2123 & AML-3133 & AML-4340 & healthy-1 & healthy-2 & healthy-3 & healthy-4 & healthy-4003 & healthy-5 & pair\\\\\n",
       "  & <chr> & <dbl> & <dbl> & <dbl> & <dbl> & <dbl> & <dbl> & <dbl> & <dbl> & <dbl> & <dbl> & <dbl> & <dbl> & <dbl> & <chr>\\\\\n",
       "\\hline\n",
       "\t43 & NK:CD3D\\_B:HLA-C    & 0 & 0 & 0 & 1.099 & 0.808 & 0 & 0 & 0 & 0 & 0 & 0 & 0 & 0 & CD3D\\_HLA-C\\\\\n",
       "\t44 & NK:CD3D\\_DC:HLA-C   & 0 & 0 & 0 & 0.990 & 0.000 & 0 & 0 & 0 & 0 & 0 & 0 & 0 & 0 & CD3D\\_HLA-C\\\\\n",
       "\t45 & NK:CD3D\\_Ery:HLA-C  & 0 & 0 & 0 & 0.598 & 0.355 & 0 & 0 & 0 & 0 & 0 & 0 & 0 & 0 & CD3D\\_HLA-C\\\\\n",
       "\t46 & NK:CD3D\\_Gran:HLA-C & 0 & 0 & 0 & 0.919 & 0.769 & 0 & 0 & 0 & 0 & 0 & 0 & 0 & 0 & CD3D\\_HLA-C\\\\\n",
       "\t47 & NK:CD3D\\_HSPC:HLA-C & 0 & 0 & 0 & 0.758 & 0.598 & 0 & 0 & 0 & 0 & 0 & 0 & 0 & 0 & CD3D\\_HLA-C\\\\\n",
       "\t48 & NK:CD3D\\_Mono:HLA-C & 0 & 0 & 0 & 1.041 & 0.757 & 0 & 0 & 0 & 0 & 0 & 0 & 0 & 0 & CD3D\\_HLA-C\\\\\n",
       "\\end{tabular}\n"
      ],
      "text/markdown": [
       "\n",
       "A data.frame: 6 × 15\n",
       "\n",
       "| <!--/--> | interaction_ID &lt;chr&gt; | AML-0024 &lt;dbl&gt; | AML-0160 &lt;dbl&gt; | AML-0693 &lt;dbl&gt; | AML-1371 &lt;dbl&gt; | AML-2123 &lt;dbl&gt; | AML-3133 &lt;dbl&gt; | AML-4340 &lt;dbl&gt; | healthy-1 &lt;dbl&gt; | healthy-2 &lt;dbl&gt; | healthy-3 &lt;dbl&gt; | healthy-4 &lt;dbl&gt; | healthy-4003 &lt;dbl&gt; | healthy-5 &lt;dbl&gt; | pair &lt;chr&gt; |\n",
       "|---|---|---|---|---|---|---|---|---|---|---|---|---|---|---|---|\n",
       "| 43 | NK:CD3D_B:HLA-C    | 0 | 0 | 0 | 1.099 | 0.808 | 0 | 0 | 0 | 0 | 0 | 0 | 0 | 0 | CD3D_HLA-C |\n",
       "| 44 | NK:CD3D_DC:HLA-C   | 0 | 0 | 0 | 0.990 | 0.000 | 0 | 0 | 0 | 0 | 0 | 0 | 0 | 0 | CD3D_HLA-C |\n",
       "| 45 | NK:CD3D_Ery:HLA-C  | 0 | 0 | 0 | 0.598 | 0.355 | 0 | 0 | 0 | 0 | 0 | 0 | 0 | 0 | CD3D_HLA-C |\n",
       "| 46 | NK:CD3D_Gran:HLA-C | 0 | 0 | 0 | 0.919 | 0.769 | 0 | 0 | 0 | 0 | 0 | 0 | 0 | 0 | CD3D_HLA-C |\n",
       "| 47 | NK:CD3D_HSPC:HLA-C | 0 | 0 | 0 | 0.758 | 0.598 | 0 | 0 | 0 | 0 | 0 | 0 | 0 | 0 | CD3D_HLA-C |\n",
       "| 48 | NK:CD3D_Mono:HLA-C | 0 | 0 | 0 | 1.041 | 0.757 | 0 | 0 | 0 | 0 | 0 | 0 | 0 | 0 | CD3D_HLA-C |\n",
       "\n"
      ],
      "text/plain": [
       "   interaction_ID     AML-0024 AML-0160 AML-0693 AML-1371 AML-2123 AML-3133\n",
       "43 NK:CD3D_B:HLA-C    0        0        0        1.099    0.808    0       \n",
       "44 NK:CD3D_DC:HLA-C   0        0        0        0.990    0.000    0       \n",
       "45 NK:CD3D_Ery:HLA-C  0        0        0        0.598    0.355    0       \n",
       "46 NK:CD3D_Gran:HLA-C 0        0        0        0.919    0.769    0       \n",
       "47 NK:CD3D_HSPC:HLA-C 0        0        0        0.758    0.598    0       \n",
       "48 NK:CD3D_Mono:HLA-C 0        0        0        1.041    0.757    0       \n",
       "   AML-4340 healthy-1 healthy-2 healthy-3 healthy-4 healthy-4003 healthy-5\n",
       "43 0        0         0         0         0         0            0        \n",
       "44 0        0         0         0         0         0            0        \n",
       "45 0        0         0         0         0         0            0        \n",
       "46 0        0         0         0         0         0            0        \n",
       "47 0        0         0         0         0         0            0        \n",
       "48 0        0         0         0         0         0            0        \n",
       "   pair      \n",
       "43 CD3D_HLA-C\n",
       "44 CD3D_HLA-C\n",
       "45 CD3D_HLA-C\n",
       "46 CD3D_HLA-C\n",
       "47 CD3D_HLA-C\n",
       "48 CD3D_HLA-C"
      ]
     },
     "metadata": {},
     "output_type": "display_data"
    }
   ],
   "source": [
    "head(fix_multiplied_df)"
   ]
  },
  {
   "cell_type": "code",
   "execution_count": 68,
   "id": "7c263ce4",
   "metadata": {},
   "outputs": [],
   "source": [
    "# # Split values by underscore and swap\n",
    "fix_multiplied_df$interaction_ID <- sapply(strsplit(fix_multiplied_df$interaction_ID, \"_\"), function(x) paste(rev(x), collapse = \"_\"))"
   ]
  },
  {
   "cell_type": "code",
   "execution_count": null,
   "id": "2fab8b76",
   "metadata": {},
   "outputs": [],
   "source": []
  },
  {
   "cell_type": "code",
   "execution_count": 69,
   "id": "a3d38b40",
   "metadata": {},
   "outputs": [
    {
     "data": {
      "text/html": [
       "<style>\n",
       ".list-inline {list-style: none; margin:0; padding: 0}\n",
       ".list-inline>li {display: inline-block}\n",
       ".list-inline>li:not(:last-child)::after {content: \"\\00b7\"; padding: 0 .5ex}\n",
       "</style>\n",
       "<ol class=list-inline><li>'interaction_ID'</li><li>'sender_celltype'</li><li>'sender_gene'</li><li>'receiver_celltype'</li><li>'receiver_gene'</li><li>'ligand_log2FC'</li><li>'ligand_p_val_adj'</li><li>'receptor_log2FC'</li><li>'receptor_p_val_adj'</li><li>'mean_weigth_case'</li><li>'mean_weight_control'</li><li>'log2FC_weights'</li><li>'direction'</li><li>'pair'</li><li>'dup'</li></ol>\n"
      ],
      "text/latex": [
       "\\begin{enumerate*}\n",
       "\\item 'interaction\\_ID'\n",
       "\\item 'sender\\_celltype'\n",
       "\\item 'sender\\_gene'\n",
       "\\item 'receiver\\_celltype'\n",
       "\\item 'receiver\\_gene'\n",
       "\\item 'ligand\\_log2FC'\n",
       "\\item 'ligand\\_p\\_val\\_adj'\n",
       "\\item 'receptor\\_log2FC'\n",
       "\\item 'receptor\\_p\\_val\\_adj'\n",
       "\\item 'mean\\_weigth\\_case'\n",
       "\\item 'mean\\_weight\\_control'\n",
       "\\item 'log2FC\\_weights'\n",
       "\\item 'direction'\n",
       "\\item 'pair'\n",
       "\\item 'dup'\n",
       "\\end{enumerate*}\n"
      ],
      "text/markdown": [
       "1. 'interaction_ID'\n",
       "2. 'sender_celltype'\n",
       "3. 'sender_gene'\n",
       "4. 'receiver_celltype'\n",
       "5. 'receiver_gene'\n",
       "6. 'ligand_log2FC'\n",
       "7. 'ligand_p_val_adj'\n",
       "8. 'receptor_log2FC'\n",
       "9. 'receptor_p_val_adj'\n",
       "10. 'mean_weigth_case'\n",
       "11. 'mean_weight_control'\n",
       "12. 'log2FC_weights'\n",
       "13. 'direction'\n",
       "14. 'pair'\n",
       "15. 'dup'\n",
       "\n",
       "\n"
      ],
      "text/plain": [
       " [1] \"interaction_ID\"      \"sender_celltype\"     \"sender_gene\"        \n",
       " [4] \"receiver_celltype\"   \"receiver_gene\"       \"ligand_log2FC\"      \n",
       " [7] \"ligand_p_val_adj\"    \"receptor_log2FC\"     \"receptor_p_val_adj\" \n",
       "[10] \"mean_weigth_case\"    \"mean_weight_control\" \"log2FC_weights\"     \n",
       "[13] \"direction\"           \"pair\"                \"dup\"                "
      ]
     },
     "metadata": {},
     "output_type": "display_data"
    }
   ],
   "source": [
    "colnames(fix_df)"
   ]
  },
  {
   "cell_type": "code",
   "execution_count": 70,
   "id": "67d5f615",
   "metadata": {},
   "outputs": [],
   "source": [
    "new_df <- data.frame(\n",
    "  interaction_ID = fix_df$interaction_ID,\n",
    "  sender_celltype = fix_df$receiver_celltype,\n",
    "  sender_gene = fix_df$receiver_gene,\n",
    "  receiver_celltype = fix_df$sender_celltype,\n",
    "  receiver_gene = fix_df$sender_gene,\n",
    "  ligand_log2FC = fix_df$receptor_log2FC,\n",
    "  ligand_p_val_adj = fix_df$receptor_log2FC,\n",
    "  receptor_log2FC = fix_df$ligand_log2FC,\n",
    "  receptor_p_val_adj = fix_df$ligand_p_val_adj,\n",
    "  mean_weigth_case = fix_df$mean_weigth_case,\n",
    "  mean_weight_control = fix_df$mean_weight_control,\n",
    "  log2FC_weights = fix_df$log2FC_weights,\n",
    "  direction = fix_df$direction\n",
    "  )"
   ]
  },
  {
   "cell_type": "code",
   "execution_count": 71,
   "id": "e97b4c27",
   "metadata": {},
   "outputs": [],
   "source": [
    "new_df[\"interaction_ID\"] <- paste0(new_df$sender_celltype, \":\",new_df$sender_gene , \"_\", new_df$receiver_celltype, \":\", new_df$receiver_gene)"
   ]
  },
  {
   "cell_type": "code",
   "execution_count": 72,
   "id": "4f0c0717",
   "metadata": {},
   "outputs": [],
   "source": [
    "multiplied_df <- rbind(fix_multiplied_df,multiplied_df)"
   ]
  },
  {
   "cell_type": "code",
   "execution_count": 73,
   "id": "6ba48265",
   "metadata": {},
   "outputs": [],
   "source": [
    "df <- df[, !(names(df) %in% c(\"pair\",\"dup\"))]"
   ]
  },
  {
   "cell_type": "code",
   "execution_count": 74,
   "id": "ef3404fc",
   "metadata": {},
   "outputs": [],
   "source": [
    "df <- rbind(new_df,df)"
   ]
  },
  {
   "cell_type": "code",
   "execution_count": 78,
   "id": "37e7364d",
   "metadata": {},
   "outputs": [
    {
     "data": {
      "text/html": [
       "TRUE"
      ],
      "text/latex": [
       "TRUE"
      ],
      "text/markdown": [
       "TRUE"
      ],
      "text/plain": [
       "[1] TRUE"
      ]
     },
     "metadata": {},
     "output_type": "display_data"
    }
   ],
   "source": [
    "all(multiplied_df$interaction_ID %in% df$interaction_ID)"
   ]
  },
  {
   "cell_type": "code",
   "execution_count": 79,
   "id": "38f500ab",
   "metadata": {},
   "outputs": [],
   "source": [
    "multiplied_df <- multiplied_df[, !(names(multiplied_df) %in% c(\"pair\",\"dup\"))]"
   ]
  },
  {
   "cell_type": "code",
   "execution_count": 80,
   "id": "074e6bba",
   "metadata": {},
   "outputs": [
    {
     "data": {
      "text/html": [
       "<table class=\"dataframe\">\n",
       "<caption>A data.frame: 6 × 14</caption>\n",
       "<thead>\n",
       "\t<tr><th></th><th scope=col>interaction_ID</th><th scope=col>AML-0024</th><th scope=col>AML-0160</th><th scope=col>AML-0693</th><th scope=col>AML-1371</th><th scope=col>AML-2123</th><th scope=col>AML-3133</th><th scope=col>AML-4340</th><th scope=col>healthy-1</th><th scope=col>healthy-2</th><th scope=col>healthy-3</th><th scope=col>healthy-4</th><th scope=col>healthy-4003</th><th scope=col>healthy-5</th></tr>\n",
       "\t<tr><th></th><th scope=col>&lt;chr&gt;</th><th scope=col>&lt;dbl&gt;</th><th scope=col>&lt;dbl&gt;</th><th scope=col>&lt;dbl&gt;</th><th scope=col>&lt;dbl&gt;</th><th scope=col>&lt;dbl&gt;</th><th scope=col>&lt;dbl&gt;</th><th scope=col>&lt;dbl&gt;</th><th scope=col>&lt;dbl&gt;</th><th scope=col>&lt;dbl&gt;</th><th scope=col>&lt;dbl&gt;</th><th scope=col>&lt;dbl&gt;</th><th scope=col>&lt;dbl&gt;</th><th scope=col>&lt;dbl&gt;</th></tr>\n",
       "</thead>\n",
       "<tbody>\n",
       "\t<tr><th scope=row>43</th><td>B:HLA-C_NK:CD3D   </td><td>0</td><td>0</td><td>0</td><td>1.099</td><td>0.808</td><td>0</td><td>0</td><td>0</td><td>0</td><td>0</td><td>0</td><td>0</td><td>0</td></tr>\n",
       "\t<tr><th scope=row>44</th><td>DC:HLA-C_NK:CD3D  </td><td>0</td><td>0</td><td>0</td><td>0.990</td><td>0.000</td><td>0</td><td>0</td><td>0</td><td>0</td><td>0</td><td>0</td><td>0</td><td>0</td></tr>\n",
       "\t<tr><th scope=row>45</th><td>Ery:HLA-C_NK:CD3D </td><td>0</td><td>0</td><td>0</td><td>0.598</td><td>0.355</td><td>0</td><td>0</td><td>0</td><td>0</td><td>0</td><td>0</td><td>0</td><td>0</td></tr>\n",
       "\t<tr><th scope=row>46</th><td>Gran:HLA-C_NK:CD3D</td><td>0</td><td>0</td><td>0</td><td>0.919</td><td>0.769</td><td>0</td><td>0</td><td>0</td><td>0</td><td>0</td><td>0</td><td>0</td><td>0</td></tr>\n",
       "\t<tr><th scope=row>47</th><td>HSPC:HLA-C_NK:CD3D</td><td>0</td><td>0</td><td>0</td><td>0.758</td><td>0.598</td><td>0</td><td>0</td><td>0</td><td>0</td><td>0</td><td>0</td><td>0</td><td>0</td></tr>\n",
       "\t<tr><th scope=row>48</th><td>Mono:HLA-C_NK:CD3D</td><td>0</td><td>0</td><td>0</td><td>1.041</td><td>0.757</td><td>0</td><td>0</td><td>0</td><td>0</td><td>0</td><td>0</td><td>0</td><td>0</td></tr>\n",
       "</tbody>\n",
       "</table>\n"
      ],
      "text/latex": [
       "A data.frame: 6 × 14\n",
       "\\begin{tabular}{r|llllllllllllll}\n",
       "  & interaction\\_ID & AML-0024 & AML-0160 & AML-0693 & AML-1371 & AML-2123 & AML-3133 & AML-4340 & healthy-1 & healthy-2 & healthy-3 & healthy-4 & healthy-4003 & healthy-5\\\\\n",
       "  & <chr> & <dbl> & <dbl> & <dbl> & <dbl> & <dbl> & <dbl> & <dbl> & <dbl> & <dbl> & <dbl> & <dbl> & <dbl> & <dbl>\\\\\n",
       "\\hline\n",
       "\t43 & B:HLA-C\\_NK:CD3D    & 0 & 0 & 0 & 1.099 & 0.808 & 0 & 0 & 0 & 0 & 0 & 0 & 0 & 0\\\\\n",
       "\t44 & DC:HLA-C\\_NK:CD3D   & 0 & 0 & 0 & 0.990 & 0.000 & 0 & 0 & 0 & 0 & 0 & 0 & 0 & 0\\\\\n",
       "\t45 & Ery:HLA-C\\_NK:CD3D  & 0 & 0 & 0 & 0.598 & 0.355 & 0 & 0 & 0 & 0 & 0 & 0 & 0 & 0\\\\\n",
       "\t46 & Gran:HLA-C\\_NK:CD3D & 0 & 0 & 0 & 0.919 & 0.769 & 0 & 0 & 0 & 0 & 0 & 0 & 0 & 0\\\\\n",
       "\t47 & HSPC:HLA-C\\_NK:CD3D & 0 & 0 & 0 & 0.758 & 0.598 & 0 & 0 & 0 & 0 & 0 & 0 & 0 & 0\\\\\n",
       "\t48 & Mono:HLA-C\\_NK:CD3D & 0 & 0 & 0 & 1.041 & 0.757 & 0 & 0 & 0 & 0 & 0 & 0 & 0 & 0\\\\\n",
       "\\end{tabular}\n"
      ],
      "text/markdown": [
       "\n",
       "A data.frame: 6 × 14\n",
       "\n",
       "| <!--/--> | interaction_ID &lt;chr&gt; | AML-0024 &lt;dbl&gt; | AML-0160 &lt;dbl&gt; | AML-0693 &lt;dbl&gt; | AML-1371 &lt;dbl&gt; | AML-2123 &lt;dbl&gt; | AML-3133 &lt;dbl&gt; | AML-4340 &lt;dbl&gt; | healthy-1 &lt;dbl&gt; | healthy-2 &lt;dbl&gt; | healthy-3 &lt;dbl&gt; | healthy-4 &lt;dbl&gt; | healthy-4003 &lt;dbl&gt; | healthy-5 &lt;dbl&gt; |\n",
       "|---|---|---|---|---|---|---|---|---|---|---|---|---|---|---|\n",
       "| 43 | B:HLA-C_NK:CD3D    | 0 | 0 | 0 | 1.099 | 0.808 | 0 | 0 | 0 | 0 | 0 | 0 | 0 | 0 |\n",
       "| 44 | DC:HLA-C_NK:CD3D   | 0 | 0 | 0 | 0.990 | 0.000 | 0 | 0 | 0 | 0 | 0 | 0 | 0 | 0 |\n",
       "| 45 | Ery:HLA-C_NK:CD3D  | 0 | 0 | 0 | 0.598 | 0.355 | 0 | 0 | 0 | 0 | 0 | 0 | 0 | 0 |\n",
       "| 46 | Gran:HLA-C_NK:CD3D | 0 | 0 | 0 | 0.919 | 0.769 | 0 | 0 | 0 | 0 | 0 | 0 | 0 | 0 |\n",
       "| 47 | HSPC:HLA-C_NK:CD3D | 0 | 0 | 0 | 0.758 | 0.598 | 0 | 0 | 0 | 0 | 0 | 0 | 0 | 0 |\n",
       "| 48 | Mono:HLA-C_NK:CD3D | 0 | 0 | 0 | 1.041 | 0.757 | 0 | 0 | 0 | 0 | 0 | 0 | 0 | 0 |\n",
       "\n"
      ],
      "text/plain": [
       "   interaction_ID     AML-0024 AML-0160 AML-0693 AML-1371 AML-2123 AML-3133\n",
       "43 B:HLA-C_NK:CD3D    0        0        0        1.099    0.808    0       \n",
       "44 DC:HLA-C_NK:CD3D   0        0        0        0.990    0.000    0       \n",
       "45 Ery:HLA-C_NK:CD3D  0        0        0        0.598    0.355    0       \n",
       "46 Gran:HLA-C_NK:CD3D 0        0        0        0.919    0.769    0       \n",
       "47 HSPC:HLA-C_NK:CD3D 0        0        0        0.758    0.598    0       \n",
       "48 Mono:HLA-C_NK:CD3D 0        0        0        1.041    0.757    0       \n",
       "   AML-4340 healthy-1 healthy-2 healthy-3 healthy-4 healthy-4003 healthy-5\n",
       "43 0        0         0         0         0         0            0        \n",
       "44 0        0         0         0         0         0            0        \n",
       "45 0        0         0         0         0         0            0        \n",
       "46 0        0         0         0         0         0            0        \n",
       "47 0        0         0         0         0         0            0        \n",
       "48 0        0         0         0         0         0            0        "
      ]
     },
     "metadata": {},
     "output_type": "display_data"
    }
   ],
   "source": [
    "head(multiplied_df)"
   ]
  },
  {
   "cell_type": "code",
   "execution_count": null,
   "id": "bcedd899",
   "metadata": {},
   "outputs": [],
   "source": []
  },
  {
   "cell_type": "code",
   "execution_count": 81,
   "id": "365620bc",
   "metadata": {},
   "outputs": [],
   "source": [
    "write.csv(multiplied_df, paste0(final_out,\"CPDB_significant_weights.csv\"))"
   ]
  },
  {
   "cell_type": "code",
   "execution_count": 82,
   "id": "535f7244",
   "metadata": {},
   "outputs": [],
   "source": [
    "write.csv(df, paste0(final_out,\"CPDB_anno_interactions.csv\"))"
   ]
  },
  {
   "cell_type": "code",
   "execution_count": null,
   "id": "3e9545b5",
   "metadata": {},
   "outputs": [],
   "source": []
  },
  {
   "cell_type": "code",
   "execution_count": null,
   "id": "1633d7bc",
   "metadata": {},
   "outputs": [],
   "source": []
  },
  {
   "cell_type": "code",
   "execution_count": null,
   "id": "48bce3cd",
   "metadata": {},
   "outputs": [],
   "source": []
  },
  {
   "cell_type": "code",
   "execution_count": null,
   "id": "7eb5a527",
   "metadata": {},
   "outputs": [],
   "source": [
    "write.csv(matrix_result, paste0(final_out,\"CPDB_weights.csv\"))"
   ]
  },
  {
   "cell_type": "code",
   "execution_count": null,
   "id": "0e811c1e",
   "metadata": {},
   "outputs": [],
   "source": []
  },
  {
   "cell_type": "code",
   "execution_count": 46,
   "id": "09bfa566",
   "metadata": {},
   "outputs": [],
   "source": [
    "anno <- read.csv(paste0(final_out,\"CPDB_anno_interaction.csv\"))"
   ]
  },
  {
   "cell_type": "code",
   "execution_count": 47,
   "id": "f9c8c0ab",
   "metadata": {},
   "outputs": [],
   "source": [
    "results <- read.csv(paste0(final_out,\"CPDB_results.csv\"))"
   ]
  },
  {
   "cell_type": "code",
   "execution_count": 48,
   "id": "e908c497",
   "metadata": {},
   "outputs": [],
   "source": [
    "threshold_log2FC <- 1"
   ]
  },
  {
   "cell_type": "code",
   "execution_count": 49,
   "id": "1fc96ad0",
   "metadata": {},
   "outputs": [],
   "source": [
    "upregulated_anno <- anno[anno$log2>1,]"
   ]
  },
  {
   "cell_type": "code",
   "execution_count": 50,
   "id": "b61cafef",
   "metadata": {},
   "outputs": [],
   "source": [
    "downregulated_anno <- anno[anno$log2<1,]"
   ]
  },
  {
   "cell_type": "code",
   "execution_count": 51,
   "id": "f006f78a",
   "metadata": {},
   "outputs": [],
   "source": [
    "upregulated <- filter(results, interaction_ID %in% upregulated_anno$interaction_ID)"
   ]
  },
  {
   "cell_type": "code",
   "execution_count": 52,
   "id": "719b05a8",
   "metadata": {},
   "outputs": [],
   "source": [
    "downregulated <- filter(results, interaction_ID %in% downregulated_anno$interaction_ID)"
   ]
  },
  {
   "cell_type": "code",
   "execution_count": null,
   "id": "5ba82b79",
   "metadata": {},
   "outputs": [],
   "source": []
  },
  {
   "cell_type": "code",
   "execution_count": 59,
   "id": "cd0fb860",
   "metadata": {},
   "outputs": [],
   "source": [
    "write.csv(upregulated_anno, paste0(final_out,\"upregulated_anno.csv\"))\n",
    "write.csv(downregulated_anno, paste0(final_out,\"downregulated_anno.csv\"))\n",
    "write.csv(upregulated, paste0(final_out,\"upregulated.csv\"))\n",
    "write.csv(downregulated, paste0(final_out,\"downregulated.csv\"))"
   ]
  },
  {
   "cell_type": "code",
   "execution_count": null,
   "id": "4da46591",
   "metadata": {},
   "outputs": [],
   "source": []
  },
  {
   "cell_type": "code",
   "execution_count": 221,
   "id": "5c897ccc",
   "metadata": {},
   "outputs": [
    {
     "data": {
      "text/html": [
       "'/home/mami/Maria/polish/community-paper/src/method_comparison/compare_algorithms/run_CellPhoneDB/run_algorithm'"
      ],
      "text/latex": [
       "'/home/mami/Maria/polish/community-paper/src/method\\_comparison/compare\\_algorithms/run\\_CellPhoneDB/run\\_algorithm'"
      ],
      "text/markdown": [
       "'/home/mami/Maria/polish/community-paper/src/method_comparison/compare_algorithms/run_CellPhoneDB/run_algorithm'"
      ],
      "text/plain": [
       "[1] \"/home/mami/Maria/polish/community-paper/src/method_comparison/compare_algorithms/run_CellPhoneDB/run_algorithm\""
      ]
     },
     "metadata": {},
     "output_type": "display_data"
    }
   ],
   "source": [
    "getwd()"
   ]
  },
  {
   "cell_type": "code",
   "execution_count": null,
   "id": "d15daae8",
   "metadata": {},
   "outputs": [],
   "source": []
  },
  {
   "cell_type": "code",
   "execution_count": null,
   "id": "01b91b22",
   "metadata": {},
   "outputs": [],
   "source": []
  }
 ],
 "metadata": {
  "kernelspec": {
   "display_name": "R",
   "language": "R",
   "name": "ir"
  },
  "language_info": {
   "codemirror_mode": "r",
   "file_extension": ".r",
   "mimetype": "text/x-r-source",
   "name": "R",
   "pygments_lexer": "r",
   "version": "4.1.2"
  }
 },
 "nbformat": 4,
 "nbformat_minor": 5
}
