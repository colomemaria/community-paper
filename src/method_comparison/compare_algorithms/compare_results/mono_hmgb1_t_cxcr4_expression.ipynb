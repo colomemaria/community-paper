{
 "cells": [
  {
   "cell_type": "code",
   "execution_count": 1,
   "id": "8e0d5e97",
   "metadata": {},
   "outputs": [],
   "source": [
    "import pandas as pd\n",
    "import scanpy as sc\n",
    "import anndata as ad\n",
    "import matplotlib.pyplot as plt"
   ]
  },
  {
   "cell_type": "code",
   "execution_count": 2,
   "id": "9ff35f39",
   "metadata": {},
   "outputs": [],
   "source": [
    "data = sc.read_mtx(\"../../../data_preprocessing/Lasry/2.filtering/outs/counts_norm.mtx\",'float64').T"
   ]
  },
  {
   "cell_type": "code",
   "execution_count": 3,
   "id": "d5eaf220",
   "metadata": {},
   "outputs": [
    {
     "name": "stderr",
     "output_type": "stream",
     "text": [
      "/tmp/ipykernel_5593/2411688661.py:1: DtypeWarning: Columns (21,25,26,27,28,29,31,32,33,34,35,36,37,40,41,42,43,46,47,49,54,56,57,60,64,66,67,69) have mixed types. Specify dtype option on import or set low_memory=False.\n",
      "  anno_cells = pd.read_csv(\"../../../data_preprocessing/Lasry/2.filtering/outs/anno_cells_norm.txt\", sep = \"\\t\")\n"
     ]
    }
   ],
   "source": [
    "anno_cells = pd.read_csv(\"../../../data_preprocessing/Lasry/2.filtering/outs/anno_cells_norm.txt\", sep = \"\\t\") \n",
    "anno_samples = pd.read_csv(\"../../../data_preprocessing/Lasry/2.filtering/outs/anno_samples_norm.txt\", sep = \"\\t\") \n",
    "anno_genes = pd.read_csv( \"../../../data_preprocessing/Lasry/2.filtering/outs/anno_genes_norm.txt\", sep = \"\\t\") \n"
   ]
  },
  {
   "cell_type": "code",
   "execution_count": 4,
   "id": "e23b51c5",
   "metadata": {},
   "outputs": [
    {
     "name": "stdout",
     "output_type": "stream",
     "text": [
      "data.var_names[1:10]\n",
      "Index(['LINC01409', 'LINC01128', 'LINC00115', 'FAM41C', 'AL645608.2', 'NOC2L',\n",
      "       'KLHL17', 'PLEKHN1', 'HES4'],\n",
      "      dtype='object', name='gene_symbol')\n"
     ]
    }
   ],
   "source": [
    "data.var_names=anno_genes['gene_symbol']\n",
    "print(\"data.var_names[1:10]\")\n",
    "print(data.var_names[1:10])\n",
    "data.var = anno_genes\n",
    "data.var.index = data.var.index.astype(str)"
   ]
  },
  {
   "cell_type": "code",
   "execution_count": 5,
   "id": "8138db1e",
   "metadata": {},
   "outputs": [],
   "source": [
    "from matplotlib.colors import LinearSegmentedColormap\n",
    "\n",
    "colors = [(0.7, 0.7, 0.7), (1, 0, 0)] # From gray to red\n",
    "cmap_name = 'gray_to_red'\n",
    "colormap = LinearSegmentedColormap.from_list(cmap_name, colors, N=256)"
   ]
  },
  {
   "cell_type": "code",
   "execution_count": null,
   "id": "82febb51",
   "metadata": {},
   "outputs": [],
   "source": []
  },
  {
   "cell_type": "code",
   "execution_count": null,
   "id": "a467d6b9",
   "metadata": {},
   "outputs": [],
   "source": []
  },
  {
   "cell_type": "code",
   "execution_count": 6,
   "id": "4d69c7f2",
   "metadata": {},
   "outputs": [
    {
     "name": "stdout",
     "output_type": "stream",
     "text": [
      "Index(['2020.09.15.AML0024.CATCAAGTCCGAGAAG',\n",
      "       '2020.09.15.AML0024.CATCCACAGGGACCAT',\n",
      "       '2020.09.15.AML0024.CCTCAACAGAGCAAGA',\n",
      "       '2020.09.15.AML0024.CCTCAACAGTTCCATG',\n",
      "       '2020.09.15.AML0024.CCTCAACGTAGAATAC',\n",
      "       '2020.09.15.AML0024.CCTCAACGTTCTCCCA',\n",
      "       '2020.09.15.AML0024.CCTCAACTCCGAACGC',\n",
      "       '2020.09.15.AML0024.CCTCAACTCTAGTCAG',\n",
      "       '2020.09.15.AML0024.CCTCACAAGACAGTCG'],\n",
      "      dtype='object', name='cell_ID')\n"
     ]
    }
   ],
   "source": [
    "data.obs_names=anno_cells['cell_ID']\n",
    "print(data.obs_names[1:10])\n",
    "data.obs = anno_cells\n",
    "data.obs.index = data.obs.index.astype(str)"
   ]
  },
  {
   "cell_type": "code",
   "execution_count": 7,
   "id": "fed8e8e2",
   "metadata": {},
   "outputs": [],
   "source": [
    "## make column health_status_patient_ID\n",
    "#annot = []\n",
    "#annot=data.obs[\"health_status\"].astype('str')+\"_\"+data.obs[\"sample_ID\"].astype('str')\n",
    "#data.obs[\"health_status_patient_ID\"] = annot"
   ]
  },
  {
   "cell_type": "code",
   "execution_count": null,
   "id": "b51ef3d1",
   "metadata": {},
   "outputs": [],
   "source": []
  },
  {
   "cell_type": "code",
   "execution_count": 8,
   "id": "8dbf6c89",
   "metadata": {},
   "outputs": [],
   "source": [
    "# gene=anno_genes.gene_symbol[1:10].to_list()"
   ]
  },
  {
   "cell_type": "code",
   "execution_count": 9,
   "id": "f0c89974",
   "metadata": {},
   "outputs": [
    {
     "data": {
      "text/plain": [
       "AnnData object with n_obs × n_vars = 46702 × 15770\n",
       "    obs: 'sample_ID', 'cell', 'UMAP_1', 'UMAP_2', 'orig.ident', 'samples', 'Broad_cell_identity', 'Cell_type_identity', 'clusters_res.2', 'CNV_pos', 'malignant', 'aml', 'ap_aml_age', 'age_group', 'sex.x', 'inflammation_group', 'occupancy_score', 'GSM', 'date', 'cell_ID', 'cell_type_original', 'Sample.ID', 'sex.y', 'Age', 'Sequencing', 'Institution', 'Manuscript.ID', 'Dx', 'DxELN_Cytogenetic', 'Cytogenetics', 'Overall.survival', 'Flow.report.summary', 'RAS.pathway', 'NPM1', 'IDH', 'TET2', 'TP53', 'RUNX1', 'CBF', 'MLL.rearranged', 'IDH1', 'IDH2', 'ASXL1', 'BCOR', 'CBL', 'CEBPAdm', 'CSF3R', 'DNMT3A', 'ETV6', 'FLT3.TKD', 'FLT3.ITD', 'GATA2', 'JAK2', 'KIT', 'NPM1.1', 'NRAS', 'KRAS', 'PTPN11', 'PHF6', 'RAD21', 'RUNX1.1', 'SETBP1', 'SMC1A', 'STAG2', 'SRSF2', 'SF3B1', 'TET2.1', 'U2AF1', 'WT1', 'TP53.1', 'ZRSR2', 'health_status', 'case_or_control', 'cell_type', 'cell_subtype', 'total_counts_raw', 'mito_counts', 'frac_mito', 'nr_genes', 'counts_upper_threshold', 'counts_lower_threshold', 'genes_lower_threshold', 'counts_upper_filter', 'counts_lower_filter', 'genes_lower_filter', 'cell_filter', 'threshold_celltype_size', 'celltype_size_cf', 'celltype_size_filter', 'cell_type_ID', 'total_counts_raw_cf_ctf_gf', 'total_counts_raw_cf_ctf_gf_sf'\n",
       "    var: 'gene_symbol', 'is_in_LR_database', 'isLigand', 'isReceptor', 'sum_pseudobulkCellType_expr', 'sum_pseudobulkCellType_expr_threshold', 'sum_pseudobulkCellType_expr_filter'"
      ]
     },
     "execution_count": 9,
     "metadata": {},
     "output_type": "execute_result"
    }
   ],
   "source": [
    "data"
   ]
  },
  {
   "cell_type": "code",
   "execution_count": 10,
   "id": "5806f25b",
   "metadata": {},
   "outputs": [],
   "source": [
    "data.var_names=anno_genes['gene_symbol']"
   ]
  },
  {
   "cell_type": "code",
   "execution_count": 11,
   "id": "184775cb",
   "metadata": {},
   "outputs": [],
   "source": [
    "import warnings\n",
    "warnings.filterwarnings('ignore')"
   ]
  },
  {
   "cell_type": "code",
   "execution_count": 12,
   "id": "7def0cd7",
   "metadata": {},
   "outputs": [],
   "source": [
    "import numpy as np"
   ]
  },
  {
   "cell_type": "code",
   "execution_count": 15,
   "id": "d4b2bf70-a92c-4908-bc06-69779691acd1",
   "metadata": {},
   "outputs": [],
   "source": [
    "x=\"heatlhy1\""
   ]
  },
  {
   "cell_type": "code",
   "execution_count": 20,
   "id": "e0590c99-fedd-4c8d-bc3f-1288520ebda0",
   "metadata": {},
   "outputs": [
    {
     "data": {
      "text/plain": [
       "array(['AML-0024', 'AML-0160', 'AML-0693', 'AML-1371', 'AML-2123',\n",
       "       'AML-3133', 'AML-4340', 'healthy-1', 'healthy-2', 'healthy-3',\n",
       "       'healthy-4', 'healthy-4003', 'healthy-5'], dtype=object)"
      ]
     },
     "execution_count": 20,
     "metadata": {},
     "output_type": "execute_result"
    }
   ],
   "source": [
    "data.obs[\"sample_ID\"].unique()"
   ]
  },
  {
   "cell_type": "code",
   "execution_count": 48,
   "id": "25d027bf-6a3a-41fc-a875-d185874e76f3",
   "metadata": {},
   "outputs": [],
   "source": [
    "# split by monocytic and non-monocytic AML\n",
    "annot=[]\n",
    "for x in data.obs[\"sample_ID\"]:\n",
    "    if x in [\"AML-0024\", \"AML-0160\"]:\n",
    "        annot.append(\"-mono\")\n",
    "        \n",
    "    else:\n",
    "        annot.append(\"\")\n",
    "data.obs[\"AML_status\"] = annot      "
   ]
  },
  {
   "cell_type": "code",
   "execution_count": 32,
   "id": "137623b9",
   "metadata": {},
   "outputs": [],
   "source": [
    "# # split by monocytic and non-monocytic AML\n",
    "# annot=[]\n",
    "# for x in data.obs[\"sample_ID\"]:\n",
    "#     if x in [\"AML-0024\", \"AML-0160\"]:\n",
    "#         annot.append(\"-mono\")\n",
    "#     else:\n",
    "#         annot.append(\"-other\")\n",
    "# data.obs[\"AML_status\"] = annot      \n"
   ]
  },
  {
   "cell_type": "code",
   "execution_count": null,
   "id": "f0447859-bd4b-4b07-906e-48f81e679bab",
   "metadata": {},
   "outputs": [],
   "source": []
  },
  {
   "cell_type": "code",
   "execution_count": 49,
   "id": "9d35dba1",
   "metadata": {},
   "outputs": [
    {
     "name": "stdout",
     "output_type": "stream",
     "text": [
      "0        AML-mono\n",
      "1        AML-mono\n",
      "2        AML-mono\n",
      "3        AML-mono\n",
      "4        AML-mono\n",
      "           ...   \n",
      "46697     healthy\n",
      "46698     healthy\n",
      "46699     healthy\n",
      "46700     healthy\n",
      "46701     healthy\n",
      "Name: health_status_detailed, Length: 46702, dtype: object\n"
     ]
    }
   ],
   "source": [
    "annot = []\n",
    "annot=data.obs[\"health_status\"].astype('str')+data.obs[\"AML_status\"].astype('str')\n",
    "data.obs[\"health_status_detailed\"] = annot\n",
    "\n",
    "print(data.obs[\"health_status_detailed\"])"
   ]
  },
  {
   "cell_type": "code",
   "execution_count": 41,
   "id": "f4e919d5",
   "metadata": {},
   "outputs": [
    {
     "data": {
      "text/plain": [
       "{'AML-mono', 'AML-other', 'healthy'}"
      ]
     },
     "execution_count": 41,
     "metadata": {},
     "output_type": "execute_result"
    }
   ],
   "source": [
    "set(data.obs[\"health_status_detailed\"])"
   ]
  },
  {
   "cell_type": "code",
   "execution_count": 42,
   "id": "b0fce71d",
   "metadata": {},
   "outputs": [],
   "source": [
    "def plot_stacked_by_healthstatus(adata,cell_type_list,gene_list, vmax,vmin):\n",
    "    \n",
    "    subset_data=adata[adata.obs[\"cell_type\"].isin(cell_type_list)]\n",
    "    subset_data.var[\"cell_type_gene_symbol\"] =cell_type_list[0]+\":\"+subset_data.var[\"gene_symbol\"]\n",
    "\n",
    "    sc.pl.stacked_violin(subset_data\n",
    "                       ,groupby=\"health_status\"#\"health_status_patient_ID\",\n",
    "                        ,var_names=cell_type_list[0]+\":\"+genes_list[0],\n",
    "                        swap_axes=True,\n",
    "                        cmap=\"YlGnBu\"\n",
    "                         ,vmax = vmax\n",
    "                         ,vmin = vmin\n",
    "                         ,gene_symbols=\"cell_type_gene_symbol\"\n",
    "                         ,categories_order=['healthy','AML']\n",
    "                        ,return_fig=True\n",
    "                         ,figsize=[4,1]\n",
    "                        #,stripplot=True\n",
    "                        #,jitter=True\n",
    "                        #,save=\"by_individual_\"+cell_type+\"_\"+gene+\".pdf\"\n",
    "                        ).show()"
   ]
  },
  {
   "cell_type": "code",
   "execution_count": 50,
   "id": "a988e0bc",
   "metadata": {},
   "outputs": [],
   "source": [
    "def plot_stacked_by_healthstatus_detailed(adata,cell_type_list,gene_list, vmax,vmin):\n",
    "    \n",
    "    subset_data=adata[adata.obs[\"cell_type\"].isin(cell_type_list)]\n",
    "    subset_data.var[\"cell_type_gene_symbol\"] =cell_type_list[0]+\":\"+subset_data.var[\"gene_symbol\"]\n",
    "\n",
    "    sc.pl.stacked_violin(subset_data\n",
    "                       ,groupby=\"health_status_detailed\"#\"health_status_patient_ID\",\n",
    "                        ,var_names=cell_type_list[0]+\":\"+genes_list[0],\n",
    "                        swap_axes=True,\n",
    "                        cmap=\"YlGnBu\"\n",
    "                         ,vmax = vmax\n",
    "                         ,vmin=vmin\n",
    "                         ,gene_symbols=\"cell_type_gene_symbol\"\n",
    "                         ,categories_order=['healthy','AML','AML-mono']\n",
    "                        ,return_fig=True\n",
    "                         ,figsize=[4,1]\n",
    "                        #,stripplot=True\n",
    "                        #,jitter=True\n",
    "                        #,save=\"by_individual_\"+cell_type+\"_\"+gene+\".pdf\"\n",
    "                        ).show()"
   ]
  },
  {
   "cell_type": "code",
   "execution_count": 55,
   "id": "c0f14f52",
   "metadata": {
    "scrolled": true
   },
   "outputs": [
    {
     "data": {
      "image/png": "[encoded data removed]",
      "text/plain": [
       "<Figure size 400x100 with 4 Axes>"
      ]
     },
     "metadata": {},
     "output_type": "display_data"
    },
    {
     "data": {
      "image/png": "[encoded data removed]",
      "text/plain": [
       "<Figure size 400x100 with 4 Axes>"
      ]
     },
     "metadata": {},
     "output_type": "display_data"
    },
    {
     "data": {
      "image/png": "[encoded data removed]",
      "text/plain": [
       "<Figure size 400x100 with 4 Axes>"
      ]
     },
     "metadata": {},
     "output_type": "display_data"
    },
    {
     "data": {
      "image/png": "[encoded data removed]",
      "text/plain": [
       "<Figure size 400x100 with 4 Axes>"
      ]
     },
     "metadata": {},
     "output_type": "display_data"
    }
   ],
   "source": [
    "cell_type_list=['Mono']\n",
    "genes_list=['HMGB1']\n",
    "plot_stacked_by_healthstatus(data,cell_type_list,genes_list,vmin = 0, vmax = 2.5)\n",
    "cell_type_list=['Mono']\n",
    "genes_list=['HMGB1']\n",
    "plot_stacked_by_healthstatus_detailed(data,cell_type_list,genes_list, vmax = 2.5,vmin=0)\n",
    "cell_type_list=['T']\n",
    "genes_list=['CXCR4']\n",
    "plot_stacked_by_healthstatus(data,cell_type_list,genes_list, vmax = 2.5,vmin=0)\n",
    "cell_type_list=['T',]\n",
    "genes_list=['CXCR4']\n",
    "plot_stacked_by_healthstatus_detailed(data,cell_type_list,genes_list, vmax = 2.5,vmin=0)"
   ]
  },
  {
   "cell_type": "code",
   "execution_count": null,
   "id": "7db01740-a523-4037-93f5-334257cd9282",
   "metadata": {},
   "outputs": [],
   "source": []
  }
 ],
 "metadata": {
  "kernelspec": {
   "display_name": "Python 3 (ipykernel)",
   "language": "python",
   "name": "python3"
  },
  "language_info": {
   "codemirror_mode": {
    "name": "ipython",
    "version": 3
   },
   "file_extension": ".py",
   "mimetype": "text/x-python",
   "name": "python",
   "nbconvert_exporter": "python",
   "pygments_lexer": "ipython3",
   "version": "3.10.2"
  },
  "toc": {
   "base_numbering": 1,
   "nav_menu": {},
   "number_sections": true,
   "sideBar": true,
   "skip_h1_title": false,
   "title_cell": "Table of Contents",
   "title_sidebar": "Contents",
   "toc_cell": false,
   "toc_position": {},
   "toc_section_display": true,
   "toc_window_display": false
  }
 },
 "nbformat": 4,
 "nbformat_minor": 5
}
