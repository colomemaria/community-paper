{
 "cells": [
  {
   "cell_type": "code",
   "execution_count": 1,
   "id": "0f981bc1",
   "metadata": {},
   "outputs": [],
   "source": [
    "import pandas as pd\n",
    "import numpy as np\n",
    "from matplotlib_venn import venn2, venn2_circles, venn2_unweighted\n",
    "from matplotlib_venn import venn3, venn3_circles\n",
    "import matplotlib.pyplot as plt\n",
    "import seaborn as sns"
   ]
  },
  {
   "cell_type": "code",
   "execution_count": 1,
   "id": "ce1111d1",
   "metadata": {},
   "outputs": [
    {
     "data": {
      "text/plain": [
       "'/home/mami/Maria/results/community-paper/src/method_comparison/compare_results'"
      ]
     },
     "execution_count": 1,
     "metadata": {},
     "output_type": "execute_result"
    }
   ],
   "source": [
    "pwd"
   ]
  },
  {
   "cell_type": "code",
   "execution_count": 2,
   "id": "0e39d0b1",
   "metadata": {},
   "outputs": [],
   "source": [
    "# Read in the CellPhoneDB results CSV file and set the interaction column as the index.\n",
    "# Any missing values (NaNs) in the dataframe are filled with zeros.\n",
    "# These missing values are due to merged samples.\n",
    "\n",
    "cpdb = pd.read_csv('../../../results/method_comparison/compare_results/CPDB/CPDB_results.csv', index_col=None)\n",
    "cpdb = cpdb.fillna(0)\n",
    "cpdb.set_index(\"interaction\", inplace=True)\n",
    "\n",
    "cpdb = pd.read_csv ('CPDB/CPDB_results.csv', index_col=None)\n",
    "cpdb = cpdb.fillna(0)\n",
    "cpdb.set_index(\"interaction\", inplace=True)"
   ]
  },
  {
   "cell_type": "code",
   "execution_count": 3,
   "id": "3312b761",
   "metadata": {},
   "outputs": [],
   "source": [
    "# Read in the NicheNet results CSV file and set the interaction column as the index.\n",
    "# Any missing values (NaNs) in the dataframe are filled with zeros.\n",
    "# These missing values are due to merged samples.\n",
    "nnet = pd.read_csv(\"NicheNet/NicheNet_results.csv\")\n",
    "nnet = nnet.fillna(0)\n",
    "nnet.set_index(\"interaction\", inplace=True)"
   ]
  },
  {
   "cell_type": "code",
   "execution_count": 4,
   "id": "97dc48fd",
   "metadata": {},
   "outputs": [],
   "source": [
    "community = pd.read_csv(\"community/community_results.csv\")\n",
    "community.rename(columns={\"Unnamed: 0\": \"interaction\"}, inplace=True)\n",
    "community.set_index(\"interaction\", inplace=True)"
   ]
  },
  {
   "cell_type": "code",
   "execution_count": 5,
   "id": "98674eed",
   "metadata": {},
   "outputs": [],
   "source": [
    "# Create a list of column names in the dataframe that contain the string \"healthy\"\n",
    "healthy = [col for col in community.columns if 'healthy' in col]\n",
    "\n",
    "# Create a list of column names in the dataframe that contain the string \"AML\"\n",
    "AML = [col for col in community.columns if 'AML' in col]\n"
   ]
  },
  {
   "cell_type": "code",
   "execution_count": 6,
   "id": "56c7ba4b",
   "metadata": {},
   "outputs": [],
   "source": [
    "# drop the raw if all the values are zero\n",
    "def drop_zeros(df):\n",
    "    return df.loc[~(df==0).all(axis=1)]"
   ]
  },
  {
   "cell_type": "code",
   "execution_count": null,
   "id": "e40aaa19",
   "metadata": {},
   "outputs": [],
   "source": []
  },
  {
   "cell_type": "code",
   "execution_count": 7,
   "id": "47884fba",
   "metadata": {},
   "outputs": [],
   "source": [
    "# Create two new dataframes by separating the `community` dataframe into case and control groups based on column names.\n",
    "# `community_control` contains only the columns from `community` that contain the string \"healthy\",\n",
    "# while `community_case` contains only the columns from `community` that contain the string \"AML\".\n",
    "\n",
    "community_control=community[healthy]\n",
    "community_control=drop_zeros(community_control)\n",
    "community_case=community[AML]\n",
    "community_case=drop_zeros(community_case)"
   ]
  },
  {
   "cell_type": "code",
   "execution_count": 8,
   "id": "4173123a",
   "metadata": {},
   "outputs": [],
   "source": [
    "# same step for NicheNet\n",
    "nnet_control=nnet[healthy]\n",
    "nnet_control=drop_zeros(nnet_control)\n",
    "nnet_case=nnet[AML]\n",
    "nnet_case=drop_zeros(nnet_case)"
   ]
  },
  {
   "cell_type": "code",
   "execution_count": 9,
   "id": "eb6857cc",
   "metadata": {},
   "outputs": [],
   "source": [
    "# same step for CellPhoneDB\n",
    "cpdb_control=cpdb[healthy]\n",
    "cpdb_control=drop_zeros(cpdb_control)\n",
    "cpdb_case=cpdb[AML]\n",
    "cpdb_case=drop_zeros(cpdb_case)"
   ]
  },
  {
   "cell_type": "code",
   "execution_count": 63,
   "id": "e2d97e67",
   "metadata": {},
   "outputs": [],
   "source": [
    "# get the list of interaction in the control group for CellPhoneDB\n",
    "cpdb_control_interactions = cpdb_control.index.values.tolist()"
   ]
  },
  {
   "cell_type": "code",
   "execution_count": 64,
   "id": "3a219742",
   "metadata": {},
   "outputs": [],
   "source": [
    "# get the list of interaction in the control group for NicheNet\n",
    "nnet_control_interactions = nnet_control.index.values.tolist()"
   ]
  },
  {
   "cell_type": "code",
   "execution_count": 65,
   "id": "cdf4de49",
   "metadata": {},
   "outputs": [],
   "source": [
    "community_control_interactions = community_control.index.values.tolist()"
   ]
  },
  {
   "cell_type": "code",
   "execution_count": 66,
   "id": "d134efd7",
   "metadata": {},
   "outputs": [
    {
     "data": {
      "text/plain": [
       "<matplotlib_venn._common.VennDiagram at 0x7fc23f8b2680>"
      ]
     },
     "execution_count": 66,
     "metadata": {},
     "output_type": "execute_result"
    },
    {
     "data": {
      "image/png": "[encoded data removed]",
      "text/plain": [
       "<Figure size 432x288 with 1 Axes>"
      ]
     },
     "metadata": {},
     "output_type": "display_data"
    }
   ],
   "source": [
    "# plot the interactions in the control samples\n",
    "venn3([set(community_control_interactions),set(nnet_control_interactions), set(cpdb_control_interactions)], (\"community\",'NicheNet', 'CPDB'))"
   ]
  },
  {
   "cell_type": "code",
   "execution_count": 67,
   "id": "f3b54d2d",
   "metadata": {},
   "outputs": [],
   "source": [
    "cpdb_case_interactions = cpdb_case.index.values.tolist()\n",
    "nnet_case_interactions = nnet_case.index.values.tolist()\n",
    "community_case_interactions = community_case.index.values.tolist()"
   ]
  },
  {
   "cell_type": "code",
   "execution_count": 68,
   "id": "0c2a5f3f",
   "metadata": {},
   "outputs": [
    {
     "data": {
      "image/png": "[encoded data removed]",
      "text/plain": [
       "<Figure size 432x288 with 1 Axes>"
      ]
     },
     "metadata": {},
     "output_type": "display_data"
    }
   ],
   "source": [
    "# plot the interactions in the case samples\n",
    "\n",
    "venn3([set(community_case_interactions),set(nnet_case_interactions), set(cpdb_case_interactions)], (\"community\",'NicheNet', 'CPDB'))\n",
    "plt.savefig('compare_case_interactions.png')"
   ]
  },
  {
   "cell_type": "code",
   "execution_count": 69,
   "id": "75005ec9",
   "metadata": {},
   "outputs": [
    {
     "data": {
      "text/plain": [
       "<matplotlib_venn._common.VennDiagram at 0x7fc23f1a0130>"
      ]
     },
     "execution_count": 69,
     "metadata": {},
     "output_type": "execute_result"
    },
    {
     "data": {
      "image/png": "[encoded data removed]",
      "text/plain": [
       "<Figure size 432x288 with 1 Axes>"
      ]
     },
     "metadata": {},
     "output_type": "display_data"
    }
   ],
   "source": [
    "venn3([set(community_case_interactions),set(nnet_case_interactions), set(cpdb_case_interactions)], (\"community\",'NicheNet', 'CPDB'))"
   ]
  },
  {
   "cell_type": "code",
   "execution_count": 70,
   "id": "1048619e",
   "metadata": {},
   "outputs": [],
   "source": [
    "# just wanna get a quick glance at interactions that are in CPDB but not in community\n",
    "not_in_commu=list(set(cpdb_case_interactions) - set(community_case_interactions))"
   ]
  },
  {
   "cell_type": "code",
   "execution_count": 71,
   "id": "68505527",
   "metadata": {
    "scrolled": true
   },
   "outputs": [
    {
     "data": {
      "text/html": [
       "<div>\n",
       "<style scoped>\n",
       "    .dataframe tbody tr th:only-of-type {\n",
       "        vertical-align: middle;\n",
       "    }\n",
       "\n",
       "    .dataframe tbody tr th {\n",
       "        vertical-align: top;\n",
       "    }\n",
       "\n",
       "    .dataframe thead th {\n",
       "        text-align: right;\n",
       "    }\n",
       "</style>\n",
       "<table border=\"1\" class=\"dataframe\">\n",
       "  <thead>\n",
       "    <tr style=\"text-align: right;\">\n",
       "      <th></th>\n",
       "      <th>AML-0024</th>\n",
       "      <th>AML-0160</th>\n",
       "      <th>AML-0693</th>\n",
       "      <th>AML-1371</th>\n",
       "      <th>AML-2123</th>\n",
       "      <th>AML-3133</th>\n",
       "      <th>AML-4340</th>\n",
       "    </tr>\n",
       "    <tr>\n",
       "      <th>interaction</th>\n",
       "      <th></th>\n",
       "      <th></th>\n",
       "      <th></th>\n",
       "      <th></th>\n",
       "      <th></th>\n",
       "      <th></th>\n",
       "      <th></th>\n",
       "    </tr>\n",
       "  </thead>\n",
       "  <tbody>\n",
       "    <tr>\n",
       "      <th>B:GNAS_B:ADRB2</th>\n",
       "      <td>0.438</td>\n",
       "      <td>0.0</td>\n",
       "      <td>0.369</td>\n",
       "      <td>0.488</td>\n",
       "      <td>0.000</td>\n",
       "      <td>0.000</td>\n",
       "      <td>0.518</td>\n",
       "    </tr>\n",
       "    <tr>\n",
       "      <th>B:GNAS_Ery:ADRB2</th>\n",
       "      <td>0.446</td>\n",
       "      <td>0.0</td>\n",
       "      <td>0.000</td>\n",
       "      <td>0.000</td>\n",
       "      <td>0.524</td>\n",
       "      <td>0.000</td>\n",
       "      <td>0.000</td>\n",
       "    </tr>\n",
       "    <tr>\n",
       "      <th>DC:GNAS_B:ADRB2</th>\n",
       "      <td>0.522</td>\n",
       "      <td>0.0</td>\n",
       "      <td>0.498</td>\n",
       "      <td>0.517</td>\n",
       "      <td>0.000</td>\n",
       "      <td>0.000</td>\n",
       "      <td>0.605</td>\n",
       "    </tr>\n",
       "    <tr>\n",
       "      <th>DC:GNAS_Ery:ADRB2</th>\n",
       "      <td>0.529</td>\n",
       "      <td>0.0</td>\n",
       "      <td>0.000</td>\n",
       "      <td>0.000</td>\n",
       "      <td>0.000</td>\n",
       "      <td>0.000</td>\n",
       "      <td>0.000</td>\n",
       "    </tr>\n",
       "    <tr>\n",
       "      <th>Ery:GNAS_B:ADRB2</th>\n",
       "      <td>0.360</td>\n",
       "      <td>0.0</td>\n",
       "      <td>0.316</td>\n",
       "      <td>0.324</td>\n",
       "      <td>0.000</td>\n",
       "      <td>0.000</td>\n",
       "      <td>0.000</td>\n",
       "    </tr>\n",
       "    <tr>\n",
       "      <th>...</th>\n",
       "      <td>...</td>\n",
       "      <td>...</td>\n",
       "      <td>...</td>\n",
       "      <td>...</td>\n",
       "      <td>...</td>\n",
       "      <td>...</td>\n",
       "      <td>...</td>\n",
       "    </tr>\n",
       "    <tr>\n",
       "      <th>Gran:COL4A5_NK:DDR2</th>\n",
       "      <td>0.000</td>\n",
       "      <td>0.0</td>\n",
       "      <td>0.000</td>\n",
       "      <td>0.007</td>\n",
       "      <td>0.000</td>\n",
       "      <td>0.000</td>\n",
       "      <td>0.000</td>\n",
       "    </tr>\n",
       "    <tr>\n",
       "      <th>HSPC:COL4A5_NK:DDR2</th>\n",
       "      <td>0.000</td>\n",
       "      <td>0.0</td>\n",
       "      <td>0.000</td>\n",
       "      <td>0.024</td>\n",
       "      <td>0.000</td>\n",
       "      <td>0.000</td>\n",
       "      <td>0.035</td>\n",
       "    </tr>\n",
       "    <tr>\n",
       "      <th>Gran:COL4A5_NK:CD47</th>\n",
       "      <td>0.000</td>\n",
       "      <td>0.0</td>\n",
       "      <td>0.000</td>\n",
       "      <td>0.259</td>\n",
       "      <td>0.000</td>\n",
       "      <td>0.000</td>\n",
       "      <td>0.000</td>\n",
       "    </tr>\n",
       "    <tr>\n",
       "      <th>Mono:COL4A5_NK:CD47</th>\n",
       "      <td>0.000</td>\n",
       "      <td>0.0</td>\n",
       "      <td>0.000</td>\n",
       "      <td>0.000</td>\n",
       "      <td>0.000</td>\n",
       "      <td>0.106</td>\n",
       "      <td>0.000</td>\n",
       "    </tr>\n",
       "    <tr>\n",
       "      <th>T:COL4A5_NK:CD47</th>\n",
       "      <td>0.000</td>\n",
       "      <td>0.0</td>\n",
       "      <td>0.000</td>\n",
       "      <td>0.000</td>\n",
       "      <td>0.000</td>\n",
       "      <td>0.103</td>\n",
       "      <td>0.000</td>\n",
       "    </tr>\n",
       "  </tbody>\n",
       "</table>\n",
       "<p>87205 rows × 7 columns</p>\n",
       "</div>"
      ],
      "text/plain": [
       "                     AML-0024  AML-0160  AML-0693  AML-1371  AML-2123  \\\n",
       "interaction                                                             \n",
       "B:GNAS_B:ADRB2          0.438       0.0     0.369     0.488     0.000   \n",
       "B:GNAS_Ery:ADRB2        0.446       0.0     0.000     0.000     0.524   \n",
       "DC:GNAS_B:ADRB2         0.522       0.0     0.498     0.517     0.000   \n",
       "DC:GNAS_Ery:ADRB2       0.529       0.0     0.000     0.000     0.000   \n",
       "Ery:GNAS_B:ADRB2        0.360       0.0     0.316     0.324     0.000   \n",
       "...                       ...       ...       ...       ...       ...   \n",
       "Gran:COL4A5_NK:DDR2     0.000       0.0     0.000     0.007     0.000   \n",
       "HSPC:COL4A5_NK:DDR2     0.000       0.0     0.000     0.024     0.000   \n",
       "Gran:COL4A5_NK:CD47     0.000       0.0     0.000     0.259     0.000   \n",
       "Mono:COL4A5_NK:CD47     0.000       0.0     0.000     0.000     0.000   \n",
       "T:COL4A5_NK:CD47        0.000       0.0     0.000     0.000     0.000   \n",
       "\n",
       "                     AML-3133  AML-4340  \n",
       "interaction                              \n",
       "B:GNAS_B:ADRB2          0.000     0.518  \n",
       "B:GNAS_Ery:ADRB2        0.000     0.000  \n",
       "DC:GNAS_B:ADRB2         0.000     0.605  \n",
       "DC:GNAS_Ery:ADRB2       0.000     0.000  \n",
       "Ery:GNAS_B:ADRB2        0.000     0.000  \n",
       "...                       ...       ...  \n",
       "Gran:COL4A5_NK:DDR2     0.000     0.000  \n",
       "HSPC:COL4A5_NK:DDR2     0.000     0.035  \n",
       "Gran:COL4A5_NK:CD47     0.000     0.000  \n",
       "Mono:COL4A5_NK:CD47     0.106     0.000  \n",
       "T:COL4A5_NK:CD47        0.103     0.000  \n",
       "\n",
       "[87205 rows x 7 columns]"
      ]
     },
     "execution_count": 71,
     "metadata": {},
     "output_type": "execute_result"
    }
   ],
   "source": [
    "cpdb_case[cpdb_case.index.isin(not_in_commu)]"
   ]
  },
  {
   "cell_type": "code",
   "execution_count": 72,
   "id": "33a5c85e",
   "metadata": {},
   "outputs": [],
   "source": [
    "# Below function \n",
    "# Standardizes the values in the dataframe by subtracting the mean and dividing by the standard deviation.\n",
    "# Calculates the mean value of each row and adds it as a new column to the dataframe.\n",
    "# Calculates the overall mean value of the mean column.\n",
    "# Returns a new dataframe that includes only rows with mean values greater than the overall mean value.\n",
    "\n",
    "def drop_low(df):\n",
    "    # Standardize the values in the dataframe by subtracting the mean and dividing by the standard deviation\n",
    "    df = (df - df.mean()) / df.std()\n",
    "    \n",
    "    # Calculate the mean value of each row and add it as a new column to the dataframe\n",
    "    df['mean'] = df.mean(axis=1)\n",
    "    \n",
    "    # Calculate the overall mean value of the mean column\n",
    "    mean_value = df['mean'].mean()\n",
    "    \n",
    "    # Return a new dataframe that includes only rows with mean values greater than the overall mean value\n",
    "    return df[df['mean'] > mean_value]\n"
   ]
  },
  {
   "cell_type": "code",
   "execution_count": 73,
   "id": "46be7509",
   "metadata": {},
   "outputs": [],
   "source": [
    "# apply the function above\n",
    "cpdb_case_norm=drop_low(cpdb_case)\n",
    "nnet_case_norm=drop_low(nnet_case)\n",
    "community_case_norm=drop_low(community_case)"
   ]
  },
  {
   "cell_type": "code",
   "execution_count": 74,
   "id": "51f5688b",
   "metadata": {},
   "outputs": [],
   "source": [
    "cpdb_case_interactions = cpdb_case_norm.index.values.tolist()\n",
    "nnet_case_interactions = nnet_case_norm.index.values.tolist()\n",
    "community_case_interactions = community_case_norm.index.values.tolist()"
   ]
  },
  {
   "cell_type": "code",
   "execution_count": 75,
   "id": "d2e0a75e",
   "metadata": {},
   "outputs": [
    {
     "data": {
      "image/png": "[encoded data removed]",
      "text/plain": [
       "<Figure size 432x288 with 1 Axes>"
      ]
     },
     "metadata": {},
     "output_type": "display_data"
    }
   ],
   "source": [
    "venn3([set(community_case_interactions),set(nnet_case_interactions), set(cpdb_case_interactions)], (\"community\",'NicheNet', 'CPDB'))\n",
    "plt.savefig('compare_case_interactions_norm.png')\n"
   ]
  },
  {
   "cell_type": "code",
   "execution_count": 25,
   "id": "cc36754d",
   "metadata": {},
   "outputs": [],
   "source": [
    "cpdb_case_norm=cpdb_case_norm.drop(\"mean\", axis=1)"
   ]
  },
  {
   "cell_type": "code",
   "execution_count": 14,
   "id": "82ced0b8",
   "metadata": {},
   "outputs": [],
   "source": [
    "# Each column contains a list of two values: the number of interactions in the case group and the control group\n",
    "\n",
    "\n",
    "plotdata = pd.DataFrame({\n",
    "\n",
    "    \"community\":[len(community_case),len(community_control)],\n",
    "\n",
    "    \"NicheNet\":[len(nnet_case),len(nnet_control)],\n",
    "\n",
    "    \"CPDB\":[len(cpdb_case),len(cpdb_control)]},\n",
    "\n",
    "    index=[\"case\", \"control\"])"
   ]
  },
  {
   "cell_type": "code",
   "execution_count": 17,
   "id": "2e52eaf4",
   "metadata": {},
   "outputs": [
    {
     "data": {
      "text/html": [
       "<div>\n",
       "<style scoped>\n",
       "    .dataframe tbody tr th:only-of-type {\n",
       "        vertical-align: middle;\n",
       "    }\n",
       "\n",
       "    .dataframe tbody tr th {\n",
       "        vertical-align: top;\n",
       "    }\n",
       "\n",
       "    .dataframe thead th {\n",
       "        text-align: right;\n",
       "    }\n",
       "</style>\n",
       "<table border=\"1\" class=\"dataframe\">\n",
       "  <thead>\n",
       "    <tr style=\"text-align: right;\">\n",
       "      <th></th>\n",
       "      <th>community</th>\n",
       "      <th>NicheNet</th>\n",
       "      <th>CPDB</th>\n",
       "    </tr>\n",
       "  </thead>\n",
       "  <tbody>\n",
       "    <tr>\n",
       "      <th>case</th>\n",
       "      <td>16381</td>\n",
       "      <td>8827</td>\n",
       "      <td>98100</td>\n",
       "    </tr>\n",
       "    <tr>\n",
       "      <th>control</th>\n",
       "      <td>14386</td>\n",
       "      <td>6031</td>\n",
       "      <td>98602</td>\n",
       "    </tr>\n",
       "  </tbody>\n",
       "</table>\n",
       "</div>"
      ],
      "text/plain": [
       "         community  NicheNet   CPDB\n",
       "case         16381      8827  98100\n",
       "control      14386      6031  98602"
      ]
     },
     "execution_count": 17,
     "metadata": {},
     "output_type": "execute_result"
    }
   ],
   "source": [
    "plotdata"
   ]
  },
  {
   "cell_type": "code",
   "execution_count": 16,
   "id": "e0482a3e",
   "metadata": {},
   "outputs": [
    {
     "data": {
      "text/plain": [
       "Text(0, 0.5, '# of interactions')"
      ]
     },
     "execution_count": 16,
     "metadata": {},
     "output_type": "execute_result"
    },
    {
     "data": {
      "image/png": "[encoded data removed]",
      "text/plain": [
       "<Figure size 1080x576 with 1 Axes>"
      ]
     },
     "metadata": {
      "needs_background": "light"
     },
     "output_type": "display_data"
    }
   ],
   "source": [
    "plotdata.plot(kind=\"bar\",figsize=(15, 8))\n",
    "\n",
    "plt.title(\"comparing raw results\")\n",
    "\n",
    "plt.xlabel(\"tools\")\n",
    "\n",
    "plt.ylabel(\"# of interactions\")"
   ]
  },
  {
   "cell_type": "code",
   "execution_count": null,
   "id": "aa73e6e5",
   "metadata": {},
   "outputs": [],
   "source": []
  }
 ],
 "metadata": {
  "kernelspec": {
   "display_name": "Python 3 (ipykernel)",
   "language": "python",
   "name": "python3"
  },
  "language_info": {
   "codemirror_mode": {
    "name": "ipython",
    "version": 3
   },
   "file_extension": ".py",
   "mimetype": "text/x-python",
   "name": "python",
   "nbconvert_exporter": "python",
   "pygments_lexer": "ipython3",
   "version": "3.10.6"
  }
 },
 "nbformat": 4,
 "nbformat_minor": 5
}
