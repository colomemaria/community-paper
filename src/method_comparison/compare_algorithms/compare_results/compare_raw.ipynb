{
 "cells": [
  {
   "cell_type": "code",
   "execution_count": 1,
   "id": "0f981bc1",
   "metadata": {},
   "outputs": [],
   "source": [
    "import pandas as pd\n",
    "import numpy as np\n",
    "from matplotlib_venn import venn2, venn2_circles, venn2_unweighted\n",
    "from matplotlib_venn import venn3, venn3_circles\n",
    "import matplotlib.pyplot as plt\n",
    "import seaborn as sns"
   ]
  },
  {
   "cell_type": "code",
   "execution_count": 3,
   "id": "4b92d78e",
   "metadata": {},
   "outputs": [
    {
     "name": "stderr",
     "output_type": "stream",
     "text": [
      "/tmp/ipykernel_8231/1850601548.py:2: DtypeWarning: Columns (22,26,27,28,29,30,32,33,34,35,36,37,38,41,42,43,44,47,48,50,55,57,58,61,65,67,68,70) have mixed types. Specify dtype option on import or set low_memory=False.\n",
      "  cell_anno = pd.read_csv(\"../../../results/data_preprocessing/Lasry/anno_cells_corr.txt\", delimiter=\"\\t\")\n"
     ]
    }
   ],
   "source": [
    "#read in cell annotation file to split case/control samples\n",
    "cell_anno = pd.read_csv(\"../../../results/data_preprocessing/Lasry/anno_cells_corr.txt\", delimiter=\"\\t\")"
   ]
  },
  {
   "cell_type": "code",
   "execution_count": 4,
   "id": "e24442ba",
   "metadata": {},
   "outputs": [],
   "source": [
    "# Create a list of column names in the dataframe that contain the string \"healthy\"\n",
    "control = cell_anno[cell_anno[\"health_status\"]==\"healthy\"].sample_ID.unique()\n",
    "\n",
    "# Create a list of column names in the dataframe that contain the string \"AML\"\n",
    "case = cell_anno[cell_anno[\"health_status\"]==\"AML\"].sample_ID.unique()\n"
   ]
  },
  {
   "cell_type": "code",
   "execution_count": 6,
   "id": "0e39d0b1",
   "metadata": {},
   "outputs": [],
   "source": [
    "# Read in the CellPhoneDB results CSV file and set the interaction column as the index.\n",
    "# Any missing values (NaNs) in the dataframe are filled with zeros.\n",
    "# These missing values are due to merged samples.\n",
    "\n",
    "cpdb = pd.read_csv('../../../results/method_comparison/compare_algorithms/Lasry/CPDB/CPDB_significant_weights.csv', index_col=None)\n",
    "cpdb = cpdb.fillna(0)\n",
    "cpdb.set_index(\"interaction_ID\", inplace=True)\n",
    "cpdb_anno = pd.read_csv('../../../results/method_comparison/compare_algorithms/Lasry/CPDB/CPDB_anno_interactions.csv', index_col=None)\n",
    "cpdb_anno.drop(\"Unnamed: 0\", axis=1, inplace=True)"
   ]
  },
  {
   "cell_type": "code",
   "execution_count": 7,
   "id": "3312b761",
   "metadata": {},
   "outputs": [],
   "source": [
    "# Read in the NicheNet results CSV file and set the interaction column as the index.\n",
    "# Any missing values (NaNs) in the dataframe are filled with zeros.\n",
    "# These missing values are due to merged samples.\n",
    "nnet = pd.read_csv(\"../../../results/method_comparison/compare_algorithms/Lasry/NicheNet/NicheNet_scores.csv\")\n",
    "nnet_anno = pd.read_csv(\"../../../results/method_comparison/compare_algorithms/Lasry/NicheNet/NicheNet_anno_interactions.csv\")\n",
    "nnet = nnet.fillna(0)\n",
    "nnet.set_index(\"interaction_ID\", inplace=True)\n",
    "nnet_anno.drop(\"Unnamed: 0\", axis=1, inplace=True)"
   ]
  },
  {
   "cell_type": "code",
   "execution_count": null,
   "id": "9e152ce4",
   "metadata": {},
   "outputs": [],
   "source": []
  },
  {
   "cell_type": "code",
   "execution_count": 9,
   "id": "97dc48fd",
   "metadata": {},
   "outputs": [],
   "source": [
    "community = pd.read_csv(\"../../../results/method_comparison/compare_algorithms/Lasry/community/community_weights.csv\")\n",
    "community.rename(columns={\"Unnamed: 0\": \"interaction_ID\"}, inplace=True)\n",
    "community.set_index(\"interaction_ID\", inplace=True)\n",
    "community_anno = pd.read_csv(\"../../../results/method_comparison/compare_algorithms/Lasry/community/community_anno_interactions.csv\")\n",
    "community_anno.drop(\"Unnamed: 0\", axis=1, inplace=True)\n",
    "\n",
    "community_anno_lower_threshold = pd.read_csv(\"../../../results/method_comparison/compare_algorithms/Lasry/CPDB/CPDB_significant_weights.csv\")\n",
    "community_anno_lower_threshold.drop(\"Unnamed: 0\", axis=1, inplace=True)\n",
    "\n",
    "# community_zero = pd.read_csv(\"../../../results/method_comparison/compare_results/community/community_results_0.csv\")\n",
    "# # community_zero.drop(\"Unnamed: 0\", axis=1, inplace=True)"
   ]
  },
  {
   "cell_type": "code",
   "execution_count": 10,
   "id": "9de43a80",
   "metadata": {},
   "outputs": [],
   "source": [
    "good_quality = community_anno[community_anno[\"passed_QC_filter\"]==True]\n",
    "community_good_quality = community[community.index.isin(good_quality[\"interaction_ID\"])]"
   ]
  },
  {
   "cell_type": "code",
   "execution_count": 11,
   "id": "179eb05d",
   "metadata": {},
   "outputs": [],
   "source": [
    "significant = community_anno[community_anno[\"sign\"]==True]\n",
    "community_significant=community[community.index.isin(significant[\"interaction_ID\"])]"
   ]
  },
  {
   "cell_type": "code",
   "execution_count": 12,
   "id": "705a6d73",
   "metadata": {},
   "outputs": [
    {
     "ename": "KeyError",
     "evalue": "'sign'",
     "output_type": "error",
     "traceback": [
      "\u001b[0;31m---------------------------------------------------------------------------\u001b[0m",
      "\u001b[0;31mKeyError\u001b[0m                                  Traceback (most recent call last)",
      "\u001b[0;32m~/.local/lib/python3.10/site-packages/pandas/core/indexes/base.py\u001b[0m in \u001b[0;36mget_loc\u001b[0;34m(self, key)\u001b[0m\n\u001b[1;32m   3652\u001b[0m         \u001b[0;32mtry\u001b[0m\u001b[0;34m:\u001b[0m\u001b[0;34m\u001b[0m\u001b[0;34m\u001b[0m\u001b[0m\n\u001b[0;32m-> 3653\u001b[0;31m             \u001b[0;32mreturn\u001b[0m \u001b[0mself\u001b[0m\u001b[0;34m.\u001b[0m\u001b[0m_engine\u001b[0m\u001b[0;34m.\u001b[0m\u001b[0mget_loc\u001b[0m\u001b[0;34m(\u001b[0m\u001b[0mcasted_key\u001b[0m\u001b[0;34m)\u001b[0m\u001b[0;34m\u001b[0m\u001b[0;34m\u001b[0m\u001b[0m\n\u001b[0m\u001b[1;32m   3654\u001b[0m         \u001b[0;32mexcept\u001b[0m \u001b[0mKeyError\u001b[0m \u001b[0;32mas\u001b[0m \u001b[0merr\u001b[0m\u001b[0;34m:\u001b[0m\u001b[0;34m\u001b[0m\u001b[0;34m\u001b[0m\u001b[0m\n",
      "\u001b[0;32m~/.local/lib/python3.10/site-packages/pandas/_libs/index.pyx\u001b[0m in \u001b[0;36mpandas._libs.index.IndexEngine.get_loc\u001b[0;34m()\u001b[0m\n",
      "\u001b[0;32m~/.local/lib/python3.10/site-packages/pandas/_libs/index.pyx\u001b[0m in \u001b[0;36mpandas._libs.index.IndexEngine.get_loc\u001b[0;34m()\u001b[0m\n",
      "\u001b[0;32mpandas/_libs/hashtable_class_helper.pxi\u001b[0m in \u001b[0;36mpandas._libs.hashtable.PyObjectHashTable.get_item\u001b[0;34m()\u001b[0m\n",
      "\u001b[0;32mpandas/_libs/hashtable_class_helper.pxi\u001b[0m in \u001b[0;36mpandas._libs.hashtable.PyObjectHashTable.get_item\u001b[0;34m()\u001b[0m\n",
      "\u001b[0;31mKeyError\u001b[0m: 'sign'",
      "\nThe above exception was the direct cause of the following exception:\n",
      "\u001b[0;31mKeyError\u001b[0m                                  Traceback (most recent call last)",
      "\u001b[0;32m/tmp/ipykernel_8231/2358481098.py\u001b[0m in \u001b[0;36m<module>\u001b[0;34m\u001b[0m\n\u001b[0;32m----> 1\u001b[0;31m \u001b[0msignificant_lower_threshold\u001b[0m \u001b[0;34m=\u001b[0m \u001b[0mcommunity_anno_lower_threshold\u001b[0m\u001b[0;34m[\u001b[0m\u001b[0mcommunity_anno_lower_threshold\u001b[0m\u001b[0;34m[\u001b[0m\u001b[0;34m\"sign\"\u001b[0m\u001b[0;34m]\u001b[0m\u001b[0;34m==\u001b[0m\u001b[0;32mTrue\u001b[0m\u001b[0;34m]\u001b[0m\u001b[0;34m\u001b[0m\u001b[0;34m\u001b[0m\u001b[0m\n\u001b[0m\u001b[1;32m      2\u001b[0m \u001b[0mcommunity_significant_lower_threshold\u001b[0m\u001b[0;34m=\u001b[0m\u001b[0mcommunity\u001b[0m\u001b[0;34m[\u001b[0m\u001b[0mcommunity\u001b[0m\u001b[0;34m.\u001b[0m\u001b[0mindex\u001b[0m\u001b[0;34m.\u001b[0m\u001b[0misin\u001b[0m\u001b[0;34m(\u001b[0m\u001b[0msignificant_lower_threshold\u001b[0m\u001b[0;34m[\u001b[0m\u001b[0;34m\"interaction_ID\"\u001b[0m\u001b[0;34m]\u001b[0m\u001b[0;34m)\u001b[0m\u001b[0;34m]\u001b[0m\u001b[0;34m\u001b[0m\u001b[0;34m\u001b[0m\u001b[0m\n",
      "\u001b[0;32m~/.local/lib/python3.10/site-packages/pandas/core/frame.py\u001b[0m in \u001b[0;36m__getitem__\u001b[0;34m(self, key)\u001b[0m\n\u001b[1;32m   3759\u001b[0m             \u001b[0;32mif\u001b[0m \u001b[0mself\u001b[0m\u001b[0;34m.\u001b[0m\u001b[0mcolumns\u001b[0m\u001b[0;34m.\u001b[0m\u001b[0mnlevels\u001b[0m \u001b[0;34m>\u001b[0m \u001b[0;36m1\u001b[0m\u001b[0;34m:\u001b[0m\u001b[0;34m\u001b[0m\u001b[0;34m\u001b[0m\u001b[0m\n\u001b[1;32m   3760\u001b[0m                 \u001b[0;32mreturn\u001b[0m \u001b[0mself\u001b[0m\u001b[0;34m.\u001b[0m\u001b[0m_getitem_multilevel\u001b[0m\u001b[0;34m(\u001b[0m\u001b[0mkey\u001b[0m\u001b[0;34m)\u001b[0m\u001b[0;34m\u001b[0m\u001b[0;34m\u001b[0m\u001b[0m\n\u001b[0;32m-> 3761\u001b[0;31m             \u001b[0mindexer\u001b[0m \u001b[0;34m=\u001b[0m \u001b[0mself\u001b[0m\u001b[0;34m.\u001b[0m\u001b[0mcolumns\u001b[0m\u001b[0;34m.\u001b[0m\u001b[0mget_loc\u001b[0m\u001b[0;34m(\u001b[0m\u001b[0mkey\u001b[0m\u001b[0;34m)\u001b[0m\u001b[0;34m\u001b[0m\u001b[0;34m\u001b[0m\u001b[0m\n\u001b[0m\u001b[1;32m   3762\u001b[0m             \u001b[0;32mif\u001b[0m \u001b[0mis_integer\u001b[0m\u001b[0;34m(\u001b[0m\u001b[0mindexer\u001b[0m\u001b[0;34m)\u001b[0m\u001b[0;34m:\u001b[0m\u001b[0;34m\u001b[0m\u001b[0;34m\u001b[0m\u001b[0m\n\u001b[1;32m   3763\u001b[0m                 \u001b[0mindexer\u001b[0m \u001b[0;34m=\u001b[0m \u001b[0;34m[\u001b[0m\u001b[0mindexer\u001b[0m\u001b[0;34m]\u001b[0m\u001b[0;34m\u001b[0m\u001b[0;34m\u001b[0m\u001b[0m\n",
      "\u001b[0;32m~/.local/lib/python3.10/site-packages/pandas/core/indexes/base.py\u001b[0m in \u001b[0;36mget_loc\u001b[0;34m(self, key)\u001b[0m\n\u001b[1;32m   3653\u001b[0m             \u001b[0;32mreturn\u001b[0m \u001b[0mself\u001b[0m\u001b[0;34m.\u001b[0m\u001b[0m_engine\u001b[0m\u001b[0;34m.\u001b[0m\u001b[0mget_loc\u001b[0m\u001b[0;34m(\u001b[0m\u001b[0mcasted_key\u001b[0m\u001b[0;34m)\u001b[0m\u001b[0;34m\u001b[0m\u001b[0;34m\u001b[0m\u001b[0m\n\u001b[1;32m   3654\u001b[0m         \u001b[0;32mexcept\u001b[0m \u001b[0mKeyError\u001b[0m \u001b[0;32mas\u001b[0m \u001b[0merr\u001b[0m\u001b[0;34m:\u001b[0m\u001b[0;34m\u001b[0m\u001b[0;34m\u001b[0m\u001b[0m\n\u001b[0;32m-> 3655\u001b[0;31m             \u001b[0;32mraise\u001b[0m \u001b[0mKeyError\u001b[0m\u001b[0;34m(\u001b[0m\u001b[0mkey\u001b[0m\u001b[0;34m)\u001b[0m \u001b[0;32mfrom\u001b[0m \u001b[0merr\u001b[0m\u001b[0;34m\u001b[0m\u001b[0;34m\u001b[0m\u001b[0m\n\u001b[0m\u001b[1;32m   3656\u001b[0m         \u001b[0;32mexcept\u001b[0m \u001b[0mTypeError\u001b[0m\u001b[0;34m:\u001b[0m\u001b[0;34m\u001b[0m\u001b[0;34m\u001b[0m\u001b[0m\n\u001b[1;32m   3657\u001b[0m             \u001b[0;31m# If we have a listlike key, _check_indexing_error will raise\u001b[0m\u001b[0;34m\u001b[0m\u001b[0;34m\u001b[0m\u001b[0m\n",
      "\u001b[0;31mKeyError\u001b[0m: 'sign'"
     ]
    }
   ],
   "source": [
    "significant_lower_threshold = community_anno_lower_threshold[community_anno_lower_threshold[\"sign\"]==True]\n",
    "community_significant_lower_threshold=community[community.index.isin(significant_lower_threshold[\"interaction_ID\"])]"
   ]
  },
  {
   "cell_type": "code",
   "execution_count": 13,
   "id": "5a2c2033",
   "metadata": {},
   "outputs": [],
   "source": [
    "def index_to_list(df):\n",
    "    return df.index.values.tolist()"
   ]
  },
  {
   "cell_type": "code",
   "execution_count": 14,
   "id": "17958f87",
   "metadata": {},
   "outputs": [],
   "source": [
    "# below functions gets the number of non zero interactions in case/control. \n",
    "# the input is weight matrix and anno_interactions\n",
    "def get_nr_samples(df, anno_df):\n",
    "    mask_healthy = df.loc[:, control] != 0\n",
    "    row_sums_healthy = np.sum(mask_healthy, axis=1)\n",
    "    anno_df['nr_nonZero_controls'] = row_sums_healthy.values\n",
    "    \n",
    "    mask_case = df.loc[:, case] != 0\n",
    "    row_sums_case = np.sum(mask_case, axis=1)\n",
    "    anno_df['nr_nonZero_case'] = row_sums_case.values\n",
    "    return anno_df"
   ]
  },
  {
   "cell_type": "code",
   "execution_count": 15,
   "id": "33dfea55",
   "metadata": {},
   "outputs": [],
   "source": [
    "def plot_density(df_anno,title):\n",
    "    # plot scatter plot\n",
    "    sns.scatterplot(x=df_anno['nr_nonZero_controls'], y=df_anno['nr_nonZero_case'], s=20, alpha=0.5)\n",
    "\n",
    "    # add 2D density plot\n",
    "    sns.kdeplot(x=df_anno['nr_nonZero_controls'], y=df_anno['nr_nonZero_case'], \n",
    "                cmap=\"Blues\", shade=True, alpha=0.7)\n",
    "\n",
    "    # set labels\n",
    "    plt.xlabel('number of control samples')\n",
    "    plt.ylabel('number of case samples')\n",
    "    plt.title(title)"
   ]
  },
  {
   "cell_type": "code",
   "execution_count": 16,
   "id": "4b7ee06b",
   "metadata": {
    "scrolled": true
   },
   "outputs": [
    {
     "data": {
      "image/png": "[encoded data removed]",
      "text/plain": [
       "<Figure size 432x288 with 1 Axes>"
      ]
     },
     "metadata": {},
     "output_type": "display_data"
    }
   ],
   "source": [
    "venn3([set(index_to_list(community)), set(index_to_list(nnet)), set(index_to_list(cpdb))], (\"community\", 'NicheNet', 'CPDB'))\n",
    "plt.title(\"community: raw interactions\")\n",
    "plt.savefig('venn_raw_interactions.jpeg', bbox_inches='tight')"
   ]
  },
  {
   "cell_type": "code",
   "execution_count": 17,
   "id": "e751e032",
   "metadata": {},
   "outputs": [],
   "source": [
    "community_anno_raw = get_nr_samples(community, community_anno)"
   ]
  },
  {
   "cell_type": "code",
   "execution_count": 18,
   "id": "d5ffbfe5",
   "metadata": {},
   "outputs": [
    {
     "name": "stderr",
     "output_type": "stream",
     "text": [
      "/tmp/ipykernel_8231/2058819949.py:6: FutureWarning: \n",
      "\n",
      "`shade` is now deprecated in favor of `fill`; setting `fill=True`.\n",
      "This will become an error in seaborn v0.14.0; please update your code.\n",
      "\n",
      "  sns.kdeplot(x=df_anno['nr_nonZero_controls'], y=df_anno['nr_nonZero_case'],\n"
     ]
    },
    {
     "data": {
      "image/png": "[encoded data removed]",
      "text/plain": [
       "<Figure size 432x288 with 1 Axes>"
      ]
     },
     "metadata": {
      "needs_background": "light"
     },
     "output_type": "display_data"
    }
   ],
   "source": [
    "plot_density(community_anno_raw, \"community: raw interactions\")\n",
    "plt.savefig('density_community_raw.jpeg', bbox_inches='tight')"
   ]
  },
  {
   "cell_type": "code",
   "execution_count": 19,
   "id": "5d09f2dc",
   "metadata": {},
   "outputs": [],
   "source": [
    "nnet_anno = get_nr_samples(nnet, nnet_anno)"
   ]
  },
  {
   "cell_type": "code",
   "execution_count": 20,
   "id": "54e791ab",
   "metadata": {},
   "outputs": [
    {
     "name": "stderr",
     "output_type": "stream",
     "text": [
      "/tmp/ipykernel_8231/2058819949.py:6: FutureWarning: \n",
      "\n",
      "`shade` is now deprecated in favor of `fill`; setting `fill=True`.\n",
      "This will become an error in seaborn v0.14.0; please update your code.\n",
      "\n",
      "  sns.kdeplot(x=df_anno['nr_nonZero_controls'], y=df_anno['nr_nonZero_case'],\n"
     ]
    },
    {
     "data": {
      "image/png": "[encoded data removed]",
      "text/plain": [
       "<Figure size 432x288 with 1 Axes>"
      ]
     },
     "metadata": {
      "needs_background": "light"
     },
     "output_type": "display_data"
    }
   ],
   "source": [
    "plot_density(nnet_anno, \"NicheNet\")\n",
    "plt.savefig('density_NicheNet.jpeg', bbox_inches='tight')"
   ]
  },
  {
   "cell_type": "code",
   "execution_count": 21,
   "id": "5efbca5f",
   "metadata": {},
   "outputs": [],
   "source": [
    "cpdb_anno = get_nr_samples(cpdb, cpdb_anno)"
   ]
  },
  {
   "cell_type": "code",
   "execution_count": 22,
   "id": "553318cf",
   "metadata": {},
   "outputs": [
    {
     "name": "stderr",
     "output_type": "stream",
     "text": [
      "/tmp/ipykernel_8231/2058819949.py:6: FutureWarning: \n",
      "\n",
      "`shade` is now deprecated in favor of `fill`; setting `fill=True`.\n",
      "This will become an error in seaborn v0.14.0; please update your code.\n",
      "\n",
      "  sns.kdeplot(x=df_anno['nr_nonZero_controls'], y=df_anno['nr_nonZero_case'],\n"
     ]
    },
    {
     "data": {
      "image/png": "[encoded data removed]",
      "text/plain": [
       "<Figure size 432x288 with 1 Axes>"
      ]
     },
     "metadata": {
      "needs_background": "light"
     },
     "output_type": "display_data"
    }
   ],
   "source": [
    "plot_density(cpdb_anno, \"CellPhoneDB\")\n",
    "plt.savefig('density_CellPhoneDB.jpeg', bbox_inches='tight')"
   ]
  },
  {
   "cell_type": "code",
   "execution_count": 23,
   "id": "11850fb7",
   "metadata": {},
   "outputs": [
    {
     "data": {
      "image/png": "[encoded data removed]",
      "text/plain": [
       "<Figure size 432x288 with 1 Axes>"
      ]
     },
     "metadata": {},
     "output_type": "display_data"
    }
   ],
   "source": [
    "#good quality interactions from community\n",
    "\n",
    "venn3([set(index_to_list(community_good_quality)), set(index_to_list(nnet)), set(index_to_list(cpdb))], (\"community\", 'NicheNet', 'CPDB'))\n",
    "plt.title(\"community: good quality interactions\")\n",
    "plt.savefig('venn_good_quality.jpeg', bbox_inches='tight')"
   ]
  },
  {
   "cell_type": "code",
   "execution_count": null,
   "id": "98db762a",
   "metadata": {},
   "outputs": [],
   "source": [
    "community_good_anno = community_anno_raw[community_anno_raw.interaction_ID.isin(index_to_list(community_good_quality))]"
   ]
  },
  {
   "cell_type": "code",
   "execution_count": null,
   "id": "89a74a7a",
   "metadata": {},
   "outputs": [],
   "source": [
    "plot_density(community_good_anno, \"community: good quality interactions\")\n",
    "plt.savefig('density_good_quality.jpeg', bbox_inches='tight')"
   ]
  },
  {
   "cell_type": "code",
   "execution_count": null,
   "id": "a8a1bbce",
   "metadata": {},
   "outputs": [],
   "source": [
    "#significant interactions from community\n",
    "# fig = plt.figure(figsize=(12, 12))\n",
    "out=venn3([set(index_to_list(community_significant)), set(index_to_list(nnet)), set(index_to_list(cpdb))], (\"community\", 'NicheNet', 'CPDB'))\n",
    "for x in out.subset_labels:\n",
    "    if x:\n",
    "        x.set_text(\"\")\n",
    "\n",
    "plt.title(\"community: differential interactions\")\n",
    "plt.savefig('venn_significant.jpeg', bbox_inches='tight')"
   ]
  },
  {
   "cell_type": "code",
   "execution_count": null,
   "id": "896f36b7",
   "metadata": {},
   "outputs": [],
   "source": [
    "community_significant = community_anno_raw[community_anno_raw.interaction_ID.isin(index_to_list(community_significant))]"
   ]
  },
  {
   "cell_type": "code",
   "execution_count": null,
   "id": "6d12e9fb",
   "metadata": {},
   "outputs": [],
   "source": [
    "plot_density(community_significant, \"community: differential interactions\")\n",
    "plt.savefig('density_significant.jpeg', bbox_inches='tight')"
   ]
  },
  {
   "cell_type": "code",
   "execution_count": null,
   "id": "4ce22c5f",
   "metadata": {},
   "outputs": [],
   "source": [
    "#significant interactions with lower thresholds\n",
    "\n",
    "venn2([set(index_to_list(community_significant_lower_threshold)), set(index_to_list(community_significant))], (\"lower_sign\", 'significant'))\n",
    "plt.savefig('venn_strict.jpeg', bbox_inches='tight')"
   ]
  },
  {
   "cell_type": "code",
   "execution_count": null,
   "id": "5cd68607",
   "metadata": {},
   "outputs": [],
   "source": [
    "community_strict = community_anno_raw[community_anno_raw.interaction_ID.isin(index_to_list(community_significant_lower_threshold))]"
   ]
  },
  {
   "cell_type": "code",
   "execution_count": null,
   "id": "60b809c2",
   "metadata": {},
   "outputs": [],
   "source": [
    "plot_density(community_strict, \"community: differential interactions(strict)\")\n",
    "plt.savefig('density_strict.jpeg', bbox_inches='tight')"
   ]
  },
  {
   "cell_type": "code",
   "execution_count": null,
   "id": "af1b855a",
   "metadata": {},
   "outputs": [],
   "source": [
    "good_q=set(index_to_list(community_good_quality))\n",
    "nnet_edges=set(index_to_list(nnet))"
   ]
  },
  {
   "cell_type": "code",
   "execution_count": null,
   "id": "fb4f8086",
   "metadata": {},
   "outputs": [],
   "source": [
    "dif=nnet_edges.difference(good_q)"
   ]
  },
  {
   "cell_type": "code",
   "execution_count": null,
   "id": "02ac4f55",
   "metadata": {},
   "outputs": [],
   "source": [
    "len(set(index_to_list(nnet)).difference(set(index_to_list(community_good_quality))))"
   ]
  },
  {
   "cell_type": "code",
   "execution_count": null,
   "id": "e562aa4d",
   "metadata": {
    "scrolled": true
   },
   "outputs": [],
   "source": [
    "dif_anno=community_anno[community_anno.interaction_ID.isin(dif)]"
   ]
  },
  {
   "cell_type": "code",
   "execution_count": null,
   "id": "0268bc54",
   "metadata": {},
   "outputs": [],
   "source": [
    "failed_log10_cumw=dif_anno[dif_anno[\"passed_log10_cum_weight_filter\"]==False]"
   ]
  },
  {
   "cell_type": "code",
   "execution_count": null,
   "id": "73a322fc",
   "metadata": {},
   "outputs": [],
   "source": [
    "failed_frac_samples=dif_anno[dif_anno[\"passed_frac_samples_filter\"]==False]"
   ]
  },
  {
   "cell_type": "code",
   "execution_count": null,
   "id": "14efc6af",
   "metadata": {},
   "outputs": [],
   "source": [
    "failed_log10_cond=dif_anno[dif_anno[\"passed_log10_meanexpr_per_condition_filter\"]==False]"
   ]
  },
  {
   "cell_type": "code",
   "execution_count": null,
   "id": "718cc244",
   "metadata": {},
   "outputs": [],
   "source": [
    "failed_frac_samples.head()"
   ]
  },
  {
   "cell_type": "code",
   "execution_count": null,
   "id": "94aff464",
   "metadata": {},
   "outputs": [],
   "source": [
    "venn3([set(failed_log10_cumw[\"interaction_ID\"]), set(failed_frac_samples[\"interaction_ID\"]), set(failed_log10_cond[\"interaction_ID\"])], (\"failed_log10_cumw\", 'failed_frac_samples', 'failed_log10_cond'))\n",
    "plt.savefig('venn_failed_interactions.jpeg', bbox_inches='tight')"
   ]
  },
  {
   "cell_type": "code",
   "execution_count": null,
   "id": "6d3295cf",
   "metadata": {},
   "outputs": [],
   "source": [
    "failed_frac_samples.reset_index(inplace=True)"
   ]
  },
  {
   "cell_type": "code",
   "execution_count": null,
   "id": "ae880e40",
   "metadata": {},
   "outputs": [],
   "source": [
    "nnet_frac = nnet[nnet.index.isin(failed_frac_samples[\"interaction_ID\"])]"
   ]
  },
  {
   "cell_type": "code",
   "execution_count": null,
   "id": "017242f4",
   "metadata": {},
   "outputs": [],
   "source": [
    "nnet_frac"
   ]
  },
  {
   "cell_type": "code",
   "execution_count": null,
   "id": "4fc8df46",
   "metadata": {},
   "outputs": [],
   "source": [
    "dif_anno_nnet=nnet_anno[nnet_anno.interaction_ID.isin(nnet_frac.index)]"
   ]
  },
  {
   "cell_type": "code",
   "execution_count": null,
   "id": "69c3d530",
   "metadata": {},
   "outputs": [],
   "source": [
    "nnet_frac"
   ]
  },
  {
   "cell_type": "code",
   "execution_count": null,
   "id": "b594fa24",
   "metadata": {},
   "outputs": [],
   "source": [
    "dif_anno_nnet"
   ]
  },
  {
   "cell_type": "code",
   "execution_count": null,
   "id": "0629d061",
   "metadata": {},
   "outputs": [],
   "source": [
    "failed_frac_samples=get_nr_samples(nnet_frac, dif_anno_nnet)"
   ]
  },
  {
   "cell_type": "code",
   "execution_count": null,
   "id": "e58800fd",
   "metadata": {},
   "outputs": [],
   "source": [
    "failed_frac_samples[\"tuple\"]=list(zip(failed_frac_samples.nr_nonZero_controls, failed_frac_samples.nr_nonZero_case))"
   ]
  },
  {
   "cell_type": "code",
   "execution_count": null,
   "id": "b773b095",
   "metadata": {},
   "outputs": [],
   "source": [
    "failed_frac_samples[failed_frac_samples[\"tuple\"]==(0,0)]"
   ]
  },
  {
   "cell_type": "code",
   "execution_count": null,
   "id": "aef7f13c",
   "metadata": {},
   "outputs": [],
   "source": [
    "community[community.index.isin(failed_frac_samples.interaction_ID)]"
   ]
  },
  {
   "cell_type": "code",
   "execution_count": null,
   "id": "b0a4d739",
   "metadata": {},
   "outputs": [],
   "source": [
    "plot_density(failed_frac_samples,\"failed fraction\")\n",
    "plt.savefig('density_failed_interactions.jpeg', bbox_inches='tight')"
   ]
  },
  {
   "cell_type": "code",
   "execution_count": null,
   "id": "a6a1d8e4",
   "metadata": {},
   "outputs": [],
   "source": [
    "# def plot_scatter2(df):\n",
    "    \n",
    "    \n",
    "#     df[\"tuple\"]=list(zip(df.nr_nonZero_controls, df.nr_nonZero_case))\n",
    "#     df_group=df.groupby('tuple').sum()\n",
    "    \n",
    "    \n",
    "#     x_max = max(df_group['nr_nonZero_controls'])+250\n",
    "#     y_max = max(df_group['nr_nonZero_case'])+250\n",
    "\n",
    "#     plt.scatter(x=df_group['nr_nonZero_controls'], y=df_group['nr_nonZero_case'])\n",
    "#     plt.plot([0, x_max], [0, y_max], color='red')\n",
    "\n",
    "#     plt.xlabel('nr_nonZero_controls')\n",
    "#     plt.ylabel('nr_nonZero_cases')\n",
    "    \n",
    "    \n",
    "    \n",
    "\n",
    "# #     plt.plot([0,4.5], [0,4.5], color='red')\n",
    "#     plt.xlim(0,x_max)\n",
    "#     plt.ylim(0,y_max)\n",
    "    \n",
    "#     # plt.xscale(\"log\")\n",
    "#     # plt.yscale(\"log\")\n",
    "\n",
    "#     # Add diagonal line\n",
    "#     # log_min_val = min(min(np.log10(nnet_anno_group['nr_nonZero_controls'])), min(np.log10(nnet_anno_group['nr_nonZero_case'])))\n",
    "#     # log_max_val = max(max(np.log10(nnet_anno_group['nr_nonZero_controls'])), max(np.log10(nnet_anno_group['nr_nonZero_case'])))\n",
    "\n",
    "#     # transformed_min_val = 10**log_min_val\n",
    "#     # transformed_max_val = 10**log_max_val\n",
    "\n",
    "#     # plt.plot([transformed_min_val, transformed_max_val], [transformed_min_val, transformed_max_val], 'r--')\n",
    "\n",
    "\n",
    "#     plt.show()"
   ]
  },
  {
   "cell_type": "code",
   "execution_count": null,
   "id": "76979eb8",
   "metadata": {},
   "outputs": [],
   "source": [
    "# plot_scatter2(failed_frac_samples)"
   ]
  },
  {
   "cell_type": "code",
   "execution_count": null,
   "id": "77e40c0e",
   "metadata": {},
   "outputs": [],
   "source": []
  },
  {
   "cell_type": "code",
   "execution_count": null,
   "id": "02202b1d",
   "metadata": {},
   "outputs": [],
   "source": [
    "# Each column contains a list of two values: the number of interactions in the case group and the control group\n",
    "\n",
    "\n",
    "plotdata = pd.DataFrame({\n",
    "\n",
    "    \"community\":[len(index_to_list(community))],\n",
    "\n",
    "    \"NicheNet\":[len(index_to_list(nnet))],\n",
    "\n",
    "    \"CPDB\":[len(index_to_list(cpdb))]},\n",
    "\n",
    "    index=[\"# of total interactions\"])"
   ]
  },
  {
   "cell_type": "code",
   "execution_count": null,
   "id": "a9eab14d",
   "metadata": {},
   "outputs": [],
   "source": [
    "plotdata"
   ]
  },
  {
   "cell_type": "code",
   "execution_count": null,
   "id": "b78faffe",
   "metadata": {},
   "outputs": [],
   "source": [
    "plotdata.plot(kind=\"bar\",figsize=(15, 8))\n",
    "\n",
    "plt.title(\"comparing raw results\")\n",
    "\n",
    "plt.xlabel(\"tools\")\n",
    "\n",
    "plt.ylabel(\"# of interactions\")\n",
    "plt.savefig('barplot_raw_interactions.jpeg', bbox_inches='tight')"
   ]
  },
  {
   "cell_type": "code",
   "execution_count": null,
   "id": "c2299833",
   "metadata": {},
   "outputs": [],
   "source": [
    "# Each column contains a list of two values: the number of interactions in the case group and the control group\n",
    "\n",
    "\n",
    "plotcommunity = pd.DataFrame({\n",
    "\n",
    "    \"community_raw\":[len(index_to_list(community))],\n",
    "\n",
    "    \"community_good_quality\":[len(index_to_list(community_good_quality))],\n",
    "\n",
    "    \"community_significant\":[len(index_to_list(community_significant))],\n",
    "    \"community_significant_lower\":[len(index_to_list(community_significant_lower_threshold))]},\n",
    "    \n",
    "\n",
    "    index=[\"# of total interactions\"])"
   ]
  },
  {
   "cell_type": "code",
   "execution_count": null,
   "id": "8710b53a",
   "metadata": {},
   "outputs": [],
   "source": [
    "plotcommunity"
   ]
  },
  {
   "cell_type": "code",
   "execution_count": null,
   "id": "1dc17fcd",
   "metadata": {},
   "outputs": [],
   "source": [
    "# plotcommunity.plot(kind=\"bar\",figsize=(15, 8))\n",
    "\n",
    "# plt.title(\"comparing raw results\")\n",
    "\n",
    "# plt.xlabel(\"tools\")\n",
    "\n",
    "# plt.ylabel(\"# of interactions\")"
   ]
  },
  {
   "cell_type": "code",
   "execution_count": null,
   "id": "440250c5",
   "metadata": {},
   "outputs": [],
   "source": []
  },
  {
   "cell_type": "code",
   "execution_count": null,
   "id": "3a23c57d",
   "metadata": {},
   "outputs": [],
   "source": []
  },
  {
   "cell_type": "code",
   "execution_count": null,
   "id": "1c95f676",
   "metadata": {},
   "outputs": [],
   "source": [
    "# failed_frac_samples[\"tuple\"]=list(zip(failed_frac_samples.nr_nonZero_controls, failed_frac_samples.nr_nonZero_case))\n",
    "# df_group=failed_frac_samples.groupby('tuple').sum()\n",
    "\n",
    "    \n",
    "# x_max = max(df_group['nr_nonZero_controls'])+250\n",
    "# y_max = max(df_group['nr_nonZero_case'])+250\n",
    "\n",
    "# plt.scatter(x=df_group['nr_nonZero_controls'], y=df_group['nr_nonZero_case'])\n",
    "\n",
    "# # loop through each point in the plot and add annotations\n",
    "# for i, row in df_group.iterrows():\n",
    "#     x = row['nr_nonZero_controls']\n",
    "#     y = row['nr_nonZero_case']\n",
    "#     label = f\"({i[0]}, {i[1]})\"\n",
    "#     plt.annotate(label, (x, y))\n",
    "    \n",
    "# # add the diagonal line\n",
    "# plt.plot([0, x_max], [0, y_max], color='red')\n",
    "\n",
    "# # set the x-axis and y-axis limits\n",
    "# plt.xlim(0, x_max)\n",
    "# plt.ylim(0, y_max)\n",
    "\n",
    "# # add x-axis and y-axis labels\n",
    "# plt.xlabel('nr_nonZero_controls')\n",
    "# plt.ylabel('nr_nonZero_cases')\n",
    "\n",
    "\n",
    "\n",
    "# plt.show()"
   ]
  },
  {
   "cell_type": "code",
   "execution_count": null,
   "id": "65569006",
   "metadata": {},
   "outputs": [],
   "source": []
  }
 ],
 "metadata": {
  "kernelspec": {
   "display_name": "Python 3 (ipykernel)",
   "language": "python",
   "name": "python3"
  },
  "language_info": {
   "codemirror_mode": {
    "name": "ipython",
    "version": 3
   },
   "file_extension": ".py",
   "mimetype": "text/x-python",
   "name": "python",
   "nbconvert_exporter": "python",
   "pygments_lexer": "ipython3",
   "version": "3.10.12"
  }
 },
 "nbformat": 4,
 "nbformat_minor": 5
}
