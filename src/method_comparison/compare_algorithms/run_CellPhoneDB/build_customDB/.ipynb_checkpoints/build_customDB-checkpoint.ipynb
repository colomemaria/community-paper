{
 "cells": [
  {
   "cell_type": "markdown",
   "id": "732b5d23",
   "metadata": {},
   "source": [
    "# CellPhoneDB structure\n",
    "\n",
    "CellPhoneDB uses sql database, which is provided as .db, there are 6 tables, we extract these tables as csv. \n",
    "\n",
    "You can do it via sqlite tool, the below command extracts the gene_table and saves it as gene_table.csv\n",
    "\n",
    "```sqlite3 -header -csv cellphone_pre.db \"select * from gene_table;\" > gene_table.csv```\n",
    "\n",
    "Or you can use DB Browser for SQLite and, extract all the tables as csv through GUI. \n",
    "\n",
    "\n",
    "https://sqlitebrowser.org/\n",
    "\n",
    "## CellPhoneDB input files\n",
    "\n",
    "Adapted from \n",
    "\n",
    "Efremova, M., Vento-Tormo, M., Teichmann, S. A., & Vento-Tormo, R. (2020). CellPhoneDB: inferring cell-cell communication from combined expression of multi-subunit ligand-receptor complexes. Nature protocols, 15(4), 1484–1506. https://doi.org/10.1038/s41596-020-0292-x\n",
    "\n",
    "CellPhoneDB stores ligand-receptor interactions as well as other properties of the interacting\n",
    "partners, including their subunit architecture and gene and protein identifiers. In order to create\n",
    "the content of the database, four main .csv data files are required: “gene_input.csv”,\n",
    "“protein_input.csv”, “ complex_input.csv” and “interaction_input.csv”\n",
    "\n",
    "As we do not have complex (heteromeric) interactions in our database, we do not need this input. \n",
    "\n",
    "**gene_input:**\n",
    "\n",
    "Mandatory fields: `gene_name`, `uniprot`, `hgnc_symbol` and `ensembl`\n",
    "\n",
    "This file is crucial for establishing the link between the scRNA-seq data and the interaction pairs stored at the protein level. It includes the following gene and protein identifiers: i) gene\n",
    "name (“gene_name”); ii) UniProt identifier (“uniprot”); iiii) HUGO nomenclature committee\n",
    "symbol (HGNC) (“hgnc_symbol”) and iv) gene ensembl identifier (ENSG) (“ensembl”).\n",
    "\n",
    "**protein_input:**\n",
    "\n",
    "Mandatory fields: “uniprot”; “protein_name”\n",
    "Optional fields: “transmembrane”; “peripheral”; “secreted”; “secreted_desc”; “secreted_highlight”; “receptor”; “receptor_desc” ; “integrin”; “pfam”; “other”; “other_desc”; “tags”; “tags_ description”; “tags_reason”; “pfam”.\n",
    "\n",
    "However, since the interactions in our database has directionality while CellPhoneDB does not have, thus it is important to specify the role of the gene under the \"receptor\" column. \n",
    "\n",
    "**interaction_input:**\n",
    "\n",
    "Mandatory fields: “partner_a”; “partner_b”; “annotation_strategy”; “source”\n",
    "Optional fields: “protein_name_a”; “protein_name_b”\n",
    "\n",
    "Interactions stored in CellPhoneDB are annotated using their UniProt identifier (“partner_a” and\n",
    "“partner_b”). The name of the protein is also included, yet not mandatory (“protein_name_a”\n",
    "and “protein_name_b”). Protein names are not stored in the database.\n",
    "\n"
   ]
  },
  {
   "cell_type": "code",
   "execution_count": 1,
   "id": "aa3f38b3",
   "metadata": {},
   "outputs": [],
   "source": [
    "import pandas as pd\n",
    "import numpy as np\n",
    "# from unipressed import IdMappingClient"
   ]
  },
  {
   "cell_type": "code",
   "execution_count": 2,
   "id": "11a6e428",
   "metadata": {},
   "outputs": [],
   "source": [
    "#list of intersaction pairs\n",
    "\n",
    "interactions = pd.read_csv ('LR_database.csv', index_col=False)"
   ]
  },
  {
   "cell_type": "code",
   "execution_count": 3,
   "id": "8e0f4acc",
   "metadata": {},
   "outputs": [],
   "source": [
    "#CellPhoneDB is using protein_name_a and protein_name_b column names for genesymbols\n",
    "#in our version its Ligand and Receptor column\n",
    "interactions.rename({'Ligand': 'protein_name_a', 'Receptor': 'protein_name_b'}, axis=1, inplace=True)"
   ]
  },
  {
   "cell_type": "code",
   "execution_count": 4,
   "id": "0b888f2c",
   "metadata": {},
   "outputs": [],
   "source": [
    "#CellPhoneDB mandatory fields to build a customDB\n",
    "interactions[\"source\"]=\"OmniPath\""
   ]
  },
  {
   "cell_type": "code",
   "execution_count": 5,
   "id": "59ec26ed",
   "metadata": {},
   "outputs": [],
   "source": [
    "#CellphoneDB requires ENSEMBL IDs so we retrive it through UniProtIDs"
   ]
  },
  {
   "cell_type": "code",
   "execution_count": 6,
   "id": "6ac7037d",
   "metadata": {},
   "outputs": [],
   "source": [
    "ligand_ids=list(set(interactions[\"partner_a\"].values))"
   ]
  },
  {
   "cell_type": "code",
   "execution_count": 7,
   "id": "48a61205",
   "metadata": {},
   "outputs": [],
   "source": [
    "from unipressed import IdMappingClient\n",
    "import time\n",
    "request = IdMappingClient.submit(\n",
    "    source=\"UniProtKB_AC-ID\", dest=\"Ensembl\", ids=ligand_ids\n",
    ")\n",
    "time.sleep(2.0)"
   ]
  },
  {
   "cell_type": "code",
   "execution_count": 8,
   "id": "d28b9f95",
   "metadata": {},
   "outputs": [],
   "source": [
    "lig_list=list(request.each_result())"
   ]
  },
  {
   "cell_type": "code",
   "execution_count": 9,
   "id": "2665b848",
   "metadata": {},
   "outputs": [],
   "source": [
    "#put it in dictionary key: UniProtID, value: ENSEMBL\n",
    "lig_dict=dict()\n",
    "for x in lig_list:\n",
    "    lig_dict[x[\"from\"]]=x[\"to\"]"
   ]
  },
  {
   "cell_type": "code",
   "execution_count": 29,
   "id": "2ff24b6d",
   "metadata": {},
   "outputs": [],
   "source": [
    "# some uniprot IDs do not have ENSEMBL, so we mock for those\n",
    "count=1\n",
    "for x in ligand_ids:\n",
    "    if x not in lig_dict:\n",
    "#         print(x)\n",
    "        lig_dict[x]=\"ENSG000000000\"+str(count)\n",
    "        count+=1"
   ]
  },
  {
   "cell_type": "code",
   "execution_count": 11,
   "id": "9c5ef6ba",
   "metadata": {},
   "outputs": [],
   "source": [
    "#do the same for receptor\n",
    "receptor_ids=list(set(interactions[\"partner_b\"].values))"
   ]
  },
  {
   "cell_type": "code",
   "execution_count": 12,
   "id": "b820fc76",
   "metadata": {},
   "outputs": [],
   "source": [
    "request = IdMappingClient.submit(\n",
    "    source=\"UniProtKB_AC-ID\", dest=\"Ensembl\", ids=receptor_ids\n",
    ")\n",
    "time.sleep(2.0)"
   ]
  },
  {
   "cell_type": "code",
   "execution_count": 13,
   "id": "93c302cb",
   "metadata": {},
   "outputs": [],
   "source": [
    "rec_list=list(request.each_result())"
   ]
  },
  {
   "cell_type": "code",
   "execution_count": 14,
   "id": "82e0d0cc",
   "metadata": {},
   "outputs": [],
   "source": [
    "rec_dict=dict()\n",
    "for x in rec_list:\n",
    "    rec_dict[x[\"from\"]]=x[\"to\"]\n",
    "    \n",
    "for x in receptor_ids:\n",
    "    if x not in rec_dict:\n",
    "        rec_dict[x]=\"ENSG000000000\"+str(count)\n",
    "        count+=1"
   ]
  },
  {
   "cell_type": "code",
   "execution_count": 15,
   "id": "1c87680e",
   "metadata": {},
   "outputs": [],
   "source": [
    "#merge two of them into one dictionary\n",
    "rec_dict.update(lig_dict)"
   ]
  },
  {
   "cell_type": "code",
   "execution_count": 16,
   "id": "8557cbfd",
   "metadata": {},
   "outputs": [],
   "source": [
    "# dictionary with genesymbols and uniprotIDs\n",
    "name2id=dict()\n",
    "for x in range(0,len(interactions)):\n",
    "    if interactions.iloc[x].protein_name_a in name2id and interactions.iloc[x].protein_name_b in name2id:\n",
    "        continue\n",
    "    else:\n",
    "        name2id[interactions.iloc[x].protein_name_a]=interactions.iloc[x].partner_a\n",
    "        name2id[interactions.iloc[x].protein_name_b]=interactions.iloc[x].partner_b\n",
    "        "
   ]
  },
  {
   "cell_type": "code",
   "execution_count": 17,
   "id": "caa11618",
   "metadata": {},
   "outputs": [],
   "source": [
    "#CPDB requires a file csv to generate custom DB, with genesymbol, uniprot and ensembl IDS\n",
    "df={\"gene_name\":[],\n",
    "   \"uniprot\":[],\n",
    "   \"hgnc_symbol\":[],\n",
    "   \"ensembl\":[]}"
   ]
  },
  {
   "cell_type": "code",
   "execution_count": 18,
   "id": "8cc13ccb",
   "metadata": {},
   "outputs": [],
   "source": [
    "for symbol,uniprot in name2id.items():\n",
    "    df[\"gene_name\"].append(symbol)\n",
    "    df[\"uniprot\"].append(uniprot)\n",
    "    df[\"hgnc_symbol\"].append(symbol)\n",
    "    df[\"ensembl\"].append(rec_dict[uniprot])"
   ]
  },
  {
   "cell_type": "code",
   "execution_count": 19,
   "id": "b1ca00e8",
   "metadata": {},
   "outputs": [],
   "source": [
    "df=pd.DataFrame(df)"
   ]
  },
  {
   "cell_type": "code",
   "execution_count": 20,
   "id": "647ae4c8",
   "metadata": {},
   "outputs": [],
   "source": [
    "#no need versions\n",
    "df[\"ensembl\"] = df[\"ensembl\"].str.split(\".\").str[0]"
   ]
  },
  {
   "cell_type": "code",
   "execution_count": null,
   "id": "d7a7581f",
   "metadata": {},
   "outputs": [],
   "source": []
  },
  {
   "cell_type": "code",
   "execution_count": 21,
   "id": "528c5b51",
   "metadata": {},
   "outputs": [],
   "source": [
    "#CPDB requires another file with uniprot and genesymbols\n",
    "prot = df.loc[:, [\"uniprot\", \"hgnc_symbol\"]]"
   ]
  },
  {
   "cell_type": "code",
   "execution_count": 22,
   "id": "6a9e5485",
   "metadata": {},
   "outputs": [],
   "source": [
    "prot[\"hgnc_symbol\"] = df[\"hgnc_symbol\"] + \"_HUMAN\""
   ]
  },
  {
   "cell_type": "code",
   "execution_count": 23,
   "id": "9cfb3d50",
   "metadata": {},
   "outputs": [],
   "source": [
    "#the column name must be protein_name in this one\n",
    "prot = prot.rename(columns={\"hgnc_symbol\": \"protein_name\"})"
   ]
  },
  {
   "cell_type": "code",
   "execution_count": 24,
   "id": "205222ed",
   "metadata": {},
   "outputs": [],
   "source": [
    "#tag the ones that are receptors\n",
    "prot['receptor']=[1 if uniprot in interactions['partner_b'].values else 0 for uniprot in prot['uniprot']]"
   ]
  },
  {
   "cell_type": "code",
   "execution_count": 25,
   "id": "f94d8aa6",
   "metadata": {},
   "outputs": [
    {
     "data": {
      "text/html": [
       "<div>\n",
       "<style scoped>\n",
       "    .dataframe tbody tr th:only-of-type {\n",
       "        vertical-align: middle;\n",
       "    }\n",
       "\n",
       "    .dataframe tbody tr th {\n",
       "        vertical-align: top;\n",
       "    }\n",
       "\n",
       "    .dataframe thead th {\n",
       "        text-align: right;\n",
       "    }\n",
       "</style>\n",
       "<table border=\"1\" class=\"dataframe\">\n",
       "  <thead>\n",
       "    <tr style=\"text-align: right;\">\n",
       "      <th></th>\n",
       "      <th>gene_name</th>\n",
       "      <th>uniprot</th>\n",
       "      <th>hgnc_symbol</th>\n",
       "      <th>ensembl</th>\n",
       "    </tr>\n",
       "  </thead>\n",
       "  <tbody>\n",
       "    <tr>\n",
       "      <th>2178</th>\n",
       "      <td>PIK3CD</td>\n",
       "      <td>O00329</td>\n",
       "      <td>PIK3CD</td>\n",
       "      <td>ENSG00000171608</td>\n",
       "    </tr>\n",
       "  </tbody>\n",
       "</table>\n",
       "</div>"
      ],
      "text/plain": [
       "     gene_name uniprot hgnc_symbol          ensembl\n",
       "2178    PIK3CD  O00329      PIK3CD  ENSG00000171608"
      ]
     },
     "execution_count": 25,
     "metadata": {},
     "output_type": "execute_result"
    }
   ],
   "source": [
    "df[df[\"gene_name\"]==\"PIK3CD\"]"
   ]
  },
  {
   "cell_type": "code",
   "execution_count": 26,
   "id": "1d5b51e6",
   "metadata": {},
   "outputs": [],
   "source": [
    "# prot['other']=1\n",
    "# prot['peripheral']=1\n",
    "# prot['secreted']=1\n",
    "# prot['integrin']=1\n",
    "# prot['transmembrane']=1\n",
    "# prot['tags']=\"To_comment\"\n",
    "# prot['tags_reason']=\"curation\"\n",
    "# prot['secreted_highlight']=1"
   ]
  },
  {
   "cell_type": "code",
   "execution_count": 27,
   "id": "9dc90390",
   "metadata": {},
   "outputs": [],
   "source": [
    "# combined = interactions.copy()"
   ]
  },
  {
   "cell_type": "code",
   "execution_count": 28,
   "id": "f7a840a5",
   "metadata": {},
   "outputs": [],
   "source": [
    "#write those to a file\n",
    "df.to_csv('gene_user.csv', index=False)\n",
    "prot.to_csv('prot_user.csv', index=False)\n",
    "interactions.to_csv('interactions.csv', index=False)\n",
    "combined = interactions.copy()"
   ]
  },
  {
   "cell_type": "markdown",
   "id": "c32e74e9",
   "metadata": {},
   "source": [
    "# generate custom DB with the below command\n",
    "\n",
    "```cellphonedb database generate --user-interactions interactions.csv --user-interactions-only --user-protein prot_user.csv --user-gene gene_user.csv --result-path combined_raw```"
   ]
  },
  {
   "cell_type": "code",
   "execution_count": 32,
   "id": "5176f4e1",
   "metadata": {},
   "outputs": [
    {
     "data": {
      "text/plain": [
       "'/home/mami/Maria/polish/clean/community-paper/src/method_comparison/compare_algorithms/run_CellPhoneDB/build_customDB'"
      ]
     },
     "execution_count": 32,
     "metadata": {},
     "output_type": "execute_result"
    }
   ],
   "source": [
    "pwd"
   ]
  },
  {
   "cell_type": "code",
   "execution_count": null,
   "id": "5e0cf4e2",
   "metadata": {},
   "outputs": [],
   "source": []
  }
 ],
 "metadata": {
  "kernelspec": {
   "display_name": "Python 3 (ipykernel)",
   "language": "python",
   "name": "python3"
  },
  "language_info": {
   "codemirror_mode": {
    "name": "ipython",
    "version": 3
   },
   "file_extension": ".py",
   "mimetype": "text/x-python",
   "name": "python",
   "nbconvert_exporter": "python",
   "pygments_lexer": "ipython3",
   "version": "3.10.12"
  }
 },
 "nbformat": 4,
 "nbformat_minor": 5
}
