{
 "cells": [
  {
   "cell_type": "markdown",
   "id": "11c3ecf7",
   "metadata": {},
   "source": [
    "# Description"
   ]
  },
  {
   "cell_type": "code",
   "execution_count": 1,
   "id": "7b9e6890",
   "metadata": {},
   "outputs": [
    {
     "name": "stderr",
     "output_type": "stream",
     "text": [
      "The legacy packages maptools, rgdal, and rgeos, underpinning the sp package,\n",
      "which was just loaded, will retire in October 2023.\n",
      "Please refer to R-spatial evolution reports for details, especially\n",
      "https://r-spatial.org/r/2023/05/15/evolution4.html.\n",
      "It may be desirable to make the sf package available;\n",
      "package maintainers should consider adding sf to Suggests:.\n",
      "The sp package is now running under evolution status 2\n",
      "     (status 2 uses the sf package in place of rgdal)\n",
      "\n",
      "Attaching SeuratObject\n",
      "\n",
      "── \u001b[1mAttaching core tidyverse packages\u001b[22m ─────────────────────────────────────────────────────────────────────────────────────────────────────────────────────────────────────────────────── tidyverse 2.0.0 ──\n",
      "\u001b[32m✔\u001b[39m \u001b[34mdplyr    \u001b[39m 1.1.2     \u001b[32m✔\u001b[39m \u001b[34mreadr    \u001b[39m 2.1.4\n",
      "\u001b[32m✔\u001b[39m \u001b[34mforcats  \u001b[39m 1.0.0     \u001b[32m✔\u001b[39m \u001b[34mstringr  \u001b[39m 1.5.0\n",
      "\u001b[32m✔\u001b[39m \u001b[34mggplot2  \u001b[39m 3.4.2     \u001b[32m✔\u001b[39m \u001b[34mtibble   \u001b[39m 3.2.1\n",
      "\u001b[32m✔\u001b[39m \u001b[34mlubridate\u001b[39m 1.9.2     \u001b[32m✔\u001b[39m \u001b[34mtidyr    \u001b[39m 1.3.0\n",
      "\u001b[32m✔\u001b[39m \u001b[34mpurrr    \u001b[39m 1.0.1     \n",
      "── \u001b[1mConflicts\u001b[22m ───────────────────────────────────────────────────────────────────────────────────────────────────────────────────────────────────────────────────────────────────── tidyverse_conflicts() ──\n",
      "\u001b[31m✖\u001b[39m \u001b[34mdplyr\u001b[39m::\u001b[32mfilter()\u001b[39m masks \u001b[34mstats\u001b[39m::filter()\n",
      "\u001b[31m✖\u001b[39m \u001b[34mdplyr\u001b[39m::\u001b[32mlag()\u001b[39m    masks \u001b[34mstats\u001b[39m::lag()\n",
      "\u001b[36mℹ\u001b[39m Use the conflicted package (\u001b[3m\u001b[34m<http://conflicted.r-lib.org/>\u001b[39m\u001b[23m) to force all conflicts to become errors\n",
      "\n",
      "Attaching package: ‘igraph’\n",
      "\n",
      "\n",
      "The following objects are masked from ‘package:lubridate’:\n",
      "\n",
      "    %--%, union\n",
      "\n",
      "\n",
      "The following objects are masked from ‘package:dplyr’:\n",
      "\n",
      "    as_data_frame, groups, union\n",
      "\n",
      "\n",
      "The following objects are masked from ‘package:purrr’:\n",
      "\n",
      "    compose, simplify\n",
      "\n",
      "\n",
      "The following object is masked from ‘package:tidyr’:\n",
      "\n",
      "    crossing\n",
      "\n",
      "\n",
      "The following object is masked from ‘package:tibble’:\n",
      "\n",
      "    as_data_frame\n",
      "\n",
      "\n",
      "The following objects are masked from ‘package:stats’:\n",
      "\n",
      "    decompose, spectrum\n",
      "\n",
      "\n",
      "The following object is masked from ‘package:base’:\n",
      "\n",
      "    union\n",
      "\n",
      "\n",
      "Loading required package: circlize\n",
      "\n",
      "========================================\n",
      "circlize version 0.4.15\n",
      "CRAN page: https://cran.r-project.org/package=circlize\n",
      "Github page: https://github.com/jokergoo/circlize\n",
      "Documentation: https://jokergoo.github.io/circlize_book/book/\n",
      "\n",
      "If you use it in published research, please cite:\n",
      "Gu, Z. circlize implements and enhances circular visualization\n",
      "  in R. Bioinformatics 2014.\n",
      "\n",
      "This message can be suppressed by:\n",
      "  suppressPackageStartupMessages(library(circlize))\n",
      "========================================\n",
      "\n",
      "\n",
      "\n",
      "Attaching package: ‘circlize’\n",
      "\n",
      "\n",
      "The following object is masked from ‘package:igraph’:\n",
      "\n",
      "    degree\n",
      "\n",
      "\n",
      "Loading required package: R.oo\n",
      "\n",
      "Loading required package: R.methodsS3\n",
      "\n",
      "R.methodsS3 v1.8.2 (2022-06-13 22:00:14 UTC) successfully loaded. See ?R.methodsS3 for help.\n",
      "\n",
      "R.oo v1.25.0 (2022-06-12 02:20:02 UTC) successfully loaded. See ?R.oo for help.\n",
      "\n",
      "\n",
      "Attaching package: ‘R.oo’\n",
      "\n",
      "\n",
      "The following object is masked from ‘package:R.methodsS3’:\n",
      "\n",
      "    throw\n",
      "\n",
      "\n",
      "The following object is masked from ‘package:igraph’:\n",
      "\n",
      "    hierarchy\n",
      "\n",
      "\n",
      "The following objects are masked from ‘package:methods’:\n",
      "\n",
      "    getClasses, getMethods\n",
      "\n",
      "\n",
      "The following objects are masked from ‘package:base’:\n",
      "\n",
      "    attach, detach, load, save\n",
      "\n",
      "\n",
      "R.utils v2.12.2 (2022-11-11 22:00:03 UTC) successfully loaded. See ?R.utils for help.\n",
      "\n",
      "\n",
      "Attaching package: ‘R.utils’\n",
      "\n",
      "\n",
      "The following object is masked from ‘package:tidyr’:\n",
      "\n",
      "    extract\n",
      "\n",
      "\n",
      "The following object is masked from ‘package:utils’:\n",
      "\n",
      "    timestamp\n",
      "\n",
      "\n",
      "The following objects are masked from ‘package:base’:\n",
      "\n",
      "    cat, commandArgs, getOption, isOpen, nullfile, parse, warnings\n",
      "\n",
      "\n",
      "\n",
      "Attaching package: ‘data.table’\n",
      "\n",
      "\n",
      "The following objects are masked from ‘package:lubridate’:\n",
      "\n",
      "    hour, isoweek, mday, minute, month, quarter, second, wday, week,\n",
      "    yday, year\n",
      "\n",
      "\n",
      "The following objects are masked from ‘package:dplyr’:\n",
      "\n",
      "    between, first, last\n",
      "\n",
      "\n",
      "The following object is masked from ‘package:purrr’:\n",
      "\n",
      "    transpose\n",
      "\n",
      "\n"
     ]
    }
   ],
   "source": [
    "# libraries\n",
    "library(Seurat)\n",
    "library(tidyverse)\n",
    "library(igraph)\n",
    "require(circlize)\n",
    "library(R.utils)\n",
    "library(data.table) #to read gz file"
   ]
  },
  {
   "cell_type": "markdown",
   "id": "982b08f5",
   "metadata": {},
   "source": [
    "### Read in the expression data of interacting cells:\n",
    "The dataset used here is publicly available single-cell data from XXX. The data was processed, and filtered by applying XXX. "
   ]
  },
  {
   "cell_type": "code",
   "execution_count": 2,
   "id": "7092174a",
   "metadata": {},
   "outputs": [],
   "source": [
    "input_dir <- \"../../../../../results/data_preprocessing/vanGalen_Hourigan/batch_corrected/\"\n",
    "output_dir <- \"../../../../../results/method_comparison/compare_algorithms/vanGalen/CPDB/\"\n",
    "final_out <- \"../../../../../results/method_comparison/compare_algorithms/vanGalen/CPDB/\""
   ]
  },
  {
   "cell_type": "code",
   "execution_count": null,
   "id": "3b4d07a4",
   "metadata": {},
   "outputs": [],
   "source": []
  },
  {
   "cell_type": "code",
   "execution_count": null,
   "id": "2131df6a",
   "metadata": {},
   "outputs": [],
   "source": []
  },
  {
   "cell_type": "code",
   "execution_count": 3,
   "id": "3d3b55a6",
   "metadata": {},
   "outputs": [],
   "source": [
    "# # load counts\n",
    "# print(\"load counts\")\n",
    "# counts <- read.table(gzfile(paste0(path_in,\"/counts_corr.csv.gz\")\n",
    "#                             )\n",
    "#                      ,sep = \",\"\n",
    "#                      ,row.names = 1\n",
    "#                      ,header = TRUE\n",
    "#                      )\n",
    "# # load counts\n",
    "\n",
    "counts <- fread(paste0(input_dir,\"counts_corr.csv.gz\"), header = TRUE,check.names=FALSE)\n",
    "counts <- as.data.frame(counts)\n",
    "rownames(counts) <- counts$gene_symbol\n",
    "counts <- counts[,-1]\n",
    "# head(str(counts))\n",
    "# print(str(counts))"
   ]
  },
  {
   "cell_type": "code",
   "execution_count": 11,
   "id": "bea4cea4",
   "metadata": {},
   "outputs": [
    {
     "name": "stdout",
     "output_type": "stream",
     "text": [
      "[1] \"load cell annotation\"\n"
     ]
    }
   ],
   "source": [
    "# load cell annotation\n",
    "print(\"load cell annotation\")\n",
    "anno_cells <- read.table(paste0(input_dir,\"anno_cells_corr.txt\")\n",
    "                         ,sep = \"\\t\"\n",
    "                         ,row.names = 1\n",
    "                         ,header = TRUE\n",
    "                         #,check.names=FALSE\n",
    "                         )\n",
    "# print(str(anno_cells))"
   ]
  },
  {
   "cell_type": "code",
   "execution_count": 12,
   "id": "8879060f",
   "metadata": {},
   "outputs": [],
   "source": [
    "#set rownames of annotation to cell_ids\n",
    "rownames(anno_cells) <- anno_cells$cell_ID"
   ]
  },
  {
   "cell_type": "code",
   "execution_count": 13,
   "id": "892a4a02",
   "metadata": {},
   "outputs": [],
   "source": [
    "#set colnames of counts to cell_ids\n",
    "colnames(counts) <- rownames(anno_cells)"
   ]
  },
  {
   "cell_type": "code",
   "execution_count": 17,
   "id": "bcfa1443",
   "metadata": {},
   "outputs": [],
   "source": [
    "#create a Seurat object\n",
    "srt=CreateSeuratObject(counts=counts, meta.data=anno_cells)"
   ]
  },
  {
   "cell_type": "code",
   "execution_count": 18,
   "id": "1f2a9771",
   "metadata": {},
   "outputs": [
    {
     "data": {
      "text/plain": [
       ".\n",
       "    AML healthy \n",
       "  11897   62686 "
      ]
     },
     "metadata": {},
     "output_type": "display_data"
    }
   ],
   "source": [
    "#peek into the number of cells for case/control\n",
    "srt@meta.data$health_status %>% table()"
   ]
  },
  {
   "cell_type": "code",
   "execution_count": 19,
   "id": "af19b77d",
   "metadata": {},
   "outputs": [
    {
     "data": {
      "text/plain": [
       ".\n",
       "    B    DC   Ery  HSPC  Mono     T \n",
       " 6662  3929  4973  7608 13558 37853 "
      ]
     },
     "metadata": {},
     "output_type": "display_data"
    }
   ],
   "source": [
    "#peek into the number of cell types\n",
    "srt@meta.data$cell_type %>% table()"
   ]
  },
  {
   "cell_type": "code",
   "execution_count": 20,
   "id": "7b012d22",
   "metadata": {},
   "outputs": [],
   "source": [
    "#set the indent to cell_type\n",
    "Idents(srt) <- \"cell_type\""
   ]
  },
  {
   "cell_type": "code",
   "execution_count": 21,
   "id": "c11a0521",
   "metadata": {},
   "outputs": [
    {
     "name": "stdout",
     "output_type": "stream",
     "text": [
      "[1] \"HSPC\"\n",
      "[1] 8\n"
     ]
    },
    {
     "name": "stderr",
     "output_type": "stream",
     "text": [
      "Warning message in FindMarkers.default(object = data.use, slot = data.slot, counts = counts, :\n",
      "“No features pass logfc.threshold threshold; returning empty data.frame”\n"
     ]
    },
    {
     "name": "stdout",
     "output_type": "stream",
     "text": [
      "[1] 1\n",
      "[1] \"Mono\"\n",
      "[1] 0\n",
      "[1] \"DC\"\n",
      "[1] 8\n",
      "[1] \"Ery\"\n",
      "[1] 17\n"
     ]
    },
    {
     "name": "stderr",
     "output_type": "stream",
     "text": [
      "Warning message in FindMarkers.default(object = data.use, slot = data.slot, counts = counts, :\n",
      "“No features pass logfc.threshold threshold; returning empty data.frame”\n"
     ]
    },
    {
     "name": "stdout",
     "output_type": "stream",
     "text": [
      "[1] 1\n",
      "[1] \"T\"\n",
      "[1] 0\n",
      "[1] \"B\"\n",
      "[1] 12\n"
     ]
    }
   ],
   "source": [
    "# initialize empty vector for storing DEGs\n",
    "DEGs <- c()\n",
    "\n",
    "# iterate over each unique cell type \n",
    "for (cell in unique(srt@meta.data$cell_type)) {\n",
    "  \n",
    "  # subset Seurat object to only include cells of current cell type\n",
    "  seurat_obj_receiver <- subset(srt, idents = cell)\n",
    "  \n",
    "  # set cell identity using the \"health_status\" feature\n",
    "  seurat_obj_receiver <- SetIdent(seurat_obj_receiver, value = seurat_obj_receiver[[\"health_status\"]])\n",
    "  \n",
    "  # specify the two conditions to compare\n",
    "  condition_oi <- \"AML\"\n",
    "  condition_reference <- \"healthy\" \n",
    "  \n",
    "  # find differentially expressed genes between the two conditions\n",
    "  DE_table_receiver <- FindMarkers(object = seurat_obj_receiver, \n",
    "                                   ident.1 = condition_oi, \n",
    "                                   ident.2 = condition_reference, \n",
    "                                   min.pct = 0.10) %>%\n",
    "    # convert row names to a separate \"gene\" column\n",
    "    rownames_to_column(\"gene\")\n",
    "  \n",
    "    \n",
    "    \n",
    "    if(nrow(DE_table_receiver) == 0){\n",
    "        cluster <- cell\n",
    "        gene <- c(\"None\")\n",
    "        avg_log2FC <- c(0)\n",
    "        p_val_adj <- c(0)\n",
    "        p_val <- c(0)\n",
    "        pct.1<- c(0)\n",
    "        pct.2<- c(0)\n",
    "        DE_table_receiver <- data.frame(cluster,gene,p_val, avg_log2FC,pct.1,pct.2,p_val_adj)\n",
    "        DEGs <- rbind(DEGs, DE_table_receiver)\n",
    "        print(nrow(DE_table_receiver))\n",
    "    }\n",
    "    \n",
    "    \n",
    "    \n",
    "  # add cell type information to the DEG table\n",
    "  DE_table_receiver <- data.frame(cluster = cell, DE_table_receiver)\n",
    "  \n",
    "  # filter DEGs based on statistical significance and fold change threshold\n",
    "  DE_table_receiver <- DE_table_receiver %>% \n",
    "    filter(p_val_adj <= 0.05 & abs(avg_log2FC) >= 0.25)\n",
    "  \n",
    "  # print cell type and number of DEGs found\n",
    "  print(cell)\n",
    "  print(nrow(DE_table_receiver))\n",
    "  \n",
    "  # append DEGs to the vector of all DEGs\n",
    "  DEGs <- rbind(DEGs, DE_table_receiver)\n",
    "}\n"
   ]
  },
  {
   "cell_type": "code",
   "execution_count": null,
   "id": "4915a454",
   "metadata": {},
   "outputs": [],
   "source": []
  },
  {
   "cell_type": "code",
   "execution_count": 22,
   "id": "4eed7d9c",
   "metadata": {},
   "outputs": [],
   "source": [
    "# write.table(DEGs, file =paste0(output_dir,\"samples_DEGs/DEGs.tsv\"), sep = '\\t', quote = F, row.names = F)"
   ]
  },
  {
   "cell_type": "code",
   "execution_count": 23,
   "id": "22b4bdfd",
   "metadata": {},
   "outputs": [],
   "source": [
    "meta <- anno_cells[\"cell_type\"] %>% rownames_to_column(\"Cell\")"
   ]
  },
  {
   "cell_type": "markdown",
   "id": "147321b7",
   "metadata": {},
   "source": [
    "Below code takes an expression counts matrix (counts) and an annotation data frame (anno_cells) and writes out a separate counts file and metadata file for each sample ID in the sample_ID column of anno_cells. Each metadata file contains a single column (cell_type) and a row for each cell in the sample (required by CellPhoneDB), while the counts file contains the expression counts for each gene in each cell."
   ]
  },
  {
   "cell_type": "code",
   "execution_count": 24,
   "id": "4424c74e",
   "metadata": {},
   "outputs": [
    {
     "name": "stderr",
     "output_type": "stream",
     "text": [
      "Warning message in dir.create(file.path(output_dir, \"samples_DEGs\")):\n",
      "“'../../../../../results/method_comparison/compare_algorithms/vanGalen/CPDB//samples_DEGs' already exists”\n"
     ]
    }
   ],
   "source": [
    "# create a directory \"samples_DEGs\" to save the subsetted counts and annotation files. \n",
    "dir.create(file.path(output_dir, \"samples_DEGs\"))\n",
    "\n",
    "# loop over each unique sample ID in the \"sample_ID\" column of the \"anno_cells\" data frame\n",
    "for (sample in unique(anno_cells$sample_ID)) {\n",
    "  \n",
    "  # filter the annotation data frame to include only cells from the current sample\n",
    "  anno_filtered <- filter(anno_cells, sample_ID == sample)\n",
    "  \n",
    "  # subset the expression counts matrix to the current sample\n",
    "  subset_counts <- counts[, rownames(anno_filtered)]\n",
    "  \n",
    "  # subset the annotation data frame (required by CellPhoneDB)\n",
    "  subset_meta <- anno_filtered[\"cell_type\"] %>% rownames_to_column(\"Cell\")\n",
    "    \n",
    "  # subset DEGs\n",
    "  subset_DEGs <- DEGs %>% filter(cluster %in% unique(subset_meta$cell_type))\n",
    "  \n",
    "  # write the subsetted annotation data frame to a tab-separated value (TSV) file\n",
    "  write.table(subset_meta, paste0(output_dir,\"samples_DEGs/\", sample, \"_meta.tsv\"), sep = '\\t', quote = F, row.names = F)\n",
    "  \n",
    "  # write the subsetted counts matrix to a TSV file\n",
    "  write.table(subset_counts, paste0(output_dir,\"samples_DEGs/\", sample, \"_counts.tsv\"), sep = '\\t', quote = F)\n",
    "\n",
    "  write.table(subset_DEGs, paste0(output_dir,\"samples_DEGs/\", sample, \"_DEGs.tsv\"), sep = '\\t', quote = F)\n",
    "\n",
    "\n",
    "\n",
    "}\n"
   ]
  },
  {
   "cell_type": "markdown",
   "id": "cce82c40",
   "metadata": {},
   "source": [
    "Below is the content of shell script (`./runCPDB.sh`) that performs CellPhoneDB using DEG analysis method for each sample in the /samples_DEGs/ directory.\n",
    "\n",
    "For each sample, the script creates a new directory `(${sample}_results)` to store the results of the CellPhoneDB analysis. The cellphonedb method degs_analysis command runs the DEG analysis method on the metadata and counts files for the current sample, using the `../DEGs.tsv` file as input for the list of differentially expressed genes. The `--database` option specifies the path to the CellPhoneDB database to use for the analysis, while the `--counts-data` option specifies the type of gene identifier used in the counts file (in this case, `hgnc_symbol`). The `--output-path` option specifies the directory where the analysis results will be saved."
   ]
  },
  {
   "cell_type": "markdown",
   "id": "1fabfd75",
   "metadata": {},
   "source": [
    "`'./runCPDB.sh'`\n",
    "\n",
    "```bash\n",
    "# Set the directory path to the directory containing the DEG samples\n",
    "samples_dir=../../../../../results/method_comparison/compare_algorithms/CPDB/samples_DEGs/\n",
    "\n",
    "# Get a list of sample names\n",
    "my_vars=$(ls \"$samples_dir\" | cut -d_ -f1 | uniq)\n",
    "\n",
    "# Set the path to the custom database file\n",
    "custom_db=../../../../../results/method_comparison/build_customDB/CPDB/custom_cellphone.db\n",
    "\n",
    "# Loop over each sample variable name\n",
    "for sample in $my_vars;\n",
    "do\n",
    "  # Create a subdirectory for the sample results\n",
    "  mkdir ${samples_dir}${sample}_results;\n",
    "\n",
    "  # Run CellPhoneDB's DEG analysis method on the sample using the custom database, with input files in the sample directory and output files in the sample results subdirectory\n",
    "  cellphonedb method degs_analysis ${samples_dir}${sample}_meta.tsv ${samples_dir}${sample}_counts.tsv ${samples_dir}${sample}_DEGs.tsv --database $custom_db --counts-data hgnc_symbol --output-path ${samples_dir}${sample}_results/;\n",
    "done;\n",
    "```"
   ]
  },
  {
   "cell_type": "code",
   "execution_count": 15,
   "id": "f57391e7",
   "metadata": {},
   "outputs": [],
   "source": [
    "#make sure cpdb is installed in the env.\n",
    "run_CPDB <- './runCPDB.sh'"
   ]
  },
  {
   "cell_type": "code",
   "execution_count": 25,
   "id": "38e42b99",
   "metadata": {},
   "outputs": [],
   "source": [
    "system('conda run -n cpdb ./runCPDB_vanGalen.sh')"
   ]
  },
  {
   "cell_type": "markdown",
   "id": "8ecd1177",
   "metadata": {},
   "source": [
    "### Restructure CellPhoneDB's outputs"
   ]
  },
  {
   "cell_type": "markdown",
   "id": "c3561356",
   "metadata": {},
   "source": [
    "# !!!!!!!!!!!!!!!!!!!!!!!!!!!!!!!!!"
   ]
  },
  {
   "cell_type": "markdown",
   "id": "00ca1fc0",
   "metadata": {},
   "source": [
    "# !!!!!!!!!!!!!!!!!!!we gotta explain why we are using means file not the significant ones"
   ]
  },
  {
   "cell_type": "code",
   "execution_count": 26,
   "id": "025d31de",
   "metadata": {},
   "outputs": [],
   "source": [
    "results_dir <- list.dirs(path = paste0(output_dir,\"samples_DEGs/\"), full.names = TRUE)"
   ]
  },
  {
   "cell_type": "code",
   "execution_count": 27,
   "id": "23925a83",
   "metadata": {},
   "outputs": [],
   "source": [
    "results_dir <- results_dir[grepl(\"_results\", results_dir, fixed = TRUE)]"
   ]
  },
  {
   "cell_type": "code",
   "execution_count": 28,
   "id": "488f48ff",
   "metadata": {},
   "outputs": [],
   "source": [
    "# Define a function called 'restructure_result' that takes one argument, 'cpdb_means'\n",
    "restructure_result <- function(cpdb_means) {\n",
    "  \n",
    "  # Subset the columns of 'cpdb_means' that contain 'interacting_pair' or '|'\n",
    "  cpdb_means <- cpdb_means[, grepl('interacting_pair|\\\\|', colnames(cpdb_means))]\n",
    "  \n",
    "  # Pivot the data to long format and split the 'interacting_pair' column into 'sending_protein' and 'receiving_protein' columns\n",
    "  # Split the 'cell_types' column into 'sending_celltype' and 'receiving_celltype' columns\n",
    "  # Unite the 'sending_celltype' and 'sending_protein' columns into a single column called 'sender'\n",
    "  # Unite the 'receiving_celltype' and 'receiving_protein' columns into a single column called 'receiver'\n",
    "  # Unite the 'sender' and 'receiver' columns into a single column called 'interacting_pairs'\n",
    "  # Select the 'interacting_pairs' and 'value' columns\n",
    "  conversion <- cpdb_means %>%\n",
    "    pivot_longer(cols = -interacting_pair, names_to = \"cell_types\", values_to = \"value\") %>%\n",
    "    separate(interacting_pair, c(\"sending_protein\", \"receiving_protein\"), sep = \"_\") %>%\n",
    "    separate(cell_types, c(\"sending_celltype\", \"receiving_celltype\"), sep = \"\\\\|\") %>%\n",
    "    unite(sender, c(\"sending_celltype\", \"sending_protein\"), sep = \":\", remove = FALSE) %>%\n",
    "    unite(receiver, c(\"receiving_celltype\", \"receiving_protein\"), sep = \":\", remove = FALSE) %>%\n",
    "    unite(interacting_pairs, c(\"sender\", \"receiver\"), sep = \"_\", remove = FALSE) %>%\n",
    "    select(interacting_pairs, value)\n",
    "  \n",
    "  # Return the processed data\n",
    "  return(conversion)\n",
    "}\n"
   ]
  },
  {
   "cell_type": "code",
   "execution_count": 29,
   "id": "61c347a8",
   "metadata": {},
   "outputs": [],
   "source": [
    "results=list()\n",
    "for (sample in results_dir){\n",
    "    \n",
    "    file <- paste0(sample,\"/relevant_interactions.txt\")\n",
    "    \n",
    "    sample_id <- basename(sample)\n",
    "    sample_id <- strsplit(sample_id, '_')[[1]][1]\n",
    "    \n",
    "    \n",
    "    if (file.exists(file)){\n",
    "        \n",
    "        cpdb_means <- read.csv(file, sep = \"\\t\",  check.names = FALSE)\n",
    "        \n",
    "        \n",
    "        sample_result <- restructure_result(cpdb_means)\n",
    "        colnames(sample_result) <- c(\"interaction_ID\",sample_id)\n",
    "        results[[sample_id]] <- sample_result\n",
    "        \n",
    "    }\n",
    "    \n",
    "}"
   ]
  },
  {
   "cell_type": "code",
   "execution_count": 30,
   "id": "1ec7acf9",
   "metadata": {},
   "outputs": [],
   "source": [
    "means=list()\n",
    "for (sample in results_dir){\n",
    "    \n",
    "    file <- paste0(sample,\"/means.txt\")\n",
    "    \n",
    "    sample_id <- basename(sample)\n",
    "    sample_id <- strsplit(sample_id, '_')[[1]][1]\n",
    "    \n",
    "    \n",
    "    if (file.exists(file)){\n",
    "        \n",
    "        cpdb_means <- read.csv(file, sep = \"\\t\",  check.names = FALSE)\n",
    "        \n",
    "        \n",
    "        sample_result <- restructure_result(cpdb_means)\n",
    "        colnames(sample_result) <- c(\"interaction_ID\",sample_id)\n",
    "        means[[sample_id]] <- sample_result\n",
    "        \n",
    "    }\n",
    "    \n",
    "}"
   ]
  },
  {
   "cell_type": "code",
   "execution_count": 31,
   "id": "bdf3e71e",
   "metadata": {},
   "outputs": [],
   "source": [
    "# Define a variable called `result` that will hold the output of the Reduce function\n",
    "means <- Reduce(\n",
    "  \n",
    "  # The `Reduce()` function takes two arguments: a function and a list.\n",
    "  # In this case, the function is an anonymous function defined using the `function()` keyword.\n",
    "  # This function takes two arguments `x` and `y` and performs a full join between them using the `full_join()` function from the `dplyr` package.\n",
    "  # The `by = \"interaction\"` argument specifies that the join should be performed on the \"interaction\" column.\n",
    "  function(x, y) full_join(x, y, by = \"interaction_ID\"), \n",
    "  \n",
    "  # The second argument to the `Reduce()` function is a list called `results`.\n",
    "  # This list contains data frames that need to be joined together.\n",
    "  means\n",
    ")"
   ]
  },
  {
   "cell_type": "code",
   "execution_count": 32,
   "id": "aee78e83",
   "metadata": {},
   "outputs": [],
   "source": [
    "# Define a variable called `result` that will hold the output of the Reduce function\n",
    "matrix_result <- Reduce(\n",
    "  \n",
    "  # The `Reduce()` function takes two arguments: a function and a list.\n",
    "  # In this case, the function is an anonymous function defined using the `function()` keyword.\n",
    "  # This function takes two arguments `x` and `y` and performs a full join between them using the `full_join()` function from the `dplyr` package.\n",
    "  # The `by = \"interaction\"` argument specifies that the join should be performed on the \"interaction\" column.\n",
    "  function(x, y) full_join(x, y, by = \"interaction_ID\"), \n",
    "  \n",
    "  # The second argument to the `Reduce()` function is a list called `results`.\n",
    "  # This list contains data frames that need to be joined together.\n",
    "  results\n",
    ")"
   ]
  },
  {
   "cell_type": "code",
   "execution_count": 33,
   "id": "b458d798",
   "metadata": {},
   "outputs": [],
   "source": [
    "matrix_result[is.na(matrix_result)] <- 0"
   ]
  },
  {
   "cell_type": "code",
   "execution_count": 34,
   "id": "18112747",
   "metadata": {},
   "outputs": [
    {
     "data": {
      "text/html": [
       "<table class=\"dataframe\">\n",
       "<caption>A tibble: 6 × 34</caption>\n",
       "<thead>\n",
       "\t<tr><th scope=col>interaction_ID</th><th scope=col>AML1012-D0</th><th scope=col>AML210A-D0</th><th scope=col>AML328-D0</th><th scope=col>AML419A-D0</th><th scope=col>AML420B-D0</th><th scope=col>AML556-D0</th><th scope=col>AML707B-D0</th><th scope=col>AML916-D0</th><th scope=col>AML921A-D0</th><th scope=col>⋯</th><th scope=col>BM-Q</th><th scope=col>BM-R</th><th scope=col>BM-Sk2</th><th scope=col>BM-T</th><th scope=col>BM-U</th><th scope=col>BM-W</th><th scope=col>BM1</th><th scope=col>BM2</th><th scope=col>BM3</th><th scope=col>BM4</th></tr>\n",
       "\t<tr><th scope=col>&lt;chr&gt;</th><th scope=col>&lt;int&gt;</th><th scope=col>&lt;int&gt;</th><th scope=col>&lt;int&gt;</th><th scope=col>&lt;int&gt;</th><th scope=col>&lt;int&gt;</th><th scope=col>&lt;int&gt;</th><th scope=col>&lt;int&gt;</th><th scope=col>&lt;int&gt;</th><th scope=col>&lt;int&gt;</th><th scope=col>⋯</th><th scope=col>&lt;int&gt;</th><th scope=col>&lt;int&gt;</th><th scope=col>&lt;int&gt;</th><th scope=col>&lt;int&gt;</th><th scope=col>&lt;int&gt;</th><th scope=col>&lt;int&gt;</th><th scope=col>&lt;int&gt;</th><th scope=col>&lt;int&gt;</th><th scope=col>&lt;int&gt;</th><th scope=col>&lt;int&gt;</th></tr>\n",
       "</thead>\n",
       "<tbody>\n",
       "\t<tr><td>DC:FN1_DC:VCAN  </td><td>1</td><td>1</td><td>1</td><td>1</td><td>0</td><td>1</td><td>1</td><td>0</td><td>1</td><td>⋯</td><td>1</td><td>1</td><td>1</td><td>1</td><td>1</td><td>1</td><td>1</td><td>1</td><td>1</td><td>1</td></tr>\n",
       "\t<tr><td>DC:FN1_Ery:VCAN </td><td>0</td><td>0</td><td>0</td><td>0</td><td>0</td><td>0</td><td>0</td><td>0</td><td>0</td><td>⋯</td><td>0</td><td>0</td><td>0</td><td>0</td><td>0</td><td>0</td><td>0</td><td>0</td><td>0</td><td>0</td></tr>\n",
       "\t<tr><td>DC:FN1_HSPC:VCAN</td><td>0</td><td>0</td><td>0</td><td>0</td><td>0</td><td>0</td><td>0</td><td>0</td><td>0</td><td>⋯</td><td>0</td><td>0</td><td>0</td><td>0</td><td>0</td><td>0</td><td>0</td><td>0</td><td>0</td><td>0</td></tr>\n",
       "\t<tr><td>DC:FN1_Mono:VCAN</td><td>0</td><td>0</td><td>0</td><td>0</td><td>0</td><td>0</td><td>0</td><td>0</td><td>0</td><td>⋯</td><td>0</td><td>0</td><td>0</td><td>0</td><td>0</td><td>0</td><td>0</td><td>0</td><td>0</td><td>0</td></tr>\n",
       "\t<tr><td>DC:FN1_T:VCAN   </td><td>0</td><td>0</td><td>0</td><td>0</td><td>0</td><td>0</td><td>0</td><td>0</td><td>0</td><td>⋯</td><td>0</td><td>0</td><td>0</td><td>0</td><td>0</td><td>0</td><td>0</td><td>0</td><td>0</td><td>0</td></tr>\n",
       "\t<tr><td>Ery:FN1_DC:VCAN </td><td>1</td><td>1</td><td>1</td><td>1</td><td>0</td><td>1</td><td>1</td><td>0</td><td>0</td><td>⋯</td><td>1</td><td>1</td><td>1</td><td>1</td><td>1</td><td>1</td><td>1</td><td>1</td><td>1</td><td>1</td></tr>\n",
       "</tbody>\n",
       "</table>\n"
      ],
      "text/latex": [
       "A tibble: 6 × 34\n",
       "\\begin{tabular}{lllllllllllllllllllll}\n",
       " interaction\\_ID & AML1012-D0 & AML210A-D0 & AML328-D0 & AML419A-D0 & AML420B-D0 & AML556-D0 & AML707B-D0 & AML916-D0 & AML921A-D0 & ⋯ & BM-Q & BM-R & BM-Sk2 & BM-T & BM-U & BM-W & BM1 & BM2 & BM3 & BM4\\\\\n",
       " <chr> & <int> & <int> & <int> & <int> & <int> & <int> & <int> & <int> & <int> & ⋯ & <int> & <int> & <int> & <int> & <int> & <int> & <int> & <int> & <int> & <int>\\\\\n",
       "\\hline\n",
       "\t DC:FN1\\_DC:VCAN   & 1 & 1 & 1 & 1 & 0 & 1 & 1 & 0 & 1 & ⋯ & 1 & 1 & 1 & 1 & 1 & 1 & 1 & 1 & 1 & 1\\\\\n",
       "\t DC:FN1\\_Ery:VCAN  & 0 & 0 & 0 & 0 & 0 & 0 & 0 & 0 & 0 & ⋯ & 0 & 0 & 0 & 0 & 0 & 0 & 0 & 0 & 0 & 0\\\\\n",
       "\t DC:FN1\\_HSPC:VCAN & 0 & 0 & 0 & 0 & 0 & 0 & 0 & 0 & 0 & ⋯ & 0 & 0 & 0 & 0 & 0 & 0 & 0 & 0 & 0 & 0\\\\\n",
       "\t DC:FN1\\_Mono:VCAN & 0 & 0 & 0 & 0 & 0 & 0 & 0 & 0 & 0 & ⋯ & 0 & 0 & 0 & 0 & 0 & 0 & 0 & 0 & 0 & 0\\\\\n",
       "\t DC:FN1\\_T:VCAN    & 0 & 0 & 0 & 0 & 0 & 0 & 0 & 0 & 0 & ⋯ & 0 & 0 & 0 & 0 & 0 & 0 & 0 & 0 & 0 & 0\\\\\n",
       "\t Ery:FN1\\_DC:VCAN  & 1 & 1 & 1 & 1 & 0 & 1 & 1 & 0 & 0 & ⋯ & 1 & 1 & 1 & 1 & 1 & 1 & 1 & 1 & 1 & 1\\\\\n",
       "\\end{tabular}\n"
      ],
      "text/markdown": [
       "\n",
       "A tibble: 6 × 34\n",
       "\n",
       "| interaction_ID &lt;chr&gt; | AML1012-D0 &lt;int&gt; | AML210A-D0 &lt;int&gt; | AML328-D0 &lt;int&gt; | AML419A-D0 &lt;int&gt; | AML420B-D0 &lt;int&gt; | AML556-D0 &lt;int&gt; | AML707B-D0 &lt;int&gt; | AML916-D0 &lt;int&gt; | AML921A-D0 &lt;int&gt; | ⋯ ⋯ | BM-Q &lt;int&gt; | BM-R &lt;int&gt; | BM-Sk2 &lt;int&gt; | BM-T &lt;int&gt; | BM-U &lt;int&gt; | BM-W &lt;int&gt; | BM1 &lt;int&gt; | BM2 &lt;int&gt; | BM3 &lt;int&gt; | BM4 &lt;int&gt; |\n",
       "|---|---|---|---|---|---|---|---|---|---|---|---|---|---|---|---|---|---|---|---|---|\n",
       "| DC:FN1_DC:VCAN   | 1 | 1 | 1 | 1 | 0 | 1 | 1 | 0 | 1 | ⋯ | 1 | 1 | 1 | 1 | 1 | 1 | 1 | 1 | 1 | 1 |\n",
       "| DC:FN1_Ery:VCAN  | 0 | 0 | 0 | 0 | 0 | 0 | 0 | 0 | 0 | ⋯ | 0 | 0 | 0 | 0 | 0 | 0 | 0 | 0 | 0 | 0 |\n",
       "| DC:FN1_HSPC:VCAN | 0 | 0 | 0 | 0 | 0 | 0 | 0 | 0 | 0 | ⋯ | 0 | 0 | 0 | 0 | 0 | 0 | 0 | 0 | 0 | 0 |\n",
       "| DC:FN1_Mono:VCAN | 0 | 0 | 0 | 0 | 0 | 0 | 0 | 0 | 0 | ⋯ | 0 | 0 | 0 | 0 | 0 | 0 | 0 | 0 | 0 | 0 |\n",
       "| DC:FN1_T:VCAN    | 0 | 0 | 0 | 0 | 0 | 0 | 0 | 0 | 0 | ⋯ | 0 | 0 | 0 | 0 | 0 | 0 | 0 | 0 | 0 | 0 |\n",
       "| Ery:FN1_DC:VCAN  | 1 | 1 | 1 | 1 | 0 | 1 | 1 | 0 | 0 | ⋯ | 1 | 1 | 1 | 1 | 1 | 1 | 1 | 1 | 1 | 1 |\n",
       "\n"
      ],
      "text/plain": [
       "  interaction_ID   AML1012-D0 AML210A-D0 AML328-D0 AML419A-D0 AML420B-D0\n",
       "1 DC:FN1_DC:VCAN   1          1          1         1          0         \n",
       "2 DC:FN1_Ery:VCAN  0          0          0         0          0         \n",
       "3 DC:FN1_HSPC:VCAN 0          0          0         0          0         \n",
       "4 DC:FN1_Mono:VCAN 0          0          0         0          0         \n",
       "5 DC:FN1_T:VCAN    0          0          0         0          0         \n",
       "6 Ery:FN1_DC:VCAN  1          1          1         1          0         \n",
       "  AML556-D0 AML707B-D0 AML916-D0 AML921A-D0 ⋯ BM-Q BM-R BM-Sk2 BM-T BM-U BM-W\n",
       "1 1         1          0         1          ⋯ 1    1    1      1    1    1   \n",
       "2 0         0          0         0          ⋯ 0    0    0      0    0    0   \n",
       "3 0         0          0         0          ⋯ 0    0    0      0    0    0   \n",
       "4 0         0          0         0          ⋯ 0    0    0      0    0    0   \n",
       "5 0         0          0         0          ⋯ 0    0    0      0    0    0   \n",
       "6 1         1          0         0          ⋯ 1    1    1      1    1    1   \n",
       "  BM1 BM2 BM3 BM4\n",
       "1 1   1   1   1  \n",
       "2 0   0   0   0  \n",
       "3 0   0   0   0  \n",
       "4 0   0   0   0  \n",
       "5 0   0   0   0  \n",
       "6 1   1   1   1  "
      ]
     },
     "metadata": {},
     "output_type": "display_data"
    }
   ],
   "source": [
    "head(matrix_result)"
   ]
  },
  {
   "cell_type": "code",
   "execution_count": 35,
   "id": "7c7ce2dc",
   "metadata": {},
   "outputs": [
    {
     "name": "stdout",
     "output_type": "stream",
     "text": [
      "tibble [1,824 × 34] (S3: tbl_df/tbl/data.frame)\n",
      " $ interaction_ID: chr [1:1824] \"DC:FN1_DC:VCAN\" \"DC:FN1_Ery:VCAN\" \"DC:FN1_HSPC:VCAN\" \"DC:FN1_Mono:VCAN\" ...\n",
      " $ AML1012-D0    : int [1:1824] 1 0 0 0 0 1 0 0 0 0 ...\n",
      " $ AML210A-D0    : int [1:1824] 1 0 0 0 0 1 0 0 0 0 ...\n",
      " $ AML328-D0     : int [1:1824] 1 0 0 0 0 1 0 0 0 0 ...\n",
      " $ AML419A-D0    : int [1:1824] 1 0 0 0 0 1 0 0 0 0 ...\n",
      " $ AML420B-D0    : int [1:1824] 0 0 0 0 0 0 0 0 0 0 ...\n",
      " $ AML556-D0     : int [1:1824] 1 0 0 0 0 1 0 0 0 0 ...\n",
      " $ AML707B-D0    : int [1:1824] 1 0 0 0 0 1 0 0 0 0 ...\n",
      " $ AML916-D0     : int [1:1824] 0 0 0 0 0 0 0 0 0 0 ...\n",
      " $ AML921A-D0    : int [1:1824] 1 0 0 0 0 0 0 0 0 0 ...\n",
      " $ BM-A          : int [1:1824] 1 0 0 0 0 1 0 0 0 0 ...\n",
      " $ BM-B          : int [1:1824] 1 0 0 0 0 1 0 0 0 0 ...\n",
      " $ BM-C1         : int [1:1824] 1 0 0 0 0 1 0 0 0 0 ...\n",
      " $ BM-E          : int [1:1824] 1 0 0 0 0 1 0 0 0 0 ...\n",
      " $ BM-F          : int [1:1824] 1 0 0 0 0 1 0 0 0 0 ...\n",
      " $ BM-G          : int [1:1824] 1 0 0 0 0 1 0 0 0 0 ...\n",
      " $ BM-H          : int [1:1824] 1 0 0 0 0 1 0 0 0 0 ...\n",
      " $ BM-J          : int [1:1824] 1 0 0 0 0 1 0 0 0 0 ...\n",
      " $ BM-K          : int [1:1824] 1 0 0 0 0 1 0 0 0 0 ...\n",
      " $ BM-L          : int [1:1824] 1 0 0 0 0 1 0 0 0 0 ...\n",
      " $ BM-M          : int [1:1824] 1 0 0 0 0 1 0 0 0 0 ...\n",
      " $ BM-N          : int [1:1824] 1 0 0 0 0 1 0 0 0 0 ...\n",
      " $ BM-O          : int [1:1824] 1 0 0 0 0 1 0 0 0 0 ...\n",
      " $ BM-P          : int [1:1824] 1 0 0 0 0 1 0 0 0 0 ...\n",
      " $ BM-Q          : int [1:1824] 1 0 0 0 0 1 0 0 0 0 ...\n",
      " $ BM-R          : int [1:1824] 1 0 0 0 0 1 0 0 0 0 ...\n",
      " $ BM-Sk2        : int [1:1824] 1 0 0 0 0 1 0 0 0 0 ...\n",
      " $ BM-T          : int [1:1824] 1 0 0 0 0 1 0 0 0 0 ...\n",
      " $ BM-U          : int [1:1824] 1 0 0 0 0 1 0 0 0 0 ...\n",
      " $ BM-W          : int [1:1824] 1 0 0 0 0 1 0 0 0 0 ...\n",
      " $ BM1           : int [1:1824] 1 0 0 0 0 1 0 0 0 0 ...\n",
      " $ BM2           : int [1:1824] 1 0 0 0 0 1 0 0 0 0 ...\n",
      " $ BM3           : int [1:1824] 1 0 0 0 0 1 0 0 0 0 ...\n",
      " $ BM4           : int [1:1824] 1 0 0 0 0 1 0 0 0 0 ...\n"
     ]
    }
   ],
   "source": [
    "str(matrix_result)"
   ]
  },
  {
   "cell_type": "code",
   "execution_count": null,
   "id": "62619ac7",
   "metadata": {},
   "outputs": [],
   "source": []
  },
  {
   "cell_type": "code",
   "execution_count": 36,
   "id": "585a89c8",
   "metadata": {},
   "outputs": [],
   "source": [
    "# str(matrix_result[rowSums(matrix_result[, -1] != 0, na.rm = TRUE) > 0, ])"
   ]
  },
  {
   "cell_type": "code",
   "execution_count": 37,
   "id": "0f9082d8",
   "metadata": {},
   "outputs": [
    {
     "name": "stdout",
     "output_type": "stream",
     "text": [
      "tibble [405 × 34] (S3: tbl_df/tbl/data.frame)\n",
      " $ interaction_ID: chr [1:405] \"DC:FN1_DC:VCAN\" \"Ery:FN1_DC:VCAN\" \"HSPC:FN1_DC:VCAN\" \"Mono:FN1_DC:VCAN\" ...\n",
      " $ AML1012-D0    : int [1:405] 1 1 1 1 1 1 1 1 1 1 ...\n",
      " $ AML210A-D0    : int [1:405] 1 1 1 1 1 1 1 1 1 1 ...\n",
      " $ AML328-D0     : int [1:405] 1 1 1 1 1 1 1 1 1 1 ...\n",
      " $ AML419A-D0    : int [1:405] 1 1 1 1 0 1 1 1 1 0 ...\n",
      " $ AML420B-D0    : int [1:405] 0 0 0 0 0 0 0 0 0 0 ...\n",
      " $ AML556-D0     : int [1:405] 1 1 1 1 1 1 1 1 1 1 ...\n",
      " $ AML707B-D0    : int [1:405] 1 1 1 1 1 1 1 1 1 1 ...\n",
      " $ AML916-D0     : int [1:405] 0 0 0 0 0 0 0 0 0 0 ...\n",
      " $ AML921A-D0    : int [1:405] 1 0 1 1 1 1 0 1 1 1 ...\n",
      " $ BM-A          : int [1:405] 1 1 1 1 1 1 1 1 1 1 ...\n",
      " $ BM-B          : int [1:405] 1 1 1 1 1 1 1 1 1 1 ...\n",
      " $ BM-C1         : int [1:405] 1 1 1 1 1 1 1 1 1 1 ...\n",
      " $ BM-E          : int [1:405] 1 1 1 1 1 1 1 1 1 1 ...\n",
      " $ BM-F          : int [1:405] 1 1 1 1 1 1 1 1 1 1 ...\n",
      " $ BM-G          : int [1:405] 1 1 1 1 1 1 1 1 1 1 ...\n",
      " $ BM-H          : int [1:405] 1 1 1 1 1 1 1 1 1 1 ...\n",
      " $ BM-J          : int [1:405] 1 1 1 1 1 1 1 1 1 1 ...\n",
      " $ BM-K          : int [1:405] 1 1 1 1 1 1 1 1 1 1 ...\n",
      " $ BM-L          : int [1:405] 1 1 1 1 1 1 1 1 1 1 ...\n",
      " $ BM-M          : int [1:405] 1 1 1 1 1 1 1 1 1 1 ...\n",
      " $ BM-N          : int [1:405] 1 1 1 1 1 1 1 1 1 1 ...\n",
      " $ BM-O          : int [1:405] 1 1 1 1 1 1 1 1 1 1 ...\n",
      " $ BM-P          : int [1:405] 1 1 1 1 1 1 1 1 1 1 ...\n",
      " $ BM-Q          : int [1:405] 1 1 1 1 1 1 1 1 1 1 ...\n",
      " $ BM-R          : int [1:405] 1 1 1 1 1 1 1 1 1 1 ...\n",
      " $ BM-Sk2        : int [1:405] 1 1 1 1 1 1 1 1 1 1 ...\n",
      " $ BM-T          : int [1:405] 1 1 1 1 1 1 1 1 1 1 ...\n",
      " $ BM-U          : int [1:405] 1 1 1 1 1 1 1 1 1 1 ...\n",
      " $ BM-W          : int [1:405] 1 1 1 1 1 1 1 1 1 1 ...\n",
      " $ BM1           : int [1:405] 1 1 1 1 1 1 1 1 1 1 ...\n",
      " $ BM2           : int [1:405] 1 1 1 1 1 1 1 1 1 1 ...\n",
      " $ BM3           : int [1:405] 1 1 1 1 1 1 1 1 1 1 ...\n",
      " $ BM4           : int [1:405] 1 1 1 1 1 1 1 1 1 1 ...\n"
     ]
    }
   ],
   "source": [
    "str(matrix_result %>%\n",
    "  filter(rowSums(. == 1) > 0))"
   ]
  },
  {
   "cell_type": "code",
   "execution_count": 38,
   "id": "3eb5bf25",
   "metadata": {},
   "outputs": [],
   "source": [
    "matrix_result <- matrix_result[rowSums(matrix_result[, -1] != 0, na.rm = TRUE) > 0, ]"
   ]
  },
  {
   "cell_type": "code",
   "execution_count": 39,
   "id": "c7937171",
   "metadata": {},
   "outputs": [],
   "source": [
    "# Example list of strings\n",
    "strings <- matrix_result$interaction_ID\n",
    "\n",
    "# Initialize empty vectors for each column\n",
    "sender_celltype <- c()\n",
    "sender_gene <- c()\n",
    "receiver_celltype <- c()\n",
    "receiver_gene <- c()\n",
    "\n",
    "# Loop through each string and split it\n",
    "for (string in strings) {\n",
    "  parts <- strsplit(string, \"_\")\n",
    "  \n",
    "  # Split the sender part\n",
    "  sender_parts <- strsplit(parts[[1]][1], \":\")\n",
    "  sender_celltype <- c(sender_celltype, sender_parts[[1]][1])\n",
    "  sender_gene <- c(sender_gene, sender_parts[[1]][2])\n",
    "  \n",
    "  # Split the receiver part\n",
    "  receiver_parts <- strsplit(parts[[1]][2], \":\")\n",
    "  receiver_celltype <- c(receiver_celltype, receiver_parts[[1]][1])\n",
    "  receiver_gene <- c(receiver_gene, receiver_parts[[1]][2])\n",
    "}\n",
    "\n",
    "# Create a dataframe with the splitted values\n",
    "df <- data.frame(\n",
    "  sender_celltype = sender_celltype,\n",
    "  sender_gene = sender_gene,\n",
    "  receiver_celltype = receiver_celltype,\n",
    "  receiver_gene = receiver_gene\n",
    ")\n",
    "\n"
   ]
  },
  {
   "cell_type": "code",
   "execution_count": 40,
   "id": "eee0799b",
   "metadata": {},
   "outputs": [],
   "source": [
    "# Create interaction annotation df with log2FC values\n",
    "for (row in 1:nrow(df)){\n",
    "    each_row <- df[row,]\n",
    "    sender_cell <- each_row$sender_celltype\n",
    "    sender_gene <- each_row$sender_gene\n",
    "    receiver_cell <- each_row$receiver_celltype\n",
    "    receiver_gene <- each_row$receiver_gene\n",
    "    \n",
    "    ligand_log2FC <- subset(DEGs, cluster == sender_cell & gene == sender_gene)$avg_log2FC\n",
    "    \n",
    "    ligand_p_val_adj <- subset(DEGs, cluster == sender_cell & gene == sender_gene)$p_val_adj\n",
    "    \n",
    "    receptor_log2FC <- subset(DEGs, cluster == receiver_cell & gene == receiver_gene)$avg_log2FC\n",
    "    \n",
    "    receptor_p_val_adj <- subset(DEGs, cluster == receiver_cell & gene == receiver_gene)$p_val_adj\n",
    "\n",
    "    if (length(ligand_log2FC) == 0) {\n",
    "        df[row,\"ligand_log2FC\"] <- NA\n",
    "        df[row,\"ligand_p_val_adj\"] <- NA\n",
    "    } else {\n",
    "        df[row,\"ligand_log2FC\"] <- ligand_log2FC\n",
    "        df[row,\"ligand_p_val_adj\"] <- ligand_p_val_adj\n",
    "    }\n",
    "    \n",
    "    if (length(receptor_log2FC) == 0) {\n",
    "        df[row,\"receptor_log2FC\"] <- NA\n",
    "        df[row,\"receptor_p_val_adj\"] <- NA\n",
    "    } else {\n",
    "        df[row,\"receptor_log2FC\"] <- receptor_log2FC\n",
    "        df[row,\"receptor_p_val_adj\"] <- receptor_p_val_adj\n",
    "    }\n",
    "}\n"
   ]
  },
  {
   "cell_type": "code",
   "execution_count": 41,
   "id": "05695ea6",
   "metadata": {},
   "outputs": [
    {
     "data": {
      "text/html": [
       "<table class=\"dataframe\">\n",
       "<caption>A data.frame: 3 × 8</caption>\n",
       "<thead>\n",
       "\t<tr><th></th><th scope=col>sender_celltype</th><th scope=col>sender_gene</th><th scope=col>receiver_celltype</th><th scope=col>receiver_gene</th><th scope=col>ligand_log2FC</th><th scope=col>ligand_p_val_adj</th><th scope=col>receptor_log2FC</th><th scope=col>receptor_p_val_adj</th></tr>\n",
       "\t<tr><th></th><th scope=col>&lt;chr&gt;</th><th scope=col>&lt;chr&gt;</th><th scope=col>&lt;chr&gt;</th><th scope=col>&lt;chr&gt;</th><th scope=col>&lt;dbl&gt;</th><th scope=col>&lt;dbl&gt;</th><th scope=col>&lt;dbl&gt;</th><th scope=col>&lt;dbl&gt;</th></tr>\n",
       "</thead>\n",
       "<tbody>\n",
       "\t<tr><th scope=row>111</th><td>DC</td><td>VCAN  </td><td>DC  </td><td>SELL</td><td>-0.2515238</td><td>2.491272e-40</td><td>-0.3316847</td><td>0.000000e+00</td></tr>\n",
       "\t<tr><th scope=row>113</th><td>DC</td><td>VCAN  </td><td>HSPC</td><td>SELL</td><td>-0.2515238</td><td>2.491272e-40</td><td>-0.3060212</td><td>0.000000e+00</td></tr>\n",
       "\t<tr><th scope=row>352</th><td>DC</td><td>S100A8</td><td>B   </td><td>CD69</td><td>-0.2773294</td><td>2.632622e-28</td><td>-0.2599869</td><td>6.425401e-22</td></tr>\n",
       "</tbody>\n",
       "</table>\n"
      ],
      "text/latex": [
       "A data.frame: 3 × 8\n",
       "\\begin{tabular}{r|llllllll}\n",
       "  & sender\\_celltype & sender\\_gene & receiver\\_celltype & receiver\\_gene & ligand\\_log2FC & ligand\\_p\\_val\\_adj & receptor\\_log2FC & receptor\\_p\\_val\\_adj\\\\\n",
       "  & <chr> & <chr> & <chr> & <chr> & <dbl> & <dbl> & <dbl> & <dbl>\\\\\n",
       "\\hline\n",
       "\t111 & DC & VCAN   & DC   & SELL & -0.2515238 & 2.491272e-40 & -0.3316847 & 0.000000e+00\\\\\n",
       "\t113 & DC & VCAN   & HSPC & SELL & -0.2515238 & 2.491272e-40 & -0.3060212 & 0.000000e+00\\\\\n",
       "\t352 & DC & S100A8 & B    & CD69 & -0.2773294 & 2.632622e-28 & -0.2599869 & 6.425401e-22\\\\\n",
       "\\end{tabular}\n"
      ],
      "text/markdown": [
       "\n",
       "A data.frame: 3 × 8\n",
       "\n",
       "| <!--/--> | sender_celltype &lt;chr&gt; | sender_gene &lt;chr&gt; | receiver_celltype &lt;chr&gt; | receiver_gene &lt;chr&gt; | ligand_log2FC &lt;dbl&gt; | ligand_p_val_adj &lt;dbl&gt; | receptor_log2FC &lt;dbl&gt; | receptor_p_val_adj &lt;dbl&gt; |\n",
       "|---|---|---|---|---|---|---|---|---|\n",
       "| 111 | DC | VCAN   | DC   | SELL | -0.2515238 | 2.491272e-40 | -0.3316847 | 0.000000e+00 |\n",
       "| 113 | DC | VCAN   | HSPC | SELL | -0.2515238 | 2.491272e-40 | -0.3060212 | 0.000000e+00 |\n",
       "| 352 | DC | S100A8 | B    | CD69 | -0.2773294 | 2.632622e-28 | -0.2599869 | 6.425401e-22 |\n",
       "\n"
      ],
      "text/plain": [
       "    sender_celltype sender_gene receiver_celltype receiver_gene ligand_log2FC\n",
       "111 DC              VCAN        DC                SELL          -0.2515238   \n",
       "113 DC              VCAN        HSPC              SELL          -0.2515238   \n",
       "352 DC              S100A8      B                 CD69          -0.2773294   \n",
       "    ligand_p_val_adj receptor_log2FC receptor_p_val_adj\n",
       "111 2.491272e-40     -0.3316847      0.000000e+00      \n",
       "113 2.491272e-40     -0.3060212      0.000000e+00      \n",
       "352 2.632622e-28     -0.2599869      6.425401e-22      "
      ]
     },
     "metadata": {},
     "output_type": "display_data"
    }
   ],
   "source": [
    "#see where both components (sender/receiever) have log2FC value\n",
    "df[complete.cases(df$ligand_log2FC, df$receptor_log2FC), ]"
   ]
  },
  {
   "cell_type": "code",
   "execution_count": 42,
   "id": "78eb337a",
   "metadata": {},
   "outputs": [],
   "source": [
    "df[\"interaction_ID\"] <- paste0(df$sender_celltype, \":\",df$sender_gene , \"_\", df$receiver_celltype, \":\", df$receiver_gene)"
   ]
  },
  {
   "cell_type": "code",
   "execution_count": 43,
   "id": "1dd5dc2a",
   "metadata": {},
   "outputs": [
    {
     "data": {
      "text/html": [
       "<table class=\"dataframe\">\n",
       "<caption>A data.frame: 0 × 9</caption>\n",
       "<thead>\n",
       "\t<tr><th scope=col>sender_celltype</th><th scope=col>sender_gene</th><th scope=col>receiver_celltype</th><th scope=col>receiver_gene</th><th scope=col>ligand_log2FC</th><th scope=col>ligand_p_val_adj</th><th scope=col>receptor_log2FC</th><th scope=col>receptor_p_val_adj</th><th scope=col>interaction_ID</th></tr>\n",
       "\t<tr><th scope=col>&lt;chr&gt;</th><th scope=col>&lt;chr&gt;</th><th scope=col>&lt;chr&gt;</th><th scope=col>&lt;chr&gt;</th><th scope=col>&lt;dbl&gt;</th><th scope=col>&lt;dbl&gt;</th><th scope=col>&lt;dbl&gt;</th><th scope=col>&lt;dbl&gt;</th><th scope=col>&lt;chr&gt;</th></tr>\n",
       "</thead>\n",
       "<tbody>\n",
       "</tbody>\n",
       "</table>\n"
      ],
      "text/latex": [
       "A data.frame: 0 × 9\n",
       "\\begin{tabular}{lllllllll}\n",
       " sender\\_celltype & sender\\_gene & receiver\\_celltype & receiver\\_gene & ligand\\_log2FC & ligand\\_p\\_val\\_adj & receptor\\_log2FC & receptor\\_p\\_val\\_adj & interaction\\_ID\\\\\n",
       " <chr> & <chr> & <chr> & <chr> & <dbl> & <dbl> & <dbl> & <dbl> & <chr>\\\\\n",
       "\\hline\n",
       "\\end{tabular}\n"
      ],
      "text/markdown": [
       "\n",
       "A data.frame: 0 × 9\n",
       "\n",
       "| sender_celltype &lt;chr&gt; | sender_gene &lt;chr&gt; | receiver_celltype &lt;chr&gt; | receiver_gene &lt;chr&gt; | ligand_log2FC &lt;dbl&gt; | ligand_p_val_adj &lt;dbl&gt; | receptor_log2FC &lt;dbl&gt; | receptor_p_val_adj &lt;dbl&gt; | interaction_ID &lt;chr&gt; |\n",
       "|---|---|---|---|---|---|---|---|---|\n",
       "\n"
      ],
      "text/plain": [
       "     sender_celltype sender_gene receiver_celltype receiver_gene ligand_log2FC\n",
       "     ligand_p_val_adj receptor_log2FC receptor_p_val_adj interaction_ID"
      ]
     },
     "metadata": {},
     "output_type": "display_data"
    }
   ],
   "source": [
    "df[is.na(df$ligand_log2FC) & is.na(df$receptor_log2FC),]"
   ]
  },
  {
   "cell_type": "markdown",
   "id": "40780fc2",
   "metadata": {},
   "source": [
    "### get log2FC_weights"
   ]
  },
  {
   "cell_type": "code",
   "execution_count": 44,
   "id": "5fc3323d",
   "metadata": {},
   "outputs": [],
   "source": [
    "#subset means\n",
    "means <- filter(means, interaction_ID %in% df$interaction_ID)"
   ]
  },
  {
   "cell_type": "code",
   "execution_count": 45,
   "id": "e81541fe",
   "metadata": {},
   "outputs": [],
   "source": [
    "cols <- c(\"interaction_ID\", grep(\"healthy\", names(means), value = TRUE))\n",
    "control_means <- means[, cols, drop = FALSE]"
   ]
  },
  {
   "cell_type": "code",
   "execution_count": 46,
   "id": "7ff5518c",
   "metadata": {},
   "outputs": [],
   "source": [
    "cols <- c(\"interaction_ID\", grep(\"AML\", names(means), value = TRUE))\n",
    "case_means <- means[, cols, drop = FALSE]"
   ]
  },
  {
   "cell_type": "code",
   "execution_count": 47,
   "id": "ce698468",
   "metadata": {},
   "outputs": [],
   "source": [
    "numeric_cols <- control_means[, !names(control_means) %in% c(\"interaction_ID\")]\n",
    "control_means$row_means <- rowMeans(numeric_cols, na.rm = TRUE)"
   ]
  },
  {
   "cell_type": "code",
   "execution_count": 48,
   "id": "8bf4043d",
   "metadata": {},
   "outputs": [],
   "source": [
    "numeric_cols <- case_means[, !names(case_means) %in% c(\"interaction_ID\")]\n",
    "case_means$row_means <- rowMeans(numeric_cols, na.rm = TRUE)"
   ]
  },
  {
   "cell_type": "code",
   "execution_count": 49,
   "id": "07e2d6d2",
   "metadata": {},
   "outputs": [],
   "source": [
    "df[\"mean_weigth_case\"]=NA\n",
    "df[\"mean_weight_control\"]=NA"
   ]
  },
  {
   "cell_type": "code",
   "execution_count": null,
   "id": "66263dca",
   "metadata": {},
   "outputs": [],
   "source": []
  },
  {
   "cell_type": "code",
   "execution_count": 50,
   "id": "36703939",
   "metadata": {},
   "outputs": [],
   "source": [
    "for (row in 1:nrow(df)){\n",
    "    int_ID <- df[row,]$interaction_ID\n",
    "    case_mean <- filter(case_means, interaction_ID==int_ID)$row_means\n",
    "    control_mean <- filter(control_means, interaction_ID==int_ID)$row_means\n",
    "    \n",
    "    df[row,\"mean_weigth_case\"] <- case_mean\n",
    "    df[row,\"mean_weight_control\"] <- control_mean\n",
    "}"
   ]
  },
  {
   "cell_type": "code",
   "execution_count": 51,
   "id": "b151c9e2",
   "metadata": {},
   "outputs": [],
   "source": [
    "df[\"log2FC_weights\"] = log2(df$mean_weigth_case/df$mean_weight_control)"
   ]
  },
  {
   "cell_type": "code",
   "execution_count": 52,
   "id": "387b94b4",
   "metadata": {},
   "outputs": [
    {
     "data": {
      "text/html": [
       "<style>\n",
       ".list-inline {list-style: none; margin:0; padding: 0}\n",
       ".list-inline>li {display: inline-block}\n",
       ".list-inline>li:not(:last-child)::after {content: \"\\00b7\"; padding: 0 .5ex}\n",
       "</style>\n",
       "<ol class=list-inline><li>'sender_celltype'</li><li>'sender_gene'</li><li>'receiver_celltype'</li><li>'receiver_gene'</li><li>'ligand_log2FC'</li><li>'ligand_p_val_adj'</li><li>'receptor_log2FC'</li><li>'receptor_p_val_adj'</li><li>'interaction_ID'</li><li>'mean_weigth_case'</li><li>'mean_weight_control'</li><li>'log2FC_weights'</li></ol>\n"
      ],
      "text/latex": [
       "\\begin{enumerate*}\n",
       "\\item 'sender\\_celltype'\n",
       "\\item 'sender\\_gene'\n",
       "\\item 'receiver\\_celltype'\n",
       "\\item 'receiver\\_gene'\n",
       "\\item 'ligand\\_log2FC'\n",
       "\\item 'ligand\\_p\\_val\\_adj'\n",
       "\\item 'receptor\\_log2FC'\n",
       "\\item 'receptor\\_p\\_val\\_adj'\n",
       "\\item 'interaction\\_ID'\n",
       "\\item 'mean\\_weigth\\_case'\n",
       "\\item 'mean\\_weight\\_control'\n",
       "\\item 'log2FC\\_weights'\n",
       "\\end{enumerate*}\n"
      ],
      "text/markdown": [
       "1. 'sender_celltype'\n",
       "2. 'sender_gene'\n",
       "3. 'receiver_celltype'\n",
       "4. 'receiver_gene'\n",
       "5. 'ligand_log2FC'\n",
       "6. 'ligand_p_val_adj'\n",
       "7. 'receptor_log2FC'\n",
       "8. 'receptor_p_val_adj'\n",
       "9. 'interaction_ID'\n",
       "10. 'mean_weigth_case'\n",
       "11. 'mean_weight_control'\n",
       "12. 'log2FC_weights'\n",
       "\n",
       "\n"
      ],
      "text/plain": [
       " [1] \"sender_celltype\"     \"sender_gene\"         \"receiver_celltype\"  \n",
       " [4] \"receiver_gene\"       \"ligand_log2FC\"       \"ligand_p_val_adj\"   \n",
       " [7] \"receptor_log2FC\"     \"receptor_p_val_adj\"  \"interaction_ID\"     \n",
       "[10] \"mean_weigth_case\"    \"mean_weight_control\" \"log2FC_weights\"     "
      ]
     },
     "metadata": {},
     "output_type": "display_data"
    }
   ],
   "source": [
    "names(df)"
   ]
  },
  {
   "cell_type": "code",
   "execution_count": 53,
   "id": "8fdd3a3c",
   "metadata": {},
   "outputs": [],
   "source": [
    "df <- df %>% select(interaction_ID, sender_celltype, sender_gene, receiver_celltype,receiver_gene,\n",
    "             ligand_log2FC,ligand_p_val_adj,receptor_log2FC,receptor_p_val_adj,mean_weigth_case,\n",
    "                   mean_weight_control,log2FC_weights)"
   ]
  },
  {
   "cell_type": "code",
   "execution_count": 54,
   "id": "0c86d1dc",
   "metadata": {},
   "outputs": [],
   "source": [
    "threshold_log2FC <- 1"
   ]
  },
  {
   "cell_type": "code",
   "execution_count": 55,
   "id": "9487fdec",
   "metadata": {},
   "outputs": [],
   "source": [
    "# Creating a new column named 'direction' based on the conditions\n",
    "\n",
    "df$direction <- ifelse(df$log2FC_weights > threshold_log2FC, \"up\",\n",
    "                             ifelse(df$log2FC_weights < threshold_log2FC, \"down\",\n",
    "                                    ifelse(df$log2FC_weights == threshold_log2FC, \"unchanged\", NA)))\n"
   ]
  },
  {
   "cell_type": "markdown",
   "id": "82faf99c",
   "metadata": {},
   "source": [
    "### Significant weights\n",
    "We possess a set of weights (referred to as \"means\" by CPDB) and a binary matrix containing values of 0 and 1 to indicate significance of DEGs (relevant_interactions.txt). In order to extract the significant weights, we perform a multiplication operation between the weight matrix and the significance matrix. By multiplying the two matrices element-wise, we retain only the significant weights while setting the non-significant weights to 0. Consequently, we obtain a matrix solely consisting of the significant weights."
   ]
  },
  {
   "cell_type": "code",
   "execution_count": 56,
   "id": "4ddc205e",
   "metadata": {},
   "outputs": [],
   "source": [
    "# The purpose of using a for loop in this code snippet is to handle the mismatched order of rows between \n",
    "# the means dataframe and the binary matrix dataframe."
   ]
  },
  {
   "cell_type": "code",
   "execution_count": 57,
   "id": "3eafdb39",
   "metadata": {},
   "outputs": [],
   "source": [
    "# Create an empty list to store the multiplied rows\n",
    "multiplied_rows <- list()\n",
    "\n",
    "# Iterate over the rows\n",
    "for (i in 1:nrow(means)) {\n",
    "  interaction_ID <- means$interaction_ID[i]\n",
    "  \n",
    "  # Find the matching row in the 'significant' dataframe based on 'interaction_ID'\n",
    "  matching_row <- matrix_result[matrix_result$interaction_ID == interaction_ID, ]\n",
    "  \n",
    "  # Perform element-wise multiplication\n",
    "  multiplied_values <- means[i, -1] * matching_row[, -1]\n",
    "  \n",
    "  # Create a row with interaction_ID and multiplied values\n",
    "  row <- c(interaction_ID, multiplied_values)\n",
    "  \n",
    "  # Add the row to the list\n",
    "  multiplied_rows[[i]] <- row\n",
    "}\n",
    "\n",
    "# Convert the list of rows into a dataframe\n",
    "multiplied_df <- do.call(rbind, multiplied_rows)\n",
    "\n",
    "colnames(multiplied_df) <- c(\"interaction_ID\", colnames(means)[-1])\n",
    "\n",
    "multiplied_df <- as.data.frame(multiplied_df)"
   ]
  },
  {
   "cell_type": "code",
   "execution_count": 58,
   "id": "5a3dbbea",
   "metadata": {},
   "outputs": [],
   "source": [
    "# Convert columns to double data type\n",
    "multiplied_df <- as.data.frame(multiplied_df) %>%\n",
    "  mutate(across(-interaction_ID, as.double))"
   ]
  },
  {
   "cell_type": "code",
   "execution_count": 59,
   "id": "3d3865e8",
   "metadata": {},
   "outputs": [],
   "source": [
    "multiplied_df$interaction_ID <- as.character(multiplied_df$interaction_ID)"
   ]
  },
  {
   "cell_type": "code",
   "execution_count": 60,
   "id": "dc40f381",
   "metadata": {},
   "outputs": [],
   "source": [
    "multiplied_df[is.na(multiplied_df)] <- 0"
   ]
  },
  {
   "cell_type": "markdown",
   "id": "431c8a0e",
   "metadata": {},
   "source": [
    "# fixing direction\n",
    "\n",
    "Due to the lack of directions for pairs in CellPhoneDB, some of the pairs are swapped order (i.e: L1_R1 appears as R1_L1). To address this issue, we determine the interactions that contain swapped pairs and reorganize them in the correct order. This enables us to compare the interactions accurately."
   ]
  },
  {
   "cell_type": "code",
   "execution_count": 61,
   "id": "beb3efbf",
   "metadata": {},
   "outputs": [],
   "source": [
    "library(community)"
   ]
  },
  {
   "cell_type": "code",
   "execution_count": 62,
   "id": "bcba24bd",
   "metadata": {},
   "outputs": [],
   "source": [
    "data(LR_database)"
   ]
  },
  {
   "cell_type": "code",
   "execution_count": 63,
   "id": "b83025e5",
   "metadata": {},
   "outputs": [],
   "source": [
    "LR_DB <- LR_database"
   ]
  },
  {
   "cell_type": "code",
   "execution_count": null,
   "id": "140429f2",
   "metadata": {},
   "outputs": [],
   "source": []
  },
  {
   "cell_type": "code",
   "execution_count": 64,
   "id": "474353d5",
   "metadata": {},
   "outputs": [],
   "source": [
    "# LR_DB <- LR_DB %>% \n",
    "#         rename(\"Ligand\" = \"protein_name_a\",\n",
    "#                \"Receptor\" = \"protein_name_b\")\n",
    "\n",
    "# LR_DB <- LR_DB[,-1]"
   ]
  },
  {
   "cell_type": "code",
   "execution_count": 65,
   "id": "9bd973aa",
   "metadata": {},
   "outputs": [],
   "source": [
    "df[\"pair\"] <- paste0(df$sender_gene, \"_\", df$receiver_gene)\n",
    "df[\"dup\"] <- paste0(df$receiver_gene, \"_\", df$sender_gene)"
   ]
  },
  {
   "cell_type": "code",
   "execution_count": 66,
   "id": "12a0240d",
   "metadata": {},
   "outputs": [
    {
     "data": {
      "text/html": [
       "<table class=\"dataframe\">\n",
       "<caption>A data.frame: 0 × 15</caption>\n",
       "<thead>\n",
       "\t<tr><th scope=col>interaction_ID</th><th scope=col>sender_celltype</th><th scope=col>sender_gene</th><th scope=col>receiver_celltype</th><th scope=col>receiver_gene</th><th scope=col>ligand_log2FC</th><th scope=col>ligand_p_val_adj</th><th scope=col>receptor_log2FC</th><th scope=col>receptor_p_val_adj</th><th scope=col>mean_weigth_case</th><th scope=col>mean_weight_control</th><th scope=col>log2FC_weights</th><th scope=col>direction</th><th scope=col>pair</th><th scope=col>dup</th></tr>\n",
       "\t<tr><th scope=col>&lt;chr&gt;</th><th scope=col>&lt;chr&gt;</th><th scope=col>&lt;chr&gt;</th><th scope=col>&lt;chr&gt;</th><th scope=col>&lt;chr&gt;</th><th scope=col>&lt;dbl&gt;</th><th scope=col>&lt;dbl&gt;</th><th scope=col>&lt;dbl&gt;</th><th scope=col>&lt;dbl&gt;</th><th scope=col>&lt;dbl&gt;</th><th scope=col>&lt;dbl&gt;</th><th scope=col>&lt;dbl&gt;</th><th scope=col>&lt;lgl&gt;</th><th scope=col>&lt;chr&gt;</th><th scope=col>&lt;chr&gt;</th></tr>\n",
       "</thead>\n",
       "<tbody>\n",
       "</tbody>\n",
       "</table>\n"
      ],
      "text/latex": [
       "A data.frame: 0 × 15\n",
       "\\begin{tabular}{lllllllllllllll}\n",
       " interaction\\_ID & sender\\_celltype & sender\\_gene & receiver\\_celltype & receiver\\_gene & ligand\\_log2FC & ligand\\_p\\_val\\_adj & receptor\\_log2FC & receptor\\_p\\_val\\_adj & mean\\_weigth\\_case & mean\\_weight\\_control & log2FC\\_weights & direction & pair & dup\\\\\n",
       " <chr> & <chr> & <chr> & <chr> & <chr> & <dbl> & <dbl> & <dbl> & <dbl> & <dbl> & <dbl> & <dbl> & <lgl> & <chr> & <chr>\\\\\n",
       "\\hline\n",
       "\\end{tabular}\n"
      ],
      "text/markdown": [
       "\n",
       "A data.frame: 0 × 15\n",
       "\n",
       "| interaction_ID &lt;chr&gt; | sender_celltype &lt;chr&gt; | sender_gene &lt;chr&gt; | receiver_celltype &lt;chr&gt; | receiver_gene &lt;chr&gt; | ligand_log2FC &lt;dbl&gt; | ligand_p_val_adj &lt;dbl&gt; | receptor_log2FC &lt;dbl&gt; | receptor_p_val_adj &lt;dbl&gt; | mean_weigth_case &lt;dbl&gt; | mean_weight_control &lt;dbl&gt; | log2FC_weights &lt;dbl&gt; | direction &lt;lgl&gt; | pair &lt;chr&gt; | dup &lt;chr&gt; |\n",
       "|---|---|---|---|---|---|---|---|---|---|---|---|---|---|---|\n",
       "\n"
      ],
      "text/plain": [
       "     interaction_ID sender_celltype sender_gene receiver_celltype receiver_gene\n",
       "     ligand_log2FC ligand_p_val_adj receptor_log2FC receptor_p_val_adj\n",
       "     mean_weigth_case mean_weight_control log2FC_weights direction pair dup"
      ]
     },
     "metadata": {},
     "output_type": "display_data"
    }
   ],
   "source": [
    "# check if we have any duplicated swaps\n",
    "df[df$pair %in% df$dup,]"
   ]
  },
  {
   "cell_type": "code",
   "execution_count": 67,
   "id": "ace28693",
   "metadata": {},
   "outputs": [
    {
     "data": {
      "text/html": [
       "TRUE"
      ],
      "text/latex": [
       "TRUE"
      ],
      "text/markdown": [
       "TRUE"
      ],
      "text/plain": [
       "[1] TRUE"
      ]
     },
     "metadata": {},
     "output_type": "display_data"
    }
   ],
   "source": [
    "# check if all the items that are not present in the original database exist as swapped pairs in \n",
    "#the original database.\n",
    "identical(df[!df$pair %in% LR_DB$Pair.Name,]$interaction_ID,df[df$dup %in% LR_DB$Pair.Name,]$interaction_ID)"
   ]
  },
  {
   "cell_type": "code",
   "execution_count": 69,
   "id": "43c1cc2a",
   "metadata": {},
   "outputs": [
    {
     "data": {
      "text/html": [
       "405"
      ],
      "text/latex": [
       "405"
      ],
      "text/markdown": [
       "405"
      ],
      "text/plain": [
       "[1] 405"
      ]
     },
     "metadata": {},
     "output_type": "display_data"
    }
   ],
   "source": [
    "nrow(df)"
   ]
  },
  {
   "cell_type": "code",
   "execution_count": 70,
   "id": "b159266c",
   "metadata": {},
   "outputs": [],
   "source": [
    "fix_df = df[!df$pair %in% LR_DB$Pair.Name,]"
   ]
  },
  {
   "cell_type": "code",
   "execution_count": 71,
   "id": "71584efd",
   "metadata": {},
   "outputs": [],
   "source": [
    "df = df[df$pair %in% LR_DB$Pair.Name,]"
   ]
  },
  {
   "cell_type": "code",
   "execution_count": 72,
   "id": "7b4288fb",
   "metadata": {},
   "outputs": [
    {
     "data": {
      "text/html": [
       "405"
      ],
      "text/latex": [
       "405"
      ],
      "text/markdown": [
       "405"
      ],
      "text/plain": [
       "[1] 405"
      ]
     },
     "metadata": {},
     "output_type": "display_data"
    }
   ],
   "source": [
    "nrow(df) + nrow(fix_df)"
   ]
  },
  {
   "cell_type": "code",
   "execution_count": 73,
   "id": "a2a278bd",
   "metadata": {},
   "outputs": [
    {
     "data": {
      "text/html": [
       "TRUE"
      ],
      "text/latex": [
       "TRUE"
      ],
      "text/markdown": [
       "TRUE"
      ],
      "text/plain": [
       "[1] TRUE"
      ]
     },
     "metadata": {},
     "output_type": "display_data"
    }
   ],
   "source": [
    "all(fix_df$dup %in% LR_DB$Pair.Name)"
   ]
  },
  {
   "cell_type": "code",
   "execution_count": 74,
   "id": "22519f00",
   "metadata": {},
   "outputs": [],
   "source": [
    "# create a pair column, makes it easier to check\n",
    "multiplied_df$pair <- sapply(strsplit(multiplied_df$interaction_ID, \"_\"), function(x) {\n",
    "  genes <- gsub(\".*:\", \"\", x)\n",
    "  paste(genes, collapse = \"_\")\n",
    "})"
   ]
  },
  {
   "cell_type": "code",
   "execution_count": 75,
   "id": "1acfa79e",
   "metadata": {},
   "outputs": [],
   "source": [
    "fix_multiplied_df = multiplied_df[!multiplied_df$pair %in% LR_DB$Pair.Name,]"
   ]
  },
  {
   "cell_type": "code",
   "execution_count": 76,
   "id": "cc3dfea1",
   "metadata": {},
   "outputs": [],
   "source": [
    "multiplied_df = multiplied_df[multiplied_df$pair %in% LR_DB$Pair.Name,]"
   ]
  },
  {
   "cell_type": "code",
   "execution_count": 77,
   "id": "d2a45d20",
   "metadata": {},
   "outputs": [
    {
     "data": {
      "text/html": [
       "<table class=\"dataframe\">\n",
       "<caption>A data.frame: 6 × 35</caption>\n",
       "<thead>\n",
       "\t<tr><th></th><th scope=col>interaction_ID</th><th scope=col>AML1012-D0</th><th scope=col>AML210A-D0</th><th scope=col>AML328-D0</th><th scope=col>AML419A-D0</th><th scope=col>AML420B-D0</th><th scope=col>AML556-D0</th><th scope=col>AML707B-D0</th><th scope=col>AML916-D0</th><th scope=col>AML921A-D0</th><th scope=col>⋯</th><th scope=col>BM-R</th><th scope=col>BM-Sk2</th><th scope=col>BM-T</th><th scope=col>BM-U</th><th scope=col>BM-W</th><th scope=col>BM1</th><th scope=col>BM2</th><th scope=col>BM3</th><th scope=col>BM4</th><th scope=col>pair</th></tr>\n",
       "\t<tr><th></th><th scope=col>&lt;chr&gt;</th><th scope=col>&lt;dbl&gt;</th><th scope=col>&lt;dbl&gt;</th><th scope=col>&lt;dbl&gt;</th><th scope=col>&lt;dbl&gt;</th><th scope=col>&lt;dbl&gt;</th><th scope=col>&lt;dbl&gt;</th><th scope=col>&lt;dbl&gt;</th><th scope=col>&lt;dbl&gt;</th><th scope=col>&lt;dbl&gt;</th><th scope=col>⋯</th><th scope=col>&lt;dbl&gt;</th><th scope=col>&lt;dbl&gt;</th><th scope=col>&lt;dbl&gt;</th><th scope=col>&lt;dbl&gt;</th><th scope=col>&lt;dbl&gt;</th><th scope=col>&lt;dbl&gt;</th><th scope=col>&lt;dbl&gt;</th><th scope=col>&lt;dbl&gt;</th><th scope=col>&lt;dbl&gt;</th><th scope=col>&lt;chr&gt;</th></tr>\n",
       "</thead>\n",
       "<tbody>\n",
       "\t<tr><th scope=row>1</th><td>DC:FN1_DC:VCAN  </td><td>0.300</td><td>0.286</td><td>0.504</td><td>0.467</td><td>0</td><td>0.485</td><td>0.372</td><td>0</td><td>0.098</td><td>⋯</td><td>0.326</td><td>0.225</td><td>0.330</td><td>0.316</td><td>0.158</td><td>0.196</td><td>0.289</td><td>0.264</td><td>0.369</td><td>FN1_VCAN </td></tr>\n",
       "\t<tr><th scope=row>2</th><td>Ery:FN1_DC:VCAN </td><td>0.300</td><td>0.287</td><td>0.437</td><td>0.458</td><td>0</td><td>0.484</td><td>0.355</td><td>0</td><td>0.000</td><td>⋯</td><td>0.323</td><td>0.223</td><td>0.324</td><td>0.308</td><td>0.157</td><td>0.196</td><td>0.290</td><td>0.264</td><td>0.369</td><td>FN1_VCAN </td></tr>\n",
       "\t<tr><th scope=row>3</th><td>HSPC:FN1_DC:VCAN</td><td>0.000</td><td>0.288</td><td>0.445</td><td>0.458</td><td>0</td><td>0.485</td><td>0.359</td><td>0</td><td>0.098</td><td>⋯</td><td>0.325</td><td>0.223</td><td>0.327</td><td>0.311</td><td>0.157</td><td>0.196</td><td>0.290</td><td>0.264</td><td>0.369</td><td>FN1_VCAN </td></tr>\n",
       "\t<tr><th scope=row>4</th><td>Mono:FN1_DC:VCAN</td><td>0.301</td><td>0.289</td><td>0.452</td><td>0.461</td><td>0</td><td>0.483</td><td>0.360</td><td>0</td><td>0.098</td><td>⋯</td><td>0.324</td><td>0.224</td><td>0.324</td><td>0.307</td><td>0.157</td><td>0.195</td><td>0.290</td><td>0.263</td><td>0.367</td><td>FN1_VCAN </td></tr>\n",
       "\t<tr><th scope=row>5</th><td>T:FN1_DC:VCAN   </td><td>0.300</td><td>0.289</td><td>0.437</td><td>0.000</td><td>0</td><td>0.485</td><td>0.355</td><td>0</td><td>0.096</td><td>⋯</td><td>0.326</td><td>0.225</td><td>0.325</td><td>0.308</td><td>0.159</td><td>0.197</td><td>0.291</td><td>0.264</td><td>0.369</td><td>FN1_VCAN </td></tr>\n",
       "\t<tr><th scope=row>6</th><td>DC:LDLR_DC:VCAN </td><td>0.316</td><td>0.303</td><td>0.458</td><td>0.478</td><td>0</td><td>0.514</td><td>0.383</td><td>0</td><td>0.110</td><td>⋯</td><td>0.339</td><td>0.229</td><td>0.342</td><td>0.336</td><td>0.174</td><td>0.205</td><td>0.312</td><td>0.287</td><td>0.398</td><td>LDLR_VCAN</td></tr>\n",
       "</tbody>\n",
       "</table>\n"
      ],
      "text/latex": [
       "A data.frame: 6 × 35\n",
       "\\begin{tabular}{r|lllllllllllllllllllll}\n",
       "  & interaction\\_ID & AML1012-D0 & AML210A-D0 & AML328-D0 & AML419A-D0 & AML420B-D0 & AML556-D0 & AML707B-D0 & AML916-D0 & AML921A-D0 & ⋯ & BM-R & BM-Sk2 & BM-T & BM-U & BM-W & BM1 & BM2 & BM3 & BM4 & pair\\\\\n",
       "  & <chr> & <dbl> & <dbl> & <dbl> & <dbl> & <dbl> & <dbl> & <dbl> & <dbl> & <dbl> & ⋯ & <dbl> & <dbl> & <dbl> & <dbl> & <dbl> & <dbl> & <dbl> & <dbl> & <dbl> & <chr>\\\\\n",
       "\\hline\n",
       "\t1 & DC:FN1\\_DC:VCAN   & 0.300 & 0.286 & 0.504 & 0.467 & 0 & 0.485 & 0.372 & 0 & 0.098 & ⋯ & 0.326 & 0.225 & 0.330 & 0.316 & 0.158 & 0.196 & 0.289 & 0.264 & 0.369 & FN1\\_VCAN \\\\\n",
       "\t2 & Ery:FN1\\_DC:VCAN  & 0.300 & 0.287 & 0.437 & 0.458 & 0 & 0.484 & 0.355 & 0 & 0.000 & ⋯ & 0.323 & 0.223 & 0.324 & 0.308 & 0.157 & 0.196 & 0.290 & 0.264 & 0.369 & FN1\\_VCAN \\\\\n",
       "\t3 & HSPC:FN1\\_DC:VCAN & 0.000 & 0.288 & 0.445 & 0.458 & 0 & 0.485 & 0.359 & 0 & 0.098 & ⋯ & 0.325 & 0.223 & 0.327 & 0.311 & 0.157 & 0.196 & 0.290 & 0.264 & 0.369 & FN1\\_VCAN \\\\\n",
       "\t4 & Mono:FN1\\_DC:VCAN & 0.301 & 0.289 & 0.452 & 0.461 & 0 & 0.483 & 0.360 & 0 & 0.098 & ⋯ & 0.324 & 0.224 & 0.324 & 0.307 & 0.157 & 0.195 & 0.290 & 0.263 & 0.367 & FN1\\_VCAN \\\\\n",
       "\t5 & T:FN1\\_DC:VCAN    & 0.300 & 0.289 & 0.437 & 0.000 & 0 & 0.485 & 0.355 & 0 & 0.096 & ⋯ & 0.326 & 0.225 & 0.325 & 0.308 & 0.159 & 0.197 & 0.291 & 0.264 & 0.369 & FN1\\_VCAN \\\\\n",
       "\t6 & DC:LDLR\\_DC:VCAN  & 0.316 & 0.303 & 0.458 & 0.478 & 0 & 0.514 & 0.383 & 0 & 0.110 & ⋯ & 0.339 & 0.229 & 0.342 & 0.336 & 0.174 & 0.205 & 0.312 & 0.287 & 0.398 & LDLR\\_VCAN\\\\\n",
       "\\end{tabular}\n"
      ],
      "text/markdown": [
       "\n",
       "A data.frame: 6 × 35\n",
       "\n",
       "| <!--/--> | interaction_ID &lt;chr&gt; | AML1012-D0 &lt;dbl&gt; | AML210A-D0 &lt;dbl&gt; | AML328-D0 &lt;dbl&gt; | AML419A-D0 &lt;dbl&gt; | AML420B-D0 &lt;dbl&gt; | AML556-D0 &lt;dbl&gt; | AML707B-D0 &lt;dbl&gt; | AML916-D0 &lt;dbl&gt; | AML921A-D0 &lt;dbl&gt; | ⋯ ⋯ | BM-R &lt;dbl&gt; | BM-Sk2 &lt;dbl&gt; | BM-T &lt;dbl&gt; | BM-U &lt;dbl&gt; | BM-W &lt;dbl&gt; | BM1 &lt;dbl&gt; | BM2 &lt;dbl&gt; | BM3 &lt;dbl&gt; | BM4 &lt;dbl&gt; | pair &lt;chr&gt; |\n",
       "|---|---|---|---|---|---|---|---|---|---|---|---|---|---|---|---|---|---|---|---|---|---|\n",
       "| 1 | DC:FN1_DC:VCAN   | 0.300 | 0.286 | 0.504 | 0.467 | 0 | 0.485 | 0.372 | 0 | 0.098 | ⋯ | 0.326 | 0.225 | 0.330 | 0.316 | 0.158 | 0.196 | 0.289 | 0.264 | 0.369 | FN1_VCAN  |\n",
       "| 2 | Ery:FN1_DC:VCAN  | 0.300 | 0.287 | 0.437 | 0.458 | 0 | 0.484 | 0.355 | 0 | 0.000 | ⋯ | 0.323 | 0.223 | 0.324 | 0.308 | 0.157 | 0.196 | 0.290 | 0.264 | 0.369 | FN1_VCAN  |\n",
       "| 3 | HSPC:FN1_DC:VCAN | 0.000 | 0.288 | 0.445 | 0.458 | 0 | 0.485 | 0.359 | 0 | 0.098 | ⋯ | 0.325 | 0.223 | 0.327 | 0.311 | 0.157 | 0.196 | 0.290 | 0.264 | 0.369 | FN1_VCAN  |\n",
       "| 4 | Mono:FN1_DC:VCAN | 0.301 | 0.289 | 0.452 | 0.461 | 0 | 0.483 | 0.360 | 0 | 0.098 | ⋯ | 0.324 | 0.224 | 0.324 | 0.307 | 0.157 | 0.195 | 0.290 | 0.263 | 0.367 | FN1_VCAN  |\n",
       "| 5 | T:FN1_DC:VCAN    | 0.300 | 0.289 | 0.437 | 0.000 | 0 | 0.485 | 0.355 | 0 | 0.096 | ⋯ | 0.326 | 0.225 | 0.325 | 0.308 | 0.159 | 0.197 | 0.291 | 0.264 | 0.369 | FN1_VCAN  |\n",
       "| 6 | DC:LDLR_DC:VCAN  | 0.316 | 0.303 | 0.458 | 0.478 | 0 | 0.514 | 0.383 | 0 | 0.110 | ⋯ | 0.339 | 0.229 | 0.342 | 0.336 | 0.174 | 0.205 | 0.312 | 0.287 | 0.398 | LDLR_VCAN |\n",
       "\n"
      ],
      "text/plain": [
       "  interaction_ID   AML1012-D0 AML210A-D0 AML328-D0 AML419A-D0 AML420B-D0\n",
       "1 DC:FN1_DC:VCAN   0.300      0.286      0.504     0.467      0         \n",
       "2 Ery:FN1_DC:VCAN  0.300      0.287      0.437     0.458      0         \n",
       "3 HSPC:FN1_DC:VCAN 0.000      0.288      0.445     0.458      0         \n",
       "4 Mono:FN1_DC:VCAN 0.301      0.289      0.452     0.461      0         \n",
       "5 T:FN1_DC:VCAN    0.300      0.289      0.437     0.000      0         \n",
       "6 DC:LDLR_DC:VCAN  0.316      0.303      0.458     0.478      0         \n",
       "  AML556-D0 AML707B-D0 AML916-D0 AML921A-D0 ⋯ BM-R  BM-Sk2 BM-T  BM-U  BM-W \n",
       "1 0.485     0.372      0         0.098      ⋯ 0.326 0.225  0.330 0.316 0.158\n",
       "2 0.484     0.355      0         0.000      ⋯ 0.323 0.223  0.324 0.308 0.157\n",
       "3 0.485     0.359      0         0.098      ⋯ 0.325 0.223  0.327 0.311 0.157\n",
       "4 0.483     0.360      0         0.098      ⋯ 0.324 0.224  0.324 0.307 0.157\n",
       "5 0.485     0.355      0         0.096      ⋯ 0.326 0.225  0.325 0.308 0.159\n",
       "6 0.514     0.383      0         0.110      ⋯ 0.339 0.229  0.342 0.336 0.174\n",
       "  BM1   BM2   BM3   BM4   pair     \n",
       "1 0.196 0.289 0.264 0.369 FN1_VCAN \n",
       "2 0.196 0.290 0.264 0.369 FN1_VCAN \n",
       "3 0.196 0.290 0.264 0.369 FN1_VCAN \n",
       "4 0.195 0.290 0.263 0.367 FN1_VCAN \n",
       "5 0.197 0.291 0.264 0.369 FN1_VCAN \n",
       "6 0.205 0.312 0.287 0.398 LDLR_VCAN"
      ]
     },
     "metadata": {},
     "output_type": "display_data"
    }
   ],
   "source": [
    "head(fix_multiplied_df)"
   ]
  },
  {
   "cell_type": "code",
   "execution_count": 78,
   "id": "7c263ce4",
   "metadata": {},
   "outputs": [],
   "source": [
    "# # Split values by underscore and swap\n",
    "fix_multiplied_df$interaction_ID <- sapply(strsplit(fix_multiplied_df$interaction_ID, \"_\"), function(x) paste(rev(x), collapse = \"_\"))"
   ]
  },
  {
   "cell_type": "code",
   "execution_count": null,
   "id": "2fab8b76",
   "metadata": {},
   "outputs": [],
   "source": []
  },
  {
   "cell_type": "code",
   "execution_count": 79,
   "id": "a3d38b40",
   "metadata": {},
   "outputs": [
    {
     "data": {
      "text/html": [
       "<style>\n",
       ".list-inline {list-style: none; margin:0; padding: 0}\n",
       ".list-inline>li {display: inline-block}\n",
       ".list-inline>li:not(:last-child)::after {content: \"\\00b7\"; padding: 0 .5ex}\n",
       "</style>\n",
       "<ol class=list-inline><li>'interaction_ID'</li><li>'sender_celltype'</li><li>'sender_gene'</li><li>'receiver_celltype'</li><li>'receiver_gene'</li><li>'ligand_log2FC'</li><li>'ligand_p_val_adj'</li><li>'receptor_log2FC'</li><li>'receptor_p_val_adj'</li><li>'mean_weigth_case'</li><li>'mean_weight_control'</li><li>'log2FC_weights'</li><li>'direction'</li><li>'pair'</li><li>'dup'</li></ol>\n"
      ],
      "text/latex": [
       "\\begin{enumerate*}\n",
       "\\item 'interaction\\_ID'\n",
       "\\item 'sender\\_celltype'\n",
       "\\item 'sender\\_gene'\n",
       "\\item 'receiver\\_celltype'\n",
       "\\item 'receiver\\_gene'\n",
       "\\item 'ligand\\_log2FC'\n",
       "\\item 'ligand\\_p\\_val\\_adj'\n",
       "\\item 'receptor\\_log2FC'\n",
       "\\item 'receptor\\_p\\_val\\_adj'\n",
       "\\item 'mean\\_weigth\\_case'\n",
       "\\item 'mean\\_weight\\_control'\n",
       "\\item 'log2FC\\_weights'\n",
       "\\item 'direction'\n",
       "\\item 'pair'\n",
       "\\item 'dup'\n",
       "\\end{enumerate*}\n"
      ],
      "text/markdown": [
       "1. 'interaction_ID'\n",
       "2. 'sender_celltype'\n",
       "3. 'sender_gene'\n",
       "4. 'receiver_celltype'\n",
       "5. 'receiver_gene'\n",
       "6. 'ligand_log2FC'\n",
       "7. 'ligand_p_val_adj'\n",
       "8. 'receptor_log2FC'\n",
       "9. 'receptor_p_val_adj'\n",
       "10. 'mean_weigth_case'\n",
       "11. 'mean_weight_control'\n",
       "12. 'log2FC_weights'\n",
       "13. 'direction'\n",
       "14. 'pair'\n",
       "15. 'dup'\n",
       "\n",
       "\n"
      ],
      "text/plain": [
       " [1] \"interaction_ID\"      \"sender_celltype\"     \"sender_gene\"        \n",
       " [4] \"receiver_celltype\"   \"receiver_gene\"       \"ligand_log2FC\"      \n",
       " [7] \"ligand_p_val_adj\"    \"receptor_log2FC\"     \"receptor_p_val_adj\" \n",
       "[10] \"mean_weigth_case\"    \"mean_weight_control\" \"log2FC_weights\"     \n",
       "[13] \"direction\"           \"pair\"                \"dup\"                "
      ]
     },
     "metadata": {},
     "output_type": "display_data"
    }
   ],
   "source": [
    "colnames(fix_df)"
   ]
  },
  {
   "cell_type": "code",
   "execution_count": 80,
   "id": "67d5f615",
   "metadata": {},
   "outputs": [],
   "source": [
    "new_df <- data.frame(\n",
    "  interaction_ID = fix_df$interaction_ID,\n",
    "  sender_celltype = fix_df$receiver_celltype,\n",
    "  sender_gene = fix_df$receiver_gene,\n",
    "  receiver_celltype = fix_df$sender_celltype,\n",
    "  receiver_gene = fix_df$sender_gene,\n",
    "  ligand_log2FC = fix_df$receptor_log2FC,\n",
    "  ligand_p_val_adj = fix_df$receptor_log2FC,\n",
    "  receptor_log2FC = fix_df$ligand_log2FC,\n",
    "  receptor_p_val_adj = fix_df$ligand_p_val_adj,\n",
    "  mean_weigth_case = fix_df$mean_weigth_case,\n",
    "  mean_weight_control = fix_df$mean_weight_control,\n",
    "  log2FC_weights = fix_df$log2FC_weights,\n",
    "  direction = fix_df$direction\n",
    "  )"
   ]
  },
  {
   "cell_type": "code",
   "execution_count": 81,
   "id": "e97b4c27",
   "metadata": {},
   "outputs": [],
   "source": [
    "new_df[\"interaction_ID\"] <- paste0(new_df$sender_celltype, \":\",new_df$sender_gene , \"_\", new_df$receiver_celltype, \":\", new_df$receiver_gene)"
   ]
  },
  {
   "cell_type": "code",
   "execution_count": 82,
   "id": "4f0c0717",
   "metadata": {},
   "outputs": [],
   "source": [
    "multiplied_df <- rbind(fix_multiplied_df,multiplied_df)"
   ]
  },
  {
   "cell_type": "code",
   "execution_count": 83,
   "id": "6ba48265",
   "metadata": {},
   "outputs": [],
   "source": [
    "df <- df[, !(names(df) %in% c(\"pair\",\"dup\"))]"
   ]
  },
  {
   "cell_type": "code",
   "execution_count": 84,
   "id": "ef3404fc",
   "metadata": {},
   "outputs": [],
   "source": [
    "df <- rbind(new_df,df)"
   ]
  },
  {
   "cell_type": "code",
   "execution_count": 85,
   "id": "37e7364d",
   "metadata": {},
   "outputs": [
    {
     "data": {
      "text/html": [
       "TRUE"
      ],
      "text/latex": [
       "TRUE"
      ],
      "text/markdown": [
       "TRUE"
      ],
      "text/plain": [
       "[1] TRUE"
      ]
     },
     "metadata": {},
     "output_type": "display_data"
    }
   ],
   "source": [
    "all(multiplied_df$interaction_ID %in% df$interaction_ID)"
   ]
  },
  {
   "cell_type": "code",
   "execution_count": 86,
   "id": "38f500ab",
   "metadata": {},
   "outputs": [],
   "source": [
    "multiplied_df <- multiplied_df[, !(names(multiplied_df) %in% c(\"pair\",\"dup\"))]"
   ]
  },
  {
   "cell_type": "code",
   "execution_count": 87,
   "id": "074e6bba",
   "metadata": {},
   "outputs": [
    {
     "data": {
      "text/html": [
       "<table class=\"dataframe\">\n",
       "<caption>A data.frame: 6 × 34</caption>\n",
       "<thead>\n",
       "\t<tr><th></th><th scope=col>interaction_ID</th><th scope=col>AML1012-D0</th><th scope=col>AML210A-D0</th><th scope=col>AML328-D0</th><th scope=col>AML419A-D0</th><th scope=col>AML420B-D0</th><th scope=col>AML556-D0</th><th scope=col>AML707B-D0</th><th scope=col>AML916-D0</th><th scope=col>AML921A-D0</th><th scope=col>⋯</th><th scope=col>BM-Q</th><th scope=col>BM-R</th><th scope=col>BM-Sk2</th><th scope=col>BM-T</th><th scope=col>BM-U</th><th scope=col>BM-W</th><th scope=col>BM1</th><th scope=col>BM2</th><th scope=col>BM3</th><th scope=col>BM4</th></tr>\n",
       "\t<tr><th></th><th scope=col>&lt;chr&gt;</th><th scope=col>&lt;dbl&gt;</th><th scope=col>&lt;dbl&gt;</th><th scope=col>&lt;dbl&gt;</th><th scope=col>&lt;dbl&gt;</th><th scope=col>&lt;dbl&gt;</th><th scope=col>&lt;dbl&gt;</th><th scope=col>&lt;dbl&gt;</th><th scope=col>&lt;dbl&gt;</th><th scope=col>&lt;dbl&gt;</th><th scope=col>⋯</th><th scope=col>&lt;dbl&gt;</th><th scope=col>&lt;dbl&gt;</th><th scope=col>&lt;dbl&gt;</th><th scope=col>&lt;dbl&gt;</th><th scope=col>&lt;dbl&gt;</th><th scope=col>&lt;dbl&gt;</th><th scope=col>&lt;dbl&gt;</th><th scope=col>&lt;dbl&gt;</th><th scope=col>&lt;dbl&gt;</th><th scope=col>&lt;dbl&gt;</th></tr>\n",
       "</thead>\n",
       "<tbody>\n",
       "\t<tr><th scope=row>1</th><td>DC:VCAN_DC:FN1  </td><td>0.300</td><td>0.286</td><td>0.504</td><td>0.467</td><td>0</td><td>0.485</td><td>0.372</td><td>0</td><td>0.098</td><td>⋯</td><td>0.325</td><td>0.326</td><td>0.225</td><td>0.330</td><td>0.316</td><td>0.158</td><td>0.196</td><td>0.289</td><td>0.264</td><td>0.369</td></tr>\n",
       "\t<tr><th scope=row>2</th><td>DC:VCAN_Ery:FN1 </td><td>0.300</td><td>0.287</td><td>0.437</td><td>0.458</td><td>0</td><td>0.484</td><td>0.355</td><td>0</td><td>0.000</td><td>⋯</td><td>0.000</td><td>0.323</td><td>0.223</td><td>0.324</td><td>0.308</td><td>0.157</td><td>0.196</td><td>0.290</td><td>0.264</td><td>0.369</td></tr>\n",
       "\t<tr><th scope=row>3</th><td>DC:VCAN_HSPC:FN1</td><td>0.000</td><td>0.288</td><td>0.445</td><td>0.458</td><td>0</td><td>0.485</td><td>0.359</td><td>0</td><td>0.098</td><td>⋯</td><td>0.323</td><td>0.325</td><td>0.223</td><td>0.327</td><td>0.311</td><td>0.157</td><td>0.196</td><td>0.290</td><td>0.264</td><td>0.369</td></tr>\n",
       "\t<tr><th scope=row>4</th><td>DC:VCAN_Mono:FN1</td><td>0.301</td><td>0.289</td><td>0.452</td><td>0.461</td><td>0</td><td>0.483</td><td>0.360</td><td>0</td><td>0.098</td><td>⋯</td><td>0.322</td><td>0.324</td><td>0.224</td><td>0.324</td><td>0.307</td><td>0.157</td><td>0.195</td><td>0.290</td><td>0.263</td><td>0.367</td></tr>\n",
       "\t<tr><th scope=row>5</th><td>DC:VCAN_T:FN1   </td><td>0.300</td><td>0.289</td><td>0.437</td><td>0.000</td><td>0</td><td>0.485</td><td>0.355</td><td>0</td><td>0.096</td><td>⋯</td><td>0.323</td><td>0.326</td><td>0.225</td><td>0.325</td><td>0.308</td><td>0.159</td><td>0.197</td><td>0.291</td><td>0.264</td><td>0.369</td></tr>\n",
       "\t<tr><th scope=row>6</th><td>DC:VCAN_DC:LDLR </td><td>0.316</td><td>0.303</td><td>0.458</td><td>0.478</td><td>0</td><td>0.514</td><td>0.383</td><td>0</td><td>0.110</td><td>⋯</td><td>0.340</td><td>0.339</td><td>0.229</td><td>0.342</td><td>0.336</td><td>0.174</td><td>0.205</td><td>0.312</td><td>0.287</td><td>0.398</td></tr>\n",
       "</tbody>\n",
       "</table>\n"
      ],
      "text/latex": [
       "A data.frame: 6 × 34\n",
       "\\begin{tabular}{r|lllllllllllllllllllll}\n",
       "  & interaction\\_ID & AML1012-D0 & AML210A-D0 & AML328-D0 & AML419A-D0 & AML420B-D0 & AML556-D0 & AML707B-D0 & AML916-D0 & AML921A-D0 & ⋯ & BM-Q & BM-R & BM-Sk2 & BM-T & BM-U & BM-W & BM1 & BM2 & BM3 & BM4\\\\\n",
       "  & <chr> & <dbl> & <dbl> & <dbl> & <dbl> & <dbl> & <dbl> & <dbl> & <dbl> & <dbl> & ⋯ & <dbl> & <dbl> & <dbl> & <dbl> & <dbl> & <dbl> & <dbl> & <dbl> & <dbl> & <dbl>\\\\\n",
       "\\hline\n",
       "\t1 & DC:VCAN\\_DC:FN1   & 0.300 & 0.286 & 0.504 & 0.467 & 0 & 0.485 & 0.372 & 0 & 0.098 & ⋯ & 0.325 & 0.326 & 0.225 & 0.330 & 0.316 & 0.158 & 0.196 & 0.289 & 0.264 & 0.369\\\\\n",
       "\t2 & DC:VCAN\\_Ery:FN1  & 0.300 & 0.287 & 0.437 & 0.458 & 0 & 0.484 & 0.355 & 0 & 0.000 & ⋯ & 0.000 & 0.323 & 0.223 & 0.324 & 0.308 & 0.157 & 0.196 & 0.290 & 0.264 & 0.369\\\\\n",
       "\t3 & DC:VCAN\\_HSPC:FN1 & 0.000 & 0.288 & 0.445 & 0.458 & 0 & 0.485 & 0.359 & 0 & 0.098 & ⋯ & 0.323 & 0.325 & 0.223 & 0.327 & 0.311 & 0.157 & 0.196 & 0.290 & 0.264 & 0.369\\\\\n",
       "\t4 & DC:VCAN\\_Mono:FN1 & 0.301 & 0.289 & 0.452 & 0.461 & 0 & 0.483 & 0.360 & 0 & 0.098 & ⋯ & 0.322 & 0.324 & 0.224 & 0.324 & 0.307 & 0.157 & 0.195 & 0.290 & 0.263 & 0.367\\\\\n",
       "\t5 & DC:VCAN\\_T:FN1    & 0.300 & 0.289 & 0.437 & 0.000 & 0 & 0.485 & 0.355 & 0 & 0.096 & ⋯ & 0.323 & 0.326 & 0.225 & 0.325 & 0.308 & 0.159 & 0.197 & 0.291 & 0.264 & 0.369\\\\\n",
       "\t6 & DC:VCAN\\_DC:LDLR  & 0.316 & 0.303 & 0.458 & 0.478 & 0 & 0.514 & 0.383 & 0 & 0.110 & ⋯ & 0.340 & 0.339 & 0.229 & 0.342 & 0.336 & 0.174 & 0.205 & 0.312 & 0.287 & 0.398\\\\\n",
       "\\end{tabular}\n"
      ],
      "text/markdown": [
       "\n",
       "A data.frame: 6 × 34\n",
       "\n",
       "| <!--/--> | interaction_ID &lt;chr&gt; | AML1012-D0 &lt;dbl&gt; | AML210A-D0 &lt;dbl&gt; | AML328-D0 &lt;dbl&gt; | AML419A-D0 &lt;dbl&gt; | AML420B-D0 &lt;dbl&gt; | AML556-D0 &lt;dbl&gt; | AML707B-D0 &lt;dbl&gt; | AML916-D0 &lt;dbl&gt; | AML921A-D0 &lt;dbl&gt; | ⋯ ⋯ | BM-Q &lt;dbl&gt; | BM-R &lt;dbl&gt; | BM-Sk2 &lt;dbl&gt; | BM-T &lt;dbl&gt; | BM-U &lt;dbl&gt; | BM-W &lt;dbl&gt; | BM1 &lt;dbl&gt; | BM2 &lt;dbl&gt; | BM3 &lt;dbl&gt; | BM4 &lt;dbl&gt; |\n",
       "|---|---|---|---|---|---|---|---|---|---|---|---|---|---|---|---|---|---|---|---|---|---|\n",
       "| 1 | DC:VCAN_DC:FN1   | 0.300 | 0.286 | 0.504 | 0.467 | 0 | 0.485 | 0.372 | 0 | 0.098 | ⋯ | 0.325 | 0.326 | 0.225 | 0.330 | 0.316 | 0.158 | 0.196 | 0.289 | 0.264 | 0.369 |\n",
       "| 2 | DC:VCAN_Ery:FN1  | 0.300 | 0.287 | 0.437 | 0.458 | 0 | 0.484 | 0.355 | 0 | 0.000 | ⋯ | 0.000 | 0.323 | 0.223 | 0.324 | 0.308 | 0.157 | 0.196 | 0.290 | 0.264 | 0.369 |\n",
       "| 3 | DC:VCAN_HSPC:FN1 | 0.000 | 0.288 | 0.445 | 0.458 | 0 | 0.485 | 0.359 | 0 | 0.098 | ⋯ | 0.323 | 0.325 | 0.223 | 0.327 | 0.311 | 0.157 | 0.196 | 0.290 | 0.264 | 0.369 |\n",
       "| 4 | DC:VCAN_Mono:FN1 | 0.301 | 0.289 | 0.452 | 0.461 | 0 | 0.483 | 0.360 | 0 | 0.098 | ⋯ | 0.322 | 0.324 | 0.224 | 0.324 | 0.307 | 0.157 | 0.195 | 0.290 | 0.263 | 0.367 |\n",
       "| 5 | DC:VCAN_T:FN1    | 0.300 | 0.289 | 0.437 | 0.000 | 0 | 0.485 | 0.355 | 0 | 0.096 | ⋯ | 0.323 | 0.326 | 0.225 | 0.325 | 0.308 | 0.159 | 0.197 | 0.291 | 0.264 | 0.369 |\n",
       "| 6 | DC:VCAN_DC:LDLR  | 0.316 | 0.303 | 0.458 | 0.478 | 0 | 0.514 | 0.383 | 0 | 0.110 | ⋯ | 0.340 | 0.339 | 0.229 | 0.342 | 0.336 | 0.174 | 0.205 | 0.312 | 0.287 | 0.398 |\n",
       "\n"
      ],
      "text/plain": [
       "  interaction_ID   AML1012-D0 AML210A-D0 AML328-D0 AML419A-D0 AML420B-D0\n",
       "1 DC:VCAN_DC:FN1   0.300      0.286      0.504     0.467      0         \n",
       "2 DC:VCAN_Ery:FN1  0.300      0.287      0.437     0.458      0         \n",
       "3 DC:VCAN_HSPC:FN1 0.000      0.288      0.445     0.458      0         \n",
       "4 DC:VCAN_Mono:FN1 0.301      0.289      0.452     0.461      0         \n",
       "5 DC:VCAN_T:FN1    0.300      0.289      0.437     0.000      0         \n",
       "6 DC:VCAN_DC:LDLR  0.316      0.303      0.458     0.478      0         \n",
       "  AML556-D0 AML707B-D0 AML916-D0 AML921A-D0 ⋯ BM-Q  BM-R  BM-Sk2 BM-T  BM-U \n",
       "1 0.485     0.372      0         0.098      ⋯ 0.325 0.326 0.225  0.330 0.316\n",
       "2 0.484     0.355      0         0.000      ⋯ 0.000 0.323 0.223  0.324 0.308\n",
       "3 0.485     0.359      0         0.098      ⋯ 0.323 0.325 0.223  0.327 0.311\n",
       "4 0.483     0.360      0         0.098      ⋯ 0.322 0.324 0.224  0.324 0.307\n",
       "5 0.485     0.355      0         0.096      ⋯ 0.323 0.326 0.225  0.325 0.308\n",
       "6 0.514     0.383      0         0.110      ⋯ 0.340 0.339 0.229  0.342 0.336\n",
       "  BM-W  BM1   BM2   BM3   BM4  \n",
       "1 0.158 0.196 0.289 0.264 0.369\n",
       "2 0.157 0.196 0.290 0.264 0.369\n",
       "3 0.157 0.196 0.290 0.264 0.369\n",
       "4 0.157 0.195 0.290 0.263 0.367\n",
       "5 0.159 0.197 0.291 0.264 0.369\n",
       "6 0.174 0.205 0.312 0.287 0.398"
      ]
     },
     "metadata": {},
     "output_type": "display_data"
    }
   ],
   "source": [
    "head(multiplied_df)"
   ]
  },
  {
   "cell_type": "code",
   "execution_count": null,
   "id": "bcedd899",
   "metadata": {},
   "outputs": [],
   "source": []
  },
  {
   "cell_type": "code",
   "execution_count": 88,
   "id": "365620bc",
   "metadata": {},
   "outputs": [],
   "source": [
    "write.csv(multiplied_df, paste0(final_out,\"CPDB_significant_weights.csv\"))"
   ]
  },
  {
   "cell_type": "code",
   "execution_count": 89,
   "id": "535f7244",
   "metadata": {},
   "outputs": [],
   "source": [
    "write.csv(df, paste0(final_out,\"CPDB_anno_interactions.csv\"))"
   ]
  },
  {
   "cell_type": "code",
   "execution_count": null,
   "id": "3e9545b5",
   "metadata": {},
   "outputs": [],
   "source": []
  },
  {
   "cell_type": "code",
   "execution_count": null,
   "id": "1633d7bc",
   "metadata": {},
   "outputs": [],
   "source": []
  },
  {
   "cell_type": "code",
   "execution_count": null,
   "id": "48bce3cd",
   "metadata": {},
   "outputs": [],
   "source": []
  },
  {
   "cell_type": "code",
   "execution_count": null,
   "id": "7eb5a527",
   "metadata": {},
   "outputs": [],
   "source": [
    "write.csv(matrix_result, paste0(final_out,\"CPDB_weights.csv\"))"
   ]
  },
  {
   "cell_type": "code",
   "execution_count": null,
   "id": "0e811c1e",
   "metadata": {},
   "outputs": [],
   "source": []
  },
  {
   "cell_type": "code",
   "execution_count": 46,
   "id": "09bfa566",
   "metadata": {},
   "outputs": [],
   "source": [
    "anno <- read.csv(paste0(final_out,\"CPDB_anno_interaction.csv\"))"
   ]
  },
  {
   "cell_type": "code",
   "execution_count": 47,
   "id": "f9c8c0ab",
   "metadata": {},
   "outputs": [],
   "source": [
    "results <- read.csv(paste0(final_out,\"CPDB_results.csv\"))"
   ]
  },
  {
   "cell_type": "code",
   "execution_count": 48,
   "id": "e908c497",
   "metadata": {},
   "outputs": [],
   "source": [
    "threshold_log2FC <- 1"
   ]
  },
  {
   "cell_type": "code",
   "execution_count": 49,
   "id": "1fc96ad0",
   "metadata": {},
   "outputs": [],
   "source": [
    "upregulated_anno <- anno[anno$log2>1,]"
   ]
  },
  {
   "cell_type": "code",
   "execution_count": 50,
   "id": "b61cafef",
   "metadata": {},
   "outputs": [],
   "source": [
    "downregulated_anno <- anno[anno$log2<1,]"
   ]
  },
  {
   "cell_type": "code",
   "execution_count": 51,
   "id": "f006f78a",
   "metadata": {},
   "outputs": [],
   "source": [
    "upregulated <- filter(results, interaction_ID %in% upregulated_anno$interaction_ID)"
   ]
  },
  {
   "cell_type": "code",
   "execution_count": 52,
   "id": "719b05a8",
   "metadata": {},
   "outputs": [],
   "source": [
    "downregulated <- filter(results, interaction_ID %in% downregulated_anno$interaction_ID)"
   ]
  },
  {
   "cell_type": "code",
   "execution_count": null,
   "id": "5ba82b79",
   "metadata": {},
   "outputs": [],
   "source": []
  },
  {
   "cell_type": "code",
   "execution_count": 59,
   "id": "cd0fb860",
   "metadata": {},
   "outputs": [],
   "source": [
    "write.csv(upregulated_anno, paste0(final_out,\"upregulated_anno.csv\"))\n",
    "write.csv(downregulated_anno, paste0(final_out,\"downregulated_anno.csv\"))\n",
    "write.csv(upregulated, paste0(final_out,\"upregulated.csv\"))\n",
    "write.csv(downregulated, paste0(final_out,\"downregulated.csv\"))"
   ]
  },
  {
   "cell_type": "code",
   "execution_count": null,
   "id": "4da46591",
   "metadata": {},
   "outputs": [],
   "source": []
  },
  {
   "cell_type": "code",
   "execution_count": 221,
   "id": "5c897ccc",
   "metadata": {},
   "outputs": [
    {
     "data": {
      "text/html": [
       "'/home/mami/Maria/polish/community-paper/src/method_comparison/compare_algorithms/run_CellPhoneDB/run_algorithm'"
      ],
      "text/latex": [
       "'/home/mami/Maria/polish/community-paper/src/method\\_comparison/compare\\_algorithms/run\\_CellPhoneDB/run\\_algorithm'"
      ],
      "text/markdown": [
       "'/home/mami/Maria/polish/community-paper/src/method_comparison/compare_algorithms/run_CellPhoneDB/run_algorithm'"
      ],
      "text/plain": [
       "[1] \"/home/mami/Maria/polish/community-paper/src/method_comparison/compare_algorithms/run_CellPhoneDB/run_algorithm\""
      ]
     },
     "metadata": {},
     "output_type": "display_data"
    }
   ],
   "source": [
    "getwd()"
   ]
  },
  {
   "cell_type": "code",
   "execution_count": null,
   "id": "d15daae8",
   "metadata": {},
   "outputs": [],
   "source": []
  },
  {
   "cell_type": "code",
   "execution_count": null,
   "id": "01b91b22",
   "metadata": {},
   "outputs": [],
   "source": []
  }
 ],
 "metadata": {
  "kernelspec": {
   "display_name": "R [conda env:community_paper2] *",
   "language": "R",
   "name": "conda-env-community_paper2-r"
  },
  "language_info": {
   "codemirror_mode": "r",
   "file_extension": ".r",
   "mimetype": "text/x-r-source",
   "name": "R",
   "pygments_lexer": "r",
   "version": "4.2.3"
  }
 },
 "nbformat": 4,
 "nbformat_minor": 5
}
