{
 "cells": [
  {
   "cell_type": "markdown",
   "id": "11c3ecf7",
   "metadata": {},
   "source": [
    "# Description"
   ]
  },
  {
   "cell_type": "code",
   "execution_count": 1,
   "id": "7b9e6890",
   "metadata": {},
   "outputs": [
    {
     "name": "stderr",
     "output_type": "stream",
     "text": [
      "Attaching SeuratObject\n",
      "\n",
      "── \u001b[1mAttaching packages\u001b[22m ────────────────────────────────────────────────────────────────────────────────────────────────────────────────────────────────────────────────────────────────────────── tidyverse 1.3.2 ──\n",
      "\u001b[32m✔\u001b[39m \u001b[34mggplot2\u001b[39m 3.4.2      \u001b[32m✔\u001b[39m \u001b[34mpurrr  \u001b[39m 0.3.5 \n",
      "\u001b[32m✔\u001b[39m \u001b[34mtibble \u001b[39m 3.2.1      \u001b[32m✔\u001b[39m \u001b[34mdplyr  \u001b[39m 1.0.10\n",
      "\u001b[32m✔\u001b[39m \u001b[34mtidyr  \u001b[39m 1.2.1      \u001b[32m✔\u001b[39m \u001b[34mstringr\u001b[39m 1.5.0 \n",
      "\u001b[32m✔\u001b[39m \u001b[34mreadr  \u001b[39m 2.1.3      \u001b[32m✔\u001b[39m \u001b[34mforcats\u001b[39m 0.5.2 \n",
      "── \u001b[1mConflicts\u001b[22m ───────────────────────────────────────────────────────────────────────────────────────────────────────────────────────────────────────────────────────────────────────────── tidyverse_conflicts() ──\n",
      "\u001b[31m✖\u001b[39m \u001b[34mdplyr\u001b[39m::\u001b[32mfilter()\u001b[39m masks \u001b[34mstats\u001b[39m::filter()\n",
      "\u001b[31m✖\u001b[39m \u001b[34mdplyr\u001b[39m::\u001b[32mlag()\u001b[39m    masks \u001b[34mstats\u001b[39m::lag()\n",
      "\n",
      "Attaching package: ‘igraph’\n",
      "\n",
      "\n",
      "The following objects are masked from ‘package:dplyr’:\n",
      "\n",
      "    as_data_frame, groups, union\n",
      "\n",
      "\n",
      "The following objects are masked from ‘package:purrr’:\n",
      "\n",
      "    compose, simplify\n",
      "\n",
      "\n",
      "The following object is masked from ‘package:tidyr’:\n",
      "\n",
      "    crossing\n",
      "\n",
      "\n",
      "The following object is masked from ‘package:tibble’:\n",
      "\n",
      "    as_data_frame\n",
      "\n",
      "\n",
      "The following objects are masked from ‘package:stats’:\n",
      "\n",
      "    decompose, spectrum\n",
      "\n",
      "\n",
      "The following object is masked from ‘package:base’:\n",
      "\n",
      "    union\n",
      "\n",
      "\n",
      "Loading required package: circlize\n",
      "\n",
      "========================================\n",
      "circlize version 0.4.15\n",
      "CRAN page: https://cran.r-project.org/package=circlize\n",
      "Github page: https://github.com/jokergoo/circlize\n",
      "Documentation: https://jokergoo.github.io/circlize_book/book/\n",
      "\n",
      "If you use it in published research, please cite:\n",
      "Gu, Z. circlize implements and enhances circular visualization\n",
      "  in R. Bioinformatics 2014.\n",
      "\n",
      "This message can be suppressed by:\n",
      "  suppressPackageStartupMessages(library(circlize))\n",
      "========================================\n",
      "\n",
      "\n",
      "\n",
      "Attaching package: ‘circlize’\n",
      "\n",
      "\n",
      "The following object is masked from ‘package:igraph’:\n",
      "\n",
      "    degree\n",
      "\n",
      "\n",
      "Loading required package: R.oo\n",
      "\n",
      "Loading required package: R.methodsS3\n",
      "\n",
      "R.methodsS3 v1.8.2 (2022-06-13 22:00:14 UTC) successfully loaded. See ?R.methodsS3 for help.\n",
      "\n",
      "R.oo v1.25.0 (2022-06-12 02:20:02 UTC) successfully loaded. See ?R.oo for help.\n",
      "\n",
      "\n",
      "Attaching package: ‘R.oo’\n",
      "\n",
      "\n",
      "The following object is masked from ‘package:R.methodsS3’:\n",
      "\n",
      "    throw\n",
      "\n",
      "\n",
      "The following object is masked from ‘package:igraph’:\n",
      "\n",
      "    hierarchy\n",
      "\n",
      "\n",
      "The following objects are masked from ‘package:methods’:\n",
      "\n",
      "    getClasses, getMethods\n",
      "\n",
      "\n",
      "The following objects are masked from ‘package:base’:\n",
      "\n",
      "    attach, detach, load, save\n",
      "\n",
      "\n",
      "R.utils v2.12.2 (2022-11-11 22:00:03 UTC) successfully loaded. See ?R.utils for help.\n",
      "\n",
      "\n",
      "Attaching package: ‘R.utils’\n",
      "\n",
      "\n",
      "The following object is masked from ‘package:tidyr’:\n",
      "\n",
      "    extract\n",
      "\n",
      "\n",
      "The following object is masked from ‘package:utils’:\n",
      "\n",
      "    timestamp\n",
      "\n",
      "\n",
      "The following objects are masked from ‘package:base’:\n",
      "\n",
      "    cat, commandArgs, getOption, isOpen, nullfile, parse, warnings\n",
      "\n",
      "\n",
      "\n",
      "Attaching package: ‘data.table’\n",
      "\n",
      "\n",
      "The following objects are masked from ‘package:dplyr’:\n",
      "\n",
      "    between, first, last\n",
      "\n",
      "\n",
      "The following object is masked from ‘package:purrr’:\n",
      "\n",
      "    transpose\n",
      "\n",
      "\n"
     ]
    }
   ],
   "source": [
    "# libraries\n",
    "library(Seurat)\n",
    "library(tidyverse)\n",
    "library(igraph)\n",
    "require(circlize)\n",
    "library(R.utils)\n",
    "library(data.table) #to read gz file"
   ]
  },
  {
   "cell_type": "markdown",
   "id": "982b08f5",
   "metadata": {},
   "source": [
    "### Read in the expression data of interacting cells:\n",
    "The dataset used here is publicly available single-cell data from XXX. The data was processed, and filtered by applying XXX. "
   ]
  },
  {
   "cell_type": "code",
   "execution_count": 2,
   "id": "7092174a",
   "metadata": {},
   "outputs": [],
   "source": [
    "input_dir <- \"../../../../../results/data_preprocessing/Lasry/preprocessed/\"\n",
    "output_dir <- \"../../../../../results/method_comparison/compare_algorithms/CPDB/\"\n",
    "final_out <- \"../../../../../results/method_comparison/compare_algorithms/CPDB/\""
   ]
  },
  {
   "cell_type": "code",
   "execution_count": null,
   "id": "3b4d07a4",
   "metadata": {},
   "outputs": [],
   "source": []
  },
  {
   "cell_type": "code",
   "execution_count": null,
   "id": "2131df6a",
   "metadata": {},
   "outputs": [],
   "source": []
  },
  {
   "cell_type": "code",
   "execution_count": 3,
   "id": "3d3b55a6",
   "metadata": {},
   "outputs": [],
   "source": [
    "# # load counts\n",
    "# print(\"load counts\")\n",
    "# counts <- read.table(gzfile(paste0(path_in,\"/counts_corr.csv.gz\")\n",
    "#                             )\n",
    "#                      ,sep = \",\"\n",
    "#                      ,row.names = 1\n",
    "#                      ,header = TRUE\n",
    "#                      )\n",
    "# # load counts\n",
    "\n",
    "counts <- fread(paste0(input_dir,\"counts_corr.csv.gz\"), header = TRUE,check.names=FALSE)\n",
    "counts <- as.data.frame(counts)\n",
    "rownames(counts) <- counts$gene_symbol\n",
    "counts <- counts[,-1]\n",
    "# head(str(counts))\n",
    "# print(str(counts))"
   ]
  },
  {
   "cell_type": "code",
   "execution_count": 4,
   "id": "bea4cea4",
   "metadata": {},
   "outputs": [
    {
     "name": "stdout",
     "output_type": "stream",
     "text": [
      "[1] \"load cell annotation\"\n"
     ]
    }
   ],
   "source": [
    "# load cell annotation\n",
    "print(\"load cell annotation\")\n",
    "anno_cells <- read.table(paste0(input_dir,\"anno_cells_corr.txt\")\n",
    "                         ,sep = \"\\t\"\n",
    "                         ,row.names = 1\n",
    "                         ,header = TRUE\n",
    "                         ,check.names=FALSE\n",
    "                         )\n",
    "# print(str(anno_cells))"
   ]
  },
  {
   "cell_type": "code",
   "execution_count": 5,
   "id": "8879060f",
   "metadata": {},
   "outputs": [],
   "source": [
    "#set rownames of annotation to cell_ids\n",
    "rownames(anno_cells) <- anno_cells$cell"
   ]
  },
  {
   "cell_type": "code",
   "execution_count": 6,
   "id": "892a4a02",
   "metadata": {},
   "outputs": [],
   "source": [
    "#set colnames of counts to cell_ids\n",
    "colnames(counts) <- rownames(anno_cells)"
   ]
  },
  {
   "cell_type": "code",
   "execution_count": 7,
   "id": "bcfa1443",
   "metadata": {},
   "outputs": [],
   "source": [
    "#create a Seurat object\n",
    "srt=CreateSeuratObject(counts=counts, meta.data=anno_cells)"
   ]
  },
  {
   "cell_type": "code",
   "execution_count": 8,
   "id": "1f2a9771",
   "metadata": {},
   "outputs": [
    {
     "data": {
      "text/plain": [
       ".\n",
       "    AML healthy \n",
       "  21311   25391 "
      ]
     },
     "metadata": {},
     "output_type": "display_data"
    }
   ],
   "source": [
    "#peek into the number of cells for case/control\n",
    "srt@meta.data$health_status %>% table()"
   ]
  },
  {
   "cell_type": "code",
   "execution_count": 9,
   "id": "af19b77d",
   "metadata": {},
   "outputs": [
    {
     "data": {
      "text/plain": [
       ".\n",
       "    B    DC   Ery  Gran  HSPC  Mono    NK     T \n",
       " 4765  1634  1674  2332  3169 18004  3078 12046 "
      ]
     },
     "metadata": {},
     "output_type": "display_data"
    }
   ],
   "source": [
    "#peek into the number of cell types\n",
    "srt@meta.data$cell_type %>% table()"
   ]
  },
  {
   "cell_type": "code",
   "execution_count": 10,
   "id": "7b012d22",
   "metadata": {},
   "outputs": [],
   "source": [
    "#set the indent to cell_type\n",
    "Idents(srt) <- \"cell_type\""
   ]
  },
  {
   "cell_type": "code",
   "execution_count": 11,
   "id": "c11a0521",
   "metadata": {},
   "outputs": [
    {
     "name": "stdout",
     "output_type": "stream",
     "text": [
      "[1] \"Mono\"\n",
      "[1] 178\n",
      "[1] \"Gran\"\n",
      "[1] 103\n",
      "[1] \"T\"\n",
      "[1] 48\n",
      "[1] \"NK\"\n",
      "[1] 164\n",
      "[1] \"B\"\n",
      "[1] 74\n",
      "[1] \"HSPC\"\n",
      "[1] 90\n",
      "[1] \"Ery\"\n",
      "[1] 645\n",
      "[1] \"DC\"\n",
      "[1] 56\n"
     ]
    }
   ],
   "source": [
    "# initialize empty vector for storing DEGs\n",
    "DEGs <- c()\n",
    "\n",
    "# iterate over each unique cell type \n",
    "for (cell in unique(srt@meta.data$cell_type)) {\n",
    "  \n",
    "  # subset Seurat object to only include cells of current cell type\n",
    "  seurat_obj_receiver <- subset(srt, idents = cell)\n",
    "  \n",
    "  # set cell identity using the \"health_status\" feature\n",
    "  seurat_obj_receiver <- SetIdent(seurat_obj_receiver, value = seurat_obj_receiver[[\"health_status\"]])\n",
    "  \n",
    "  # specify the two conditions to compare\n",
    "  condition_oi <- \"AML\"\n",
    "  condition_reference <- \"healthy\" \n",
    "  \n",
    "  # find differentially expressed genes between the two conditions\n",
    "  DE_table_receiver <- FindMarkers(object = seurat_obj_receiver, \n",
    "                                   ident.1 = condition_oi, \n",
    "                                   ident.2 = condition_reference, \n",
    "                                   min.pct = 0.10) %>%\n",
    "    # convert row names to a separate \"gene\" column\n",
    "    rownames_to_column(\"gene\")\n",
    "  \n",
    "  # add cell type information to the DEG table\n",
    "  DE_table_receiver <- data.frame(cluster = cell, DE_table_receiver)\n",
    "  \n",
    "  # filter DEGs based on statistical significance and fold change threshold\n",
    "  DE_table_receiver <- DE_table_receiver %>% \n",
    "    filter(p_val_adj <= 0.05 & abs(avg_log2FC) >= 0.25)\n",
    "  \n",
    "  # print cell type and number of DEGs found\n",
    "  print(cell)\n",
    "  print(nrow(DE_table_receiver))\n",
    "  \n",
    "  # append DEGs to the vector of all DEGs\n",
    "  DEGs <- rbind(DEGs, DE_table_receiver)\n",
    "}\n"
   ]
  },
  {
   "cell_type": "code",
   "execution_count": 12,
   "id": "4eed7d9c",
   "metadata": {},
   "outputs": [],
   "source": [
    "# write.table(DEGs, file =paste0(output_dir,\"samples_DEGs/DEGs.tsv\"), sep = '\\t', quote = F, row.names = F)"
   ]
  },
  {
   "cell_type": "code",
   "execution_count": 13,
   "id": "22b4bdfd",
   "metadata": {},
   "outputs": [],
   "source": [
    "meta <- anno_cells[\"cell_type\"] %>% rownames_to_column(\"Cell\")"
   ]
  },
  {
   "cell_type": "markdown",
   "id": "147321b7",
   "metadata": {},
   "source": [
    "Below code takes an expression counts matrix (counts) and an annotation data frame (anno_cells) and writes out a separate counts file and metadata file for each sample ID in the sample_ID column of anno_cells. Each metadata file contains a single column (cell_type) and a row for each cell in the sample (required by CellPhoneDB), while the counts file contains the expression counts for each gene in each cell."
   ]
  },
  {
   "cell_type": "code",
   "execution_count": 14,
   "id": "4424c74e",
   "metadata": {},
   "outputs": [
    {
     "name": "stderr",
     "output_type": "stream",
     "text": [
      "Warning message in dir.create(file.path(output_dir, \"samples_DEGs\")):\n",
      "“'../../../../../results/method_comparison/compare_algorithms/CPDB//samples_DEGs' already exists”\n"
     ]
    }
   ],
   "source": [
    "# create a directory \"samples_DEGs\" to save the subsetted counts and annotation files. \n",
    "dir.create(file.path(output_dir, \"samples_DEGs\"))\n",
    "\n",
    "# loop over each unique sample ID in the \"sample_ID\" column of the \"anno_cells\" data frame\n",
    "for (sample in unique(anno_cells$sample_ID)) {\n",
    "  \n",
    "  # filter the annotation data frame to include only cells from the current sample\n",
    "  anno_filtered <- filter(anno_cells, sample_ID == sample)\n",
    "  \n",
    "  # subset the expression counts matrix to the current sample\n",
    "  subset_counts <- counts[, rownames(anno_filtered)]\n",
    "  \n",
    "  # subset the annotation data frame (required by CellPhoneDB)\n",
    "  subset_meta <- anno_filtered[\"cell_type\"] %>% rownames_to_column(\"Cell\")\n",
    "    \n",
    "  # subset DEGs\n",
    "  subset_DEGs <- DEGs %>% filter(cluster %in% unique(subset_meta$cell_type))\n",
    "  \n",
    "  # write the subsetted annotation data frame to a tab-separated value (TSV) file\n",
    "  write.table(subset_meta, paste0(output_dir,\"samples_DEGs/\", sample, \"_meta.tsv\"), sep = '\\t', quote = F, row.names = F)\n",
    "  \n",
    "  # write the subsetted counts matrix to a TSV file\n",
    "  write.table(subset_counts, paste0(output_dir,\"samples_DEGs/\", sample, \"_counts.tsv\"), sep = '\\t', quote = F)\n",
    "\n",
    "  write.table(subset_DEGs, paste0(output_dir,\"samples_DEGs/\", sample, \"_DEGs.tsv\"), sep = '\\t', quote = F)\n",
    "\n",
    "\n",
    "\n",
    "}\n"
   ]
  },
  {
   "cell_type": "markdown",
   "id": "cce82c40",
   "metadata": {},
   "source": [
    "Below is the content of shell script (`./runCPDB.sh`) that performs CellPhoneDB using DEG analysis method for each sample in the /samples_DEGs/ directory.\n",
    "\n",
    "For each sample, the script creates a new directory `(${sample}_results)` to store the results of the CellPhoneDB analysis. The cellphonedb method degs_analysis command runs the DEG analysis method on the metadata and counts files for the current sample, using the `../DEGs.tsv` file as input for the list of differentially expressed genes. The `--database` option specifies the path to the CellPhoneDB database to use for the analysis, while the `--counts-data` option specifies the type of gene identifier used in the counts file (in this case, `hgnc_symbol`). The `--output-path` option specifies the directory where the analysis results will be saved."
   ]
  },
  {
   "cell_type": "markdown",
   "id": "1fabfd75",
   "metadata": {},
   "source": [
    "`'./runCPDB.sh'`\n",
    "\n",
    "```bash\n",
    "# Set the directory path to the directory containing the DEG samples\n",
    "samples_dir=../../../../../results/method_comparison/compare_algorithms/CPDB/samples_DEGs/\n",
    "\n",
    "# Get a list of sample names\n",
    "my_vars=$(ls \"$samples_dir\" | cut -d_ -f1 | uniq)\n",
    "\n",
    "# Set the path to the custom database file\n",
    "custom_db=../../../../../results/method_comparison/build_customDB/CPDB/custom_cellphone.db\n",
    "\n",
    "# Loop over each sample variable name\n",
    "for sample in $my_vars;\n",
    "do\n",
    "  # Create a subdirectory for the sample results\n",
    "  mkdir ${samples_dir}${sample}_results;\n",
    "\n",
    "  # Run CellPhoneDB's DEG analysis method on the sample using the custom database, with input files in the sample directory and output files in the sample results subdirectory\n",
    "  cellphonedb method degs_analysis ${samples_dir}${sample}_meta.tsv ${samples_dir}${sample}_counts.tsv ${samples_dir}${sample}_DEGs.tsv --database $custom_db --counts-data hgnc_symbol --output-path ${samples_dir}${sample}_results/;\n",
    "done;\n",
    "```"
   ]
  },
  {
   "cell_type": "code",
   "execution_count": 16,
   "id": "f57391e7",
   "metadata": {},
   "outputs": [],
   "source": [
    "run_CPDB <- './runCPDB.sh'"
   ]
  },
  {
   "cell_type": "code",
   "execution_count": 8,
   "id": "38e42b99",
   "metadata": {},
   "outputs": [],
   "source": [
    "system(run_CPDB)"
   ]
  },
  {
   "cell_type": "markdown",
   "id": "8ecd1177",
   "metadata": {},
   "source": [
    "### Restructure CellPhoneDB's outputs"
   ]
  },
  {
   "cell_type": "markdown",
   "id": "c3561356",
   "metadata": {},
   "source": [
    "# !!!!!!!!!!!!!!!!!!!!!!!!!!!!!!!!!"
   ]
  },
  {
   "cell_type": "markdown",
   "id": "00ca1fc0",
   "metadata": {},
   "source": [
    "# !!!!!!!!!!!!!!!!!!!we gotta explain why we are using means file not the significant ones"
   ]
  },
  {
   "cell_type": "code",
   "execution_count": 15,
   "id": "025d31de",
   "metadata": {},
   "outputs": [],
   "source": [
    "results_dir <- list.dirs(path = paste0(output_dir,\"samples_DEGs/\"), full.names = TRUE)"
   ]
  },
  {
   "cell_type": "code",
   "execution_count": 16,
   "id": "23925a83",
   "metadata": {},
   "outputs": [],
   "source": [
    "results_dir <- results_dir[grepl(\"_results\", results_dir, fixed = TRUE)]"
   ]
  },
  {
   "cell_type": "code",
   "execution_count": 17,
   "id": "488f48ff",
   "metadata": {},
   "outputs": [],
   "source": [
    "# Define a function called 'restructure_result' that takes one argument, 'cpdb_means'\n",
    "restructure_result <- function(cpdb_means) {\n",
    "  \n",
    "  # Subset the columns of 'cpdb_means' that contain 'interacting_pair' or '|'\n",
    "  cpdb_means <- cpdb_means[, grepl('interacting_pair|\\\\|', colnames(cpdb_means))]\n",
    "  \n",
    "  # Pivot the data to long format and split the 'interacting_pair' column into 'sending_protein' and 'receiving_protein' columns\n",
    "  # Split the 'cell_types' column into 'sending_celltype' and 'receiving_celltype' columns\n",
    "  # Unite the 'sending_celltype' and 'sending_protein' columns into a single column called 'sender'\n",
    "  # Unite the 'receiving_celltype' and 'receiving_protein' columns into a single column called 'receiver'\n",
    "  # Unite the 'sender' and 'receiver' columns into a single column called 'interacting_pairs'\n",
    "  # Select the 'interacting_pairs' and 'value' columns\n",
    "  conversion <- cpdb_means %>%\n",
    "    pivot_longer(cols = -interacting_pair, names_to = \"cell_types\", values_to = \"value\") %>%\n",
    "    separate(interacting_pair, c(\"sending_protein\", \"receiving_protein\"), sep = \"_\") %>%\n",
    "    separate(cell_types, c(\"sending_celltype\", \"receiving_celltype\"), sep = \"\\\\|\") %>%\n",
    "    unite(sender, c(\"sending_celltype\", \"sending_protein\"), sep = \":\", remove = FALSE) %>%\n",
    "    unite(receiver, c(\"receiving_celltype\", \"receiving_protein\"), sep = \":\", remove = FALSE) %>%\n",
    "    unite(interacting_pairs, c(\"sender\", \"receiver\"), sep = \"_\", remove = FALSE) %>%\n",
    "    select(interacting_pairs, value)\n",
    "  \n",
    "  # Return the processed data\n",
    "  return(conversion)\n",
    "}\n"
   ]
  },
  {
   "cell_type": "code",
   "execution_count": 18,
   "id": "61c347a8",
   "metadata": {},
   "outputs": [],
   "source": [
    "results=list()\n",
    "for (sample in results_dir){\n",
    "    \n",
    "    file <- paste0(sample,\"/relevant_interactions.txt\")\n",
    "    \n",
    "    sample_id <- basename(sample)\n",
    "    sample_id <- strsplit(sample_id, '_')[[1]][1]\n",
    "    \n",
    "    \n",
    "    if (file.exists(file)){\n",
    "        \n",
    "        cpdb_means <- read.csv(file, sep = \"\\t\",  check.names = FALSE)\n",
    "        \n",
    "        \n",
    "        sample_result <- restructure_result(cpdb_means)\n",
    "        colnames(sample_result) <- c(\"interaction_ID\",sample_id)\n",
    "        results[[sample_id]] <- sample_result\n",
    "        \n",
    "    }\n",
    "    \n",
    "}"
   ]
  },
  {
   "cell_type": "code",
   "execution_count": 19,
   "id": "1ec7acf9",
   "metadata": {},
   "outputs": [],
   "source": [
    "means=list()\n",
    "for (sample in results_dir){\n",
    "    \n",
    "    file <- paste0(sample,\"/means.txt\")\n",
    "    \n",
    "    sample_id <- basename(sample)\n",
    "    sample_id <- strsplit(sample_id, '_')[[1]][1]\n",
    "    \n",
    "    \n",
    "    if (file.exists(file)){\n",
    "        \n",
    "        cpdb_means <- read.csv(file, sep = \"\\t\",  check.names = FALSE)\n",
    "        \n",
    "        \n",
    "        sample_result <- restructure_result(cpdb_means)\n",
    "        colnames(sample_result) <- c(\"interaction_ID\",sample_id)\n",
    "        means[[sample_id]] <- sample_result\n",
    "        \n",
    "    }\n",
    "    \n",
    "}"
   ]
  },
  {
   "cell_type": "code",
   "execution_count": 20,
   "id": "bdf3e71e",
   "metadata": {},
   "outputs": [],
   "source": [
    "# Define a variable called `result` that will hold the output of the Reduce function\n",
    "means <- Reduce(\n",
    "  \n",
    "  # The `Reduce()` function takes two arguments: a function and a list.\n",
    "  # In this case, the function is an anonymous function defined using the `function()` keyword.\n",
    "  # This function takes two arguments `x` and `y` and performs a full join between them using the `full_join()` function from the `dplyr` package.\n",
    "  # The `by = \"interaction\"` argument specifies that the join should be performed on the \"interaction\" column.\n",
    "  function(x, y) full_join(x, y, by = \"interaction_ID\"), \n",
    "  \n",
    "  # The second argument to the `Reduce()` function is a list called `results`.\n",
    "  # This list contains data frames that need to be joined together.\n",
    "  means\n",
    ")"
   ]
  },
  {
   "cell_type": "code",
   "execution_count": 21,
   "id": "aee78e83",
   "metadata": {},
   "outputs": [],
   "source": [
    "# Define a variable called `result` that will hold the output of the Reduce function\n",
    "matrix_result <- Reduce(\n",
    "  \n",
    "  # The `Reduce()` function takes two arguments: a function and a list.\n",
    "  # In this case, the function is an anonymous function defined using the `function()` keyword.\n",
    "  # This function takes two arguments `x` and `y` and performs a full join between them using the `full_join()` function from the `dplyr` package.\n",
    "  # The `by = \"interaction\"` argument specifies that the join should be performed on the \"interaction\" column.\n",
    "  function(x, y) full_join(x, y, by = \"interaction_ID\"), \n",
    "  \n",
    "  # The second argument to the `Reduce()` function is a list called `results`.\n",
    "  # This list contains data frames that need to be joined together.\n",
    "  results\n",
    ")"
   ]
  },
  {
   "cell_type": "code",
   "execution_count": 22,
   "id": "b458d798",
   "metadata": {},
   "outputs": [],
   "source": [
    "matrix_result[is.na(matrix_result)] <- 0"
   ]
  },
  {
   "cell_type": "code",
   "execution_count": 23,
   "id": "18112747",
   "metadata": {},
   "outputs": [
    {
     "data": {
      "text/html": [
       "<table class=\"dataframe\">\n",
       "<caption>A tibble: 6 × 14</caption>\n",
       "<thead>\n",
       "\t<tr><th scope=col>interaction_ID</th><th scope=col>AML-0024</th><th scope=col>AML-0160</th><th scope=col>AML-0693</th><th scope=col>AML-1371</th><th scope=col>AML-2123</th><th scope=col>AML-3133</th><th scope=col>AML-4340</th><th scope=col>healthy-1</th><th scope=col>healthy-2</th><th scope=col>healthy-3</th><th scope=col>healthy-4</th><th scope=col>healthy-4003</th><th scope=col>healthy-5</th></tr>\n",
       "\t<tr><th scope=col>&lt;chr&gt;</th><th scope=col>&lt;int&gt;</th><th scope=col>&lt;int&gt;</th><th scope=col>&lt;int&gt;</th><th scope=col>&lt;int&gt;</th><th scope=col>&lt;int&gt;</th><th scope=col>&lt;int&gt;</th><th scope=col>&lt;int&gt;</th><th scope=col>&lt;int&gt;</th><th scope=col>&lt;int&gt;</th><th scope=col>&lt;int&gt;</th><th scope=col>&lt;int&gt;</th><th scope=col>&lt;int&gt;</th><th scope=col>&lt;int&gt;</th></tr>\n",
       "</thead>\n",
       "<tbody>\n",
       "\t<tr><td>B:GNAS_B:ADRB2   </td><td>0</td><td>0</td><td>0</td><td>0</td><td>0</td><td>0</td><td>0</td><td>0</td><td>0</td><td>0</td><td>0</td><td>0</td><td>0</td></tr>\n",
       "\t<tr><td>B:GNAS_DC:ADRB2  </td><td>0</td><td>0</td><td>0</td><td>0</td><td>0</td><td>0</td><td>0</td><td>0</td><td>0</td><td>0</td><td>0</td><td>0</td><td>0</td></tr>\n",
       "\t<tr><td>B:GNAS_Ery:ADRB2 </td><td>0</td><td>0</td><td>0</td><td>0</td><td>0</td><td>0</td><td>0</td><td>0</td><td>0</td><td>0</td><td>0</td><td>0</td><td>0</td></tr>\n",
       "\t<tr><td>B:GNAS_Gran:ADRB2</td><td>0</td><td>0</td><td>0</td><td>0</td><td>0</td><td>0</td><td>0</td><td>0</td><td>0</td><td>0</td><td>0</td><td>0</td><td>0</td></tr>\n",
       "\t<tr><td>B:GNAS_HSPC:ADRB2</td><td>0</td><td>0</td><td>0</td><td>0</td><td>0</td><td>0</td><td>0</td><td>0</td><td>0</td><td>0</td><td>0</td><td>0</td><td>0</td></tr>\n",
       "\t<tr><td>B:GNAS_Mono:ADRB2</td><td>0</td><td>0</td><td>0</td><td>0</td><td>0</td><td>0</td><td>0</td><td>0</td><td>0</td><td>0</td><td>0</td><td>0</td><td>0</td></tr>\n",
       "</tbody>\n",
       "</table>\n"
      ],
      "text/latex": [
       "A tibble: 6 × 14\n",
       "\\begin{tabular}{llllllllllllll}\n",
       " interaction\\_ID & AML-0024 & AML-0160 & AML-0693 & AML-1371 & AML-2123 & AML-3133 & AML-4340 & healthy-1 & healthy-2 & healthy-3 & healthy-4 & healthy-4003 & healthy-5\\\\\n",
       " <chr> & <int> & <int> & <int> & <int> & <int> & <int> & <int> & <int> & <int> & <int> & <int> & <int> & <int>\\\\\n",
       "\\hline\n",
       "\t B:GNAS\\_B:ADRB2    & 0 & 0 & 0 & 0 & 0 & 0 & 0 & 0 & 0 & 0 & 0 & 0 & 0\\\\\n",
       "\t B:GNAS\\_DC:ADRB2   & 0 & 0 & 0 & 0 & 0 & 0 & 0 & 0 & 0 & 0 & 0 & 0 & 0\\\\\n",
       "\t B:GNAS\\_Ery:ADRB2  & 0 & 0 & 0 & 0 & 0 & 0 & 0 & 0 & 0 & 0 & 0 & 0 & 0\\\\\n",
       "\t B:GNAS\\_Gran:ADRB2 & 0 & 0 & 0 & 0 & 0 & 0 & 0 & 0 & 0 & 0 & 0 & 0 & 0\\\\\n",
       "\t B:GNAS\\_HSPC:ADRB2 & 0 & 0 & 0 & 0 & 0 & 0 & 0 & 0 & 0 & 0 & 0 & 0 & 0\\\\\n",
       "\t B:GNAS\\_Mono:ADRB2 & 0 & 0 & 0 & 0 & 0 & 0 & 0 & 0 & 0 & 0 & 0 & 0 & 0\\\\\n",
       "\\end{tabular}\n"
      ],
      "text/markdown": [
       "\n",
       "A tibble: 6 × 14\n",
       "\n",
       "| interaction_ID &lt;chr&gt; | AML-0024 &lt;int&gt; | AML-0160 &lt;int&gt; | AML-0693 &lt;int&gt; | AML-1371 &lt;int&gt; | AML-2123 &lt;int&gt; | AML-3133 &lt;int&gt; | AML-4340 &lt;int&gt; | healthy-1 &lt;int&gt; | healthy-2 &lt;int&gt; | healthy-3 &lt;int&gt; | healthy-4 &lt;int&gt; | healthy-4003 &lt;int&gt; | healthy-5 &lt;int&gt; |\n",
       "|---|---|---|---|---|---|---|---|---|---|---|---|---|---|\n",
       "| B:GNAS_B:ADRB2    | 0 | 0 | 0 | 0 | 0 | 0 | 0 | 0 | 0 | 0 | 0 | 0 | 0 |\n",
       "| B:GNAS_DC:ADRB2   | 0 | 0 | 0 | 0 | 0 | 0 | 0 | 0 | 0 | 0 | 0 | 0 | 0 |\n",
       "| B:GNAS_Ery:ADRB2  | 0 | 0 | 0 | 0 | 0 | 0 | 0 | 0 | 0 | 0 | 0 | 0 | 0 |\n",
       "| B:GNAS_Gran:ADRB2 | 0 | 0 | 0 | 0 | 0 | 0 | 0 | 0 | 0 | 0 | 0 | 0 | 0 |\n",
       "| B:GNAS_HSPC:ADRB2 | 0 | 0 | 0 | 0 | 0 | 0 | 0 | 0 | 0 | 0 | 0 | 0 | 0 |\n",
       "| B:GNAS_Mono:ADRB2 | 0 | 0 | 0 | 0 | 0 | 0 | 0 | 0 | 0 | 0 | 0 | 0 | 0 |\n",
       "\n"
      ],
      "text/plain": [
       "  interaction_ID    AML-0024 AML-0160 AML-0693 AML-1371 AML-2123 AML-3133\n",
       "1 B:GNAS_B:ADRB2    0        0        0        0        0        0       \n",
       "2 B:GNAS_DC:ADRB2   0        0        0        0        0        0       \n",
       "3 B:GNAS_Ery:ADRB2  0        0        0        0        0        0       \n",
       "4 B:GNAS_Gran:ADRB2 0        0        0        0        0        0       \n",
       "5 B:GNAS_HSPC:ADRB2 0        0        0        0        0        0       \n",
       "6 B:GNAS_Mono:ADRB2 0        0        0        0        0        0       \n",
       "  AML-4340 healthy-1 healthy-2 healthy-3 healthy-4 healthy-4003 healthy-5\n",
       "1 0        0         0         0         0         0            0        \n",
       "2 0        0         0         0         0         0            0        \n",
       "3 0        0         0         0         0         0            0        \n",
       "4 0        0         0         0         0         0            0        \n",
       "5 0        0         0         0         0         0            0        \n",
       "6 0        0         0         0         0         0            0        "
      ]
     },
     "metadata": {},
     "output_type": "display_data"
    }
   ],
   "source": [
    "head(matrix_result)"
   ]
  },
  {
   "cell_type": "code",
   "execution_count": 24,
   "id": "7c7ce2dc",
   "metadata": {},
   "outputs": [
    {
     "name": "stdout",
     "output_type": "stream",
     "text": [
      "tibble [18,293 × 14] (S3: tbl_df/tbl/data.frame)\n",
      " $ interaction_ID: chr [1:18293] \"B:GNAS_B:ADRB2\" \"B:GNAS_DC:ADRB2\" \"B:GNAS_Ery:ADRB2\" \"B:GNAS_Gran:ADRB2\" ...\n",
      " $ AML-0024      : int [1:18293] 0 0 0 0 0 0 0 0 0 0 ...\n",
      " $ AML-0160      : int [1:18293] 0 0 0 0 0 0 0 0 0 0 ...\n",
      " $ AML-0693      : int [1:18293] 0 0 0 0 0 0 0 0 0 0 ...\n",
      " $ AML-1371      : int [1:18293] 0 0 0 0 0 0 0 0 0 0 ...\n",
      " $ AML-2123      : int [1:18293] 0 0 0 0 0 0 0 0 0 0 ...\n",
      " $ AML-3133      : int [1:18293] 0 0 0 0 0 0 0 0 0 0 ...\n",
      " $ AML-4340      : int [1:18293] 0 0 0 0 0 0 0 0 0 0 ...\n",
      " $ healthy-1     : int [1:18293] 0 0 0 0 0 0 0 0 0 0 ...\n",
      " $ healthy-2     : int [1:18293] 0 0 0 0 0 0 0 0 0 0 ...\n",
      " $ healthy-3     : int [1:18293] 0 0 0 0 0 0 0 0 0 0 ...\n",
      " $ healthy-4     : int [1:18293] 0 0 0 0 0 0 0 0 0 0 ...\n",
      " $ healthy-4003  : int [1:18293] 0 0 0 0 0 0 0 0 0 0 ...\n",
      " $ healthy-5     : int [1:18293] 0 0 0 0 0 0 0 0 0 0 ...\n"
     ]
    }
   ],
   "source": [
    "str(matrix_result)"
   ]
  },
  {
   "cell_type": "code",
   "execution_count": null,
   "id": "62619ac7",
   "metadata": {},
   "outputs": [],
   "source": []
  },
  {
   "cell_type": "code",
   "execution_count": 25,
   "id": "585a89c8",
   "metadata": {},
   "outputs": [],
   "source": [
    "# str(matrix_result[rowSums(matrix_result[, -1] != 0, na.rm = TRUE) > 0, ])"
   ]
  },
  {
   "cell_type": "code",
   "execution_count": 26,
   "id": "0f9082d8",
   "metadata": {},
   "outputs": [
    {
     "name": "stdout",
     "output_type": "stream",
     "text": [
      "tibble [2,006 × 14] (S3: tbl_df/tbl/data.frame)\n",
      " $ interaction_ID: chr [1:2006] \"Ery:GNAS_DC:ADRB2\" \"Ery:GNAS_Gran:ADRB2\" \"Ery:GNAS_HSPC:ADRB2\" \"Ery:GNAS_Mono:ADRB2\" ...\n",
      " $ AML-0024      : int [1:2006] 0 0 0 0 0 1 0 0 0 0 ...\n",
      " $ AML-0160      : int [1:2006] 0 0 0 0 0 0 0 0 0 0 ...\n",
      " $ AML-0693      : int [1:2006] 0 0 0 0 0 0 0 0 0 0 ...\n",
      " $ AML-1371      : int [1:2006] 1 1 1 1 1 1 1 1 1 1 ...\n",
      " $ AML-2123      : int [1:2006] 0 0 0 0 1 0 0 0 0 0 ...\n",
      " $ AML-3133      : int [1:2006] 0 0 0 0 0 0 0 0 0 0 ...\n",
      " $ AML-4340      : int [1:2006] 0 0 0 0 0 0 0 0 0 0 ...\n",
      " $ healthy-1     : int [1:2006] 0 0 0 0 0 0 0 0 0 0 ...\n",
      " $ healthy-2     : int [1:2006] 0 1 0 0 0 0 0 1 0 0 ...\n",
      " $ healthy-3     : int [1:2006] 0 0 0 0 0 0 0 0 0 0 ...\n",
      " $ healthy-4     : int [1:2006] 1 0 0 0 1 0 1 0 0 0 ...\n",
      " $ healthy-4003  : int [1:2006] 0 1 0 0 0 0 0 1 0 0 ...\n",
      " $ healthy-5     : int [1:2006] 0 0 0 0 0 0 0 0 0 0 ...\n"
     ]
    }
   ],
   "source": [
    "str(matrix_result %>%\n",
    "  filter(rowSums(. == 1) > 0))"
   ]
  },
  {
   "cell_type": "code",
   "execution_count": 27,
   "id": "3eb5bf25",
   "metadata": {},
   "outputs": [],
   "source": [
    "matrix_result <- matrix_result[rowSums(matrix_result[, -1] != 0, na.rm = TRUE) > 0, ]"
   ]
  },
  {
   "cell_type": "code",
   "execution_count": null,
   "id": "fbe9ba6b",
   "metadata": {},
   "outputs": [],
   "source": []
  },
  {
   "cell_type": "code",
   "execution_count": 28,
   "id": "c7937171",
   "metadata": {},
   "outputs": [],
   "source": [
    "# Example list of strings\n",
    "strings <- matrix_result$interaction_ID\n",
    "\n",
    "# Initialize empty vectors for each column\n",
    "sender_celltype <- c()\n",
    "sender_gene <- c()\n",
    "receiver_celltype <- c()\n",
    "receiver_gene <- c()\n",
    "\n",
    "# Loop through each string and split it\n",
    "for (string in strings) {\n",
    "  parts <- strsplit(string, \"_\")\n",
    "  \n",
    "  # Split the sender part\n",
    "  sender_parts <- strsplit(parts[[1]][1], \":\")\n",
    "  sender_celltype <- c(sender_celltype, sender_parts[[1]][1])\n",
    "  sender_gene <- c(sender_gene, sender_parts[[1]][2])\n",
    "  \n",
    "  # Split the receiver part\n",
    "  receiver_parts <- strsplit(parts[[1]][2], \":\")\n",
    "  receiver_celltype <- c(receiver_celltype, receiver_parts[[1]][1])\n",
    "  receiver_gene <- c(receiver_gene, receiver_parts[[1]][2])\n",
    "}\n",
    "\n",
    "# Create a dataframe with the splitted values\n",
    "df <- data.frame(\n",
    "  sender_celltype = sender_celltype,\n",
    "  sender_gene = sender_gene,\n",
    "  receiver_celltype = receiver_celltype,\n",
    "  receiver_gene = receiver_gene\n",
    ")\n",
    "\n"
   ]
  },
  {
   "cell_type": "code",
   "execution_count": 29,
   "id": "0a74d60e",
   "metadata": {},
   "outputs": [
    {
     "name": "stdout",
     "output_type": "stream",
     "text": [
      "'data.frame':\t2006 obs. of  4 variables:\n",
      " $ sender_celltype  : chr  \"Ery\" \"Ery\" \"Ery\" \"Ery\" ...\n",
      " $ sender_gene      : chr  \"GNAS\" \"GNAS\" \"GNAS\" \"GNAS\" ...\n",
      " $ receiver_celltype: chr  \"DC\" \"Gran\" \"HSPC\" \"Mono\" ...\n",
      " $ receiver_gene    : chr  \"ADRB2\" \"ADRB2\" \"ADRB2\" \"ADRB2\" ...\n"
     ]
    }
   ],
   "source": [
    "str(df)"
   ]
  },
  {
   "cell_type": "code",
   "execution_count": 30,
   "id": "eee0799b",
   "metadata": {},
   "outputs": [],
   "source": [
    "# Create interaction annotation df with log2FC values\n",
    "for (row in 1:nrow(df)){\n",
    "    each_row <- df[row,]\n",
    "    sender_cell <- each_row$sender_celltype\n",
    "    sender_gene <- each_row$sender_gene\n",
    "    receiver_cell <- each_row$receiver_celltype\n",
    "    receiver_gene <- each_row$receiver_gene\n",
    "    \n",
    "    sender_log2FC <- subset(DEGs, cluster == sender_cell & gene == sender_gene)$avg_log2FC\n",
    "    receiver_log2FC <- subset(DEGs, cluster == receiver_cell & gene == receiver_gene)$avg_log2FC\n",
    "\n",
    "    if (length(sender_log2FC) == 0) {\n",
    "        df[row,\"sender_log2FC\"] <- NA\n",
    "    } else {\n",
    "        df[row,\"sender_log2FC\"] <- sender_log2FC\n",
    "    }\n",
    "    \n",
    "    if (length(receiver_log2FC) == 0) {\n",
    "        df[row,\"receiver_log2FC\"] <- NA\n",
    "    } else {\n",
    "        df[row,\"receiver_log2FC\"] <- receiver_log2FC\n",
    "    }\n",
    "}\n"
   ]
  },
  {
   "cell_type": "code",
   "execution_count": 31,
   "id": "a291371f",
   "metadata": {},
   "outputs": [
    {
     "data": {
      "text/html": [
       "<table class=\"dataframe\">\n",
       "<caption>A data.frame: 59 × 6</caption>\n",
       "<thead>\n",
       "\t<tr><th></th><th scope=col>sender_celltype</th><th scope=col>sender_gene</th><th scope=col>receiver_celltype</th><th scope=col>receiver_gene</th><th scope=col>sender_log2FC</th><th scope=col>receiver_log2FC</th></tr>\n",
       "\t<tr><th></th><th scope=col>&lt;chr&gt;</th><th scope=col>&lt;chr&gt;</th><th scope=col>&lt;chr&gt;</th><th scope=col>&lt;chr&gt;</th><th scope=col>&lt;dbl&gt;</th><th scope=col>&lt;dbl&gt;</th></tr>\n",
       "</thead>\n",
       "<tbody>\n",
       "\t<tr><th scope=row>78</th><td>Ery </td><td>MIF     </td><td>Mono</td><td>ACKR3  </td><td>-0.4807752</td><td> 0.2595831</td></tr>\n",
       "\t<tr><th scope=row>161</th><td>Ery </td><td>MIF     </td><td>HSPC</td><td>CD44   </td><td>-0.4807752</td><td> 0.3099310</td></tr>\n",
       "\t<tr><th scope=row>164</th><td>Ery </td><td>MIF     </td><td>T   </td><td>CD44   </td><td>-0.4807752</td><td> 0.2663509</td></tr>\n",
       "\t<tr><th scope=row>225</th><td>NK  </td><td>VIM     </td><td>HSPC</td><td>CD44   </td><td> 0.2885934</td><td> 0.3099310</td></tr>\n",
       "\t<tr><th scope=row>228</th><td>NK  </td><td>VIM     </td><td>T   </td><td>CD44   </td><td> 0.2885934</td><td> 0.2663509</td></tr>\n",
       "\t<tr><th scope=row>249</th><td>T   </td><td>SRGN    </td><td>HSPC</td><td>CD44   </td><td> 0.3019970</td><td> 0.3099310</td></tr>\n",
       "\t<tr><th scope=row>252</th><td>T   </td><td>SRGN    </td><td>T   </td><td>CD44   </td><td> 0.3019970</td><td> 0.2663509</td></tr>\n",
       "\t<tr><th scope=row>378</th><td>Mono</td><td>ACKR3   </td><td>Mono</td><td>ADM    </td><td> 0.2595831</td><td> 0.4564719</td></tr>\n",
       "\t<tr><th scope=row>392</th><td>Ery </td><td>CALM1   </td><td>B   </td><td>SELL   </td><td>-0.4362474</td><td>-0.2740404</td></tr>\n",
       "\t<tr><th scope=row>478</th><td>Gran</td><td>ITGA4   </td><td>B   </td><td>CD81   </td><td> 0.2693447</td><td>-0.2748321</td></tr>\n",
       "\t<tr><th scope=row>493</th><td>Gran</td><td>HLA-DRA </td><td>B   </td><td>CD81   </td><td>-0.4478250</td><td>-0.2748321</td></tr>\n",
       "\t<tr><th scope=row>502</th><td>Mono</td><td>HLA-DRA </td><td>B   </td><td>CD81   </td><td>-0.5144044</td><td>-0.2748321</td></tr>\n",
       "\t<tr><th scope=row>515</th><td>Gran</td><td>HLA-DRB1</td><td>B   </td><td>CD81   </td><td>-0.4781948</td><td>-0.2748321</td></tr>\n",
       "\t<tr><th scope=row>524</th><td>Mono</td><td>HLA-DRB1</td><td>B   </td><td>CD81   </td><td>-0.5103871</td><td>-0.2748321</td></tr>\n",
       "\t<tr><th scope=row>588</th><td>Mono</td><td>CALR    </td><td>NK  </td><td>HLA-F  </td><td> 0.3016204</td><td> 0.2569437</td></tr>\n",
       "\t<tr><th scope=row>596</th><td>NK  </td><td>CALR    </td><td>NK  </td><td>HLA-F  </td><td> 0.2762648</td><td> 0.2569437</td></tr>\n",
       "\t<tr><th scope=row>621</th><td>Gran</td><td>S100A8  </td><td>Mono</td><td>CD36   </td><td>-0.3863276</td><td> 0.2825379</td></tr>\n",
       "\t<tr><th scope=row>633</th><td>Gran</td><td>S100A9  </td><td>Mono</td><td>CD36   </td><td>-0.3904363</td><td> 0.2825379</td></tr>\n",
       "\t<tr><th scope=row>661</th><td>NK  </td><td>TGFB1   </td><td>Mono</td><td>CXCR4  </td><td> 0.2954128</td><td> 0.3312534</td></tr>\n",
       "\t<tr><th scope=row>662</th><td>NK  </td><td>TGFB1   </td><td>NK  </td><td>CXCR4  </td><td> 0.2954128</td><td> 0.4778400</td></tr>\n",
       "\t<tr><th scope=row>663</th><td>NK  </td><td>TGFB1   </td><td>T   </td><td>CXCR4  </td><td> 0.2954128</td><td> 0.4122167</td></tr>\n",
       "\t<tr><th scope=row>669</th><td>T   </td><td>TGFB1   </td><td>Mono</td><td>CXCR4  </td><td> 0.2742008</td><td> 0.3312534</td></tr>\n",
       "\t<tr><th scope=row>670</th><td>T   </td><td>TGFB1   </td><td>NK  </td><td>CXCR4  </td><td> 0.2742008</td><td> 0.4778400</td></tr>\n",
       "\t<tr><th scope=row>671</th><td>T   </td><td>TGFB1   </td><td>T   </td><td>CXCR4  </td><td> 0.2742008</td><td> 0.4122167</td></tr>\n",
       "\t<tr><th scope=row>701</th><td>Ery </td><td>MIF     </td><td>Mono</td><td>CXCR4  </td><td>-0.4807752</td><td> 0.3312534</td></tr>\n",
       "\t<tr><th scope=row>702</th><td>Ery </td><td>MIF     </td><td>NK  </td><td>CXCR4  </td><td>-0.4807752</td><td> 0.4778400</td></tr>\n",
       "\t<tr><th scope=row>703</th><td>Ery </td><td>MIF     </td><td>T   </td><td>CXCR4  </td><td>-0.4807752</td><td> 0.4122167</td></tr>\n",
       "\t<tr><th scope=row>802</th><td>Mono</td><td>ACKR3   </td><td>Mono</td><td>CXCR4  </td><td> 0.2595831</td><td> 0.3312534</td></tr>\n",
       "\t<tr><th scope=row>803</th><td>Mono</td><td>ACKR3   </td><td>NK  </td><td>CXCR4  </td><td> 0.2595831</td><td> 0.4778400</td></tr>\n",
       "\t<tr><th scope=row>804</th><td>Mono</td><td>ACKR3   </td><td>T   </td><td>CXCR4  </td><td> 0.2595831</td><td> 0.4122167</td></tr>\n",
       "\t<tr><th scope=row>997</th><td>Gran</td><td>HLA-DPA1</td><td>Mono</td><td>TNFSF9 </td><td>-0.2846393</td><td> 0.3002600</td></tr>\n",
       "\t<tr><th scope=row>1005</th><td>Mono</td><td>HLA-DPA1</td><td>Mono</td><td>TNFSF9 </td><td>-0.4408790</td><td> 0.3002600</td></tr>\n",
       "\t<tr><th scope=row>1058</th><td>NK  </td><td>ITGB2   </td><td>Gran</td><td>S100A8 </td><td> 0.2768199</td><td>-0.3863276</td></tr>\n",
       "\t<tr><th scope=row>1078</th><td>NK  </td><td>ITGB2   </td><td>Gran</td><td>S100A9 </td><td> 0.2768199</td><td>-0.3904363</td></tr>\n",
       "\t<tr><th scope=row>1129</th><td>Gran</td><td>HLA-DRA </td><td>B   </td><td>CD53   </td><td>-0.4478250</td><td>-0.2622543</td></tr>\n",
       "\t<tr><th scope=row>1138</th><td>Mono</td><td>HLA-DRA </td><td>B   </td><td>CD53   </td><td>-0.5144044</td><td>-0.2622543</td></tr>\n",
       "\t<tr><th scope=row>1151</th><td>Gran</td><td>HLA-DRB1</td><td>B   </td><td>CD53   </td><td>-0.4781948</td><td>-0.2622543</td></tr>\n",
       "\t<tr><th scope=row>1160</th><td>Mono</td><td>HLA-DRB1</td><td>B   </td><td>CD53   </td><td>-0.5103871</td><td>-0.2622543</td></tr>\n",
       "\t<tr><th scope=row>1200</th><td>Mono</td><td>CD36    </td><td>Gran</td><td>S100A12</td><td> 0.2825379</td><td>-0.3258402</td></tr>\n",
       "\t<tr><th scope=row>1226</th><td>Gran</td><td>ITGA4   </td><td>Mono</td><td>CD9    </td><td> 0.2693447</td><td> 0.3529761</td></tr>\n",
       "\t<tr><th scope=row>1239</th><td>Gran</td><td>HLA-DRA </td><td>Mono</td><td>CD9    </td><td>-0.4478250</td><td> 0.3529761</td></tr>\n",
       "\t<tr><th scope=row>1246</th><td>Mono</td><td>HLA-DRA </td><td>Mono</td><td>CD9    </td><td>-0.5144044</td><td> 0.3529761</td></tr>\n",
       "\t<tr><th scope=row>1362</th><td>Gran</td><td>ITGA4   </td><td>Ery </td><td>CD82   </td><td> 0.2693447</td><td>-0.2656010</td></tr>\n",
       "\t<tr><th scope=row>1376</th><td>Gran</td><td>HLA-DRA </td><td>Ery </td><td>CD82   </td><td>-0.4478250</td><td>-0.2656010</td></tr>\n",
       "\t<tr><th scope=row>1384</th><td>Mono</td><td>HLA-DRA </td><td>Ery </td><td>CD82   </td><td>-0.5144044</td><td>-0.2656010</td></tr>\n",
       "\t<tr><th scope=row>1396</th><td>Gran</td><td>HLA-DRB1</td><td>Ery </td><td>CD82   </td><td>-0.4781948</td><td>-0.2656010</td></tr>\n",
       "\t<tr><th scope=row>1404</th><td>Mono</td><td>HLA-DRB1</td><td>Ery </td><td>CD82   </td><td>-0.5103871</td><td>-0.2656010</td></tr>\n",
       "\t<tr><th scope=row>1459</th><td>Gran</td><td>S100A8  </td><td>B   </td><td>CD69   </td><td>-0.3863276</td><td> 0.3425042</td></tr>\n",
       "\t<tr><th scope=row>1466</th><td>Gran</td><td>S100A8  </td><td>T   </td><td>CD69   </td><td>-0.3863276</td><td> 0.2939413</td></tr>\n",
       "\t<tr><th scope=row>1487</th><td>NK  </td><td>LGALS1  </td><td>B   </td><td>CD69   </td><td> 0.2769630</td><td> 0.3425042</td></tr>\n",
       "\t<tr><th scope=row>1494</th><td>NK  </td><td>LGALS1  </td><td>T   </td><td>CD69   </td><td> 0.2769630</td><td> 0.2939413</td></tr>\n",
       "\t<tr><th scope=row>1534</th><td>Gran</td><td>HLA-DRA </td><td>Ery </td><td>CD63   </td><td>-0.4478250</td><td>-0.3775393</td></tr>\n",
       "\t<tr><th scope=row>1537</th><td>Gran</td><td>HLA-DRA </td><td>Mono</td><td>CD63   </td><td>-0.4478250</td><td> 0.2587554</td></tr>\n",
       "\t<tr><th scope=row>1544</th><td>Mono</td><td>HLA-DRA </td><td>Ery </td><td>CD63   </td><td>-0.5144044</td><td>-0.3775393</td></tr>\n",
       "\t<tr><th scope=row>1547</th><td>Mono</td><td>HLA-DRA </td><td>Mono</td><td>CD63   </td><td>-0.5144044</td><td> 0.2587554</td></tr>\n",
       "\t<tr><th scope=row>1681</th><td>HSPC</td><td>TYROBP  </td><td>Mono</td><td>TREM1  </td><td> 0.3045498</td><td> 0.3776399</td></tr>\n",
       "\t<tr><th scope=row>1691</th><td>Ery </td><td>CIRBP   </td><td>Mono</td><td>TREM1  </td><td>-0.3143408</td><td> 0.3776399</td></tr>\n",
       "\t<tr><th scope=row>1869</th><td>HSPC</td><td>CD44    </td><td>Ery </td><td>EPCAM  </td><td> 0.3099310</td><td>-0.5041896</td></tr>\n",
       "\t<tr><th scope=row>1873</th><td>T   </td><td>CD44    </td><td>Ery </td><td>EPCAM  </td><td> 0.2663509</td><td>-0.5041896</td></tr>\n",
       "</tbody>\n",
       "</table>\n"
      ],
      "text/latex": [
       "A data.frame: 59 × 6\n",
       "\\begin{tabular}{r|llllll}\n",
       "  & sender\\_celltype & sender\\_gene & receiver\\_celltype & receiver\\_gene & sender\\_log2FC & receiver\\_log2FC\\\\\n",
       "  & <chr> & <chr> & <chr> & <chr> & <dbl> & <dbl>\\\\\n",
       "\\hline\n",
       "\t78 & Ery  & MIF      & Mono & ACKR3   & -0.4807752 &  0.2595831\\\\\n",
       "\t161 & Ery  & MIF      & HSPC & CD44    & -0.4807752 &  0.3099310\\\\\n",
       "\t164 & Ery  & MIF      & T    & CD44    & -0.4807752 &  0.2663509\\\\\n",
       "\t225 & NK   & VIM      & HSPC & CD44    &  0.2885934 &  0.3099310\\\\\n",
       "\t228 & NK   & VIM      & T    & CD44    &  0.2885934 &  0.2663509\\\\\n",
       "\t249 & T    & SRGN     & HSPC & CD44    &  0.3019970 &  0.3099310\\\\\n",
       "\t252 & T    & SRGN     & T    & CD44    &  0.3019970 &  0.2663509\\\\\n",
       "\t378 & Mono & ACKR3    & Mono & ADM     &  0.2595831 &  0.4564719\\\\\n",
       "\t392 & Ery  & CALM1    & B    & SELL    & -0.4362474 & -0.2740404\\\\\n",
       "\t478 & Gran & ITGA4    & B    & CD81    &  0.2693447 & -0.2748321\\\\\n",
       "\t493 & Gran & HLA-DRA  & B    & CD81    & -0.4478250 & -0.2748321\\\\\n",
       "\t502 & Mono & HLA-DRA  & B    & CD81    & -0.5144044 & -0.2748321\\\\\n",
       "\t515 & Gran & HLA-DRB1 & B    & CD81    & -0.4781948 & -0.2748321\\\\\n",
       "\t524 & Mono & HLA-DRB1 & B    & CD81    & -0.5103871 & -0.2748321\\\\\n",
       "\t588 & Mono & CALR     & NK   & HLA-F   &  0.3016204 &  0.2569437\\\\\n",
       "\t596 & NK   & CALR     & NK   & HLA-F   &  0.2762648 &  0.2569437\\\\\n",
       "\t621 & Gran & S100A8   & Mono & CD36    & -0.3863276 &  0.2825379\\\\\n",
       "\t633 & Gran & S100A9   & Mono & CD36    & -0.3904363 &  0.2825379\\\\\n",
       "\t661 & NK   & TGFB1    & Mono & CXCR4   &  0.2954128 &  0.3312534\\\\\n",
       "\t662 & NK   & TGFB1    & NK   & CXCR4   &  0.2954128 &  0.4778400\\\\\n",
       "\t663 & NK   & TGFB1    & T    & CXCR4   &  0.2954128 &  0.4122167\\\\\n",
       "\t669 & T    & TGFB1    & Mono & CXCR4   &  0.2742008 &  0.3312534\\\\\n",
       "\t670 & T    & TGFB1    & NK   & CXCR4   &  0.2742008 &  0.4778400\\\\\n",
       "\t671 & T    & TGFB1    & T    & CXCR4   &  0.2742008 &  0.4122167\\\\\n",
       "\t701 & Ery  & MIF      & Mono & CXCR4   & -0.4807752 &  0.3312534\\\\\n",
       "\t702 & Ery  & MIF      & NK   & CXCR4   & -0.4807752 &  0.4778400\\\\\n",
       "\t703 & Ery  & MIF      & T    & CXCR4   & -0.4807752 &  0.4122167\\\\\n",
       "\t802 & Mono & ACKR3    & Mono & CXCR4   &  0.2595831 &  0.3312534\\\\\n",
       "\t803 & Mono & ACKR3    & NK   & CXCR4   &  0.2595831 &  0.4778400\\\\\n",
       "\t804 & Mono & ACKR3    & T    & CXCR4   &  0.2595831 &  0.4122167\\\\\n",
       "\t997 & Gran & HLA-DPA1 & Mono & TNFSF9  & -0.2846393 &  0.3002600\\\\\n",
       "\t1005 & Mono & HLA-DPA1 & Mono & TNFSF9  & -0.4408790 &  0.3002600\\\\\n",
       "\t1058 & NK   & ITGB2    & Gran & S100A8  &  0.2768199 & -0.3863276\\\\\n",
       "\t1078 & NK   & ITGB2    & Gran & S100A9  &  0.2768199 & -0.3904363\\\\\n",
       "\t1129 & Gran & HLA-DRA  & B    & CD53    & -0.4478250 & -0.2622543\\\\\n",
       "\t1138 & Mono & HLA-DRA  & B    & CD53    & -0.5144044 & -0.2622543\\\\\n",
       "\t1151 & Gran & HLA-DRB1 & B    & CD53    & -0.4781948 & -0.2622543\\\\\n",
       "\t1160 & Mono & HLA-DRB1 & B    & CD53    & -0.5103871 & -0.2622543\\\\\n",
       "\t1200 & Mono & CD36     & Gran & S100A12 &  0.2825379 & -0.3258402\\\\\n",
       "\t1226 & Gran & ITGA4    & Mono & CD9     &  0.2693447 &  0.3529761\\\\\n",
       "\t1239 & Gran & HLA-DRA  & Mono & CD9     & -0.4478250 &  0.3529761\\\\\n",
       "\t1246 & Mono & HLA-DRA  & Mono & CD9     & -0.5144044 &  0.3529761\\\\\n",
       "\t1362 & Gran & ITGA4    & Ery  & CD82    &  0.2693447 & -0.2656010\\\\\n",
       "\t1376 & Gran & HLA-DRA  & Ery  & CD82    & -0.4478250 & -0.2656010\\\\\n",
       "\t1384 & Mono & HLA-DRA  & Ery  & CD82    & -0.5144044 & -0.2656010\\\\\n",
       "\t1396 & Gran & HLA-DRB1 & Ery  & CD82    & -0.4781948 & -0.2656010\\\\\n",
       "\t1404 & Mono & HLA-DRB1 & Ery  & CD82    & -0.5103871 & -0.2656010\\\\\n",
       "\t1459 & Gran & S100A8   & B    & CD69    & -0.3863276 &  0.3425042\\\\\n",
       "\t1466 & Gran & S100A8   & T    & CD69    & -0.3863276 &  0.2939413\\\\\n",
       "\t1487 & NK   & LGALS1   & B    & CD69    &  0.2769630 &  0.3425042\\\\\n",
       "\t1494 & NK   & LGALS1   & T    & CD69    &  0.2769630 &  0.2939413\\\\\n",
       "\t1534 & Gran & HLA-DRA  & Ery  & CD63    & -0.4478250 & -0.3775393\\\\\n",
       "\t1537 & Gran & HLA-DRA  & Mono & CD63    & -0.4478250 &  0.2587554\\\\\n",
       "\t1544 & Mono & HLA-DRA  & Ery  & CD63    & -0.5144044 & -0.3775393\\\\\n",
       "\t1547 & Mono & HLA-DRA  & Mono & CD63    & -0.5144044 &  0.2587554\\\\\n",
       "\t1681 & HSPC & TYROBP   & Mono & TREM1   &  0.3045498 &  0.3776399\\\\\n",
       "\t1691 & Ery  & CIRBP    & Mono & TREM1   & -0.3143408 &  0.3776399\\\\\n",
       "\t1869 & HSPC & CD44     & Ery  & EPCAM   &  0.3099310 & -0.5041896\\\\\n",
       "\t1873 & T    & CD44     & Ery  & EPCAM   &  0.2663509 & -0.5041896\\\\\n",
       "\\end{tabular}\n"
      ],
      "text/markdown": [
       "\n",
       "A data.frame: 59 × 6\n",
       "\n",
       "| <!--/--> | sender_celltype &lt;chr&gt; | sender_gene &lt;chr&gt; | receiver_celltype &lt;chr&gt; | receiver_gene &lt;chr&gt; | sender_log2FC &lt;dbl&gt; | receiver_log2FC &lt;dbl&gt; |\n",
       "|---|---|---|---|---|---|---|\n",
       "| 78 | Ery  | MIF      | Mono | ACKR3   | -0.4807752 |  0.2595831 |\n",
       "| 161 | Ery  | MIF      | HSPC | CD44    | -0.4807752 |  0.3099310 |\n",
       "| 164 | Ery  | MIF      | T    | CD44    | -0.4807752 |  0.2663509 |\n",
       "| 225 | NK   | VIM      | HSPC | CD44    |  0.2885934 |  0.3099310 |\n",
       "| 228 | NK   | VIM      | T    | CD44    |  0.2885934 |  0.2663509 |\n",
       "| 249 | T    | SRGN     | HSPC | CD44    |  0.3019970 |  0.3099310 |\n",
       "| 252 | T    | SRGN     | T    | CD44    |  0.3019970 |  0.2663509 |\n",
       "| 378 | Mono | ACKR3    | Mono | ADM     |  0.2595831 |  0.4564719 |\n",
       "| 392 | Ery  | CALM1    | B    | SELL    | -0.4362474 | -0.2740404 |\n",
       "| 478 | Gran | ITGA4    | B    | CD81    |  0.2693447 | -0.2748321 |\n",
       "| 493 | Gran | HLA-DRA  | B    | CD81    | -0.4478250 | -0.2748321 |\n",
       "| 502 | Mono | HLA-DRA  | B    | CD81    | -0.5144044 | -0.2748321 |\n",
       "| 515 | Gran | HLA-DRB1 | B    | CD81    | -0.4781948 | -0.2748321 |\n",
       "| 524 | Mono | HLA-DRB1 | B    | CD81    | -0.5103871 | -0.2748321 |\n",
       "| 588 | Mono | CALR     | NK   | HLA-F   |  0.3016204 |  0.2569437 |\n",
       "| 596 | NK   | CALR     | NK   | HLA-F   |  0.2762648 |  0.2569437 |\n",
       "| 621 | Gran | S100A8   | Mono | CD36    | -0.3863276 |  0.2825379 |\n",
       "| 633 | Gran | S100A9   | Mono | CD36    | -0.3904363 |  0.2825379 |\n",
       "| 661 | NK   | TGFB1    | Mono | CXCR4   |  0.2954128 |  0.3312534 |\n",
       "| 662 | NK   | TGFB1    | NK   | CXCR4   |  0.2954128 |  0.4778400 |\n",
       "| 663 | NK   | TGFB1    | T    | CXCR4   |  0.2954128 |  0.4122167 |\n",
       "| 669 | T    | TGFB1    | Mono | CXCR4   |  0.2742008 |  0.3312534 |\n",
       "| 670 | T    | TGFB1    | NK   | CXCR4   |  0.2742008 |  0.4778400 |\n",
       "| 671 | T    | TGFB1    | T    | CXCR4   |  0.2742008 |  0.4122167 |\n",
       "| 701 | Ery  | MIF      | Mono | CXCR4   | -0.4807752 |  0.3312534 |\n",
       "| 702 | Ery  | MIF      | NK   | CXCR4   | -0.4807752 |  0.4778400 |\n",
       "| 703 | Ery  | MIF      | T    | CXCR4   | -0.4807752 |  0.4122167 |\n",
       "| 802 | Mono | ACKR3    | Mono | CXCR4   |  0.2595831 |  0.3312534 |\n",
       "| 803 | Mono | ACKR3    | NK   | CXCR4   |  0.2595831 |  0.4778400 |\n",
       "| 804 | Mono | ACKR3    | T    | CXCR4   |  0.2595831 |  0.4122167 |\n",
       "| 997 | Gran | HLA-DPA1 | Mono | TNFSF9  | -0.2846393 |  0.3002600 |\n",
       "| 1005 | Mono | HLA-DPA1 | Mono | TNFSF9  | -0.4408790 |  0.3002600 |\n",
       "| 1058 | NK   | ITGB2    | Gran | S100A8  |  0.2768199 | -0.3863276 |\n",
       "| 1078 | NK   | ITGB2    | Gran | S100A9  |  0.2768199 | -0.3904363 |\n",
       "| 1129 | Gran | HLA-DRA  | B    | CD53    | -0.4478250 | -0.2622543 |\n",
       "| 1138 | Mono | HLA-DRA  | B    | CD53    | -0.5144044 | -0.2622543 |\n",
       "| 1151 | Gran | HLA-DRB1 | B    | CD53    | -0.4781948 | -0.2622543 |\n",
       "| 1160 | Mono | HLA-DRB1 | B    | CD53    | -0.5103871 | -0.2622543 |\n",
       "| 1200 | Mono | CD36     | Gran | S100A12 |  0.2825379 | -0.3258402 |\n",
       "| 1226 | Gran | ITGA4    | Mono | CD9     |  0.2693447 |  0.3529761 |\n",
       "| 1239 | Gran | HLA-DRA  | Mono | CD9     | -0.4478250 |  0.3529761 |\n",
       "| 1246 | Mono | HLA-DRA  | Mono | CD9     | -0.5144044 |  0.3529761 |\n",
       "| 1362 | Gran | ITGA4    | Ery  | CD82    |  0.2693447 | -0.2656010 |\n",
       "| 1376 | Gran | HLA-DRA  | Ery  | CD82    | -0.4478250 | -0.2656010 |\n",
       "| 1384 | Mono | HLA-DRA  | Ery  | CD82    | -0.5144044 | -0.2656010 |\n",
       "| 1396 | Gran | HLA-DRB1 | Ery  | CD82    | -0.4781948 | -0.2656010 |\n",
       "| 1404 | Mono | HLA-DRB1 | Ery  | CD82    | -0.5103871 | -0.2656010 |\n",
       "| 1459 | Gran | S100A8   | B    | CD69    | -0.3863276 |  0.3425042 |\n",
       "| 1466 | Gran | S100A8   | T    | CD69    | -0.3863276 |  0.2939413 |\n",
       "| 1487 | NK   | LGALS1   | B    | CD69    |  0.2769630 |  0.3425042 |\n",
       "| 1494 | NK   | LGALS1   | T    | CD69    |  0.2769630 |  0.2939413 |\n",
       "| 1534 | Gran | HLA-DRA  | Ery  | CD63    | -0.4478250 | -0.3775393 |\n",
       "| 1537 | Gran | HLA-DRA  | Mono | CD63    | -0.4478250 |  0.2587554 |\n",
       "| 1544 | Mono | HLA-DRA  | Ery  | CD63    | -0.5144044 | -0.3775393 |\n",
       "| 1547 | Mono | HLA-DRA  | Mono | CD63    | -0.5144044 |  0.2587554 |\n",
       "| 1681 | HSPC | TYROBP   | Mono | TREM1   |  0.3045498 |  0.3776399 |\n",
       "| 1691 | Ery  | CIRBP    | Mono | TREM1   | -0.3143408 |  0.3776399 |\n",
       "| 1869 | HSPC | CD44     | Ery  | EPCAM   |  0.3099310 | -0.5041896 |\n",
       "| 1873 | T    | CD44     | Ery  | EPCAM   |  0.2663509 | -0.5041896 |\n",
       "\n"
      ],
      "text/plain": [
       "     sender_celltype sender_gene receiver_celltype receiver_gene sender_log2FC\n",
       "78   Ery             MIF         Mono              ACKR3         -0.4807752   \n",
       "161  Ery             MIF         HSPC              CD44          -0.4807752   \n",
       "164  Ery             MIF         T                 CD44          -0.4807752   \n",
       "225  NK              VIM         HSPC              CD44           0.2885934   \n",
       "228  NK              VIM         T                 CD44           0.2885934   \n",
       "249  T               SRGN        HSPC              CD44           0.3019970   \n",
       "252  T               SRGN        T                 CD44           0.3019970   \n",
       "378  Mono            ACKR3       Mono              ADM            0.2595831   \n",
       "392  Ery             CALM1       B                 SELL          -0.4362474   \n",
       "478  Gran            ITGA4       B                 CD81           0.2693447   \n",
       "493  Gran            HLA-DRA     B                 CD81          -0.4478250   \n",
       "502  Mono            HLA-DRA     B                 CD81          -0.5144044   \n",
       "515  Gran            HLA-DRB1    B                 CD81          -0.4781948   \n",
       "524  Mono            HLA-DRB1    B                 CD81          -0.5103871   \n",
       "588  Mono            CALR        NK                HLA-F          0.3016204   \n",
       "596  NK              CALR        NK                HLA-F          0.2762648   \n",
       "621  Gran            S100A8      Mono              CD36          -0.3863276   \n",
       "633  Gran            S100A9      Mono              CD36          -0.3904363   \n",
       "661  NK              TGFB1       Mono              CXCR4          0.2954128   \n",
       "662  NK              TGFB1       NK                CXCR4          0.2954128   \n",
       "663  NK              TGFB1       T                 CXCR4          0.2954128   \n",
       "669  T               TGFB1       Mono              CXCR4          0.2742008   \n",
       "670  T               TGFB1       NK                CXCR4          0.2742008   \n",
       "671  T               TGFB1       T                 CXCR4          0.2742008   \n",
       "701  Ery             MIF         Mono              CXCR4         -0.4807752   \n",
       "702  Ery             MIF         NK                CXCR4         -0.4807752   \n",
       "703  Ery             MIF         T                 CXCR4         -0.4807752   \n",
       "802  Mono            ACKR3       Mono              CXCR4          0.2595831   \n",
       "803  Mono            ACKR3       NK                CXCR4          0.2595831   \n",
       "804  Mono            ACKR3       T                 CXCR4          0.2595831   \n",
       "997  Gran            HLA-DPA1    Mono              TNFSF9        -0.2846393   \n",
       "1005 Mono            HLA-DPA1    Mono              TNFSF9        -0.4408790   \n",
       "1058 NK              ITGB2       Gran              S100A8         0.2768199   \n",
       "1078 NK              ITGB2       Gran              S100A9         0.2768199   \n",
       "1129 Gran            HLA-DRA     B                 CD53          -0.4478250   \n",
       "1138 Mono            HLA-DRA     B                 CD53          -0.5144044   \n",
       "1151 Gran            HLA-DRB1    B                 CD53          -0.4781948   \n",
       "1160 Mono            HLA-DRB1    B                 CD53          -0.5103871   \n",
       "1200 Mono            CD36        Gran              S100A12        0.2825379   \n",
       "1226 Gran            ITGA4       Mono              CD9            0.2693447   \n",
       "1239 Gran            HLA-DRA     Mono              CD9           -0.4478250   \n",
       "1246 Mono            HLA-DRA     Mono              CD9           -0.5144044   \n",
       "1362 Gran            ITGA4       Ery               CD82           0.2693447   \n",
       "1376 Gran            HLA-DRA     Ery               CD82          -0.4478250   \n",
       "1384 Mono            HLA-DRA     Ery               CD82          -0.5144044   \n",
       "1396 Gran            HLA-DRB1    Ery               CD82          -0.4781948   \n",
       "1404 Mono            HLA-DRB1    Ery               CD82          -0.5103871   \n",
       "1459 Gran            S100A8      B                 CD69          -0.3863276   \n",
       "1466 Gran            S100A8      T                 CD69          -0.3863276   \n",
       "1487 NK              LGALS1      B                 CD69           0.2769630   \n",
       "1494 NK              LGALS1      T                 CD69           0.2769630   \n",
       "1534 Gran            HLA-DRA     Ery               CD63          -0.4478250   \n",
       "1537 Gran            HLA-DRA     Mono              CD63          -0.4478250   \n",
       "1544 Mono            HLA-DRA     Ery               CD63          -0.5144044   \n",
       "1547 Mono            HLA-DRA     Mono              CD63          -0.5144044   \n",
       "1681 HSPC            TYROBP      Mono              TREM1          0.3045498   \n",
       "1691 Ery             CIRBP       Mono              TREM1         -0.3143408   \n",
       "1869 HSPC            CD44        Ery               EPCAM          0.3099310   \n",
       "1873 T               CD44        Ery               EPCAM          0.2663509   \n",
       "     receiver_log2FC\n",
       "78    0.2595831     \n",
       "161   0.3099310     \n",
       "164   0.2663509     \n",
       "225   0.3099310     \n",
       "228   0.2663509     \n",
       "249   0.3099310     \n",
       "252   0.2663509     \n",
       "378   0.4564719     \n",
       "392  -0.2740404     \n",
       "478  -0.2748321     \n",
       "493  -0.2748321     \n",
       "502  -0.2748321     \n",
       "515  -0.2748321     \n",
       "524  -0.2748321     \n",
       "588   0.2569437     \n",
       "596   0.2569437     \n",
       "621   0.2825379     \n",
       "633   0.2825379     \n",
       "661   0.3312534     \n",
       "662   0.4778400     \n",
       "663   0.4122167     \n",
       "669   0.3312534     \n",
       "670   0.4778400     \n",
       "671   0.4122167     \n",
       "701   0.3312534     \n",
       "702   0.4778400     \n",
       "703   0.4122167     \n",
       "802   0.3312534     \n",
       "803   0.4778400     \n",
       "804   0.4122167     \n",
       "997   0.3002600     \n",
       "1005  0.3002600     \n",
       "1058 -0.3863276     \n",
       "1078 -0.3904363     \n",
       "1129 -0.2622543     \n",
       "1138 -0.2622543     \n",
       "1151 -0.2622543     \n",
       "1160 -0.2622543     \n",
       "1200 -0.3258402     \n",
       "1226  0.3529761     \n",
       "1239  0.3529761     \n",
       "1246  0.3529761     \n",
       "1362 -0.2656010     \n",
       "1376 -0.2656010     \n",
       "1384 -0.2656010     \n",
       "1396 -0.2656010     \n",
       "1404 -0.2656010     \n",
       "1459  0.3425042     \n",
       "1466  0.2939413     \n",
       "1487  0.3425042     \n",
       "1494  0.2939413     \n",
       "1534 -0.3775393     \n",
       "1537  0.2587554     \n",
       "1544 -0.3775393     \n",
       "1547  0.2587554     \n",
       "1681  0.3776399     \n",
       "1691  0.3776399     \n",
       "1869 -0.5041896     \n",
       "1873 -0.5041896     "
      ]
     },
     "metadata": {},
     "output_type": "display_data"
    }
   ],
   "source": [
    "#see where both components (sender/receiever) have log2FC value\n",
    "df[complete.cases(df$sender_log2FC, df$receiver_log2FC), ]"
   ]
  },
  {
   "cell_type": "code",
   "execution_count": 32,
   "id": "83203ae5",
   "metadata": {},
   "outputs": [
    {
     "data": {
      "text/html": [
       "<table class=\"dataframe\">\n",
       "<caption>A data.frame: 6 × 6</caption>\n",
       "<thead>\n",
       "\t<tr><th></th><th scope=col>sender_celltype</th><th scope=col>sender_gene</th><th scope=col>receiver_celltype</th><th scope=col>receiver_gene</th><th scope=col>sender_log2FC</th><th scope=col>receiver_log2FC</th></tr>\n",
       "\t<tr><th></th><th scope=col>&lt;chr&gt;</th><th scope=col>&lt;chr&gt;</th><th scope=col>&lt;chr&gt;</th><th scope=col>&lt;chr&gt;</th><th scope=col>&lt;dbl&gt;</th><th scope=col>&lt;dbl&gt;</th></tr>\n",
       "</thead>\n",
       "<tbody>\n",
       "\t<tr><th scope=row>1</th><td>Ery</td><td>GNAS</td><td>DC  </td><td>ADRB2</td><td>-0.2729051</td><td>NA</td></tr>\n",
       "\t<tr><th scope=row>2</th><td>Ery</td><td>GNAS</td><td>Gran</td><td>ADRB2</td><td>-0.2729051</td><td>NA</td></tr>\n",
       "\t<tr><th scope=row>3</th><td>Ery</td><td>GNAS</td><td>HSPC</td><td>ADRB2</td><td>-0.2729051</td><td>NA</td></tr>\n",
       "\t<tr><th scope=row>4</th><td>Ery</td><td>GNAS</td><td>Mono</td><td>ADRB2</td><td>-0.2729051</td><td>NA</td></tr>\n",
       "\t<tr><th scope=row>5</th><td>Ery</td><td>GNAS</td><td>NK  </td><td>ADRB2</td><td>-0.2729051</td><td>NA</td></tr>\n",
       "\t<tr><th scope=row>6</th><td>Ery</td><td>GNAS</td><td>T   </td><td>ADRB2</td><td>-0.2729051</td><td>NA</td></tr>\n",
       "</tbody>\n",
       "</table>\n"
      ],
      "text/latex": [
       "A data.frame: 6 × 6\n",
       "\\begin{tabular}{r|llllll}\n",
       "  & sender\\_celltype & sender\\_gene & receiver\\_celltype & receiver\\_gene & sender\\_log2FC & receiver\\_log2FC\\\\\n",
       "  & <chr> & <chr> & <chr> & <chr> & <dbl> & <dbl>\\\\\n",
       "\\hline\n",
       "\t1 & Ery & GNAS & DC   & ADRB2 & -0.2729051 & NA\\\\\n",
       "\t2 & Ery & GNAS & Gran & ADRB2 & -0.2729051 & NA\\\\\n",
       "\t3 & Ery & GNAS & HSPC & ADRB2 & -0.2729051 & NA\\\\\n",
       "\t4 & Ery & GNAS & Mono & ADRB2 & -0.2729051 & NA\\\\\n",
       "\t5 & Ery & GNAS & NK   & ADRB2 & -0.2729051 & NA\\\\\n",
       "\t6 & Ery & GNAS & T    & ADRB2 & -0.2729051 & NA\\\\\n",
       "\\end{tabular}\n"
      ],
      "text/markdown": [
       "\n",
       "A data.frame: 6 × 6\n",
       "\n",
       "| <!--/--> | sender_celltype &lt;chr&gt; | sender_gene &lt;chr&gt; | receiver_celltype &lt;chr&gt; | receiver_gene &lt;chr&gt; | sender_log2FC &lt;dbl&gt; | receiver_log2FC &lt;dbl&gt; |\n",
       "|---|---|---|---|---|---|---|\n",
       "| 1 | Ery | GNAS | DC   | ADRB2 | -0.2729051 | NA |\n",
       "| 2 | Ery | GNAS | Gran | ADRB2 | -0.2729051 | NA |\n",
       "| 3 | Ery | GNAS | HSPC | ADRB2 | -0.2729051 | NA |\n",
       "| 4 | Ery | GNAS | Mono | ADRB2 | -0.2729051 | NA |\n",
       "| 5 | Ery | GNAS | NK   | ADRB2 | -0.2729051 | NA |\n",
       "| 6 | Ery | GNAS | T    | ADRB2 | -0.2729051 | NA |\n",
       "\n"
      ],
      "text/plain": [
       "  sender_celltype sender_gene receiver_celltype receiver_gene sender_log2FC\n",
       "1 Ery             GNAS        DC                ADRB2         -0.2729051   \n",
       "2 Ery             GNAS        Gran              ADRB2         -0.2729051   \n",
       "3 Ery             GNAS        HSPC              ADRB2         -0.2729051   \n",
       "4 Ery             GNAS        Mono              ADRB2         -0.2729051   \n",
       "5 Ery             GNAS        NK                ADRB2         -0.2729051   \n",
       "6 Ery             GNAS        T                 ADRB2         -0.2729051   \n",
       "  receiver_log2FC\n",
       "1 NA             \n",
       "2 NA             \n",
       "3 NA             \n",
       "4 NA             \n",
       "5 NA             \n",
       "6 NA             "
      ]
     },
     "metadata": {},
     "output_type": "display_data"
    }
   ],
   "source": [
    "head(df)"
   ]
  },
  {
   "cell_type": "code",
   "execution_count": 33,
   "id": "78eb337a",
   "metadata": {},
   "outputs": [],
   "source": [
    "df[\"interaction_ID\"] <- paste0(df$sender_celltype, \":\",df$sender_gene , \"_\", df$receiver_celltype, \":\", df$receiver_gene)"
   ]
  },
  {
   "cell_type": "code",
   "execution_count": 34,
   "id": "5fc3323d",
   "metadata": {},
   "outputs": [],
   "source": [
    "#subset means\n",
    "means <- filter(means, interaction_ID %in% df$interaction_ID)"
   ]
  },
  {
   "cell_type": "code",
   "execution_count": 35,
   "id": "e81541fe",
   "metadata": {},
   "outputs": [],
   "source": [
    "cols <- c(\"interaction_ID\", grep(\"healthy\", names(means), value = TRUE))\n",
    "control_means <- means[, cols, drop = FALSE]"
   ]
  },
  {
   "cell_type": "code",
   "execution_count": 36,
   "id": "7ff5518c",
   "metadata": {},
   "outputs": [],
   "source": [
    "cols <- c(\"interaction_ID\", grep(\"AML\", names(means), value = TRUE))\n",
    "case_means <- means[, cols, drop = FALSE]"
   ]
  },
  {
   "cell_type": "code",
   "execution_count": 37,
   "id": "ce698468",
   "metadata": {},
   "outputs": [],
   "source": [
    "numeric_cols <- control_means[, !names(control_means) %in% c(\"interaction_ID\")]\n",
    "control_means$row_means <- rowMeans(numeric_cols, na.rm = TRUE)"
   ]
  },
  {
   "cell_type": "code",
   "execution_count": 38,
   "id": "8bf4043d",
   "metadata": {},
   "outputs": [],
   "source": [
    "numeric_cols <- case_means[, !names(case_means) %in% c(\"interaction_ID\")]\n",
    "case_means$row_means <- rowMeans(numeric_cols, na.rm = TRUE)"
   ]
  },
  {
   "cell_type": "code",
   "execution_count": 39,
   "id": "07e2d6d2",
   "metadata": {},
   "outputs": [],
   "source": [
    "df[\"mean_case\"]=NA\n",
    "df[\"mean_control\"]=NA"
   ]
  },
  {
   "cell_type": "code",
   "execution_count": 40,
   "id": "36703939",
   "metadata": {},
   "outputs": [],
   "source": [
    "for (row in 1:nrow(df)){\n",
    "    int_ID <- df[row,]$interaction_ID\n",
    "    case_mean <- filter(case_means, interaction_ID==int_ID)$row_means\n",
    "    control_mean <- filter(control_means, interaction_ID==int_ID)$row_means\n",
    "    \n",
    "    df[row,\"mean_case\"] <- case_mean\n",
    "    df[row,\"mean_control\"] <- control_mean\n",
    "}"
   ]
  },
  {
   "cell_type": "code",
   "execution_count": 41,
   "id": "b151c9e2",
   "metadata": {},
   "outputs": [],
   "source": [
    "df[\"log2\"] = log2(df$mean_case/df$mean_control)"
   ]
  },
  {
   "cell_type": "code",
   "execution_count": 42,
   "id": "387b94b4",
   "metadata": {},
   "outputs": [
    {
     "data": {
      "text/html": [
       "<style>\n",
       ".list-inline {list-style: none; margin:0; padding: 0}\n",
       ".list-inline>li {display: inline-block}\n",
       ".list-inline>li:not(:last-child)::after {content: \"\\00b7\"; padding: 0 .5ex}\n",
       "</style>\n",
       "<ol class=list-inline><li>'sender_celltype'</li><li>'sender_gene'</li><li>'receiver_celltype'</li><li>'receiver_gene'</li><li>'sender_log2FC'</li><li>'receiver_log2FC'</li><li>'interaction_ID'</li><li>'mean_case'</li><li>'mean_control'</li><li>'log2'</li></ol>\n"
      ],
      "text/latex": [
       "\\begin{enumerate*}\n",
       "\\item 'sender\\_celltype'\n",
       "\\item 'sender\\_gene'\n",
       "\\item 'receiver\\_celltype'\n",
       "\\item 'receiver\\_gene'\n",
       "\\item 'sender\\_log2FC'\n",
       "\\item 'receiver\\_log2FC'\n",
       "\\item 'interaction\\_ID'\n",
       "\\item 'mean\\_case'\n",
       "\\item 'mean\\_control'\n",
       "\\item 'log2'\n",
       "\\end{enumerate*}\n"
      ],
      "text/markdown": [
       "1. 'sender_celltype'\n",
       "2. 'sender_gene'\n",
       "3. 'receiver_celltype'\n",
       "4. 'receiver_gene'\n",
       "5. 'sender_log2FC'\n",
       "6. 'receiver_log2FC'\n",
       "7. 'interaction_ID'\n",
       "8. 'mean_case'\n",
       "9. 'mean_control'\n",
       "10. 'log2'\n",
       "\n",
       "\n"
      ],
      "text/plain": [
       " [1] \"sender_celltype\"   \"sender_gene\"       \"receiver_celltype\"\n",
       " [4] \"receiver_gene\"     \"sender_log2FC\"     \"receiver_log2FC\"  \n",
       " [7] \"interaction_ID\"    \"mean_case\"         \"mean_control\"     \n",
       "[10] \"log2\"             "
      ]
     },
     "metadata": {},
     "output_type": "display_data"
    }
   ],
   "source": [
    "names(df)"
   ]
  },
  {
   "cell_type": "code",
   "execution_count": 43,
   "id": "8fdd3a3c",
   "metadata": {},
   "outputs": [],
   "source": [
    "df <- df %>% select(interaction_ID, sender_celltype, sender_gene, receiver_celltype,receiver_gene,\n",
    "             mean_case,mean_control,log2,sender_log2FC,receiver_log2FC)"
   ]
  },
  {
   "cell_type": "code",
   "execution_count": null,
   "id": "41fc0f34",
   "metadata": {},
   "outputs": [],
   "source": []
  },
  {
   "cell_type": "code",
   "execution_count": 44,
   "id": "365620bc",
   "metadata": {},
   "outputs": [],
   "source": [
    "write.csv(matrix_result, paste0(final_out,\"CPDB_results.csv\"))"
   ]
  },
  {
   "cell_type": "code",
   "execution_count": 45,
   "id": "535f7244",
   "metadata": {},
   "outputs": [],
   "source": [
    "write.csv(df, paste0(final_out,\"CPDB_anno_interaction.csv\"))"
   ]
  },
  {
   "cell_type": "code",
   "execution_count": 46,
   "id": "09bfa566",
   "metadata": {},
   "outputs": [],
   "source": [
    "anno <- read.csv(paste0(final_out,\"CPDB_anno_interaction.csv\"))"
   ]
  },
  {
   "cell_type": "code",
   "execution_count": 47,
   "id": "f9c8c0ab",
   "metadata": {},
   "outputs": [],
   "source": [
    "results <- read.csv(paste0(final_out,\"CPDB_results.csv\"))"
   ]
  },
  {
   "cell_type": "code",
   "execution_count": 48,
   "id": "e908c497",
   "metadata": {},
   "outputs": [],
   "source": [
    "threshold_log2FC <- 1"
   ]
  },
  {
   "cell_type": "code",
   "execution_count": 49,
   "id": "1fc96ad0",
   "metadata": {},
   "outputs": [],
   "source": [
    "upregulated_anno <- anno[anno$log2>1,]"
   ]
  },
  {
   "cell_type": "code",
   "execution_count": 50,
   "id": "b61cafef",
   "metadata": {},
   "outputs": [],
   "source": [
    "downregulated_anno <- anno[anno$log2<1,]"
   ]
  },
  {
   "cell_type": "code",
   "execution_count": 51,
   "id": "f006f78a",
   "metadata": {},
   "outputs": [],
   "source": [
    "upregulated <- filter(results, interaction_ID %in% upregulated_anno$interaction_ID)"
   ]
  },
  {
   "cell_type": "code",
   "execution_count": 52,
   "id": "719b05a8",
   "metadata": {},
   "outputs": [],
   "source": [
    "downregulated <- filter(results, interaction_ID %in% downregulated_anno$interaction_ID)"
   ]
  },
  {
   "cell_type": "code",
   "execution_count": null,
   "id": "5ba82b79",
   "metadata": {},
   "outputs": [],
   "source": []
  },
  {
   "cell_type": "code",
   "execution_count": null,
   "id": "037e63a9",
   "metadata": {},
   "outputs": [],
   "source": []
  },
  {
   "cell_type": "code",
   "execution_count": 59,
   "id": "cd0fb860",
   "metadata": {},
   "outputs": [],
   "source": [
    "write.csv(upregulated_anno, paste0(final_out,\"upregulated_anno.csv\"))\n",
    "write.csv(downregulated_anno, paste0(final_out,\"downregulated_anno.csv\"))\n",
    "write.csv(upregulated, paste0(final_out,\"upregulated.csv\"))\n",
    "write.csv(downregulated, paste0(final_out,\"downregulated.csv\"))"
   ]
  },
  {
   "cell_type": "code",
   "execution_count": null,
   "id": "4da46591",
   "metadata": {},
   "outputs": [],
   "source": []
  },
  {
   "cell_type": "code",
   "execution_count": 221,
   "id": "5c897ccc",
   "metadata": {},
   "outputs": [
    {
     "data": {
      "text/html": [
       "'/home/mami/Maria/polish/community-paper/src/method_comparison/compare_algorithms/run_CellPhoneDB/run_algorithm'"
      ],
      "text/latex": [
       "'/home/mami/Maria/polish/community-paper/src/method\\_comparison/compare\\_algorithms/run\\_CellPhoneDB/run\\_algorithm'"
      ],
      "text/markdown": [
       "'/home/mami/Maria/polish/community-paper/src/method_comparison/compare_algorithms/run_CellPhoneDB/run_algorithm'"
      ],
      "text/plain": [
       "[1] \"/home/mami/Maria/polish/community-paper/src/method_comparison/compare_algorithms/run_CellPhoneDB/run_algorithm\""
      ]
     },
     "metadata": {},
     "output_type": "display_data"
    }
   ],
   "source": [
    "getwd()"
   ]
  },
  {
   "cell_type": "code",
   "execution_count": null,
   "id": "d15daae8",
   "metadata": {},
   "outputs": [],
   "source": []
  },
  {
   "cell_type": "code",
   "execution_count": null,
   "id": "01b91b22",
   "metadata": {},
   "outputs": [],
   "source": []
  }
 ],
 "metadata": {
  "kernelspec": {
   "display_name": "R",
   "language": "R",
   "name": "ir"
  },
  "language_info": {
   "codemirror_mode": "r",
   "file_extension": ".r",
   "mimetype": "text/x-r-source",
   "name": "R",
   "pygments_lexer": "r",
   "version": "4.1.2"
  }
 },
 "nbformat": 4,
 "nbformat_minor": 5
}
