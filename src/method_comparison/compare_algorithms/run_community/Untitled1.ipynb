{
 "cells": [
  {
   "cell_type": "code",
   "execution_count": 49,
   "id": "a8b15bc2",
   "metadata": {},
   "outputs": [],
   "source": [
    "community <- \"../../../../results/method_comparison/compare_algorithms/Lasry/community/community_weights.csv\"\n",
    "cpdb <- \"../../../../results/method_comparison/compare_algorithms/Lasry/CPDB/CPDB_significant_weights.csv\""
   ]
  },
  {
   "cell_type": "code",
   "execution_count": null,
   "id": "f762b90b",
   "metadata": {},
   "outputs": [],
   "source": []
  },
  {
   "cell_type": "code",
   "execution_count": 50,
   "id": "2ffc5d52",
   "metadata": {},
   "outputs": [],
   "source": [
    "cpdb <- read.csv(cpdb)\n",
    "community <- read.csv(community)"
   ]
  },
  {
   "cell_type": "code",
   "execution_count": 51,
   "id": "ef0134d7",
   "metadata": {},
   "outputs": [],
   "source": [
    "community <- community[rowSums(community[-1])>0,]"
   ]
  },
  {
   "cell_type": "code",
   "execution_count": 52,
   "id": "07f89b5b",
   "metadata": {},
   "outputs": [
    {
     "data": {
      "text/html": [
       "TRUE"
      ],
      "text/latex": [
       "TRUE"
      ],
      "text/markdown": [
       "TRUE"
      ],
      "text/plain": [
       "[1] TRUE"
      ]
     },
     "metadata": {},
     "output_type": "display_data"
    }
   ],
   "source": [
    "all(cpdb$interaction_ID %in% community$X)"
   ]
  },
  {
   "cell_type": "code",
   "execution_count": 32,
   "id": "e46f7011",
   "metadata": {},
   "outputs": [],
   "source": [
    "for (id in cpdb$interaction_ID){\n",
    "    if (!id %in% community$X){\n",
    "        print(id)\n",
    "    }\n",
    "}"
   ]
  },
  {
   "cell_type": "code",
   "execution_count": null,
   "id": "5d524e32",
   "metadata": {},
   "outputs": [],
   "source": []
  },
  {
   "cell_type": "code",
   "execution_count": null,
   "id": "e86e2078",
   "metadata": {},
   "outputs": [],
   "source": []
  }
 ],
 "metadata": {
  "kernelspec": {
   "display_name": "R [conda env:community_paper2] *",
   "language": "R",
   "name": "conda-env-community_paper2-r"
  },
  "language_info": {
   "codemirror_mode": "r",
   "file_extension": ".r",
   "mimetype": "text/x-r-source",
   "name": "R",
   "pygments_lexer": "r",
   "version": "4.2.3"
  }
 },
 "nbformat": 4,
 "nbformat_minor": 5
}
