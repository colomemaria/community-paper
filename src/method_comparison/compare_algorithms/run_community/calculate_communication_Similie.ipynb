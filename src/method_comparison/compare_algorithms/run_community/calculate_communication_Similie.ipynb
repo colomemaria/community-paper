{
 "cells": [
  {
   "cell_type": "markdown",
   "metadata": {},
   "source": [
    "# Install package"
   ]
  },
  {
   "cell_type": "markdown",
   "metadata": {},
   "source": [
    "# Calculate communication"
   ]
  },
  {
   "cell_type": "code",
<<<<<<< HEAD
   "execution_count": 1,
=======
   "execution_count": 35,
>>>>>>> 0b170c8 (simillie update)
   "metadata": {
    "ExecuteTime": {
     "end_time": "2023-01-30T17:02:23.858558Z",
     "start_time": "2023-01-30T17:02:18.999Z"
    }
   },
   "outputs": [
    {
     "name": "stderr",
     "output_type": "stream",
     "text": [
      "========================================\n",
      "ComplexHeatmap version 2.14.0\n",
      "Bioconductor page: http://bioconductor.org/packages/ComplexHeatmap/\n",
      "Github page: https://github.com/jokergoo/ComplexHeatmap\n",
      "Documentation: http://jokergoo.github.io/ComplexHeatmap-reference\n",
      "\n",
      "If you use it in published research, please cite either one:\n",
      "- Gu, Z. Complex Heatmap Visualization. iMeta 2022.\n",
      "- Gu, Z. Complex heatmaps reveal patterns and correlations in multidimensional \n",
      "    genomic data. Bioinformatics 2016.\n",
      "\n",
      "\n",
      "The new InteractiveComplexHeatmap package can directly export static \n",
      "complex heatmaps into an interactive Shiny app with zero effort. Have a try!\n",
      "\n",
      "This message can be suppressed by:\n",
      "  suppressPackageStartupMessages(library(ComplexHeatmap))\n",
      "========================================\n",
      "\n",
      "\n",
      "\n",
      "Attaching package: ‘ComplexHeatmap’\n",
      "\n",
      "\n",
      "The following object is masked from ‘package:R.utils’:\n",
      "\n",
      "    draw\n",
      "\n",
      "\n",
      "\n",
      "Attaching package: ‘igraph’\n",
      "\n",
      "\n",
      "The following object is masked from ‘package:R.oo’:\n",
      "\n",
      "    hierarchy\n",
      "\n",
      "\n",
      "The following objects are masked from ‘package:stats’:\n",
      "\n",
      "    decompose, spectrum\n",
      "\n",
      "\n",
      "The following object is masked from ‘package:base’:\n",
      "\n",
      "    union\n",
      "\n",
      "\n",
      "Loading required package: circlize\n",
      "\n",
      "========================================\n",
      "circlize version 0.4.15\n",
      "CRAN page: https://cran.r-project.org/package=circlize\n",
      "Github page: https://github.com/jokergoo/circlize\n",
      "Documentation: https://jokergoo.github.io/circlize_book/book/\n",
      "\n",
      "If you use it in published research, please cite:\n",
      "Gu, Z. circlize implements and enhances circular visualization\n",
      "  in R. Bioinformatics 2014.\n",
      "\n",
      "This message can be suppressed by:\n",
      "  suppressPackageStartupMessages(library(circlize))\n",
      "========================================\n",
      "\n",
      "\n",
      "\n",
      "Attaching package: ‘circlize’\n",
      "\n",
      "\n",
      "The following object is masked from ‘package:igraph’:\n",
      "\n",
      "    degree\n",
      "\n",
<<<<<<< HEAD
      "\n",
      "Loading required package: R.oo\n",
      "\n",
      "Loading required package: R.methodsS3\n",
      "\n",
      "R.methodsS3 v1.8.2 (2022-06-13 22:00:14 UTC) successfully loaded. See ?R.methodsS3 for help.\n",
      "\n",
      "R.oo v1.25.0 (2022-06-12 02:20:02 UTC) successfully loaded. See ?R.oo for help.\n",
      "\n",
      "\n",
      "Attaching package: ‘R.oo’\n",
      "\n",
      "\n",
      "The following object is masked from ‘package:R.methodsS3’:\n",
      "\n",
      "    throw\n",
      "\n",
      "\n",
      "The following object is masked from ‘package:igraph’:\n",
      "\n",
      "    hierarchy\n",
      "\n",
      "\n",
      "The following objects are masked from ‘package:methods’:\n",
      "\n",
      "    getClasses, getMethods\n",
      "\n",
      "\n",
      "The following objects are masked from ‘package:base’:\n",
      "\n",
      "    attach, detach, load, save\n",
      "\n",
      "\n",
      "R.utils v2.12.2 (2022-11-11 22:00:03 UTC) successfully loaded. See ?R.utils for help.\n",
      "\n",
      "\n",
      "Attaching package: ‘R.utils’\n",
      "\n",
      "\n",
      "The following object is masked from ‘package:ComplexHeatmap’:\n",
      "\n",
      "    draw\n",
      "\n",
      "\n",
      "The following object is masked from ‘package:utils’:\n",
      "\n",
      "    timestamp\n",
      "\n",
      "\n",
      "The following objects are masked from ‘package:base’:\n",
      "\n",
      "    cat, commandArgs, getOption, isOpen, nullfile, parse, warnings\n",
      "\n",
      "\n",
      "The legacy packages maptools, rgdal, and rgeos, underpinning the sp package,\n",
      "which was just loaded, will retire in October 2023.\n",
      "Please refer to R-spatial evolution reports for details, especially\n",
      "https://r-spatial.org/r/2023/05/15/evolution4.html.\n",
      "It may be desirable to make the sf package available;\n",
      "package maintainers should consider adding sf to Suggests:.\n",
      "The sp package is now running under evolution status 2\n",
      "     (status 2 uses the sf package in place of rgdal)\n",
      "\n",
      "Attaching SeuratObject\n",
=======
>>>>>>> 0b170c8 (simillie update)
      "\n"
     ]
    }
   ],
   "source": [
    "library(community)\n",
    "library(ggplot2)\n",
    "library(gridExtra)\n",
    "library(grid)\n",
    "library(ComplexHeatmap)\n",
    "library(dendsort)\n",
    "library(igraph)\n",
    "require(circlize)\n",
    "library(R.utils)\n",
    "library(data.table)\n",
    "library(Seurat)\n",
    "library(nichenetr)"
   ]
  },
  {
   "cell_type": "code",
   "execution_count": 9,
   "metadata": {
    "ExecuteTime": {
     "end_time": "2023-01-30T17:02:24.125726Z",
     "start_time": "2023-01-30T17:02:20.666Z"
    }
   },
   "outputs": [],
   "source": [
    "input_dir <- \"../../../../results/data_preprocessing/Similie/batch_corrected/\"\n",
    "output_dir <- \"../../../../results/method_comparison/compare_algorithms/Similie/community/\""
   ]
  },
  {
   "cell_type": "code",
   "execution_count": 10,
   "metadata": {
    "ExecuteTime": {
     "end_time": "2023-01-30T17:02:24.378607Z",
     "start_time": "2023-01-30T17:02:21.891Z"
    }
   },
   "outputs": [
    {
     "data": {
      "text/plain": [
       "R version 4.1.2 (2021-11-01)\n",
       "Platform: x86_64-pc-linux-gnu (64-bit)\n",
       "Running under: Ubuntu 22.04.2 LTS\n",
       "\n",
       "Matrix products: default\n",
       "BLAS:   /usr/lib/x86_64-linux-gnu/openblas-pthread/libblas.so.3\n",
       "LAPACK: /usr/lib/x86_64-linux-gnu/openblas-pthread/libopenblasp-r0.3.20.so\n",
       "\n",
       "locale:\n",
       " [1] LC_CTYPE=en_US.UTF-8       LC_NUMERIC=C              \n",
       " [3] LC_TIME=de_DE.UTF-8        LC_COLLATE=en_US.UTF-8    \n",
       " [5] LC_MONETARY=de_DE.UTF-8    LC_MESSAGES=en_US.UTF-8   \n",
       " [7] LC_PAPER=de_DE.UTF-8       LC_NAME=C                 \n",
       " [9] LC_ADDRESS=C               LC_TELEPHONE=C            \n",
       "[11] LC_MEASUREMENT=de_DE.UTF-8 LC_IDENTIFICATION=C       \n",
       "\n",
       "attached base packages:\n",
       "[1] stats     graphics  grDevices utils     datasets  methods   base     \n",
       "\n",
       "other attached packages:\n",
       "[1] SeuratObject_4.1.3 Seurat_4.3.0       R.utils_2.12.2     R.oo_1.25.0       \n",
       "[5] R.methodsS3_1.8.2  data.table_1.14.8  community_1.3.9   \n",
       "\n",
       "loaded via a namespace (and not attached):\n",
       "  [1] Rtsne_0.16             colorspace_2.1-0       deldir_1.0-6          \n",
       "  [4] ellipsis_0.3.2         ggridges_0.5.4         IRdisplay_1.1         \n",
       "  [7] base64enc_0.1-3        spatstat.data_3.0-0    leiden_0.4.3          \n",
       " [10] listenv_0.8.0          ggrepel_0.9.2          fansi_1.0.4           \n",
       " [13] codetools_0.2-18       splines_4.1.2          polyclip_1.10-4       \n",
       " [16] IRkernel_1.3           jsonlite_1.8.4         ica_1.0-3             \n",
       " [19] cluster_2.1.4          png_0.1-8              uwot_0.1.14           \n",
       " [22] shiny_1.7.4            sctransform_0.3.5      spatstat.sparse_3.0-0 \n",
       " [25] compiler_4.1.2         httr_1.4.4             assertthat_0.2.1      \n",
       " [28] Matrix_1.5-1           fastmap_1.1.0          lazyeval_0.2.2        \n",
       " [31] cli_3.6.1              later_1.3.0            htmltools_0.5.4       \n",
       " [34] tools_4.1.2            igraph_1.4.2           gtable_0.3.3          \n",
       " [37] glue_1.6.2.9000        RANN_2.6.1             reshape2_1.4.4        \n",
       " [40] dplyr_1.0.10           Rcpp_1.0.9             scattermore_0.8       \n",
       " [43] vctrs_0.6.3            nlme_3.1-159           spatstat.explore_3.0-5\n",
       " [46] progressr_0.11.0       lmtest_0.9-40          spatstat.random_3.0-1 \n",
       " [49] stringr_1.5.0          globals_0.16.2         mime_0.12             \n",
       " [52] miniUI_0.1.1.1         lifecycle_1.0.3        irlba_2.3.5.1         \n",
       " [55] goftest_1.2-3          future_1.29.0          MASS_7.3-58.1         \n",
       " [58] zoo_1.8-11             scales_1.2.1           promises_1.2.0.1      \n",
       " [61] spatstat.utils_3.0-1   parallel_4.1.2         RColorBrewer_1.1-3    \n",
       " [64] reticulate_1.26        pbapply_1.6-0          gridExtra_2.3         \n",
       " [67] ggplot2_3.4.2          stringi_1.7.12         repr_1.1.4            \n",
       " [70] rlang_1.1.1            pkgconfig_2.0.3        matrixStats_0.63.0    \n",
       " [73] evaluate_0.19          lattice_0.20-45        ROCR_1.0-11           \n",
       " [76] purrr_0.3.5            tensor_1.5             patchwork_1.1.2       \n",
       " [79] htmlwidgets_1.5.4      cowplot_1.1.1          tidyselect_1.2.0      \n",
       " [82] parallelly_1.32.1      RcppAnnoy_0.0.20       plyr_1.8.8            \n",
       " [85] magrittr_2.0.3         R6_2.5.1               generics_0.1.3        \n",
       " [88] pbdZMQ_0.3-7           DBI_1.1.3              pillar_1.9.0          \n",
       " [91] fitdistrplus_1.1-8     survival_3.4-0         abind_1.4-5           \n",
       " [94] sp_1.5-1               tibble_3.2.1           future.apply_1.10.0   \n",
       " [97] crayon_1.5.2           uuid_1.1-0             KernSmooth_2.23-20    \n",
       "[100] utf8_1.2.3             spatstat.geom_3.0-3    plotly_4.10.1         \n",
       "[103] grid_4.1.2             digest_0.6.31          xtable_1.8-4          \n",
       "[106] tidyr_1.2.1            httpuv_1.6.7           munsell_0.5.0         \n",
       "[109] viridisLite_0.4.2     "
      ]
     },
     "metadata": {},
     "output_type": "display_data"
    }
   ],
   "source": [
    "sessionInfo()"
   ]
  },
  {
   "cell_type": "markdown",
   "metadata": {
    "heading_collapsed": true
   },
   "source": [
    "## Load data"
   ]
  },
  {
   "cell_type": "markdown",
   "metadata": {
    "hidden": true
   },
   "source": [
    "To calculate interactions, we will need the following files: normalized and batch corrected `counts`, cell annotation file `anno_cells`, and a sample annotation file `anno_samples`.\n",
    "\n",
    "The `counts` file contains normalized and batch corrected counts with genes in the rows and cell IDs in the columns.\n",
    "\n",
    "The `anno_cells` file should contain columns named cell_ID, cell_type and sample_ID.\n",
    "\n",
    "The `anno_sample` file should countan columns named sample_ID health_status (e.g. \"healthy\" or \"AML\") and case_or_conrol (e.g. \"control\" or \"case\")."
   ]
  },
  {
   "cell_type": "code",
   "execution_count": 11,
   "metadata": {
    "ExecuteTime": {
     "end_time": "2023-01-30T16:41:44.232505Z",
     "start_time": "2023-01-30T16:41:44.184Z"
    },
    "hidden": true
   },
   "outputs": [
    {
     "name": "stdout",
     "output_type": "stream",
     "text": [
      "'data.frame':\t6941 obs. of  26 variables:\n",
      " $ Pair.Name            : chr  \"A2M_LRP1\" \"ACTR2_ADRB2\" \"ACTR2_LDLR\" \"ACTR2_LRP2\" ...\n",
      " $ Ligand               : chr  \"A2M\" \"ACTR2\" \"ACTR2\" \"ACTR2\" ...\n",
      " $ Ligand.Name          : chr  \"alpha-2-macroglobulin\" \"actin related protein 2\" \"actin related protein 2\" \"actin related protein 2\" ...\n",
      " $ Receptor             : chr  \"LRP1\" \"ADRB2\" \"LDLR\" \"LRP2\" ...\n",
      " $ Receptor.Name        : chr  \"LDL receptor related protein 1\" \"adrenoceptor beta 2\" \"low density lipoprotein receptor\" \"LDL receptor related protein 2\" ...\n",
      " $ complex_pair         : chr  NA NA NA NA ...\n",
      " $ partner_a            : chr  \"P01023\" \"P61160\" \"P61160\" \"P61160\" ...\n",
      " $ partner_b            : chr  \"Q07954\" \"P07550\" \"P01130\" \"P98164\" ...\n",
      " $ source               : chr  \"P01023\" \"P61160\" \"P61160\" \"P61160\" ...\n",
      " $ target               : chr  \"Q07954\" \"P07550\" \"P01130\" \"P98164\" ...\n",
      " $ source_genesymbol    : chr  \"A2M\" \"ACTR2\" \"ACTR2\" \"ACTR2\" ...\n",
      " $ target_genesymbol    : chr  \"LRP1\" \"ADRB2\" \"LDLR\" \"LRP2\" ...\n",
      " $ is_directed          : num  1 1 1 1 1 1 1 1 1 1 ...\n",
      " $ is_stimulation       : num  1 0 0 0 1 0 1 0 0 0 ...\n",
      " $ is_inhibition        : num  0 0 0 0 0 0 0 0 0 0 ...\n",
      " $ consensus_direction  : num  1 0 0 0 1 0 1 0 0 0 ...\n",
      " $ consensus_stimulation: num  1 0 0 0 1 0 1 0 0 0 ...\n",
      " $ consensus_inhibition : num  0 0 0 0 0 0 0 0 0 0 ...\n",
      " $ sources              : chr  \"AlzPathway;Baccin2019;CellTalkDB;EMBRACE;Fantom5_LRdb;HPMR_LRdb;HPMR_talklr;HPRD;HPRD_LRdb;HPRD_talklr;LRdb;Ram\"| __truncated__ \"CellTalkDB;LRdb;Reactome_LRdb\" \"CellTalkDB;LRdb;Reactome_LRdb\" \"CellTalkDB;LRdb;Reactome_LRdb\" ...\n",
      " $ references           : chr  \"AlzPathway:19026743;Baccin2019:10652313;Baccin2019:12194978;Baccin2019:1702392;CellTalkDB:10652313;HPRD:1065231\"| __truncated__ \"CellTalkDB:32196115\" \"CellTalkDB:32196115\" \"CellTalkDB:32196115\" ...\n",
      " $ curation_effort      : num  11 1 1 1 0 1 39 1 1 1 ...\n",
      " $ n_references         : num  4 1 1 1 0 1 9 1 1 1 ...\n",
      " $ n_resources          : int  11 2 2 2 1 1 19 2 2 3 ...\n",
      " $ annotation_strategy  : chr  \"LR\" \"LR\" \"LR\" \"LR\" ...\n",
      " $ db                   : chr  \"both\" \"both\" \"both\" \"both\" ...\n",
      " $ True_LR              : logi  TRUE TRUE TRUE TRUE TRUE TRUE ...\n",
      "NULL\n"
     ]
    }
   ],
   "source": [
    "data(\"LR_database\")\n",
    "print(str(LR_database))"
   ]
  },
  {
   "cell_type": "code",
   "execution_count": 14,
   "metadata": {},
   "outputs": [
    {
     "data": {
      "text/html": [
       "'../../../../results/data_preprocessing/Similie/batch_corrected/'"
      ],
      "text/latex": [
       "'../../../../results/data\\_preprocessing/Similie/batch\\_corrected/'"
      ],
      "text/markdown": [
       "'../../../../results/data_preprocessing/Similie/batch_corrected/'"
      ],
      "text/plain": [
       "[1] \"../../../../results/data_preprocessing/Similie/batch_corrected/\""
      ]
     },
     "metadata": {},
     "output_type": "display_data"
    }
   ],
   "source": [
    "'../../../../results/data_preprocessing/Similie/batch_corrected/counts_corr.csv.gz'"
   ]
  },
  {
   "cell_type": "code",
   "execution_count": 16,
   "metadata": {},
   "outputs": [
    {
     "data": {
      "text/html": [
       "'../../../../results/data_preprocessing/Similie/batch_corrected/ counts_corr.csv.gz'"
      ],
      "text/latex": [
       "'../../../../results/data\\_preprocessing/Similie/batch\\_corrected/ counts\\_corr.csv.gz'"
      ],
      "text/markdown": [
       "'../../../../results/data_preprocessing/Similie/batch_corrected/ counts_corr.csv.gz'"
      ],
      "text/plain": [
       "[1] \"../../../../results/data_preprocessing/Similie/batch_corrected/ counts_corr.csv.gz\""
      ]
     },
     "metadata": {},
     "output_type": "display_data"
    }
   ],
   "source": [
    "paste(input_dir, \"counts_corr.csv.gz\")"
   ]
  },
  {
   "cell_type": "code",
   "execution_count": 19,
   "metadata": {
    "hidden": true
   },
   "outputs": [
    {
     "name": "stdout",
     "output_type": "stream",
     "text": [
      "[1] \"load counts\"\n",
      "'data.frame':\t13861 obs. of  93593 variables:\n",
      " $ N10.EpiA.AACATTGAAAGTAG    : num  0 0 0 0 0 ...\n",
      " $ N10.EpiA.AACCCAGACGTAAC    : num  0 0 0 0 1.49 ...\n",
      " $ N10.EpiA.AATCTCACCGCATA    : num  0 0 0 0 0 0 0 0 0 0 ...\n",
      " $ N10.EpiA.ACAATAACCGCTAA    : num  0 0 0 0 0.533 ...\n",
      " $ N10.EpiA.ACAATTGATGCAGT    : num  0 0 0 0 0.396 ...\n",
      " $ N10.EpiA.ACAGTGTGTTGGTG    : num  0 0 0 0 0 ...\n",
      " $ N10.EpiA.ACCGTGCTACTCAG    : num  0 1.77 0 0 0 ...\n",
      " $ N10.EpiA.ACGAGGGAACCTAG    : num  0 0 0 0 0 0 0 0 0 0 ...\n",
      " $ N10.EpiA.ACGCAATGGTAGCT    : num  0 0 0 0 0 0 0 0 0 0 ...\n",
      " $ N10.EpiA.ACTACGGAAAGAAC    : num  0 0 0 0 0 ...\n",
      " $ N10.EpiA.AGCGATACGGTAAA    : num  0 0 0 0 0 0 0 0 0 0 ...\n",
      " $ N10.EpiA.AGTACGTGGAGGGT    : num  0 0 0 0 0 0 0 0 0 0 ...\n",
      " $ N10.EpiA.ATAAGTACGGAGGT    : num  0 0 0 0 0.515 ...\n",
      " $ N10.EpiA.CAGCCTTGCGACTA    : num  0 0 0 0 0 0 0 0 0 0 ...\n",
      " $ N10.EpiA.CCCACATGCCTTTA    : num  0 0 0 0 0 0 0 0 0 0 ...\n",
      " $ N10.EpiA.CCCGATTGGCTGAT    : num  0 0 0 0 0.794 ...\n",
      " $ N10.EpiA.CGAACATGCCTCAC    : num  0 0 0 0 0 ...\n",
      " $ N10.EpiA.CGTGTAGATGTCTT    : num  0 0 0 0 0 ...\n",
      " $ N10.EpiA.CTATTGTGTCAGGT    : num  0 0 0 0 0 ...\n",
      " $ N10.EpiA.CTCGACACGTTCAG    : num  0 0.684 0 0 0 ...\n",
      " $ N10.EpiA.CTCGACTGCCTACC    : num  0 0 0 0 0 0 0 0 0 0 ...\n",
      " $ N10.EpiA.CTTAGACTCGACTA    : num  0 0 0 0 0 0 0 0 0 0 ...\n",
      " $ N10.EpiA.GAACAGCTGGTCTA    : num  0 0 0 0 0 ...\n",
      " $ N10.EpiA.GAAGCGGATCTTCA    : num  0 0.846 0 0 0.846 ...\n",
      " $ N10.EpiA.GAAGCTTGGCTATG    : num  0 0 0 0 1.17 ...\n",
      " $ N10.EpiA.GAGCTCCTGACGTT    : num  0 0 0 0 0 0 0 0 0 0 ...\n",
      " $ N10.EpiA.GAGGTTTGGGGACA    : num  0 0 0 0 0 ...\n",
      " $ N10.EpiA.GATACTCTTGTCCC    : num  0 0 0 0 0 0 0 0 0 0 ...\n",
      " $ N10.EpiA.GCACCTACTAGTCG    : num  0 0 0 0 0 ...\n",
      " $ N10.EpiA.GCACCTTGCTTGAG    : num  0 0 0 0 0 0 0 0 0 0 ...\n",
      " $ N10.EpiA.GCATCAGATCTTAC    : num  0 0 0 0 0 ...\n",
      " $ N10.EpiA.GCTAGATGGCAAGG    : num  0 0 0 0 0.573 ...\n",
      " $ N10.EpiA.GGATGTACAACGAA    : num  0 0 0 0 0 0 0 0 0 0 ...\n",
      " $ N10.EpiA.GGATGTTGCTGCAA    : num  0 0 0 0 0 ...\n",
      " $ N10.EpiA.GGGAAGACAGAAGT    : num  0 0 0 0 0 ...\n",
      " $ N10.EpiA.GTACTACTCGTTGA    : num  0 0 0 0 0 ...\n",
      " $ N10.EpiA.GTGACAACAACGAA    : num  0 0.771 0 0 0 ...\n",
      " $ N10.EpiA.GTTATCTGGATACC    : num  0 0 0 0 0 0 0 0 0 0 ...\n",
      " $ N10.EpiA.TAAGCGTGACTCAG    : num  0 0 0 0 0.981 ...\n",
      " $ N10.EpiA.TAGCGATGGAGACG    : num  0 0 0 0 0 0 0 0 0 0 ...\n",
      " $ N10.EpiA.TAGGTTCTCGTAGT    : num  0 0 0 0 0.855 ...\n",
      " $ N10.EpiA.TATTTCCTAGTCGT    : num  0 0.543 0 0 0 ...\n",
      " $ N10.EpiA.TCCATCCTGAATAG    : num  0 0 0 0 0.99 ...\n",
      " $ N10.EpiA.TCCCGATGACCTAG    : num  0 0 0 0 0 0 0 0 0 0 ...\n",
      " $ N10.EpiA.TCGATACTTGCGTA    : num  0 0 0 0 0 0 0 0 0 0 ...\n",
      " $ N10.EpiA.TCGGACCTTAAGCC    : num  0 0.578 0 0 0 ...\n",
      " $ N10.EpiA.TCTGATACGGTGGA    : num  0 0.837 0 0 0 ...\n",
      " $ N10.EpiA.TGACTTACCAGGAG    : num  0 0 0 0 0 0 0 0 0 0 ...\n",
      " $ N10.EpiA.TGGTCAGACCCGTT    : num  0 0 0 0 0 ...\n",
      " $ N10.EpiA.TTAGTCTGGGACGA    : num  0 0 0 0 0 0 0 0 0 0 ...\n",
      " $ N10.EpiA.TTCAAAGAGCATAC    : num  0 0 0 0 0 0 0 0 0 0 ...\n",
      " $ N10.EpiA.TTCAGTTGAGGAGC    : num  0 0.804 0 0 0 ...\n",
      " $ N10.EpiA.TTCCCACTATCGGT    : num  0 0 0 0 0 0 0 0 0 0 ...\n",
      " $ N10.EpiA.TTCGTATGCTGGAT    : num  0 0 0 0 0 0 0 0 0 0 ...\n",
      " $ N10.EpiA.TTGTCATGTGTGAC    : num  0 0 0 0 0 ...\n",
      " $ N10.LPA.TTGCTATGACGCAT     : num  0 0 0 0 0 ...\n",
      " $ N8.EpiA.AAACGCTGTGGTAC     : num  0 0 0 0 0 ...\n",
      " $ N8.EpiA.AACGTTCTTACAGC     : num  0 1.2 0 0 1.2 ...\n",
      " $ N8.EpiA.ACGCCGGACCACAA     : num  0 0 0 0 0 0 0 0 0 0 ...\n",
      " $ N8.EpiA.AGAGTGCTATCAGC     : num  0 0 0 0 0 0 0 0 0 0 ...\n",
      " $ N8.EpiA.CAACCGCTGCTAAC     : num  0 0 0 0 0 0 0 0 0 0 ...\n",
      " $ N8.EpiA.CACGGGACCCATGA     : num  0 0 0 0 0 ...\n",
      " $ N8.EpiA.CCAGCACTGGACAG     : num  0 0 0 0 0 0 0 0 0 0 ...\n",
      " $ N8.EpiA.CGATCAGAGCTAAC     : num  0 0 0 0 0.85 ...\n",
      " $ N8.EpiA.CGCCATTGAAGCAA     : num  0 0 0 0 0 ...\n",
      " $ N8.EpiA.CTCATTGACAACTG     : num  0 0 0 0 0 ...\n",
      " $ N8.EpiA.TAAACAACTTCTGT     : num  0 0 0 0 0.615 ...\n",
      " $ N11.EpiB.AAAGACGAGTTCAG    : num  0 0 0 0 0 ...\n",
      " $ N11.EpiB.AAAGAGACCCTATT    : num  0 0 0 0 0 0 0 0 0 0 ...\n",
      " $ N11.EpiB.AAATACTGGGAAAT    : num  0 0 0 0 0 0 0 0 0 0 ...\n",
      " $ N11.EpiB.AATAAGCTTCACGA    : num  0 0.807 0 0 0 ...\n",
      " $ N11.EpiB.AATCGGTGAGCGTT    : num  0 0 0 0 0.691 ...\n",
      " $ N11.EpiB.ACCTCCGATGGTCA    : num  0 0.742 0 0 0 ...\n",
      " $ N11.EpiB.ACCTCGTGCATACG    : num  0 0 0 0 0 0 0 0 0 0 ...\n",
      " $ N11.EpiB.ACGACAACAAGTAG    : num  0 0 0 0 0 0 0 0 0 0 ...\n",
      " $ N11.EpiB.ACGGGAGACTAAGC    : num  0 1.28 0 0 1.28 ...\n",
      " $ N11.EpiB.ACTGCCACTATCGG    : num  0 0 0 0 0 ...\n",
      " $ N11.EpiB.ACTGTTACCCTTTA    : num  0 0 0 0 0 0 0 0 0 0 ...\n",
      " $ N11.EpiB.ACTTAGCTCCCAAA    : num  0 0 0 0 0 ...\n",
      " $ N11.EpiB.ACTTCAACGGTCTA    : num  0 0 0 0 0.535 ...\n",
      " $ N11.EpiB.ACTTCCCTGCTTAG    : num  0 0 0 0 0 0 0 0 0 0 ...\n",
      " $ N11.EpiB.AGAGATGAAACGAA    : num  0 0 0 0 0 0 0 0 0 0 ...\n",
      " $ N11.EpiB.AGCAAAGATTCGCC    : num  0 0 0 0 0.478 ...\n",
      " $ N11.EpiB.AGGATGCTTGAGAA    : num  0 0 0 0 0.628 ...\n",
      " $ N11.EpiB.AGGGCCACACGTGT    : num  0 0 0 0 0 0 0 0 0 0 ...\n",
      " $ N11.EpiB.AGTGAAGACCATGA    : num  0 0 0 0 0 ...\n",
      " $ N11.EpiB.ATAAGTACGGTGGA    : num  0 0 0 0 0 0 0 0 0 0 ...\n",
      " $ N11.EpiB.ATAATGACGACGTT    : num  0 0 0 0 0 0 0 0 0 0 ...\n",
      " $ N11.EpiB.ATCCCGTGTGTGGT    : num  0 0.36 0 0 0 ...\n",
      " $ N11.EpiB.ATCCGCACTTCTGT    : num  0 0.555 0 0 0 ...\n",
      " $ N11.EpiB.ATCGCAGACATGCA    : num  0 0 0 0 0 ...\n",
      " $ N11.EpiB.ATCGCGCTGAGGGT    : num  0 0 0 0 0 0 0 0 0 0 ...\n",
      " $ N11.EpiB.ATGATAACCATTCT    : num  0 0 0 0 0 ...\n",
      " $ N11.EpiB.ATGGTGACATTTCC    : num  0 0 0 0 0.914 ...\n",
      " $ N11.EpiB.ATTGTCTGGTCTTT    : num  0 0 0 0 0 0 0 0 0 0 ...\n",
      " $ N11.EpiB.ATTTCGTGAAACGA    : num  0 0 0 0 0 0 0 0 0 0 ...\n",
      " $ N11.EpiB.CAACCGCTTCCGAA    : num  0 0.306 0 0 0 ...\n",
      " $ N11.EpiB.CAAGCTGATGCATG    : num  0 1.12 0 0 0 ...\n",
      " $ N11.EpiB.CACTCCGACTCCCA    : num  0 0 0 0 0 ...\n",
      "  [list output truncated]\n",
      "NULL\n"
     ]
    }
   ],
   "source": [
    "# # load counts\n",
    "print(\"load counts\")\n",
    "counts <- fread(paste0(input_dir, \"counts_corr.csv.gz\"), header = TRUE)\n",
    "counts <- as.data.frame(counts)\n",
    "rownames(counts) <- counts$gene_symbol\n",
    "counts <- counts[,-1]\n",
    "print(str(counts))"
   ]
  },
  {
   "cell_type": "code",
   "execution_count": 20,
   "metadata": {
    "hidden": true
   },
   "outputs": [
    {
     "name": "stdout",
     "output_type": "stream",
     "text": [
      "[1] \"load cell annotation\"\n",
      "'data.frame':\t93593 obs. of  25 variables:\n",
      " $ cell_ID.1                    : chr  \"N10.EpiA.AACATTGAAAGTAG\" \"N10.EpiA.AACCCAGACGTAAC\" \"N10.EpiA.AATCTCACCGCATA\" \"N10.EpiA.ACAATAACCGCTAA\" ...\n",
      " $ cell_type_original           : chr  \"Stem\" \"Stem\" \"Stem\" \"Stem\" ...\n",
      " $ tissue_type                  : chr  \"Epithelial\" \"Epithelial\" \"Epithelial\" \"Epithelial\" ...\n",
      " $ cell_type                    : chr  \"Stem and multipotent cells\" \"Stem and multipotent cells\" \"Stem and multipotent cells\" \"Stem and multipotent cells\" ...\n",
      " $ region                       : chr  \"Healthy\" \"Healthy\" \"Healthy\" \"Healthy\" ...\n",
      " $ sample_ID                    : chr  \"N10.A_Healthy\" \"N10.A_Healthy\" \"N10.A_Healthy\" \"N10.A_Healthy\" ...\n",
      " $ health_status                : chr  \"Healthy\" \"Healthy\" \"Healthy\" \"Healthy\" ...\n",
      " $ total_counts_raw             : int  2995 6527 9262 13631 21207 6150 4101 11891 21496 22636 ...\n",
      " $ nr_genes                     : int  1119 1534 2042 2666 3290 1773 1203 2477 3121 3534 ...\n",
      " $ counts_upper_threshold       : int  30000 30000 30000 30000 30000 30000 30000 30000 30000 30000 ...\n",
      " $ counts_lower_threshold       : int  1000 1000 1000 1000 1000 1000 1000 1000 1000 1000 ...\n",
      " $ genes_lower_threshold        : int  500 500 500 500 500 500 500 500 500 500 ...\n",
      " $ counts_upper_filter          : chr  \"True\" \"True\" \"True\" \"True\" ...\n",
      " $ counts_lower_filter          : chr  \"True\" \"True\" \"True\" \"True\" ...\n",
      " $ genes_lower_filter           : chr  \"True\" \"True\" \"True\" \"True\" ...\n",
      " $ cell_filter                  : chr  \"True\" \"True\" \"True\" \"True\" ...\n",
      " $ threshold_celltype_size      : int  5 5 5 5 5 5 5 5 5 5 ...\n",
      " $ celltype_size_cf             : int  1186 1186 1186 1186 1186 1186 1186 1186 1186 1186 ...\n",
      " $ celltype_size_filter         : chr  \"True\" \"True\" \"True\" \"True\" ...\n",
      " $ cell_type_ID                 : chr  \"Stem and multipotent cells_N10.A_Healthy\" \"Stem and multipotent cells_N10.A_Healthy\" \"Stem and multipotent cells_N10.A_Healthy\" \"Stem and multipotent cells_N10.A_Healthy\" ...\n",
      " $ total_counts_raw_cf_ctf_gf   : int  2988 6505 9241 13608 21171 6137 4086 11868 21439 22579 ...\n",
      " $ total_counts_raw_cf_ctf_gf_sf: int  2988 6505 9241 13608 21171 6137 4086 11868 21439 22579 ...\n",
      " $ sizeFactor                   : num  0.365 0.581 0.866 1.42 2.061 ...\n",
      " $ X_scvi_batch                 : int  3 3 3 3 3 3 3 3 3 3 ...\n",
      " $ X_scvi_labels                : int  10 10 10 10 10 10 10 10 10 10 ...\n",
      "NULL\n"
     ]
    }
   ],
   "source": [
    "# load cell annotation\n",
    "print(\"load cell annotation\")\n",
    "anno_cells <- read.table(paste0(input_dir, \"anno_cells_corr.txt\")\n",
    "                         ,sep = \"\\t\"\n",
    "                         ,row.names = 1\n",
    "                         ,header = TRUE\n",
    "                         )\n",
    "print(str(anno_cells))"
   ]
  },
  {
   "cell_type": "code",
   "execution_count": 21,
   "metadata": {},
   "outputs": [
    {
     "name": "stdout",
     "output_type": "stream",
     "text": [
      "[1] \"load sample annotation\"\n",
      "'data.frame':\t28 obs. of  12 variables:\n",
      " $ sample_ID                    : chr  \"N10.A_Healthy\" \"N11.B_Healthy\" \"N15.A_Healthy\" \"N16.A_Healthy\" ...\n",
      " $ patient_ID                   : chr  \"N10\" \"N11\" \"N15\" \"N16\" ...\n",
      " $ region                       : chr  \"Healthy\" \"Healthy\" \"Healthy\" \"Healthy\" ...\n",
      " $ case_or_control              : chr  \"control\" \"control\" \"control\" \"control\" ...\n",
      " $ health_status                : chr  \"Healthy\" \"Healthy\" \"Healthy\" \"Healthy\" ...\n",
      " $ nr_cells_raw                 : int  7360 3858 4849 3233 3230 4147 4186 4125 6709 10212 ...\n",
      " $ nr_cells_cf                  : int  5064 2821 3584 2614 2618 3443 2918 3291 5118 5551 ...\n",
      " $ nr_cells_cf_ctf              : int  5001 2779 3527 2576 2585 3419 2880 3266 5033 5492 ...\n",
      " $ total_counts_raw_cf_ctf_gf   : int  27866069 20263988 22019320 18624359 19596823 25407619 15086867 21303725 27492108 38419053 ...\n",
      " $ nr_celltypes_cf_ctf_gf       : int  13 13 13 13 13 13 13 13 13 13 ...\n",
      " $ threshold_nr_celltypes       : chr  \"greater or equal 12\" \"greater or equal 12\" \"greater or equal 12\" \"greater or equal 12\" ...\n",
      " $ passed_threshold_nr_celltypes: chr  \"True\" \"True\" \"True\" \"True\" ...\n",
      "NULL\n"
     ]
    }
   ],
   "source": [
    "# load sample annotation\n",
    "print(\"load sample annotation\")\n",
    "anno_samples <- read.table(paste0(input_dir, \"anno_samples_corr.txt\")\n",
    "                           ,sep = \"\\t\"\n",
    "                           ,row.names = 1\n",
    "                           ,header = TRUE\n",
    "                           )\n",
    "print(str(anno_samples))"
   ]
  },
  {
   "cell_type": "markdown",
   "metadata": {
    "hidden": true
   },
   "source": [
    "The ligand-receptor pair database is provided by the algorithm, but the user can also use a custom database. In this case, the custom database should have the columns named 'Ligand', 'Receptor' and 'Pair.Name'. "
   ]
  },
  {
   "cell_type": "code",
   "execution_count": 22,
   "metadata": {},
   "outputs": [],
   "source": [
    "colnames(counts) <- anno_cells$cell_ID\n",
    "rownames(anno_cells) <- anno_cells$cell_ID"
   ]
  },
  {
   "cell_type": "code",
   "execution_count": 23,
   "metadata": {},
   "outputs": [
    {
     "name": "stderr",
     "output_type": "stream",
     "text": [
      "Warning message:\n",
      "“Feature names cannot have underscores ('_'), replacing with dashes ('-')”\n"
     ]
    }
   ],
   "source": [
    "seurat_obj=CreateSeuratObject(counts=counts, meta.data=anno_cells)"
   ]
  },
  {
   "cell_type": "code",
   "execution_count": 24,
   "metadata": {},
   "outputs": [],
   "source": [
    "Idents(seurat_obj) <- \"cell_type\""
   ]
  },
  {
   "cell_type": "code",
   "execution_count": 25,
   "metadata": {},
   "outputs": [],
   "source": [
    "cell_type_list <- unique(seurat_obj@meta.data$cell_type)\n",
    "sample_list <- unique(seurat_obj@meta.data$sample_ID)"
   ]
  },
  {
   "cell_type": "markdown",
   "metadata": {},
   "source": [
    "In our previous workflows, we defined a gene as expressed when it was detected in at least 10% of the cells in each cell type and sample. We will follow the same approach here, but instead of filtering out non-expressed genes, we will replace them with a value of 0."
   ]
  },
  {
   "cell_type": "code",
   "execution_count": 36,
   "metadata": {},
   "outputs": [],
   "source": [
    "# Create an empty list to store the expressed genes for each sample and cell type\n",
    "expressed_genes_list <- list()\n",
    "\n",
    "# Iterate through each sample in the sample_list\n",
    "for (sample in sample_list){\n",
    "    \n",
    "    # Subset the Seurat object to the current sample\n",
    "    sample_subset <- subset(x = seurat_obj, subset = sample_ID == sample)\n",
    "    \n",
    "    # Get a list of unique cell types in the current sample\n",
    "    cell_types <- unique(sample_subset@meta.data$cell_type)\n",
    "    \n",
    "    # Iterate through each cell type in the current sample\n",
    "    for (cell_type in cell_types){\n",
    "        \n",
    "        # Call the function 'get_expressed_genes' to get the genes that are expressed in the current cell type\n",
    "        expressed_genes <- get_expressed_genes(cell_type, sample_subset, 0.10)\n",
    "        \n",
    "        # Convert the expressed genes to a vector and remove duplicates\n",
    "        expressed_genes <- expressed_genes %>% unlist() %>% unique()\n",
    "        \n",
    "        # Get the cell IDs for the current sample and cell type from the 'anno_cells' data frame\n",
    "        cell_ids <- rownames(anno_cells[anno_cells$sample_ID == sample & anno_cells$cell_type == cell_type,])\n",
    "        \n",
    "        # Set the counts for genes that are not expressed %10 in the current cell type adn sample to zero\n",
    "        counts[!(rownames(counts) %in% expressed_genes), cell_ids] <- 0\n",
    "\n",
    "        # Add the list of expressed genes for the current sample and cell type to the 'expressed_genes_list'\n",
    "        expressed_genes_list[[sample]][[cell_type]] <- expressed_genes\n",
    "        \n",
    "    }\n",
    "}\n"
   ]
  },
  {
   "cell_type": "markdown",
   "metadata": {
    "heading_collapsed": true
   },
   "source": [
    "## Thresholds"
   ]
  },
  {
   "cell_type": "markdown",
   "metadata": {
    "hidden": true
   },
   "source": [
    "When calculation the interactions, it is possible to set three threshold: \n",
    "- `threshold_celltype_size` is a threshold for the minimum number of cells that a cell type should contain (in one sample). If the number of cells in the cell type of interest in a particular sample is less or equal to the `threshold_celltype_size`, then we consider this cell type as missing in this sample. This threshold affects the relative cell type abundance parameter (rho). The deafult value for the `threshold_celltype_size` is 6. \n",
    "- `threshold_nr_active_cells` is a threshold for the minimum number of active cells in a cell type (in the sample of interest). A cell is concidered as active (for a specific gene), if it is expressing this gene above the `threshold_expr`. If the number of active cells (for a specific gene) in a cell type is smaller or equal to the `threshold_nr_active_cells`, i.e. does not pass the threshold, then it is set to zero (in this sample). This threshold affects the relative active fraction (phi) parameter. The deafult value for the `threshold_expr` is zero.\n",
    "- `threshold_expr` is a threshold for an expression value of a gene in a cell. If an expression value af a gene in a cell is smaller or equal to the `threshold_expr` value, it will be set to zero. This threshold affects the relative active fration (phi) and the relative mean expression (p) paramteres. The default value for the `threshold_expr` is zero. In our analysis, we will though set it arbtrarily to 0.1."
   ]
  },
  {
   "cell_type": "code",
   "execution_count": 37,
   "metadata": {
    "ExecuteTime": {
     "end_time": "2023-01-17T14:34:02.924303Z",
     "start_time": "2023-01-17T14:34:02.884Z"
    },
    "hidden": true
   },
   "outputs": [
    {
     "name": "stdout",
     "output_type": "stream",
     "text": [
      "[1] \"threshold_celltype_size >\"\n",
      "[1] 6\n"
     ]
    }
   ],
   "source": [
    "# set threshold of the cell type size\n",
    "threshold_celltype_size <- 6\n",
    "print(\"threshold_celltype_size >\")\n",
    "print(threshold_celltype_size)"
   ]
  },
  {
   "cell_type": "code",
   "execution_count": 38,
   "metadata": {
    "ExecuteTime": {
     "end_time": "2023-01-17T14:34:03.121639Z",
     "start_time": "2023-01-17T14:34:03.074Z"
    },
    "hidden": true
   },
   "outputs": [
    {
     "name": "stdout",
     "output_type": "stream",
     "text": [
      "[1] \"threshold_nr_active_cells >\"\n",
      "[1] 6\n"
     ]
    }
   ],
   "source": [
    "# set threshold of the minimum number of active cells\n",
    "threshold_nr_active_cells <- 6\n",
    "print(\"threshold_nr_active_cells >\")\n",
    "print(threshold_nr_active_cells)"
   ]
  },
  {
   "cell_type": "code",
   "execution_count": 39,
   "metadata": {
    "ExecuteTime": {
     "end_time": "2023-01-17T14:34:04.306920Z",
     "start_time": "2023-01-17T14:34:04.258Z"
    },
    "hidden": true
   },
   "outputs": [
    {
     "name": "stdout",
     "output_type": "stream",
     "text": [
      "[1] \"threshold_expr >\"\n",
      "[1] 0.1\n"
     ]
    }
   ],
   "source": [
    "# set threshold of expression\n",
    "threshold_expr <- 0.1\n",
    "print(\"threshold_expr >\")\n",
    "print(threshold_expr)"
   ]
  },
  {
   "cell_type": "markdown",
   "metadata": {
    "heading_collapsed": true
   },
   "source": [
    "## Calculate interactions"
   ]
  },
  {
   "cell_type": "code",
<<<<<<< HEAD
   "execution_count": 18,
   "metadata": {
    "hidden": true
   },
   "outputs": [],
   "source": [
    "# Renaming the cell_ID.1 column in anno_cells to \"cell_ID\"\n",
    "# colnames(anno_cells)[colnames(anno_cells) == \"cell_ID.1\"] <- \"cell_ID\""
   ]
  },
  {
   "cell_type": "code",
   "execution_count": 19,
   "metadata": {},
   "outputs": [],
   "source": [
    "# colnames(anno_cells)[colnames(anno_cells) == \"cell_ID\"] <- \"cell_IDXX\""
   ]
  },
  {
   "cell_type": "code",
   "execution_count": 2,
   "metadata": {},
   "outputs": [],
   "source": [
    "help(calculate_communication)"
   ]
  },
  {
   "cell_type": "code",
   "execution_count": 20,
=======
   "execution_count": 40,
>>>>>>> 0b170c8 (simillie update)
   "metadata": {
    "hidden": true
   },
   "outputs": [
    {
     "name": "stdout",
     "output_type": "stream",
     "text": [
      "[1] \"calculate communication\"\n"
     ]
    },
    {
     "name": "stderr",
     "output_type": "stream",
     "text": [
      "Warning message in e_cellType_gene(counts = counts_sub, anno_cells = anno_cells_sub, :\n",
      "“WARNING: sample N8.A_Healthy does not contain cell type Mast -- interactions for this cell type in this sample will get zero values.”\n",
      "Warning message in e_cellType_gene(counts = counts_sub, anno_cells = anno_cells_sub, :\n",
      "“WARNING: sample N23.B_Inflamed does not contain cell type Fibroblasts -- interactions for this cell type in this sample will get zero values.”\n"
     ]
    }
   ],
   "source": [
    "print(\"calculate communication\")\n",
    "interactions = calculate_communication(counts = counts\n",
    "                                       ,anno_samples = anno_samples\n",
    "                                       ,anno_cells = anno_cells\n",
    "                                       ,threshold_celltype_size = threshold_celltype_size\n",
    "                                       ,threshold_nr_active_cells = threshold_nr_active_cells\n",
    "                                       ,threshold_expr = threshold_expr\n",
    "                                       ,lrp_database = LR_database\n",
    "                                       )"
   ]
  },
  {
   "cell_type": "markdown",
   "metadata": {
    "heading_collapsed": true
   },
   "source": [
    "## Calculate general statistics"
   ]
  },
  {
   "cell_type": "markdown",
   "metadata": {
    "hidden": true
   },
   "source": [
    "The `general_stat` function calculates for each interaction several parameters that will be used for the QC, visualization and the differential communication analysis. \n",
    "\n",
    "Following parameters for the QC step will be stored in the `anno_interactions` list:\n",
    "- mean expression of a ligand in the active fraction of the sending cell type within the control cohort (`mean_e_s_l_control`) and within the case cohort (`mean_e_s_l_case`). \n",
    "- mean  expression of a receptor in the active fraction of the receiving cell type within the control cohort (`mean_e_r_r_control`) and within the case cohort (`mean_e_r_r_case`).\n",
    "\n",
    "Following parameters for the visulisation will be stored in the `anno_interactions` list:\n",
    "- log2 fold change of `rho_s` between the cases and the controls (`log2FC_rho_s`). It shows for each interaction, how the cell type abundance of the sending cell type changed in the cases compared to the controls.\n",
    "- log2 fold change of `rho_r` between the cases and the controls (`log2FC_rho_r_r`). It shows for each interaction, how the cell type abundance of the receiving cell type changed in the cases compared to the controls.\n",
    "- log2 fold change of `rho` between the cases and the controls (`log2FC_rho`). It shows for each interaction, how the whole `rho` parameter changed in the cases compared to the controls.\n",
    "- log2 fold change of `phi_l_s` between the cases and the controls (`log2FC_phi_l_s`). It shows for each interaction, how the active fraction of the ligand in the sending cells changed in the cases compared to the controls.\n",
    "- log2 fold change of `phi_r_r` between the cases and the controls (`log2FC_phi_r_r`). It shows for each interaction, how the active fraction of the receptors in the receiving cells changed in the cases compared to the controls.\n",
    "- log2 fold change of `phi` between the cases and the controls (`log2FC_phi`). It shows for each interaction, how the whole `phi` parameter changed in the cases compared to the controls.\n",
    "- log2 fold change of `p_l_s` between the cases and the controls (`log2FC_p_l_s`). It shows for each interaction, how the mean expression whithin the active fraction of the ligand in the sending cells changed in the cases compared to the controls.\n",
    "- log2 fold change of `p_r_r` between the cases and the controls (`log2FC_p_r_r`). It shows for each interaction, how the mean expression whithin the active fraction of the receptor in the receiving cells changed in the cases compared to the controls.\n",
    "- log2 fold change of `p` between the cases and the controls (`log2FC_p`). It shows for each interaction, how the whole `p` parameter changed in the cases compared to the controls.\n",
    "\n",
    "Following parameter for the differential communication analysis will be stored in the `anno_interactions` list:\n",
    "- log2 fold change of `weights` between the cases and the controls (`log2FC_weights`). It shows for each interaction, how the whole interaction weight changed in the cases compared to the controls.\n"
   ]
  },
  {
   "cell_type": "code",
   "execution_count": null,
   "metadata": {
    "ExecuteTime": {
     "end_time": "2023-01-17T14:34:18.856673Z",
     "start_time": "2023-01-17T14:34:10.392Z"
    },
    "hidden": true
   },
   "outputs": [
    {
     "name": "stdout",
     "output_type": "stream",
     "text": [
      "[1] \"calculate general statistics\"\n"
     ]
    }
   ],
   "source": [
    "print(\"calculate general statistics\")\n",
    "\n",
    "interactions <- general_stat(comm_result = interactions\n",
    "                                   ,verbose = FALSE#TRUE\n",
    ")\n",
    "print(str(interactions$anno_interactions))"
   ]
  },
  {
   "cell_type": "markdown",
   "metadata": {},
   "source": [
    "# QC"
   ]
  },
  {
   "cell_type": "markdown",
   "metadata": {},
   "source": [
    "For the quality check, we use three filters: the **interaction weight filter**, the **presense per cohort filter** and the **ligand/receptor expression filter**. An interaction is considered of good quality, if it passes all three filters."
   ]
  },
  {
   "cell_type": "markdown",
   "metadata": {},
   "source": [
    "The **interaction weight filter** checks the log10 cumulative weight of the interaction. To pass this filter, the interaction need to be greater than the `threshold_log10_cum_weight` threshold."
   ]
  },
  {
   "cell_type": "code",
   "execution_count": null,
   "metadata": {
    "ExecuteTime": {
     "end_time": "2023-01-30T17:02:33.339942Z",
     "start_time": "2023-01-30T17:02:33.280Z"
    }
   },
   "outputs": [],
   "source": [
    "threshold_log10_cum_weight <-  0.03\n",
    "print(\"threshold_log10_cum_weight >\")\n",
    "print(threshold_log10_cum_weight)"
   ]
  },
  {
   "cell_type": "markdown",
   "metadata": {
    "ExecuteTime": {
     "end_time": "2022-11-14T12:47:10.958916Z",
     "start_time": "2022-11-14T12:47:10.886Z"
    }
   },
   "source": [
    "The **presense per cohort filter** checks the fraction of samples in which an interaction was detected (i.e. has a non-zero value) in the control cohort and in the case cohort. To pass this filter, an interaction needs to has a greater value than the `threshold_frac_samples_per_condition` threshold either in the control cohort or in the case cohort or in both."
   ]
  },
  {
   "cell_type": "code",
   "execution_count": null,
   "metadata": {
    "ExecuteTime": {
     "end_time": "2023-01-30T17:02:34.410969Z",
     "start_time": "2023-01-30T17:02:34.345Z"
    }
   },
   "outputs": [],
   "source": [
    "threshold_frac_samples_per_condition <-  0.5\n",
    "print(\"threshold_frac_samples_per_condition >\")\n",
    "print(threshold_frac_samples_per_condition)"
   ]
  },
  {
   "cell_type": "markdown",
   "metadata": {},
   "source": [
    "The **ligand/receptor expression filter** checks the mean expression level of the ligand and the receptor of an interaction in the case and the control samples (separately). This filters uses a `threshold_log10meanexpr_per_condition` threshold.\n",
    "For each einteraction four values are checked:\n",
    "- log10 mean expression of the ligand in sending cells in control samples\n",
    "- log10 mean expression of the receptor in receiving cells in control samples\n",
    "- log10 mean expression of the ligand in sending cells in case samples\n",
    "- log10 mean expression of the receptor in receiving ccells in case samples.\n",
    "\n",
    "\n",
    "An interaction passes this filter if both its ligand and receptor pass the threshold either in control samples or in case samples or in both."
   ]
  },
  {
   "cell_type": "code",
   "execution_count": null,
   "metadata": {
    "ExecuteTime": {
     "end_time": "2023-01-30T17:02:35.622297Z",
     "start_time": "2023-01-30T17:02:35.585Z"
    }
   },
   "outputs": [],
   "source": [
    "threshold_log10_meanexpr_per_condition <- 0.015\n",
    "print(\"threshold_log10_meanexpr_per_condition >\")\n",
    "print(threshold_log10_meanexpr_per_condition)"
   ]
  },
  {
   "cell_type": "markdown",
   "metadata": {},
   "source": [
    "A good quality interaction should pass all filters."
   ]
  },
  {
   "cell_type": "markdown",
   "metadata": {},
   "source": [
    "The `filter_interactions` function produces one plot for the **interaction weight filter**, two plots for the **presense per cohort filter** (one for the controls and one for the cases) and two plots for the **ligand/receptor expression filter** (one for the controls and one for the cases). It writes the selected threshold values in the `thresholds` list of the interaction object and stores the filtering results as boolean vectors (one per threshold) in the `anno_interactions` list. The function does not subset the data, so if you want to change the filtering parameters, you can re-define the thresholds and re-run the `filter_interactions` function."
   ]
  },
  {
   "cell_type": "code",
   "execution_count": null,
   "metadata": {
    "ExecuteTime": {
     "end_time": "2023-01-30T17:04:48.139358Z",
     "start_time": "2023-01-30T17:04:36.863Z"
    }
   },
   "outputs": [],
   "source": [
    "print(\"filter weak interactions\")\n",
    "\n",
    "options(repr.plot.height = 10\n",
    "       ,repr.plot.width = 16)\n",
    "interactions <- filter_interactions(comm_result = interactions\n",
    "                             ,threshold_frac_samples_per_condition = threshold_frac_samples_per_condition\n",
    "                             ,threshold_log10_cum_weight = threshold_log10_cum_weight\n",
    "                             ,threshold_log10_meanexpr_per_condition = threshold_log10_meanexpr_per_condition\n",
    ")"
   ]
  },
  {
   "cell_type": "code",
   "execution_count": null,
   "metadata": {
    "ExecuteTime": {
     "end_time": "2023-01-30T17:00:54.105489Z",
     "start_time": "2023-01-30T17:00:53.962Z"
    },
    "scrolled": false
   },
   "outputs": [],
   "source": [
    "print(str(interactions$thresholds))\n",
    "print(str(interactions$anno_interactions))"
   ]
  },
  {
   "cell_type": "markdown",
   "metadata": {},
   "source": [
    "# Differential Communication"
   ]
  },
  {
   "cell_type": "markdown",
   "metadata": {},
   "source": [
    "For calculating statistically significant differential interactions between the cases and the controls, we need to define an adjusted p-value threhsold and the log2 fold change threshold. "
   ]
  },
  {
   "cell_type": "code",
   "execution_count": null,
   "metadata": {
    "ExecuteTime": {
     "end_time": "2023-01-30T17:00:58.643788Z",
     "start_time": "2023-01-30T17:00:58.579Z"
    }
   },
   "outputs": [],
   "source": [
    "# Set up log2 fold change threshold. The default value is 1\n",
    "threshold_log2FC <- 1\n",
    "print(paste(\"[absolute] threshold_log2FC >\",threshold_log2FC))"
   ]
  },
  {
   "cell_type": "code",
   "execution_count": null,
   "metadata": {
    "ExecuteTime": {
     "end_time": "2023-01-30T17:00:59.264764Z",
     "start_time": "2023-01-30T17:00:59.232Z"
    }
   },
   "outputs": [],
   "source": [
    "# Set up FDR threshold. The default value is 0.1\n",
    "threshold_fdr <- 0.1\n",
    "print(paste(\"threshold_fdr <\",threshold_fdr))"
   ]
  },
  {
   "cell_type": "markdown",
   "metadata": {},
   "source": [
    "The `test_diff` function stores the thresholds in the `thresholds` list of the interactions object."
   ]
  },
  {
   "cell_type": "markdown",
   "metadata": {},
   "source": [
    "The `test_diff` function calculates a p-value for each interaction using a Wilcoxon test and adjusts for multiple testing using the FDR correction method. After that, the function checks whether the log2 fold change and the adjusted p-value thresholds were passed. An interactoin is considered significant if it passes both threshodls. The `test_diff` function stores the results as boolean vector to the `anno_interactions` list of the interactions object."
   ]
  },
  {
   "cell_type": "code",
   "execution_count": null,
   "metadata": {
    "ExecuteTime": {
     "end_time": "2023-01-30T17:01:12.474670Z",
     "start_time": "2023-01-30T17:01:00.386Z"
    }
   },
   "outputs": [],
   "source": [
    "print(\"calculate differential communication\")\n",
    "interactions <- test_diff(comm_result = interactions\n",
    "                          ,threshold_fdr = threshold_fdr\n",
    "                          ,which_test = \"t-test\"\n",
    "                          ,threshold_log2FC = threshold_log2FC\n",
    "                          \n",
    "                         )\n",
    "print(str(interactions$thresholds))\n",
    "print(str(interactions$anno_interactions))"
   ]
  },
  {
   "cell_type": "markdown",
   "metadata": {},
   "source": [
    "# Interplay of individual components"
   ]
  },
  {
   "cell_type": "markdown",
   "metadata": {},
   "source": [
    "We defined six complnents that influence the behaviour of each interaction:\n",
    "- rho_s\n",
    "- phi_s_l\n",
    "- p_s_l\n",
    "- rho_r\n",
    "- phi_r_r\n",
    "- p_r_r\n",
    "\n",
    "Each of these components can be changing independently in different directions. Based on the log2FC of each of them, we will define their direction:\n",
    "\n",
    "**Direction of the log2FC per component**:\n",
    "- *log2FC_rho_s_direction\n",
    "- *log2FC_phi_s_l_direction\n",
    "- *log2FC_p_s_l_direction\n",
    "- *log2FC_rho_r_direction\n",
    "- *log2FC_phi_r_r_direction\n",
    "- *log2FC_p_r_r_direction -- can have values:\n",
    "    - 0 -- if the absolute log2FC is less than the threshold_log2FC_component, i.e. unchanged\n",
    "    - 1 -- if the log2FC is greater than the threshold_log2FC_component, i.e. upregulated\n",
    "    - -1 -- if the log2FC is less than minus threshold_log2FC_component, i.e. downregulated\n",
    "\n",
    "Depending on how they interplay, we will split them into groups showing different characteristics.\n",
    "\n",
    "First, it is impornant for us to know, whether the component of only one of the two interacting partners are affected (either the sender or the receiver), or of both of them. To know this, we will calculate how many components were affected for each interacting partners:\n",
    "\n",
    "**List of affected components per interacting partner**\n",
    "- *components_affected_s* -- (sender) can have values:\n",
    "- *components_affected_r* -- (receiver) can have values:\n",
    "    - none\n",
    "    - p\n",
    "    - phi\n",
    "    - rho\n",
    "    - phi_p\n",
    "    - rho_p\n",
    "    - rho_phi\n",
    "    - rho_phi_p\n",
    "\n",
    "**Number of components affected per interacting partner**:\n",
    "- *nr_comp_affected_s* -- (sender) can have values: \n",
    "    - 0, 1, 2, or 3\n",
    "- *nr_comp_affected_r* -- (receiver) can have values: \n",
    "    - 0, 1, 2, or 3\n",
    "- *nr_comp_affected_b* -- (both) can have values: \n",
    "    - 0, 1, 2, 3, 4, 5, or 6\n",
    "    \n",
    "**Which counterpart is affected**:\n",
    "- *sender_or_receiver_affected* can have values:\n",
    "    - none -- if nr component sender is = 0 and nr component receiver is = 0\n",
    "    - sender -- if nr component sender is > 0 and nr component receiver is = 0\n",
    "    - receiver -- if nr component sender is = 0 and nr component receiver is > 0\n",
    "    - both -- if nr component sender is > 0 and nr component receiver is > 0\n",
    "    \n",
    "**Direction of the affected components per interacting partner**\n",
    "- *direction_s* -- (sender) can have values:\n",
    "- *direction_r* -- (receiver) can have values:\n",
    "- *direction_b* -- (both) can have values:\n",
    "    - none -- if zero components affected\n",
    "    - up -- if >0 components affected in the same difrection (upregulated)\n",
    "    - down -- if >0 components affected in the same difrection (downregulated)\n",
    "    - both -- if >1 components affected in the opposite difrection\n",
    "    \n",
    "If several components are affected, it is important to see, if the direction of the change is the same, such that the overall change is concordant, or it is opposit, such that the the overall cahnge is disconcordant.\n",
    "\n",
    "**Concordance of direction of affected components per interacting partner**\n",
    "- *concordance_s* -- (sender) can have values:\n",
    "- *concordance_r* -- (receiver) can have values:\n",
    "    - undefined -- if zero or one component is affected, i.e. not enough components to talk about concordance\n",
    "    - concordant -- if several components are affected in the same direction\n",
    "    - disconcordant -- if several components are affected in opposit directions\n",
    "- *concordance_b* -- (both) can have values:\n",
    "    - undefined -- if zero or one component is affected, i.e. not enogh components to talk about concordance\n",
    "    - concordant -- if several components are affected in the same direction\n",
    "    - disconcordant -- if:\n",
    "         - both concordance_s and concordance_r have one component changed each, but thier direction is opposit\n",
    "         - both concordance_s and concordance_r have several components changed each are both concordant, but thier direction is opposit\n",
    "         - either concordance_s or concordance_r is disconcordant while the other one is concordant\n",
    "         - both concordance_s and concordance_r are disconcordant\n",
    "\n",
    "**Interaction category**\n",
    " - *no_change* -- if log2FC of the interaction weight is did not pass the threshold_log2FC and none of the components is affected\n",
    "    \n",
    " - *simple_decrease* -- if log2FC of the interaction weight is less than minus threshold_log2FC and only one of the components is affected and is downregulated\n",
    "     \n",
    " - *simple_increase* -- if log2FC of the interaction weight is greater than the threshold_log2FC and only one of the components is affected and is upregulated\n",
    "     \n",
    " - *concordant_decrease* -- if log2FC of the interaction weight is less than minus threshold_log2FC, several components are affected and all of them are downregulated\n",
    "    \n",
    " - *concordant_increase* -- if log2FC of the interaction weight is greater than the threshold_log2FC, several components are affected and all of them are upregulated\n",
    "    \n",
    " - *insufficient_compensation* -- if log2FC of the interaction weight is passed the threshold_log2FC in either direction and several components are affected disconcordantly\n",
    "    \n",
    " - *sufficient_compensation* -- if log2FC of the interaction weight is did not pass the threshold_log2FC and several components are affected disconcordantly"
   ]
  },
  {
   "cell_type": "code",
   "execution_count": null,
   "metadata": {},
   "outputs": [],
   "source": [
    "# calculate interactions of the individual components\n",
    "interactions <- interaction_classes(interactions\n",
    "                   ,threshold = threshold_log2FC)\n",
    "print(str(interactions$anno_interactions))"
   ]
  },
  {
   "cell_type": "code",
   "execution_count": null,
   "metadata": {},
   "outputs": [],
   "source": [
    "write.csv(interactions$weights,\"./pdata/community_weights.csv\")"
   ]
  },
  {
   "cell_type": "code",
   "execution_count": 34,
   "metadata": {},
   "outputs": [
    {
     "ename": "ERROR",
     "evalue": "Error in is.data.frame(x): object 'interactions' not found\n",
     "output_type": "error",
     "traceback": [
      "Error in is.data.frame(x): object 'interactions' not found\nTraceback:\n",
      "1. write.csv(interactions$anno_interactions, \"./pdata/community_anno_interactions.csv\")",
      "2. eval.parent(Call)",
      "3. eval(expr, p)",
      "4. eval(expr, p)",
      "5. utils::write.table(interactions$anno_interactions, \"./pdata/community_anno_interactions.csv\", \n .     col.names = NA, sep = \",\", dec = \".\", qmethod = \"double\")",
      "6. is.data.frame(x)"
     ]
    }
   ],
   "source": [
    "write.csv(interactions$anno_interactions,\"./pdata/community_anno_interactions.csv\")"
   ]
  },
  {
   "cell_type": "code",
   "execution_count": 34,
   "metadata": {
    "ExecuteTime": {
     "end_time": "2023-01-17T13:52:39.649713Z",
     "start_time": "2023-01-17T13:52:39.258Z"
    }
   },
   "outputs": [
    {
     "name": "stdout",
     "output_type": "stream",
     "text": [
      "[1] \"save interactions.RData\"\n"
     ]
    }
   ],
   "source": [
    "print(\"save interactions.RData\")\n",
    "save(interactions, file = \"./pdata/interactions.RData\")"
   ]
  },
  {
   "cell_type": "code",
   "execution_count": null,
   "metadata": {},
   "outputs": [],
   "source": []
  }
 ],
 "metadata": {
  "kernelspec": {
   "display_name": "R",
   "language": "R",
   "name": "ir"
  },
  "language_info": {
   "codemirror_mode": "r",
   "file_extension": ".r",
   "mimetype": "text/x-r-source",
   "name": "R",
   "pygments_lexer": "r",
   "version": "4.2.3"
  },
  "toc": {
   "base_numbering": 1,
   "nav_menu": {},
   "number_sections": true,
   "sideBar": true,
   "skip_h1_title": false,
   "title_cell": "Table of Contents",
   "title_sidebar": "Contents",
   "toc_cell": false,
   "toc_position": {},
   "toc_section_display": true,
   "toc_window_display": false
  }
 },
 "nbformat": 4,
 "nbformat_minor": 4
}
