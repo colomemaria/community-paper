{
 "cells": [
  {
   "cell_type": "code",
   "execution_count": 1,
   "id": "a724311b",
   "metadata": {},
   "outputs": [
    {
     "name": "stderr",
     "output_type": "stream",
     "text": [
      "Attaching SeuratObject\n",
      "\n",
      "── \u001b[1mAttaching packages\u001b[22m ────────────────────────────────────────────────────────────────────────────────────────────────────────────────────────────────────────────────────────────────── tidyverse 1.3.2 ──\n",
      "\u001b[32m✔\u001b[39m \u001b[34mggplot2\u001b[39m 3.4.2      \u001b[32m✔\u001b[39m \u001b[34mpurrr  \u001b[39m 0.3.5 \n",
      "\u001b[32m✔\u001b[39m \u001b[34mtibble \u001b[39m 3.2.1      \u001b[32m✔\u001b[39m \u001b[34mdplyr  \u001b[39m 1.0.10\n",
      "\u001b[32m✔\u001b[39m \u001b[34mtidyr  \u001b[39m 1.2.1      \u001b[32m✔\u001b[39m \u001b[34mstringr\u001b[39m 1.5.0 \n",
      "\u001b[32m✔\u001b[39m \u001b[34mreadr  \u001b[39m 2.1.3      \u001b[32m✔\u001b[39m \u001b[34mforcats\u001b[39m 0.5.2 \n",
      "── \u001b[1mConflicts\u001b[22m ───────────────────────────────────────────────────────────────────────────────────────────────────────────────────────────────────────────────────────────────────── tidyverse_conflicts() ──\n",
      "\u001b[31m✖\u001b[39m \u001b[34mdplyr\u001b[39m::\u001b[32mfilter()\u001b[39m masks \u001b[34mstats\u001b[39m::filter()\n",
      "\u001b[31m✖\u001b[39m \u001b[34mdplyr\u001b[39m::\u001b[32mlag()\u001b[39m    masks \u001b[34mstats\u001b[39m::lag()\n",
      "\n",
      "Attaching package: ‘igraph’\n",
      "\n",
      "\n",
      "The following objects are masked from ‘package:dplyr’:\n",
      "\n",
      "    as_data_frame, groups, union\n",
      "\n",
      "\n",
      "The following objects are masked from ‘package:purrr’:\n",
      "\n",
      "    compose, simplify\n",
      "\n",
      "\n",
      "The following object is masked from ‘package:tidyr’:\n",
      "\n",
      "    crossing\n",
      "\n",
      "\n",
      "The following object is masked from ‘package:tibble’:\n",
      "\n",
      "    as_data_frame\n",
      "\n",
      "\n",
      "The following objects are masked from ‘package:stats’:\n",
      "\n",
      "    decompose, spectrum\n",
      "\n",
      "\n",
      "The following object is masked from ‘package:base’:\n",
      "\n",
      "    union\n",
      "\n",
      "\n",
      "Loading required package: circlize\n",
      "\n",
      "========================================\n",
      "circlize version 0.4.15\n",
      "CRAN page: https://cran.r-project.org/package=circlize\n",
      "Github page: https://github.com/jokergoo/circlize\n",
      "Documentation: https://jokergoo.github.io/circlize_book/book/\n",
      "\n",
      "If you use it in published research, please cite:\n",
      "Gu, Z. circlize implements and enhances circular visualization\n",
      "  in R. Bioinformatics 2014.\n",
      "\n",
      "This message can be suppressed by:\n",
      "  suppressPackageStartupMessages(library(circlize))\n",
      "========================================\n",
      "\n",
      "\n",
      "\n",
      "Attaching package: ‘circlize’\n",
      "\n",
      "\n",
      "The following object is masked from ‘package:igraph’:\n",
      "\n",
      "    degree\n",
      "\n",
      "\n",
      "Loading required package: R.oo\n",
      "\n",
      "Loading required package: R.methodsS3\n",
      "\n",
      "R.methodsS3 v1.8.2 (2022-06-13 22:00:14 UTC) successfully loaded. See ?R.methodsS3 for help.\n",
      "\n",
      "R.oo v1.25.0 (2022-06-12 02:20:02 UTC) successfully loaded. See ?R.oo for help.\n",
      "\n",
      "\n",
      "Attaching package: ‘R.oo’\n",
      "\n",
      "\n",
      "The following object is masked from ‘package:R.methodsS3’:\n",
      "\n",
      "    throw\n",
      "\n",
      "\n",
      "The following object is masked from ‘package:igraph’:\n",
      "\n",
      "    hierarchy\n",
      "\n",
      "\n",
      "The following objects are masked from ‘package:methods’:\n",
      "\n",
      "    getClasses, getMethods\n",
      "\n",
      "\n",
      "The following objects are masked from ‘package:base’:\n",
      "\n",
      "    attach, detach, load, save\n",
      "\n",
      "\n",
      "R.utils v2.12.2 (2022-11-11 22:00:03 UTC) successfully loaded. See ?R.utils for help.\n",
      "\n",
      "\n",
      "Attaching package: ‘R.utils’\n",
      "\n",
      "\n",
      "The following object is masked from ‘package:tidyr’:\n",
      "\n",
      "    extract\n",
      "\n",
      "\n",
      "The following object is masked from ‘package:utils’:\n",
      "\n",
      "    timestamp\n",
      "\n",
      "\n",
      "The following objects are masked from ‘package:base’:\n",
      "\n",
      "    cat, commandArgs, getOption, isOpen, nullfile, parse, warnings\n",
      "\n",
      "\n",
      "\n",
      "Attaching package: ‘data.table’\n",
      "\n",
      "\n",
      "The following objects are masked from ‘package:dplyr’:\n",
      "\n",
      "    between, first, last\n",
      "\n",
      "\n",
      "The following object is masked from ‘package:purrr’:\n",
      "\n",
      "    transpose\n",
      "\n",
      "\n"
     ]
    }
   ],
   "source": [
    "# libraries\n",
    "library(Seurat)\n",
    "library(tidyverse)\n",
    "library(igraph)\n",
    "require(circlize)\n",
    "library(R.utils)\n",
    "library(data.table) #to read gz file"
   ]
  },
  {
   "cell_type": "code",
   "execution_count": 2,
   "id": "7b3227f5",
   "metadata": {},
   "outputs": [],
   "source": [
    "input_dir <- \"../../../../results/data_preprocessing/Lasry/preprocessed/\""
   ]
  },
  {
   "cell_type": "code",
   "execution_count": 3,
   "id": "0dcce318",
   "metadata": {},
   "outputs": [],
   "source": [
    "# # load counts\n",
    "# print(\"load counts\")\n",
    "\n",
    "counts <- fread(paste0(input_dir,\"counts_corr.csv.gz\"), header = TRUE,check.names=FALSE)\n",
    "counts <- as.data.frame(counts)\n",
    "rownames(counts) <- counts$gene_symbol\n",
    "counts <- counts[,-1]"
   ]
  },
  {
   "cell_type": "code",
   "execution_count": 4,
   "id": "03648c75",
   "metadata": {},
   "outputs": [
    {
     "name": "stdout",
     "output_type": "stream",
     "text": [
      "[1] \"load cell annotation\"\n"
     ]
    }
   ],
   "source": [
    "# load cell annotation\n",
    "print(\"load cell annotation\")\n",
    "anno_cells <- read.table(paste0(input_dir,\"anno_cells_corr.txt\")\n",
    "                         ,sep = \"\\t\"\n",
    "                         ,row.names = 1\n",
    "                         ,header = TRUE\n",
    "                         ,check.names=FALSE\n",
    "                         )\n",
    "# print(str(anno_cells))"
   ]
  },
  {
   "cell_type": "code",
   "execution_count": 5,
   "id": "e5b62999",
   "metadata": {},
   "outputs": [],
   "source": [
    "#set rownames of annotation to cell_ids\n",
    "rownames(anno_cells) <- anno_cells$cell\n",
    "\n",
    "#set colnames of counts to cell_ids\n",
    "colnames(counts) <- rownames(anno_cells)"
   ]
  },
  {
   "cell_type": "code",
   "execution_count": 6,
   "id": "cb833adb",
   "metadata": {},
   "outputs": [],
   "source": [
    "#create a Seurat object\n",
    "srt=CreateSeuratObject(counts=counts, meta.data=anno_cells)"
   ]
  },
  {
   "cell_type": "code",
   "execution_count": 7,
   "id": "c8fd180d",
   "metadata": {},
   "outputs": [
    {
     "data": {
      "text/plain": [
       ".\n",
       "    AML healthy \n",
       "  21311   25391 "
      ]
     },
     "metadata": {},
     "output_type": "display_data"
    }
   ],
   "source": [
    "#peek into the number of cells for case/control\n",
    "srt@meta.data$health_status %>% table()"
   ]
  },
  {
   "cell_type": "code",
   "execution_count": 8,
   "id": "c9fe6df8",
   "metadata": {},
   "outputs": [
    {
     "data": {
      "text/plain": [
       ".\n",
       "    B    DC   Ery  Gran  HSPC  Mono    NK     T \n",
       " 4765  1634  1674  2332  3169 18004  3078 12046 "
      ]
     },
     "metadata": {},
     "output_type": "display_data"
    }
   ],
   "source": [
    "#peek into the number of cell types\n",
    "srt@meta.data$cell_type %>% table()"
   ]
  },
  {
   "cell_type": "code",
   "execution_count": 9,
   "id": "a456cce8",
   "metadata": {},
   "outputs": [],
   "source": [
    "#set the indent to cell_type\n",
    "Idents(srt) <- \"cell_type\""
   ]
  },
  {
   "cell_type": "code",
   "execution_count": 10,
   "id": "abc49117",
   "metadata": {},
   "outputs": [
    {
     "name": "stdout",
     "output_type": "stream",
     "text": [
      "[1] \"Mono\"\n",
      "[1] \"number of genes in the cell type\"\n",
      "[1] 15770\n",
      "[1] \"number of genes output from DE\"\n",
      "[1] 178\n",
      "[1] \"Gran\"\n",
      "[1] \"number of genes in the cell type\"\n",
      "[1] 15770\n",
      "[1] \"number of genes output from DE\"\n",
      "[1] 103\n",
      "[1] \"T\"\n",
      "[1] \"number of genes in the cell type\"\n",
      "[1] 15770\n",
      "[1] \"number of genes output from DE\"\n",
      "[1] 48\n",
      "[1] \"NK\"\n",
      "[1] \"number of genes in the cell type\"\n",
      "[1] 15770\n",
      "[1] \"number of genes output from DE\"\n",
      "[1] 164\n",
      "[1] \"B\"\n",
      "[1] \"number of genes in the cell type\"\n",
      "[1] 15770\n",
      "[1] \"number of genes output from DE\"\n",
      "[1] 74\n",
      "[1] \"HSPC\"\n",
      "[1] \"number of genes in the cell type\"\n",
      "[1] 15770\n",
      "[1] \"number of genes output from DE\"\n",
      "[1] 90\n",
      "[1] \"Ery\"\n",
      "[1] \"number of genes in the cell type\"\n",
      "[1] 15770\n",
      "[1] \"number of genes output from DE\"\n",
      "[1] 645\n",
      "[1] \"DC\"\n",
      "[1] \"number of genes in the cell type\"\n",
      "[1] 15770\n",
      "[1] \"number of genes output from DE\"\n",
      "[1] 56\n"
     ]
    }
   ],
   "source": [
    "# initialize empty vector for storing DEGs\n",
    "DEGs <- c()\n",
    "\n",
    "# iterate over each unique cell type \n",
    "for (cell_type in unique(srt@meta.data$cell_type)) {\n",
    "  \n",
    "  # subset Seurat object to only include cells of current cell type\n",
    "  seurat_obj_receiver <- subset(srt, idents = cell_type)\n",
    "  \n",
    "  # set cell identity using the \"health_status\" feature\n",
    "  seurat_obj_receiver <- SetIdent(seurat_obj_receiver, value = seurat_obj_receiver[[\"health_status\"]])\n",
    "  \n",
    "  # specify the two conditions to compare\n",
    "  condition_oi <- \"AML\"\n",
    "  condition_reference <- \"healthy\" \n",
    "  \n",
    "#   find differentially expressed genes between the two conditions\n",
    "  DE_table_receiver <- FindMarkers(object = seurat_obj_receiver, \n",
    "                                   slot = \"counts\",\n",
    "                                   ident.1 = condition_oi, \n",
    "                                   ident.2 = condition_reference, \n",
    "                                   min.pct = 0.10) %>%\n",
    "    # convert row names to a separate \"gene\" column\n",
    "    rownames_to_column(\"gene\")\n",
    "    \n",
    "#     DE_table_receiver <- FindMarkers(object = seurat_obj_receiver, \n",
    "#                                    slot = \"data\",\n",
    "#                                    ident.1 = condition_oi, \n",
    "#                                    ident.2 = condition_reference, \n",
    "#                                    min.pct = -Inf,\n",
    "#                                    thresh.use = 0,\n",
    "#                                    logfc.threshold = -Inf,\n",
    "#                                    min.cells.feature = 1, min.cells.group = 1) %>% rownames_to_column(\"gene\")\n",
    "    \n",
    "    \n",
    "    \n",
    "  \n",
    "  # add cell type information to the DEG table\n",
    "  DE_table_receiver <- data.frame(cluster = cell_type, DE_table_receiver)\n",
    "  \n",
    "  # filter DEGs based on statistical significance and fold change threshold\n",
    "#   DE_table_receiver <- DE_table_receiver %>% \n",
    "#     filter(p_val_adj <= 0.05 & abs(avg_log2FC) >= 0.25)\n",
    "  \n",
    "  # print cell type and number of DEGs found\n",
    "  print(cell_type)\n",
    "  print(\"number of genes in the cell type\")\n",
    "  print(length(row.names(seurat_obj_receiver@assays$RNA@data)))\n",
    "  print(\"number of genes output from DE\")\n",
    "  print(nrow(DE_table_receiver))\n",
    "  \n",
    "  # append DEGs to the vector of all DEGs\n",
    "  DEGs <- rbind(DEGs, DE_table_receiver)\n",
    "}"
   ]
  },
  {
   "cell_type": "code",
   "execution_count": 12,
   "id": "7648c143",
   "metadata": {},
   "outputs": [],
   "source": [
    "pre=read.csv(\"DEG_significant_table.csv\")"
   ]
  },
  {
   "cell_type": "code",
   "execution_count": 13,
   "id": "d773dbdc",
   "metadata": {},
   "outputs": [
    {
     "data": {
      "text/html": [
       "FALSE"
      ],
      "text/latex": [
       "FALSE"
      ],
      "text/markdown": [
       "FALSE"
      ],
      "text/plain": [
       "[1] FALSE"
      ]
     },
     "metadata": {},
     "output_type": "display_data"
    }
   ],
   "source": [
    "identical(pre$avg_log2FC, DEGs$avg_log2FC)"
   ]
  },
  {
   "cell_type": "code",
   "execution_count": 63,
   "id": "049c73da",
   "metadata": {},
   "outputs": [],
   "source": [
    "x <- c(-0.2,2.0,3.0)"
   ]
  },
  {
   "cell_type": "code",
   "execution_count": 64,
   "id": "5afa0306",
   "metadata": {},
   "outputs": [],
   "source": [
    "y <- c(-0.2,2.0,3.0)"
   ]
  },
  {
   "cell_type": "code",
   "execution_count": 56,
   "id": "9e5002cc",
   "metadata": {},
   "outputs": [
    {
     "data": {
      "text/html": [
       "<style>\n",
       ".list-inline {list-style: none; margin:0; padding: 0}\n",
       ".list-inline>li {display: inline-block}\n",
       ".list-inline>li:not(:last-child)::after {content: \"\\00b7\"; padding: 0 .5ex}\n",
       "</style>\n",
       "<ol class=list-inline><li>1.2</li><li>2</li><li>3</li></ol>\n"
      ],
      "text/latex": [
       "\\begin{enumerate*}\n",
       "\\item 1.2\n",
       "\\item 2\n",
       "\\item 3\n",
       "\\end{enumerate*}\n"
      ],
      "text/markdown": [
       "1. 1.2\n",
       "2. 2\n",
       "3. 3\n",
       "\n",
       "\n"
      ],
      "text/plain": [
       "[1] 1.2 2.0 3.0"
      ]
     },
     "metadata": {},
     "output_type": "display_data"
    }
   ],
   "source": [
    "x"
   ]
  },
  {
   "cell_type": "code",
   "execution_count": 57,
   "id": "044a0556",
   "metadata": {},
   "outputs": [
    {
     "name": "stdout",
     "output_type": "stream",
     "text": [
      " num [1:3] 1.2 2 3\n"
     ]
    }
   ],
   "source": [
    "str(x)"
   ]
  },
  {
   "cell_type": "code",
   "execution_count": 58,
   "id": "8c928443",
   "metadata": {},
   "outputs": [
    {
     "name": "stdout",
     "output_type": "stream",
     "text": [
      " num [1:3] 1.2 2 3\n"
     ]
    }
   ],
   "source": [
    "str(y)"
   ]
  },
  {
   "cell_type": "code",
   "execution_count": null,
   "id": "8d577c54",
   "metadata": {},
   "outputs": [],
   "source": []
  },
  {
   "cell_type": "code",
   "execution_count": 65,
   "id": "7707b43e",
   "metadata": {},
   "outputs": [
    {
     "data": {
      "text/html": [
       "TRUE"
      ],
      "text/latex": [
       "TRUE"
      ],
      "text/markdown": [
       "TRUE"
      ],
      "text/plain": [
       "[1] TRUE"
      ]
     },
     "metadata": {},
     "output_type": "display_data"
    }
   ],
   "source": [
    "identical(x,y)"
   ]
  },
  {
   "cell_type": "code",
   "execution_count": 14,
   "id": "2530fdc5",
   "metadata": {},
   "outputs": [
    {
     "data": {
      "text/html": [
       "<table class=\"dataframe\">\n",
       "<caption>A data.frame: 1358 × 7</caption>\n",
       "<thead>\n",
       "\t<tr><th scope=col>cluster</th><th scope=col>gene</th><th scope=col>p_val</th><th scope=col>avg_log2FC</th><th scope=col>pct.1</th><th scope=col>pct.2</th><th scope=col>p_val_adj</th></tr>\n",
       "\t<tr><th scope=col>&lt;chr&gt;</th><th scope=col>&lt;chr&gt;</th><th scope=col>&lt;dbl&gt;</th><th scope=col>&lt;dbl&gt;</th><th scope=col>&lt;dbl&gt;</th><th scope=col>&lt;dbl&gt;</th><th scope=col>&lt;dbl&gt;</th></tr>\n",
       "</thead>\n",
       "<tbody>\n",
       "\t<tr><td>Mono</td><td>ISG15     </td><td>0</td><td> 0.6920399</td><td>0.739</td><td>0.243</td><td>0</td></tr>\n",
       "\t<tr><td>Mono</td><td>RBP7      </td><td>0</td><td>-0.4300012</td><td>0.113</td><td>0.473</td><td>0</td></tr>\n",
       "\t<tr><td>Mono</td><td>C1QA      </td><td>0</td><td> 0.3690545</td><td>0.360</td><td>0.043</td><td>0</td></tr>\n",
       "\t<tr><td>Mono</td><td>CD52      </td><td>0</td><td>-0.6166741</td><td>0.295</td><td>0.791</td><td>0</td></tr>\n",
       "\t<tr><td>Mono</td><td>IFI6      </td><td>0</td><td> 0.6742024</td><td>0.742</td><td>0.224</td><td>0</td></tr>\n",
       "\t<tr><td>Mono</td><td>CITED4    </td><td>0</td><td> 0.3301794</td><td>0.489</td><td>0.133</td><td>0</td></tr>\n",
       "\t<tr><td>Mono</td><td>PLK3      </td><td>0</td><td> 0.2989230</td><td>0.550</td><td>0.188</td><td>0</td></tr>\n",
       "\t<tr><td>Mono</td><td>IFI44L    </td><td>0</td><td> 0.6104812</td><td>0.643</td><td>0.061</td><td>0</td></tr>\n",
       "\t<tr><td>Mono</td><td>IFI44     </td><td>0</td><td> 0.2887123</td><td>0.412</td><td>0.076</td><td>0</td></tr>\n",
       "\t<tr><td>Mono</td><td>GBP1      </td><td>0</td><td> 0.2674201</td><td>0.383</td><td>0.085</td><td>0</td></tr>\n",
       "\t<tr><td>Mono</td><td>GBP2      </td><td>0</td><td> 0.2795272</td><td>0.548</td><td>0.215</td><td>0</td></tr>\n",
       "\t<tr><td>Mono</td><td>AC253572.2</td><td>0</td><td>-0.3855648</td><td>0.222</td><td>0.515</td><td>0</td></tr>\n",
       "\t<tr><td>Mono</td><td>LMNA      </td><td>0</td><td> 0.6536723</td><td>0.820</td><td>0.182</td><td>0</td></tr>\n",
       "\t<tr><td>Mono</td><td>TAGLN2    </td><td>0</td><td> 0.2901140</td><td>0.873</td><td>0.596</td><td>0</td></tr>\n",
       "\t<tr><td>Mono</td><td>CD48      </td><td>0</td><td>-0.4058166</td><td>0.354</td><td>0.702</td><td>0</td></tr>\n",
       "\t<tr><td>Mono</td><td>IER5      </td><td>0</td><td> 0.3599200</td><td>0.742</td><td>0.339</td><td>0</td></tr>\n",
       "\t<tr><td>Mono</td><td>G0S2      </td><td>0</td><td> 0.3722543</td><td>0.748</td><td>0.479</td><td>0</td></tr>\n",
       "\t<tr><td>Mono</td><td>MARC1     </td><td>0</td><td> 0.2635026</td><td>0.408</td><td>0.096</td><td>0</td></tr>\n",
       "\t<tr><td>Mono</td><td>HIST3H2A  </td><td>0</td><td> 0.4893567</td><td>0.516</td><td>0.041</td><td>0</td></tr>\n",
       "\t<tr><td>Mono</td><td>IRF2BP2   </td><td>0</td><td> 0.4828297</td><td>0.920</td><td>0.475</td><td>0</td></tr>\n",
       "\t<tr><td>Mono</td><td>NLRP3     </td><td>0</td><td> 0.2587676</td><td>0.581</td><td>0.274</td><td>0</td></tr>\n",
       "\t<tr><td>Mono</td><td>EIF2AK2   </td><td>0</td><td> 0.2737869</td><td>0.529</td><td>0.202</td><td>0</td></tr>\n",
       "\t<tr><td>Mono</td><td>PLEK      </td><td>0</td><td> 0.3701360</td><td>0.938</td><td>0.628</td><td>0</td></tr>\n",
       "\t<tr><td>Mono</td><td>CXCR4     </td><td>0</td><td> 0.3312534</td><td>0.738</td><td>0.369</td><td>0</td></tr>\n",
       "\t<tr><td>Mono</td><td>RND3      </td><td>0</td><td> 0.3799452</td><td>0.358</td><td>0.000</td><td>0</td></tr>\n",
       "\t<tr><td>Mono</td><td>NMI       </td><td>0</td><td> 0.2648728</td><td>0.514</td><td>0.195</td><td>0</td></tr>\n",
       "\t<tr><td>Mono</td><td>TNFAIP6   </td><td>0</td><td> 0.3496339</td><td>0.368</td><td>0.017</td><td>0</td></tr>\n",
       "\t<tr><td>Mono</td><td>SP110     </td><td>0</td><td> 0.2739985</td><td>0.629</td><td>0.314</td><td>0</td></tr>\n",
       "\t<tr><td>Mono</td><td>ACKR3     </td><td>0</td><td> 0.2595831</td><td>0.268</td><td>0.003</td><td>0</td></tr>\n",
       "\t<tr><td>Mono</td><td>ANKRD28   </td><td>0</td><td> 0.6820348</td><td>0.789</td><td>0.178</td><td>0</td></tr>\n",
       "\t<tr><td>⋮</td><td>⋮</td><td>⋮</td><td>⋮</td><td>⋮</td><td>⋮</td><td>⋮</td></tr>\n",
       "\t<tr><td>DC</td><td>FCER1A    </td><td>3.523827e-31</td><td>-0.3461490</td><td>0.368</td><td>0.659</td><td>5.557074e-27</td></tr>\n",
       "\t<tr><td>DC</td><td>CCDC50    </td><td>4.960648e-31</td><td>-0.3648438</td><td>0.206</td><td>0.557</td><td>7.822942e-27</td></tr>\n",
       "\t<tr><td>DC</td><td>LENG8     </td><td>1.973201e-30</td><td> 0.2610716</td><td>0.591</td><td>0.304</td><td>3.111737e-26</td></tr>\n",
       "\t<tr><td>DC</td><td>ZYX       </td><td>3.256036e-30</td><td> 0.2718972</td><td>0.648</td><td>0.407</td><td>5.134769e-26</td></tr>\n",
       "\t<tr><td>DC</td><td>PKIB      </td><td>1.642043e-28</td><td> 0.3058677</td><td>0.339</td><td>0.120</td><td>2.589502e-24</td></tr>\n",
       "\t<tr><td>DC</td><td>PLCG2     </td><td>2.165630e-28</td><td> 0.2598010</td><td>0.494</td><td>0.234</td><td>3.415199e-24</td></tr>\n",
       "\t<tr><td>DC</td><td>RGS10     </td><td>2.273295e-28</td><td>-0.2886314</td><td>0.401</td><td>0.704</td><td>3.584986e-24</td></tr>\n",
       "\t<tr><td>DC</td><td>PLBD1     </td><td>3.746351e-28</td><td>-0.2821621</td><td>0.087</td><td>0.397</td><td>5.907996e-24</td></tr>\n",
       "\t<tr><td>DC</td><td>CFD       </td><td>4.142421e-28</td><td> 0.3230119</td><td>0.571</td><td>0.330</td><td>6.532598e-24</td></tr>\n",
       "\t<tr><td>DC</td><td>FLNA      </td><td>1.346243e-27</td><td> 0.2618908</td><td>0.679</td><td>0.501</td><td>2.123025e-23</td></tr>\n",
       "\t<tr><td>DC</td><td>BIN1      </td><td>4.187948e-27</td><td>-0.2560207</td><td>0.062</td><td>0.338</td><td>6.604394e-23</td></tr>\n",
       "\t<tr><td>DC</td><td>ITGAX     </td><td>1.316673e-25</td><td> 0.2637880</td><td>0.586</td><td>0.358</td><td>2.076393e-21</td></tr>\n",
       "\t<tr><td>DC</td><td>ENHO      </td><td>1.343284e-25</td><td>-0.2790452</td><td>0.085</td><td>0.368</td><td>2.118359e-21</td></tr>\n",
       "\t<tr><td>DC</td><td>AC245014.3</td><td>3.484590e-25</td><td>-0.2843796</td><td>0.113</td><td>0.394</td><td>5.495199e-21</td></tr>\n",
       "\t<tr><td>DC</td><td>FAM107B   </td><td>4.756027e-25</td><td> 0.2558284</td><td>0.614</td><td>0.368</td><td>7.500255e-21</td></tr>\n",
       "\t<tr><td>DC</td><td>RAB31     </td><td>8.456701e-25</td><td>-0.2681434</td><td>0.213</td><td>0.516</td><td>1.333622e-20</td></tr>\n",
       "\t<tr><td>DC</td><td>MAP3K8    </td><td>6.536682e-24</td><td>-0.2739749</td><td>0.411</td><td>0.661</td><td>1.030835e-19</td></tr>\n",
       "\t<tr><td>DC</td><td>MS4A6A    </td><td>1.038668e-23</td><td> 0.2904014</td><td>0.715</td><td>0.440</td><td>1.637980e-19</td></tr>\n",
       "\t<tr><td>DC</td><td>XIST      </td><td>1.504472e-23</td><td>-0.2862450</td><td>0.072</td><td>0.357</td><td>2.372552e-19</td></tr>\n",
       "\t<tr><td>DC</td><td>C12orf75  </td><td>7.715071e-23</td><td>-0.3088327</td><td>0.244</td><td>0.520</td><td>1.216667e-18</td></tr>\n",
       "\t<tr><td>DC</td><td>SPINT2    </td><td>2.308434e-22</td><td>-0.2551792</td><td>0.321</td><td>0.622</td><td>3.640400e-18</td></tr>\n",
       "\t<tr><td>DC</td><td>RPS4Y1    </td><td>2.616622e-22</td><td> 0.2791086</td><td>0.823</td><td>0.505</td><td>4.126413e-18</td></tr>\n",
       "\t<tr><td>DC</td><td>IGSF6     </td><td>4.811460e-22</td><td>-0.2880227</td><td>0.254</td><td>0.495</td><td>7.587673e-18</td></tr>\n",
       "\t<tr><td>DC</td><td>PPP1R14B  </td><td>2.192774e-20</td><td>-0.2557700</td><td>0.530</td><td>0.740</td><td>3.458005e-16</td></tr>\n",
       "\t<tr><td>DC</td><td>MNDA      </td><td>1.944711e-19</td><td>-0.2873473</td><td>0.316</td><td>0.512</td><td>3.066809e-15</td></tr>\n",
       "\t<tr><td>DC</td><td>NCF1      </td><td>3.102477e-19</td><td> 0.2612249</td><td>0.568</td><td>0.358</td><td>4.892606e-15</td></tr>\n",
       "\t<tr><td>DC</td><td>CYBB      </td><td>2.300272e-18</td><td>-0.2528310</td><td>0.242</td><td>0.492</td><td>3.627528e-14</td></tr>\n",
       "\t<tr><td>DC</td><td>AREG      </td><td>1.947902e-17</td><td>-0.3096353</td><td>0.257</td><td>0.467</td><td>3.071841e-13</td></tr>\n",
       "\t<tr><td>DC</td><td>GZMB      </td><td>2.346614e-13</td><td>-0.3080780</td><td>0.087</td><td>0.245</td><td>3.700611e-09</td></tr>\n",
       "\t<tr><td>DC</td><td>IGKC      </td><td>2.509850e-12</td><td>-0.2741063</td><td>0.100</td><td>0.269</td><td>3.958034e-08</td></tr>\n",
       "</tbody>\n",
       "</table>\n"
      ],
      "text/latex": [
       "A data.frame: 1358 × 7\n",
       "\\begin{tabular}{lllllll}\n",
       " cluster & gene & p\\_val & avg\\_log2FC & pct.1 & pct.2 & p\\_val\\_adj\\\\\n",
       " <chr> & <chr> & <dbl> & <dbl> & <dbl> & <dbl> & <dbl>\\\\\n",
       "\\hline\n",
       "\t Mono & ISG15      & 0 &  0.6920399 & 0.739 & 0.243 & 0\\\\\n",
       "\t Mono & RBP7       & 0 & -0.4300012 & 0.113 & 0.473 & 0\\\\\n",
       "\t Mono & C1QA       & 0 &  0.3690545 & 0.360 & 0.043 & 0\\\\\n",
       "\t Mono & CD52       & 0 & -0.6166741 & 0.295 & 0.791 & 0\\\\\n",
       "\t Mono & IFI6       & 0 &  0.6742024 & 0.742 & 0.224 & 0\\\\\n",
       "\t Mono & CITED4     & 0 &  0.3301794 & 0.489 & 0.133 & 0\\\\\n",
       "\t Mono & PLK3       & 0 &  0.2989230 & 0.550 & 0.188 & 0\\\\\n",
       "\t Mono & IFI44L     & 0 &  0.6104812 & 0.643 & 0.061 & 0\\\\\n",
       "\t Mono & IFI44      & 0 &  0.2887123 & 0.412 & 0.076 & 0\\\\\n",
       "\t Mono & GBP1       & 0 &  0.2674201 & 0.383 & 0.085 & 0\\\\\n",
       "\t Mono & GBP2       & 0 &  0.2795272 & 0.548 & 0.215 & 0\\\\\n",
       "\t Mono & AC253572.2 & 0 & -0.3855648 & 0.222 & 0.515 & 0\\\\\n",
       "\t Mono & LMNA       & 0 &  0.6536723 & 0.820 & 0.182 & 0\\\\\n",
       "\t Mono & TAGLN2     & 0 &  0.2901140 & 0.873 & 0.596 & 0\\\\\n",
       "\t Mono & CD48       & 0 & -0.4058166 & 0.354 & 0.702 & 0\\\\\n",
       "\t Mono & IER5       & 0 &  0.3599200 & 0.742 & 0.339 & 0\\\\\n",
       "\t Mono & G0S2       & 0 &  0.3722543 & 0.748 & 0.479 & 0\\\\\n",
       "\t Mono & MARC1      & 0 &  0.2635026 & 0.408 & 0.096 & 0\\\\\n",
       "\t Mono & HIST3H2A   & 0 &  0.4893567 & 0.516 & 0.041 & 0\\\\\n",
       "\t Mono & IRF2BP2    & 0 &  0.4828297 & 0.920 & 0.475 & 0\\\\\n",
       "\t Mono & NLRP3      & 0 &  0.2587676 & 0.581 & 0.274 & 0\\\\\n",
       "\t Mono & EIF2AK2    & 0 &  0.2737869 & 0.529 & 0.202 & 0\\\\\n",
       "\t Mono & PLEK       & 0 &  0.3701360 & 0.938 & 0.628 & 0\\\\\n",
       "\t Mono & CXCR4      & 0 &  0.3312534 & 0.738 & 0.369 & 0\\\\\n",
       "\t Mono & RND3       & 0 &  0.3799452 & 0.358 & 0.000 & 0\\\\\n",
       "\t Mono & NMI        & 0 &  0.2648728 & 0.514 & 0.195 & 0\\\\\n",
       "\t Mono & TNFAIP6    & 0 &  0.3496339 & 0.368 & 0.017 & 0\\\\\n",
       "\t Mono & SP110      & 0 &  0.2739985 & 0.629 & 0.314 & 0\\\\\n",
       "\t Mono & ACKR3      & 0 &  0.2595831 & 0.268 & 0.003 & 0\\\\\n",
       "\t Mono & ANKRD28    & 0 &  0.6820348 & 0.789 & 0.178 & 0\\\\\n",
       "\t ⋮ & ⋮ & ⋮ & ⋮ & ⋮ & ⋮ & ⋮\\\\\n",
       "\t DC & FCER1A     & 3.523827e-31 & -0.3461490 & 0.368 & 0.659 & 5.557074e-27\\\\\n",
       "\t DC & CCDC50     & 4.960648e-31 & -0.3648438 & 0.206 & 0.557 & 7.822942e-27\\\\\n",
       "\t DC & LENG8      & 1.973201e-30 &  0.2610716 & 0.591 & 0.304 & 3.111737e-26\\\\\n",
       "\t DC & ZYX        & 3.256036e-30 &  0.2718972 & 0.648 & 0.407 & 5.134769e-26\\\\\n",
       "\t DC & PKIB       & 1.642043e-28 &  0.3058677 & 0.339 & 0.120 & 2.589502e-24\\\\\n",
       "\t DC & PLCG2      & 2.165630e-28 &  0.2598010 & 0.494 & 0.234 & 3.415199e-24\\\\\n",
       "\t DC & RGS10      & 2.273295e-28 & -0.2886314 & 0.401 & 0.704 & 3.584986e-24\\\\\n",
       "\t DC & PLBD1      & 3.746351e-28 & -0.2821621 & 0.087 & 0.397 & 5.907996e-24\\\\\n",
       "\t DC & CFD        & 4.142421e-28 &  0.3230119 & 0.571 & 0.330 & 6.532598e-24\\\\\n",
       "\t DC & FLNA       & 1.346243e-27 &  0.2618908 & 0.679 & 0.501 & 2.123025e-23\\\\\n",
       "\t DC & BIN1       & 4.187948e-27 & -0.2560207 & 0.062 & 0.338 & 6.604394e-23\\\\\n",
       "\t DC & ITGAX      & 1.316673e-25 &  0.2637880 & 0.586 & 0.358 & 2.076393e-21\\\\\n",
       "\t DC & ENHO       & 1.343284e-25 & -0.2790452 & 0.085 & 0.368 & 2.118359e-21\\\\\n",
       "\t DC & AC245014.3 & 3.484590e-25 & -0.2843796 & 0.113 & 0.394 & 5.495199e-21\\\\\n",
       "\t DC & FAM107B    & 4.756027e-25 &  0.2558284 & 0.614 & 0.368 & 7.500255e-21\\\\\n",
       "\t DC & RAB31      & 8.456701e-25 & -0.2681434 & 0.213 & 0.516 & 1.333622e-20\\\\\n",
       "\t DC & MAP3K8     & 6.536682e-24 & -0.2739749 & 0.411 & 0.661 & 1.030835e-19\\\\\n",
       "\t DC & MS4A6A     & 1.038668e-23 &  0.2904014 & 0.715 & 0.440 & 1.637980e-19\\\\\n",
       "\t DC & XIST       & 1.504472e-23 & -0.2862450 & 0.072 & 0.357 & 2.372552e-19\\\\\n",
       "\t DC & C12orf75   & 7.715071e-23 & -0.3088327 & 0.244 & 0.520 & 1.216667e-18\\\\\n",
       "\t DC & SPINT2     & 2.308434e-22 & -0.2551792 & 0.321 & 0.622 & 3.640400e-18\\\\\n",
       "\t DC & RPS4Y1     & 2.616622e-22 &  0.2791086 & 0.823 & 0.505 & 4.126413e-18\\\\\n",
       "\t DC & IGSF6      & 4.811460e-22 & -0.2880227 & 0.254 & 0.495 & 7.587673e-18\\\\\n",
       "\t DC & PPP1R14B   & 2.192774e-20 & -0.2557700 & 0.530 & 0.740 & 3.458005e-16\\\\\n",
       "\t DC & MNDA       & 1.944711e-19 & -0.2873473 & 0.316 & 0.512 & 3.066809e-15\\\\\n",
       "\t DC & NCF1       & 3.102477e-19 &  0.2612249 & 0.568 & 0.358 & 4.892606e-15\\\\\n",
       "\t DC & CYBB       & 2.300272e-18 & -0.2528310 & 0.242 & 0.492 & 3.627528e-14\\\\\n",
       "\t DC & AREG       & 1.947902e-17 & -0.3096353 & 0.257 & 0.467 & 3.071841e-13\\\\\n",
       "\t DC & GZMB       & 2.346614e-13 & -0.3080780 & 0.087 & 0.245 & 3.700611e-09\\\\\n",
       "\t DC & IGKC       & 2.509850e-12 & -0.2741063 & 0.100 & 0.269 & 3.958034e-08\\\\\n",
       "\\end{tabular}\n"
      ],
      "text/markdown": [
       "\n",
       "A data.frame: 1358 × 7\n",
       "\n",
       "| cluster &lt;chr&gt; | gene &lt;chr&gt; | p_val &lt;dbl&gt; | avg_log2FC &lt;dbl&gt; | pct.1 &lt;dbl&gt; | pct.2 &lt;dbl&gt; | p_val_adj &lt;dbl&gt; |\n",
       "|---|---|---|---|---|---|---|\n",
       "| Mono | ISG15      | 0 |  0.6920399 | 0.739 | 0.243 | 0 |\n",
       "| Mono | RBP7       | 0 | -0.4300012 | 0.113 | 0.473 | 0 |\n",
       "| Mono | C1QA       | 0 |  0.3690545 | 0.360 | 0.043 | 0 |\n",
       "| Mono | CD52       | 0 | -0.6166741 | 0.295 | 0.791 | 0 |\n",
       "| Mono | IFI6       | 0 |  0.6742024 | 0.742 | 0.224 | 0 |\n",
       "| Mono | CITED4     | 0 |  0.3301794 | 0.489 | 0.133 | 0 |\n",
       "| Mono | PLK3       | 0 |  0.2989230 | 0.550 | 0.188 | 0 |\n",
       "| Mono | IFI44L     | 0 |  0.6104812 | 0.643 | 0.061 | 0 |\n",
       "| Mono | IFI44      | 0 |  0.2887123 | 0.412 | 0.076 | 0 |\n",
       "| Mono | GBP1       | 0 |  0.2674201 | 0.383 | 0.085 | 0 |\n",
       "| Mono | GBP2       | 0 |  0.2795272 | 0.548 | 0.215 | 0 |\n",
       "| Mono | AC253572.2 | 0 | -0.3855648 | 0.222 | 0.515 | 0 |\n",
       "| Mono | LMNA       | 0 |  0.6536723 | 0.820 | 0.182 | 0 |\n",
       "| Mono | TAGLN2     | 0 |  0.2901140 | 0.873 | 0.596 | 0 |\n",
       "| Mono | CD48       | 0 | -0.4058166 | 0.354 | 0.702 | 0 |\n",
       "| Mono | IER5       | 0 |  0.3599200 | 0.742 | 0.339 | 0 |\n",
       "| Mono | G0S2       | 0 |  0.3722543 | 0.748 | 0.479 | 0 |\n",
       "| Mono | MARC1      | 0 |  0.2635026 | 0.408 | 0.096 | 0 |\n",
       "| Mono | HIST3H2A   | 0 |  0.4893567 | 0.516 | 0.041 | 0 |\n",
       "| Mono | IRF2BP2    | 0 |  0.4828297 | 0.920 | 0.475 | 0 |\n",
       "| Mono | NLRP3      | 0 |  0.2587676 | 0.581 | 0.274 | 0 |\n",
       "| Mono | EIF2AK2    | 0 |  0.2737869 | 0.529 | 0.202 | 0 |\n",
       "| Mono | PLEK       | 0 |  0.3701360 | 0.938 | 0.628 | 0 |\n",
       "| Mono | CXCR4      | 0 |  0.3312534 | 0.738 | 0.369 | 0 |\n",
       "| Mono | RND3       | 0 |  0.3799452 | 0.358 | 0.000 | 0 |\n",
       "| Mono | NMI        | 0 |  0.2648728 | 0.514 | 0.195 | 0 |\n",
       "| Mono | TNFAIP6    | 0 |  0.3496339 | 0.368 | 0.017 | 0 |\n",
       "| Mono | SP110      | 0 |  0.2739985 | 0.629 | 0.314 | 0 |\n",
       "| Mono | ACKR3      | 0 |  0.2595831 | 0.268 | 0.003 | 0 |\n",
       "| Mono | ANKRD28    | 0 |  0.6820348 | 0.789 | 0.178 | 0 |\n",
       "| ⋮ | ⋮ | ⋮ | ⋮ | ⋮ | ⋮ | ⋮ |\n",
       "| DC | FCER1A     | 3.523827e-31 | -0.3461490 | 0.368 | 0.659 | 5.557074e-27 |\n",
       "| DC | CCDC50     | 4.960648e-31 | -0.3648438 | 0.206 | 0.557 | 7.822942e-27 |\n",
       "| DC | LENG8      | 1.973201e-30 |  0.2610716 | 0.591 | 0.304 | 3.111737e-26 |\n",
       "| DC | ZYX        | 3.256036e-30 |  0.2718972 | 0.648 | 0.407 | 5.134769e-26 |\n",
       "| DC | PKIB       | 1.642043e-28 |  0.3058677 | 0.339 | 0.120 | 2.589502e-24 |\n",
       "| DC | PLCG2      | 2.165630e-28 |  0.2598010 | 0.494 | 0.234 | 3.415199e-24 |\n",
       "| DC | RGS10      | 2.273295e-28 | -0.2886314 | 0.401 | 0.704 | 3.584986e-24 |\n",
       "| DC | PLBD1      | 3.746351e-28 | -0.2821621 | 0.087 | 0.397 | 5.907996e-24 |\n",
       "| DC | CFD        | 4.142421e-28 |  0.3230119 | 0.571 | 0.330 | 6.532598e-24 |\n",
       "| DC | FLNA       | 1.346243e-27 |  0.2618908 | 0.679 | 0.501 | 2.123025e-23 |\n",
       "| DC | BIN1       | 4.187948e-27 | -0.2560207 | 0.062 | 0.338 | 6.604394e-23 |\n",
       "| DC | ITGAX      | 1.316673e-25 |  0.2637880 | 0.586 | 0.358 | 2.076393e-21 |\n",
       "| DC | ENHO       | 1.343284e-25 | -0.2790452 | 0.085 | 0.368 | 2.118359e-21 |\n",
       "| DC | AC245014.3 | 3.484590e-25 | -0.2843796 | 0.113 | 0.394 | 5.495199e-21 |\n",
       "| DC | FAM107B    | 4.756027e-25 |  0.2558284 | 0.614 | 0.368 | 7.500255e-21 |\n",
       "| DC | RAB31      | 8.456701e-25 | -0.2681434 | 0.213 | 0.516 | 1.333622e-20 |\n",
       "| DC | MAP3K8     | 6.536682e-24 | -0.2739749 | 0.411 | 0.661 | 1.030835e-19 |\n",
       "| DC | MS4A6A     | 1.038668e-23 |  0.2904014 | 0.715 | 0.440 | 1.637980e-19 |\n",
       "| DC | XIST       | 1.504472e-23 | -0.2862450 | 0.072 | 0.357 | 2.372552e-19 |\n",
       "| DC | C12orf75   | 7.715071e-23 | -0.3088327 | 0.244 | 0.520 | 1.216667e-18 |\n",
       "| DC | SPINT2     | 2.308434e-22 | -0.2551792 | 0.321 | 0.622 | 3.640400e-18 |\n",
       "| DC | RPS4Y1     | 2.616622e-22 |  0.2791086 | 0.823 | 0.505 | 4.126413e-18 |\n",
       "| DC | IGSF6      | 4.811460e-22 | -0.2880227 | 0.254 | 0.495 | 7.587673e-18 |\n",
       "| DC | PPP1R14B   | 2.192774e-20 | -0.2557700 | 0.530 | 0.740 | 3.458005e-16 |\n",
       "| DC | MNDA       | 1.944711e-19 | -0.2873473 | 0.316 | 0.512 | 3.066809e-15 |\n",
       "| DC | NCF1       | 3.102477e-19 |  0.2612249 | 0.568 | 0.358 | 4.892606e-15 |\n",
       "| DC | CYBB       | 2.300272e-18 | -0.2528310 | 0.242 | 0.492 | 3.627528e-14 |\n",
       "| DC | AREG       | 1.947902e-17 | -0.3096353 | 0.257 | 0.467 | 3.071841e-13 |\n",
       "| DC | GZMB       | 2.346614e-13 | -0.3080780 | 0.087 | 0.245 | 3.700611e-09 |\n",
       "| DC | IGKC       | 2.509850e-12 | -0.2741063 | 0.100 | 0.269 | 3.958034e-08 |\n",
       "\n"
      ],
      "text/plain": [
       "     cluster gene       p_val        avg_log2FC pct.1 pct.2 p_val_adj   \n",
       "1    Mono    ISG15      0             0.6920399 0.739 0.243 0           \n",
       "2    Mono    RBP7       0            -0.4300012 0.113 0.473 0           \n",
       "3    Mono    C1QA       0             0.3690545 0.360 0.043 0           \n",
       "4    Mono    CD52       0            -0.6166741 0.295 0.791 0           \n",
       "5    Mono    IFI6       0             0.6742024 0.742 0.224 0           \n",
       "6    Mono    CITED4     0             0.3301794 0.489 0.133 0           \n",
       "7    Mono    PLK3       0             0.2989230 0.550 0.188 0           \n",
       "8    Mono    IFI44L     0             0.6104812 0.643 0.061 0           \n",
       "9    Mono    IFI44      0             0.2887123 0.412 0.076 0           \n",
       "10   Mono    GBP1       0             0.2674201 0.383 0.085 0           \n",
       "11   Mono    GBP2       0             0.2795272 0.548 0.215 0           \n",
       "12   Mono    AC253572.2 0            -0.3855648 0.222 0.515 0           \n",
       "13   Mono    LMNA       0             0.6536723 0.820 0.182 0           \n",
       "14   Mono    TAGLN2     0             0.2901140 0.873 0.596 0           \n",
       "15   Mono    CD48       0            -0.4058166 0.354 0.702 0           \n",
       "16   Mono    IER5       0             0.3599200 0.742 0.339 0           \n",
       "17   Mono    G0S2       0             0.3722543 0.748 0.479 0           \n",
       "18   Mono    MARC1      0             0.2635026 0.408 0.096 0           \n",
       "19   Mono    HIST3H2A   0             0.4893567 0.516 0.041 0           \n",
       "20   Mono    IRF2BP2    0             0.4828297 0.920 0.475 0           \n",
       "21   Mono    NLRP3      0             0.2587676 0.581 0.274 0           \n",
       "22   Mono    EIF2AK2    0             0.2737869 0.529 0.202 0           \n",
       "23   Mono    PLEK       0             0.3701360 0.938 0.628 0           \n",
       "24   Mono    CXCR4      0             0.3312534 0.738 0.369 0           \n",
       "25   Mono    RND3       0             0.3799452 0.358 0.000 0           \n",
       "26   Mono    NMI        0             0.2648728 0.514 0.195 0           \n",
       "27   Mono    TNFAIP6    0             0.3496339 0.368 0.017 0           \n",
       "28   Mono    SP110      0             0.2739985 0.629 0.314 0           \n",
       "29   Mono    ACKR3      0             0.2595831 0.268 0.003 0           \n",
       "30   Mono    ANKRD28    0             0.6820348 0.789 0.178 0           \n",
       "⋮    ⋮       ⋮          ⋮            ⋮          ⋮     ⋮     ⋮           \n",
       "1329 DC      FCER1A     3.523827e-31 -0.3461490 0.368 0.659 5.557074e-27\n",
       "1330 DC      CCDC50     4.960648e-31 -0.3648438 0.206 0.557 7.822942e-27\n",
       "1331 DC      LENG8      1.973201e-30  0.2610716 0.591 0.304 3.111737e-26\n",
       "1332 DC      ZYX        3.256036e-30  0.2718972 0.648 0.407 5.134769e-26\n",
       "1333 DC      PKIB       1.642043e-28  0.3058677 0.339 0.120 2.589502e-24\n",
       "1334 DC      PLCG2      2.165630e-28  0.2598010 0.494 0.234 3.415199e-24\n",
       "1335 DC      RGS10      2.273295e-28 -0.2886314 0.401 0.704 3.584986e-24\n",
       "1336 DC      PLBD1      3.746351e-28 -0.2821621 0.087 0.397 5.907996e-24\n",
       "1337 DC      CFD        4.142421e-28  0.3230119 0.571 0.330 6.532598e-24\n",
       "1338 DC      FLNA       1.346243e-27  0.2618908 0.679 0.501 2.123025e-23\n",
       "1339 DC      BIN1       4.187948e-27 -0.2560207 0.062 0.338 6.604394e-23\n",
       "1340 DC      ITGAX      1.316673e-25  0.2637880 0.586 0.358 2.076393e-21\n",
       "1341 DC      ENHO       1.343284e-25 -0.2790452 0.085 0.368 2.118359e-21\n",
       "1342 DC      AC245014.3 3.484590e-25 -0.2843796 0.113 0.394 5.495199e-21\n",
       "1343 DC      FAM107B    4.756027e-25  0.2558284 0.614 0.368 7.500255e-21\n",
       "1344 DC      RAB31      8.456701e-25 -0.2681434 0.213 0.516 1.333622e-20\n",
       "1345 DC      MAP3K8     6.536682e-24 -0.2739749 0.411 0.661 1.030835e-19\n",
       "1346 DC      MS4A6A     1.038668e-23  0.2904014 0.715 0.440 1.637980e-19\n",
       "1347 DC      XIST       1.504472e-23 -0.2862450 0.072 0.357 2.372552e-19\n",
       "1348 DC      C12orf75   7.715071e-23 -0.3088327 0.244 0.520 1.216667e-18\n",
       "1349 DC      SPINT2     2.308434e-22 -0.2551792 0.321 0.622 3.640400e-18\n",
       "1350 DC      RPS4Y1     2.616622e-22  0.2791086 0.823 0.505 4.126413e-18\n",
       "1351 DC      IGSF6      4.811460e-22 -0.2880227 0.254 0.495 7.587673e-18\n",
       "1352 DC      PPP1R14B   2.192774e-20 -0.2557700 0.530 0.740 3.458005e-16\n",
       "1353 DC      MNDA       1.944711e-19 -0.2873473 0.316 0.512 3.066809e-15\n",
       "1354 DC      NCF1       3.102477e-19  0.2612249 0.568 0.358 4.892606e-15\n",
       "1355 DC      CYBB       2.300272e-18 -0.2528310 0.242 0.492 3.627528e-14\n",
       "1356 DC      AREG       1.947902e-17 -0.3096353 0.257 0.467 3.071841e-13\n",
       "1357 DC      GZMB       2.346614e-13 -0.3080780 0.087 0.245 3.700611e-09\n",
       "1358 DC      IGKC       2.509850e-12 -0.2741063 0.100 0.269 3.958034e-08"
      ]
     },
     "metadata": {},
     "output_type": "display_data"
    }
   ],
   "source": [
    "DEGs"
   ]
  },
  {
   "cell_type": "code",
   "execution_count": null,
   "id": "d62e3c9d",
   "metadata": {},
   "outputs": [],
   "source": []
  },
  {
   "cell_type": "code",
   "execution_count": null,
   "id": "d871055f",
   "metadata": {},
   "outputs": [],
   "source": []
  },
  {
   "cell_type": "code",
   "execution_count": null,
   "id": "ba99ff7e",
   "metadata": {},
   "outputs": [],
   "source": []
  },
  {
   "cell_type": "code",
   "execution_count": null,
   "id": "57a05220",
   "metadata": {},
   "outputs": [],
   "source": []
  },
  {
   "cell_type": "code",
   "execution_count": 57,
   "id": "ad7ce639",
   "metadata": {},
   "outputs": [],
   "source": [
    "write.csv(DEGs, \"DEG_table.csv\")"
   ]
  },
  {
   "cell_type": "code",
   "execution_count": 59,
   "id": "50bde1b3",
   "metadata": {},
   "outputs": [],
   "source": [
    "write.csv(DEGs, \"DEG_significant_table.csv\")"
   ]
  },
  {
   "cell_type": "code",
   "execution_count": 19,
   "id": "d3d0323e",
   "metadata": {},
   "outputs": [],
   "source": [
    "?FindMarkers"
   ]
  },
  {
   "cell_type": "code",
   "execution_count": null,
   "id": "a86c5c68",
   "metadata": {},
   "outputs": [],
   "source": []
  }
 ],
 "metadata": {
  "kernelspec": {
   "display_name": "R",
   "language": "R",
   "name": "ir"
  },
  "language_info": {
   "codemirror_mode": "r",
   "file_extension": ".r",
   "mimetype": "text/x-r-source",
   "name": "R",
   "pygments_lexer": "r",
   "version": "4.1.2"
  }
 },
 "nbformat": 4,
 "nbformat_minor": 5
}
