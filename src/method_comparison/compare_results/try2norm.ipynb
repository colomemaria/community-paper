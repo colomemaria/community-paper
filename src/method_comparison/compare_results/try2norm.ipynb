{
 "cells": [
  {
   "cell_type": "code",
   "execution_count": 1,
   "id": "0f981bc1",
   "metadata": {},
   "outputs": [],
   "source": [
    "import pandas as pd\n",
    "import numpy as np\n",
    "from matplotlib_venn import venn2, venn2_circles, venn2_unweighted\n",
    "from matplotlib_venn import venn3, venn3_circles\n",
    "import matplotlib.pyplot as plt\n",
    "import seaborn as sns"
   ]
  },
  {
   "cell_type": "code",
   "execution_count": 2,
   "id": "c07b568c",
   "metadata": {},
   "outputs": [
    {
     "name": "stderr",
     "output_type": "stream",
     "text": [
      "/tmp/ipykernel_52586/3978655546.py:1: DtypeWarning: Columns (22,26,27,28,29,30,32,33,34,35,36,37,38,41,42,43,44,47,48,50,55,57,58,61,65,67,68,70) have mixed types. Specify dtype option on import or set low_memory=False.\n",
      "  cell_anno = pd.read_csv(\"../../../results/data_preprocessing/Lasry/preprocessed/anno_cells_corr.txt\", delimiter=\"\\t\")\n"
     ]
    }
   ],
   "source": [
    "cell_anno = pd.read_csv(\"../../../results/data_preprocessing/Lasry/preprocessed/anno_cells_corr.txt\", delimiter=\"\\t\")"
   ]
  },
  {
   "cell_type": "code",
   "execution_count": 3,
   "id": "0e39d0b1",
   "metadata": {},
   "outputs": [],
   "source": [
    "# Read in the CellPhoneDB results CSV file and set the interaction column as the index.\n",
    "# Any missing values (NaNs) in the dataframe are filled with zeros.\n",
    "# These missing values are due to merged samples.\n",
    "\n",
    "cpdb = pd.read_csv('../../../results/method_comparison/compare_results/CPDB/CPDB_results.csv', index_col=None)\n",
    "cpdb = cpdb.fillna(0)\n",
    "cpdb.set_index(\"interaction\", inplace=True)"
   ]
  },
  {
   "cell_type": "code",
   "execution_count": 4,
   "id": "3312b761",
   "metadata": {},
   "outputs": [],
   "source": [
    "# Read in the NicheNet results CSV file and set the interaction column as the index.\n",
    "# Any missing values (NaNs) in the dataframe are filled with zeros.\n",
    "# These missing values are due to merged samples.\n",
    "nnet = pd.read_csv(\"../../../results/method_comparison/compare_results/NicheNet/NicheNet_results.csv\")\n",
    "nnet = nnet.fillna(0)\n",
    "nnet.set_index(\"interaction\", inplace=True)"
   ]
  },
  {
   "cell_type": "code",
   "execution_count": 5,
   "id": "97dc48fd",
   "metadata": {},
   "outputs": [],
   "source": [
    "community = pd.read_csv(\"../../../results/method_comparison/compare_results/community/community_results.csv\")\n",
    "community.rename(columns={\"Unnamed: 0\": \"interaction\"}, inplace=True)\n",
    "community.set_index(\"interaction\", inplace=True)"
   ]
  },
  {
   "cell_type": "code",
   "execution_count": 28,
   "id": "98674eed",
   "metadata": {},
   "outputs": [],
   "source": [
    "# Create a list of column names in the dataframe that contain the string \"healthy\"\n",
    "healthy = cell_anno[cell_anno[\"health_status\"]==\"healthy\"].sample_ID.unique()\n",
    "\n",
    "# Create a list of column names in the dataframe that contain the string \"AML\"\n",
    "AML = cell_anno[cell_anno[\"health_status\"]==\"AML\"].sample_ID.unique()\n"
   ]
  },
  {
   "cell_type": "code",
   "execution_count": null,
   "id": "5e3833dc",
   "metadata": {},
   "outputs": [],
   "source": []
  },
  {
   "cell_type": "code",
   "execution_count": 29,
   "id": "56c7ba4b",
   "metadata": {},
   "outputs": [],
   "source": [
    "# drop the raw if all the values are zero\n",
    "def drop_zeros(df):\n",
    "    return df.loc[~(df==0).all(axis=1)]"
   ]
  },
  {
   "cell_type": "code",
   "execution_count": 30,
   "id": "47884fba",
   "metadata": {},
   "outputs": [],
   "source": [
    "# Create two new dataframes by separating the `community` dataframe into case and control groups based on column names.\n",
    "# `community_control` contains only the columns from `community` that contain the string \"healthy\",\n",
    "# while `community_case` contains only the columns from `community` that contain the string \"AML\".\n",
    "\n",
    "community_control=community[healthy]\n",
    "community_control=drop_zeros(community_control)\n",
    "community_case=community[AML]\n",
    "community_case=drop_zeros(community_case)"
   ]
  },
  {
   "cell_type": "code",
   "execution_count": 31,
   "id": "4173123a",
   "metadata": {},
   "outputs": [],
   "source": [
    "# same step for NicheNet\n",
    "nnet_control=nnet[healthy]\n",
    "nnet_control=drop_zeros(nnet_control)\n",
    "nnet_case=nnet[AML]\n",
    "nnet_case=drop_zeros(nnet_case)"
   ]
  },
  {
   "cell_type": "code",
   "execution_count": 32,
   "id": "eb6857cc",
   "metadata": {},
   "outputs": [],
   "source": [
    "# same step for CellPhoneDB\n",
    "cpdb_control=cpdb[healthy]\n",
    "cpdb_control=drop_zeros(cpdb_control)\n",
    "cpdb_case=cpdb[AML]\n",
    "cpdb_case=drop_zeros(cpdb_case)"
   ]
  },
  {
   "cell_type": "code",
   "execution_count": 33,
   "id": "388cd8ff",
   "metadata": {},
   "outputs": [],
   "source": [
    "# Each column contains a list of two values: the number of interactions in the case group and the control group\n",
    "\n",
    "\n",
    "plotdata = pd.DataFrame({\n",
    "\n",
    "    \"community\":[len(community_case),len(community_control)],\n",
    "\n",
    "    \"NicheNet\":[len(nnet_case),len(nnet_control)],\n",
    "\n",
    "    \"CPDB\":[len(cpdb_case),len(cpdb_control)]},\n",
    "\n",
    "    index=[\"case\", \"control\"])"
   ]
  },
  {
   "cell_type": "code",
   "execution_count": 34,
   "id": "d2a16930",
   "metadata": {},
   "outputs": [
    {
     "data": {
      "text/html": [
       "<div>\n",
       "<style scoped>\n",
       "    .dataframe tbody tr th:only-of-type {\n",
       "        vertical-align: middle;\n",
       "    }\n",
       "\n",
       "    .dataframe tbody tr th {\n",
       "        vertical-align: top;\n",
       "    }\n",
       "\n",
       "    .dataframe thead th {\n",
       "        text-align: right;\n",
       "    }\n",
       "</style>\n",
       "<table border=\"1\" class=\"dataframe\">\n",
       "  <thead>\n",
       "    <tr style=\"text-align: right;\">\n",
       "      <th></th>\n",
       "      <th>community</th>\n",
       "      <th>NicheNet</th>\n",
       "      <th>CPDB</th>\n",
       "    </tr>\n",
       "  </thead>\n",
       "  <tbody>\n",
       "    <tr>\n",
       "      <th>case</th>\n",
       "      <td>16381</td>\n",
       "      <td>22020</td>\n",
       "      <td>98100</td>\n",
       "    </tr>\n",
       "    <tr>\n",
       "      <th>control</th>\n",
       "      <td>14386</td>\n",
       "      <td>14802</td>\n",
       "      <td>98602</td>\n",
       "    </tr>\n",
       "  </tbody>\n",
       "</table>\n",
       "</div>"
      ],
      "text/plain": [
       "         community  NicheNet   CPDB\n",
       "case         16381     22020  98100\n",
       "control      14386     14802  98602"
      ]
     },
     "execution_count": 34,
     "metadata": {},
     "output_type": "execute_result"
    }
   ],
   "source": [
    "plotdata"
   ]
  },
  {
   "cell_type": "code",
   "execution_count": 35,
   "id": "a29916cd",
   "metadata": {},
   "outputs": [
    {
     "data": {
      "text/plain": [
       "Text(0, 0.5, '# of interactions')"
      ]
     },
     "execution_count": 35,
     "metadata": {},
     "output_type": "execute_result"
    },
    {
     "data": {
      "image/png": "[encoded data removed]",
      "text/plain": [
       "<Figure size 1080x576 with 1 Axes>"
      ]
     },
     "metadata": {
      "needs_background": "light"
     },
     "output_type": "display_data"
    }
   ],
   "source": [
    "plotdata.plot(kind=\"bar\",figsize=(15, 8))\n",
    "\n",
    "plt.title(\"comparing raw results\")\n",
    "\n",
    "plt.xlabel(\"tools\")\n",
    "\n",
    "plt.ylabel(\"# of interactions\")"
   ]
  },
  {
   "cell_type": "code",
   "execution_count": 36,
   "id": "e2d97e67",
   "metadata": {},
   "outputs": [],
   "source": [
    "# get the list of interaction in the control group for CellPhoneDB\n",
    "cpdb_control_interactions = cpdb_control.index.values.tolist()"
   ]
  },
  {
   "cell_type": "code",
   "execution_count": 37,
   "id": "3a219742",
   "metadata": {},
   "outputs": [],
   "source": [
    "# get the list of interaction in the control group for NicheNet\n",
    "nnet_control_interactions = nnet_control.index.values.tolist()"
   ]
  },
  {
   "cell_type": "code",
   "execution_count": 38,
   "id": "cdf4de49",
   "metadata": {},
   "outputs": [],
   "source": [
    "community_control_interactions = community_control.index.values.tolist()"
   ]
  },
  {
   "cell_type": "code",
   "execution_count": 39,
   "id": "d134efd7",
   "metadata": {},
   "outputs": [
    {
     "data": {
      "text/plain": [
       "<matplotlib_venn._common.VennDiagram at 0x7f6e5250e830>"
      ]
     },
     "execution_count": 39,
     "metadata": {},
     "output_type": "execute_result"
    },
    {
     "data": {
      "image/png": "[encoded data removed]",
      "text/plain": [
       "<Figure size 432x288 with 1 Axes>"
      ]
     },
     "metadata": {},
     "output_type": "display_data"
    }
   ],
   "source": [
    "# plot the interactions in the control samples\n",
    "venn3([set(community_control_interactions),set(nnet_control_interactions), set(cpdb_control_interactions)], (\"community\",'NicheNet', 'CPDB'))"
   ]
  },
  {
   "cell_type": "code",
   "execution_count": 40,
   "id": "f3b54d2d",
   "metadata": {},
   "outputs": [],
   "source": [
    "cpdb_case_interactions = cpdb_case.index.values.tolist()\n",
    "nnet_case_interactions = nnet_case.index.values.tolist()\n",
    "community_case_interactions = community_case.index.values.tolist()"
   ]
  },
  {
   "cell_type": "code",
   "execution_count": 41,
   "id": "0c2a5f3f",
   "metadata": {},
   "outputs": [
    {
     "data": {
      "image/png": "[encoded data removed]",
      "text/plain": [
       "<Figure size 432x288 with 1 Axes>"
      ]
     },
     "metadata": {},
     "output_type": "display_data"
    }
   ],
   "source": [
    "# plot the interactions in the case samples\n",
    "\n",
    "venn3([set(community_case_interactions),set(nnet_case_interactions), set(cpdb_case_interactions)], (\"community\",'NicheNet', 'CPDB'))\n",
    "plt.savefig('compare_case_interactions.png')"
   ]
  },
  {
   "cell_type": "code",
   "execution_count": 42,
   "id": "ae03442e",
   "metadata": {},
   "outputs": [],
   "source": [
    "control = dict()\n",
    "\n",
    "for x in cpdb_control_interactions + nnet_control_interactions + community_control_interactions:\n",
    "    if x in control:\n",
    "        control[x] += 1\n",
    "    else:\n",
    "        control[x] = 1"
   ]
  },
  {
   "cell_type": "code",
   "execution_count": 43,
   "id": "805e74fc",
   "metadata": {},
   "outputs": [],
   "source": [
    "case = dict()\n",
    "\n",
    "for x in cpdb_case_interactions + nnet_case_interactions + community_case_interactions:\n",
    "    if x in case:\n",
    "        case[x] += 1\n",
    "    else:\n",
    "        case[x] = 1"
   ]
  },
  {
   "cell_type": "code",
   "execution_count": null,
   "id": "98a9356e",
   "metadata": {},
   "outputs": [],
   "source": []
  },
  {
   "cell_type": "code",
   "execution_count": 44,
   "id": "2958c7f5",
   "metadata": {},
   "outputs": [
    {
     "data": {
      "image/png": "[encoded data removed]",
      "text/plain": [
       "<Figure size 432x288 with 1 Axes>"
      ]
     },
     "metadata": {
      "needs_background": "light"
     },
     "output_type": "display_data"
    }
   ],
   "source": [
    "# # Find common keys (interactions)\n",
    "# common_interactions = list(set(case.keys()) & set(control.keys()))\n",
    "\n",
    "# # Extract values for common interactions\n",
    "# case_values = [case[interaction] for interaction in common_interactions]\n",
    "# control_values = [control[interaction] for interaction in common_interactions]\n",
    "\n",
    "# # Create the dot plot\n",
    "# plt.scatter(case_values, control_values)\n",
    "\n",
    "# # Annotate each point with the interaction name\n",
    "# for i, interaction in enumerate(common_interactions):\n",
    "#     plt.annotate(interaction, (case_values[i], control_values[i]))\n",
    "\n",
    "# # Label axes and add a title\n",
    "# plt.xlabel('Case')\n",
    "# plt.ylabel('Control')\n",
    "# plt.title('Dot Plot: Case vs Control')\n",
    "\n",
    "# # Display the plot\n",
    "# plt.show()"
   ]
  },
  {
   "cell_type": "code",
   "execution_count": null,
   "id": "a3cb910b",
   "metadata": {},
   "outputs": [],
   "source": []
  },
  {
   "cell_type": "code",
   "execution_count": 45,
   "id": "1048619e",
   "metadata": {},
   "outputs": [],
   "source": [
    "# just wanna get a quick glance at interactions that are in CPDB but not in community\n",
    "not_in_commu=list(set(cpdb_case_interactions) - set(community_case_interactions))"
   ]
  },
  {
   "cell_type": "code",
   "execution_count": 46,
   "id": "68505527",
   "metadata": {
    "scrolled": true
   },
   "outputs": [
    {
     "data": {
      "text/html": [
       "<div>\n",
       "<style scoped>\n",
       "    .dataframe tbody tr th:only-of-type {\n",
       "        vertical-align: middle;\n",
       "    }\n",
       "\n",
       "    .dataframe tbody tr th {\n",
       "        vertical-align: top;\n",
       "    }\n",
       "\n",
       "    .dataframe thead th {\n",
       "        text-align: right;\n",
       "    }\n",
       "</style>\n",
       "<table border=\"1\" class=\"dataframe\">\n",
       "  <thead>\n",
       "    <tr style=\"text-align: right;\">\n",
       "      <th></th>\n",
       "      <th>AML-0024</th>\n",
       "      <th>AML-0160</th>\n",
       "      <th>AML-0693</th>\n",
       "      <th>AML-1371</th>\n",
       "      <th>AML-2123</th>\n",
       "      <th>AML-3133</th>\n",
       "      <th>AML-4340</th>\n",
       "    </tr>\n",
       "    <tr>\n",
       "      <th>interaction</th>\n",
       "      <th></th>\n",
       "      <th></th>\n",
       "      <th></th>\n",
       "      <th></th>\n",
       "      <th></th>\n",
       "      <th></th>\n",
       "      <th></th>\n",
       "    </tr>\n",
       "  </thead>\n",
       "  <tbody>\n",
       "    <tr>\n",
       "      <th>B:GNAS_B:ADRB2</th>\n",
       "      <td>0.438</td>\n",
       "      <td>0.0</td>\n",
       "      <td>0.369</td>\n",
       "      <td>0.488</td>\n",
       "      <td>0.000</td>\n",
       "      <td>0.000</td>\n",
       "      <td>0.518</td>\n",
       "    </tr>\n",
       "    <tr>\n",
       "      <th>B:GNAS_Ery:ADRB2</th>\n",
       "      <td>0.446</td>\n",
       "      <td>0.0</td>\n",
       "      <td>0.000</td>\n",
       "      <td>0.000</td>\n",
       "      <td>0.524</td>\n",
       "      <td>0.000</td>\n",
       "      <td>0.000</td>\n",
       "    </tr>\n",
       "    <tr>\n",
       "      <th>DC:GNAS_B:ADRB2</th>\n",
       "      <td>0.522</td>\n",
       "      <td>0.0</td>\n",
       "      <td>0.498</td>\n",
       "      <td>0.517</td>\n",
       "      <td>0.000</td>\n",
       "      <td>0.000</td>\n",
       "      <td>0.605</td>\n",
       "    </tr>\n",
       "    <tr>\n",
       "      <th>DC:GNAS_Ery:ADRB2</th>\n",
       "      <td>0.529</td>\n",
       "      <td>0.0</td>\n",
       "      <td>0.000</td>\n",
       "      <td>0.000</td>\n",
       "      <td>0.000</td>\n",
       "      <td>0.000</td>\n",
       "      <td>0.000</td>\n",
       "    </tr>\n",
       "    <tr>\n",
       "      <th>Ery:GNAS_B:ADRB2</th>\n",
       "      <td>0.360</td>\n",
       "      <td>0.0</td>\n",
       "      <td>0.316</td>\n",
       "      <td>0.324</td>\n",
       "      <td>0.000</td>\n",
       "      <td>0.000</td>\n",
       "      <td>0.000</td>\n",
       "    </tr>\n",
       "    <tr>\n",
       "      <th>...</th>\n",
       "      <td>...</td>\n",
       "      <td>...</td>\n",
       "      <td>...</td>\n",
       "      <td>...</td>\n",
       "      <td>...</td>\n",
       "      <td>...</td>\n",
       "      <td>...</td>\n",
       "    </tr>\n",
       "    <tr>\n",
       "      <th>Gran:COL4A5_NK:DDR2</th>\n",
       "      <td>0.000</td>\n",
       "      <td>0.0</td>\n",
       "      <td>0.000</td>\n",
       "      <td>0.007</td>\n",
       "      <td>0.000</td>\n",
       "      <td>0.000</td>\n",
       "      <td>0.000</td>\n",
       "    </tr>\n",
       "    <tr>\n",
       "      <th>HSPC:COL4A5_NK:DDR2</th>\n",
       "      <td>0.000</td>\n",
       "      <td>0.0</td>\n",
       "      <td>0.000</td>\n",
       "      <td>0.024</td>\n",
       "      <td>0.000</td>\n",
       "      <td>0.000</td>\n",
       "      <td>0.035</td>\n",
       "    </tr>\n",
       "    <tr>\n",
       "      <th>Gran:COL4A5_NK:CD47</th>\n",
       "      <td>0.000</td>\n",
       "      <td>0.0</td>\n",
       "      <td>0.000</td>\n",
       "      <td>0.259</td>\n",
       "      <td>0.000</td>\n",
       "      <td>0.000</td>\n",
       "      <td>0.000</td>\n",
       "    </tr>\n",
       "    <tr>\n",
       "      <th>Mono:COL4A5_NK:CD47</th>\n",
       "      <td>0.000</td>\n",
       "      <td>0.0</td>\n",
       "      <td>0.000</td>\n",
       "      <td>0.000</td>\n",
       "      <td>0.000</td>\n",
       "      <td>0.106</td>\n",
       "      <td>0.000</td>\n",
       "    </tr>\n",
       "    <tr>\n",
       "      <th>T:COL4A5_NK:CD47</th>\n",
       "      <td>0.000</td>\n",
       "      <td>0.0</td>\n",
       "      <td>0.000</td>\n",
       "      <td>0.000</td>\n",
       "      <td>0.000</td>\n",
       "      <td>0.103</td>\n",
       "      <td>0.000</td>\n",
       "    </tr>\n",
       "  </tbody>\n",
       "</table>\n",
       "<p>87205 rows × 7 columns</p>\n",
       "</div>"
      ],
      "text/plain": [
       "                     AML-0024  AML-0160  AML-0693  AML-1371  AML-2123  \\\n",
       "interaction                                                             \n",
       "B:GNAS_B:ADRB2          0.438       0.0     0.369     0.488     0.000   \n",
       "B:GNAS_Ery:ADRB2        0.446       0.0     0.000     0.000     0.524   \n",
       "DC:GNAS_B:ADRB2         0.522       0.0     0.498     0.517     0.000   \n",
       "DC:GNAS_Ery:ADRB2       0.529       0.0     0.000     0.000     0.000   \n",
       "Ery:GNAS_B:ADRB2        0.360       0.0     0.316     0.324     0.000   \n",
       "...                       ...       ...       ...       ...       ...   \n",
       "Gran:COL4A5_NK:DDR2     0.000       0.0     0.000     0.007     0.000   \n",
       "HSPC:COL4A5_NK:DDR2     0.000       0.0     0.000     0.024     0.000   \n",
       "Gran:COL4A5_NK:CD47     0.000       0.0     0.000     0.259     0.000   \n",
       "Mono:COL4A5_NK:CD47     0.000       0.0     0.000     0.000     0.000   \n",
       "T:COL4A5_NK:CD47        0.000       0.0     0.000     0.000     0.000   \n",
       "\n",
       "                     AML-3133  AML-4340  \n",
       "interaction                              \n",
       "B:GNAS_B:ADRB2          0.000     0.518  \n",
       "B:GNAS_Ery:ADRB2        0.000     0.000  \n",
       "DC:GNAS_B:ADRB2         0.000     0.605  \n",
       "DC:GNAS_Ery:ADRB2       0.000     0.000  \n",
       "Ery:GNAS_B:ADRB2        0.000     0.000  \n",
       "...                       ...       ...  \n",
       "Gran:COL4A5_NK:DDR2     0.000     0.000  \n",
       "HSPC:COL4A5_NK:DDR2     0.000     0.035  \n",
       "Gran:COL4A5_NK:CD47     0.000     0.000  \n",
       "Mono:COL4A5_NK:CD47     0.106     0.000  \n",
       "T:COL4A5_NK:CD47        0.103     0.000  \n",
       "\n",
       "[87205 rows x 7 columns]"
      ]
     },
     "execution_count": 46,
     "metadata": {},
     "output_type": "execute_result"
    }
   ],
   "source": [
    "cpdb_case[cpdb_case.index.isin(not_in_commu)]"
   ]
  },
  {
   "cell_type": "code",
   "execution_count": 47,
   "id": "8ed3efc8",
   "metadata": {},
   "outputs": [
    {
     "data": {
      "text/plain": [
       "98100"
      ]
     },
     "execution_count": 47,
     "metadata": {},
     "output_type": "execute_result"
    }
   ],
   "source": [
    "len(cpdb_case)"
   ]
  },
  {
   "cell_type": "code",
   "execution_count": null,
   "id": "d5470e0a",
   "metadata": {},
   "outputs": [],
   "source": []
  },
  {
   "cell_type": "code",
   "execution_count": 48,
   "id": "33a5c85e",
   "metadata": {},
   "outputs": [],
   "source": [
    "# Below function \n",
    "# Standardizes the values in the dataframe by subtracting the mean and dividing by the standard deviation.\n",
    "# Calculates the mean value of each row and adds it as a new column to the dataframe.\n",
    "# Calculates the overall mean value of the mean column.\n",
    "# Returns a new dataframe that includes only rows with mean values greater than the overall mean value.\n",
    "\n",
    "def drop_low(df):\n",
    "    # Standardize the values in the dataframe by subtracting the mean and dividing by the standard deviation\n",
    "    df = (df - df.mean()) / df.std()\n",
    "    \n",
    "    # Calculate the mean value of each row and add it as a new column to the dataframe\n",
    "    df['mean'] = df.mean(axis=1)\n",
    "    \n",
    "    # Calculate the overall mean value of the mean column\n",
    "    mean_value = df['mean'].mean()\n",
    "    \n",
    "    # Return a new dataframe that includes only rows with mean values greater than the overall mean value\n",
    "    return df[df['mean'] > mean_value]\n"
   ]
  },
  {
   "cell_type": "code",
   "execution_count": 49,
   "id": "46be7509",
   "metadata": {},
   "outputs": [],
   "source": [
    "# apply the function above\n",
    "cpdb_case_norm=drop_low(cpdb_case)\n",
    "nnet_case_norm=drop_low(nnet_case)\n",
    "community_case_norm=drop_low(community_case)"
   ]
  },
  {
   "cell_type": "code",
   "execution_count": 50,
   "id": "21d8bcfd",
   "metadata": {},
   "outputs": [],
   "source": [
    "# apply the function above\n",
    "cpdb_control_norm=drop_low(cpdb_control)\n",
    "nnet_control_norm=drop_low(nnet_control)\n",
    "community_control_norm=drop_low(community_control)"
   ]
  },
  {
   "cell_type": "code",
   "execution_count": 51,
   "id": "51f5688b",
   "metadata": {},
   "outputs": [],
   "source": [
    "cpdb_case_interactions = cpdb_case_norm.index.values.tolist()\n",
    "nnet_case_interactions = nnet_case_norm.index.values.tolist()\n",
    "community_case_interactions = community_case_norm.index.values.tolist()"
   ]
  },
  {
   "cell_type": "code",
   "execution_count": 52,
   "id": "d4b76ef8",
   "metadata": {},
   "outputs": [],
   "source": [
    "cpdb_control_interactions = cpdb_control_norm.index.values.tolist()\n",
    "nnet_control_interactions = nnet_control_norm.index.values.tolist()\n",
    "community_control_interactions = community_control_norm.index.values.tolist()"
   ]
  },
  {
   "cell_type": "code",
   "execution_count": 53,
   "id": "d2e0a75e",
   "metadata": {},
   "outputs": [
    {
     "data": {
      "image/png": "[encoded data removed]",
      "text/plain": [
       "<Figure size 432x288 with 1 Axes>"
      ]
     },
     "metadata": {},
     "output_type": "display_data"
    }
   ],
   "source": [
    "venn3([set(community_case_interactions),set(nnet_case_interactions), set(cpdb_case_interactions)], (\"community\",'NicheNet', 'CPDB'))\n",
    "plt.savefig('compare_case_interactions_norm.png')\n"
   ]
  },
  {
   "cell_type": "code",
   "execution_count": 54,
   "id": "87b1aed6",
   "metadata": {},
   "outputs": [
    {
     "data": {
      "image/png": "[encoded data removed]",
      "text/plain": [
       "<Figure size 432x288 with 1 Axes>"
      ]
     },
     "metadata": {},
     "output_type": "display_data"
    }
   ],
   "source": [
    "venn3([set(community_control_interactions),set(nnet_control_interactions), set(cpdb_control_interactions)], (\"community\",'NicheNet', 'CPDB'))\n",
    "plt.savefig('compare_control_interactions_norm.png')\n"
   ]
  },
  {
   "cell_type": "code",
   "execution_count": 55,
   "id": "cc36754d",
   "metadata": {},
   "outputs": [],
   "source": [
    "cpdb_case_norm=cpdb_case_norm.drop(\"mean\", axis=1)\n",
    "cpdb_control_norm=cpdb_control_norm.drop(\"mean\", axis=1)"
   ]
  },
  {
   "cell_type": "code",
   "execution_count": 56,
   "id": "82ced0b8",
   "metadata": {},
   "outputs": [],
   "source": [
    "# Each column contains a list of two values: the number of interactions in the case group and the control group\n",
    "\n",
    "\n",
    "plotdata = pd.DataFrame({\n",
    "\n",
    "    \"community\":[len(community_case_norm),len(community_control_norm)],\n",
    "\n",
    "    \"NicheNet\":[len(nnet_case_norm),len(nnet_control_norm)],\n",
    "\n",
    "    \"CPDB\":[len(cpdb_case_norm),len(cpdb_control_norm)]},\n",
    "\n",
    "    index=[\"case\", \"control\"])"
   ]
  },
  {
   "cell_type": "code",
   "execution_count": 57,
   "id": "2e52eaf4",
   "metadata": {},
   "outputs": [
    {
     "data": {
      "text/html": [
       "<div>\n",
       "<style scoped>\n",
       "    .dataframe tbody tr th:only-of-type {\n",
       "        vertical-align: middle;\n",
       "    }\n",
       "\n",
       "    .dataframe tbody tr th {\n",
       "        vertical-align: top;\n",
       "    }\n",
       "\n",
       "    .dataframe thead th {\n",
       "        text-align: right;\n",
       "    }\n",
       "</style>\n",
       "<table border=\"1\" class=\"dataframe\">\n",
       "  <thead>\n",
       "    <tr style=\"text-align: right;\">\n",
       "      <th></th>\n",
       "      <th>community</th>\n",
       "      <th>NicheNet</th>\n",
       "      <th>CPDB</th>\n",
       "    </tr>\n",
       "  </thead>\n",
       "  <tbody>\n",
       "    <tr>\n",
       "      <th>case</th>\n",
       "      <td>5467</td>\n",
       "      <td>5617</td>\n",
       "      <td>26354</td>\n",
       "    </tr>\n",
       "    <tr>\n",
       "      <th>control</th>\n",
       "      <td>4596</td>\n",
       "      <td>4068</td>\n",
       "      <td>26755</td>\n",
       "    </tr>\n",
       "  </tbody>\n",
       "</table>\n",
       "</div>"
      ],
      "text/plain": [
       "         community  NicheNet   CPDB\n",
       "case          5467      5617  26354\n",
       "control       4596      4068  26755"
      ]
     },
     "execution_count": 57,
     "metadata": {},
     "output_type": "execute_result"
    }
   ],
   "source": [
    "plotdata"
   ]
  },
  {
   "cell_type": "code",
   "execution_count": 58,
   "id": "e0482a3e",
   "metadata": {},
   "outputs": [
    {
     "data": {
      "text/plain": [
       "Text(0, 0.5, '# of interactions')"
      ]
     },
     "execution_count": 58,
     "metadata": {},
     "output_type": "execute_result"
    },
    {
     "data": {
      "image/png": "[encoded data removed]",
      "text/plain": [
       "<Figure size 1080x576 with 1 Axes>"
      ]
     },
     "metadata": {
      "needs_background": "light"
     },
     "output_type": "display_data"
    }
   ],
   "source": [
    "plotdata.plot(kind=\"bar\",figsize=(15, 8))\n",
    "\n",
    "plt.title(\"comparing raw results\")\n",
    "\n",
    "plt.xlabel(\"tools\")\n",
    "\n",
    "plt.ylabel(\"# of interactions\")"
   ]
  },
  {
   "cell_type": "code",
   "execution_count": 59,
   "id": "aa73e6e5",
   "metadata": {},
   "outputs": [
    {
     "data": {
      "text/html": [
       "<div>\n",
       "<style scoped>\n",
       "    .dataframe tbody tr th:only-of-type {\n",
       "        vertical-align: middle;\n",
       "    }\n",
       "\n",
       "    .dataframe tbody tr th {\n",
       "        vertical-align: top;\n",
       "    }\n",
       "\n",
       "    .dataframe thead th {\n",
       "        text-align: right;\n",
       "    }\n",
       "</style>\n",
       "<table border=\"1\" class=\"dataframe\">\n",
       "  <thead>\n",
       "    <tr style=\"text-align: right;\">\n",
       "      <th></th>\n",
       "      <th>healthy-1</th>\n",
       "      <th>healthy-2</th>\n",
       "      <th>healthy-3</th>\n",
       "      <th>healthy-4</th>\n",
       "      <th>healthy-4003</th>\n",
       "      <th>healthy-5</th>\n",
       "    </tr>\n",
       "    <tr>\n",
       "      <th>interaction</th>\n",
       "      <th></th>\n",
       "      <th></th>\n",
       "      <th></th>\n",
       "      <th></th>\n",
       "      <th></th>\n",
       "      <th></th>\n",
       "    </tr>\n",
       "  </thead>\n",
       "  <tbody>\n",
       "    <tr>\n",
       "      <th>B:GNAS_B:ADRB2</th>\n",
       "      <td>0.457</td>\n",
       "      <td>0.524</td>\n",
       "      <td>0.461</td>\n",
       "      <td>0.450</td>\n",
       "      <td>0.353</td>\n",
       "      <td>0.350</td>\n",
       "    </tr>\n",
       "    <tr>\n",
       "      <th>B:GNAS_DC:ADRB2</th>\n",
       "      <td>0.484</td>\n",
       "      <td>0.536</td>\n",
       "      <td>0.466</td>\n",
       "      <td>0.485</td>\n",
       "      <td>0.368</td>\n",
       "      <td>0.356</td>\n",
       "    </tr>\n",
       "    <tr>\n",
       "      <th>B:GNAS_Ery:ADRB2</th>\n",
       "      <td>0.000</td>\n",
       "      <td>0.000</td>\n",
       "      <td>0.000</td>\n",
       "      <td>0.000</td>\n",
       "      <td>0.000</td>\n",
       "      <td>0.350</td>\n",
       "    </tr>\n",
       "    <tr>\n",
       "      <th>B:GNAS_Gran:ADRB2</th>\n",
       "      <td>0.478</td>\n",
       "      <td>0.546</td>\n",
       "      <td>0.480</td>\n",
       "      <td>0.469</td>\n",
       "      <td>0.390</td>\n",
       "      <td>0.365</td>\n",
       "    </tr>\n",
       "    <tr>\n",
       "      <th>B:GNAS_HSPC:ADRB2</th>\n",
       "      <td>0.458</td>\n",
       "      <td>0.521</td>\n",
       "      <td>0.462</td>\n",
       "      <td>0.445</td>\n",
       "      <td>0.369</td>\n",
       "      <td>0.357</td>\n",
       "    </tr>\n",
       "    <tr>\n",
       "      <th>...</th>\n",
       "      <td>...</td>\n",
       "      <td>...</td>\n",
       "      <td>...</td>\n",
       "      <td>...</td>\n",
       "      <td>...</td>\n",
       "      <td>...</td>\n",
       "    </tr>\n",
       "    <tr>\n",
       "      <th>T:BMP3_Gran:ACVR1B</th>\n",
       "      <td>0.021</td>\n",
       "      <td>0.000</td>\n",
       "      <td>0.000</td>\n",
       "      <td>0.000</td>\n",
       "      <td>0.028</td>\n",
       "      <td>0.000</td>\n",
       "    </tr>\n",
       "    <tr>\n",
       "      <th>T:BMP3_HSPC:ACVR1B</th>\n",
       "      <td>0.012</td>\n",
       "      <td>0.000</td>\n",
       "      <td>0.000</td>\n",
       "      <td>0.000</td>\n",
       "      <td>0.021</td>\n",
       "      <td>0.000</td>\n",
       "    </tr>\n",
       "    <tr>\n",
       "      <th>T:BMP3_Mono:ACVR1B</th>\n",
       "      <td>0.027</td>\n",
       "      <td>0.000</td>\n",
       "      <td>0.000</td>\n",
       "      <td>0.000</td>\n",
       "      <td>0.021</td>\n",
       "      <td>0.000</td>\n",
       "    </tr>\n",
       "    <tr>\n",
       "      <th>T:BMP3_NK:ACVR1B</th>\n",
       "      <td>0.007</td>\n",
       "      <td>0.000</td>\n",
       "      <td>0.000</td>\n",
       "      <td>0.000</td>\n",
       "      <td>0.001</td>\n",
       "      <td>0.000</td>\n",
       "    </tr>\n",
       "    <tr>\n",
       "      <th>T:BMP3_T:ACVR1B</th>\n",
       "      <td>0.010</td>\n",
       "      <td>0.000</td>\n",
       "      <td>0.000</td>\n",
       "      <td>0.000</td>\n",
       "      <td>0.005</td>\n",
       "      <td>0.000</td>\n",
       "    </tr>\n",
       "  </tbody>\n",
       "</table>\n",
       "<p>98602 rows × 6 columns</p>\n",
       "</div>"
      ],
      "text/plain": [
       "                    healthy-1  healthy-2  healthy-3  healthy-4  healthy-4003  \\\n",
       "interaction                                                                    \n",
       "B:GNAS_B:ADRB2          0.457      0.524      0.461      0.450         0.353   \n",
       "B:GNAS_DC:ADRB2         0.484      0.536      0.466      0.485         0.368   \n",
       "B:GNAS_Ery:ADRB2        0.000      0.000      0.000      0.000         0.000   \n",
       "B:GNAS_Gran:ADRB2       0.478      0.546      0.480      0.469         0.390   \n",
       "B:GNAS_HSPC:ADRB2       0.458      0.521      0.462      0.445         0.369   \n",
       "...                       ...        ...        ...        ...           ...   \n",
       "T:BMP3_Gran:ACVR1B      0.021      0.000      0.000      0.000         0.028   \n",
       "T:BMP3_HSPC:ACVR1B      0.012      0.000      0.000      0.000         0.021   \n",
       "T:BMP3_Mono:ACVR1B      0.027      0.000      0.000      0.000         0.021   \n",
       "T:BMP3_NK:ACVR1B        0.007      0.000      0.000      0.000         0.001   \n",
       "T:BMP3_T:ACVR1B         0.010      0.000      0.000      0.000         0.005   \n",
       "\n",
       "                    healthy-5  \n",
       "interaction                    \n",
       "B:GNAS_B:ADRB2          0.350  \n",
       "B:GNAS_DC:ADRB2         0.356  \n",
       "B:GNAS_Ery:ADRB2        0.350  \n",
       "B:GNAS_Gran:ADRB2       0.365  \n",
       "B:GNAS_HSPC:ADRB2       0.357  \n",
       "...                       ...  \n",
       "T:BMP3_Gran:ACVR1B      0.000  \n",
       "T:BMP3_HSPC:ACVR1B      0.000  \n",
       "T:BMP3_Mono:ACVR1B      0.000  \n",
       "T:BMP3_NK:ACVR1B        0.000  \n",
       "T:BMP3_T:ACVR1B         0.000  \n",
       "\n",
       "[98602 rows x 6 columns]"
      ]
     },
     "execution_count": 59,
     "metadata": {},
     "output_type": "execute_result"
    }
   ],
   "source": [
    "cpdb_control"
   ]
  },
  {
   "cell_type": "code",
   "execution_count": 60,
   "id": "305e121a",
   "metadata": {},
   "outputs": [
    {
     "data": {
      "text/html": [
       "<div>\n",
       "<style scoped>\n",
       "    .dataframe tbody tr th:only-of-type {\n",
       "        vertical-align: middle;\n",
       "    }\n",
       "\n",
       "    .dataframe tbody tr th {\n",
       "        vertical-align: top;\n",
       "    }\n",
       "\n",
       "    .dataframe thead th {\n",
       "        text-align: right;\n",
       "    }\n",
       "</style>\n",
       "<table border=\"1\" class=\"dataframe\">\n",
       "  <thead>\n",
       "    <tr style=\"text-align: right;\">\n",
       "      <th></th>\n",
       "      <th>AML-0024</th>\n",
       "      <th>AML-0160</th>\n",
       "      <th>AML-0693</th>\n",
       "      <th>AML-1371</th>\n",
       "      <th>AML-2123</th>\n",
       "      <th>AML-3133</th>\n",
       "      <th>AML-4340</th>\n",
       "    </tr>\n",
       "    <tr>\n",
       "      <th>interaction</th>\n",
       "      <th></th>\n",
       "      <th></th>\n",
       "      <th></th>\n",
       "      <th></th>\n",
       "      <th></th>\n",
       "      <th></th>\n",
       "      <th></th>\n",
       "    </tr>\n",
       "  </thead>\n",
       "  <tbody>\n",
       "    <tr>\n",
       "      <th>B:GNAS_B:ADRB2</th>\n",
       "      <td>1.624994</td>\n",
       "      <td>-0.402515</td>\n",
       "      <td>1.642566</td>\n",
       "      <td>1.684889</td>\n",
       "      <td>-0.428483</td>\n",
       "      <td>-0.484927</td>\n",
       "      <td>2.173536</td>\n",
       "    </tr>\n",
       "    <tr>\n",
       "      <th>B:GNAS_DC:ADRB2</th>\n",
       "      <td>-0.494593</td>\n",
       "      <td>3.087017</td>\n",
       "      <td>1.696035</td>\n",
       "      <td>2.097871</td>\n",
       "      <td>-0.428483</td>\n",
       "      <td>-0.484927</td>\n",
       "      <td>2.168403</td>\n",
       "    </tr>\n",
       "    <tr>\n",
       "      <th>B:GNAS_Ery:ADRB2</th>\n",
       "      <td>1.663707</td>\n",
       "      <td>-0.402515</td>\n",
       "      <td>-0.549688</td>\n",
       "      <td>-0.579550</td>\n",
       "      <td>2.484065</td>\n",
       "      <td>-0.484927</td>\n",
       "      <td>-0.485619</td>\n",
       "    </tr>\n",
       "    <tr>\n",
       "      <th>B:GNAS_Gran:ADRB2</th>\n",
       "      <td>1.654029</td>\n",
       "      <td>3.129205</td>\n",
       "      <td>1.779210</td>\n",
       "      <td>2.209236</td>\n",
       "      <td>-0.428483</td>\n",
       "      <td>-0.484927</td>\n",
       "      <td>-0.485619</td>\n",
       "    </tr>\n",
       "    <tr>\n",
       "      <th>B:GNAS_HSPC:ADRB2</th>\n",
       "      <td>-0.494593</td>\n",
       "      <td>-0.402515</td>\n",
       "      <td>1.672271</td>\n",
       "      <td>2.116432</td>\n",
       "      <td>2.484065</td>\n",
       "      <td>1.804884</td>\n",
       "      <td>2.168403</td>\n",
       "    </tr>\n",
       "    <tr>\n",
       "      <th>...</th>\n",
       "      <td>...</td>\n",
       "      <td>...</td>\n",
       "      <td>...</td>\n",
       "      <td>...</td>\n",
       "      <td>...</td>\n",
       "      <td>...</td>\n",
       "      <td>...</td>\n",
       "    </tr>\n",
       "    <tr>\n",
       "      <th>NK:ITGB1_B:COL4A4</th>\n",
       "      <td>-0.494593</td>\n",
       "      <td>-0.402515</td>\n",
       "      <td>0.721700</td>\n",
       "      <td>1.169822</td>\n",
       "      <td>0.966650</td>\n",
       "      <td>0.303369</td>\n",
       "      <td>-0.485619</td>\n",
       "    </tr>\n",
       "    <tr>\n",
       "      <th>NK:CD44_B:COL4A4</th>\n",
       "      <td>-0.494593</td>\n",
       "      <td>-0.402515</td>\n",
       "      <td>0.139476</td>\n",
       "      <td>1.141980</td>\n",
       "      <td>1.389081</td>\n",
       "      <td>0.753823</td>\n",
       "      <td>-0.485619</td>\n",
       "    </tr>\n",
       "    <tr>\n",
       "      <th>T:CXCR6_Mono:CXCL16</th>\n",
       "      <td>-0.494593</td>\n",
       "      <td>-0.402515</td>\n",
       "      <td>0.133534</td>\n",
       "      <td>-0.073764</td>\n",
       "      <td>0.366354</td>\n",
       "      <td>0.802086</td>\n",
       "      <td>0.351142</td>\n",
       "    </tr>\n",
       "    <tr>\n",
       "      <th>NK:GZMB_HSPC:CHRM3</th>\n",
       "      <td>-0.494593</td>\n",
       "      <td>-0.402515</td>\n",
       "      <td>1.963383</td>\n",
       "      <td>-0.579550</td>\n",
       "      <td>2.061635</td>\n",
       "      <td>2.132000</td>\n",
       "      <td>2.076000</td>\n",
       "    </tr>\n",
       "    <tr>\n",
       "      <th>HSPC:COL4A5_NK:CD47</th>\n",
       "      <td>-0.494593</td>\n",
       "      <td>-0.402515</td>\n",
       "      <td>-0.549688</td>\n",
       "      <td>0.701157</td>\n",
       "      <td>0.494194</td>\n",
       "      <td>0.255106</td>\n",
       "      <td>0.351142</td>\n",
       "    </tr>\n",
       "  </tbody>\n",
       "</table>\n",
       "<p>26354 rows × 7 columns</p>\n",
       "</div>"
      ],
      "text/plain": [
       "                     AML-0024  AML-0160  AML-0693  AML-1371  AML-2123  \\\n",
       "interaction                                                             \n",
       "B:GNAS_B:ADRB2       1.624994 -0.402515  1.642566  1.684889 -0.428483   \n",
       "B:GNAS_DC:ADRB2     -0.494593  3.087017  1.696035  2.097871 -0.428483   \n",
       "B:GNAS_Ery:ADRB2     1.663707 -0.402515 -0.549688 -0.579550  2.484065   \n",
       "B:GNAS_Gran:ADRB2    1.654029  3.129205  1.779210  2.209236 -0.428483   \n",
       "B:GNAS_HSPC:ADRB2   -0.494593 -0.402515  1.672271  2.116432  2.484065   \n",
       "...                       ...       ...       ...       ...       ...   \n",
       "NK:ITGB1_B:COL4A4   -0.494593 -0.402515  0.721700  1.169822  0.966650   \n",
       "NK:CD44_B:COL4A4    -0.494593 -0.402515  0.139476  1.141980  1.389081   \n",
       "T:CXCR6_Mono:CXCL16 -0.494593 -0.402515  0.133534 -0.073764  0.366354   \n",
       "NK:GZMB_HSPC:CHRM3  -0.494593 -0.402515  1.963383 -0.579550  2.061635   \n",
       "HSPC:COL4A5_NK:CD47 -0.494593 -0.402515 -0.549688  0.701157  0.494194   \n",
       "\n",
       "                     AML-3133  AML-4340  \n",
       "interaction                              \n",
       "B:GNAS_B:ADRB2      -0.484927  2.173536  \n",
       "B:GNAS_DC:ADRB2     -0.484927  2.168403  \n",
       "B:GNAS_Ery:ADRB2    -0.484927 -0.485619  \n",
       "B:GNAS_Gran:ADRB2   -0.484927 -0.485619  \n",
       "B:GNAS_HSPC:ADRB2    1.804884  2.168403  \n",
       "...                       ...       ...  \n",
       "NK:ITGB1_B:COL4A4    0.303369 -0.485619  \n",
       "NK:CD44_B:COL4A4     0.753823 -0.485619  \n",
       "T:CXCR6_Mono:CXCL16  0.802086  0.351142  \n",
       "NK:GZMB_HSPC:CHRM3   2.132000  2.076000  \n",
       "HSPC:COL4A5_NK:CD47  0.255106  0.351142  \n",
       "\n",
       "[26354 rows x 7 columns]"
      ]
     },
     "execution_count": 60,
     "metadata": {},
     "output_type": "execute_result"
    }
   ],
   "source": [
    "cpdb_case_norm"
   ]
  },
  {
   "cell_type": "code",
   "execution_count": null,
   "id": "c7e07046",
   "metadata": {},
   "outputs": [],
   "source": []
  }
 ],
 "metadata": {
  "kernelspec": {
   "display_name": "Python 3 (ipykernel)",
   "language": "python",
   "name": "python3"
  },
  "language_info": {
   "codemirror_mode": {
    "name": "ipython",
    "version": 3
   },
   "file_extension": ".py",
   "mimetype": "text/x-python",
   "name": "python",
   "nbconvert_exporter": "python",
   "pygments_lexer": "ipython3",
   "version": "3.10.6"
  }
 },
 "nbformat": 4,
 "nbformat_minor": 5
}
