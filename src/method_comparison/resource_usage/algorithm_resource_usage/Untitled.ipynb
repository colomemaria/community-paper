{
 "cells": [
  {
   "cell_type": "code",
   "execution_count": 22,
   "id": "f7e117e0-619a-4c2f-bd80-ce1fca5580f5",
   "metadata": {},
   "outputs": [],
   "source": [
    "import pandas as pd"
   ]
  },
  {
   "cell_type": "code",
   "execution_count": 25,
   "id": "891d98a8-ca35-47b0-bc20-8161594e3cb9",
   "metadata": {},
   "outputs": [],
   "source": [
    "file = pd.read_csv(\"CellChat/activity_lasry_3_3.csv.gz.txt\", index_col=False)"
   ]
  },
  {
   "cell_type": "code",
   "execution_count": 26,
   "id": "1073bcb1-b764-4f93-be83-201af7cae0cc",
   "metadata": {},
   "outputs": [
    {
     "data": {
      "text/html": [
       "<div>\n",
       "<style scoped>\n",
       "    .dataframe tbody tr th:only-of-type {\n",
       "        vertical-align: middle;\n",
       "    }\n",
       "\n",
       "    .dataframe tbody tr th {\n",
       "        vertical-align: top;\n",
       "    }\n",
       "\n",
       "    .dataframe thead th {\n",
       "        text-align: right;\n",
       "    }\n",
       "</style>\n",
       "<table border=\"1\" class=\"dataframe\">\n",
       "  <thead>\n",
       "    <tr style=\"text-align: right;\">\n",
       "      <th></th>\n",
       "      <th>Elapsed_time</th>\n",
       "      <th>CPU</th>\n",
       "      <th>Real_MB</th>\n",
       "      <th>Virtual_MB</th>\n",
       "    </tr>\n",
       "  </thead>\n",
       "  <tbody>\n",
       "    <tr>\n",
       "      <th>0</th>\n",
       "      <td>0.000</td>\n",
       "      <td>0.0</td>\n",
       "      <td>32.246</td>\n",
       "      <td>8416.711</td>\n",
       "    </tr>\n",
       "    <tr>\n",
       "      <th>1</th>\n",
       "      <td>1.011</td>\n",
       "      <td>90.0</td>\n",
       "      <td>106.477</td>\n",
       "      <td>8410.109</td>\n",
       "    </tr>\n",
       "    <tr>\n",
       "      <th>2</th>\n",
       "      <td>2.022</td>\n",
       "      <td>86.1</td>\n",
       "      <td>123.824</td>\n",
       "      <td>8495.691</td>\n",
       "    </tr>\n",
       "    <tr>\n",
       "      <th>3</th>\n",
       "      <td>3.042</td>\n",
       "      <td>94.1</td>\n",
       "      <td>203.441</td>\n",
       "      <td>8578.309</td>\n",
       "    </tr>\n",
       "    <tr>\n",
       "      <th>4</th>\n",
       "      <td>4.059</td>\n",
       "      <td>98.3</td>\n",
       "      <td>321.555</td>\n",
       "      <td>8697.074</td>\n",
       "    </tr>\n",
       "    <tr>\n",
       "      <th>...</th>\n",
       "      <td>...</td>\n",
       "      <td>...</td>\n",
       "      <td>...</td>\n",
       "      <td>...</td>\n",
       "    </tr>\n",
       "    <tr>\n",
       "      <th>531</th>\n",
       "      <td>541.512</td>\n",
       "      <td>100.0</td>\n",
       "      <td>8520.695</td>\n",
       "      <td>18048.078</td>\n",
       "    </tr>\n",
       "    <tr>\n",
       "      <th>532</th>\n",
       "      <td>542.532</td>\n",
       "      <td>100.0</td>\n",
       "      <td>8520.695</td>\n",
       "      <td>18048.078</td>\n",
       "    </tr>\n",
       "    <tr>\n",
       "      <th>533</th>\n",
       "      <td>543.552</td>\n",
       "      <td>100.0</td>\n",
       "      <td>8520.695</td>\n",
       "      <td>18048.078</td>\n",
       "    </tr>\n",
       "    <tr>\n",
       "      <th>534</th>\n",
       "      <td>544.571</td>\n",
       "      <td>100.0</td>\n",
       "      <td>8520.695</td>\n",
       "      <td>18048.078</td>\n",
       "    </tr>\n",
       "    <tr>\n",
       "      <th>535</th>\n",
       "      <td>545.591</td>\n",
       "      <td>100.0</td>\n",
       "      <td>8520.719</td>\n",
       "      <td>18048.078</td>\n",
       "    </tr>\n",
       "  </tbody>\n",
       "</table>\n",
       "<p>536 rows × 4 columns</p>\n",
       "</div>"
      ],
      "text/plain": [
       "     Elapsed_time    CPU   Real_MB  Virtual_MB\n",
       "0           0.000    0.0    32.246    8416.711\n",
       "1           1.011   90.0   106.477    8410.109\n",
       "2           2.022   86.1   123.824    8495.691\n",
       "3           3.042   94.1   203.441    8578.309\n",
       "4           4.059   98.3   321.555    8697.074\n",
       "..            ...    ...       ...         ...\n",
       "531       541.512  100.0  8520.695   18048.078\n",
       "532       542.532  100.0  8520.695   18048.078\n",
       "533       543.552  100.0  8520.695   18048.078\n",
       "534       544.571  100.0  8520.695   18048.078\n",
       "535       545.591  100.0  8520.719   18048.078\n",
       "\n",
       "[536 rows x 4 columns]"
      ]
     },
     "execution_count": 26,
     "metadata": {},
     "output_type": "execute_result"
    }
   ],
   "source": [
    "file"
   ]
  },
  {
   "cell_type": "code",
   "execution_count": 20,
   "id": "a1cc6787-9577-4a83-9d47-858c56413ab8",
   "metadata": {},
   "outputs": [
    {
     "data": {
      "text/plain": [
       "'/work/project/ladcol_011/MariaWF/cellchat/community-paper/src/method_comparison/resource_usage/algorithm_resource_usage'"
      ]
     },
     "execution_count": 20,
     "metadata": {},
     "output_type": "execute_result"
    }
   ],
   "source": [
    "pwd"
   ]
  },
  {
   "cell_type": "code",
   "execution_count": null,
   "id": "1e698ccf-758e-4a35-983b-e9bc205c2212",
   "metadata": {},
   "outputs": [],
   "source": []
  }
 ],
 "metadata": {
  "kernelspec": {
   "display_name": "Python 3 (ipykernel)",
   "language": "python",
   "name": "python3"
  },
  "language_info": {
   "codemirror_mode": {
    "name": "ipython",
    "version": 3
   },
   "file_extension": ".py",
   "mimetype": "text/x-python",
   "name": "python",
   "nbconvert_exporter": "python",
   "pygments_lexer": "ipython3",
   "version": "3.10.14"
  }
 },
 "nbformat": 4,
 "nbformat_minor": 5
}
