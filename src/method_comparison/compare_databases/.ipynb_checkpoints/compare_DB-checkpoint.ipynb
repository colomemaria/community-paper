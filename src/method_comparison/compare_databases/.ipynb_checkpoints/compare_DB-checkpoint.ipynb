{
 "cells": [
  {
   "cell_type": "markdown",
   "id": "6e9b8ef1",
   "metadata": {},
   "source": [
    "# Libraries"
   ]
  },
  {
   "cell_type": "code",
   "execution_count": 1,
   "id": "c1ff444f",
   "metadata": {},
   "outputs": [],
   "source": [
    "import pandas as pd\n",
    "import numpy as np\n",
    "from matplotlib_venn import venn2, venn2_circles, venn2_unweighted\n",
    "from matplotlib_venn import venn3, venn3_circles\n",
    "import matplotlib.pyplot as plt\n",
    "import pyreadr"
   ]
  },
  {
   "cell_type": "markdown",
   "id": "225d7699",
   "metadata": {},
   "source": [
    "# Load data"
   ]
  },
  {
   "cell_type": "code",
   "execution_count": 2,
   "id": "6a79673a",
   "metadata": {},
   "outputs": [],
   "source": [
    "community = pyreadr.read_r('inputs/LR_database.rda')"
   ]
  },
  {
   "cell_type": "code",
   "execution_count": 3,
   "id": "d38f5af9",
   "metadata": {},
   "outputs": [],
   "source": [
    "community = community[\"LR_database\"]"
   ]
  },
  {
   "cell_type": "code",
   "execution_count": 4,
   "id": "b808d75f",
   "metadata": {},
   "outputs": [
    {
     "data": {
      "text/html": [
       "<div>\n",
       "<style scoped>\n",
       "    .dataframe tbody tr th:only-of-type {\n",
       "        vertical-align: middle;\n",
       "    }\n",
       "\n",
       "    .dataframe tbody tr th {\n",
       "        vertical-align: top;\n",
       "    }\n",
       "\n",
       "    .dataframe thead th {\n",
       "        text-align: right;\n",
       "    }\n",
       "</style>\n",
       "<table border=\"1\" class=\"dataframe\">\n",
       "  <thead>\n",
       "    <tr style=\"text-align: right;\">\n",
       "      <th></th>\n",
       "      <th>Pair.Name</th>\n",
       "      <th>Ligand</th>\n",
       "      <th>Ligand.Name</th>\n",
       "      <th>Receptor</th>\n",
       "      <th>Receptor.Name</th>\n",
       "      <th>complex_pair</th>\n",
       "      <th>partner_a</th>\n",
       "      <th>partner_b</th>\n",
       "      <th>source</th>\n",
       "      <th>target</th>\n",
       "      <th>...</th>\n",
       "      <th>consensus_stimulation</th>\n",
       "      <th>consensus_inhibition</th>\n",
       "      <th>sources</th>\n",
       "      <th>references</th>\n",
       "      <th>curation_effort</th>\n",
       "      <th>n_references</th>\n",
       "      <th>n_resources</th>\n",
       "      <th>annotation_strategy</th>\n",
       "      <th>db</th>\n",
       "      <th>True_LR</th>\n",
       "    </tr>\n",
       "    <tr>\n",
       "      <th>rownames</th>\n",
       "      <th></th>\n",
       "      <th></th>\n",
       "      <th></th>\n",
       "      <th></th>\n",
       "      <th></th>\n",
       "      <th></th>\n",
       "      <th></th>\n",
       "      <th></th>\n",
       "      <th></th>\n",
       "      <th></th>\n",
       "      <th></th>\n",
       "      <th></th>\n",
       "      <th></th>\n",
       "      <th></th>\n",
       "      <th></th>\n",
       "      <th></th>\n",
       "      <th></th>\n",
       "      <th></th>\n",
       "      <th></th>\n",
       "      <th></th>\n",
       "      <th></th>\n",
       "    </tr>\n",
       "  </thead>\n",
       "  <tbody>\n",
       "    <tr>\n",
       "      <th>1</th>\n",
       "      <td>A2M_LRP1</td>\n",
       "      <td>A2M</td>\n",
       "      <td>alpha-2-macroglobulin</td>\n",
       "      <td>LRP1</td>\n",
       "      <td>LDL receptor related protein 1</td>\n",
       "      <td>NaN</td>\n",
       "      <td>P01023</td>\n",
       "      <td>Q07954</td>\n",
       "      <td>P01023</td>\n",
       "      <td>Q07954</td>\n",
       "      <td>...</td>\n",
       "      <td>1.0</td>\n",
       "      <td>0.0</td>\n",
       "      <td>AlzPathway;Baccin2019;CellTalkDB;EMBRACE;Fanto...</td>\n",
       "      <td>AlzPathway:19026743;Baccin2019:10652313;Baccin...</td>\n",
       "      <td>11.0</td>\n",
       "      <td>4.0</td>\n",
       "      <td>11</td>\n",
       "      <td>LR</td>\n",
       "      <td>both</td>\n",
       "      <td>True</td>\n",
       "    </tr>\n",
       "    <tr>\n",
       "      <th>2</th>\n",
       "      <td>ACTR2_ADRB2</td>\n",
       "      <td>ACTR2</td>\n",
       "      <td>actin related protein 2</td>\n",
       "      <td>ADRB2</td>\n",
       "      <td>adrenoceptor beta 2</td>\n",
       "      <td>NaN</td>\n",
       "      <td>P61160</td>\n",
       "      <td>P07550</td>\n",
       "      <td>P61160</td>\n",
       "      <td>P07550</td>\n",
       "      <td>...</td>\n",
       "      <td>0.0</td>\n",
       "      <td>0.0</td>\n",
       "      <td>CellTalkDB;LRdb;Reactome_LRdb</td>\n",
       "      <td>CellTalkDB:32196115</td>\n",
       "      <td>1.0</td>\n",
       "      <td>1.0</td>\n",
       "      <td>2</td>\n",
       "      <td>LR</td>\n",
       "      <td>both</td>\n",
       "      <td>True</td>\n",
       "    </tr>\n",
       "    <tr>\n",
       "      <th>3</th>\n",
       "      <td>ACTR2_LDLR</td>\n",
       "      <td>ACTR2</td>\n",
       "      <td>actin related protein 2</td>\n",
       "      <td>LDLR</td>\n",
       "      <td>low density lipoprotein receptor</td>\n",
       "      <td>NaN</td>\n",
       "      <td>P61160</td>\n",
       "      <td>P01130</td>\n",
       "      <td>P61160</td>\n",
       "      <td>P01130</td>\n",
       "      <td>...</td>\n",
       "      <td>0.0</td>\n",
       "      <td>0.0</td>\n",
       "      <td>CellTalkDB;LRdb;Reactome_LRdb</td>\n",
       "      <td>CellTalkDB:32196115</td>\n",
       "      <td>1.0</td>\n",
       "      <td>1.0</td>\n",
       "      <td>2</td>\n",
       "      <td>LR</td>\n",
       "      <td>both</td>\n",
       "      <td>True</td>\n",
       "    </tr>\n",
       "    <tr>\n",
       "      <th>4</th>\n",
       "      <td>ACTR2_LRP2</td>\n",
       "      <td>ACTR2</td>\n",
       "      <td>actin related protein 2</td>\n",
       "      <td>LRP2</td>\n",
       "      <td>LDL receptor related protein 2</td>\n",
       "      <td>NaN</td>\n",
       "      <td>P61160</td>\n",
       "      <td>P98164</td>\n",
       "      <td>P61160</td>\n",
       "      <td>P98164</td>\n",
       "      <td>...</td>\n",
       "      <td>0.0</td>\n",
       "      <td>0.0</td>\n",
       "      <td>CellTalkDB;LRdb;Reactome_LRdb</td>\n",
       "      <td>CellTalkDB:32196115</td>\n",
       "      <td>1.0</td>\n",
       "      <td>1.0</td>\n",
       "      <td>2</td>\n",
       "      <td>LR</td>\n",
       "      <td>both</td>\n",
       "      <td>True</td>\n",
       "    </tr>\n",
       "    <tr>\n",
       "      <th>5</th>\n",
       "      <td>ADAM11_CCR4</td>\n",
       "      <td>ADAM11</td>\n",
       "      <td>ADAM metallopeptidase domain 11</td>\n",
       "      <td>CCR4</td>\n",
       "      <td>C-C motif chemokine receptor 4</td>\n",
       "      <td>NaN</td>\n",
       "      <td>O75078</td>\n",
       "      <td>P51679</td>\n",
       "      <td>O75078</td>\n",
       "      <td>P51679</td>\n",
       "      <td>...</td>\n",
       "      <td>1.0</td>\n",
       "      <td>0.0</td>\n",
       "      <td>Kirouac2010</td>\n",
       "      <td>NaN</td>\n",
       "      <td>0.0</td>\n",
       "      <td>0.0</td>\n",
       "      <td>1</td>\n",
       "      <td>LR</td>\n",
       "      <td>LR</td>\n",
       "      <td>True</td>\n",
       "    </tr>\n",
       "    <tr>\n",
       "      <th>...</th>\n",
       "      <td>...</td>\n",
       "      <td>...</td>\n",
       "      <td>...</td>\n",
       "      <td>...</td>\n",
       "      <td>...</td>\n",
       "      <td>...</td>\n",
       "      <td>...</td>\n",
       "      <td>...</td>\n",
       "      <td>...</td>\n",
       "      <td>...</td>\n",
       "      <td>...</td>\n",
       "      <td>...</td>\n",
       "      <td>...</td>\n",
       "      <td>...</td>\n",
       "      <td>...</td>\n",
       "      <td>...</td>\n",
       "      <td>...</td>\n",
       "      <td>...</td>\n",
       "      <td>...</td>\n",
       "      <td>...</td>\n",
       "      <td>...</td>\n",
       "    </tr>\n",
       "    <tr>\n",
       "      <th>29481</th>\n",
       "      <td>LAMB1_CD151</td>\n",
       "      <td>LAMB1</td>\n",
       "      <td>laminin subunit beta 1</td>\n",
       "      <td>CD151</td>\n",
       "      <td>CD151 molecule (Raph blood group)</td>\n",
       "      <td>NaN</td>\n",
       "      <td>P07942</td>\n",
       "      <td>P48509</td>\n",
       "      <td>P07942</td>\n",
       "      <td>P48509</td>\n",
       "      <td>...</td>\n",
       "      <td>1.0</td>\n",
       "      <td>0.0</td>\n",
       "      <td>HPMR;Wang</td>\n",
       "      <td>HPMR:10842354;HPMR:15677332</td>\n",
       "      <td>2.0</td>\n",
       "      <td>2.0</td>\n",
       "      <td>2</td>\n",
       "      <td>curated</td>\n",
       "      <td>curated</td>\n",
       "      <td>False</td>\n",
       "    </tr>\n",
       "    <tr>\n",
       "      <th>29491</th>\n",
       "      <td>MAML2_NOTCH1</td>\n",
       "      <td>MAML2</td>\n",
       "      <td>mastermind like transcriptional coactivator 2</td>\n",
       "      <td>NOTCH1</td>\n",
       "      <td>notch receptor 1</td>\n",
       "      <td>NaN</td>\n",
       "      <td>Q8IZL2</td>\n",
       "      <td>P46531</td>\n",
       "      <td>Q8IZL2</td>\n",
       "      <td>P46531</td>\n",
       "      <td>...</td>\n",
       "      <td>1.0</td>\n",
       "      <td>0.0</td>\n",
       "      <td>HPRD;NetPath;SignaLink3;Wang</td>\n",
       "      <td>HPRD:12370315;NetPath:12370315;SignaLink3:1237...</td>\n",
       "      <td>4.0</td>\n",
       "      <td>2.0</td>\n",
       "      <td>4</td>\n",
       "      <td>curated</td>\n",
       "      <td>curated</td>\n",
       "      <td>False</td>\n",
       "    </tr>\n",
       "    <tr>\n",
       "      <th>29501</th>\n",
       "      <td>MAML2_NOTCH2</td>\n",
       "      <td>MAML2</td>\n",
       "      <td>mastermind like transcriptional coactivator 2</td>\n",
       "      <td>NOTCH2</td>\n",
       "      <td>notch receptor 2</td>\n",
       "      <td>NaN</td>\n",
       "      <td>Q8IZL2</td>\n",
       "      <td>Q04721</td>\n",
       "      <td>Q8IZL2</td>\n",
       "      <td>Q04721</td>\n",
       "      <td>...</td>\n",
       "      <td>1.0</td>\n",
       "      <td>0.0</td>\n",
       "      <td>HPRD;NetPath;SignaLink3;Wang</td>\n",
       "      <td>HPRD:12370315;NetPath:12370315;SignaLink3:1237...</td>\n",
       "      <td>4.0</td>\n",
       "      <td>2.0</td>\n",
       "      <td>4</td>\n",
       "      <td>curated</td>\n",
       "      <td>curated</td>\n",
       "      <td>False</td>\n",
       "    </tr>\n",
       "    <tr>\n",
       "      <th>29511</th>\n",
       "      <td>MAML2_NOTCH3</td>\n",
       "      <td>MAML2</td>\n",
       "      <td>mastermind like transcriptional coactivator 2</td>\n",
       "      <td>NOTCH3</td>\n",
       "      <td>notch receptor 3</td>\n",
       "      <td>NaN</td>\n",
       "      <td>Q8IZL2</td>\n",
       "      <td>Q9UM47</td>\n",
       "      <td>Q8IZL2</td>\n",
       "      <td>Q9UM47</td>\n",
       "      <td>...</td>\n",
       "      <td>1.0</td>\n",
       "      <td>0.0</td>\n",
       "      <td>HPRD;NetPath;SignaLink3;Wang</td>\n",
       "      <td>HPRD:12370315;NetPath:12370315;SignaLink3:1237...</td>\n",
       "      <td>4.0</td>\n",
       "      <td>2.0</td>\n",
       "      <td>4</td>\n",
       "      <td>curated</td>\n",
       "      <td>curated</td>\n",
       "      <td>False</td>\n",
       "    </tr>\n",
       "    <tr>\n",
       "      <th>29521</th>\n",
       "      <td>MAML2_NOTCH4</td>\n",
       "      <td>MAML2</td>\n",
       "      <td>mastermind like transcriptional coactivator 2</td>\n",
       "      <td>NOTCH4</td>\n",
       "      <td>notch receptor 4</td>\n",
       "      <td>NaN</td>\n",
       "      <td>Q8IZL2</td>\n",
       "      <td>Q99466</td>\n",
       "      <td>Q8IZL2</td>\n",
       "      <td>Q99466</td>\n",
       "      <td>...</td>\n",
       "      <td>1.0</td>\n",
       "      <td>0.0</td>\n",
       "      <td>HPRD;NetPath;SignaLink3;Wang</td>\n",
       "      <td>HPRD:12370315;NetPath:12370315;SignaLink3:1237...</td>\n",
       "      <td>4.0</td>\n",
       "      <td>2.0</td>\n",
       "      <td>4</td>\n",
       "      <td>curated</td>\n",
       "      <td>curated</td>\n",
       "      <td>False</td>\n",
       "    </tr>\n",
       "  </tbody>\n",
       "</table>\n",
       "<p>6941 rows × 26 columns</p>\n",
       "</div>"
      ],
      "text/plain": [
       "             Pair.Name  Ligand                                    Ligand.Name  \\\n",
       "rownames                                                                        \n",
       "1             A2M_LRP1     A2M                          alpha-2-macroglobulin   \n",
       "2          ACTR2_ADRB2   ACTR2                        actin related protein 2   \n",
       "3           ACTR2_LDLR   ACTR2                        actin related protein 2   \n",
       "4           ACTR2_LRP2   ACTR2                        actin related protein 2   \n",
       "5          ADAM11_CCR4  ADAM11                ADAM metallopeptidase domain 11   \n",
       "...                ...     ...                                            ...   \n",
       "29481      LAMB1_CD151   LAMB1                         laminin subunit beta 1   \n",
       "29491     MAML2_NOTCH1   MAML2  mastermind like transcriptional coactivator 2   \n",
       "29501     MAML2_NOTCH2   MAML2  mastermind like transcriptional coactivator 2   \n",
       "29511     MAML2_NOTCH3   MAML2  mastermind like transcriptional coactivator 2   \n",
       "29521     MAML2_NOTCH4   MAML2  mastermind like transcriptional coactivator 2   \n",
       "\n",
       "         Receptor                      Receptor.Name complex_pair partner_a  \\\n",
       "rownames                                                                      \n",
       "1            LRP1     LDL receptor related protein 1          NaN    P01023   \n",
       "2           ADRB2                adrenoceptor beta 2          NaN    P61160   \n",
       "3            LDLR   low density lipoprotein receptor          NaN    P61160   \n",
       "4            LRP2     LDL receptor related protein 2          NaN    P61160   \n",
       "5            CCR4     C-C motif chemokine receptor 4          NaN    O75078   \n",
       "...           ...                                ...          ...       ...   \n",
       "29481       CD151  CD151 molecule (Raph blood group)          NaN    P07942   \n",
       "29491      NOTCH1                   notch receptor 1          NaN    Q8IZL2   \n",
       "29501      NOTCH2                   notch receptor 2          NaN    Q8IZL2   \n",
       "29511      NOTCH3                   notch receptor 3          NaN    Q8IZL2   \n",
       "29521      NOTCH4                   notch receptor 4          NaN    Q8IZL2   \n",
       "\n",
       "         partner_b  source  target  ... consensus_stimulation  \\\n",
       "rownames                            ...                         \n",
       "1           Q07954  P01023  Q07954  ...                   1.0   \n",
       "2           P07550  P61160  P07550  ...                   0.0   \n",
       "3           P01130  P61160  P01130  ...                   0.0   \n",
       "4           P98164  P61160  P98164  ...                   0.0   \n",
       "5           P51679  O75078  P51679  ...                   1.0   \n",
       "...            ...     ...     ...  ...                   ...   \n",
       "29481       P48509  P07942  P48509  ...                   1.0   \n",
       "29491       P46531  Q8IZL2  P46531  ...                   1.0   \n",
       "29501       Q04721  Q8IZL2  Q04721  ...                   1.0   \n",
       "29511       Q9UM47  Q8IZL2  Q9UM47  ...                   1.0   \n",
       "29521       Q99466  Q8IZL2  Q99466  ...                   1.0   \n",
       "\n",
       "         consensus_inhibition  \\\n",
       "rownames                        \n",
       "1                         0.0   \n",
       "2                         0.0   \n",
       "3                         0.0   \n",
       "4                         0.0   \n",
       "5                         0.0   \n",
       "...                       ...   \n",
       "29481                     0.0   \n",
       "29491                     0.0   \n",
       "29501                     0.0   \n",
       "29511                     0.0   \n",
       "29521                     0.0   \n",
       "\n",
       "                                                    sources  \\\n",
       "rownames                                                      \n",
       "1         AlzPathway;Baccin2019;CellTalkDB;EMBRACE;Fanto...   \n",
       "2                             CellTalkDB;LRdb;Reactome_LRdb   \n",
       "3                             CellTalkDB;LRdb;Reactome_LRdb   \n",
       "4                             CellTalkDB;LRdb;Reactome_LRdb   \n",
       "5                                               Kirouac2010   \n",
       "...                                                     ...   \n",
       "29481                                             HPMR;Wang   \n",
       "29491                          HPRD;NetPath;SignaLink3;Wang   \n",
       "29501                          HPRD;NetPath;SignaLink3;Wang   \n",
       "29511                          HPRD;NetPath;SignaLink3;Wang   \n",
       "29521                          HPRD;NetPath;SignaLink3;Wang   \n",
       "\n",
       "                                                 references  curation_effort  \\\n",
       "rownames                                                                       \n",
       "1         AlzPathway:19026743;Baccin2019:10652313;Baccin...             11.0   \n",
       "2                                       CellTalkDB:32196115              1.0   \n",
       "3                                       CellTalkDB:32196115              1.0   \n",
       "4                                       CellTalkDB:32196115              1.0   \n",
       "5                                                       NaN              0.0   \n",
       "...                                                     ...              ...   \n",
       "29481                           HPMR:10842354;HPMR:15677332              2.0   \n",
       "29491     HPRD:12370315;NetPath:12370315;SignaLink3:1237...              4.0   \n",
       "29501     HPRD:12370315;NetPath:12370315;SignaLink3:1237...              4.0   \n",
       "29511     HPRD:12370315;NetPath:12370315;SignaLink3:1237...              4.0   \n",
       "29521     HPRD:12370315;NetPath:12370315;SignaLink3:1237...              4.0   \n",
       "\n",
       "          n_references  n_resources  annotation_strategy       db True_LR  \n",
       "rownames                                                                   \n",
       "1                  4.0           11                   LR     both    True  \n",
       "2                  1.0            2                   LR     both    True  \n",
       "3                  1.0            2                   LR     both    True  \n",
       "4                  1.0            2                   LR     both    True  \n",
       "5                  0.0            1                   LR       LR    True  \n",
       "...                ...          ...                  ...      ...     ...  \n",
       "29481              2.0            2              curated  curated   False  \n",
       "29491              2.0            4              curated  curated   False  \n",
       "29501              2.0            4              curated  curated   False  \n",
       "29511              2.0            4              curated  curated   False  \n",
       "29521              2.0            4              curated  curated   False  \n",
       "\n",
       "[6941 rows x 26 columns]"
      ]
     },
     "execution_count": 4,
     "metadata": {},
     "output_type": "execute_result"
    }
   ],
   "source": [
    "community"
   ]
  },
  {
   "cell_type": "markdown",
   "id": "88437f93",
   "metadata": {},
   "source": [
    "**Note on CellPhoneDB:**\n",
    "\n",
    "CellPhoneDB uses an SQL database, which is provided as a .db file containing 6 tables. To work with these tables, we extract their data as CSV files, as explained in detail in the notebook RestructureCPDB/BreakdownCPDB.ipynb.\n",
    "\n",
    "One feature of CPDB is that it doesn't have directionality. To make the data easier to work with, we put the ligands of each pair in one column and the receptors in another column. However, if the pair consists of adhesion molecules that bind to each other, the order doesn't matter.\n",
    "\n",
    "Another challenge we faced is that CPDB contains complex molecules, which are not present in the databases used by `community` and `NicheNet`. To address this, we break down each complex into its individual components and create pairwise links between them. For example, if we have a complex called R1_R2 (consisting of two receptors) that is paired with ligand L1, we break down this pair into L1_R1 and L1_R2.\n",
    "\n",
    "\n",
    "In their default DB, a complex molecule is given an ID that is greater than 1282"
   ]
  },
  {
   "cell_type": "code",
   "execution_count": 5,
   "id": "4fea7fe3",
   "metadata": {},
   "outputs": [],
   "source": [
    "cpdb = pd.read_csv ('inputs/cpdb_original.csv', index_col=None)"
   ]
  },
  {
   "cell_type": "code",
   "execution_count": 6,
   "id": "a924e9d1",
   "metadata": {},
   "outputs": [],
   "source": [
    "nnet_lr = pd.read_csv ('inputs/nichenetr_lr.csv', index_col=None)"
   ]
  },
  {
   "cell_type": "code",
   "execution_count": 7,
   "id": "2ffd1532",
   "metadata": {},
   "outputs": [],
   "source": [
    "#create pairs in nnet\n",
    "nnet_lr[\"pairs\"]=nnet_lr[\"from\"] + \"_\" + nnet_lr[\"to\"]"
   ]
  },
  {
   "cell_type": "markdown",
   "id": "80d2ec3a",
   "metadata": {},
   "source": [
    "# Ligand-receptor pairs"
   ]
  },
  {
   "cell_type": "markdown",
   "id": "bc5c8ade",
   "metadata": {},
   "source": [
    "## Compare original databases"
   ]
  },
  {
   "cell_type": "code",
   "execution_count": 8,
   "id": "cffd0fd5",
   "metadata": {},
   "outputs": [],
   "source": [
    "#get unique list of pairs in Commpackage\n",
    "community_pairs = set(community['Pair.Name'])"
   ]
  },
  {
   "cell_type": "code",
   "execution_count": 9,
   "id": "a121e28f",
   "metadata": {},
   "outputs": [],
   "source": [
    "#get unique list of pairs in cpdb\n",
    "\n",
    "cpdb_pairs = set(cpdb['pairs'])"
   ]
  },
  {
   "cell_type": "code",
   "execution_count": 10,
   "id": "16ceb285",
   "metadata": {},
   "outputs": [],
   "source": [
    "#get unique list of pairs in nnet\n",
    "\n",
    "nnet_pairs = set(nnet_lr['pairs'])"
   ]
  },
  {
   "cell_type": "markdown",
   "id": "69fb4d90",
   "metadata": {},
   "source": [
    "**Curated + predicted**"
   ]
  },
  {
   "cell_type": "code",
   "execution_count": 104,
   "id": "693104ee",
   "metadata": {},
   "outputs": [
    {
     "data": {
      "image/png": "[encoded data removed]",
      "text/plain": [
       "<Figure size 432x288 with 1 Axes>"
      ]
     },
     "metadata": {},
     "output_type": "display_data"
    }
   ],
   "source": [
    "#plot pairs of 3 DBs in one\n",
    "\n",
    "venn3([community_pairs,cpdb_pairs, nnet_pairs], (\"Community\",'CellPhoneDB', 'NicheNet'), ('#6e8b3d', '#8b8878', '#cdad00'))\n",
    "plt.savefig('ComparisonFigures/pairs_curated_predicted.pdf')"
   ]
  },
  {
   "cell_type": "code",
   "execution_count": 107,
   "id": "58a1d508",
   "metadata": {},
   "outputs": [
    {
     "data": {
      "text/plain": [
       "2638"
      ]
     },
     "execution_count": 107,
     "metadata": {},
     "output_type": "execute_result"
    }
   ],
   "source": [
    "1117+590+848+83"
   ]
  },
  {
   "cell_type": "code",
   "execution_count": 108,
   "id": "d2c07cf1",
   "metadata": {},
   "outputs": [
    {
     "data": {
      "text/plain": [
       "2638"
      ]
     },
     "execution_count": 108,
     "metadata": {},
     "output_type": "execute_result"
    }
   ],
   "source": [
    "len(cpdb_pairs)"
   ]
  },
  {
   "cell_type": "code",
   "execution_count": 12,
   "id": "9aa71974",
   "metadata": {},
   "outputs": [],
   "source": [
    "pairs_list = set(list(community_pairs)+list(cpdb_pairs)+list(nnet_pairs))"
   ]
  },
  {
   "cell_type": "code",
   "execution_count": 13,
   "id": "de67de9d",
   "metadata": {},
   "outputs": [],
   "source": [
    "to_export = {\n",
    "    'ID': list(pairs_list),\n",
    "    'community': [True if pair in community_pairs else False for pair in pairs_list],\n",
    "    'CPDB': [True if pair in cpdb_pairs else False for pair in pairs_list],\n",
    "    'NicheNet': [True if pair in nnet_pairs else False for pair in pairs_list]\n",
    "}"
   ]
  },
  {
   "cell_type": "code",
   "execution_count": 14,
   "id": "257fe01c",
   "metadata": {},
   "outputs": [],
   "source": [
    "to_export = pd.DataFrame(to_export)"
   ]
  },
  {
   "cell_type": "code",
   "execution_count": 15,
   "id": "a4cfc3d6",
   "metadata": {},
   "outputs": [],
   "source": [
    "to_export.to_csv(\"output_csv/pairs_curated_predicted.csv\")"
   ]
  },
  {
   "cell_type": "code",
   "execution_count": 16,
   "id": "d6f0257f",
   "metadata": {},
   "outputs": [],
   "source": [
    "notin_community=to_export[to_export[\"community\"]==False]"
   ]
  },
  {
   "cell_type": "code",
   "execution_count": 17,
   "id": "93c5b609",
   "metadata": {},
   "outputs": [],
   "source": [
    "notin=list()\n",
    "count=0\n",
    "for x in notin_community[\"ID\"]:\n",
    "    rev=x.split('_')\n",
    "    rev=rev[1]+\"_\"+rev[0]\n",
    "    if rev not in community_pairs:\n",
    "        notin.append(x)\n",
    "    else:\n",
    "        count += 1"
   ]
  },
  {
   "cell_type": "markdown",
   "id": "342a14a9",
   "metadata": {},
   "source": [
    "We are checking if any pairs that are not in the community exist in reverse order in other databases. We have found that 289 pairs appear in other databases in reverse order.\n",
    "\n",
    "In addition, we are investigating each database separately to determine why the pairs are not in our database. Specifically, we are currently examining CPDB to identify any reasons why certain pairs are missing.\n",
    "\n",
    "The `pid1` and `pid2` columns in CPDB dataset indicate the original pairID from CPDB. Although CPDB assigns pairIDs starting from 1, complex molecules are assigned IDs greater than or equal to 1282. We have observed that the pairs that are not present in our community database are actually part of complex molecules in CPDB."
   ]
  },
  {
   "cell_type": "code",
   "execution_count": 18,
   "id": "7d5dbad3",
   "metadata": {},
   "outputs": [],
   "source": [
    "not_community_yes_cpdb=notin_community[notin_community[\"ID\"].isin(notin) & notin_community[\"CPDB\"] == True]"
   ]
  },
  {
   "cell_type": "code",
   "execution_count": 19,
   "id": "30b7b154",
   "metadata": {},
   "outputs": [],
   "source": [
    "#retrieve the table from the original df, so we can check where these pairs are originating from\n",
    "x=cpdb[cpdb[\"pairs\"].isin(not_community_yes_cpdb[\"ID\"])]"
   ]
  },
  {
   "cell_type": "code",
   "execution_count": 20,
   "id": "95b45d28",
   "metadata": {},
   "outputs": [
    {
     "data": {
      "text/plain": [
       "680"
      ]
     },
     "execution_count": 20,
     "metadata": {},
     "output_type": "execute_result"
    }
   ],
   "source": [
    "len((x['pid1'] > 1280 )| (x['pid2'] > 1280))"
   ]
  },
  {
   "cell_type": "markdown",
   "id": "cbb6e82e",
   "metadata": {},
   "source": [
    "**Note:** We can do a deeper investigation for NN pairs"
   ]
  },
  {
   "cell_type": "markdown",
   "id": "d22bdc78",
   "metadata": {},
   "source": [
    "**Curated only**"
   ]
  },
  {
   "cell_type": "code",
   "execution_count": 21,
   "id": "11a71472",
   "metadata": {},
   "outputs": [],
   "source": [
    "#nnet predicted 10.629 pairs, lets see how does the comparison look without the predicted pairs\n",
    "nnet_nopridcition=nnet_lr[~nnet_lr[\"database\"].str.contains(\"ppi_\")]\n",
    "nopredict_pairs=set(nnet_nopridcition[\"pairs\"])"
   ]
  },
  {
   "cell_type": "code",
   "execution_count": 22,
   "id": "20189935",
   "metadata": {},
   "outputs": [],
   "source": [
    "#get curated pairs from community\n",
    "community_curated = community[community[\"db\"].isin([\"both\",\"curated\"])]\n",
    "community_curated = set(community_curated[\"Pair.Name\"])"
   ]
  },
  {
   "cell_type": "code",
   "execution_count": 109,
   "id": "51dafffe",
   "metadata": {},
   "outputs": [
    {
     "data": {
      "image/png": "[encoded data removed]",
      "text/plain": [
       "<Figure size 432x288 with 1 Axes>"
      ]
     },
     "metadata": {},
     "output_type": "display_data"
    }
   ],
   "source": [
    "#plot pairs of 3 DBs in one, but in this one we do not include the predicted pairs for NicheNet\n",
    "venn3([community_curated,cpdb_pairs, nopredict_pairs], (\"Community\",'CellPhoneDB', 'NicheNet'), ('#6e8b3d', '#8b8878', '#cdad00'))\n",
    "plt.savefig('ComparisonFigures/pairs_curated.pdf')"
   ]
  },
  {
   "cell_type": "code",
   "execution_count": null,
   "id": "cf21a8ca",
   "metadata": {},
   "outputs": [],
   "source": [
    "409+823+132+26"
   ]
  },
  {
   "cell_type": "code",
   "execution_count": null,
   "id": "b853e608",
   "metadata": {},
   "outputs": [],
   "source": [
    "len(nnet_nopridcition)"
   ]
  },
  {
   "cell_type": "code",
   "execution_count": 24,
   "id": "bb173792",
   "metadata": {},
   "outputs": [],
   "source": [
    "pairs_list = set(list(community_curated)+list(cpdb_pairs)+list(nopredict_pairs))\n",
    "\n",
    "to_export = {\n",
    "    'ID': list(pairs_list),\n",
    "    'community': [True if pair in community_pairs else False for pair in pairs_list],\n",
    "    'CPDB': [True if pair in cpdb_pairs else False for pair in pairs_list],\n",
    "    'NicheNet': [True if pair in nnet_pairs else False for pair in pairs_list]\n",
    "}\n",
    "\n",
    "to_export = pd.DataFrame(to_export)\n",
    "to_export.to_csv(\"output_csv/pairs_curated.csv\")"
   ]
  },
  {
   "cell_type": "markdown",
   "id": "53c30eed",
   "metadata": {},
   "source": [
    "# Ligand and receptor gene space"
   ]
  },
  {
   "cell_type": "code",
   "execution_count": 25,
   "id": "7a8c02ed",
   "metadata": {},
   "outputs": [],
   "source": [
    "community_gene_space = set([substring for value in list(community_pairs) for substring in value.split('_')])"
   ]
  },
  {
   "cell_type": "code",
   "execution_count": 26,
   "id": "d7158121",
   "metadata": {},
   "outputs": [],
   "source": [
    "cpdb_gene_space = set([substring for value in list(cpdb_pairs) for substring in value.split('_')])"
   ]
  },
  {
   "cell_type": "code",
   "execution_count": 27,
   "id": "ed8a73b5",
   "metadata": {},
   "outputs": [],
   "source": [
    "nnet_gene_space = set([substring for value in list(nnet_pairs) for substring in value.split('_')])"
   ]
  },
  {
   "cell_type": "code",
   "execution_count": 28,
   "id": "45700520",
   "metadata": {},
   "outputs": [],
   "source": [
    "nnet_nopredict_gene_space = set([substring for value in list(nopredict_pairs) for substring in value.split('_')])"
   ]
  },
  {
   "cell_type": "code",
   "execution_count": 29,
   "id": "1ded6f00",
   "metadata": {},
   "outputs": [],
   "source": [
    "community_curated_gene_space = set([substring for value in list(community_curated) for substring in value.split('_')])"
   ]
  },
  {
   "cell_type": "markdown",
   "id": "ed8e4aef",
   "metadata": {},
   "source": [
    "**Curated + predicted**"
   ]
  },
  {
   "cell_type": "code",
   "execution_count": 99,
   "id": "df604716",
   "metadata": {},
   "outputs": [
    {
     "data": {
      "image/png": "[encoded data removed]",
      "text/plain": [
       "<Figure size 432x288 with 1 Axes>"
      ]
     },
     "metadata": {},
     "output_type": "display_data"
    }
   ],
   "source": [
    "#plot gene space of 3 DBs in one\n",
    "\n",
    "venn3([community_gene_space,cpdb_gene_space, nnet_gene_space], (\"community\",'CellPhoneDB', 'NicheNet'))\n",
    "plt.savefig('ComparisonFigures/genes_curated_predicted.pdf')"
   ]
  },
  {
   "cell_type": "code",
   "execution_count": 31,
   "id": "c90c96c4",
   "metadata": {},
   "outputs": [],
   "source": [
    "gene_list = set(list(community_gene_space)+list(cpdb_gene_space)+list(nnet_gene_space))\n",
    "\n",
    "to_export = {\n",
    "    'ID': list(gene_list),\n",
    "    'community': [True if gene in community_gene_space else False for gene in gene_list],\n",
    "    'CPDB': [True if gene in cpdb_gene_space else False for gene in gene_list],\n",
    "    'NicheNet': [True if gene in nnet_gene_space else False for gene in gene_list]\n",
    "}\n",
    "\n",
    "to_export = pd.DataFrame(to_export)\n",
    "to_export.to_csv(\"output_csv/genes_curated_predicted.csv\")"
   ]
  },
  {
   "cell_type": "markdown",
   "id": "6cb955c1",
   "metadata": {},
   "source": [
    "We are investigating why some genes are not included in our database. As previously mentioned, CPDB assigns `pid` values greater than 1282 if the protein is part of a complex. We have discovered that the genes that are not present in our database are once again coming from these complex molecules."
   ]
  },
  {
   "cell_type": "code",
   "execution_count": 62,
   "id": "70fee60b",
   "metadata": {},
   "outputs": [
    {
     "data": {
      "text/plain": [
       "1430"
      ]
     },
     "execution_count": 62,
     "metadata": {},
     "output_type": "execute_result"
    }
   ],
   "source": [
    "len(nnet_gene_space)"
   ]
  },
  {
   "cell_type": "code",
   "execution_count": 59,
   "id": "20ae74da",
   "metadata": {},
   "outputs": [
    {
     "data": {
      "text/plain": [
       "2292"
      ]
     },
     "execution_count": 59,
     "metadata": {},
     "output_type": "execute_result"
    }
   ],
   "source": [
    "880+283+932+197"
   ]
  },
  {
   "cell_type": "code",
   "execution_count": 32,
   "id": "036ce039",
   "metadata": {},
   "outputs": [],
   "source": [
    "notin_community=to_export[to_export[\"community\"]==False]"
   ]
  },
  {
   "cell_type": "code",
   "execution_count": 33,
   "id": "ed5ee2af",
   "metadata": {},
   "outputs": [
    {
     "data": {
      "text/html": [
       "<div>\n",
       "<style scoped>\n",
       "    .dataframe tbody tr th:only-of-type {\n",
       "        vertical-align: middle;\n",
       "    }\n",
       "\n",
       "    .dataframe tbody tr th {\n",
       "        vertical-align: top;\n",
       "    }\n",
       "\n",
       "    .dataframe thead th {\n",
       "        text-align: right;\n",
       "    }\n",
       "</style>\n",
       "<table border=\"1\" class=\"dataframe\">\n",
       "  <thead>\n",
       "    <tr style=\"text-align: right;\">\n",
       "      <th></th>\n",
       "      <th>L</th>\n",
       "      <th>R</th>\n",
       "      <th>ligand</th>\n",
       "      <th>receptor</th>\n",
       "      <th>l_adhesion_mol</th>\n",
       "      <th>r_adhesion_mol</th>\n",
       "      <th>pid1</th>\n",
       "      <th>pid2</th>\n",
       "      <th>pairs</th>\n",
       "    </tr>\n",
       "  </thead>\n",
       "  <tbody>\n",
       "    <tr>\n",
       "      <th>0</th>\n",
       "      <td>901</td>\n",
       "      <td>917</td>\n",
       "      <td>PTGR1</td>\n",
       "      <td>LTB4R</td>\n",
       "      <td>0</td>\n",
       "      <td>0</td>\n",
       "      <td>1282.0</td>\n",
       "      <td>917.0</td>\n",
       "      <td>PTGR1_LTB4R</td>\n",
       "    </tr>\n",
       "    <tr>\n",
       "      <th>1</th>\n",
       "      <td>315</td>\n",
       "      <td>917</td>\n",
       "      <td>LTA4H</td>\n",
       "      <td>LTB4R</td>\n",
       "      <td>0</td>\n",
       "      <td>0</td>\n",
       "      <td>1430.0</td>\n",
       "      <td>917.0</td>\n",
       "      <td>LTA4H_LTB4R</td>\n",
       "    </tr>\n",
       "    <tr>\n",
       "      <th>2</th>\n",
       "      <td>901</td>\n",
       "      <td>1189</td>\n",
       "      <td>PTGR1</td>\n",
       "      <td>LTB4R2</td>\n",
       "      <td>0</td>\n",
       "      <td>0</td>\n",
       "      <td>1282.0</td>\n",
       "      <td>1189.0</td>\n",
       "      <td>PTGR1_LTB4R2</td>\n",
       "    </tr>\n",
       "    <tr>\n",
       "      <th>3</th>\n",
       "      <td>315</td>\n",
       "      <td>1189</td>\n",
       "      <td>LTA4H</td>\n",
       "      <td>LTB4R2</td>\n",
       "      <td>0</td>\n",
       "      <td>0</td>\n",
       "      <td>1430.0</td>\n",
       "      <td>1189.0</td>\n",
       "      <td>LTA4H_LTB4R2</td>\n",
       "    </tr>\n",
       "    <tr>\n",
       "      <th>4</th>\n",
       "      <td>315</td>\n",
       "      <td>864</td>\n",
       "      <td>LTA4H</td>\n",
       "      <td>GPR17</td>\n",
       "      <td>0</td>\n",
       "      <td>0</td>\n",
       "      <td>1430.0</td>\n",
       "      <td>864.0</td>\n",
       "      <td>LTA4H_GPR17</td>\n",
       "    </tr>\n",
       "    <tr>\n",
       "      <th>...</th>\n",
       "      <td>...</td>\n",
       "      <td>...</td>\n",
       "      <td>...</td>\n",
       "      <td>...</td>\n",
       "      <td>...</td>\n",
       "      <td>...</td>\n",
       "      <td>...</td>\n",
       "      <td>...</td>\n",
       "      <td>...</td>\n",
       "    </tr>\n",
       "    <tr>\n",
       "      <th>2629</th>\n",
       "      <td>544</td>\n",
       "      <td>698</td>\n",
       "      <td>RXRB</td>\n",
       "      <td>ALDH1A3</td>\n",
       "      <td>1</td>\n",
       "      <td>0</td>\n",
       "      <td>1513.0</td>\n",
       "      <td>1481.0</td>\n",
       "      <td>RXRB_ALDH1A3</td>\n",
       "    </tr>\n",
       "    <tr>\n",
       "      <th>2630</th>\n",
       "      <td>698</td>\n",
       "      <td>372</td>\n",
       "      <td>ALDH1A3</td>\n",
       "      <td>RARG</td>\n",
       "      <td>1</td>\n",
       "      <td>0</td>\n",
       "      <td>1513.0</td>\n",
       "      <td>1482.0</td>\n",
       "      <td>ALDH1A3_RARG</td>\n",
       "    </tr>\n",
       "    <tr>\n",
       "      <th>2631</th>\n",
       "      <td>372</td>\n",
       "      <td>698</td>\n",
       "      <td>RARG</td>\n",
       "      <td>ALDH1A3</td>\n",
       "      <td>1</td>\n",
       "      <td>0</td>\n",
       "      <td>1513.0</td>\n",
       "      <td>1482.0</td>\n",
       "      <td>RARG_ALDH1A3</td>\n",
       "    </tr>\n",
       "    <tr>\n",
       "      <th>2632</th>\n",
       "      <td>698</td>\n",
       "      <td>708</td>\n",
       "      <td>ALDH1A3</td>\n",
       "      <td>RXRG</td>\n",
       "      <td>1</td>\n",
       "      <td>0</td>\n",
       "      <td>1513.0</td>\n",
       "      <td>1483.0</td>\n",
       "      <td>ALDH1A3_RXRG</td>\n",
       "    </tr>\n",
       "    <tr>\n",
       "      <th>2633</th>\n",
       "      <td>708</td>\n",
       "      <td>698</td>\n",
       "      <td>RXRG</td>\n",
       "      <td>ALDH1A3</td>\n",
       "      <td>1</td>\n",
       "      <td>0</td>\n",
       "      <td>1513.0</td>\n",
       "      <td>1483.0</td>\n",
       "      <td>RXRG_ALDH1A3</td>\n",
       "    </tr>\n",
       "  </tbody>\n",
       "</table>\n",
       "<p>331 rows × 9 columns</p>\n",
       "</div>"
      ],
      "text/plain": [
       "        L     R   ligand receptor  l_adhesion_mol  r_adhesion_mol    pid1  \\\n",
       "0     901   917    PTGR1    LTB4R               0               0  1282.0   \n",
       "1     315   917    LTA4H    LTB4R               0               0  1430.0   \n",
       "2     901  1189    PTGR1   LTB4R2               0               0  1282.0   \n",
       "3     315  1189    LTA4H   LTB4R2               0               0  1430.0   \n",
       "4     315   864    LTA4H    GPR17               0               0  1430.0   \n",
       "...   ...   ...      ...      ...             ...             ...     ...   \n",
       "2629  544   698     RXRB  ALDH1A3               1               0  1513.0   \n",
       "2630  698   372  ALDH1A3     RARG               1               0  1513.0   \n",
       "2631  372   698     RARG  ALDH1A3               1               0  1513.0   \n",
       "2632  698   708  ALDH1A3     RXRG               1               0  1513.0   \n",
       "2633  708   698     RXRG  ALDH1A3               1               0  1513.0   \n",
       "\n",
       "        pid2         pairs  \n",
       "0      917.0   PTGR1_LTB4R  \n",
       "1      917.0   LTA4H_LTB4R  \n",
       "2     1189.0  PTGR1_LTB4R2  \n",
       "3     1189.0  LTA4H_LTB4R2  \n",
       "4      864.0   LTA4H_GPR17  \n",
       "...      ...           ...  \n",
       "2629  1481.0  RXRB_ALDH1A3  \n",
       "2630  1482.0  ALDH1A3_RARG  \n",
       "2631  1482.0  RARG_ALDH1A3  \n",
       "2632  1483.0  ALDH1A3_RXRG  \n",
       "2633  1483.0  RXRG_ALDH1A3  \n",
       "\n",
       "[331 rows x 9 columns]"
      ]
     },
     "execution_count": 33,
     "metadata": {},
     "output_type": "execute_result"
    }
   ],
   "source": [
    "cpdb[cpdb[\"ligand\"].isin(notin_community[\"ID\"])]"
   ]
  },
  {
   "cell_type": "markdown",
   "id": "4e1900d4",
   "metadata": {},
   "source": [
    "Upon investigating why some genes are included in NicheNet but not in our database, we discovered that most of them were added based on predictions, mainly through Gene Ontology (GO). Additionally, we found that there are a few genes in NicheNet that originate from the Ramilowski dataset, but genesymbols are listed under alternative names according to genecards and uniprot. For instance, CTGF's approved gene symbol is CCN2, CYR61 is included as CCN1, and DEFB4A is included as DEFB4B."
   ]
  },
  {
   "cell_type": "code",
   "execution_count": 34,
   "id": "65b9af9a",
   "metadata": {},
   "outputs": [
    {
     "data": {
      "text/plain": [
       "database\n",
       "ppi_prediction_go     180\n",
       "ppi_prediction         26\n",
       "ramilowski             14\n",
       "kegg                    6\n",
       "guide2pharmacology      4\n",
       "Name: count, dtype: int64"
      ]
     },
     "execution_count": 34,
     "metadata": {},
     "output_type": "execute_result"
    }
   ],
   "source": [
    "nnet_lr[nnet_lr[\"from\"].isin(notin_community[\"ID\"])][\"database\"].value_counts()"
   ]
  },
  {
   "cell_type": "code",
   "execution_count": 35,
   "id": "7f9aa31b",
   "metadata": {},
   "outputs": [],
   "source": [
    "x=nnet_lr[nnet_lr[\"from\"].isin(notin_community[\"ID\"])]"
   ]
  },
  {
   "cell_type": "code",
   "execution_count": 36,
   "id": "a1cccdba",
   "metadata": {},
   "outputs": [
    {
     "data": {
      "text/html": [
       "<div>\n",
       "<style scoped>\n",
       "    .dataframe tbody tr th:only-of-type {\n",
       "        vertical-align: middle;\n",
       "    }\n",
       "\n",
       "    .dataframe tbody tr th {\n",
       "        vertical-align: top;\n",
       "    }\n",
       "\n",
       "    .dataframe thead th {\n",
       "        text-align: right;\n",
       "    }\n",
       "</style>\n",
       "<table border=\"1\" class=\"dataframe\">\n",
       "  <thead>\n",
       "    <tr style=\"text-align: right;\">\n",
       "      <th></th>\n",
       "      <th>Unnamed: 0</th>\n",
       "      <th>from</th>\n",
       "      <th>to</th>\n",
       "      <th>source</th>\n",
       "      <th>database</th>\n",
       "      <th>pairs</th>\n",
       "    </tr>\n",
       "  </thead>\n",
       "  <tbody>\n",
       "    <tr>\n",
       "      <th>1109</th>\n",
       "      <td>1110</td>\n",
       "      <td>CTGF</td>\n",
       "      <td>ITGAM</td>\n",
       "      <td>ramilowski_known</td>\n",
       "      <td>ramilowski</td>\n",
       "      <td>CTGF_ITGAM</td>\n",
       "    </tr>\n",
       "    <tr>\n",
       "      <th>1110</th>\n",
       "      <td>1111</td>\n",
       "      <td>CTGF</td>\n",
       "      <td>ITGB2</td>\n",
       "      <td>ramilowski_known</td>\n",
       "      <td>ramilowski</td>\n",
       "      <td>CTGF_ITGB2</td>\n",
       "    </tr>\n",
       "    <tr>\n",
       "      <th>1111</th>\n",
       "      <td>1112</td>\n",
       "      <td>CTGF</td>\n",
       "      <td>LRP6</td>\n",
       "      <td>ramilowski_known</td>\n",
       "      <td>ramilowski</td>\n",
       "      <td>CTGF_LRP6</td>\n",
       "    </tr>\n",
       "    <tr>\n",
       "      <th>1136</th>\n",
       "      <td>1137</td>\n",
       "      <td>CYR61</td>\n",
       "      <td>ITGA5</td>\n",
       "      <td>ramilowski_known</td>\n",
       "      <td>ramilowski</td>\n",
       "      <td>CYR61_ITGA5</td>\n",
       "    </tr>\n",
       "    <tr>\n",
       "      <th>1137</th>\n",
       "      <td>1138</td>\n",
       "      <td>CYR61</td>\n",
       "      <td>ITGAM</td>\n",
       "      <td>ramilowski_known</td>\n",
       "      <td>ramilowski</td>\n",
       "      <td>CYR61_ITGAM</td>\n",
       "    </tr>\n",
       "    <tr>\n",
       "      <th>1138</th>\n",
       "      <td>1139</td>\n",
       "      <td>CYR61</td>\n",
       "      <td>ITGB2</td>\n",
       "      <td>ramilowski_known</td>\n",
       "      <td>ramilowski</td>\n",
       "      <td>CYR61_ITGB2</td>\n",
       "    </tr>\n",
       "    <tr>\n",
       "      <th>1139</th>\n",
       "      <td>1140</td>\n",
       "      <td>CYR61</td>\n",
       "      <td>ITGB3</td>\n",
       "      <td>ramilowski_known</td>\n",
       "      <td>ramilowski</td>\n",
       "      <td>CYR61_ITGB3</td>\n",
       "    </tr>\n",
       "    <tr>\n",
       "      <th>1140</th>\n",
       "      <td>1141</td>\n",
       "      <td>DEFB4A</td>\n",
       "      <td>CCR6</td>\n",
       "      <td>ramilowski_known</td>\n",
       "      <td>ramilowski</td>\n",
       "      <td>DEFB4A_CCR6</td>\n",
       "    </tr>\n",
       "    <tr>\n",
       "      <th>1429</th>\n",
       "      <td>1430</td>\n",
       "      <td>IFNA13</td>\n",
       "      <td>IFNAR1</td>\n",
       "      <td>ramilowski_known</td>\n",
       "      <td>ramilowski</td>\n",
       "      <td>IFNA13_IFNAR1</td>\n",
       "    </tr>\n",
       "    <tr>\n",
       "      <th>1430</th>\n",
       "      <td>1431</td>\n",
       "      <td>IFNA13</td>\n",
       "      <td>IFNAR2</td>\n",
       "      <td>ramilowski_known</td>\n",
       "      <td>ramilowski</td>\n",
       "      <td>IFNA13_IFNAR2</td>\n",
       "    </tr>\n",
       "    <tr>\n",
       "      <th>1635</th>\n",
       "      <td>1636</td>\n",
       "      <td>NOV</td>\n",
       "      <td>NOTCH1</td>\n",
       "      <td>ramilowski_known</td>\n",
       "      <td>ramilowski</td>\n",
       "      <td>NOV_NOTCH1</td>\n",
       "    </tr>\n",
       "    <tr>\n",
       "      <th>1977</th>\n",
       "      <td>1978</td>\n",
       "      <td>YARS</td>\n",
       "      <td>CXCR1</td>\n",
       "      <td>ramilowski_known</td>\n",
       "      <td>ramilowski</td>\n",
       "      <td>YARS_CXCR1</td>\n",
       "    </tr>\n",
       "    <tr>\n",
       "      <th>2020</th>\n",
       "      <td>2021</td>\n",
       "      <td>CCL3L3</td>\n",
       "      <td>CCR1</td>\n",
       "      <td>ramilowski_known</td>\n",
       "      <td>ramilowski</td>\n",
       "      <td>CCL3L3_CCR1</td>\n",
       "    </tr>\n",
       "    <tr>\n",
       "      <th>2021</th>\n",
       "      <td>2022</td>\n",
       "      <td>CCL3L3</td>\n",
       "      <td>CCR5</td>\n",
       "      <td>ramilowski_known</td>\n",
       "      <td>ramilowski</td>\n",
       "      <td>CCL3L3_CCR5</td>\n",
       "    </tr>\n",
       "  </tbody>\n",
       "</table>\n",
       "</div>"
      ],
      "text/plain": [
       "      Unnamed: 0    from      to            source    database          pairs\n",
       "1109        1110    CTGF   ITGAM  ramilowski_known  ramilowski     CTGF_ITGAM\n",
       "1110        1111    CTGF   ITGB2  ramilowski_known  ramilowski     CTGF_ITGB2\n",
       "1111        1112    CTGF    LRP6  ramilowski_known  ramilowski      CTGF_LRP6\n",
       "1136        1137   CYR61   ITGA5  ramilowski_known  ramilowski    CYR61_ITGA5\n",
       "1137        1138   CYR61   ITGAM  ramilowski_known  ramilowski    CYR61_ITGAM\n",
       "1138        1139   CYR61   ITGB2  ramilowski_known  ramilowski    CYR61_ITGB2\n",
       "1139        1140   CYR61   ITGB3  ramilowski_known  ramilowski    CYR61_ITGB3\n",
       "1140        1141  DEFB4A    CCR6  ramilowski_known  ramilowski    DEFB4A_CCR6\n",
       "1429        1430  IFNA13  IFNAR1  ramilowski_known  ramilowski  IFNA13_IFNAR1\n",
       "1430        1431  IFNA13  IFNAR2  ramilowski_known  ramilowski  IFNA13_IFNAR2\n",
       "1635        1636     NOV  NOTCH1  ramilowski_known  ramilowski     NOV_NOTCH1\n",
       "1977        1978    YARS   CXCR1  ramilowski_known  ramilowski     YARS_CXCR1\n",
       "2020        2021  CCL3L3    CCR1  ramilowski_known  ramilowski    CCL3L3_CCR1\n",
       "2021        2022  CCL3L3    CCR5  ramilowski_known  ramilowski    CCL3L3_CCR5"
      ]
     },
     "execution_count": 36,
     "metadata": {},
     "output_type": "execute_result"
    }
   ],
   "source": [
    "x[x[\"database\"]==\"ramilowski\"]"
   ]
  },
  {
   "cell_type": "markdown",
   "id": "dbaea522",
   "metadata": {},
   "source": [
    "**Curated only**"
   ]
  },
  {
   "cell_type": "code",
   "execution_count": null,
   "id": "1bafdfa5",
   "metadata": {},
   "outputs": [],
   "source": [
    "palette = {'NicheNet': '#cdad00', 'community': '#6e8b3d', 'CellPhoneDB': '#8b8878'}"
   ]
  },
  {
   "cell_type": "code",
   "execution_count": 97,
   "id": "7a4d45a2",
   "metadata": {},
   "outputs": [
    {
     "data": {
      "image/png": "[encoded data removed]",
      "text/plain": [
       "<Figure size 432x288 with 1 Axes>"
      ]
     },
     "metadata": {},
     "output_type": "display_data"
    }
   ],
   "source": [
    "#plot gene space of 3 DBs in one\n",
    "\n",
    "venn3([community_curated_gene_space,cpdb_gene_space, nnet_nopredict_gene_space], (\"community\",'CellPhoneDB', 'NicheNet'), ('#6e8b3d', '#8b8878', '#cdad00'))\n",
    "# venn3_circles(subsets = [community_curated_gene_space,cpdb_gene_space, nnet_nopredict_gene_space], linestyle='dashed', linewidth=1, color=\"grey\")\n",
    "plt.savefig('ComparisonFigures/genes_curated.pdf')"
   ]
  },
  {
   "cell_type": "code",
   "execution_count": null,
   "id": "eea4d683",
   "metadata": {},
   "outputs": [],
   "source": []
  },
  {
   "cell_type": "code",
   "execution_count": 67,
   "id": "f5a96479",
   "metadata": {},
   "outputs": [],
   "source": [
    "gene_list = set(list(community_curated_gene_space)+list(cpdb_gene_space)+list(nnet_nopredict_gene_space))\n",
    "\n",
    "to_export = {\n",
    "    'ID': list(gene_list),\n",
    "    'community': [True if gene in community_curated_gene_space else False for gene in gene_list],\n",
    "    'CPDB': [True if gene in cpdb_gene_space else False for gene in gene_list],\n",
    "    'NicheNet': [True if gene in nnet_nopredict_gene_space else False for gene in gene_list]\n",
    "}\n",
    "\n",
    "to_export = pd.DataFrame(to_export)\n",
    "to_export.to_csv(\"output_csv/genes_curated.csv\")"
   ]
  },
  {
   "cell_type": "code",
   "execution_count": 57,
   "id": "bd6800c5",
   "metadata": {},
   "outputs": [
    {
     "data": {
      "text/plain": [
       "997"
      ]
     },
     "execution_count": 57,
     "metadata": {},
     "output_type": "execute_result"
    }
   ],
   "source": [
    "len(nnet_nopredict_gene_space)"
   ]
  },
  {
   "cell_type": "code",
   "execution_count": null,
   "id": "c8e71339",
   "metadata": {},
   "outputs": [],
   "source": []
  },
  {
   "cell_type": "code",
   "execution_count": null,
   "id": "12fa34fb",
   "metadata": {},
   "outputs": [],
   "source": []
  }
 ],
 "metadata": {
  "kernelspec": {
   "display_name": "Python 3 (ipykernel)",
   "language": "python",
   "name": "python3"
  },
  "language_info": {
   "codemirror_mode": {
    "name": "ipython",
    "version": 3
   },
   "file_extension": ".py",
   "mimetype": "text/x-python",
   "name": "python",
   "nbconvert_exporter": "python",
   "pygments_lexer": "ipython3",
   "version": "3.10.12"
  },
  "toc": {
   "base_numbering": 1,
   "nav_menu": {},
   "number_sections": true,
   "sideBar": true,
   "skip_h1_title": false,
   "title_cell": "Table of Contents",
   "title_sidebar": "Contents",
   "toc_cell": false,
   "toc_position": {},
   "toc_section_display": true,
   "toc_window_display": false
  }
 },
 "nbformat": 4,
 "nbformat_minor": 5
}
