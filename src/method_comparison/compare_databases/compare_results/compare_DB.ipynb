{
 "cells": [
  {
   "cell_type": "code",
   "execution_count": 32,
   "metadata": {
    "ExecuteTime": {
     "end_time": "2024-01-19T13:08:28.488023Z",
     "start_time": "2024-01-19T13:08:28.185Z"
    }
   },
   "outputs": [],
   "source": [
    "# libraries\n",
    "library(VennDiagram)\n",
    "library(ggplot2)"
   ]
  },
  {
   "cell_type": "code",
   "execution_count": 33,
   "metadata": {},
   "outputs": [],
   "source": [
    "library(svglite)"
   ]
  },
  {
   "cell_type": "code",
   "execution_count": 34,
   "metadata": {
    "ExecuteTime": {
     "end_time": "2024-01-19T13:00:26.308850Z",
     "start_time": "2024-01-19T13:00:26.151Z"
    },
    "scrolled": true
   },
   "outputs": [],
   "source": [
    "input_dir <- \"inputs/\""
   ]
  },
  {
   "cell_type": "markdown",
   "metadata": {},
   "source": [
    "Load data."
   ]
  },
  {
   "cell_type": "code",
   "execution_count": 35,
   "metadata": {
    "ExecuteTime": {
     "end_time": "2024-01-19T13:03:17.145997Z",
     "start_time": "2024-01-19T13:03:17.041Z"
    }
   },
   "outputs": [
    {
     "name": "stdout",
     "output_type": "stream",
     "text": [
      "'data.frame':\t2294 obs. of  4 variables:\n",
      " $ community: logi  FALSE FALSE TRUE TRUE TRUE TRUE ...\n",
      " $ CPDB     : logi  FALSE TRUE FALSE TRUE TRUE TRUE ...\n",
      " $ NicheNet : logi  FALSE FALSE FALSE TRUE TRUE FALSE ...\n",
      " $ CellChat : logi  TRUE FALSE FALSE TRUE FALSE FALSE ...\n",
      "NULL\n"
     ]
    }
   ],
   "source": [
    "genes_curated <- read.csv(paste0(input_dir,\"genes_curated.csv\")\n",
    "                          ,check.names=FALSE\n",
    "                          ,row.names = 2\n",
    "                         )\n",
    "genes_curated <- genes_curated[,-1]\n",
    "\n",
    "genes_curated[genes_curated == \"True\"] <- TRUE\n",
    "genes_curated[genes_curated == \"False\"] <- FALSE\n",
    "\n",
    "genes_curated <- as.data.frame(apply(genes_curated,2,as.logical),row.names = rownames(genes_curated))\n",
    "\n",
    "print(str(genes_curated))"
   ]
  },
  {
   "cell_type": "code",
   "execution_count": null,
   "metadata": {},
   "outputs": [],
   "source": []
  },
  {
   "cell_type": "code",
   "execution_count": 36,
   "metadata": {
    "ExecuteTime": {
     "end_time": "2024-01-19T13:05:18.540508Z",
     "start_time": "2024-01-19T13:05:18.467Z"
    }
   },
   "outputs": [
    {
     "name": "stdout",
     "output_type": "stream",
     "text": [
      "'data.frame':\t2628 obs. of  4 variables:\n",
      " $ community: logi  TRUE FALSE TRUE TRUE TRUE TRUE ...\n",
      " $ CPDB     : logi  FALSE TRUE FALSE TRUE TRUE TRUE ...\n",
      " $ NicheNet : logi  FALSE FALSE FALSE TRUE TRUE TRUE ...\n",
      " $ CellChat : logi  FALSE FALSE FALSE TRUE FALSE FALSE ...\n",
      "NULL\n"
     ]
    }
   ],
   "source": [
    "genes_curated_predicted <- read.csv(paste0(input_dir,\"genes_curated_predicted.csv\")\n",
    "                                    ,check.names=FALSE\n",
    "                                    ,row.names = 2\n",
    "                                    )\n",
    "genes_curated_predicted <- genes_curated_predicted[,-1]\n",
    "\n",
    "genes_curated_predicted[genes_curated_predicted == \"True\"] <- TRUE\n",
    "genes_curated_predicted[genes_curated_predicted == \"False\"] <- FALSE\n",
    "\n",
    "genes_curated_predicted <- as.data.frame(apply(genes_curated_predicted,2,as.logical),row.names = rownames(genes_curated_predicted))\n",
    "\n",
    "print(str(genes_curated_predicted))"
   ]
  },
  {
   "cell_type": "code",
   "execution_count": 37,
   "metadata": {
    "ExecuteTime": {
     "end_time": "2024-01-19T13:06:01.297929Z",
     "start_time": "2024-01-19T13:06:01.207Z"
    }
   },
   "outputs": [
    {
     "name": "stdout",
     "output_type": "stream",
     "text": [
      "'data.frame':\t6693 obs. of  4 variables:\n",
      " $ community: logi  TRUE FALSE TRUE TRUE FALSE TRUE ...\n",
      " $ CPDB     : logi  FALSE FALSE TRUE FALSE TRUE TRUE ...\n",
      " $ NicheNet : logi  FALSE FALSE FALSE FALSE FALSE FALSE ...\n",
      " $ CellChat : logi  FALSE TRUE TRUE FALSE FALSE FALSE ...\n",
      "NULL\n"
     ]
    }
   ],
   "source": [
    "pairs_curated <- read.csv(paste0(input_dir,\"pairs_curated.csv\")\n",
    "                          ,check.names=FALSE\n",
    "                          ,row.names = 2\n",
    "                          )\n",
    "pairs_curated <- pairs_curated[,-1]\n",
    "\n",
    "pairs_curated[pairs_curated == \"True\"] <- TRUE\n",
    "pairs_curated[pairs_curated == \"False\"] <- FALSE\n",
    "\n",
    "pairs_curated <- as.data.frame(apply(pairs_curated,2,as.logical),row.names = rownames(pairs_curated))\n",
    "\n",
    "print(str(pairs_curated))"
   ]
  },
  {
   "cell_type": "code",
   "execution_count": 38,
   "metadata": {
    "ExecuteTime": {
     "end_time": "2024-01-19T13:08:09.575339Z",
     "start_time": "2024-01-19T13:08:09.427Z"
    }
   },
   "outputs": [
    {
     "name": "stdout",
     "output_type": "stream",
     "text": [
      "'data.frame':\t18212 obs. of  4 variables:\n",
      " $ community: logi  TRUE FALSE FALSE FALSE FALSE TRUE ...\n",
      " $ CPDB     : logi  FALSE FALSE FALSE FALSE FALSE TRUE ...\n",
      " $ NicheNet : logi  FALSE FALSE TRUE TRUE TRUE FALSE ...\n",
      " $ CellChat : logi  FALSE TRUE FALSE FALSE FALSE TRUE ...\n",
      "NULL\n"
     ]
    }
   ],
   "source": [
    "pairs_curated_predicted <- read.csv(paste0(input_dir,\"pairs_curated_predicted.csv\")\n",
    "                                    ,check.names=FALSE\n",
    "                                    ,row.names = 2\n",
    "                                    )\n",
    "pairs_curated_predicted <- pairs_curated_predicted[,-1]\n",
    "\n",
    "pairs_curated_predicted[pairs_curated_predicted == \"True\"] <- TRUE\n",
    "pairs_curated_predicted[pairs_curated_predicted == \"False\"] <- FALSE\n",
    "\n",
    "pairs_curated_predicted <- as.data.frame(apply(pairs_curated_predicted,2,as.logical),row.names = rownames(pairs_curated_predicted))\n",
    "\n",
    "print(str(pairs_curated_predicted))"
   ]
  },
  {
   "cell_type": "markdown",
   "metadata": {},
   "source": [
    "# Visualize"
   ]
  },
  {
   "cell_type": "code",
   "execution_count": 49,
   "metadata": {},
   "outputs": [],
   "source": [
    "plot_venn <- function(df, filename) {\n",
    "  # Convert the TRUE/FALSE to set\n",
    "  set1 <- which(df[[1]] == TRUE)\n",
    "  set2 <- which(df[[2]] == TRUE)\n",
    "  set3 <- which(df[[3]] == TRUE)\n",
    "  set4 <- which(df[[4]] == TRUE)\n",
    "  \n",
    "  # Create a list of sets\n",
    "  venn_list <- list(\n",
    "    set1 = set1,\n",
    "    set2 = set2,\n",
    "    set3 = set3,\n",
    "    set4 = set4\n",
    "  )\n",
    "\n",
    "\n",
    "  # Calculate the total number in each set, \n",
    "  set_sizes <- c(length(set1), length(set2), length(set3), length(set4))\n",
    "  \n",
    "  # We add the total number in each set to the names\n",
    "  category_names <- paste0(\n",
    "    c(colnames(df)[1], colnames(df)[2], colnames(df)[3], colnames(df)[4]), \n",
    "    \"\\n(\", set_sizes, \")\"\n",
    "  )\n",
    "    \n",
    "  # Blank it out\n",
    "  category_names <- c(\" \", \"  \",\"   \",\"    \")\n",
    "  \n",
    "  \n",
    "  venn.plot <- venn.diagram(\n",
    "    x = venn_list,\n",
    "    category.names = category_names,  \n",
    "    lwd = 2,\n",
    "    lty = 'blank',\n",
    "    fill = c(\"darkolivegreen4\", \"gold3\", \"cornsilk4\", \"#009E73\"),\n",
    "    cex = 0,  # 0 to hide the number annotations\n",
    "    fontface = \"italic\",\n",
    "    cat.cex = 1,\n",
    "    cat.fontface = \"bold\",\n",
    "    cat.default.pos = \"outer\",\n",
    "    cat.dist = c(0.055, 0.055, 0.1, 0.1),\n",
    "    filename = NULL,  \n",
    "    output = TRUE,\n",
    "    print.mode = \"raw\"  \n",
    "  )\n",
    "  \n",
    "  \n",
    "  grid.draw(venn.plot)\n",
    "  \n",
    "  \n",
    "  ggsave(file=filename, plot=venn.plot, width=10, height=8, dpi = 300)\n",
    "}"
   ]
  },
  {
   "cell_type": "code",
   "execution_count": 39,
   "metadata": {
    "ExecuteTime": {
     "end_time": "2024-01-19T13:12:03.532356Z",
     "start_time": "2024-01-19T13:12:03.509Z"
    }
   },
   "outputs": [],
   "source": [
    "# # Define the function\n",
    "# plot_venn <- function(df, filename) {\n",
    "#   # Convert the TRUE/FALSE to set\n",
    "#   set1 <- which(df[[1]] == TRUE)\n",
    "#   set2 <- which(df[[2]] == TRUE)\n",
    "#   set3 <- which(df[[3]] == TRUE)\n",
    "#   set4 <- which(df[[4]] == TRUE)\n",
    "  \n",
    "#   # Create a list of sets\n",
    "#   venn_list <- list(\n",
    "#     set1 = set1,\n",
    "#     set2 = set2,\n",
    "#     set3 = set3,\n",
    "#     set4 = set4\n",
    "#   )\n",
    "  \n",
    "#   # Calculate the total number in each set, \n",
    "#   set_sizes <- c(length(set1), length(set2), length(set3), length(set4))\n",
    "  \n",
    "#   # We add the total number in each set to the names\n",
    "#   category_names <- paste0(\n",
    "#     c(colnames(df)[1], colnames(df)[2], colnames(df)[3], colnames(df)[4]), \n",
    "#     \"\\n(\", set_sizes, \")\"\n",
    "#   )\n",
    "  \n",
    "\n",
    "#   category_names <- c(\" \", \"  \",\"   \",\"    \")\n",
    "    \n",
    "#   venn.plot <- venn.diagram(\n",
    "#     x = venn_list,\n",
    "#     category.names = category_names,  \n",
    "#     lwd = 2,\n",
    "#     lty = 'blank',\n",
    "#     fill = c(\"darkolivegreen4\", \"gold3\", \"cornsilk4\", \"#009E73\"),\n",
    "#     cex = .9,\n",
    "#     fontface = \"italic\",\n",
    "#     cat.cex = 1,\n",
    "#     cat.fontface = \"bold\",\n",
    "#     cat.default.pos = \"outer\",\n",
    "#     cat.dist = c(0.055, 0.055, 0.1, 0.1),\n",
    "#     filename = NULL,  \n",
    "#     output = TRUE\n",
    "#   )\n",
    "  \n",
    "  \n",
    "#   grid.draw(venn.plot)\n",
    "\n",
    "#   ggsave(file=filename, plot=venn.plot, width=10, height=8, dpi = 300)\n",
    "# }\n"
   ]
  },
  {
   "cell_type": "code",
   "execution_count": 50,
   "metadata": {},
   "outputs": [
    {
     "data": {
      "image/png": "[encoded data removed]",
      "text/plain": [
       "plot without title"
      ]
     },
     "metadata": {
      "image/png": {
       "height": 420,
       "width": 420
      }
     },
     "output_type": "display_data"
    }
   ],
   "source": [
    "plot_venn(genes_curated, \"outs/genes_curated_.png\")"
   ]
  },
  {
   "cell_type": "code",
   "execution_count": 51,
   "metadata": {
    "ExecuteTime": {
     "end_time": "2024-01-19T13:13:29.282304Z",
     "start_time": "2024-01-19T13:13:29.113Z"
    }
   },
   "outputs": [
    {
     "data": {
      "image/png": "[encoded data removed]",
      "text/plain": [
       "plot without title"
      ]
     },
     "metadata": {
      "image/png": {
       "height": 420,
       "width": 420
      }
     },
     "output_type": "display_data"
    }
   ],
   "source": [
    "plot_venn(pairs_curated, \"outs/pairs_curated_.png\")"
   ]
  },
  {
   "cell_type": "markdown",
   "metadata": {},
   "source": [
    "You will spot below, in `genes_curated_predicted` the gene GPR1 appears in all databases except the community one. After checking, I found that GPR1 is actually a previous name for CMKLR2. The community database includes it as CMKLR2, unlike the others, which still list it as GPR1."
   ]
  },
  {
   "cell_type": "code",
   "execution_count": 42,
   "metadata": {},
   "outputs": [
    {
     "data": {
      "text/html": [
       "1530"
      ],
      "text/latex": [
       "1530"
      ],
      "text/markdown": [
       "1530"
      ],
      "text/plain": [
       "[1] 1530"
      ]
     },
     "metadata": {},
     "output_type": "display_data"
    }
   ],
   "source": [
    "which(genes_curated_predicted$community == FALSE & genes_curated_predicted$CellChat == TRUE & genes_curated_predicted$CPDB == TRUE & genes_curated_predicted$NicheNet == TRUE)"
   ]
  },
  {
   "cell_type": "code",
   "execution_count": 43,
   "metadata": {},
   "outputs": [
    {
     "data": {
      "text/html": [
       "<table class=\"dataframe\">\n",
       "<caption>A data.frame: 1 × 4</caption>\n",
       "<thead>\n",
       "\t<tr><th></th><th scope=col>community</th><th scope=col>CPDB</th><th scope=col>NicheNet</th><th scope=col>CellChat</th></tr>\n",
       "\t<tr><th></th><th scope=col>&lt;lgl&gt;</th><th scope=col>&lt;lgl&gt;</th><th scope=col>&lt;lgl&gt;</th><th scope=col>&lt;lgl&gt;</th></tr>\n",
       "</thead>\n",
       "<tbody>\n",
       "\t<tr><th scope=row>GPR1</th><td>FALSE</td><td>TRUE</td><td>TRUE</td><td>TRUE</td></tr>\n",
       "</tbody>\n",
       "</table>\n"
      ],
      "text/latex": [
       "A data.frame: 1 × 4\n",
       "\\begin{tabular}{r|llll}\n",
       "  & community & CPDB & NicheNet & CellChat\\\\\n",
       "  & <lgl> & <lgl> & <lgl> & <lgl>\\\\\n",
       "\\hline\n",
       "\tGPR1 & FALSE & TRUE & TRUE & TRUE\\\\\n",
       "\\end{tabular}\n"
      ],
      "text/markdown": [
       "\n",
       "A data.frame: 1 × 4\n",
       "\n",
       "| <!--/--> | community &lt;lgl&gt; | CPDB &lt;lgl&gt; | NicheNet &lt;lgl&gt; | CellChat &lt;lgl&gt; |\n",
       "|---|---|---|---|---|\n",
       "| GPR1 | FALSE | TRUE | TRUE | TRUE |\n",
       "\n"
      ],
      "text/plain": [
       "     community CPDB NicheNet CellChat\n",
       "GPR1 FALSE     TRUE TRUE     TRUE    "
      ]
     },
     "metadata": {},
     "output_type": "display_data"
    }
   ],
   "source": [
    "genes_curated_predicted[1530,]"
   ]
  },
  {
   "cell_type": "code",
   "execution_count": 44,
   "metadata": {},
   "outputs": [
    {
     "data": {
      "text/html": [
       "<table class=\"dataframe\">\n",
       "<caption>A data.frame: 1 × 4</caption>\n",
       "<thead>\n",
       "\t<tr><th></th><th scope=col>community</th><th scope=col>CPDB</th><th scope=col>NicheNet</th><th scope=col>CellChat</th></tr>\n",
       "\t<tr><th></th><th scope=col>&lt;lgl&gt;</th><th scope=col>&lt;lgl&gt;</th><th scope=col>&lt;lgl&gt;</th><th scope=col>&lt;lgl&gt;</th></tr>\n",
       "</thead>\n",
       "<tbody>\n",
       "\t<tr><th scope=row>CMKLR2</th><td>TRUE</td><td>FALSE</td><td>FALSE</td><td>FALSE</td></tr>\n",
       "</tbody>\n",
       "</table>\n"
      ],
      "text/latex": [
       "A data.frame: 1 × 4\n",
       "\\begin{tabular}{r|llll}\n",
       "  & community & CPDB & NicheNet & CellChat\\\\\n",
       "  & <lgl> & <lgl> & <lgl> & <lgl>\\\\\n",
       "\\hline\n",
       "\tCMKLR2 & TRUE & FALSE & FALSE & FALSE\\\\\n",
       "\\end{tabular}\n"
      ],
      "text/markdown": [
       "\n",
       "A data.frame: 1 × 4\n",
       "\n",
       "| <!--/--> | community &lt;lgl&gt; | CPDB &lt;lgl&gt; | NicheNet &lt;lgl&gt; | CellChat &lt;lgl&gt; |\n",
       "|---|---|---|---|---|\n",
       "| CMKLR2 | TRUE | FALSE | FALSE | FALSE |\n",
       "\n"
      ],
      "text/plain": [
       "       community CPDB  NicheNet CellChat\n",
       "CMKLR2 TRUE      FALSE FALSE    FALSE   "
      ]
     },
     "metadata": {},
     "output_type": "display_data"
    }
   ],
   "source": [
    "genes_curated_predicted[rownames(genes_curated_predicted)==\"CMKLR2\",]"
   ]
  },
  {
   "cell_type": "code",
   "execution_count": 52,
   "metadata": {
    "ExecuteTime": {
     "end_time": "2024-01-19T13:12:32.140413Z",
     "start_time": "2024-01-19T13:12:31.979Z"
    }
   },
   "outputs": [
    {
     "data": {
      "image/png": "[encoded data removed]",
      "text/plain": [
       "plot without title"
      ]
     },
     "metadata": {
      "image/png": {
       "height": 420,
       "width": 420
      }
     },
     "output_type": "display_data"
    }
   ],
   "source": [
    "plot_venn(genes_curated_predicted, \"outs/genes_curated_predicted_.png\")"
   ]
  },
  {
   "cell_type": "code",
   "execution_count": 53,
   "metadata": {
    "ExecuteTime": {
     "end_time": "2024-01-19T13:15:50.813628Z",
     "start_time": "2024-01-19T13:15:50.615Z"
    }
   },
   "outputs": [
    {
     "data": {
      "image/png": "[encoded data removed]",
      "text/plain": [
       "plot without title"
      ]
     },
     "metadata": {
      "image/png": {
       "height": 420,
       "width": 420
      }
     },
     "output_type": "display_data"
    }
   ],
   "source": [
    "plot_venn(pairs_curated_predicted, \"outs/pairs_curated_predicted_.png\")"
   ]
  },
  {
   "cell_type": "code",
   "execution_count": 47,
   "metadata": {
    "ExecuteTime": {
     "end_time": "2024-01-19T13:16:28.761972Z",
     "start_time": "2024-01-19T13:16:28.566Z"
    }
   },
   "outputs": [
    {
     "data": {
      "text/plain": [
       "R version 4.4.1 (2024-06-14)\n",
       "Platform: x86_64-conda-linux-gnu\n",
       "Running under: CentOS Linux 7 (Core)\n",
       "\n",
       "Matrix products: default\n",
       "BLAS/LAPACK: /work/project/ladcol_011/conda_path/miniconda3/envs/cellchat/lib/libopenblasp-r0.3.27.so;  LAPACK version 3.12.0\n",
       "\n",
       "locale:\n",
       " [1] LC_CTYPE=en_US.UTF-8       LC_NUMERIC=C              \n",
       " [3] LC_TIME=de_DE.UTF-8        LC_COLLATE=en_US.UTF-8    \n",
       " [5] LC_MONETARY=de_DE.UTF-8    LC_MESSAGES=en_US.UTF-8   \n",
       " [7] LC_PAPER=de_DE.UTF-8       LC_NAME=C                 \n",
       " [9] LC_ADDRESS=C               LC_TELEPHONE=C            \n",
       "[11] LC_MEASUREMENT=de_DE.UTF-8 LC_IDENTIFICATION=C       \n",
       "\n",
       "time zone: Europe/Berlin\n",
       "tzcode source: system (glibc)\n",
       "\n",
       "attached base packages:\n",
       "[1] grid      stats     graphics  grDevices utils     datasets  methods  \n",
       "[8] base     \n",
       "\n",
       "other attached packages:\n",
       "[1] svglite_2.1.3       ggplot2_3.5.1       VennDiagram_1.7.3  \n",
       "[4] futile.logger_1.4.3\n",
       "\n",
       "loaded via a namespace (and not attached):\n",
       " [1] crayon_1.5.3         vctrs_0.6.5          cli_3.6.3           \n",
       " [4] rlang_1.1.4          generics_0.1.3       textshaping_0.4.0   \n",
       " [7] jsonlite_1.8.8       glue_1.7.0           colorspace_2.1-1    \n",
       "[10] htmltools_0.5.8.1    IRdisplay_1.1        ragg_1.3.2          \n",
       "[13] IRkernel_1.3.2       formatR_1.14         scales_1.3.0        \n",
       "[16] fansi_1.0.6          tibble_3.2.1         munsell_0.5.1       \n",
       "[19] evaluate_0.24.0      fastmap_1.2.0        base64enc_0.1-3     \n",
       "[22] lifecycle_1.0.4      compiler_4.4.1       dplyr_1.1.4         \n",
       "[25] pkgconfig_2.0.3      lambda.r_1.2.4       systemfonts_1.1.0   \n",
       "[28] pbdZMQ_0.3-11        digest_0.6.37        R6_2.5.1            \n",
       "[31] tidyselect_1.2.1     futile.options_1.0.1 repr_1.1.7          \n",
       "[34] utf8_1.2.4           pillar_1.9.0         magrittr_2.0.3      \n",
       "[37] withr_3.0.1          uuid_1.2-1           tools_4.4.1         \n",
       "[40] gtable_0.3.5        "
      ]
     },
     "metadata": {},
     "output_type": "display_data"
    }
   ],
   "source": [
    "sessionInfo()"
   ]
  },
  {
   "cell_type": "code",
   "execution_count": null,
   "metadata": {},
   "outputs": [],
   "source": []
  }
 ],
 "metadata": {
  "kernelspec": {
   "display_name": "R",
   "language": "R",
   "name": "ir"
  },
  "language_info": {
   "codemirror_mode": "r",
   "file_extension": ".r",
   "mimetype": "text/x-r-source",
   "name": "R",
   "pygments_lexer": "r",
   "version": "4.4.1"
  },
  "toc": {
   "base_numbering": 1,
   "nav_menu": {},
   "number_sections": true,
   "sideBar": true,
   "skip_h1_title": false,
   "title_cell": "Table of Contents",
   "title_sidebar": "Contents",
   "toc_cell": false,
   "toc_position": {},
   "toc_section_display": true,
   "toc_window_display": false
  }
 },
 "nbformat": 4,
 "nbformat_minor": 4
}
