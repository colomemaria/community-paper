{
 "cells": [
  {
   "cell_type": "markdown",
   "id": "6e9b8ef1",
   "metadata": {},
   "source": [
    "# Libraries"
   ]
  },
  {
   "cell_type": "code",
   "execution_count": 1,
   "id": "c1ff444f",
   "metadata": {},
   "outputs": [],
   "source": [
    "import pandas as pd\n",
    "import numpy as np\n",
    "from matplotlib_venn import venn2, venn2_circles, venn2_unweighted\n",
    "from matplotlib_venn import venn3, venn3_circles\n",
    "import matplotlib.pyplot as plt\n",
    "import pyreadr"
   ]
  },
  {
   "cell_type": "markdown",
   "id": "225d7699",
   "metadata": {},
   "source": [
    "# Load data"
   ]
  },
  {
   "cell_type": "code",
   "execution_count": 2,
   "id": "6a79673a",
   "metadata": {},
   "outputs": [],
   "source": [
    "community = pd.read_csv ('inputs/community_db.csv', index_col=None)"
   ]
  },
  {
   "cell_type": "code",
   "execution_count": 3,
   "id": "b808d75f",
   "metadata": {},
   "outputs": [
    {
     "data": {
      "text/html": [
       "<div>\n",
       "<style scoped>\n",
       "    .dataframe tbody tr th:only-of-type {\n",
       "        vertical-align: middle;\n",
       "    }\n",
       "\n",
       "    .dataframe tbody tr th {\n",
       "        vertical-align: top;\n",
       "    }\n",
       "\n",
       "    .dataframe thead th {\n",
       "        text-align: right;\n",
       "    }\n",
       "</style>\n",
       "<table border=\"1\" class=\"dataframe\">\n",
       "  <thead>\n",
       "    <tr style=\"text-align: right;\">\n",
       "      <th></th>\n",
       "      <th>Unnamed: 0</th>\n",
       "      <th>True_LR</th>\n",
       "      <th>Pair.Name</th>\n",
       "      <th>Ligand</th>\n",
       "      <th>Ligand.Name</th>\n",
       "      <th>Receptor</th>\n",
       "      <th>Receptor.Name</th>\n",
       "      <th>complex_pair</th>\n",
       "      <th>source</th>\n",
       "      <th>target</th>\n",
       "      <th>...</th>\n",
       "      <th>is_inhibition</th>\n",
       "      <th>consensus_direction</th>\n",
       "      <th>consensus_stimulation</th>\n",
       "      <th>consensus_inhibition</th>\n",
       "      <th>sources</th>\n",
       "      <th>references</th>\n",
       "      <th>curation_effort</th>\n",
       "      <th>n_references</th>\n",
       "      <th>n_resources</th>\n",
       "      <th>annotation_strategy</th>\n",
       "    </tr>\n",
       "  </thead>\n",
       "  <tbody>\n",
       "    <tr>\n",
       "      <th>0</th>\n",
       "      <td>1</td>\n",
       "      <td>True</td>\n",
       "      <td>S100A10_TRPV6</td>\n",
       "      <td>S100A10</td>\n",
       "      <td>S100 calcium binding protein A10</td>\n",
       "      <td>TRPV6</td>\n",
       "      <td>transient receptor potential cation channel su...</td>\n",
       "      <td>NaN</td>\n",
       "      <td>P60903</td>\n",
       "      <td>Q9H1D0</td>\n",
       "      <td>...</td>\n",
       "      <td>0</td>\n",
       "      <td>1</td>\n",
       "      <td>1</td>\n",
       "      <td>0</td>\n",
       "      <td>CellTalkDB;HPRD;TRIP</td>\n",
       "      <td>CellTalkDB:18187190;HPRD:12660155;TRIP:1266015...</td>\n",
       "      <td>5</td>\n",
       "      <td>3</td>\n",
       "      <td>3</td>\n",
       "      <td>both</td>\n",
       "    </tr>\n",
       "    <tr>\n",
       "      <th>1</th>\n",
       "      <td>2</td>\n",
       "      <td>True</td>\n",
       "      <td>JAG2_NOTCH1</td>\n",
       "      <td>JAG2</td>\n",
       "      <td>jagged canonical Notch ligand 2</td>\n",
       "      <td>NOTCH1</td>\n",
       "      <td>notch receptor 1</td>\n",
       "      <td>NaN</td>\n",
       "      <td>Q9Y219</td>\n",
       "      <td>P46531</td>\n",
       "      <td>...</td>\n",
       "      <td>1</td>\n",
       "      <td>1</td>\n",
       "      <td>1</td>\n",
       "      <td>0</td>\n",
       "      <td>Baccin2019;CellCall;CellChatDB;CellPhoneDB;Cel...</td>\n",
       "      <td>Baccin2019:1100613311006130;CellChatDB:2235346...</td>\n",
       "      <td>19</td>\n",
       "      <td>11</td>\n",
       "      <td>20</td>\n",
       "      <td>both</td>\n",
       "    </tr>\n",
       "    <tr>\n",
       "      <th>2</th>\n",
       "      <td>3</td>\n",
       "      <td>True</td>\n",
       "      <td>DLL1_NOTCH1</td>\n",
       "      <td>DLL1</td>\n",
       "      <td>delta like canonical Notch ligand 1</td>\n",
       "      <td>NOTCH1</td>\n",
       "      <td>notch receptor 1</td>\n",
       "      <td>NaN</td>\n",
       "      <td>O00548</td>\n",
       "      <td>P46531</td>\n",
       "      <td>...</td>\n",
       "      <td>0</td>\n",
       "      <td>1</td>\n",
       "      <td>1</td>\n",
       "      <td>0</td>\n",
       "      <td>Baccin2019;CellCall;CellChatDB;CellPhoneDB;Cel...</td>\n",
       "      <td>Baccin2019:1006133;Baccin2019:98194281;CellCha...</td>\n",
       "      <td>18</td>\n",
       "      <td>9</td>\n",
       "      <td>20</td>\n",
       "      <td>both</td>\n",
       "    </tr>\n",
       "    <tr>\n",
       "      <th>3</th>\n",
       "      <td>4</td>\n",
       "      <td>True</td>\n",
       "      <td>IGF1_IGF1R</td>\n",
       "      <td>IGF1</td>\n",
       "      <td>insulin like growth factor 1</td>\n",
       "      <td>IGF1R</td>\n",
       "      <td>insulin like growth factor 1 receptor</td>\n",
       "      <td>NaN</td>\n",
       "      <td>P05019</td>\n",
       "      <td>P08069</td>\n",
       "      <td>...</td>\n",
       "      <td>0</td>\n",
       "      <td>1</td>\n",
       "      <td>1</td>\n",
       "      <td>0</td>\n",
       "      <td>Baccin2019;CA1;CellCall;CellChatDB;CellPhoneDB...</td>\n",
       "      <td>Baccin2019:1852007;Baccin2019:2877871;CA1:8408...</td>\n",
       "      <td>27</td>\n",
       "      <td>15</td>\n",
       "      <td>26</td>\n",
       "      <td>both</td>\n",
       "    </tr>\n",
       "    <tr>\n",
       "      <th>4</th>\n",
       "      <td>5</td>\n",
       "      <td>True</td>\n",
       "      <td>JAG1_NOTCH1</td>\n",
       "      <td>JAG1</td>\n",
       "      <td>jagged canonical Notch ligand 1</td>\n",
       "      <td>NOTCH1</td>\n",
       "      <td>notch receptor 1</td>\n",
       "      <td>NaN</td>\n",
       "      <td>P78504</td>\n",
       "      <td>P46531</td>\n",
       "      <td>...</td>\n",
       "      <td>1</td>\n",
       "      <td>1</td>\n",
       "      <td>1</td>\n",
       "      <td>0</td>\n",
       "      <td>ACSN;Baccin2019;BioGRID;CellCall;CellChatDB;Ce...</td>\n",
       "      <td>ACSN:22330899;ACSN:22363130;Baccin2019:7697721...</td>\n",
       "      <td>36</td>\n",
       "      <td>20</td>\n",
       "      <td>27</td>\n",
       "      <td>both</td>\n",
       "    </tr>\n",
       "    <tr>\n",
       "      <th>...</th>\n",
       "      <td>...</td>\n",
       "      <td>...</td>\n",
       "      <td>...</td>\n",
       "      <td>...</td>\n",
       "      <td>...</td>\n",
       "      <td>...</td>\n",
       "      <td>...</td>\n",
       "      <td>...</td>\n",
       "      <td>...</td>\n",
       "      <td>...</td>\n",
       "      <td>...</td>\n",
       "      <td>...</td>\n",
       "      <td>...</td>\n",
       "      <td>...</td>\n",
       "      <td>...</td>\n",
       "      <td>...</td>\n",
       "      <td>...</td>\n",
       "      <td>...</td>\n",
       "      <td>...</td>\n",
       "      <td>...</td>\n",
       "      <td>...</td>\n",
       "    </tr>\n",
       "    <tr>\n",
       "      <th>6936</th>\n",
       "      <td>29501</td>\n",
       "      <td>False</td>\n",
       "      <td>FLT1_NRP1</td>\n",
       "      <td>FLT1</td>\n",
       "      <td>fms related receptor tyrosine kinase 1</td>\n",
       "      <td>NRP1</td>\n",
       "      <td>neuropilin 1</td>\n",
       "      <td>NRP1_FLT1_KDR</td>\n",
       "      <td>O14786</td>\n",
       "      <td>COMPLEX:P17948_P35968</td>\n",
       "      <td>...</td>\n",
       "      <td>0</td>\n",
       "      <td>1</td>\n",
       "      <td>1</td>\n",
       "      <td>0</td>\n",
       "      <td>CellChatDB-cofactors</td>\n",
       "      <td>NaN</td>\n",
       "      <td>0</td>\n",
       "      <td>0</td>\n",
       "      <td>1</td>\n",
       "      <td>LR</td>\n",
       "    </tr>\n",
       "    <tr>\n",
       "      <th>6937</th>\n",
       "      <td>29521</td>\n",
       "      <td>False</td>\n",
       "      <td>NRP2_KDR</td>\n",
       "      <td>NRP2</td>\n",
       "      <td>neuropilin 2</td>\n",
       "      <td>KDR</td>\n",
       "      <td>kinase insert domain receptor</td>\n",
       "      <td>NRP2_FLT1_KDR</td>\n",
       "      <td>O60462</td>\n",
       "      <td>COMPLEX:P17948_P35968</td>\n",
       "      <td>...</td>\n",
       "      <td>0</td>\n",
       "      <td>1</td>\n",
       "      <td>1</td>\n",
       "      <td>0</td>\n",
       "      <td>CellChatDB-cofactors</td>\n",
       "      <td>NaN</td>\n",
       "      <td>0</td>\n",
       "      <td>0</td>\n",
       "      <td>1</td>\n",
       "      <td>LR</td>\n",
       "    </tr>\n",
       "    <tr>\n",
       "      <th>6938</th>\n",
       "      <td>29531</td>\n",
       "      <td>False</td>\n",
       "      <td>FLT1_NRP2</td>\n",
       "      <td>FLT1</td>\n",
       "      <td>fms related receptor tyrosine kinase 1</td>\n",
       "      <td>NRP2</td>\n",
       "      <td>neuropilin 2</td>\n",
       "      <td>NRP2_FLT1_KDR</td>\n",
       "      <td>O60462</td>\n",
       "      <td>COMPLEX:P17948_P35968</td>\n",
       "      <td>...</td>\n",
       "      <td>0</td>\n",
       "      <td>1</td>\n",
       "      <td>1</td>\n",
       "      <td>0</td>\n",
       "      <td>CellChatDB-cofactors</td>\n",
       "      <td>NaN</td>\n",
       "      <td>0</td>\n",
       "      <td>0</td>\n",
       "      <td>1</td>\n",
       "      <td>LR</td>\n",
       "    </tr>\n",
       "    <tr>\n",
       "      <th>6939</th>\n",
       "      <td>29541</td>\n",
       "      <td>False</td>\n",
       "      <td>FLT4_NRP2</td>\n",
       "      <td>FLT4</td>\n",
       "      <td>fms related receptor tyrosine kinase 4</td>\n",
       "      <td>NRP2</td>\n",
       "      <td>neuropilin 2</td>\n",
       "      <td>NRP2_FLT4_KDR</td>\n",
       "      <td>O60462</td>\n",
       "      <td>COMPLEX:P35916_P35968</td>\n",
       "      <td>...</td>\n",
       "      <td>0</td>\n",
       "      <td>1</td>\n",
       "      <td>1</td>\n",
       "      <td>0</td>\n",
       "      <td>CellChatDB-cofactors</td>\n",
       "      <td>NaN</td>\n",
       "      <td>0</td>\n",
       "      <td>0</td>\n",
       "      <td>1</td>\n",
       "      <td>LR</td>\n",
       "    </tr>\n",
       "    <tr>\n",
       "      <th>6940</th>\n",
       "      <td>29551</td>\n",
       "      <td>False</td>\n",
       "      <td>LRP2_PTCH1</td>\n",
       "      <td>LRP2</td>\n",
       "      <td>LDL receptor related protein 2</td>\n",
       "      <td>PTCH1</td>\n",
       "      <td>patched 1</td>\n",
       "      <td>LRP2_PTCH1_SMO</td>\n",
       "      <td>P98164</td>\n",
       "      <td>COMPLEX:Q13635_Q99835</td>\n",
       "      <td>...</td>\n",
       "      <td>0</td>\n",
       "      <td>1</td>\n",
       "      <td>1</td>\n",
       "      <td>0</td>\n",
       "      <td>CellChatDB-cofactors</td>\n",
       "      <td>NaN</td>\n",
       "      <td>0</td>\n",
       "      <td>0</td>\n",
       "      <td>1</td>\n",
       "      <td>LR</td>\n",
       "    </tr>\n",
       "  </tbody>\n",
       "</table>\n",
       "<p>6941 rows × 22 columns</p>\n",
       "</div>"
      ],
      "text/plain": [
       "      Unnamed: 0  True_LR      Pair.Name   Ligand  \\\n",
       "0              1     True  S100A10_TRPV6  S100A10   \n",
       "1              2     True    JAG2_NOTCH1     JAG2   \n",
       "2              3     True    DLL1_NOTCH1     DLL1   \n",
       "3              4     True     IGF1_IGF1R     IGF1   \n",
       "4              5     True    JAG1_NOTCH1     JAG1   \n",
       "...          ...      ...            ...      ...   \n",
       "6936       29501    False      FLT1_NRP1     FLT1   \n",
       "6937       29521    False       NRP2_KDR     NRP2   \n",
       "6938       29531    False      FLT1_NRP2     FLT1   \n",
       "6939       29541    False      FLT4_NRP2     FLT4   \n",
       "6940       29551    False     LRP2_PTCH1     LRP2   \n",
       "\n",
       "                                 Ligand.Name Receptor  \\\n",
       "0           S100 calcium binding protein A10    TRPV6   \n",
       "1            jagged canonical Notch ligand 2   NOTCH1   \n",
       "2        delta like canonical Notch ligand 1   NOTCH1   \n",
       "3               insulin like growth factor 1    IGF1R   \n",
       "4            jagged canonical Notch ligand 1   NOTCH1   \n",
       "...                                      ...      ...   \n",
       "6936  fms related receptor tyrosine kinase 1     NRP1   \n",
       "6937                            neuropilin 2      KDR   \n",
       "6938  fms related receptor tyrosine kinase 1     NRP2   \n",
       "6939  fms related receptor tyrosine kinase 4     NRP2   \n",
       "6940          LDL receptor related protein 2    PTCH1   \n",
       "\n",
       "                                          Receptor.Name    complex_pair  \\\n",
       "0     transient receptor potential cation channel su...             NaN   \n",
       "1                                      notch receptor 1             NaN   \n",
       "2                                      notch receptor 1             NaN   \n",
       "3                 insulin like growth factor 1 receptor             NaN   \n",
       "4                                      notch receptor 1             NaN   \n",
       "...                                                 ...             ...   \n",
       "6936                                       neuropilin 1   NRP1_FLT1_KDR   \n",
       "6937                      kinase insert domain receptor   NRP2_FLT1_KDR   \n",
       "6938                                       neuropilin 2   NRP2_FLT1_KDR   \n",
       "6939                                       neuropilin 2   NRP2_FLT4_KDR   \n",
       "6940                                          patched 1  LRP2_PTCH1_SMO   \n",
       "\n",
       "      source                 target  ...  is_inhibition  consensus_direction  \\\n",
       "0     P60903                 Q9H1D0  ...              0                    1   \n",
       "1     Q9Y219                 P46531  ...              1                    1   \n",
       "2     O00548                 P46531  ...              0                    1   \n",
       "3     P05019                 P08069  ...              0                    1   \n",
       "4     P78504                 P46531  ...              1                    1   \n",
       "...      ...                    ...  ...            ...                  ...   \n",
       "6936  O14786  COMPLEX:P17948_P35968  ...              0                    1   \n",
       "6937  O60462  COMPLEX:P17948_P35968  ...              0                    1   \n",
       "6938  O60462  COMPLEX:P17948_P35968  ...              0                    1   \n",
       "6939  O60462  COMPLEX:P35916_P35968  ...              0                    1   \n",
       "6940  P98164  COMPLEX:Q13635_Q99835  ...              0                    1   \n",
       "\n",
       "      consensus_stimulation  consensus_inhibition  \\\n",
       "0                         1                     0   \n",
       "1                         1                     0   \n",
       "2                         1                     0   \n",
       "3                         1                     0   \n",
       "4                         1                     0   \n",
       "...                     ...                   ...   \n",
       "6936                      1                     0   \n",
       "6937                      1                     0   \n",
       "6938                      1                     0   \n",
       "6939                      1                     0   \n",
       "6940                      1                     0   \n",
       "\n",
       "                                                sources  \\\n",
       "0                                  CellTalkDB;HPRD;TRIP   \n",
       "1     Baccin2019;CellCall;CellChatDB;CellPhoneDB;Cel...   \n",
       "2     Baccin2019;CellCall;CellChatDB;CellPhoneDB;Cel...   \n",
       "3     Baccin2019;CA1;CellCall;CellChatDB;CellPhoneDB...   \n",
       "4     ACSN;Baccin2019;BioGRID;CellCall;CellChatDB;Ce...   \n",
       "...                                                 ...   \n",
       "6936                               CellChatDB-cofactors   \n",
       "6937                               CellChatDB-cofactors   \n",
       "6938                               CellChatDB-cofactors   \n",
       "6939                               CellChatDB-cofactors   \n",
       "6940                               CellChatDB-cofactors   \n",
       "\n",
       "                                             references curation_effort  \\\n",
       "0     CellTalkDB:18187190;HPRD:12660155;TRIP:1266015...               5   \n",
       "1     Baccin2019:1100613311006130;CellChatDB:2235346...              19   \n",
       "2     Baccin2019:1006133;Baccin2019:98194281;CellCha...              18   \n",
       "3     Baccin2019:1852007;Baccin2019:2877871;CA1:8408...              27   \n",
       "4     ACSN:22330899;ACSN:22363130;Baccin2019:7697721...              36   \n",
       "...                                                 ...             ...   \n",
       "6936                                                NaN               0   \n",
       "6937                                                NaN               0   \n",
       "6938                                                NaN               0   \n",
       "6939                                                NaN               0   \n",
       "6940                                                NaN               0   \n",
       "\n",
       "     n_references  n_resources  annotation_strategy  \n",
       "0               3            3                 both  \n",
       "1              11           20                 both  \n",
       "2               9           20                 both  \n",
       "3              15           26                 both  \n",
       "4              20           27                 both  \n",
       "...           ...          ...                  ...  \n",
       "6936            0            1                   LR  \n",
       "6937            0            1                   LR  \n",
       "6938            0            1                   LR  \n",
       "6939            0            1                   LR  \n",
       "6940            0            1                   LR  \n",
       "\n",
       "[6941 rows x 22 columns]"
      ]
     },
     "execution_count": 3,
     "metadata": {},
     "output_type": "execute_result"
    }
   ],
   "source": [
    "community"
   ]
  },
  {
   "cell_type": "markdown",
   "id": "88437f93",
   "metadata": {},
   "source": [
    "**Note on CellPhoneDB:**\n",
    "\n",
    "CellPhoneDB uses an SQL database, which is provided as a .db file containing 6 tables. To work with these tables, we extract their data as CSV files, as explained in detail in the notebook RestructureCPDB/BreakdownCPDB.ipynb.\n",
    "\n",
    "One feature of CPDB is that it doesn't have directionality. To make the data easier to work with, we put the ligands of each pair in one column and the receptors in another column. However, if the pair consists of adhesion molecules that bind to each other, the order doesn't matter.\n",
    "\n",
    "Another challenge we faced is that CPDB contains complex molecules, which are not present in the databases used by `community` and `NicheNet`. To address this, we break down each complex into its individual components and create pairwise links between them. For example, if we have a complex called R1_R2 (consisting of two receptors) that is paired with ligand L1, we break down this pair into L1_R1 and L1_R2.\n",
    "\n",
    "\n",
    "In their default DB, a complex molecule is given an ID that is greater than 1282"
   ]
  },
  {
   "cell_type": "code",
   "execution_count": 4,
   "id": "4fea7fe3",
   "metadata": {},
   "outputs": [],
   "source": [
    "cpdb = pd.read_csv ('inputs/cpdb_db.csv', index_col=None)"
   ]
  },
  {
   "cell_type": "code",
   "execution_count": 5,
   "id": "a924e9d1",
   "metadata": {},
   "outputs": [],
   "source": [
    "nnet_lr = pd.read_csv ('inputs/nichenetr_db.csv', index_col=None)"
   ]
  },
  {
   "cell_type": "code",
   "execution_count": 6,
   "id": "2ffd1532",
   "metadata": {},
   "outputs": [],
   "source": [
    "#create pairs in nnet\n",
    "nnet_lr[\"pairs\"]=nnet_lr[\"from\"] + \"_\" + nnet_lr[\"to\"]"
   ]
  },
  {
   "cell_type": "markdown",
   "id": "80d2ec3a",
   "metadata": {},
   "source": [
    "# Ligand-receptor pairs"
   ]
  },
  {
   "cell_type": "markdown",
   "id": "bc5c8ade",
   "metadata": {},
   "source": [
    "## Compare original databases"
   ]
  },
  {
   "cell_type": "code",
   "execution_count": 7,
   "id": "cffd0fd5",
   "metadata": {},
   "outputs": [],
   "source": [
    "#get unique list of pairs in Commpackage\n",
    "community_pairs = set(community['Pair.Name'])"
   ]
  },
  {
   "cell_type": "code",
   "execution_count": 8,
   "id": "a121e28f",
   "metadata": {},
   "outputs": [],
   "source": [
    "#get unique list of pairs in cpdb\n",
    "\n",
    "cpdb_pairs = set(cpdb['pairs'])"
   ]
  },
  {
   "cell_type": "code",
   "execution_count": 9,
   "id": "16ceb285",
   "metadata": {},
   "outputs": [],
   "source": [
    "#get unique list of pairs in nnet\n",
    "\n",
    "nnet_pairs = set(nnet_lr['pairs'])"
   ]
  },
  {
   "cell_type": "markdown",
   "id": "69fb4d90",
   "metadata": {},
   "source": [
    "**Curated + predicted**"
   ]
  },
  {
   "cell_type": "code",
   "execution_count": 10,
   "id": "9aa71974",
   "metadata": {},
   "outputs": [],
   "source": [
    "pairs_list = set(list(community_pairs)+list(cpdb_pairs)+list(nnet_pairs))"
   ]
  },
  {
   "cell_type": "code",
   "execution_count": 11,
   "id": "de67de9d",
   "metadata": {},
   "outputs": [],
   "source": [
    "to_export = {\n",
    "    'ID': list(pairs_list),\n",
    "    'community': [True if pair in community_pairs else False for pair in pairs_list],\n",
    "    'CPDB': [True if pair in cpdb_pairs else False for pair in pairs_list],\n",
    "    'NicheNet': [True if pair in nnet_pairs else False for pair in pairs_list]\n",
    "}"
   ]
  },
  {
   "cell_type": "code",
   "execution_count": 12,
   "id": "257fe01c",
   "metadata": {},
   "outputs": [],
   "source": [
    "to_export = pd.DataFrame(to_export)"
   ]
  },
  {
   "cell_type": "code",
   "execution_count": 13,
   "id": "a4cfc3d6",
   "metadata": {},
   "outputs": [],
   "source": [
    "to_export.to_csv(\"inputs/pairs_curated_predicted.csv\")"
   ]
  },
  {
   "cell_type": "code",
   "execution_count": 14,
   "id": "d6f0257f",
   "metadata": {},
   "outputs": [],
   "source": [
    "notin_community=to_export[to_export[\"community\"]==False]"
   ]
  },
  {
   "cell_type": "code",
   "execution_count": 15,
   "id": "93c5b609",
   "metadata": {},
   "outputs": [],
   "source": [
    "notin=list()\n",
    "count=0\n",
    "for x in notin_community[\"ID\"]:\n",
    "    rev=x.split('_')\n",
    "    rev=rev[1]+\"_\"+rev[0]\n",
    "    if rev not in community_pairs:\n",
    "        notin.append(x)\n",
    "    else:\n",
    "        count += 1"
   ]
  },
  {
   "cell_type": "markdown",
   "id": "342a14a9",
   "metadata": {},
   "source": [
    "We are checking if any pairs that are not in the community exist in reverse order in other databases. We have found that 289 pairs appear in other databases in reverse order.\n",
    "\n",
    "In addition, we are investigating each database separately to determine why the pairs are not in our database. Specifically, we are currently examining CPDB to identify any reasons why certain pairs are missing.\n",
    "\n",
    "The `pid1` and `pid2` columns in CPDB dataset indicate the original pairID from CPDB. Although CPDB assigns pairIDs starting from 1, complex molecules are assigned IDs greater than or equal to 1282. We have observed that the pairs that are not present in our community database are actually part of complex molecules in CPDB."
   ]
  },
  {
   "cell_type": "code",
   "execution_count": 16,
   "id": "7d5dbad3",
   "metadata": {},
   "outputs": [],
   "source": [
    "not_community_yes_cpdb=notin_community[notin_community[\"ID\"].isin(notin) & notin_community[\"CPDB\"] == True]"
   ]
  },
  {
   "cell_type": "code",
   "execution_count": 17,
   "id": "30b7b154",
   "metadata": {},
   "outputs": [],
   "source": [
    "#retrieve the table from the original df, so we can check where these pairs are originating from\n",
    "x=cpdb[cpdb[\"pairs\"].isin(not_community_yes_cpdb[\"ID\"])]"
   ]
  },
  {
   "cell_type": "code",
   "execution_count": 18,
   "id": "95b45d28",
   "metadata": {},
   "outputs": [
    {
     "data": {
      "text/plain": [
       "680"
      ]
     },
     "execution_count": 18,
     "metadata": {},
     "output_type": "execute_result"
    }
   ],
   "source": [
    "len((x['pid1'] > 1280 )| (x['pid2'] > 1280))"
   ]
  },
  {
   "cell_type": "markdown",
   "id": "cbb6e82e",
   "metadata": {},
   "source": [
    "**Note:** We can do a deeper investigation for NN pairs"
   ]
  },
  {
   "cell_type": "markdown",
   "id": "d22bdc78",
   "metadata": {},
   "source": [
    "**Curated only**"
   ]
  },
  {
   "cell_type": "code",
   "execution_count": 19,
   "id": "11a71472",
   "metadata": {},
   "outputs": [],
   "source": [
    "#nnet predicted 10.629 pairs, lets see how does the comparison look without the predicted pairs\n",
    "nnet_nopridcition=nnet_lr[~nnet_lr[\"database\"].str.contains(\"ppi_\")]\n",
    "nopredict_pairs=set(nnet_nopridcition[\"pairs\"])"
   ]
  },
  {
   "cell_type": "code",
   "execution_count": null,
   "id": "16c047ff",
   "metadata": {},
   "outputs": [],
   "source": []
  },
  {
   "cell_type": "code",
   "execution_count": 20,
   "id": "20189935",
   "metadata": {},
   "outputs": [],
   "source": [
    "#get curated pairs from community\n",
    "community_curated = community[community[\"annotation_strategy\"].isin([\"both\",\"curated\"])]\n",
    "community_curated = set(community_curated[\"Pair.Name\"])"
   ]
  },
  {
   "cell_type": "code",
   "execution_count": 21,
   "id": "b853e608",
   "metadata": {},
   "outputs": [
    {
     "data": {
      "text/plain": [
       "2022"
      ]
     },
     "execution_count": 21,
     "metadata": {},
     "output_type": "execute_result"
    }
   ],
   "source": [
    "len(nnet_nopridcition)"
   ]
  },
  {
   "cell_type": "code",
   "execution_count": 22,
   "id": "bb173792",
   "metadata": {},
   "outputs": [],
   "source": [
    "pairs_list = set(list(community_curated)+list(cpdb_pairs)+list(nopredict_pairs))\n",
    "\n",
    "to_export = {\n",
    "    'ID': list(pairs_list),\n",
    "    'community': [True if pair in community_pairs else False for pair in pairs_list],\n",
    "    'CPDB': [True if pair in cpdb_pairs else False for pair in pairs_list],\n",
    "    'NicheNet': [True if pair in nnet_pairs else False for pair in pairs_list]\n",
    "}\n",
    "\n",
    "to_export = pd.DataFrame(to_export)\n",
    "to_export.to_csv(\"inputs/pairs_curated.csv\")"
   ]
  },
  {
   "cell_type": "markdown",
   "id": "53c30eed",
   "metadata": {},
   "source": [
    "# Ligand and receptor gene space"
   ]
  },
  {
   "cell_type": "code",
   "execution_count": 23,
   "id": "7a8c02ed",
   "metadata": {},
   "outputs": [],
   "source": [
    "community_gene_space = set([substring for value in list(community_pairs) for substring in value.split('_')])"
   ]
  },
  {
   "cell_type": "code",
   "execution_count": 24,
   "id": "d7158121",
   "metadata": {},
   "outputs": [],
   "source": [
    "cpdb_gene_space = set([substring for value in list(cpdb_pairs) for substring in value.split('_')])"
   ]
  },
  {
   "cell_type": "code",
   "execution_count": 25,
   "id": "ed8a73b5",
   "metadata": {},
   "outputs": [],
   "source": [
    "nnet_gene_space = set([substring for value in list(nnet_pairs) for substring in value.split('_')])"
   ]
  },
  {
   "cell_type": "code",
   "execution_count": 26,
   "id": "45700520",
   "metadata": {},
   "outputs": [],
   "source": [
    "nnet_nopredict_gene_space = set([substring for value in list(nopredict_pairs) for substring in value.split('_')])"
   ]
  },
  {
   "cell_type": "code",
   "execution_count": 27,
   "id": "1ded6f00",
   "metadata": {},
   "outputs": [],
   "source": [
    "community_curated_gene_space = set([substring for value in list(community_curated) for substring in value.split('_')])"
   ]
  },
  {
   "cell_type": "markdown",
   "id": "ed8e4aef",
   "metadata": {},
   "source": [
    "**Curated + predicted**"
   ]
  },
  {
   "cell_type": "code",
   "execution_count": 28,
   "id": "c90c96c4",
   "metadata": {},
   "outputs": [],
   "source": [
    "gene_list = set(list(community_gene_space)+list(cpdb_gene_space)+list(nnet_gene_space))\n",
    "\n",
    "to_export = {\n",
    "    'ID': list(gene_list),\n",
    "    'community': [True if gene in community_gene_space else False for gene in gene_list],\n",
    "    'CPDB': [True if gene in cpdb_gene_space else False for gene in gene_list],\n",
    "    'NicheNet': [True if gene in nnet_gene_space else False for gene in gene_list]\n",
    "}\n",
    "\n",
    "to_export = pd.DataFrame(to_export)\n",
    "to_export.to_csv(\"inputs/genes_curated_predicted.csv\")"
   ]
  },
  {
   "cell_type": "markdown",
   "id": "6cb955c1",
   "metadata": {},
   "source": [
    "We are investigating why some genes are not included in our database. As previously mentioned, CPDB assigns `pid` values greater than 1282 if the protein is part of a complex. We have discovered that the genes that are not present in our database are once again coming from these complex molecules."
   ]
  },
  {
   "cell_type": "code",
   "execution_count": 29,
   "id": "70fee60b",
   "metadata": {},
   "outputs": [
    {
     "data": {
      "text/plain": [
       "1430"
      ]
     },
     "execution_count": 29,
     "metadata": {},
     "output_type": "execute_result"
    }
   ],
   "source": [
    "len(nnet_gene_space)"
   ]
  },
  {
   "cell_type": "code",
   "execution_count": 30,
   "id": "20ae74da",
   "metadata": {},
   "outputs": [
    {
     "data": {
      "text/plain": [
       "2292"
      ]
     },
     "execution_count": 30,
     "metadata": {},
     "output_type": "execute_result"
    }
   ],
   "source": [
    "880+283+932+197"
   ]
  },
  {
   "cell_type": "code",
   "execution_count": 31,
   "id": "036ce039",
   "metadata": {},
   "outputs": [],
   "source": [
    "notin_community=to_export[to_export[\"community\"]==False]"
   ]
  },
  {
   "cell_type": "code",
   "execution_count": 32,
   "id": "ed5ee2af",
   "metadata": {},
   "outputs": [
    {
     "data": {
      "text/html": [
       "<div>\n",
       "<style scoped>\n",
       "    .dataframe tbody tr th:only-of-type {\n",
       "        vertical-align: middle;\n",
       "    }\n",
       "\n",
       "    .dataframe tbody tr th {\n",
       "        vertical-align: top;\n",
       "    }\n",
       "\n",
       "    .dataframe thead th {\n",
       "        text-align: right;\n",
       "    }\n",
       "</style>\n",
       "<table border=\"1\" class=\"dataframe\">\n",
       "  <thead>\n",
       "    <tr style=\"text-align: right;\">\n",
       "      <th></th>\n",
       "      <th>L</th>\n",
       "      <th>R</th>\n",
       "      <th>ligand</th>\n",
       "      <th>receptor</th>\n",
       "      <th>l_adhesion_mol</th>\n",
       "      <th>r_adhesion_mol</th>\n",
       "      <th>pid1</th>\n",
       "      <th>pid2</th>\n",
       "      <th>pairs</th>\n",
       "    </tr>\n",
       "  </thead>\n",
       "  <tbody>\n",
       "    <tr>\n",
       "      <th>0</th>\n",
       "      <td>901</td>\n",
       "      <td>917</td>\n",
       "      <td>PTGR1</td>\n",
       "      <td>LTB4R</td>\n",
       "      <td>0</td>\n",
       "      <td>0</td>\n",
       "      <td>1282.0</td>\n",
       "      <td>917.0</td>\n",
       "      <td>PTGR1_LTB4R</td>\n",
       "    </tr>\n",
       "    <tr>\n",
       "      <th>1</th>\n",
       "      <td>315</td>\n",
       "      <td>917</td>\n",
       "      <td>LTA4H</td>\n",
       "      <td>LTB4R</td>\n",
       "      <td>0</td>\n",
       "      <td>0</td>\n",
       "      <td>1430.0</td>\n",
       "      <td>917.0</td>\n",
       "      <td>LTA4H_LTB4R</td>\n",
       "    </tr>\n",
       "    <tr>\n",
       "      <th>2</th>\n",
       "      <td>901</td>\n",
       "      <td>1189</td>\n",
       "      <td>PTGR1</td>\n",
       "      <td>LTB4R2</td>\n",
       "      <td>0</td>\n",
       "      <td>0</td>\n",
       "      <td>1282.0</td>\n",
       "      <td>1189.0</td>\n",
       "      <td>PTGR1_LTB4R2</td>\n",
       "    </tr>\n",
       "    <tr>\n",
       "      <th>3</th>\n",
       "      <td>315</td>\n",
       "      <td>1189</td>\n",
       "      <td>LTA4H</td>\n",
       "      <td>LTB4R2</td>\n",
       "      <td>0</td>\n",
       "      <td>0</td>\n",
       "      <td>1430.0</td>\n",
       "      <td>1189.0</td>\n",
       "      <td>LTA4H_LTB4R2</td>\n",
       "    </tr>\n",
       "    <tr>\n",
       "      <th>4</th>\n",
       "      <td>315</td>\n",
       "      <td>864</td>\n",
       "      <td>LTA4H</td>\n",
       "      <td>GPR17</td>\n",
       "      <td>0</td>\n",
       "      <td>0</td>\n",
       "      <td>1430.0</td>\n",
       "      <td>864.0</td>\n",
       "      <td>LTA4H_GPR17</td>\n",
       "    </tr>\n",
       "    <tr>\n",
       "      <th>...</th>\n",
       "      <td>...</td>\n",
       "      <td>...</td>\n",
       "      <td>...</td>\n",
       "      <td>...</td>\n",
       "      <td>...</td>\n",
       "      <td>...</td>\n",
       "      <td>...</td>\n",
       "      <td>...</td>\n",
       "      <td>...</td>\n",
       "    </tr>\n",
       "    <tr>\n",
       "      <th>2627</th>\n",
       "      <td>544</td>\n",
       "      <td>698</td>\n",
       "      <td>RXRB</td>\n",
       "      <td>ALDH1A3</td>\n",
       "      <td>1</td>\n",
       "      <td>0</td>\n",
       "      <td>1513.0</td>\n",
       "      <td>1481.0</td>\n",
       "      <td>RXRB_ALDH1A3</td>\n",
       "    </tr>\n",
       "    <tr>\n",
       "      <th>2628</th>\n",
       "      <td>698</td>\n",
       "      <td>372</td>\n",
       "      <td>ALDH1A3</td>\n",
       "      <td>RARG</td>\n",
       "      <td>1</td>\n",
       "      <td>0</td>\n",
       "      <td>1513.0</td>\n",
       "      <td>1482.0</td>\n",
       "      <td>ALDH1A3_RARG</td>\n",
       "    </tr>\n",
       "    <tr>\n",
       "      <th>2629</th>\n",
       "      <td>372</td>\n",
       "      <td>698</td>\n",
       "      <td>RARG</td>\n",
       "      <td>ALDH1A3</td>\n",
       "      <td>1</td>\n",
       "      <td>0</td>\n",
       "      <td>1513.0</td>\n",
       "      <td>1482.0</td>\n",
       "      <td>RARG_ALDH1A3</td>\n",
       "    </tr>\n",
       "    <tr>\n",
       "      <th>2630</th>\n",
       "      <td>698</td>\n",
       "      <td>708</td>\n",
       "      <td>ALDH1A3</td>\n",
       "      <td>RXRG</td>\n",
       "      <td>1</td>\n",
       "      <td>0</td>\n",
       "      <td>1513.0</td>\n",
       "      <td>1483.0</td>\n",
       "      <td>ALDH1A3_RXRG</td>\n",
       "    </tr>\n",
       "    <tr>\n",
       "      <th>2631</th>\n",
       "      <td>708</td>\n",
       "      <td>698</td>\n",
       "      <td>RXRG</td>\n",
       "      <td>ALDH1A3</td>\n",
       "      <td>1</td>\n",
       "      <td>0</td>\n",
       "      <td>1513.0</td>\n",
       "      <td>1483.0</td>\n",
       "      <td>RXRG_ALDH1A3</td>\n",
       "    </tr>\n",
       "  </tbody>\n",
       "</table>\n",
       "<p>331 rows × 9 columns</p>\n",
       "</div>"
      ],
      "text/plain": [
       "        L     R   ligand receptor  l_adhesion_mol  r_adhesion_mol    pid1  \\\n",
       "0     901   917    PTGR1    LTB4R               0               0  1282.0   \n",
       "1     315   917    LTA4H    LTB4R               0               0  1430.0   \n",
       "2     901  1189    PTGR1   LTB4R2               0               0  1282.0   \n",
       "3     315  1189    LTA4H   LTB4R2               0               0  1430.0   \n",
       "4     315   864    LTA4H    GPR17               0               0  1430.0   \n",
       "...   ...   ...      ...      ...             ...             ...     ...   \n",
       "2627  544   698     RXRB  ALDH1A3               1               0  1513.0   \n",
       "2628  698   372  ALDH1A3     RARG               1               0  1513.0   \n",
       "2629  372   698     RARG  ALDH1A3               1               0  1513.0   \n",
       "2630  698   708  ALDH1A3     RXRG               1               0  1513.0   \n",
       "2631  708   698     RXRG  ALDH1A3               1               0  1513.0   \n",
       "\n",
       "        pid2         pairs  \n",
       "0      917.0   PTGR1_LTB4R  \n",
       "1      917.0   LTA4H_LTB4R  \n",
       "2     1189.0  PTGR1_LTB4R2  \n",
       "3     1189.0  LTA4H_LTB4R2  \n",
       "4      864.0   LTA4H_GPR17  \n",
       "...      ...           ...  \n",
       "2627  1481.0  RXRB_ALDH1A3  \n",
       "2628  1482.0  ALDH1A3_RARG  \n",
       "2629  1482.0  RARG_ALDH1A3  \n",
       "2630  1483.0  ALDH1A3_RXRG  \n",
       "2631  1483.0  RXRG_ALDH1A3  \n",
       "\n",
       "[331 rows x 9 columns]"
      ]
     },
     "execution_count": 32,
     "metadata": {},
     "output_type": "execute_result"
    }
   ],
   "source": [
    "cpdb[cpdb[\"ligand\"].isin(notin_community[\"ID\"])]"
   ]
  },
  {
   "cell_type": "markdown",
   "id": "4e1900d4",
   "metadata": {},
   "source": [
    "Upon investigating why some genes are included in NicheNet but not in our database, we discovered that most of them were added based on predictions, mainly through Gene Ontology (GO). Additionally, we found that there are a few genes in NicheNet that originate from the Ramilowski dataset, but genesymbols are listed under alternative names according to genecards and uniprot. For instance, CTGF's approved gene symbol is CCN2, CYR61 is included as CCN1, and DEFB4A is included as DEFB4B."
   ]
  },
  {
   "cell_type": "code",
   "execution_count": 33,
   "id": "65b9af9a",
   "metadata": {},
   "outputs": [
    {
     "data": {
      "text/plain": [
       "ppi_prediction_go     180\n",
       "ppi_prediction         27\n",
       "ramilowski             14\n",
       "kegg                    6\n",
       "guide2pharmacology      4\n",
       "Name: database, dtype: int64"
      ]
     },
     "execution_count": 33,
     "metadata": {},
     "output_type": "execute_result"
    }
   ],
   "source": [
    "nnet_lr[nnet_lr[\"from\"].isin(notin_community[\"ID\"])][\"database\"].value_counts()"
   ]
  },
  {
   "cell_type": "code",
   "execution_count": 34,
   "id": "7f9aa31b",
   "metadata": {},
   "outputs": [],
   "source": [
    "x=nnet_lr[nnet_lr[\"from\"].isin(notin_community[\"ID\"])]"
   ]
  },
  {
   "cell_type": "code",
   "execution_count": 35,
   "id": "a1cccdba",
   "metadata": {},
   "outputs": [
    {
     "data": {
      "text/html": [
       "<div>\n",
       "<style scoped>\n",
       "    .dataframe tbody tr th:only-of-type {\n",
       "        vertical-align: middle;\n",
       "    }\n",
       "\n",
       "    .dataframe tbody tr th {\n",
       "        vertical-align: top;\n",
       "    }\n",
       "\n",
       "    .dataframe thead th {\n",
       "        text-align: right;\n",
       "    }\n",
       "</style>\n",
       "<table border=\"1\" class=\"dataframe\">\n",
       "  <thead>\n",
       "    <tr style=\"text-align: right;\">\n",
       "      <th></th>\n",
       "      <th>Unnamed: 0</th>\n",
       "      <th>from</th>\n",
       "      <th>to</th>\n",
       "      <th>source</th>\n",
       "      <th>database</th>\n",
       "      <th>pairs</th>\n",
       "    </tr>\n",
       "  </thead>\n",
       "  <tbody>\n",
       "    <tr>\n",
       "      <th>1109</th>\n",
       "      <td>1110</td>\n",
       "      <td>CTGF</td>\n",
       "      <td>ITGAM</td>\n",
       "      <td>ramilowski_known</td>\n",
       "      <td>ramilowski</td>\n",
       "      <td>CTGF_ITGAM</td>\n",
       "    </tr>\n",
       "    <tr>\n",
       "      <th>1110</th>\n",
       "      <td>1111</td>\n",
       "      <td>CTGF</td>\n",
       "      <td>ITGB2</td>\n",
       "      <td>ramilowski_known</td>\n",
       "      <td>ramilowski</td>\n",
       "      <td>CTGF_ITGB2</td>\n",
       "    </tr>\n",
       "    <tr>\n",
       "      <th>1111</th>\n",
       "      <td>1112</td>\n",
       "      <td>CTGF</td>\n",
       "      <td>LRP6</td>\n",
       "      <td>ramilowski_known</td>\n",
       "      <td>ramilowski</td>\n",
       "      <td>CTGF_LRP6</td>\n",
       "    </tr>\n",
       "    <tr>\n",
       "      <th>1136</th>\n",
       "      <td>1137</td>\n",
       "      <td>CYR61</td>\n",
       "      <td>ITGA5</td>\n",
       "      <td>ramilowski_known</td>\n",
       "      <td>ramilowski</td>\n",
       "      <td>CYR61_ITGA5</td>\n",
       "    </tr>\n",
       "    <tr>\n",
       "      <th>1137</th>\n",
       "      <td>1138</td>\n",
       "      <td>CYR61</td>\n",
       "      <td>ITGAM</td>\n",
       "      <td>ramilowski_known</td>\n",
       "      <td>ramilowski</td>\n",
       "      <td>CYR61_ITGAM</td>\n",
       "    </tr>\n",
       "    <tr>\n",
       "      <th>1138</th>\n",
       "      <td>1139</td>\n",
       "      <td>CYR61</td>\n",
       "      <td>ITGB2</td>\n",
       "      <td>ramilowski_known</td>\n",
       "      <td>ramilowski</td>\n",
       "      <td>CYR61_ITGB2</td>\n",
       "    </tr>\n",
       "    <tr>\n",
       "      <th>1139</th>\n",
       "      <td>1140</td>\n",
       "      <td>CYR61</td>\n",
       "      <td>ITGB3</td>\n",
       "      <td>ramilowski_known</td>\n",
       "      <td>ramilowski</td>\n",
       "      <td>CYR61_ITGB3</td>\n",
       "    </tr>\n",
       "    <tr>\n",
       "      <th>1140</th>\n",
       "      <td>1141</td>\n",
       "      <td>DEFB4A</td>\n",
       "      <td>CCR6</td>\n",
       "      <td>ramilowski_known</td>\n",
       "      <td>ramilowski</td>\n",
       "      <td>DEFB4A_CCR6</td>\n",
       "    </tr>\n",
       "    <tr>\n",
       "      <th>1429</th>\n",
       "      <td>1430</td>\n",
       "      <td>IFNA13</td>\n",
       "      <td>IFNAR1</td>\n",
       "      <td>ramilowski_known</td>\n",
       "      <td>ramilowski</td>\n",
       "      <td>IFNA13_IFNAR1</td>\n",
       "    </tr>\n",
       "    <tr>\n",
       "      <th>1430</th>\n",
       "      <td>1431</td>\n",
       "      <td>IFNA13</td>\n",
       "      <td>IFNAR2</td>\n",
       "      <td>ramilowski_known</td>\n",
       "      <td>ramilowski</td>\n",
       "      <td>IFNA13_IFNAR2</td>\n",
       "    </tr>\n",
       "    <tr>\n",
       "      <th>1635</th>\n",
       "      <td>1636</td>\n",
       "      <td>NOV</td>\n",
       "      <td>NOTCH1</td>\n",
       "      <td>ramilowski_known</td>\n",
       "      <td>ramilowski</td>\n",
       "      <td>NOV_NOTCH1</td>\n",
       "    </tr>\n",
       "    <tr>\n",
       "      <th>1977</th>\n",
       "      <td>1978</td>\n",
       "      <td>YARS</td>\n",
       "      <td>CXCR1</td>\n",
       "      <td>ramilowski_known</td>\n",
       "      <td>ramilowski</td>\n",
       "      <td>YARS_CXCR1</td>\n",
       "    </tr>\n",
       "    <tr>\n",
       "      <th>12577</th>\n",
       "      <td>12578</td>\n",
       "      <td>CCL3L3</td>\n",
       "      <td>CCR1</td>\n",
       "      <td>ramilowski_known</td>\n",
       "      <td>ramilowski</td>\n",
       "      <td>CCL3L3_CCR1</td>\n",
       "    </tr>\n",
       "    <tr>\n",
       "      <th>12578</th>\n",
       "      <td>12579</td>\n",
       "      <td>CCL3L3</td>\n",
       "      <td>CCR5</td>\n",
       "      <td>ramilowski_known</td>\n",
       "      <td>ramilowski</td>\n",
       "      <td>CCL3L3_CCR5</td>\n",
       "    </tr>\n",
       "  </tbody>\n",
       "</table>\n",
       "</div>"
      ],
      "text/plain": [
       "       Unnamed: 0    from      to            source    database          pairs\n",
       "1109         1110    CTGF   ITGAM  ramilowski_known  ramilowski     CTGF_ITGAM\n",
       "1110         1111    CTGF   ITGB2  ramilowski_known  ramilowski     CTGF_ITGB2\n",
       "1111         1112    CTGF    LRP6  ramilowski_known  ramilowski      CTGF_LRP6\n",
       "1136         1137   CYR61   ITGA5  ramilowski_known  ramilowski    CYR61_ITGA5\n",
       "1137         1138   CYR61   ITGAM  ramilowski_known  ramilowski    CYR61_ITGAM\n",
       "1138         1139   CYR61   ITGB2  ramilowski_known  ramilowski    CYR61_ITGB2\n",
       "1139         1140   CYR61   ITGB3  ramilowski_known  ramilowski    CYR61_ITGB3\n",
       "1140         1141  DEFB4A    CCR6  ramilowski_known  ramilowski    DEFB4A_CCR6\n",
       "1429         1430  IFNA13  IFNAR1  ramilowski_known  ramilowski  IFNA13_IFNAR1\n",
       "1430         1431  IFNA13  IFNAR2  ramilowski_known  ramilowski  IFNA13_IFNAR2\n",
       "1635         1636     NOV  NOTCH1  ramilowski_known  ramilowski     NOV_NOTCH1\n",
       "1977         1978    YARS   CXCR1  ramilowski_known  ramilowski     YARS_CXCR1\n",
       "12577       12578  CCL3L3    CCR1  ramilowski_known  ramilowski    CCL3L3_CCR1\n",
       "12578       12579  CCL3L3    CCR5  ramilowski_known  ramilowski    CCL3L3_CCR5"
      ]
     },
     "execution_count": 35,
     "metadata": {},
     "output_type": "execute_result"
    }
   ],
   "source": [
    "x[x[\"database\"]==\"ramilowski\"]"
   ]
  },
  {
   "cell_type": "markdown",
   "id": "dbaea522",
   "metadata": {},
   "source": [
    "**Curated only**"
   ]
  },
  {
   "cell_type": "code",
   "execution_count": 36,
   "id": "1bafdfa5",
   "metadata": {},
   "outputs": [],
   "source": [
    "palette = {'NicheNet': '#cdad00', 'community': '#6e8b3d', 'CellPhoneDB': '#8b8878'}"
   ]
  },
  {
   "cell_type": "code",
   "execution_count": 37,
   "id": "f5a96479",
   "metadata": {},
   "outputs": [],
   "source": [
    "gene_list = set(list(community_curated_gene_space)+list(cpdb_gene_space)+list(nnet_nopredict_gene_space))\n",
    "\n",
    "to_export = {\n",
    "    'ID': list(gene_list),\n",
    "    'community': [True if gene in community_curated_gene_space else False for gene in gene_list],\n",
    "    'CPDB': [True if gene in cpdb_gene_space else False for gene in gene_list],\n",
    "    'NicheNet': [True if gene in nnet_nopredict_gene_space else False for gene in gene_list]\n",
    "}\n",
    "\n",
    "to_export = pd.DataFrame(to_export)\n",
    "to_export.to_csv(\"inputs/genes_curated.csv\")"
   ]
  },
  {
   "cell_type": "code",
   "execution_count": 38,
   "id": "bd6800c5",
   "metadata": {},
   "outputs": [
    {
     "data": {
      "text/plain": [
       "997"
      ]
     },
     "execution_count": 38,
     "metadata": {},
     "output_type": "execute_result"
    }
   ],
   "source": [
    "len(nnet_nopredict_gene_space)"
   ]
  },
  {
   "cell_type": "code",
   "execution_count": null,
   "id": "c8e71339",
   "metadata": {},
   "outputs": [],
   "source": []
  },
  {
   "cell_type": "code",
   "execution_count": null,
   "id": "12fa34fb",
   "metadata": {},
   "outputs": [],
   "source": []
  }
 ],
 "metadata": {
  "kernelspec": {
   "display_name": "Python 3 (ipykernel)",
   "language": "python",
   "name": "python3"
  },
  "language_info": {
   "codemirror_mode": {
    "name": "ipython",
    "version": 3
   },
   "file_extension": ".py",
   "mimetype": "text/x-python",
   "name": "python",
   "nbconvert_exporter": "python",
   "pygments_lexer": "ipython3",
   "version": "3.10.12"
  },
  "toc": {
   "base_numbering": 1,
   "nav_menu": {},
   "number_sections": true,
   "sideBar": true,
   "skip_h1_title": false,
   "title_cell": "Table of Contents",
   "title_sidebar": "Contents",
   "toc_cell": false,
   "toc_position": {},
   "toc_section_display": true,
   "toc_window_display": false
  }
 },
 "nbformat": 4,
 "nbformat_minor": 5
}
