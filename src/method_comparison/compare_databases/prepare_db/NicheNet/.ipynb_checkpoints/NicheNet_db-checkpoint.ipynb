{
 "cells": [
  {
   "cell_type": "code",
   "execution_count": 1,
   "id": "481341ac",
   "metadata": {},
   "outputs": [],
   "source": [
    "library(nichenetr)"
   ]
  },
  {
   "cell_type": "code",
   "execution_count": 2,
   "id": "bfe5b8ff",
   "metadata": {},
   "outputs": [],
   "source": [
    "write.csv(lr_network, \"../../compare_results/inputs/nichenetr_db.csv\")"
   ]
  },
  {
   "cell_type": "code",
   "execution_count": null,
   "id": "a58190fa",
   "metadata": {},
   "outputs": [],
   "source": []
  },
  {
   "cell_type": "code",
   "execution_count": null,
   "id": "0c3815dc",
   "metadata": {},
   "outputs": [],
   "source": []
  }
 ],
 "metadata": {
  "kernelspec": {
   "display_name": "R",
   "language": "R",
   "name": "ir"
  },
  "language_info": {
   "codemirror_mode": "r",
   "file_extension": ".r",
   "mimetype": "text/x-r-source",
   "name": "R",
   "pygments_lexer": "r",
   "version": "4.1.2"
  }
 },
 "nbformat": 4,
 "nbformat_minor": 5
}
