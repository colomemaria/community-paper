{
 "cells": [
  {
   "cell_type": "code",
   "execution_count": 1,
   "id": "f013d88b-2372-4e32-847a-388123bbe47f",
   "metadata": {},
   "outputs": [
    {
     "name": "stderr",
     "output_type": "stream",
     "text": [
      "── \u001b[1mAttaching core tidyverse packages\u001b[22m ─────────────────────────────────────────────────────────────────────────────────────────────────────────────────────────────────────────────────────────── tidyverse 2.0.0 ──\n",
      "\u001b[32m✔\u001b[39m \u001b[34mdplyr    \u001b[39m 1.1.4     \u001b[32m✔\u001b[39m \u001b[34mreadr    \u001b[39m 2.1.5\n",
      "\u001b[32m✔\u001b[39m \u001b[34mforcats  \u001b[39m 1.0.0     \u001b[32m✔\u001b[39m \u001b[34mstringr  \u001b[39m 1.5.1\n",
      "\u001b[32m✔\u001b[39m \u001b[34mggplot2  \u001b[39m 3.5.1     \u001b[32m✔\u001b[39m \u001b[34mtibble   \u001b[39m 3.2.1\n",
      "\u001b[32m✔\u001b[39m \u001b[34mlubridate\u001b[39m 1.9.3     \u001b[32m✔\u001b[39m \u001b[34mtidyr    \u001b[39m 1.3.1\n",
      "\u001b[32m✔\u001b[39m \u001b[34mpurrr    \u001b[39m 1.0.2     \n",
      "── \u001b[1mConflicts\u001b[22m ───────────────────────────────────────────────────────────────────────────────────────────────────────────────────────────────────────────────────────────────────────────── tidyverse_conflicts() ──\n",
      "\u001b[31m✖\u001b[39m \u001b[34mdplyr\u001b[39m::\u001b[32mfilter()\u001b[39m masks \u001b[34mstats\u001b[39m::filter()\n",
      "\u001b[31m✖\u001b[39m \u001b[34mdplyr\u001b[39m::\u001b[32mlag()\u001b[39m    masks \u001b[34mstats\u001b[39m::lag()\n",
      "\u001b[36mℹ\u001b[39m Use the conflicted package (\u001b[3m\u001b[34m<http://conflicted.r-lib.org/>\u001b[39m\u001b[23m) to force all conflicts to become errors\n",
      "Loading required package: igraph\n",
      "\n",
      "\n",
      "Attaching package: ‘igraph’\n",
      "\n",
      "\n",
      "The following objects are masked from ‘package:lubridate’:\n",
      "\n",
      "    %--%, union\n",
      "\n",
      "\n",
      "The following objects are masked from ‘package:dplyr’:\n",
      "\n",
      "    as_data_frame, groups, union\n",
      "\n",
      "\n",
      "The following objects are masked from ‘package:purrr’:\n",
      "\n",
      "    compose, simplify\n",
      "\n",
      "\n",
      "The following object is masked from ‘package:tidyr’:\n",
      "\n",
      "    crossing\n",
      "\n",
      "\n",
      "The following object is masked from ‘package:tibble’:\n",
      "\n",
      "    as_data_frame\n",
      "\n",
      "\n",
      "The following objects are masked from ‘package:stats’:\n",
      "\n",
      "    decompose, spectrum\n",
      "\n",
      "\n",
      "The following object is masked from ‘package:base’:\n",
      "\n",
      "    union\n",
      "\n",
      "\n"
     ]
    }
   ],
   "source": [
    "library(tidyverse)\n",
    "library(CellChat)"
   ]
  },
  {
   "cell_type": "code",
   "execution_count": 2,
   "id": "c983f347-abfc-4194-9ad1-1e90dbb11700",
   "metadata": {},
   "outputs": [],
   "source": [
    "CellChatDB <- CellChatDB.human"
   ]
  },
  {
   "cell_type": "code",
   "execution_count": 3,
   "id": "9f560697-da97-44a4-b038-52b9bc339e51",
   "metadata": {},
   "outputs": [],
   "source": [
    "# use all CellChatDB except for \"Non-protein Signaling\" for cell-cell communication analysis\n",
    "CellChatDB.use <- subsetDB(CellChatDB)"
   ]
  },
  {
   "cell_type": "code",
   "execution_count": 4,
   "id": "4636c4c1-9bdc-45de-b0c9-e44281a4fa90",
   "metadata": {},
   "outputs": [],
   "source": [
    "write_csv(CellChatDB.use$interaction, \"../../compare_results/inputs/cellchat_db.csv\")"
   ]
  },
  {
   "cell_type": "code",
   "execution_count": 5,
   "id": "a30d7e75-0c74-4809-910b-0f615e6fd317",
   "metadata": {},
   "outputs": [
    {
     "data": {
      "text/plain": [
       "R version 4.4.1 (2024-06-14)\n",
       "Platform: x86_64-conda-linux-gnu\n",
       "Running under: CentOS Linux 7 (Core)\n",
       "\n",
       "Matrix products: default\n",
       "BLAS/LAPACK: /work/project/ladcol_011/conda_path/miniconda3/envs/cellchat/lib/libopenblasp-r0.3.27.so;  LAPACK version 3.12.0\n",
       "\n",
       "locale:\n",
       " [1] LC_CTYPE=en_US.UTF-8       LC_NUMERIC=C              \n",
       " [3] LC_TIME=de_DE.UTF-8        LC_COLLATE=en_US.UTF-8    \n",
       " [5] LC_MONETARY=de_DE.UTF-8    LC_MESSAGES=en_US.UTF-8   \n",
       " [7] LC_PAPER=de_DE.UTF-8       LC_NAME=C                 \n",
       " [9] LC_ADDRESS=C               LC_TELEPHONE=C            \n",
       "[11] LC_MEASUREMENT=de_DE.UTF-8 LC_IDENTIFICATION=C       \n",
       "\n",
       "time zone: Europe/Berlin\n",
       "tzcode source: system (glibc)\n",
       "\n",
       "attached base packages:\n",
       "[1] stats     graphics  grDevices utils     datasets  methods   base     \n",
       "\n",
       "other attached packages:\n",
       " [1] CellChat_2.1.2      Biobase_2.64.0      BiocGenerics_0.50.0\n",
       " [4] igraph_2.0.3        lubridate_1.9.3     forcats_1.0.0      \n",
       " [7] stringr_1.5.1       dplyr_1.1.4         purrr_1.0.2        \n",
       "[10] readr_2.1.5         tidyr_1.3.1         tibble_3.2.1       \n",
       "[13] ggplot2_3.5.1       tidyverse_2.0.0    \n",
       "\n",
       "loaded via a namespace (and not attached):\n",
       "  [1] pbapply_1.7-2         rlang_1.1.4           magrittr_2.0.3       \n",
       "  [4] clue_0.3-65           GetoptLong_1.0.5      gridBase_0.4-7       \n",
       "  [7] matrixStats_1.3.0     compiler_4.4.1        systemfonts_1.1.0    \n",
       " [10] png_0.1-8             vctrs_0.6.5           reshape2_1.4.4       \n",
       " [13] ggalluvial_0.12.5     pkgconfig_2.0.3       shape_1.4.6.1        \n",
       " [16] crayon_1.5.3          fastmap_1.2.0         backports_1.5.0      \n",
       " [19] utf8_1.2.4            promises_1.3.0        tzdb_0.4.0           \n",
       " [22] network_1.18.2        cachem_1.1.0          jsonlite_1.8.8       \n",
       " [25] later_1.3.2           uuid_1.2-1            BiocParallel_1.38.0  \n",
       " [28] irlba_2.3.5.1         broom_1.0.6           parallel_4.4.1       \n",
       " [31] cluster_2.1.6         R6_2.5.1              bslib_0.8.0          \n",
       " [34] stringi_1.8.4         RColorBrewer_1.1-3    reticulate_1.38.0    \n",
       " [37] parallelly_1.38.0     car_3.1-2             jquerylib_0.1.4      \n",
       " [40] Rcpp_1.0.13           IRkernel_1.3.2        iterators_1.0.14     \n",
       " [43] future.apply_1.11.2   base64enc_0.1-3       IRanges_2.36.0       \n",
       " [46] FNN_1.1.4             httpuv_1.6.15         Matrix_1.6-5         \n",
       " [49] timechange_0.3.0      tidyselect_1.2.1      abind_1.4-5          \n",
       " [52] doParallel_1.0.17     codetools_0.2-20      listenv_0.9.1        \n",
       " [55] lattice_0.22-6        plyr_1.8.9            shiny_1.9.1          \n",
       " [58] withr_3.0.1           coda_0.19-4.1         evaluate_0.24.0      \n",
       " [61] future_1.34.0         circlize_0.4.16       pillar_1.9.0         \n",
       " [64] ggpubr_0.6.0          carData_3.0-5         rngtools_1.5.2       \n",
       " [67] foreach_1.5.2         stats4_4.4.1          generics_0.1.3       \n",
       " [70] IRdisplay_1.1         S4Vectors_0.40.2      hms_1.1.3            \n",
       " [73] munsell_0.5.1         scales_1.3.0          NMF_0.27             \n",
       " [76] ggnetwork_0.5.13      globals_0.16.3        xtable_1.8-4         \n",
       " [79] glue_1.7.0            tools_4.4.1           BiocNeighbors_1.22.0 \n",
       " [82] RSpectra_0.16-2       ggsignif_0.6.4        registry_0.5-1       \n",
       " [85] pbdZMQ_0.3-11         cowplot_1.1.3         grid_4.4.1           \n",
       " [88] colorspace_2.1-1      patchwork_1.2.0       repr_1.1.7           \n",
       " [91] cli_3.6.3             fansi_1.0.6           svglite_2.1.3        \n",
       " [94] ComplexHeatmap_2.15.4 gtable_0.3.5          rstatix_0.7.2        \n",
       " [97] sass_0.4.9            digest_0.6.37         ggrepel_0.9.5        \n",
       "[100] sna_2.7-2             rjson_0.2.21          htmltools_0.5.8.1    \n",
       "[103] lifecycle_1.0.4       statnet.common_4.9.0  GlobalOptions_0.1.2  \n",
       "[106] mime_0.12            "
      ]
     },
     "metadata": {},
     "output_type": "display_data"
    }
   ],
   "source": [
    "sessionInfo()"
   ]
  },
  {
   "cell_type": "code",
   "execution_count": null,
   "id": "5aedb897-50b7-4389-969b-abe1590cd7e1",
   "metadata": {},
   "outputs": [],
   "source": []
  }
 ],
 "metadata": {
  "kernelspec": {
   "display_name": "R",
   "language": "R",
   "name": "ir"
  },
  "language_info": {
   "codemirror_mode": "r",
   "file_extension": ".r",
   "mimetype": "text/x-r-source",
   "name": "R",
   "pygments_lexer": "r",
   "version": "4.4.1"
  }
 },
 "nbformat": 4,
 "nbformat_minor": 5
}
