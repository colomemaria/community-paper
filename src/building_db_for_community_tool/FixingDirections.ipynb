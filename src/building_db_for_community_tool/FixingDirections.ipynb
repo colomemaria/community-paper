{
 "cells": [
  {
   "cell_type": "code",
   "execution_count": 1,
   "id": "7a42e1dd",
   "metadata": {},
   "outputs": [
    {
     "name": "stderr",
     "output_type": "stream",
     "text": [
      "\n",
      "Attaching package: ‘dplyr’\n",
      "\n",
      "\n",
      "The following objects are masked from ‘package:stats’:\n",
      "\n",
      "    filter, lag\n",
      "\n",
      "\n",
      "The following objects are masked from ‘package:base’:\n",
      "\n",
      "    intersect, setdiff, setequal, union\n",
      "\n",
      "\n"
     ]
    }
   ],
   "source": [
    "library(dplyr)"
   ]
  },
  {
   "cell_type": "code",
   "execution_count": 170,
   "id": "2a074cdb",
   "metadata": {},
   "outputs": [],
   "source": [
    "load(\"LR_database.rda\")"
   ]
  },
  {
   "cell_type": "code",
   "execution_count": 171,
   "id": "08a76ef2",
   "metadata": {},
   "outputs": [],
   "source": [
    "LR_database$dup <- paste(LR_database$Receptor, LR_database$Ligand, sep=\"_\")"
   ]
  },
  {
   "cell_type": "code",
   "execution_count": 172,
   "id": "7ca0c325",
   "metadata": {},
   "outputs": [],
   "source": [
    "subset_lr <- LR_database[LR_database$Pair.Name %in% LR_database$dup,  ] "
   ]
  },
  {
   "cell_type": "code",
   "execution_count": 173,
   "id": "1677ab9d",
   "metadata": {},
   "outputs": [],
   "source": [
    "LR_database <- LR_database[!LR_database$Pair.Name %in% subset_lr$Pair.Name,  ] "
   ]
  },
  {
   "cell_type": "code",
   "execution_count": 174,
   "id": "6ba50cd3",
   "metadata": {},
   "outputs": [],
   "source": [
    "plexin_family <- as.vector(subset_lr[grep(\"plexin\", subset_lr$Receptor.Name), ]$Receptor)\n",
    "\n",
    "neuroligin_family <- as.vector(subset_lr[grep(\"neuroligin\", subset_lr$Receptor.Name), ]$Receptor)\n",
    "\n",
    "adam_family <- as.vector(subset_lr[grep(\"ADAM\", subset_lr$Receptor.Name), ]$Receptor)\n",
    "\n",
    "receptor_anno <- as.vector(subset_lr[grep(\"receptor\", subset_lr$Ligand.Name), ]$Ligand)"
   ]
  },
  {
   "cell_type": "code",
   "execution_count": 175,
   "id": "f0c37fb3",
   "metadata": {},
   "outputs": [],
   "source": [
    "ligand <- c(\"AGRN\", \"BMP2\", \"BMP4\", \"VTCN1\", \"CD244\", \"CD38\", \"GAS6\", \"GDNF\", \"GUCA2A\", \n",
    "\"HHLA2\", \"IHH\", \"PSEN1\", \"NLGN\", \"NRTN\", \"RPH3A\", \"SHH\")\n",
    "\n",
    "receptor <- c(\"CD2\", \"CD27\", \"CD80\", \"CD86\", \"SELL\", \"CD44\", \"CD81\", \"CD8A\", \"CLEC1B\", \n",
    "\"GLG1\", \"TYROBP\")"
   ]
  },
  {
   "cell_type": "code",
   "execution_count": 176,
   "id": "a08372dd",
   "metadata": {},
   "outputs": [],
   "source": [
    "ligand <- unique(c(ligand,plexin_family,neuroligin_family,adam_family))\n",
    "receptor <- unique(c(receptor,receptor_anno))"
   ]
  },
  {
   "cell_type": "code",
   "execution_count": 177,
   "id": "d7e51de2",
   "metadata": {},
   "outputs": [],
   "source": [
    "subset_lr <- subset_lr[!subset_lr$Receptor %in% ligand,]"
   ]
  },
  {
   "cell_type": "code",
   "execution_count": 178,
   "id": "c79a4b81",
   "metadata": {},
   "outputs": [],
   "source": [
    "subset_lr <- subset_lr[!subset_lr$Ligand %in% receptor,]"
   ]
  },
  {
   "cell_type": "code",
   "execution_count": 179,
   "id": "e32b68e5",
   "metadata": {},
   "outputs": [],
   "source": [
    "dir <- subset_lr %>% filter(Pair.Name %in% subset_lr$dup & consensus_direction == 1)"
   ]
  },
  {
   "cell_type": "code",
   "execution_count": 180,
   "id": "c6d5da4a",
   "metadata": {},
   "outputs": [],
   "source": [
    "subset_lr <- subset_lr[!subset_lr$Pair.Name %in% dir$Pair.Name,  ]\n",
    "subset_lr <- subset_lr[!subset_lr$Pair.Name %in% dir$dup,  ]"
   ]
  },
  {
   "cell_type": "code",
   "execution_count": 181,
   "id": "41d949aa",
   "metadata": {},
   "outputs": [],
   "source": [
    "no_dir <- subset_lr %>% filter(Pair.Name %in% subset_lr$dup & consensus_direction == 0)"
   ]
  },
  {
   "cell_type": "code",
   "execution_count": 182,
   "id": "fe4630e5",
   "metadata": {},
   "outputs": [],
   "source": [
    "subset_lr <- subset_lr[!subset_lr$Pair.Name %in% no_dir$Pair.Name,  ] "
   ]
  },
  {
   "cell_type": "code",
   "execution_count": 183,
   "id": "edc7205d",
   "metadata": {},
   "outputs": [],
   "source": [
    "df <- data.frame(matrix(ncol = ncol(subset_lr), nrow = 0))\n",
    "x <- colnames(subset_lr)\n",
    "colnames(df) <- x"
   ]
  },
  {
   "cell_type": "code",
   "execution_count": 184,
   "id": "152498a0",
   "metadata": {},
   "outputs": [],
   "source": [
    "for (lig in unique(no_dir$Ligand)) {\n",
    "    vec_clean <- vector()\n",
    "    \n",
    "    r1 <- filter(no_dir, Ligand==lig | Receptor == lig)\n",
    "    \n",
    "    vec <- r1$Pair.Name\n",
    "    \n",
    "    for (component in vec) {\n",
    "        comp <- unlist(strsplit(component, split = \"_\"))\n",
    "        pair1 <- paste(comp[1], comp[2], sep = \"_\")\n",
    "        pair2 <- paste(comp[2], comp[1], sep = \"_\")\n",
    "        \n",
    "        if (!pair1 %in% vec_clean & !pair2 %in% vec_clean) {\n",
    "            vec_clean <- append(vec_clean, pair1)\n",
    "        }\n",
    "    }\n",
    "    \n",
    "    c1 <- r1[r1$Pair.Name %in% vec_clean,]\n",
    "    \n",
    "    df <- rbind(df,c1)\n",
    "}"
   ]
  },
  {
   "cell_type": "code",
   "execution_count": 185,
   "id": "c0bbc7c3",
   "metadata": {},
   "outputs": [],
   "source": [
    "no_dir_df <- df[!duplicated(df$Pair.Name),]"
   ]
  },
  {
   "cell_type": "code",
   "execution_count": 186,
   "id": "89ce36da",
   "metadata": {},
   "outputs": [],
   "source": [
    "subset_lr <- rbind(subset_lr,dir,no_dir_df)"
   ]
  },
  {
   "cell_type": "code",
   "execution_count": 187,
   "id": "3c5ab738",
   "metadata": {},
   "outputs": [],
   "source": [
    "LR_database <- rbind(subset_lr,LR_database)"
   ]
  },
  {
   "cell_type": "code",
   "execution_count": 188,
   "id": "6ff30e19",
   "metadata": {},
   "outputs": [],
   "source": [
    "rownames(LR_database) <- 1:nrow(LR_database) "
   ]
  },
  {
   "cell_type": "code",
   "execution_count": 193,
   "id": "bcda3df6",
   "metadata": {},
   "outputs": [],
   "source": [
    "save(LR_database, file = \"LR_database.rda\")"
   ]
  },
  {
   "cell_type": "code",
   "execution_count": null,
   "id": "ccac10aa",
   "metadata": {},
   "outputs": [],
   "source": []
  },
  {
   "cell_type": "code",
   "execution_count": 195,
   "id": "0d1e9014",
   "metadata": {},
   "outputs": [],
   "source": [
    "write.csv(LR_database, \"LR_database.csv\")"
   ]
  },
  {
   "cell_type": "code",
   "execution_count": 196,
   "id": "693b46eb",
   "metadata": {},
   "outputs": [
    {
     "data": {
      "text/html": [
       "'/home/mami/Maria/CommCompile/community_v3/community/data'"
      ],
      "text/latex": [
       "'/home/mami/Maria/CommCompile/community\\_v3/community/data'"
      ],
      "text/markdown": [
       "'/home/mami/Maria/CommCompile/community_v3/community/data'"
      ],
      "text/plain": [
       "[1] \"/home/mami/Maria/CommCompile/community_v3/community/data\""
      ]
     },
     "metadata": {},
     "output_type": "display_data"
    }
   ],
   "source": [
    "getwd()"
   ]
  },
  {
   "cell_type": "code",
   "execution_count": null,
   "id": "36b71257",
   "metadata": {},
   "outputs": [],
   "source": []
  }
 ],
 "metadata": {
  "kernelspec": {
   "display_name": "R",
   "language": "R",
   "name": "ir"
  },
  "language_info": {
   "codemirror_mode": "r",
   "file_extension": ".r",
   "mimetype": "text/x-r-source",
   "name": "R",
   "pygments_lexer": "r",
   "version": "4.1.2"
  }
 },
 "nbformat": 4,
 "nbformat_minor": 5
}
