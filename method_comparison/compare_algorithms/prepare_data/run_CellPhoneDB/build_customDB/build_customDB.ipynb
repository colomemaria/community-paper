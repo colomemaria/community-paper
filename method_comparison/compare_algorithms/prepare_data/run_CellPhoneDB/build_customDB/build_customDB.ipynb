{
 "cells": [
  {
   "cell_type": "markdown",
   "id": "732b5d23",
   "metadata": {},
   "source": [
    "# CellPhoneDB structure\n",
    "\n",
    "CellPhoneDB uses sql database, which is provided as .db, there are 6 tables, we extract these tables as csv. \n",
    "\n",
    "You can do it via sqlite tool, the below command extracts the gene_table and saves it as gene_table.csv\n",
    "\n",
    "```sqlite3 -header -csv cellphone_pre.db \"select * from gene_table;\" > gene_table.csv```\n",
    "\n",
    "Or you can use DB Browser for SQLite and, extract all the tables as csv through GUI. \n",
    "\n",
    "\n",
    "https://sqlitebrowser.org/\n",
    "\n",
    "## CellPhoneDB input files\n",
    "\n",
    "Adapted from \n",
    "\n",
    "Efremova, M., Vento-Tormo, M., Teichmann, S. A., & Vento-Tormo, R. (2020). CellPhoneDB: inferring cell-cell communication from combined expression of multi-subunit ligand-receptor complexes. Nature protocols, 15(4), 1484–1506. https://doi.org/10.1038/s41596-020-0292-x\n",
    "\n",
    "CellPhoneDB stores ligand-receptor interactions as well as other properties of the interacting\n",
    "partners, including their subunit architecture and gene and protein identifiers. In order to create\n",
    "the content of the database, four main .csv data files are required: “gene_input.csv”,\n",
    "“protein_input.csv”, “ complex_input.csv” and “interaction_input.csv”\n",
    "\n",
    "As we do not have complex (heteromeric) interactions in our database, we do not need this input. \n",
    "\n",
    "**gene_input:**\n",
    "\n",
    "Mandatory fields: `gene_name`, `uniprot`, `hgnc_symbol` and `ensembl`\n",
    "\n",
    "This file is crucial for establishing the link between the scRNA-seq data and the interaction pairs stored at the protein level. It includes the following gene and protein identifiers: i) gene\n",
    "name (“gene_name”); ii) UniProt identifier (“uniprot”); iiii) HUGO nomenclature committee\n",
    "symbol (HGNC) (“hgnc_symbol”) and iv) gene ensembl identifier (ENSG) (“ensembl”).\n",
    "\n",
    "**protein_input:**\n",
    "\n",
    "Mandatory fields: “uniprot”; “protein_name”\n",
    "Optional fields: “transmembrane”; “peripheral”; “secreted”; “secreted_desc”; “secreted_highlight”; “receptor”; “receptor_desc” ; “integrin”; “pfam”; “other”; “other_desc”; “tags”; “tags_ description”; “tags_reason”; “pfam”.\n",
    "\n",
    "However, since the interactions in our database has directionality while CellPhoneDB does not have, thus it is important to specify the role of the gene under the \"receptor\" column. \n",
    "\n",
    "**interaction_input:**\n",
    "\n",
    "Mandatory fields: “partner_a”; “partner_b”; “annotation_strategy”; “source”\n",
    "Optional fields: “protein_name_a”; “protein_name_b”\n",
    "\n",
    "Interactions stored in CellPhoneDB are annotated using their UniProt identifier (“partner_a” and\n",
    "“partner_b”). The name of the protein is also included, yet not mandatory (“protein_name_a”\n",
    "and “protein_name_b”). Protein names are not stored in the database.\n",
    "\n"
   ]
  },
  {
   "cell_type": "code",
   "execution_count": 1,
   "id": "aa3f38b3",
   "metadata": {},
   "outputs": [],
   "source": [
    "import pandas as pd\n",
    "import numpy as np\n",
    "# from unipressed import IdMappingClient"
   ]
  },
  {
   "cell_type": "code",
   "execution_count": null,
   "id": "f2986d83",
   "metadata": {},
   "outputs": [],
   "source": []
  },
  {
   "cell_type": "code",
   "execution_count": 2,
   "id": "11a6e428",
   "metadata": {},
   "outputs": [],
   "source": [
    "#list of intersaction pairs\n",
    "\n",
    "interactions = pd.read_csv (\"../../../compare_databases/compare_results/inputs/community_db.csv\", index_col=False)"
   ]
  },
  {
   "cell_type": "code",
   "execution_count": 3,
   "id": "8e0f4acc",
   "metadata": {},
   "outputs": [],
   "source": [
    "#CellPhoneDB is using protein_name_a and protein_name_b column names for genesymbols\n",
    "#in our version its Ligand and Receptor column\n",
    "# interactions.rename({'Ligand': 'protein_name_a', 'Receptor': 'protein_name_b'}, axis=1, inplace=True)"
   ]
  },
  {
   "cell_type": "code",
   "execution_count": 4,
   "id": "0b888f2c",
   "metadata": {},
   "outputs": [],
   "source": [
    "#CellPhoneDB mandatory fields to build a customDB\n",
    "# interactions[\"source\"]=\"OmniPath\""
   ]
  },
  {
   "cell_type": "code",
   "execution_count": 5,
   "id": "59ec26ed",
   "metadata": {},
   "outputs": [],
   "source": [
    "#CellphoneDB requires ENSEMBL IDs so we retrive it through UniProtIDs"
   ]
  },
  {
   "cell_type": "code",
   "execution_count": 6,
   "id": "194cdd0b",
   "metadata": {},
   "outputs": [
    {
     "data": {
      "text/html": [
       "<div>\n",
       "<style scoped>\n",
       "    .dataframe tbody tr th:only-of-type {\n",
       "        vertical-align: middle;\n",
       "    }\n",
       "\n",
       "    .dataframe tbody tr th {\n",
       "        vertical-align: top;\n",
       "    }\n",
       "\n",
       "    .dataframe thead th {\n",
       "        text-align: right;\n",
       "    }\n",
       "</style>\n",
       "<table border=\"1\" class=\"dataframe\">\n",
       "  <thead>\n",
       "    <tr style=\"text-align: right;\">\n",
       "      <th></th>\n",
       "      <th>Unnamed: 0</th>\n",
       "      <th>True_LR</th>\n",
       "      <th>Pair.Name</th>\n",
       "      <th>Ligand</th>\n",
       "      <th>Ligand.Name</th>\n",
       "      <th>Receptor</th>\n",
       "      <th>Receptor.Name</th>\n",
       "      <th>complex_pair</th>\n",
       "      <th>source</th>\n",
       "      <th>target</th>\n",
       "      <th>...</th>\n",
       "      <th>is_inhibition</th>\n",
       "      <th>consensus_direction</th>\n",
       "      <th>consensus_stimulation</th>\n",
       "      <th>consensus_inhibition</th>\n",
       "      <th>sources</th>\n",
       "      <th>references</th>\n",
       "      <th>curation_effort</th>\n",
       "      <th>n_references</th>\n",
       "      <th>n_resources</th>\n",
       "      <th>annotation_strategy</th>\n",
       "    </tr>\n",
       "  </thead>\n",
       "  <tbody>\n",
       "    <tr>\n",
       "      <th>0</th>\n",
       "      <td>1</td>\n",
       "      <td>True</td>\n",
       "      <td>S100A10_TRPV6</td>\n",
       "      <td>S100A10</td>\n",
       "      <td>S100 calcium binding protein A10</td>\n",
       "      <td>TRPV6</td>\n",
       "      <td>transient receptor potential cation channel su...</td>\n",
       "      <td>NaN</td>\n",
       "      <td>P60903</td>\n",
       "      <td>Q9H1D0</td>\n",
       "      <td>...</td>\n",
       "      <td>0</td>\n",
       "      <td>1</td>\n",
       "      <td>1</td>\n",
       "      <td>0</td>\n",
       "      <td>CellTalkDB;HPRD;TRIP</td>\n",
       "      <td>CellTalkDB:18187190;HPRD:12660155;TRIP:1266015...</td>\n",
       "      <td>5</td>\n",
       "      <td>3</td>\n",
       "      <td>3</td>\n",
       "      <td>both</td>\n",
       "    </tr>\n",
       "    <tr>\n",
       "      <th>1</th>\n",
       "      <td>2</td>\n",
       "      <td>True</td>\n",
       "      <td>JAG2_NOTCH1</td>\n",
       "      <td>JAG2</td>\n",
       "      <td>jagged canonical Notch ligand 2</td>\n",
       "      <td>NOTCH1</td>\n",
       "      <td>notch receptor 1</td>\n",
       "      <td>NaN</td>\n",
       "      <td>Q9Y219</td>\n",
       "      <td>P46531</td>\n",
       "      <td>...</td>\n",
       "      <td>1</td>\n",
       "      <td>1</td>\n",
       "      <td>1</td>\n",
       "      <td>0</td>\n",
       "      <td>Baccin2019;CellCall;CellChatDB;CellPhoneDB;Cel...</td>\n",
       "      <td>Baccin2019:1100613311006130;CellChatDB:2235346...</td>\n",
       "      <td>19</td>\n",
       "      <td>11</td>\n",
       "      <td>20</td>\n",
       "      <td>both</td>\n",
       "    </tr>\n",
       "    <tr>\n",
       "      <th>2</th>\n",
       "      <td>3</td>\n",
       "      <td>True</td>\n",
       "      <td>DLL1_NOTCH1</td>\n",
       "      <td>DLL1</td>\n",
       "      <td>delta like canonical Notch ligand 1</td>\n",
       "      <td>NOTCH1</td>\n",
       "      <td>notch receptor 1</td>\n",
       "      <td>NaN</td>\n",
       "      <td>O00548</td>\n",
       "      <td>P46531</td>\n",
       "      <td>...</td>\n",
       "      <td>0</td>\n",
       "      <td>1</td>\n",
       "      <td>1</td>\n",
       "      <td>0</td>\n",
       "      <td>Baccin2019;CellCall;CellChatDB;CellPhoneDB;Cel...</td>\n",
       "      <td>Baccin2019:1006133;Baccin2019:98194281;CellCha...</td>\n",
       "      <td>18</td>\n",
       "      <td>9</td>\n",
       "      <td>20</td>\n",
       "      <td>both</td>\n",
       "    </tr>\n",
       "    <tr>\n",
       "      <th>3</th>\n",
       "      <td>4</td>\n",
       "      <td>True</td>\n",
       "      <td>IGF1_IGF1R</td>\n",
       "      <td>IGF1</td>\n",
       "      <td>insulin like growth factor 1</td>\n",
       "      <td>IGF1R</td>\n",
       "      <td>insulin like growth factor 1 receptor</td>\n",
       "      <td>NaN</td>\n",
       "      <td>P05019</td>\n",
       "      <td>P08069</td>\n",
       "      <td>...</td>\n",
       "      <td>0</td>\n",
       "      <td>1</td>\n",
       "      <td>1</td>\n",
       "      <td>0</td>\n",
       "      <td>Baccin2019;CA1;CellCall;CellChatDB;CellPhoneDB...</td>\n",
       "      <td>Baccin2019:1852007;Baccin2019:2877871;CA1:8408...</td>\n",
       "      <td>27</td>\n",
       "      <td>15</td>\n",
       "      <td>26</td>\n",
       "      <td>both</td>\n",
       "    </tr>\n",
       "    <tr>\n",
       "      <th>4</th>\n",
       "      <td>5</td>\n",
       "      <td>True</td>\n",
       "      <td>JAG1_NOTCH1</td>\n",
       "      <td>JAG1</td>\n",
       "      <td>jagged canonical Notch ligand 1</td>\n",
       "      <td>NOTCH1</td>\n",
       "      <td>notch receptor 1</td>\n",
       "      <td>NaN</td>\n",
       "      <td>P78504</td>\n",
       "      <td>P46531</td>\n",
       "      <td>...</td>\n",
       "      <td>1</td>\n",
       "      <td>1</td>\n",
       "      <td>1</td>\n",
       "      <td>0</td>\n",
       "      <td>ACSN;Baccin2019;BioGRID;CellCall;CellChatDB;Ce...</td>\n",
       "      <td>ACSN:22330899;ACSN:22363130;Baccin2019:7697721...</td>\n",
       "      <td>36</td>\n",
       "      <td>20</td>\n",
       "      <td>27</td>\n",
       "      <td>both</td>\n",
       "    </tr>\n",
       "    <tr>\n",
       "      <th>...</th>\n",
       "      <td>...</td>\n",
       "      <td>...</td>\n",
       "      <td>...</td>\n",
       "      <td>...</td>\n",
       "      <td>...</td>\n",
       "      <td>...</td>\n",
       "      <td>...</td>\n",
       "      <td>...</td>\n",
       "      <td>...</td>\n",
       "      <td>...</td>\n",
       "      <td>...</td>\n",
       "      <td>...</td>\n",
       "      <td>...</td>\n",
       "      <td>...</td>\n",
       "      <td>...</td>\n",
       "      <td>...</td>\n",
       "      <td>...</td>\n",
       "      <td>...</td>\n",
       "      <td>...</td>\n",
       "      <td>...</td>\n",
       "      <td>...</td>\n",
       "    </tr>\n",
       "    <tr>\n",
       "      <th>6936</th>\n",
       "      <td>29501</td>\n",
       "      <td>False</td>\n",
       "      <td>FLT1_NRP1</td>\n",
       "      <td>FLT1</td>\n",
       "      <td>fms related receptor tyrosine kinase 1</td>\n",
       "      <td>NRP1</td>\n",
       "      <td>neuropilin 1</td>\n",
       "      <td>NRP1_FLT1_KDR</td>\n",
       "      <td>O14786</td>\n",
       "      <td>COMPLEX:P17948_P35968</td>\n",
       "      <td>...</td>\n",
       "      <td>0</td>\n",
       "      <td>1</td>\n",
       "      <td>1</td>\n",
       "      <td>0</td>\n",
       "      <td>CellChatDB-cofactors</td>\n",
       "      <td>NaN</td>\n",
       "      <td>0</td>\n",
       "      <td>0</td>\n",
       "      <td>1</td>\n",
       "      <td>LR</td>\n",
       "    </tr>\n",
       "    <tr>\n",
       "      <th>6937</th>\n",
       "      <td>29521</td>\n",
       "      <td>False</td>\n",
       "      <td>NRP2_KDR</td>\n",
       "      <td>NRP2</td>\n",
       "      <td>neuropilin 2</td>\n",
       "      <td>KDR</td>\n",
       "      <td>kinase insert domain receptor</td>\n",
       "      <td>NRP2_FLT1_KDR</td>\n",
       "      <td>O60462</td>\n",
       "      <td>COMPLEX:P17948_P35968</td>\n",
       "      <td>...</td>\n",
       "      <td>0</td>\n",
       "      <td>1</td>\n",
       "      <td>1</td>\n",
       "      <td>0</td>\n",
       "      <td>CellChatDB-cofactors</td>\n",
       "      <td>NaN</td>\n",
       "      <td>0</td>\n",
       "      <td>0</td>\n",
       "      <td>1</td>\n",
       "      <td>LR</td>\n",
       "    </tr>\n",
       "    <tr>\n",
       "      <th>6938</th>\n",
       "      <td>29531</td>\n",
       "      <td>False</td>\n",
       "      <td>FLT1_NRP2</td>\n",
       "      <td>FLT1</td>\n",
       "      <td>fms related receptor tyrosine kinase 1</td>\n",
       "      <td>NRP2</td>\n",
       "      <td>neuropilin 2</td>\n",
       "      <td>NRP2_FLT1_KDR</td>\n",
       "      <td>O60462</td>\n",
       "      <td>COMPLEX:P17948_P35968</td>\n",
       "      <td>...</td>\n",
       "      <td>0</td>\n",
       "      <td>1</td>\n",
       "      <td>1</td>\n",
       "      <td>0</td>\n",
       "      <td>CellChatDB-cofactors</td>\n",
       "      <td>NaN</td>\n",
       "      <td>0</td>\n",
       "      <td>0</td>\n",
       "      <td>1</td>\n",
       "      <td>LR</td>\n",
       "    </tr>\n",
       "    <tr>\n",
       "      <th>6939</th>\n",
       "      <td>29541</td>\n",
       "      <td>False</td>\n",
       "      <td>FLT4_NRP2</td>\n",
       "      <td>FLT4</td>\n",
       "      <td>fms related receptor tyrosine kinase 4</td>\n",
       "      <td>NRP2</td>\n",
       "      <td>neuropilin 2</td>\n",
       "      <td>NRP2_FLT4_KDR</td>\n",
       "      <td>O60462</td>\n",
       "      <td>COMPLEX:P35916_P35968</td>\n",
       "      <td>...</td>\n",
       "      <td>0</td>\n",
       "      <td>1</td>\n",
       "      <td>1</td>\n",
       "      <td>0</td>\n",
       "      <td>CellChatDB-cofactors</td>\n",
       "      <td>NaN</td>\n",
       "      <td>0</td>\n",
       "      <td>0</td>\n",
       "      <td>1</td>\n",
       "      <td>LR</td>\n",
       "    </tr>\n",
       "    <tr>\n",
       "      <th>6940</th>\n",
       "      <td>29551</td>\n",
       "      <td>False</td>\n",
       "      <td>LRP2_PTCH1</td>\n",
       "      <td>LRP2</td>\n",
       "      <td>LDL receptor related protein 2</td>\n",
       "      <td>PTCH1</td>\n",
       "      <td>patched 1</td>\n",
       "      <td>LRP2_PTCH1_SMO</td>\n",
       "      <td>P98164</td>\n",
       "      <td>COMPLEX:Q13635_Q99835</td>\n",
       "      <td>...</td>\n",
       "      <td>0</td>\n",
       "      <td>1</td>\n",
       "      <td>1</td>\n",
       "      <td>0</td>\n",
       "      <td>CellChatDB-cofactors</td>\n",
       "      <td>NaN</td>\n",
       "      <td>0</td>\n",
       "      <td>0</td>\n",
       "      <td>1</td>\n",
       "      <td>LR</td>\n",
       "    </tr>\n",
       "  </tbody>\n",
       "</table>\n",
       "<p>6941 rows × 22 columns</p>\n",
       "</div>"
      ],
      "text/plain": [
       "      Unnamed: 0  True_LR      Pair.Name   Ligand  \\\n",
       "0              1     True  S100A10_TRPV6  S100A10   \n",
       "1              2     True    JAG2_NOTCH1     JAG2   \n",
       "2              3     True    DLL1_NOTCH1     DLL1   \n",
       "3              4     True     IGF1_IGF1R     IGF1   \n",
       "4              5     True    JAG1_NOTCH1     JAG1   \n",
       "...          ...      ...            ...      ...   \n",
       "6936       29501    False      FLT1_NRP1     FLT1   \n",
       "6937       29521    False       NRP2_KDR     NRP2   \n",
       "6938       29531    False      FLT1_NRP2     FLT1   \n",
       "6939       29541    False      FLT4_NRP2     FLT4   \n",
       "6940       29551    False     LRP2_PTCH1     LRP2   \n",
       "\n",
       "                                 Ligand.Name Receptor  \\\n",
       "0           S100 calcium binding protein A10    TRPV6   \n",
       "1            jagged canonical Notch ligand 2   NOTCH1   \n",
       "2        delta like canonical Notch ligand 1   NOTCH1   \n",
       "3               insulin like growth factor 1    IGF1R   \n",
       "4            jagged canonical Notch ligand 1   NOTCH1   \n",
       "...                                      ...      ...   \n",
       "6936  fms related receptor tyrosine kinase 1     NRP1   \n",
       "6937                            neuropilin 2      KDR   \n",
       "6938  fms related receptor tyrosine kinase 1     NRP2   \n",
       "6939  fms related receptor tyrosine kinase 4     NRP2   \n",
       "6940          LDL receptor related protein 2    PTCH1   \n",
       "\n",
       "                                          Receptor.Name    complex_pair  \\\n",
       "0     transient receptor potential cation channel su...             NaN   \n",
       "1                                      notch receptor 1             NaN   \n",
       "2                                      notch receptor 1             NaN   \n",
       "3                 insulin like growth factor 1 receptor             NaN   \n",
       "4                                      notch receptor 1             NaN   \n",
       "...                                                 ...             ...   \n",
       "6936                                       neuropilin 1   NRP1_FLT1_KDR   \n",
       "6937                      kinase insert domain receptor   NRP2_FLT1_KDR   \n",
       "6938                                       neuropilin 2   NRP2_FLT1_KDR   \n",
       "6939                                       neuropilin 2   NRP2_FLT4_KDR   \n",
       "6940                                          patched 1  LRP2_PTCH1_SMO   \n",
       "\n",
       "      source                 target  ...  is_inhibition  consensus_direction  \\\n",
       "0     P60903                 Q9H1D0  ...              0                    1   \n",
       "1     Q9Y219                 P46531  ...              1                    1   \n",
       "2     O00548                 P46531  ...              0                    1   \n",
       "3     P05019                 P08069  ...              0                    1   \n",
       "4     P78504                 P46531  ...              1                    1   \n",
       "...      ...                    ...  ...            ...                  ...   \n",
       "6936  O14786  COMPLEX:P17948_P35968  ...              0                    1   \n",
       "6937  O60462  COMPLEX:P17948_P35968  ...              0                    1   \n",
       "6938  O60462  COMPLEX:P17948_P35968  ...              0                    1   \n",
       "6939  O60462  COMPLEX:P35916_P35968  ...              0                    1   \n",
       "6940  P98164  COMPLEX:Q13635_Q99835  ...              0                    1   \n",
       "\n",
       "      consensus_stimulation  consensus_inhibition  \\\n",
       "0                         1                     0   \n",
       "1                         1                     0   \n",
       "2                         1                     0   \n",
       "3                         1                     0   \n",
       "4                         1                     0   \n",
       "...                     ...                   ...   \n",
       "6936                      1                     0   \n",
       "6937                      1                     0   \n",
       "6938                      1                     0   \n",
       "6939                      1                     0   \n",
       "6940                      1                     0   \n",
       "\n",
       "                                                sources  \\\n",
       "0                                  CellTalkDB;HPRD;TRIP   \n",
       "1     Baccin2019;CellCall;CellChatDB;CellPhoneDB;Cel...   \n",
       "2     Baccin2019;CellCall;CellChatDB;CellPhoneDB;Cel...   \n",
       "3     Baccin2019;CA1;CellCall;CellChatDB;CellPhoneDB...   \n",
       "4     ACSN;Baccin2019;BioGRID;CellCall;CellChatDB;Ce...   \n",
       "...                                                 ...   \n",
       "6936                               CellChatDB-cofactors   \n",
       "6937                               CellChatDB-cofactors   \n",
       "6938                               CellChatDB-cofactors   \n",
       "6939                               CellChatDB-cofactors   \n",
       "6940                               CellChatDB-cofactors   \n",
       "\n",
       "                                             references curation_effort  \\\n",
       "0     CellTalkDB:18187190;HPRD:12660155;TRIP:1266015...               5   \n",
       "1     Baccin2019:1100613311006130;CellChatDB:2235346...              19   \n",
       "2     Baccin2019:1006133;Baccin2019:98194281;CellCha...              18   \n",
       "3     Baccin2019:1852007;Baccin2019:2877871;CA1:8408...              27   \n",
       "4     ACSN:22330899;ACSN:22363130;Baccin2019:7697721...              36   \n",
       "...                                                 ...             ...   \n",
       "6936                                                NaN               0   \n",
       "6937                                                NaN               0   \n",
       "6938                                                NaN               0   \n",
       "6939                                                NaN               0   \n",
       "6940                                                NaN               0   \n",
       "\n",
       "     n_references  n_resources  annotation_strategy  \n",
       "0               3            3                 both  \n",
       "1              11           20                 both  \n",
       "2               9           20                 both  \n",
       "3              15           26                 both  \n",
       "4              20           27                 both  \n",
       "...           ...          ...                  ...  \n",
       "6936            0            1                   LR  \n",
       "6937            0            1                   LR  \n",
       "6938            0            1                   LR  \n",
       "6939            0            1                   LR  \n",
       "6940            0            1                   LR  \n",
       "\n",
       "[6941 rows x 22 columns]"
      ]
     },
     "execution_count": 6,
     "metadata": {},
     "output_type": "execute_result"
    }
   ],
   "source": [
    "interactions"
   ]
  },
  {
   "cell_type": "code",
   "execution_count": 7,
   "id": "6ac7037d",
   "metadata": {},
   "outputs": [],
   "source": [
    "ligand_names=list(set(interactions[\"Ligand\"].values))"
   ]
  },
  {
   "cell_type": "code",
   "execution_count": 8,
   "id": "0b67dd3a",
   "metadata": {},
   "outputs": [],
   "source": [
    "# get UniProtIDs"
   ]
  },
  {
   "cell_type": "code",
   "execution_count": 9,
   "id": "3f6e6200",
   "metadata": {},
   "outputs": [],
   "source": [
    "from unipressed import IdMappingClient\n",
    "import time\n",
    "request = IdMappingClient.submit(\n",
    "    source=\"GeneCards\", dest=\"UniProtKB\", ids=ligand_names\n",
    ")\n",
    "time.sleep(2.0)\n",
    "# list(request.each_result())"
   ]
  },
  {
   "cell_type": "code",
   "execution_count": 10,
   "id": "3f217840",
   "metadata": {},
   "outputs": [],
   "source": [
    "ligand_uniprot=list(request.each_result())"
   ]
  },
  {
   "cell_type": "code",
   "execution_count": 11,
   "id": "5ef108ad",
   "metadata": {},
   "outputs": [],
   "source": [
    "ligand_uniprot = {x['from']: x['to'] for x in ligand_uniprot}"
   ]
  },
  {
   "cell_type": "code",
   "execution_count": 12,
   "id": "f99c5326",
   "metadata": {},
   "outputs": [],
   "source": [
    "for x in ligand_uniprot.keys():\n",
    "    if x.startswith(\"n\"):\n",
    "        print(x)\n",
    "        "
   ]
  },
  {
   "cell_type": "code",
   "execution_count": 50,
   "id": "ed02231e",
   "metadata": {},
   "outputs": [],
   "source": [
    "for x in ligand_names: \n",
    "    if x not in ligand_uniprot.keys():\n",
    "        print(x)"
   ]
  },
  {
   "cell_type": "code",
   "execution_count": 14,
   "id": "e47a311f",
   "metadata": {},
   "outputs": [],
   "source": [
    "ligand_manual_map_uniprot = {\"GGT2\":\"P36268\", \"GPR15L\":\"Q6UWK7\", \"FAM126B\":\"Q8IXS8\", \n",
    "                             \"C1orf112\":\"Q9NSG2\",\"C1orf194\":\"Q5T5A4\"}"
   ]
  },
  {
   "cell_type": "code",
   "execution_count": 15,
   "id": "6cbe1faa",
   "metadata": {},
   "outputs": [],
   "source": [
    "ligand_uniprot.update(ligand_manual_map_uniprot)"
   ]
  },
  {
   "cell_type": "code",
   "execution_count": null,
   "id": "28d4830b",
   "metadata": {},
   "outputs": [],
   "source": []
  },
  {
   "cell_type": "code",
   "execution_count": 16,
   "id": "fc495dda",
   "metadata": {},
   "outputs": [],
   "source": [
    "# ligand_uniprot = [d['to'] for d in ligand_uniprot]"
   ]
  },
  {
   "cell_type": "code",
   "execution_count": 17,
   "id": "eaa7741c",
   "metadata": {},
   "outputs": [],
   "source": [
    "#Get EsemblIDs"
   ]
  },
  {
   "cell_type": "code",
   "execution_count": null,
   "id": "9e67c2ad",
   "metadata": {},
   "outputs": [],
   "source": []
  },
  {
   "cell_type": "code",
   "execution_count": 18,
   "id": "48a61205",
   "metadata": {},
   "outputs": [],
   "source": [
    "from unipressed import IdMappingClient\n",
    "import time\n",
    "request = IdMappingClient.submit(\n",
    "    source=\"UniProtKB_AC-ID\", dest=\"Ensembl\", ids=ligand_uniprot.values()\n",
    ")\n",
    "time.sleep(2.0)"
   ]
  },
  {
   "cell_type": "code",
   "execution_count": 19,
   "id": "d28b9f95",
   "metadata": {},
   "outputs": [],
   "source": [
    "ligand_ensembl=list(request.each_result())"
   ]
  },
  {
   "cell_type": "code",
   "execution_count": 20,
   "id": "56fdb03b",
   "metadata": {},
   "outputs": [],
   "source": [
    "ligand_ensembl = {x['from']: x['to'] for x in ligand_ensembl}"
   ]
  },
  {
   "cell_type": "code",
   "execution_count": 21,
   "id": "dd8121fc",
   "metadata": {},
   "outputs": [],
   "source": [
    "# #flatten it in dictionary key: UniProtID, value: ENSEMBL\n",
    "# ligand_dict=dict()\n",
    "# for x in ligand_ensembl:\n",
    "#     ligand_dict[x[\"from\"]]=x[\"to\"]"
   ]
  },
  {
   "cell_type": "code",
   "execution_count": null,
   "id": "41bb55ec",
   "metadata": {},
   "outputs": [],
   "source": []
  },
  {
   "cell_type": "code",
   "execution_count": 22,
   "id": "2ff24b6d",
   "metadata": {},
   "outputs": [],
   "source": [
    "# some uniprot IDs do not have ENSEMBL, so we mock for those\n",
    "count=1\n",
    "for x in ligand_uniprot.values():\n",
    "    if x not in ligand_ensembl.keys():\n",
    "#         print(x)\n",
    "        ligand_ensembl[x]=\"ENSG000000000\"+str(count)\n",
    "        count+=1"
   ]
  },
  {
   "cell_type": "code",
   "execution_count": null,
   "id": "b96ae549",
   "metadata": {},
   "outputs": [],
   "source": []
  },
  {
   "cell_type": "code",
   "execution_count": 23,
   "id": "9c5ef6ba",
   "metadata": {},
   "outputs": [],
   "source": [
    "#do the same for receptor\n",
    "receptor_names=list(set(interactions[\"Receptor\"].values))"
   ]
  },
  {
   "cell_type": "code",
   "execution_count": null,
   "id": "7d8b69d5",
   "metadata": {},
   "outputs": [],
   "source": []
  },
  {
   "cell_type": "code",
   "execution_count": 24,
   "id": "5987c6eb",
   "metadata": {},
   "outputs": [],
   "source": [
    "from unipressed import IdMappingClient\n",
    "import time\n",
    "request = IdMappingClient.submit(\n",
    "    source=\"GeneCards\", dest=\"UniProtKB\", ids=receptor_names\n",
    ")\n",
    "time.sleep(2.0)\n",
    "# list(request.each_result())"
   ]
  },
  {
   "cell_type": "code",
   "execution_count": 25,
   "id": "5f554b1d",
   "metadata": {},
   "outputs": [],
   "source": [
    "receptor_uniprot=list(request.each_result())\n",
    "receptor_uniprot = {x['from']: x['to'] for x in receptor_uniprot}"
   ]
  },
  {
   "cell_type": "code",
   "execution_count": 26,
   "id": "a3ad4316",
   "metadata": {},
   "outputs": [
    {
     "name": "stdout",
     "output_type": "stream",
     "text": [
      "HIDE1\n"
     ]
    }
   ],
   "source": [
    "for x in receptor_names: \n",
    "    if x not in receptor_uniprot.keys():\n",
    "        print(x)"
   ]
  },
  {
   "cell_type": "code",
   "execution_count": null,
   "id": "cf77a4ac",
   "metadata": {},
   "outputs": [],
   "source": []
  },
  {
   "cell_type": "code",
   "execution_count": 27,
   "id": "108da22c",
   "metadata": {},
   "outputs": [],
   "source": [
    "receptor_uniprot.update({\"HIDE1\":\"A8MVS5\"})"
   ]
  },
  {
   "cell_type": "code",
   "execution_count": null,
   "id": "07d99c71",
   "metadata": {},
   "outputs": [],
   "source": []
  },
  {
   "cell_type": "code",
   "execution_count": 28,
   "id": "3a568294",
   "metadata": {},
   "outputs": [],
   "source": [
    "from unipressed import IdMappingClient\n",
    "import time\n",
    "request = IdMappingClient.submit(\n",
    "    source=\"UniProtKB_AC-ID\", dest=\"Ensembl\", ids=receptor_uniprot.values()\n",
    ")\n",
    "time.sleep(2.0)"
   ]
  },
  {
   "cell_type": "code",
   "execution_count": 29,
   "id": "917cd603",
   "metadata": {},
   "outputs": [],
   "source": [
    "receptor_ensembl=list(request.each_result())\n",
    "receptor_ensembl = {x['from']: x['to'] for x in receptor_ensembl}"
   ]
  },
  {
   "cell_type": "code",
   "execution_count": 30,
   "id": "e1c7b506",
   "metadata": {},
   "outputs": [],
   "source": [
    "#flatten it in dictionary key: UniProtID, value: ENSEMBL\n",
    "# receptor_dict=dict()\n",
    "# for x in receptor_ensembl:\n",
    "#     receptor_dict[x[\"from\"]]=x[\"to\"]"
   ]
  },
  {
   "cell_type": "code",
   "execution_count": null,
   "id": "20d2caa4",
   "metadata": {},
   "outputs": [],
   "source": []
  },
  {
   "cell_type": "code",
   "execution_count": 31,
   "id": "897ad69d",
   "metadata": {},
   "outputs": [],
   "source": [
    "# some uniprot IDs do not have ENSEMBL, so we mock for those\n",
    "count=1\n",
    "for x in receptor_uniprot.values():\n",
    "    if x not in receptor_ensembl.keys():\n",
    "#         print(x)\n",
    "        receptor_ensembl[x]=\"ENSG000000000\"+str(count)\n",
    "        count+=1"
   ]
  },
  {
   "cell_type": "code",
   "execution_count": 51,
   "id": "115340f7",
   "metadata": {},
   "outputs": [
    {
     "data": {
      "text/plain": [
       "'/home/mami/server/polish/community-paper/src/method_comparison/compare_algorithms/run_CellPhoneDB/build_customDB'"
      ]
     },
     "execution_count": 51,
     "metadata": {},
     "output_type": "execute_result"
    }
   ],
   "source": [
    "pwd"
   ]
  },
  {
   "cell_type": "code",
   "execution_count": 32,
   "id": "dde42d98",
   "metadata": {},
   "outputs": [],
   "source": [
    "uniprot_to_ensembl = dict()\n",
    "uniprot_to_ensembl.update(receptor_ensembl) \n",
    "uniprot_to_ensembl.update(ligand_ensembl)"
   ]
  },
  {
   "cell_type": "code",
   "execution_count": 33,
   "id": "47dca2ea",
   "metadata": {},
   "outputs": [],
   "source": [
    "gene_to_uniprot = dict()\n",
    "gene_to_uniprot.update(receptor_uniprot) \n",
    "gene_to_uniprot.update(ligand_uniprot)"
   ]
  },
  {
   "cell_type": "code",
   "execution_count": 34,
   "id": "8557cbfd",
   "metadata": {},
   "outputs": [],
   "source": [
    "# # dictionary with genesymbols and uniprotIDs\n",
    "# name2id=dict()\n",
    "# for x in range(0,len(interactions)):\n",
    "#     if interactions.iloc[x].Ligand in name2id and interactions.iloc[x].Receptor in name2id:\n",
    "#         continue\n",
    "#     else:\n",
    "# #         name2id[interactions.iloc[x].protein_name_a]=interactions.iloc[x].partner_a\n",
    "# #         name2id[interactions.iloc[x].protein_name_b]=interactions.iloc[x].partner_b"
   ]
  },
  {
   "cell_type": "code",
   "execution_count": 35,
   "id": "caa11618",
   "metadata": {},
   "outputs": [],
   "source": [
    "#CPDB requires a file csv to generate custom DB, with genesymbol, uniprot and ensembl IDS\n",
    "df={\"gene_name\":[],\n",
    "   \"uniprot\":[],\n",
    "   \"hgnc_symbol\":[],\n",
    "   \"ensembl\":[]}"
   ]
  },
  {
   "cell_type": "code",
   "execution_count": null,
   "id": "2cdc73f4",
   "metadata": {},
   "outputs": [],
   "source": []
  },
  {
   "cell_type": "code",
   "execution_count": 36,
   "id": "8cc13ccb",
   "metadata": {},
   "outputs": [],
   "source": [
    "for symbol,uniprot in gene_to_uniprot.items():\n",
    "    df[\"gene_name\"].append(symbol)\n",
    "    df[\"uniprot\"].append(uniprot)\n",
    "    df[\"hgnc_symbol\"].append(symbol)\n",
    "    df[\"ensembl\"].append(uniprot_to_ensembl[uniprot])"
   ]
  },
  {
   "cell_type": "code",
   "execution_count": null,
   "id": "5f9012ad",
   "metadata": {},
   "outputs": [],
   "source": []
  },
  {
   "cell_type": "code",
   "execution_count": 37,
   "id": "b1ca00e8",
   "metadata": {},
   "outputs": [],
   "source": [
    "df=pd.DataFrame(df)"
   ]
  },
  {
   "cell_type": "code",
   "execution_count": 38,
   "id": "647ae4c8",
   "metadata": {},
   "outputs": [],
   "source": [
    "#no need versions\n",
    "df[\"ensembl\"] = df[\"ensembl\"].str.split(\".\").str[0]"
   ]
  },
  {
   "cell_type": "code",
   "execution_count": null,
   "id": "d7a7581f",
   "metadata": {},
   "outputs": [],
   "source": []
  },
  {
   "cell_type": "code",
   "execution_count": 39,
   "id": "528c5b51",
   "metadata": {},
   "outputs": [],
   "source": [
    "#CPDB requires another file with uniprot and genesymbols\n",
    "prot = df.loc[:, [\"uniprot\", \"hgnc_symbol\"]]"
   ]
  },
  {
   "cell_type": "code",
   "execution_count": 40,
   "id": "6a9e5485",
   "metadata": {},
   "outputs": [],
   "source": [
    "prot[\"hgnc_symbol\"] = df[\"hgnc_symbol\"] + \"_HUMAN\""
   ]
  },
  {
   "cell_type": "code",
   "execution_count": 41,
   "id": "9cfb3d50",
   "metadata": {},
   "outputs": [],
   "source": [
    "#the column name must be protein_name in this one\n",
    "prot = prot.rename(columns={\"hgnc_symbol\": \"protein_name\"})"
   ]
  },
  {
   "cell_type": "code",
   "execution_count": null,
   "id": "683b0111",
   "metadata": {},
   "outputs": [],
   "source": []
  },
  {
   "cell_type": "code",
   "execution_count": 42,
   "id": "205222ed",
   "metadata": {},
   "outputs": [],
   "source": [
    "#tag the ones that are receptors\n",
    "prot['receptor']=[1 if uniprot in interactions['Receptor'].values else 0 for uniprot in prot['uniprot']]"
   ]
  },
  {
   "cell_type": "code",
   "execution_count": 43,
   "id": "f94d8aa6",
   "metadata": {},
   "outputs": [
    {
     "data": {
      "text/html": [
       "<div>\n",
       "<style scoped>\n",
       "    .dataframe tbody tr th:only-of-type {\n",
       "        vertical-align: middle;\n",
       "    }\n",
       "\n",
       "    .dataframe tbody tr th {\n",
       "        vertical-align: top;\n",
       "    }\n",
       "\n",
       "    .dataframe thead th {\n",
       "        text-align: right;\n",
       "    }\n",
       "</style>\n",
       "<table border=\"1\" class=\"dataframe\">\n",
       "  <thead>\n",
       "    <tr style=\"text-align: right;\">\n",
       "      <th></th>\n",
       "      <th>gene_name</th>\n",
       "      <th>uniprot</th>\n",
       "      <th>hgnc_symbol</th>\n",
       "      <th>ensembl</th>\n",
       "    </tr>\n",
       "  </thead>\n",
       "  <tbody>\n",
       "    <tr>\n",
       "      <th>1739</th>\n",
       "      <td>PIK3CD</td>\n",
       "      <td>O00329</td>\n",
       "      <td>PIK3CD</td>\n",
       "      <td>ENSG00000171608</td>\n",
       "    </tr>\n",
       "  </tbody>\n",
       "</table>\n",
       "</div>"
      ],
      "text/plain": [
       "     gene_name uniprot hgnc_symbol          ensembl\n",
       "1739    PIK3CD  O00329      PIK3CD  ENSG00000171608"
      ]
     },
     "execution_count": 43,
     "metadata": {},
     "output_type": "execute_result"
    }
   ],
   "source": [
    "df[df[\"gene_name\"]==\"PIK3CD\"]"
   ]
  },
  {
   "cell_type": "code",
   "execution_count": 44,
   "id": "1d5b51e6",
   "metadata": {},
   "outputs": [],
   "source": [
    "# prot['other']=1\n",
    "# prot['peripheral']=1\n",
    "# prot['secreted']=1\n",
    "# prot['integrin']=1\n",
    "# prot['transmembrane']=1\n",
    "# prot['tags']=\"To_comment\"\n",
    "# prot['tags_reason']=\"curation\"\n",
    "# prot['secreted_highlight']=1"
   ]
  },
  {
   "cell_type": "code",
   "execution_count": 45,
   "id": "9dc90390",
   "metadata": {},
   "outputs": [],
   "source": [
    "# combined = interactions.copy()"
   ]
  },
  {
   "cell_type": "code",
   "execution_count": 46,
   "id": "942964a5",
   "metadata": {},
   "outputs": [],
   "source": [
    "# Add UniProt IDs as new columns\n",
    "interactions['partner_a'] = interactions['Ligand'].map(gene_to_uniprot)\n",
    "interactions['partner_b'] = interactions['Receptor'].map(gene_to_uniprot)"
   ]
  },
  {
   "cell_type": "code",
   "execution_count": 47,
   "id": "265f1e2e",
   "metadata": {},
   "outputs": [],
   "source": [
    "interactions[\"source\"] = \"community\""
   ]
  },
  {
   "cell_type": "code",
   "execution_count": 49,
   "id": "f7a840a5",
   "metadata": {},
   "outputs": [],
   "source": [
    "#write those to a file\n",
    "df.to_csv('gene_user.csv', index=False)\n",
    "prot.to_csv('prot_user.csv', index=False)\n",
    "interactions.to_csv('interactions.csv', index=False)\n",
    "combined = interactions.copy()"
   ]
  },
  {
   "cell_type": "markdown",
   "id": "c32e74e9",
   "metadata": {},
   "source": [
    "# generate custom DB with the below command\n",
    "\n",
    "```cellphonedb database generate --user-interactions interactions.csv --user-interactions-only --user-protein prot_user.csv --user-gene gene_user.csv --result-path CPDB_Custom```"
   ]
  },
  {
   "cell_type": "code",
   "execution_count": null,
   "id": "5983f426",
   "metadata": {},
   "outputs": [],
   "source": []
  },
  {
   "cell_type": "code",
   "execution_count": null,
   "id": "42f26a0d",
   "metadata": {},
   "outputs": [],
   "source": []
  }
 ],
 "metadata": {
  "kernelspec": {
   "display_name": "Python 3 (ipykernel)",
   "language": "python",
   "name": "python3"
  },
  "language_info": {
   "codemirror_mode": {
    "name": "ipython",
    "version": 3
   },
   "file_extension": ".py",
   "mimetype": "text/x-python",
   "name": "python",
   "nbconvert_exporter": "python",
   "pygments_lexer": "ipython3",
   "version": "3.10.12"
  }
 },
 "nbformat": 4,
 "nbformat_minor": 5
}
